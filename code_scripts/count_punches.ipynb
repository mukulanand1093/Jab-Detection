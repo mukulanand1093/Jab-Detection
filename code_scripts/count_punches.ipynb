{
  "nbformat": 4,
  "nbformat_minor": 0,
  "metadata": {
    "colab": {
      "provenance": []
    },
    "kernelspec": {
      "name": "python3",
      "display_name": "Python 3"
    },
    "language_info": {
      "name": "python"
    }
  },
  "cells": [
    {
      "cell_type": "code",
      "execution_count": 1,
      "metadata": {
        "colab": {
          "base_uri": "https://localhost:8080/"
        },
        "id": "lbOP4Oz3yPPv",
        "outputId": "7cfbf4dc-037f-4eed-e79d-ede8e52f3b81"
      },
      "outputs": [
        {
          "output_type": "stream",
          "name": "stdout",
          "text": [
            "Drive already mounted at /content/drive; to attempt to forcibly remount, call drive.mount(\"/content/drive\", force_remount=True).\n"
          ]
        }
      ],
      "source": [
        "from google.colab import drive\n",
        "drive.mount('/content/drive')"
      ]
    },
    {
      "cell_type": "code",
      "source": [
        "!apt install tesseract-ocr"
      ],
      "metadata": {
        "colab": {
          "base_uri": "https://localhost:8080/"
        },
        "id": "aqPi3L0N03Oh",
        "outputId": "26606a4e-74de-404b-bad6-82aba2e20e28"
      },
      "execution_count": 5,
      "outputs": [
        {
          "output_type": "stream",
          "name": "stdout",
          "text": [
            "Reading package lists... Done\n",
            "Building dependency tree... Done\n",
            "Reading state information... Done\n",
            "tesseract-ocr is already the newest version (4.1.1-2.1build1).\n",
            "0 upgraded, 0 newly installed, 0 to remove and 49 not upgraded.\n"
          ]
        }
      ]
    },
    {
      "cell_type": "code",
      "source": [
        "!pip install pytesseract"
      ],
      "metadata": {
        "colab": {
          "base_uri": "https://localhost:8080/"
        },
        "id": "Uo8hIlO4YcdE",
        "outputId": "27cbf75e-f728-4e68-a26d-5cf34b7fc5f2"
      },
      "execution_count": 7,
      "outputs": [
        {
          "output_type": "stream",
          "name": "stdout",
          "text": [
            "Collecting pytesseract\n",
            "  Using cached pytesseract-0.3.13-py3-none-any.whl.metadata (11 kB)\n",
            "Requirement already satisfied: packaging>=21.3 in /usr/local/lib/python3.10/dist-packages (from pytesseract) (24.2)\n",
            "Requirement already satisfied: Pillow>=8.0.0 in /usr/local/lib/python3.10/dist-packages (from pytesseract) (11.0.0)\n",
            "Using cached pytesseract-0.3.13-py3-none-any.whl (14 kB)\n",
            "Installing collected packages: pytesseract\n",
            "Successfully installed pytesseract-0.3.13\n"
          ]
        }
      ]
    },
    {
      "cell_type": "code",
      "source": [
        "import cv2\n",
        "import pytesseract\n",
        "import numpy as np\n",
        "from PIL import Image\n"
      ],
      "metadata": {
        "id": "-v0PZC3kyVEt"
      },
      "execution_count": 8,
      "outputs": []
    },
    {
      "cell_type": "code",
      "source": [
        "\n",
        "# Ensure Tesseract is in your PATH, or provide the direct path here\n",
        "pytesseract.pytesseract.tesseract_cmd = r'/bin/tesseract'\n",
        "\n"
      ],
      "metadata": {
        "id": "cKZouEv4yVIs"
      },
      "execution_count": 9,
      "outputs": []
    },
    {
      "cell_type": "code",
      "source": [
        "def extract_frames(video_path):\n",
        "    cap = cv2.VideoCapture(video_path)\n",
        "    frames = []\n",
        "    while cap.isOpened():\n",
        "        ret, frame = cap.read()\n",
        "        if not ret:\n",
        "            break\n",
        "        frames.append(frame)\n",
        "    cap.release()\n",
        "    return frames\n"
      ],
      "metadata": {
        "id": "u1tSYFjrzELN"
      },
      "execution_count": 10,
      "outputs": []
    },
    {
      "cell_type": "code",
      "source": [
        "\n",
        "def extract_probability_via_ocr(frame):\n",
        "    # Pre-processing for better OCR results (optional, adjust as needed)\n",
        "    gray = cv2.cvtColor(frame, cv2.COLOR_BGR2GRAY)\n",
        "    _, thresh = cv2.threshold(gray, 0, 255, cv2.THRESH_BINARY + cv2.THRESH_OTSU)\n",
        "\n",
        "    # Assuming probabilities are displayed in a consistent, readable font\n",
        "    probability_text = pytesseract.image_to_string(thresh, config='--psm 11')\n",
        "\n",
        "    # Basic parsing to extract probability values (adjust based on actual text output)\n",
        "    import re\n",
        "    probabilities = [float(match) for match in re.findall(r\"(\\d\\.\\d+)\", probability_text)]\n",
        "\n",
        "    return probabilities\n"
      ],
      "metadata": {
        "id": "LWUHfxLYzJIY"
      },
      "execution_count": 11,
      "outputs": []
    },
    {
      "cell_type": "code",
      "source": [
        "\n",
        "# Load Video\n",
        "video_path = '/content/drive/MyDrive/punches/yolov10/runs/detect/predict2/test2.avi'\n",
        "frames = extract_frames(video_path)\n"
      ],
      "metadata": {
        "id": "68WSxiwuzPAg"
      },
      "execution_count": null,
      "outputs": []
    },
    {
      "cell_type": "code",
      "source": [
        "\n",
        "# Example: Extract and Print Probabilities for the First Few Frames\n",
        "for i, frame in enumerate(frames[:10]):\n",
        "    probabilities = extract_probability_via_ocr(frame)\n",
        "    print(f\"Frame {i+1} Probabilities: {probabilities}\")"
      ],
      "metadata": {
        "id": "LyAutZunzdEL"
      },
      "execution_count": null,
      "outputs": []
    },
    {
      "cell_type": "code",
      "source": [
        "def analyze_consecutive_frames(frames, threshold=0.5, consecutive_frames_required=3):\n",
        "    count_instances = 0\n",
        "    in_sequence = False\n",
        "    sequence_length = 0\n",
        "\n",
        "    for frame in frames:\n",
        "        probabilities = extract_probability_via_ocr(frame)\n",
        "        frame_meets_threshold = any(probability >= threshold for probability in probabilities)\n",
        "\n",
        "        if frame_meets_threshold:\n",
        "            if not in_sequence:\n",
        "                in_sequence = True\n",
        "                sequence_length = 1\n",
        "            else:\n",
        "                sequence_length += 1\n",
        "        else:\n",
        "            if in_sequence and sequence_length >= consecutive_frames_required:\n",
        "                count_instances += 1\n",
        "            in_sequence = False\n",
        "            sequence_length = 0\n",
        "\n",
        "    # Check the last sequence\n",
        "    if in_sequence and sequence_length >= consecutive_frames_required:\n",
        "        count_instances += 1\n",
        "\n",
        "    return count_instances\n",
        "\n"
      ],
      "metadata": {
        "id": "YHWXtu5Lzh3N"
      },
      "execution_count": null,
      "outputs": []
    },
    {
      "cell_type": "code",
      "source": [
        "# Execute Analysis\n",
        "instances_count = analyze_consecutive_frames(frames)\n",
        "print(f\"Instances with 3+ consecutive frames above 50% probability: {instances_count}\")"
      ],
      "metadata": {
        "id": "9Mygr1mf3IZL"
      },
      "execution_count": null,
      "outputs": []
    },
    {
      "cell_type": "code",
      "source": [],
      "metadata": {
        "id": "MVSkFyoz3OXZ"
      },
      "execution_count": null,
      "outputs": []
    }
  ]
}