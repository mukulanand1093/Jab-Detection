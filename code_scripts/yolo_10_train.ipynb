{
  "nbformat": 4,
  "nbformat_minor": 0,
  "metadata": {
    "colab": {
      "provenance": [],
      "gpuType": "T4"
    },
    "kernelspec": {
      "name": "python3",
      "display_name": "Python 3"
    },
    "language_info": {
      "name": "python"
    },
    "accelerator": "GPU"
  },
  "cells": [
    {
      "cell_type": "code",
      "source": [
        "from google.colab import drive\n",
        "drive.mount('/content/drive')"
      ],
      "metadata": {
        "colab": {
          "base_uri": "https://localhost:8080/"
        },
        "id": "zkaWtfH-9ofJ",
        "outputId": "9d736e53-35d3-4fb0-92e1-af6e03c0ca45"
      },
      "execution_count": 5,
      "outputs": [
        {
          "output_type": "stream",
          "name": "stdout",
          "text": [
            "Drive already mounted at /content/drive; to attempt to forcibly remount, call drive.mount(\"/content/drive\", force_remount=True).\n"
          ]
        }
      ]
    },
    {
      "cell_type": "code",
      "source": [
        "%cd /content/drive/MyDrive/punches/"
      ],
      "metadata": {
        "colab": {
          "base_uri": "https://localhost:8080/"
        },
        "id": "SErRqoyLinUe",
        "outputId": "b7f36974-9861-4eb2-c77c-b24bf4ac0ca2"
      },
      "execution_count": 6,
      "outputs": [
        {
          "output_type": "stream",
          "name": "stdout",
          "text": [
            "/content/drive/MyDrive/punches\n"
          ]
        }
      ]
    },
    {
      "cell_type": "code",
      "source": [
        "#!git clone https://github.com/THU-MIG/yolov10.git"
      ],
      "metadata": {
        "id": "F-za6_sfjOgg"
      },
      "execution_count": 7,
      "outputs": []
    },
    {
      "cell_type": "code",
      "source": [
        "\n",
        "%cd yolov10"
      ],
      "metadata": {
        "colab": {
          "base_uri": "https://localhost:8080/"
        },
        "id": "1kct1XACjarf",
        "outputId": "bb072fb9-b271-4e22-eed0-41912712e75e"
      },
      "execution_count": 8,
      "outputs": [
        {
          "output_type": "stream",
          "name": "stdout",
          "text": [
            "/content/drive/MyDrive/punches/yolov10\n"
          ]
        }
      ]
    },
    {
      "cell_type": "code",
      "source": [
        "#!pip install -r requirements.txt"
      ],
      "metadata": {
        "id": "ZzXljoz-kvML"
      },
      "execution_count": 9,
      "outputs": []
    },
    {
      "cell_type": "code",
      "source": [
        "'''\n",
        "import os\n",
        "import urllib.request\n",
        "\n",
        "# Create a directory for the weights in the current working directory\n",
        "weights_dir = os.path.join(os.getcwd(), \"weights\")\n",
        "os.makedirs(weights_dir, exist_ok=True)\n",
        "\n",
        "# URLs of the weight files\n",
        "urls = [\n",
        "    \"https://github.com/jameslahm/yolov10/releases/download/v1.0/yolov10n.pt\",\n",
        "    \"https://github.com/jameslahm/yolov10/releases/download/v1.0/yolov10s.pt\",\n",
        "    \"https://github.com/jameslahm/yolov10/releases/download/v1.0/yolov10m.pt\",\n",
        "    \"https://github.com/jameslahm/yolov10/releases/download/v1.0/yolov10b.pt\",\n",
        "    \"https://github.com/jameslahm/yolov10/releases/download/v1.0/yolov10x.pt\",\n",
        "    \"https://github.com/jameslahm/yolov10/releases/download/v1.0/yolov10l.pt\"\n",
        "]\n",
        "\n",
        "# Download each file\n",
        "for url in urls:\n",
        "    file_name = os.path.join(weights_dir, os.path.basename(url))\n",
        "    urllib.request.urlretrieve(url, file_name)\n",
        "    print(f\"Downloaded {file_name}\")\n",
        "  '''"
      ],
      "metadata": {
        "colab": {
          "base_uri": "https://localhost:8080/",
          "height": 147
        },
        "id": "T-hvghNok-SG",
        "outputId": "3a71695e-0214-45e1-b585-d1c359a0ccfe"
      },
      "execution_count": 10,
      "outputs": [
        {
          "output_type": "execute_result",
          "data": {
            "text/plain": [
              "'\\nimport os\\nimport urllib.request\\n\\n# Create a directory for the weights in the current working directory\\nweights_dir = os.path.join(os.getcwd(), \"weights\")\\nos.makedirs(weights_dir, exist_ok=True)\\n\\n# URLs of the weight files\\nurls = [\\n    \"https://github.com/jameslahm/yolov10/releases/download/v1.0/yolov10n.pt\",\\n    \"https://github.com/jameslahm/yolov10/releases/download/v1.0/yolov10s.pt\",\\n    \"https://github.com/jameslahm/yolov10/releases/download/v1.0/yolov10m.pt\",\\n    \"https://github.com/jameslahm/yolov10/releases/download/v1.0/yolov10b.pt\",\\n    \"https://github.com/jameslahm/yolov10/releases/download/v1.0/yolov10x.pt\",\\n    \"https://github.com/jameslahm/yolov10/releases/download/v1.0/yolov10l.pt\"\\n]\\n\\n# Download each file\\nfor url in urls:\\n    file_name = os.path.join(weights_dir, os.path.basename(url))\\n    urllib.request.urlretrieve(url, file_name)\\n    print(f\"Downloaded {file_name}\")\\n  '"
            ],
            "application/vnd.google.colaboratory.intrinsic+json": {
              "type": "string"
            }
          },
          "metadata": {},
          "execution_count": 10
        }
      ]
    },
    {
      "cell_type": "code",
      "source": [
        "!pip install ultralytics"
      ],
      "metadata": {
        "colab": {
          "base_uri": "https://localhost:8080/"
        },
        "id": "2Pzxukxorcxr",
        "outputId": "322b4c71-16a6-41fa-e1cf-69c930c395cc"
      },
      "execution_count": 8,
      "outputs": [
        {
          "output_type": "stream",
          "name": "stdout",
          "text": [
            "Collecting ultralytics\n",
            "  Downloading ultralytics-8.3.32-py3-none-any.whl.metadata (35 kB)\n",
            "Requirement already satisfied: numpy>=1.23.0 in /usr/local/lib/python3.10/dist-packages (from ultralytics) (1.26.4)\n",
            "Requirement already satisfied: matplotlib>=3.3.0 in /usr/local/lib/python3.10/dist-packages (from ultralytics) (3.8.0)\n",
            "Requirement already satisfied: opencv-python>=4.6.0 in /usr/local/lib/python3.10/dist-packages (from ultralytics) (4.9.0.80)\n",
            "Requirement already satisfied: pillow>=7.1.2 in /usr/local/lib/python3.10/dist-packages (from ultralytics) (10.4.0)\n",
            "Requirement already satisfied: pyyaml>=5.3.1 in /usr/local/lib/python3.10/dist-packages (from ultralytics) (6.0.1)\n",
            "Requirement already satisfied: requests>=2.23.0 in /usr/local/lib/python3.10/dist-packages (from ultralytics) (2.32.3)\n",
            "Requirement already satisfied: scipy>=1.4.1 in /usr/local/lib/python3.10/dist-packages (from ultralytics) (1.13.0)\n",
            "Requirement already satisfied: torch>=1.8.0 in /usr/local/lib/python3.10/dist-packages (from ultralytics) (2.0.1)\n",
            "Requirement already satisfied: torchvision>=0.9.0 in /usr/local/lib/python3.10/dist-packages (from ultralytics) (0.15.2)\n",
            "Requirement already satisfied: tqdm>=4.64.0 in /usr/local/lib/python3.10/dist-packages (from ultralytics) (4.66.6)\n",
            "Requirement already satisfied: psutil in /usr/local/lib/python3.10/dist-packages (from ultralytics) (5.9.8)\n",
            "Requirement already satisfied: py-cpuinfo in /usr/local/lib/python3.10/dist-packages (from ultralytics) (9.0.0)\n",
            "Requirement already satisfied: pandas>=1.1.4 in /usr/local/lib/python3.10/dist-packages (from ultralytics) (2.2.2)\n",
            "Requirement already satisfied: seaborn>=0.11.0 in /usr/local/lib/python3.10/dist-packages (from ultralytics) (0.13.2)\n",
            "Collecting ultralytics-thop>=2.0.0 (from ultralytics)\n",
            "  Downloading ultralytics_thop-2.0.11-py3-none-any.whl.metadata (9.4 kB)\n",
            "Requirement already satisfied: contourpy>=1.0.1 in /usr/local/lib/python3.10/dist-packages (from matplotlib>=3.3.0->ultralytics) (1.3.1)\n",
            "Requirement already satisfied: cycler>=0.10 in /usr/local/lib/python3.10/dist-packages (from matplotlib>=3.3.0->ultralytics) (0.12.1)\n",
            "Requirement already satisfied: fonttools>=4.22.0 in /usr/local/lib/python3.10/dist-packages (from matplotlib>=3.3.0->ultralytics) (4.54.1)\n",
            "Requirement already satisfied: kiwisolver>=1.0.1 in /usr/local/lib/python3.10/dist-packages (from matplotlib>=3.3.0->ultralytics) (1.4.7)\n",
            "Requirement already satisfied: packaging>=20.0 in /usr/local/lib/python3.10/dist-packages (from matplotlib>=3.3.0->ultralytics) (24.2)\n",
            "Requirement already satisfied: pyparsing>=2.3.1 in /usr/local/lib/python3.10/dist-packages (from matplotlib>=3.3.0->ultralytics) (3.2.0)\n",
            "Requirement already satisfied: python-dateutil>=2.7 in /usr/local/lib/python3.10/dist-packages (from matplotlib>=3.3.0->ultralytics) (2.8.2)\n",
            "Requirement already satisfied: pytz>=2020.1 in /usr/local/lib/python3.10/dist-packages (from pandas>=1.1.4->ultralytics) (2024.2)\n",
            "Requirement already satisfied: tzdata>=2022.7 in /usr/local/lib/python3.10/dist-packages (from pandas>=1.1.4->ultralytics) (2024.2)\n",
            "Requirement already satisfied: charset-normalizer<4,>=2 in /usr/local/lib/python3.10/dist-packages (from requests>=2.23.0->ultralytics) (3.4.0)\n",
            "Requirement already satisfied: idna<4,>=2.5 in /usr/local/lib/python3.10/dist-packages (from requests>=2.23.0->ultralytics) (3.10)\n",
            "Requirement already satisfied: urllib3<3,>=1.21.1 in /usr/local/lib/python3.10/dist-packages (from requests>=2.23.0->ultralytics) (2.2.3)\n",
            "Requirement already satisfied: certifi>=2017.4.17 in /usr/local/lib/python3.10/dist-packages (from requests>=2.23.0->ultralytics) (2024.8.30)\n",
            "Requirement already satisfied: filelock in /usr/local/lib/python3.10/dist-packages (from torch>=1.8.0->ultralytics) (3.16.1)\n",
            "Requirement already satisfied: typing-extensions in /usr/local/lib/python3.10/dist-packages (from torch>=1.8.0->ultralytics) (4.12.2)\n",
            "Requirement already satisfied: sympy in /usr/local/lib/python3.10/dist-packages (from torch>=1.8.0->ultralytics) (1.13.1)\n",
            "Requirement already satisfied: networkx in /usr/local/lib/python3.10/dist-packages (from torch>=1.8.0->ultralytics) (3.4.2)\n",
            "Requirement already satisfied: jinja2 in /usr/local/lib/python3.10/dist-packages (from torch>=1.8.0->ultralytics) (3.1.4)\n",
            "Requirement already satisfied: nvidia-cuda-nvrtc-cu11==11.7.99 in /usr/local/lib/python3.10/dist-packages (from torch>=1.8.0->ultralytics) (11.7.99)\n",
            "Requirement already satisfied: nvidia-cuda-runtime-cu11==11.7.99 in /usr/local/lib/python3.10/dist-packages (from torch>=1.8.0->ultralytics) (11.7.99)\n",
            "Requirement already satisfied: nvidia-cuda-cupti-cu11==11.7.101 in /usr/local/lib/python3.10/dist-packages (from torch>=1.8.0->ultralytics) (11.7.101)\n",
            "Requirement already satisfied: nvidia-cudnn-cu11==8.5.0.96 in /usr/local/lib/python3.10/dist-packages (from torch>=1.8.0->ultralytics) (8.5.0.96)\n",
            "Requirement already satisfied: nvidia-cublas-cu11==11.10.3.66 in /usr/local/lib/python3.10/dist-packages (from torch>=1.8.0->ultralytics) (11.10.3.66)\n",
            "Requirement already satisfied: nvidia-cufft-cu11==10.9.0.58 in /usr/local/lib/python3.10/dist-packages (from torch>=1.8.0->ultralytics) (10.9.0.58)\n",
            "Requirement already satisfied: nvidia-curand-cu11==10.2.10.91 in /usr/local/lib/python3.10/dist-packages (from torch>=1.8.0->ultralytics) (10.2.10.91)\n",
            "Requirement already satisfied: nvidia-cusolver-cu11==11.4.0.1 in /usr/local/lib/python3.10/dist-packages (from torch>=1.8.0->ultralytics) (11.4.0.1)\n",
            "Requirement already satisfied: nvidia-cusparse-cu11==11.7.4.91 in /usr/local/lib/python3.10/dist-packages (from torch>=1.8.0->ultralytics) (11.7.4.91)\n",
            "Requirement already satisfied: nvidia-nccl-cu11==2.14.3 in /usr/local/lib/python3.10/dist-packages (from torch>=1.8.0->ultralytics) (2.14.3)\n",
            "Requirement already satisfied: nvidia-nvtx-cu11==11.7.91 in /usr/local/lib/python3.10/dist-packages (from torch>=1.8.0->ultralytics) (11.7.91)\n",
            "Requirement already satisfied: triton==2.0.0 in /usr/local/lib/python3.10/dist-packages (from torch>=1.8.0->ultralytics) (2.0.0)\n",
            "Requirement already satisfied: setuptools in /usr/local/lib/python3.10/dist-packages (from nvidia-cublas-cu11==11.10.3.66->torch>=1.8.0->ultralytics) (75.1.0)\n",
            "Requirement already satisfied: wheel in /usr/local/lib/python3.10/dist-packages (from nvidia-cublas-cu11==11.10.3.66->torch>=1.8.0->ultralytics) (0.45.0)\n",
            "Requirement already satisfied: cmake in /usr/local/lib/python3.10/dist-packages (from triton==2.0.0->torch>=1.8.0->ultralytics) (3.30.5)\n",
            "Requirement already satisfied: lit in /usr/local/lib/python3.10/dist-packages (from triton==2.0.0->torch>=1.8.0->ultralytics) (18.1.8)\n",
            "Requirement already satisfied: six>=1.5 in /usr/local/lib/python3.10/dist-packages (from python-dateutil>=2.7->matplotlib>=3.3.0->ultralytics) (1.16.0)\n",
            "Requirement already satisfied: MarkupSafe>=2.0 in /usr/local/lib/python3.10/dist-packages (from jinja2->torch>=1.8.0->ultralytics) (2.1.5)\n",
            "Requirement already satisfied: mpmath<1.4,>=1.1.0 in /usr/local/lib/python3.10/dist-packages (from sympy->torch>=1.8.0->ultralytics) (1.3.0)\n",
            "Downloading ultralytics-8.3.32-py3-none-any.whl (887 kB)\n",
            "\u001b[2K   \u001b[90m━━━━━━━━━━━━━━━━━━━━━━━━━━━━━━━━━━━━━━━━\u001b[0m \u001b[32m887.0/887.0 kB\u001b[0m \u001b[31m16.8 MB/s\u001b[0m eta \u001b[36m0:00:00\u001b[0m\n",
            "\u001b[?25hDownloading ultralytics_thop-2.0.11-py3-none-any.whl (26 kB)\n",
            "Installing collected packages: ultralytics-thop, ultralytics\n",
            "Successfully installed ultralytics-8.3.32 ultralytics-thop-2.0.11\n"
          ]
        }
      ]
    },
    {
      "cell_type": "code",
      "source": [
        "from ultralytics import YOLOv10\n",
        "\n",
        "model = YOLOv10()\n",
        "# If you want to finetune the model with pretrained weights, you could load the\n",
        "# pretrained weights like below\n",
        "# model = YOLOv10.from_pretrained('jameslahm/yolov10{n/s/m/b/l/x}')\n",
        "# or\n",
        "# wget https://github.com/THU-MIG/yolov10/releases/download/v1.1/yolov10{n/s/m/b/l/x}.pt\n",
        "# model = YOLOv10('yolov10{n/s/m/b/l/x}.pt')\n",
        "\n",
        "model.train(data='/content/drive/MyDrive/punches/custom_dataset.yaml', epochs=150, batch=32, imgsz=640)"
      ],
      "metadata": {
        "colab": {
          "base_uri": "https://localhost:8080/",
          "height": 1000
        },
        "id": "tbmIImqmoeEU",
        "outputId": "f7f3b408-b51f-4f8c-afd9-63a68cdd1575"
      },
      "execution_count": 10,
      "outputs": [
        {
          "output_type": "stream",
          "name": "stdout",
          "text": [
            "New https://pypi.org/project/ultralytics/8.3.32 available 😃 Update with 'pip install -U ultralytics'\n",
            "Ultralytics YOLOv8.1.34 🚀 Python-3.10.12 torch-2.0.1+cu117 CUDA:0 (Tesla T4, 15102MiB)\n",
            "\u001b[34m\u001b[1mengine/trainer: \u001b[0mtask=detect, mode=train, model=yolov10n.pt, data=/content/drive/MyDrive/punches/custom_dataset.yaml, epochs=150, time=None, patience=100, batch=32, imgsz=640, save=True, save_period=-1, val_period=1, cache=False, device=None, workers=8, project=None, name=train2, exist_ok=False, pretrained=True, optimizer=auto, verbose=True, seed=0, deterministic=True, single_cls=False, rect=False, cos_lr=False, close_mosaic=10, resume=False, amp=True, fraction=1.0, profile=False, freeze=None, multi_scale=False, overlap_mask=True, mask_ratio=4, dropout=0.0, val=True, split=val, save_json=False, save_hybrid=False, conf=None, iou=0.7, max_det=300, half=False, dnn=False, plots=True, source=None, vid_stride=1, stream_buffer=False, visualize=False, augment=False, agnostic_nms=False, classes=None, retina_masks=False, embed=None, show=False, save_frames=False, save_txt=False, save_conf=False, save_crop=False, show_labels=True, show_conf=True, show_boxes=True, line_width=None, format=torchscript, keras=False, optimize=False, int8=False, dynamic=False, simplify=False, opset=None, workspace=4, nms=False, lr0=0.01, lrf=0.01, momentum=0.937, weight_decay=0.0005, warmup_epochs=3.0, warmup_momentum=0.8, warmup_bias_lr=0.1, box=7.5, cls=0.5, dfl=1.5, pose=12.0, kobj=1.0, label_smoothing=0.0, nbs=64, hsv_h=0.015, hsv_s=0.7, hsv_v=0.4, degrees=0.0, translate=0.1, scale=0.5, shear=0.0, perspective=0.0, flipud=0.0, fliplr=0.5, bgr=0.0, mosaic=1.0, mixup=0.0, copy_paste=0.0, auto_augment=randaugment, erasing=0.4, crop_fraction=1.0, cfg=None, tracker=botsort.yaml, save_dir=/content/drive/MyDrive/punches/yolov10/runs/detect/train2\n",
            "Overriding model.yaml nc=80 with nc=1\n",
            "\n",
            "                   from  n    params  module                                       arguments                     \n",
            "  0                  -1  1       464  ultralytics.nn.modules.conv.Conv             [3, 16, 3, 2]                 \n",
            "  1                  -1  1      4672  ultralytics.nn.modules.conv.Conv             [16, 32, 3, 2]                \n",
            "  2                  -1  1      7360  ultralytics.nn.modules.block.C2f             [32, 32, 1, True]             \n",
            "  3                  -1  1     18560  ultralytics.nn.modules.conv.Conv             [32, 64, 3, 2]                \n",
            "  4                  -1  2     49664  ultralytics.nn.modules.block.C2f             [64, 64, 2, True]             \n",
            "  5                  -1  1      9856  ultralytics.nn.modules.block.SCDown          [64, 128, 3, 2]               \n",
            "  6                  -1  2    197632  ultralytics.nn.modules.block.C2f             [128, 128, 2, True]           \n",
            "  7                  -1  1     36096  ultralytics.nn.modules.block.SCDown          [128, 256, 3, 2]              \n",
            "  8                  -1  1    460288  ultralytics.nn.modules.block.C2f             [256, 256, 1, True]           \n",
            "  9                  -1  1    164608  ultralytics.nn.modules.block.SPPF            [256, 256, 5]                 \n",
            " 10                  -1  1    249728  ultralytics.nn.modules.block.PSA             [256, 256]                    \n",
            " 11                  -1  1         0  torch.nn.modules.upsampling.Upsample         [None, 2, 'nearest']          \n",
            " 12             [-1, 6]  1         0  ultralytics.nn.modules.conv.Concat           [1]                           \n",
            " 13                  -1  1    148224  ultralytics.nn.modules.block.C2f             [384, 128, 1]                 \n",
            " 14                  -1  1         0  torch.nn.modules.upsampling.Upsample         [None, 2, 'nearest']          \n",
            " 15             [-1, 4]  1         0  ultralytics.nn.modules.conv.Concat           [1]                           \n",
            " 16                  -1  1     37248  ultralytics.nn.modules.block.C2f             [192, 64, 1]                  \n",
            " 17                  -1  1     36992  ultralytics.nn.modules.conv.Conv             [64, 64, 3, 2]                \n",
            " 18            [-1, 13]  1         0  ultralytics.nn.modules.conv.Concat           [1]                           \n",
            " 19                  -1  1    123648  ultralytics.nn.modules.block.C2f             [192, 128, 1]                 \n",
            " 20                  -1  1     18048  ultralytics.nn.modules.block.SCDown          [128, 128, 3, 2]              \n",
            " 21            [-1, 10]  1         0  ultralytics.nn.modules.conv.Concat           [1]                           \n",
            " 22                  -1  1    282624  ultralytics.nn.modules.block.C2fCIB          [384, 256, 1, True, True]     \n",
            " 23        [16, 19, 22]  1    861718  ultralytics.nn.modules.head.v10Detect        [1, [64, 128, 256]]           \n",
            "YOLOv10n summary: 385 layers, 2707430 parameters, 2707414 gradients, 8.4 GFLOPs\n",
            "\n",
            "Transferred 493/595 items from pretrained weights\n",
            "\u001b[34m\u001b[1mTensorBoard: \u001b[0mStart with 'tensorboard --logdir /content/drive/MyDrive/punches/yolov10/runs/detect/train2', view at http://localhost:6006/\n",
            "Freezing layer 'model.23.dfl.conv.weight'\n",
            "\u001b[34m\u001b[1mAMP: \u001b[0mrunning Automatic Mixed Precision (AMP) checks with YOLOv8n...\n",
            "\u001b[34m\u001b[1mAMP: \u001b[0mchecks passed ✅\n"
          ]
        },
        {
          "output_type": "stream",
          "name": "stderr",
          "text": [
            "\u001b[34m\u001b[1mtrain: \u001b[0mScanning /content/drive/MyDrive/punches/custom_dataset/train/labels.cache... 1395 images, 0 backgrounds, 0 corrupt: 100%|██████████| 1395/1395 [00:00<?, ?it/s]"
          ]
        },
        {
          "output_type": "stream",
          "name": "stdout",
          "text": [
            "\u001b[34m\u001b[1malbumentations: \u001b[0mBlur(p=0.01, blur_limit=(3, 7)), MedianBlur(p=0.01, blur_limit=(3, 7)), ToGray(p=0.01, num_output_channels=3, method='weighted_average'), CLAHE(p=0.01, clip_limit=(1.0, 4.0), tile_grid_size=(8, 8))\n"
          ]
        },
        {
          "output_type": "stream",
          "name": "stderr",
          "text": [
            "\n",
            "/usr/local/lib/python3.10/dist-packages/albumentations/core/composition.py:205: UserWarning: Got processor for bboxes, but no transform to process it.\n",
            "  self._set_keys()\n",
            "\u001b[34m\u001b[1mval: \u001b[0mScanning /content/drive/MyDrive/punches/custom_dataset/valid/labels.cache... 103 images, 0 backgrounds, 0 corrupt: 100%|██████████| 103/103 [00:00<?, ?it/s]\n"
          ]
        },
        {
          "output_type": "stream",
          "name": "stdout",
          "text": [
            "Plotting labels to /content/drive/MyDrive/punches/yolov10/runs/detect/train2/labels.jpg... \n",
            "\u001b[34m\u001b[1moptimizer:\u001b[0m 'optimizer=auto' found, ignoring 'lr0=0.01' and 'momentum=0.937' and determining best 'optimizer', 'lr0' and 'momentum' automatically... \n",
            "\u001b[34m\u001b[1moptimizer:\u001b[0m AdamW(lr=0.002, momentum=0.9) with parameter groups 95 weight(decay=0.0), 108 weight(decay=0.0005), 107 bias(decay=0.0)\n",
            "\u001b[34m\u001b[1mTensorBoard: \u001b[0mmodel graph visualization added ✅\n",
            "Image sizes 640 train, 640 val\n",
            "Using 2 dataloader workers\n",
            "Logging results to \u001b[1m/content/drive/MyDrive/punches/yolov10/runs/detect/train2\u001b[0m\n",
            "Starting training for 150 epochs...\n",
            "\n",
            "      Epoch    GPU_mem     box_om     cls_om     dfl_om     box_oo     cls_oo     dfl_oo  Instances       Size\n"
          ]
        },
        {
          "output_type": "stream",
          "name": "stderr",
          "text": [
            "      1/150      6.77G      2.111      3.276      2.048      1.769      7.168      1.656         47        640: 100%|██████████| 44/44 [00:42<00:00,  1.03it/s]\n",
            "                 Class     Images  Instances      Box(P          R      mAP50  mAP50-95): 100%|██████████| 2/2 [00:01<00:00,  1.12it/s]"
          ]
        },
        {
          "output_type": "stream",
          "name": "stdout",
          "text": [
            "                   all        103        110     0.0032        0.9     0.0897     0.0242\n"
          ]
        },
        {
          "output_type": "stream",
          "name": "stderr",
          "text": [
            "\n"
          ]
        },
        {
          "output_type": "stream",
          "name": "stdout",
          "text": [
            "\n",
            "      Epoch    GPU_mem     box_om     cls_om     dfl_om     box_oo     cls_oo     dfl_oo  Instances       Size\n"
          ]
        },
        {
          "output_type": "stream",
          "name": "stderr",
          "text": [
            "      2/150      6.21G      1.961      2.339      1.894      1.743      4.978      1.566         35        640: 100%|██████████| 44/44 [00:39<00:00,  1.10it/s]\n",
            "                 Class     Images  Instances      Box(P          R      mAP50  mAP50-95): 100%|██████████| 2/2 [00:02<00:00,  1.16s/it]\n"
          ]
        },
        {
          "output_type": "stream",
          "name": "stdout",
          "text": [
            "                   all        103        110       0.47      0.173      0.218     0.0804\n",
            "\n",
            "      Epoch    GPU_mem     box_om     cls_om     dfl_om     box_oo     cls_oo     dfl_oo  Instances       Size\n"
          ]
        },
        {
          "output_type": "stream",
          "name": "stderr",
          "text": [
            "      3/150      6.21G      1.953      2.041      1.864      1.806      3.619       1.59         41        640: 100%|██████████| 44/44 [00:39<00:00,  1.11it/s]\n",
            "                 Class     Images  Instances      Box(P          R      mAP50  mAP50-95): 100%|██████████| 2/2 [00:01<00:00,  1.85it/s]"
          ]
        },
        {
          "output_type": "stream",
          "name": "stdout",
          "text": [
            "                   all        103        110      0.201      0.264      0.148     0.0497\n"
          ]
        },
        {
          "output_type": "stream",
          "name": "stderr",
          "text": [
            "\n"
          ]
        },
        {
          "output_type": "stream",
          "name": "stdout",
          "text": [
            "\n",
            "      Epoch    GPU_mem     box_om     cls_om     dfl_om     box_oo     cls_oo     dfl_oo  Instances       Size\n"
          ]
        },
        {
          "output_type": "stream",
          "name": "stderr",
          "text": [
            "      4/150      6.21G      1.993      1.887      1.908      1.852      2.797      1.623         35        640: 100%|██████████| 44/44 [00:39<00:00,  1.11it/s]\n",
            "                 Class     Images  Instances      Box(P          R      mAP50  mAP50-95): 100%|██████████| 2/2 [00:01<00:00,  1.60it/s]"
          ]
        },
        {
          "output_type": "stream",
          "name": "stdout",
          "text": [
            "                   all        103        110      0.235      0.227      0.128      0.039\n"
          ]
        },
        {
          "output_type": "stream",
          "name": "stderr",
          "text": [
            "\n"
          ]
        },
        {
          "output_type": "stream",
          "name": "stdout",
          "text": [
            "\n",
            "      Epoch    GPU_mem     box_om     cls_om     dfl_om     box_oo     cls_oo     dfl_oo  Instances       Size\n"
          ]
        },
        {
          "output_type": "stream",
          "name": "stderr",
          "text": [
            "      5/150      6.24G      1.959      1.738      1.884      1.872       2.32      1.651         43        640: 100%|██████████| 44/44 [00:40<00:00,  1.09it/s]\n",
            "                 Class     Images  Instances      Box(P          R      mAP50  mAP50-95): 100%|██████████| 2/2 [00:01<00:00,  1.41it/s]"
          ]
        },
        {
          "output_type": "stream",
          "name": "stdout",
          "text": [
            "                   all        103        110      0.255      0.364      0.225     0.0621\n"
          ]
        },
        {
          "output_type": "stream",
          "name": "stderr",
          "text": [
            "\n"
          ]
        },
        {
          "output_type": "stream",
          "name": "stdout",
          "text": [
            "\n",
            "      Epoch    GPU_mem     box_om     cls_om     dfl_om     box_oo     cls_oo     dfl_oo  Instances       Size\n"
          ]
        },
        {
          "output_type": "stream",
          "name": "stderr",
          "text": [
            "      6/150      6.21G      1.911      1.621      1.824      1.843      2.034      1.607         38        640: 100%|██████████| 44/44 [00:39<00:00,  1.11it/s]\n",
            "                 Class     Images  Instances      Box(P          R      mAP50  mAP50-95): 100%|██████████| 2/2 [00:01<00:00,  1.92it/s]"
          ]
        },
        {
          "output_type": "stream",
          "name": "stdout",
          "text": [
            "                   all        103        110      0.457      0.464       0.42      0.139\n"
          ]
        },
        {
          "output_type": "stream",
          "name": "stderr",
          "text": [
            "\n"
          ]
        },
        {
          "output_type": "stream",
          "name": "stdout",
          "text": [
            "\n",
            "      Epoch    GPU_mem     box_om     cls_om     dfl_om     box_oo     cls_oo     dfl_oo  Instances       Size\n"
          ]
        },
        {
          "output_type": "stream",
          "name": "stderr",
          "text": [
            "      7/150      6.21G      1.894      1.516      1.806      1.867      1.851      1.633         38        640: 100%|██████████| 44/44 [00:39<00:00,  1.12it/s]\n",
            "                 Class     Images  Instances      Box(P          R      mAP50  mAP50-95): 100%|██████████| 2/2 [00:01<00:00,  1.29it/s]"
          ]
        },
        {
          "output_type": "stream",
          "name": "stdout",
          "text": [
            "                   all        103        110      0.596      0.418      0.432      0.146\n"
          ]
        },
        {
          "output_type": "stream",
          "name": "stderr",
          "text": [
            "\n"
          ]
        },
        {
          "output_type": "stream",
          "name": "stdout",
          "text": [
            "\n",
            "      Epoch    GPU_mem     box_om     cls_om     dfl_om     box_oo     cls_oo     dfl_oo  Instances       Size\n"
          ]
        },
        {
          "output_type": "stream",
          "name": "stderr",
          "text": [
            "      8/150      6.21G      1.843      1.458      1.753      1.804      1.764      1.586         36        640: 100%|██████████| 44/44 [00:37<00:00,  1.18it/s]\n",
            "                 Class     Images  Instances      Box(P          R      mAP50  mAP50-95): 100%|██████████| 2/2 [00:02<00:00,  1.15s/it]"
          ]
        },
        {
          "output_type": "stream",
          "name": "stdout",
          "text": [
            "                   all        103        110      0.496      0.385      0.348     0.0974\n"
          ]
        },
        {
          "output_type": "stream",
          "name": "stderr",
          "text": [
            "\n"
          ]
        },
        {
          "output_type": "stream",
          "name": "stdout",
          "text": [
            "\n",
            "      Epoch    GPU_mem     box_om     cls_om     dfl_om     box_oo     cls_oo     dfl_oo  Instances       Size\n"
          ]
        },
        {
          "output_type": "stream",
          "name": "stderr",
          "text": [
            "      9/150      6.21G      1.783      1.369      1.713      1.802      1.606      1.574         42        640: 100%|██████████| 44/44 [00:38<00:00,  1.15it/s]\n",
            "                 Class     Images  Instances      Box(P          R      mAP50  mAP50-95): 100%|██████████| 2/2 [00:01<00:00,  1.63it/s]"
          ]
        },
        {
          "output_type": "stream",
          "name": "stdout",
          "text": [
            "                   all        103        110       0.55      0.444      0.399      0.108\n"
          ]
        },
        {
          "output_type": "stream",
          "name": "stderr",
          "text": [
            "\n"
          ]
        },
        {
          "output_type": "stream",
          "name": "stdout",
          "text": [
            "\n",
            "      Epoch    GPU_mem     box_om     cls_om     dfl_om     box_oo     cls_oo     dfl_oo  Instances       Size\n"
          ]
        },
        {
          "output_type": "stream",
          "name": "stderr",
          "text": [
            "     10/150      6.21G      1.801      1.362      1.734      1.828      1.559      1.602         33        640: 100%|██████████| 44/44 [00:38<00:00,  1.13it/s]\n",
            "                 Class     Images  Instances      Box(P          R      mAP50  mAP50-95): 100%|██████████| 2/2 [00:01<00:00,  1.81it/s]"
          ]
        },
        {
          "output_type": "stream",
          "name": "stdout",
          "text": [
            "                   all        103        110      0.611      0.529      0.556      0.191\n"
          ]
        },
        {
          "output_type": "stream",
          "name": "stderr",
          "text": [
            "\n"
          ]
        },
        {
          "output_type": "stream",
          "name": "stdout",
          "text": [
            "\n",
            "      Epoch    GPU_mem     box_om     cls_om     dfl_om     box_oo     cls_oo     dfl_oo  Instances       Size\n"
          ]
        },
        {
          "output_type": "stream",
          "name": "stderr",
          "text": [
            "     11/150      6.21G      1.797      1.349      1.734      1.797      1.566      1.616         42        640: 100%|██████████| 44/44 [00:38<00:00,  1.13it/s]\n",
            "                 Class     Images  Instances      Box(P          R      mAP50  mAP50-95): 100%|██████████| 2/2 [00:00<00:00,  2.03it/s]"
          ]
        },
        {
          "output_type": "stream",
          "name": "stdout",
          "text": [
            "                   all        103        110      0.633      0.532      0.579      0.196\n"
          ]
        },
        {
          "output_type": "stream",
          "name": "stderr",
          "text": [
            "\n"
          ]
        },
        {
          "output_type": "stream",
          "name": "stdout",
          "text": [
            "\n",
            "      Epoch    GPU_mem     box_om     cls_om     dfl_om     box_oo     cls_oo     dfl_oo  Instances       Size\n"
          ]
        },
        {
          "output_type": "stream",
          "name": "stderr",
          "text": [
            "     12/150      6.21G      1.764      1.257      1.693      1.778      1.443      1.575         40        640: 100%|██████████| 44/44 [00:38<00:00,  1.14it/s]\n",
            "                 Class     Images  Instances      Box(P          R      mAP50  mAP50-95): 100%|██████████| 2/2 [00:01<00:00,  1.78it/s]"
          ]
        },
        {
          "output_type": "stream",
          "name": "stdout",
          "text": [
            "                   all        103        110      0.528      0.464      0.428      0.155\n"
          ]
        },
        {
          "output_type": "stream",
          "name": "stderr",
          "text": [
            "\n"
          ]
        },
        {
          "output_type": "stream",
          "name": "stdout",
          "text": [
            "\n",
            "      Epoch    GPU_mem     box_om     cls_om     dfl_om     box_oo     cls_oo     dfl_oo  Instances       Size\n"
          ]
        },
        {
          "output_type": "stream",
          "name": "stderr",
          "text": [
            "     13/150      6.24G      1.772      1.284      1.711      1.776      1.483      1.626         40        640: 100%|██████████| 44/44 [00:38<00:00,  1.14it/s]\n",
            "                 Class     Images  Instances      Box(P          R      mAP50  mAP50-95): 100%|██████████| 2/2 [00:01<00:00,  1.80it/s]"
          ]
        },
        {
          "output_type": "stream",
          "name": "stdout",
          "text": [
            "                   all        103        110      0.589      0.473       0.45      0.138\n"
          ]
        },
        {
          "output_type": "stream",
          "name": "stderr",
          "text": [
            "\n"
          ]
        },
        {
          "output_type": "stream",
          "name": "stdout",
          "text": [
            "\n",
            "      Epoch    GPU_mem     box_om     cls_om     dfl_om     box_oo     cls_oo     dfl_oo  Instances       Size\n"
          ]
        },
        {
          "output_type": "stream",
          "name": "stderr",
          "text": [
            "     14/150      6.21G      1.726      1.212      1.649      1.721      1.363      1.545         53        640: 100%|██████████| 44/44 [00:37<00:00,  1.17it/s]\n",
            "                 Class     Images  Instances      Box(P          R      mAP50  mAP50-95): 100%|██████████| 2/2 [00:01<00:00,  1.22it/s]"
          ]
        },
        {
          "output_type": "stream",
          "name": "stdout",
          "text": [
            "                   all        103        110      0.665      0.536      0.548      0.178\n"
          ]
        },
        {
          "output_type": "stream",
          "name": "stderr",
          "text": [
            "\n"
          ]
        },
        {
          "output_type": "stream",
          "name": "stdout",
          "text": [
            "\n",
            "      Epoch    GPU_mem     box_om     cls_om     dfl_om     box_oo     cls_oo     dfl_oo  Instances       Size\n"
          ]
        },
        {
          "output_type": "stream",
          "name": "stderr",
          "text": [
            "     15/150      6.21G      1.723      1.184       1.64      1.758      1.337      1.541         46        640: 100%|██████████| 44/44 [00:37<00:00,  1.18it/s]\n",
            "                 Class     Images  Instances      Box(P          R      mAP50  mAP50-95): 100%|██████████| 2/2 [00:01<00:00,  1.55it/s]"
          ]
        },
        {
          "output_type": "stream",
          "name": "stdout",
          "text": [
            "                   all        103        110      0.618      0.518      0.482      0.152\n"
          ]
        },
        {
          "output_type": "stream",
          "name": "stderr",
          "text": [
            "\n"
          ]
        },
        {
          "output_type": "stream",
          "name": "stdout",
          "text": [
            "\n",
            "      Epoch    GPU_mem     box_om     cls_om     dfl_om     box_oo     cls_oo     dfl_oo  Instances       Size\n"
          ]
        },
        {
          "output_type": "stream",
          "name": "stderr",
          "text": [
            "     16/150      6.21G      1.711       1.17      1.629      1.753      1.319      1.545         42        640: 100%|██████████| 44/44 [00:36<00:00,  1.20it/s]\n",
            "                 Class     Images  Instances      Box(P          R      mAP50  mAP50-95): 100%|██████████| 2/2 [00:02<00:00,  1.04s/it]"
          ]
        },
        {
          "output_type": "stream",
          "name": "stdout",
          "text": [
            "                   all        103        110      0.684      0.555      0.557      0.174\n"
          ]
        },
        {
          "output_type": "stream",
          "name": "stderr",
          "text": [
            "\n"
          ]
        },
        {
          "output_type": "stream",
          "name": "stdout",
          "text": [
            "\n",
            "      Epoch    GPU_mem     box_om     cls_om     dfl_om     box_oo     cls_oo     dfl_oo  Instances       Size\n"
          ]
        },
        {
          "output_type": "stream",
          "name": "stderr",
          "text": [
            "     17/150      6.21G      1.694      1.146      1.622       1.72      1.309      1.533         44        640: 100%|██████████| 44/44 [00:37<00:00,  1.17it/s]\n",
            "                 Class     Images  Instances      Box(P          R      mAP50  mAP50-95): 100%|██████████| 2/2 [00:01<00:00,  1.71it/s]"
          ]
        },
        {
          "output_type": "stream",
          "name": "stdout",
          "text": [
            "                   all        103        110      0.611        0.6      0.577      0.222\n"
          ]
        },
        {
          "output_type": "stream",
          "name": "stderr",
          "text": [
            "\n"
          ]
        },
        {
          "output_type": "stream",
          "name": "stdout",
          "text": [
            "\n",
            "      Epoch    GPU_mem     box_om     cls_om     dfl_om     box_oo     cls_oo     dfl_oo  Instances       Size\n"
          ]
        },
        {
          "output_type": "stream",
          "name": "stderr",
          "text": [
            "     18/150      6.21G      1.655      1.117      1.601      1.672      1.265      1.505         51        640: 100%|██████████| 44/44 [00:38<00:00,  1.14it/s]\n",
            "                 Class     Images  Instances      Box(P          R      mAP50  mAP50-95): 100%|██████████| 2/2 [00:01<00:00,  1.66it/s]"
          ]
        },
        {
          "output_type": "stream",
          "name": "stdout",
          "text": [
            "                   all        103        110        0.7      0.593      0.593      0.224\n"
          ]
        },
        {
          "output_type": "stream",
          "name": "stderr",
          "text": [
            "\n"
          ]
        },
        {
          "output_type": "stream",
          "name": "stdout",
          "text": [
            "\n",
            "      Epoch    GPU_mem     box_om     cls_om     dfl_om     box_oo     cls_oo     dfl_oo  Instances       Size\n"
          ]
        },
        {
          "output_type": "stream",
          "name": "stderr",
          "text": [
            "     19/150      6.21G      1.664      1.076      1.604      1.695       1.21      1.533         45        640: 100%|██████████| 44/44 [00:39<00:00,  1.12it/s]\n",
            "                 Class     Images  Instances      Box(P          R      mAP50  mAP50-95): 100%|██████████| 2/2 [00:01<00:00,  1.81it/s]"
          ]
        },
        {
          "output_type": "stream",
          "name": "stdout",
          "text": [
            "                   all        103        110      0.657      0.545       0.57      0.199\n"
          ]
        },
        {
          "output_type": "stream",
          "name": "stderr",
          "text": [
            "\n"
          ]
        },
        {
          "output_type": "stream",
          "name": "stdout",
          "text": [
            "\n",
            "      Epoch    GPU_mem     box_om     cls_om     dfl_om     box_oo     cls_oo     dfl_oo  Instances       Size\n"
          ]
        },
        {
          "output_type": "stream",
          "name": "stderr",
          "text": [
            "     20/150      6.21G      1.647      1.066      1.587       1.66      1.187      1.499         39        640: 100%|██████████| 44/44 [00:37<00:00,  1.16it/s]\n",
            "                 Class     Images  Instances      Box(P          R      mAP50  mAP50-95): 100%|██████████| 2/2 [00:01<00:00,  1.83it/s]"
          ]
        },
        {
          "output_type": "stream",
          "name": "stdout",
          "text": [
            "                   all        103        110      0.684      0.636      0.632      0.231\n"
          ]
        },
        {
          "output_type": "stream",
          "name": "stderr",
          "text": [
            "\n"
          ]
        },
        {
          "output_type": "stream",
          "name": "stdout",
          "text": [
            "\n",
            "      Epoch    GPU_mem     box_om     cls_om     dfl_om     box_oo     cls_oo     dfl_oo  Instances       Size\n"
          ]
        },
        {
          "output_type": "stream",
          "name": "stderr",
          "text": [
            "     21/150      6.21G      1.627       1.06      1.558      1.658      1.174      1.479         39        640: 100%|██████████| 44/44 [00:38<00:00,  1.14it/s]\n",
            "                 Class     Images  Instances      Box(P          R      mAP50  mAP50-95): 100%|██████████| 2/2 [00:01<00:00,  1.52it/s]"
          ]
        },
        {
          "output_type": "stream",
          "name": "stdout",
          "text": [
            "                   all        103        110      0.623      0.564      0.588       0.17\n"
          ]
        },
        {
          "output_type": "stream",
          "name": "stderr",
          "text": [
            "\n"
          ]
        },
        {
          "output_type": "stream",
          "name": "stdout",
          "text": [
            "\n",
            "      Epoch    GPU_mem     box_om     cls_om     dfl_om     box_oo     cls_oo     dfl_oo  Instances       Size\n"
          ]
        },
        {
          "output_type": "stream",
          "name": "stderr",
          "text": [
            "     22/150      6.21G      1.627      1.013      1.561      1.665      1.111      1.477         41        640: 100%|██████████| 44/44 [00:37<00:00,  1.18it/s]\n",
            "                 Class     Images  Instances      Box(P          R      mAP50  mAP50-95): 100%|██████████| 2/2 [00:01<00:00,  1.49it/s]"
          ]
        },
        {
          "output_type": "stream",
          "name": "stdout",
          "text": [
            "                   all        103        110       0.52      0.551      0.441      0.126\n"
          ]
        },
        {
          "output_type": "stream",
          "name": "stderr",
          "text": [
            "\n"
          ]
        },
        {
          "output_type": "stream",
          "name": "stdout",
          "text": [
            "\n",
            "      Epoch    GPU_mem     box_om     cls_om     dfl_om     box_oo     cls_oo     dfl_oo  Instances       Size\n"
          ]
        },
        {
          "output_type": "stream",
          "name": "stderr",
          "text": [
            "     23/150      6.21G      1.619      1.021      1.556        1.7      1.114      1.484         46        640: 100%|██████████| 44/44 [00:36<00:00,  1.20it/s]\n",
            "                 Class     Images  Instances      Box(P          R      mAP50  mAP50-95): 100%|██████████| 2/2 [00:01<00:00,  1.21it/s]"
          ]
        },
        {
          "output_type": "stream",
          "name": "stdout",
          "text": [
            "                   all        103        110      0.721      0.582      0.584      0.209\n"
          ]
        },
        {
          "output_type": "stream",
          "name": "stderr",
          "text": [
            "\n"
          ]
        },
        {
          "output_type": "stream",
          "name": "stdout",
          "text": [
            "\n",
            "      Epoch    GPU_mem     box_om     cls_om     dfl_om     box_oo     cls_oo     dfl_oo  Instances       Size\n"
          ]
        },
        {
          "output_type": "stream",
          "name": "stderr",
          "text": [
            "     24/150      6.21G      1.623      1.018      1.559      1.652      1.132      1.472         45        640: 100%|██████████| 44/44 [00:37<00:00,  1.18it/s]\n",
            "                 Class     Images  Instances      Box(P          R      mAP50  mAP50-95): 100%|██████████| 2/2 [00:02<00:00,  1.04s/it]"
          ]
        },
        {
          "output_type": "stream",
          "name": "stdout",
          "text": [
            "                   all        103        110      0.797        0.6      0.669      0.245\n"
          ]
        },
        {
          "output_type": "stream",
          "name": "stderr",
          "text": [
            "\n"
          ]
        },
        {
          "output_type": "stream",
          "name": "stdout",
          "text": [
            "\n",
            "      Epoch    GPU_mem     box_om     cls_om     dfl_om     box_oo     cls_oo     dfl_oo  Instances       Size\n"
          ]
        },
        {
          "output_type": "stream",
          "name": "stderr",
          "text": [
            "     25/150      6.21G      1.585     0.9865      1.537      1.628        1.1      1.474         39        640: 100%|██████████| 44/44 [00:36<00:00,  1.22it/s]\n",
            "                 Class     Images  Instances      Box(P          R      mAP50  mAP50-95): 100%|██████████| 2/2 [00:02<00:00,  1.06s/it]"
          ]
        },
        {
          "output_type": "stream",
          "name": "stdout",
          "text": [
            "                   all        103        110      0.643      0.645       0.58      0.216\n"
          ]
        },
        {
          "output_type": "stream",
          "name": "stderr",
          "text": [
            "\n"
          ]
        },
        {
          "output_type": "stream",
          "name": "stdout",
          "text": [
            "\n",
            "      Epoch    GPU_mem     box_om     cls_om     dfl_om     box_oo     cls_oo     dfl_oo  Instances       Size\n"
          ]
        },
        {
          "output_type": "stream",
          "name": "stderr",
          "text": [
            "     26/150      6.21G      1.595     0.9836      1.539      1.637      1.075      1.464         44        640: 100%|██████████| 44/44 [00:36<00:00,  1.20it/s]\n",
            "                 Class     Images  Instances      Box(P          R      mAP50  mAP50-95): 100%|██████████| 2/2 [00:01<00:00,  1.67it/s]"
          ]
        },
        {
          "output_type": "stream",
          "name": "stdout",
          "text": [
            "                   all        103        110      0.734      0.573      0.604      0.239\n"
          ]
        },
        {
          "output_type": "stream",
          "name": "stderr",
          "text": [
            "\n"
          ]
        },
        {
          "output_type": "stream",
          "name": "stdout",
          "text": [
            "\n",
            "      Epoch    GPU_mem     box_om     cls_om     dfl_om     box_oo     cls_oo     dfl_oo  Instances       Size\n"
          ]
        },
        {
          "output_type": "stream",
          "name": "stderr",
          "text": [
            "     27/150      6.21G      1.561     0.9488      1.508      1.599      1.031      1.437         39        640: 100%|██████████| 44/44 [00:36<00:00,  1.19it/s]\n",
            "                 Class     Images  Instances      Box(P          R      mAP50  mAP50-95): 100%|██████████| 2/2 [00:01<00:00,  1.74it/s]"
          ]
        },
        {
          "output_type": "stream",
          "name": "stdout",
          "text": [
            "                   all        103        110      0.717      0.527      0.581      0.209\n"
          ]
        },
        {
          "output_type": "stream",
          "name": "stderr",
          "text": [
            "\n"
          ]
        },
        {
          "output_type": "stream",
          "name": "stdout",
          "text": [
            "\n",
            "      Epoch    GPU_mem     box_om     cls_om     dfl_om     box_oo     cls_oo     dfl_oo  Instances       Size\n"
          ]
        },
        {
          "output_type": "stream",
          "name": "stderr",
          "text": [
            "     28/150      6.21G      1.547     0.9379      1.518      1.581      1.013      1.456         38        640: 100%|██████████| 44/44 [00:38<00:00,  1.14it/s]\n",
            "                 Class     Images  Instances      Box(P          R      mAP50  mAP50-95): 100%|██████████| 2/2 [00:01<00:00,  1.86it/s]"
          ]
        },
        {
          "output_type": "stream",
          "name": "stdout",
          "text": [
            "                   all        103        110       0.69      0.609      0.583      0.179\n"
          ]
        },
        {
          "output_type": "stream",
          "name": "stderr",
          "text": [
            "\n"
          ]
        },
        {
          "output_type": "stream",
          "name": "stdout",
          "text": [
            "\n",
            "      Epoch    GPU_mem     box_om     cls_om     dfl_om     box_oo     cls_oo     dfl_oo  Instances       Size\n"
          ]
        },
        {
          "output_type": "stream",
          "name": "stderr",
          "text": [
            "     29/150      6.21G      1.578     0.9827      1.527      1.613      1.081      1.455         42        640: 100%|██████████| 44/44 [00:37<00:00,  1.19it/s]\n",
            "                 Class     Images  Instances      Box(P          R      mAP50  mAP50-95): 100%|██████████| 2/2 [00:01<00:00,  1.90it/s]"
          ]
        },
        {
          "output_type": "stream",
          "name": "stdout",
          "text": [
            "                   all        103        110      0.704      0.564      0.571      0.171\n"
          ]
        },
        {
          "output_type": "stream",
          "name": "stderr",
          "text": [
            "\n"
          ]
        },
        {
          "output_type": "stream",
          "name": "stdout",
          "text": [
            "\n",
            "      Epoch    GPU_mem     box_om     cls_om     dfl_om     box_oo     cls_oo     dfl_oo  Instances       Size\n"
          ]
        },
        {
          "output_type": "stream",
          "name": "stderr",
          "text": [
            "     30/150      6.21G      1.548     0.9511      1.514      1.606      1.018      1.459         35        640: 100%|██████████| 44/44 [00:37<00:00,  1.18it/s]\n",
            "                 Class     Images  Instances      Box(P          R      mAP50  mAP50-95): 100%|██████████| 2/2 [00:01<00:00,  1.60it/s]"
          ]
        },
        {
          "output_type": "stream",
          "name": "stdout",
          "text": [
            "                   all        103        110       0.75      0.628      0.659      0.205\n"
          ]
        },
        {
          "output_type": "stream",
          "name": "stderr",
          "text": [
            "\n"
          ]
        },
        {
          "output_type": "stream",
          "name": "stdout",
          "text": [
            "\n",
            "      Epoch    GPU_mem     box_om     cls_om     dfl_om     box_oo     cls_oo     dfl_oo  Instances       Size\n"
          ]
        },
        {
          "output_type": "stream",
          "name": "stderr",
          "text": [
            "     31/150      6.21G      1.547     0.9249        1.5      1.613     0.9869      1.449         35        640: 100%|██████████| 44/44 [00:36<00:00,  1.19it/s]\n",
            "                 Class     Images  Instances      Box(P          R      mAP50  mAP50-95): 100%|██████████| 2/2 [00:01<00:00,  1.68it/s]"
          ]
        },
        {
          "output_type": "stream",
          "name": "stdout",
          "text": [
            "                   all        103        110      0.677        0.5      0.512      0.151\n"
          ]
        },
        {
          "output_type": "stream",
          "name": "stderr",
          "text": [
            "\n"
          ]
        },
        {
          "output_type": "stream",
          "name": "stdout",
          "text": [
            "\n",
            "      Epoch    GPU_mem     box_om     cls_om     dfl_om     box_oo     cls_oo     dfl_oo  Instances       Size\n"
          ]
        },
        {
          "output_type": "stream",
          "name": "stderr",
          "text": [
            "     32/150      6.21G      1.512     0.8938      1.483      1.569     0.9499       1.42         35        640: 100%|██████████| 44/44 [00:36<00:00,  1.22it/s]\n",
            "                 Class     Images  Instances      Box(P          R      mAP50  mAP50-95): 100%|██████████| 2/2 [00:02<00:00,  1.01s/it]\n"
          ]
        },
        {
          "output_type": "stream",
          "name": "stdout",
          "text": [
            "                   all        103        110      0.747      0.655      0.668      0.256\n",
            "\n",
            "      Epoch    GPU_mem     box_om     cls_om     dfl_om     box_oo     cls_oo     dfl_oo  Instances       Size\n"
          ]
        },
        {
          "output_type": "stream",
          "name": "stderr",
          "text": [
            "     33/150      6.21G      1.495     0.9108       1.48      1.543     0.9913      1.417         31        640: 100%|██████████| 44/44 [00:37<00:00,  1.17it/s]\n",
            "                 Class     Images  Instances      Box(P          R      mAP50  mAP50-95): 100%|██████████| 2/2 [00:02<00:00,  1.18s/it]"
          ]
        },
        {
          "output_type": "stream",
          "name": "stdout",
          "text": [
            "                   all        103        110      0.681      0.583      0.551      0.173\n"
          ]
        },
        {
          "output_type": "stream",
          "name": "stderr",
          "text": [
            "\n"
          ]
        },
        {
          "output_type": "stream",
          "name": "stdout",
          "text": [
            "\n",
            "      Epoch    GPU_mem     box_om     cls_om     dfl_om     box_oo     cls_oo     dfl_oo  Instances       Size\n"
          ]
        },
        {
          "output_type": "stream",
          "name": "stderr",
          "text": [
            "     34/150      6.21G      1.474     0.8908      1.466      1.522     0.9561      1.416         29        640: 100%|██████████| 44/44 [00:38<00:00,  1.16it/s]\n",
            "                 Class     Images  Instances      Box(P          R      mAP50  mAP50-95): 100%|██████████| 2/2 [00:01<00:00,  1.21it/s]"
          ]
        },
        {
          "output_type": "stream",
          "name": "stdout",
          "text": [
            "                   all        103        110      0.705      0.573      0.558      0.193\n"
          ]
        },
        {
          "output_type": "stream",
          "name": "stderr",
          "text": [
            "\n"
          ]
        },
        {
          "output_type": "stream",
          "name": "stdout",
          "text": [
            "\n",
            "      Epoch    GPU_mem     box_om     cls_om     dfl_om     box_oo     cls_oo     dfl_oo  Instances       Size\n"
          ]
        },
        {
          "output_type": "stream",
          "name": "stderr",
          "text": [
            "     35/150      6.21G      1.489     0.8676      1.462      1.536      0.919      1.415         38        640: 100%|██████████| 44/44 [00:37<00:00,  1.18it/s]\n",
            "                 Class     Images  Instances      Box(P          R      mAP50  mAP50-95): 100%|██████████| 2/2 [00:01<00:00,  1.91it/s]"
          ]
        },
        {
          "output_type": "stream",
          "name": "stdout",
          "text": [
            "                   all        103        110      0.685      0.573      0.578      0.215\n"
          ]
        },
        {
          "output_type": "stream",
          "name": "stderr",
          "text": [
            "\n"
          ]
        },
        {
          "output_type": "stream",
          "name": "stdout",
          "text": [
            "\n",
            "      Epoch    GPU_mem     box_om     cls_om     dfl_om     box_oo     cls_oo     dfl_oo  Instances       Size\n"
          ]
        },
        {
          "output_type": "stream",
          "name": "stderr",
          "text": [
            "     36/150      6.21G      1.506     0.8742      1.467      1.547     0.9314        1.4         43        640: 100%|██████████| 44/44 [00:38<00:00,  1.14it/s]\n",
            "                 Class     Images  Instances      Box(P          R      mAP50  mAP50-95): 100%|██████████| 2/2 [00:01<00:00,  1.79it/s]"
          ]
        },
        {
          "output_type": "stream",
          "name": "stdout",
          "text": [
            "                   all        103        110      0.722      0.645       0.64      0.226\n"
          ]
        },
        {
          "output_type": "stream",
          "name": "stderr",
          "text": [
            "\n"
          ]
        },
        {
          "output_type": "stream",
          "name": "stdout",
          "text": [
            "\n",
            "      Epoch    GPU_mem     box_om     cls_om     dfl_om     box_oo     cls_oo     dfl_oo  Instances       Size\n"
          ]
        },
        {
          "output_type": "stream",
          "name": "stderr",
          "text": [
            "     37/150      6.21G      1.467      0.868      1.452      1.524     0.9158      1.393         43        640: 100%|██████████| 44/44 [00:37<00:00,  1.18it/s]\n",
            "                 Class     Images  Instances      Box(P          R      mAP50  mAP50-95): 100%|██████████| 2/2 [00:01<00:00,  1.77it/s]"
          ]
        },
        {
          "output_type": "stream",
          "name": "stdout",
          "text": [
            "                   all        103        110      0.679      0.597      0.567      0.174\n"
          ]
        },
        {
          "output_type": "stream",
          "name": "stderr",
          "text": [
            "\n"
          ]
        },
        {
          "output_type": "stream",
          "name": "stdout",
          "text": [
            "\n",
            "      Epoch    GPU_mem     box_om     cls_om     dfl_om     box_oo     cls_oo     dfl_oo  Instances       Size\n"
          ]
        },
        {
          "output_type": "stream",
          "name": "stderr",
          "text": [
            "     38/150      6.21G      1.441     0.8469      1.438      1.506     0.8814      1.401         47        640: 100%|██████████| 44/44 [00:37<00:00,  1.17it/s]\n",
            "                 Class     Images  Instances      Box(P          R      mAP50  mAP50-95): 100%|██████████| 2/2 [00:01<00:00,  1.53it/s]"
          ]
        },
        {
          "output_type": "stream",
          "name": "stdout",
          "text": [
            "                   all        103        110      0.582      0.618      0.522       0.17\n"
          ]
        },
        {
          "output_type": "stream",
          "name": "stderr",
          "text": [
            "\n"
          ]
        },
        {
          "output_type": "stream",
          "name": "stdout",
          "text": [
            "\n",
            "      Epoch    GPU_mem     box_om     cls_om     dfl_om     box_oo     cls_oo     dfl_oo  Instances       Size\n"
          ]
        },
        {
          "output_type": "stream",
          "name": "stderr",
          "text": [
            "     39/150      6.21G       1.43     0.8462      1.419      1.491     0.8966      1.389         42        640: 100%|██████████| 44/44 [00:35<00:00,  1.23it/s]\n",
            "                 Class     Images  Instances      Box(P          R      mAP50  mAP50-95): 100%|██████████| 2/2 [00:01<00:00,  1.17it/s]\n"
          ]
        },
        {
          "output_type": "stream",
          "name": "stdout",
          "text": [
            "                   all        103        110      0.771      0.564      0.612      0.233\n",
            "\n",
            "      Epoch    GPU_mem     box_om     cls_om     dfl_om     box_oo     cls_oo     dfl_oo  Instances       Size\n"
          ]
        },
        {
          "output_type": "stream",
          "name": "stderr",
          "text": [
            "     40/150      6.21G      1.464     0.8232      1.433      1.513     0.8391      1.373         47        640: 100%|██████████| 44/44 [00:35<00:00,  1.24it/s]\n",
            "                 Class     Images  Instances      Box(P          R      mAP50  mAP50-95): 100%|██████████| 2/2 [00:01<00:00,  1.03it/s]"
          ]
        },
        {
          "output_type": "stream",
          "name": "stdout",
          "text": [
            "                   all        103        110      0.768      0.609      0.671      0.241\n"
          ]
        },
        {
          "output_type": "stream",
          "name": "stderr",
          "text": [
            "\n"
          ]
        },
        {
          "output_type": "stream",
          "name": "stdout",
          "text": [
            "\n",
            "      Epoch    GPU_mem     box_om     cls_om     dfl_om     box_oo     cls_oo     dfl_oo  Instances       Size\n"
          ]
        },
        {
          "output_type": "stream",
          "name": "stderr",
          "text": [
            "     41/150      6.21G       1.44      0.817      1.438      1.491     0.8571      1.389         34        640: 100%|██████████| 44/44 [00:36<00:00,  1.19it/s]\n",
            "                 Class     Images  Instances      Box(P          R      mAP50  mAP50-95): 100%|██████████| 2/2 [00:01<00:00,  1.01it/s]"
          ]
        },
        {
          "output_type": "stream",
          "name": "stdout",
          "text": [
            "                   all        103        110       0.66        0.6        0.6      0.175\n"
          ]
        },
        {
          "output_type": "stream",
          "name": "stderr",
          "text": [
            "\n"
          ]
        },
        {
          "output_type": "stream",
          "name": "stdout",
          "text": [
            "\n",
            "      Epoch    GPU_mem     box_om     cls_om     dfl_om     box_oo     cls_oo     dfl_oo  Instances       Size\n"
          ]
        },
        {
          "output_type": "stream",
          "name": "stderr",
          "text": [
            "     42/150      6.21G      1.438     0.8273      1.428        1.5     0.8611       1.38         43        640: 100%|██████████| 44/44 [00:37<00:00,  1.19it/s]\n",
            "                 Class     Images  Instances      Box(P          R      mAP50  mAP50-95): 100%|██████████| 2/2 [00:01<00:00,  1.58it/s]"
          ]
        },
        {
          "output_type": "stream",
          "name": "stdout",
          "text": [
            "                   all        103        110      0.715      0.617      0.633      0.169\n"
          ]
        },
        {
          "output_type": "stream",
          "name": "stderr",
          "text": [
            "\n"
          ]
        },
        {
          "output_type": "stream",
          "name": "stdout",
          "text": [
            "\n",
            "      Epoch    GPU_mem     box_om     cls_om     dfl_om     box_oo     cls_oo     dfl_oo  Instances       Size\n"
          ]
        },
        {
          "output_type": "stream",
          "name": "stderr",
          "text": [
            "     43/150      6.21G      1.434     0.8085      1.422      1.482     0.8388      1.373         36        640: 100%|██████████| 44/44 [00:37<00:00,  1.18it/s]\n",
            "                 Class     Images  Instances      Box(P          R      mAP50  mAP50-95): 100%|██████████| 2/2 [00:00<00:00,  2.01it/s]"
          ]
        },
        {
          "output_type": "stream",
          "name": "stdout",
          "text": [
            "                   all        103        110      0.738      0.615      0.636      0.218\n"
          ]
        },
        {
          "output_type": "stream",
          "name": "stderr",
          "text": [
            "\n"
          ]
        },
        {
          "output_type": "stream",
          "name": "stdout",
          "text": [
            "\n",
            "      Epoch    GPU_mem     box_om     cls_om     dfl_om     box_oo     cls_oo     dfl_oo  Instances       Size\n"
          ]
        },
        {
          "output_type": "stream",
          "name": "stderr",
          "text": [
            "     44/150      6.21G      1.406     0.7903      1.398      1.446     0.8135      1.357         40        640: 100%|██████████| 44/44 [00:37<00:00,  1.18it/s]\n",
            "                 Class     Images  Instances      Box(P          R      mAP50  mAP50-95): 100%|██████████| 2/2 [00:01<00:00,  1.81it/s]"
          ]
        },
        {
          "output_type": "stream",
          "name": "stdout",
          "text": [
            "                   all        103        110       0.85      0.627      0.709      0.303\n"
          ]
        },
        {
          "output_type": "stream",
          "name": "stderr",
          "text": [
            "\n"
          ]
        },
        {
          "output_type": "stream",
          "name": "stdout",
          "text": [
            "\n",
            "      Epoch    GPU_mem     box_om     cls_om     dfl_om     box_oo     cls_oo     dfl_oo  Instances       Size\n"
          ]
        },
        {
          "output_type": "stream",
          "name": "stderr",
          "text": [
            "     45/150      6.21G      1.425     0.8012      1.409      1.487     0.8264      1.376         37        640: 100%|██████████| 44/44 [00:37<00:00,  1.18it/s]\n",
            "                 Class     Images  Instances      Box(P          R      mAP50  mAP50-95): 100%|██████████| 2/2 [00:01<00:00,  1.63it/s]"
          ]
        },
        {
          "output_type": "stream",
          "name": "stdout",
          "text": [
            "                   all        103        110      0.735      0.631      0.629      0.235\n"
          ]
        },
        {
          "output_type": "stream",
          "name": "stderr",
          "text": [
            "\n"
          ]
        },
        {
          "output_type": "stream",
          "name": "stdout",
          "text": [
            "\n",
            "      Epoch    GPU_mem     box_om     cls_om     dfl_om     box_oo     cls_oo     dfl_oo  Instances       Size\n"
          ]
        },
        {
          "output_type": "stream",
          "name": "stderr",
          "text": [
            "     46/150      6.21G      1.375     0.7818      1.383      1.421     0.8275      1.344         29        640: 100%|██████████| 44/44 [00:37<00:00,  1.16it/s]\n",
            "                 Class     Images  Instances      Box(P          R      mAP50  mAP50-95): 100%|██████████| 2/2 [00:01<00:00,  1.81it/s]"
          ]
        },
        {
          "output_type": "stream",
          "name": "stdout",
          "text": [
            "                   all        103        110      0.801      0.586      0.649      0.219\n"
          ]
        },
        {
          "output_type": "stream",
          "name": "stderr",
          "text": [
            "\n"
          ]
        },
        {
          "output_type": "stream",
          "name": "stdout",
          "text": [
            "\n",
            "      Epoch    GPU_mem     box_om     cls_om     dfl_om     box_oo     cls_oo     dfl_oo  Instances       Size\n"
          ]
        },
        {
          "output_type": "stream",
          "name": "stderr",
          "text": [
            "     47/150      6.21G      1.388     0.7814      1.387      1.447     0.8144      1.356         45        640: 100%|██████████| 44/44 [00:36<00:00,  1.22it/s]\n",
            "                 Class     Images  Instances      Box(P          R      mAP50  mAP50-95): 100%|██████████| 2/2 [00:01<00:00,  1.68it/s]"
          ]
        },
        {
          "output_type": "stream",
          "name": "stdout",
          "text": [
            "                   all        103        110      0.759      0.655       0.67      0.222\n"
          ]
        },
        {
          "output_type": "stream",
          "name": "stderr",
          "text": [
            "\n"
          ]
        },
        {
          "output_type": "stream",
          "name": "stdout",
          "text": [
            "\n",
            "      Epoch    GPU_mem     box_om     cls_om     dfl_om     box_oo     cls_oo     dfl_oo  Instances       Size\n"
          ]
        },
        {
          "output_type": "stream",
          "name": "stderr",
          "text": [
            "     48/150      6.21G      1.384     0.7884      1.388      1.443      0.805      1.355         51        640: 100%|██████████| 44/44 [00:37<00:00,  1.19it/s]\n",
            "                 Class     Images  Instances      Box(P          R      mAP50  mAP50-95): 100%|██████████| 2/2 [00:01<00:00,  1.08it/s]"
          ]
        },
        {
          "output_type": "stream",
          "name": "stdout",
          "text": [
            "                   all        103        110      0.776      0.564      0.621      0.199\n"
          ]
        },
        {
          "output_type": "stream",
          "name": "stderr",
          "text": [
            "\n"
          ]
        },
        {
          "output_type": "stream",
          "name": "stdout",
          "text": [
            "\n",
            "      Epoch    GPU_mem     box_om     cls_om     dfl_om     box_oo     cls_oo     dfl_oo  Instances       Size\n"
          ]
        },
        {
          "output_type": "stream",
          "name": "stderr",
          "text": [
            "     49/150      6.21G      1.373     0.7666      1.366      1.433     0.7869      1.323         49        640: 100%|██████████| 44/44 [00:36<00:00,  1.19it/s]\n",
            "                 Class     Images  Instances      Box(P          R      mAP50  mAP50-95): 100%|██████████| 2/2 [00:02<00:00,  1.05s/it]"
          ]
        },
        {
          "output_type": "stream",
          "name": "stdout",
          "text": [
            "                   all        103        110      0.781      0.645      0.646       0.22\n"
          ]
        },
        {
          "output_type": "stream",
          "name": "stderr",
          "text": [
            "\n"
          ]
        },
        {
          "output_type": "stream",
          "name": "stdout",
          "text": [
            "\n",
            "      Epoch    GPU_mem     box_om     cls_om     dfl_om     box_oo     cls_oo     dfl_oo  Instances       Size\n"
          ]
        },
        {
          "output_type": "stream",
          "name": "stderr",
          "text": [
            "     50/150      6.24G      1.366     0.7585      1.377      1.436     0.7713      1.335         36        640: 100%|██████████| 44/44 [00:36<00:00,  1.19it/s]\n",
            "                 Class     Images  Instances      Box(P          R      mAP50  mAP50-95): 100%|██████████| 2/2 [00:01<00:00,  1.09it/s]"
          ]
        },
        {
          "output_type": "stream",
          "name": "stdout",
          "text": [
            "                   all        103        110      0.787      0.637      0.659      0.228\n"
          ]
        },
        {
          "output_type": "stream",
          "name": "stderr",
          "text": [
            "\n"
          ]
        },
        {
          "output_type": "stream",
          "name": "stdout",
          "text": [
            "\n",
            "      Epoch    GPU_mem     box_om     cls_om     dfl_om     box_oo     cls_oo     dfl_oo  Instances       Size\n"
          ]
        },
        {
          "output_type": "stream",
          "name": "stderr",
          "text": [
            "     51/150      6.21G       1.37     0.7549      1.361      1.432     0.7674      1.329         42        640: 100%|██████████| 44/44 [00:36<00:00,  1.21it/s]\n",
            "                 Class     Images  Instances      Box(P          R      mAP50  mAP50-95): 100%|██████████| 2/2 [00:01<00:00,  1.95it/s]"
          ]
        },
        {
          "output_type": "stream",
          "name": "stdout",
          "text": [
            "                   all        103        110      0.845      0.573      0.647       0.23\n"
          ]
        },
        {
          "output_type": "stream",
          "name": "stderr",
          "text": [
            "\n"
          ]
        },
        {
          "output_type": "stream",
          "name": "stdout",
          "text": [
            "\n",
            "      Epoch    GPU_mem     box_om     cls_om     dfl_om     box_oo     cls_oo     dfl_oo  Instances       Size\n"
          ]
        },
        {
          "output_type": "stream",
          "name": "stderr",
          "text": [
            "     52/150      6.24G      1.341     0.7504      1.339      1.403     0.7459      1.302         43        640: 100%|██████████| 44/44 [00:37<00:00,  1.17it/s]\n",
            "                 Class     Images  Instances      Box(P          R      mAP50  mAP50-95): 100%|██████████| 2/2 [00:01<00:00,  1.68it/s]"
          ]
        },
        {
          "output_type": "stream",
          "name": "stdout",
          "text": [
            "                   all        103        110      0.796       0.64      0.678      0.268\n"
          ]
        },
        {
          "output_type": "stream",
          "name": "stderr",
          "text": [
            "\n"
          ]
        },
        {
          "output_type": "stream",
          "name": "stdout",
          "text": [
            "\n",
            "      Epoch    GPU_mem     box_om     cls_om     dfl_om     box_oo     cls_oo     dfl_oo  Instances       Size\n"
          ]
        },
        {
          "output_type": "stream",
          "name": "stderr",
          "text": [
            "     53/150      6.21G      1.341     0.7373      1.349      1.397     0.7253      1.313         38        640: 100%|██████████| 44/44 [00:37<00:00,  1.17it/s]\n",
            "                 Class     Images  Instances      Box(P          R      mAP50  mAP50-95): 100%|██████████| 2/2 [00:01<00:00,  1.57it/s]"
          ]
        },
        {
          "output_type": "stream",
          "name": "stdout",
          "text": [
            "                   all        103        110      0.862      0.624      0.716      0.258\n"
          ]
        },
        {
          "output_type": "stream",
          "name": "stderr",
          "text": [
            "\n"
          ]
        },
        {
          "output_type": "stream",
          "name": "stdout",
          "text": [
            "\n",
            "      Epoch    GPU_mem     box_om     cls_om     dfl_om     box_oo     cls_oo     dfl_oo  Instances       Size\n"
          ]
        },
        {
          "output_type": "stream",
          "name": "stderr",
          "text": [
            "     54/150      6.21G      1.321     0.7295      1.322      1.384     0.7185      1.298         40        640: 100%|██████████| 44/44 [00:36<00:00,  1.20it/s]\n",
            "                 Class     Images  Instances      Box(P          R      mAP50  mAP50-95): 100%|██████████| 2/2 [00:01<00:00,  1.91it/s]"
          ]
        },
        {
          "output_type": "stream",
          "name": "stdout",
          "text": [
            "                   all        103        110      0.768      0.682      0.686      0.239\n"
          ]
        },
        {
          "output_type": "stream",
          "name": "stderr",
          "text": [
            "\n"
          ]
        },
        {
          "output_type": "stream",
          "name": "stdout",
          "text": [
            "\n",
            "      Epoch    GPU_mem     box_om     cls_om     dfl_om     box_oo     cls_oo     dfl_oo  Instances       Size\n"
          ]
        },
        {
          "output_type": "stream",
          "name": "stderr",
          "text": [
            "     55/150      6.21G      1.361     0.7427      1.352      1.411     0.7487      1.314         43        640: 100%|██████████| 44/44 [00:37<00:00,  1.17it/s]\n",
            "                 Class     Images  Instances      Box(P          R      mAP50  mAP50-95): 100%|██████████| 2/2 [00:01<00:00,  1.74it/s]"
          ]
        },
        {
          "output_type": "stream",
          "name": "stdout",
          "text": [
            "                   all        103        110      0.777      0.695      0.676      0.249\n"
          ]
        },
        {
          "output_type": "stream",
          "name": "stderr",
          "text": [
            "\n"
          ]
        },
        {
          "output_type": "stream",
          "name": "stdout",
          "text": [
            "\n",
            "      Epoch    GPU_mem     box_om     cls_om     dfl_om     box_oo     cls_oo     dfl_oo  Instances       Size\n"
          ]
        },
        {
          "output_type": "stream",
          "name": "stderr",
          "text": [
            "     56/150      6.21G      1.309     0.7173       1.33      1.374     0.7273      1.305         45        640: 100%|██████████| 44/44 [00:37<00:00,  1.19it/s]\n",
            "                 Class     Images  Instances      Box(P          R      mAP50  mAP50-95): 100%|██████████| 2/2 [00:01<00:00,  1.41it/s]"
          ]
        },
        {
          "output_type": "stream",
          "name": "stdout",
          "text": [
            "                   all        103        110      0.683        0.7      0.633       0.22\n"
          ]
        },
        {
          "output_type": "stream",
          "name": "stderr",
          "text": [
            "\n"
          ]
        },
        {
          "output_type": "stream",
          "name": "stdout",
          "text": [
            "\n",
            "      Epoch    GPU_mem     box_om     cls_om     dfl_om     box_oo     cls_oo     dfl_oo  Instances       Size\n"
          ]
        },
        {
          "output_type": "stream",
          "name": "stderr",
          "text": [
            "     57/150      6.21G      1.335     0.7376      1.343      1.387     0.7369      1.315         45        640: 100%|██████████| 44/44 [00:37<00:00,  1.18it/s]\n",
            "                 Class     Images  Instances      Box(P          R      mAP50  mAP50-95): 100%|██████████| 2/2 [00:01<00:00,  1.36it/s]"
          ]
        },
        {
          "output_type": "stream",
          "name": "stdout",
          "text": [
            "                   all        103        110      0.786       0.67      0.663      0.216\n"
          ]
        },
        {
          "output_type": "stream",
          "name": "stderr",
          "text": [
            "\n"
          ]
        },
        {
          "output_type": "stream",
          "name": "stdout",
          "text": [
            "\n",
            "      Epoch    GPU_mem     box_om     cls_om     dfl_om     box_oo     cls_oo     dfl_oo  Instances       Size\n"
          ]
        },
        {
          "output_type": "stream",
          "name": "stderr",
          "text": [
            "     58/150      6.21G      1.309     0.7191      1.323      1.376     0.7201      1.293         46        640: 100%|██████████| 44/44 [00:37<00:00,  1.16it/s]\n",
            "                 Class     Images  Instances      Box(P          R      mAP50  mAP50-95): 100%|██████████| 2/2 [00:02<00:00,  1.18s/it]"
          ]
        },
        {
          "output_type": "stream",
          "name": "stdout",
          "text": [
            "                   all        103        110      0.748      0.536      0.563      0.178\n"
          ]
        },
        {
          "output_type": "stream",
          "name": "stderr",
          "text": [
            "\n"
          ]
        },
        {
          "output_type": "stream",
          "name": "stdout",
          "text": [
            "\n",
            "      Epoch    GPU_mem     box_om     cls_om     dfl_om     box_oo     cls_oo     dfl_oo  Instances       Size\n"
          ]
        },
        {
          "output_type": "stream",
          "name": "stderr",
          "text": [
            "     59/150      6.21G      1.313     0.7073      1.322      1.384     0.7061      1.303         29        640: 100%|██████████| 44/44 [00:36<00:00,  1.21it/s]\n",
            "                 Class     Images  Instances      Box(P          R      mAP50  mAP50-95): 100%|██████████| 2/2 [00:02<00:00,  1.20s/it]"
          ]
        },
        {
          "output_type": "stream",
          "name": "stdout",
          "text": [
            "                   all        103        110      0.824      0.597      0.638      0.255\n"
          ]
        },
        {
          "output_type": "stream",
          "name": "stderr",
          "text": [
            "\n"
          ]
        },
        {
          "output_type": "stream",
          "name": "stdout",
          "text": [
            "\n",
            "      Epoch    GPU_mem     box_om     cls_om     dfl_om     box_oo     cls_oo     dfl_oo  Instances       Size\n"
          ]
        },
        {
          "output_type": "stream",
          "name": "stderr",
          "text": [
            "     60/150      6.21G      1.304     0.7096      1.313      1.369     0.6819      1.284         29        640: 100%|██████████| 44/44 [00:37<00:00,  1.17it/s]\n",
            "                 Class     Images  Instances      Box(P          R      mAP50  mAP50-95): 100%|██████████| 2/2 [00:01<00:00,  1.46it/s]"
          ]
        },
        {
          "output_type": "stream",
          "name": "stdout",
          "text": [
            "                   all        103        110       0.69      0.682      0.638       0.24\n"
          ]
        },
        {
          "output_type": "stream",
          "name": "stderr",
          "text": [
            "\n"
          ]
        },
        {
          "output_type": "stream",
          "name": "stdout",
          "text": [
            "\n",
            "      Epoch    GPU_mem     box_om     cls_om     dfl_om     box_oo     cls_oo     dfl_oo  Instances       Size\n"
          ]
        },
        {
          "output_type": "stream",
          "name": "stderr",
          "text": [
            "     61/150      6.21G      1.292     0.7082      1.317      1.349     0.6998      1.277         50        640: 100%|██████████| 44/44 [00:37<00:00,  1.19it/s]\n",
            "                 Class     Images  Instances      Box(P          R      mAP50  mAP50-95): 100%|██████████| 2/2 [00:01<00:00,  1.64it/s]"
          ]
        },
        {
          "output_type": "stream",
          "name": "stdout",
          "text": [
            "                   all        103        110      0.762      0.682      0.657      0.246\n"
          ]
        },
        {
          "output_type": "stream",
          "name": "stderr",
          "text": [
            "\n"
          ]
        },
        {
          "output_type": "stream",
          "name": "stdout",
          "text": [
            "\n",
            "      Epoch    GPU_mem     box_om     cls_om     dfl_om     box_oo     cls_oo     dfl_oo  Instances       Size\n"
          ]
        },
        {
          "output_type": "stream",
          "name": "stderr",
          "text": [
            "     62/150      6.21G      1.281     0.6942      1.305      1.343     0.7002      1.278         50        640: 100%|██████████| 44/44 [00:37<00:00,  1.17it/s]\n",
            "                 Class     Images  Instances      Box(P          R      mAP50  mAP50-95): 100%|██████████| 2/2 [00:01<00:00,  1.70it/s]"
          ]
        },
        {
          "output_type": "stream",
          "name": "stdout",
          "text": [
            "                   all        103        110      0.749      0.664       0.67      0.231\n"
          ]
        },
        {
          "output_type": "stream",
          "name": "stderr",
          "text": [
            "\n"
          ]
        },
        {
          "output_type": "stream",
          "name": "stdout",
          "text": [
            "\n",
            "      Epoch    GPU_mem     box_om     cls_om     dfl_om     box_oo     cls_oo     dfl_oo  Instances       Size\n"
          ]
        },
        {
          "output_type": "stream",
          "name": "stderr",
          "text": [
            "     63/150      6.21G      1.266     0.6961      1.295      1.328     0.6817      1.274         34        640: 100%|██████████| 44/44 [00:38<00:00,  1.14it/s]\n",
            "                 Class     Images  Instances      Box(P          R      mAP50  mAP50-95): 100%|██████████| 2/2 [00:01<00:00,  1.51it/s]"
          ]
        },
        {
          "output_type": "stream",
          "name": "stdout",
          "text": [
            "                   all        103        110      0.795      0.627      0.668      0.256\n"
          ]
        },
        {
          "output_type": "stream",
          "name": "stderr",
          "text": [
            "\n"
          ]
        },
        {
          "output_type": "stream",
          "name": "stdout",
          "text": [
            "\n",
            "      Epoch    GPU_mem     box_om     cls_om     dfl_om     box_oo     cls_oo     dfl_oo  Instances       Size\n"
          ]
        },
        {
          "output_type": "stream",
          "name": "stderr",
          "text": [
            "     64/150      6.21G      1.289     0.7077      1.316      1.343      0.694       1.28         48        640: 100%|██████████| 44/44 [00:38<00:00,  1.15it/s]\n",
            "                 Class     Images  Instances      Box(P          R      mAP50  mAP50-95): 100%|██████████| 2/2 [00:01<00:00,  1.88it/s]"
          ]
        },
        {
          "output_type": "stream",
          "name": "stdout",
          "text": [
            "                   all        103        110      0.771      0.627      0.629      0.216\n"
          ]
        },
        {
          "output_type": "stream",
          "name": "stderr",
          "text": [
            "\n"
          ]
        },
        {
          "output_type": "stream",
          "name": "stdout",
          "text": [
            "\n",
            "      Epoch    GPU_mem     box_om     cls_om     dfl_om     box_oo     cls_oo     dfl_oo  Instances       Size\n"
          ]
        },
        {
          "output_type": "stream",
          "name": "stderr",
          "text": [
            "     65/150      6.21G      1.289     0.6946      1.312      1.346     0.6933      1.289         48        640: 100%|██████████| 44/44 [00:37<00:00,  1.16it/s]\n",
            "                 Class     Images  Instances      Box(P          R      mAP50  mAP50-95): 100%|██████████| 2/2 [00:01<00:00,  1.69it/s]"
          ]
        },
        {
          "output_type": "stream",
          "name": "stdout",
          "text": [
            "                   all        103        110      0.765      0.682      0.732      0.283\n"
          ]
        },
        {
          "output_type": "stream",
          "name": "stderr",
          "text": [
            "\n"
          ]
        },
        {
          "output_type": "stream",
          "name": "stdout",
          "text": [
            "\n",
            "      Epoch    GPU_mem     box_om     cls_om     dfl_om     box_oo     cls_oo     dfl_oo  Instances       Size\n"
          ]
        },
        {
          "output_type": "stream",
          "name": "stderr",
          "text": [
            "     66/150      6.21G      1.251     0.6847      1.284      1.311      0.665      1.251         51        640: 100%|██████████| 44/44 [00:37<00:00,  1.18it/s]\n",
            "                 Class     Images  Instances      Box(P          R      mAP50  mAP50-95): 100%|██████████| 2/2 [00:01<00:00,  1.77it/s]"
          ]
        },
        {
          "output_type": "stream",
          "name": "stdout",
          "text": [
            "                   all        103        110      0.835      0.664      0.705      0.276\n"
          ]
        },
        {
          "output_type": "stream",
          "name": "stderr",
          "text": [
            "\n"
          ]
        },
        {
          "output_type": "stream",
          "name": "stdout",
          "text": [
            "\n",
            "      Epoch    GPU_mem     box_om     cls_om     dfl_om     box_oo     cls_oo     dfl_oo  Instances       Size\n"
          ]
        },
        {
          "output_type": "stream",
          "name": "stderr",
          "text": [
            "     67/150      6.21G      1.244      0.676      1.291      1.308     0.6415      1.267         34        640: 100%|██████████| 44/44 [00:37<00:00,  1.18it/s]\n",
            "                 Class     Images  Instances      Box(P          R      mAP50  mAP50-95): 100%|██████████| 2/2 [00:01<00:00,  1.63it/s]"
          ]
        },
        {
          "output_type": "stream",
          "name": "stdout",
          "text": [
            "                   all        103        110      0.802      0.645      0.657      0.278\n"
          ]
        },
        {
          "output_type": "stream",
          "name": "stderr",
          "text": [
            "\n"
          ]
        },
        {
          "output_type": "stream",
          "name": "stdout",
          "text": [
            "\n",
            "      Epoch    GPU_mem     box_om     cls_om     dfl_om     box_oo     cls_oo     dfl_oo  Instances       Size\n"
          ]
        },
        {
          "output_type": "stream",
          "name": "stderr",
          "text": [
            "     68/150      6.21G      1.226       0.66      1.257       1.29     0.6604      1.236         44        640: 100%|██████████| 44/44 [00:36<00:00,  1.20it/s]\n",
            "                 Class     Images  Instances      Box(P          R      mAP50  mAP50-95): 100%|██████████| 2/2 [00:01<00:00,  1.24it/s]"
          ]
        },
        {
          "output_type": "stream",
          "name": "stdout",
          "text": [
            "                   all        103        110       0.89      0.663      0.748      0.252\n"
          ]
        },
        {
          "output_type": "stream",
          "name": "stderr",
          "text": [
            "\n"
          ]
        },
        {
          "output_type": "stream",
          "name": "stdout",
          "text": [
            "\n",
            "      Epoch    GPU_mem     box_om     cls_om     dfl_om     box_oo     cls_oo     dfl_oo  Instances       Size\n"
          ]
        },
        {
          "output_type": "stream",
          "name": "stderr",
          "text": [
            "     69/150      6.21G      1.247     0.6876      1.296        1.3     0.7082      1.262         38        640: 100%|██████████| 44/44 [00:36<00:00,  1.21it/s]\n",
            "                 Class     Images  Instances      Box(P          R      mAP50  mAP50-95): 100%|██████████| 2/2 [00:02<00:00,  1.15s/it]"
          ]
        },
        {
          "output_type": "stream",
          "name": "stdout",
          "text": [
            "                   all        103        110      0.759      0.618      0.657      0.234\n"
          ]
        },
        {
          "output_type": "stream",
          "name": "stderr",
          "text": [
            "\n"
          ]
        },
        {
          "output_type": "stream",
          "name": "stdout",
          "text": [
            "\n",
            "      Epoch    GPU_mem     box_om     cls_om     dfl_om     box_oo     cls_oo     dfl_oo  Instances       Size\n"
          ]
        },
        {
          "output_type": "stream",
          "name": "stderr",
          "text": [
            "     70/150      6.21G      1.249      0.673      1.265      1.305     0.6729      1.236         44        640: 100%|██████████| 44/44 [00:36<00:00,  1.21it/s]\n",
            "                 Class     Images  Instances      Box(P          R      mAP50  mAP50-95): 100%|██████████| 2/2 [00:02<00:00,  1.06s/it]"
          ]
        },
        {
          "output_type": "stream",
          "name": "stdout",
          "text": [
            "                   all        103        110      0.777      0.618      0.651      0.219\n"
          ]
        },
        {
          "output_type": "stream",
          "name": "stderr",
          "text": [
            "\n"
          ]
        },
        {
          "output_type": "stream",
          "name": "stdout",
          "text": [
            "\n",
            "      Epoch    GPU_mem     box_om     cls_om     dfl_om     box_oo     cls_oo     dfl_oo  Instances       Size\n"
          ]
        },
        {
          "output_type": "stream",
          "name": "stderr",
          "text": [
            "     71/150      6.21G      1.225     0.6617      1.264      1.274     0.6679      1.239         40        640: 100%|██████████| 44/44 [00:37<00:00,  1.17it/s]\n",
            "                 Class     Images  Instances      Box(P          R      mAP50  mAP50-95): 100%|██████████| 2/2 [00:01<00:00,  1.55it/s]"
          ]
        },
        {
          "output_type": "stream",
          "name": "stdout",
          "text": [
            "                   all        103        110       0.79      0.645      0.644      0.222\n"
          ]
        },
        {
          "output_type": "stream",
          "name": "stderr",
          "text": [
            "\n"
          ]
        },
        {
          "output_type": "stream",
          "name": "stdout",
          "text": [
            "\n",
            "      Epoch    GPU_mem     box_om     cls_om     dfl_om     box_oo     cls_oo     dfl_oo  Instances       Size\n"
          ]
        },
        {
          "output_type": "stream",
          "name": "stderr",
          "text": [
            "     72/150      6.21G      1.213     0.6543      1.254      1.284     0.6307      1.238         37        640: 100%|██████████| 44/44 [00:38<00:00,  1.14it/s]\n",
            "                 Class     Images  Instances      Box(P          R      mAP50  mAP50-95): 100%|██████████| 2/2 [00:01<00:00,  1.98it/s]"
          ]
        },
        {
          "output_type": "stream",
          "name": "stdout",
          "text": [
            "                   all        103        110      0.697      0.655      0.633      0.237\n"
          ]
        },
        {
          "output_type": "stream",
          "name": "stderr",
          "text": [
            "\n"
          ]
        },
        {
          "output_type": "stream",
          "name": "stdout",
          "text": [
            "\n",
            "      Epoch    GPU_mem     box_om     cls_om     dfl_om     box_oo     cls_oo     dfl_oo  Instances       Size\n"
          ]
        },
        {
          "output_type": "stream",
          "name": "stderr",
          "text": [
            "     73/150      6.21G      1.199     0.6383       1.25      1.251     0.6382       1.22         36        640: 100%|██████████| 44/44 [00:38<00:00,  1.14it/s]\n",
            "                 Class     Images  Instances      Box(P          R      mAP50  mAP50-95): 100%|██████████| 2/2 [00:01<00:00,  1.46it/s]"
          ]
        },
        {
          "output_type": "stream",
          "name": "stdout",
          "text": [
            "                   all        103        110      0.758      0.636       0.64      0.206\n"
          ]
        },
        {
          "output_type": "stream",
          "name": "stderr",
          "text": [
            "\n"
          ]
        },
        {
          "output_type": "stream",
          "name": "stdout",
          "text": [
            "\n",
            "      Epoch    GPU_mem     box_om     cls_om     dfl_om     box_oo     cls_oo     dfl_oo  Instances       Size\n"
          ]
        },
        {
          "output_type": "stream",
          "name": "stderr",
          "text": [
            "     74/150      6.21G      1.216      0.653      1.252      1.277     0.6356      1.237         51        640: 100%|██████████| 44/44 [00:42<00:00,  1.03it/s]\n",
            "                 Class     Images  Instances      Box(P          R      mAP50  mAP50-95): 100%|██████████| 2/2 [00:01<00:00,  1.32it/s]"
          ]
        },
        {
          "output_type": "stream",
          "name": "stdout",
          "text": [
            "                   all        103        110      0.866        0.7      0.734      0.256\n"
          ]
        },
        {
          "output_type": "stream",
          "name": "stderr",
          "text": [
            "\n"
          ]
        },
        {
          "output_type": "stream",
          "name": "stdout",
          "text": [
            "\n",
            "      Epoch    GPU_mem     box_om     cls_om     dfl_om     box_oo     cls_oo     dfl_oo  Instances       Size\n"
          ]
        },
        {
          "output_type": "stream",
          "name": "stderr",
          "text": [
            "     75/150      6.21G      1.215     0.6524       1.25      1.279     0.6471      1.238         43        640: 100%|██████████| 44/44 [00:43<00:00,  1.00it/s]\n",
            "                 Class     Images  Instances      Box(P          R      mAP50  mAP50-95): 100%|██████████| 2/2 [00:01<00:00,  1.46it/s]"
          ]
        },
        {
          "output_type": "stream",
          "name": "stdout",
          "text": [
            "                   all        103        110      0.811      0.636       0.67       0.26\n"
          ]
        },
        {
          "output_type": "stream",
          "name": "stderr",
          "text": [
            "\n"
          ]
        },
        {
          "output_type": "stream",
          "name": "stdout",
          "text": [
            "\n",
            "      Epoch    GPU_mem     box_om     cls_om     dfl_om     box_oo     cls_oo     dfl_oo  Instances       Size\n"
          ]
        },
        {
          "output_type": "stream",
          "name": "stderr",
          "text": [
            "     76/150      6.21G       1.21     0.6313      1.256      1.265     0.6264      1.238         49        640: 100%|██████████| 44/44 [00:43<00:00,  1.01it/s]\n",
            "                 Class     Images  Instances      Box(P          R      mAP50  mAP50-95): 100%|██████████| 2/2 [00:01<00:00,  1.50it/s]"
          ]
        },
        {
          "output_type": "stream",
          "name": "stdout",
          "text": [
            "                   all        103        110      0.812      0.666      0.714      0.257\n"
          ]
        },
        {
          "output_type": "stream",
          "name": "stderr",
          "text": [
            "\n"
          ]
        },
        {
          "output_type": "stream",
          "name": "stdout",
          "text": [
            "\n",
            "      Epoch    GPU_mem     box_om     cls_om     dfl_om     box_oo     cls_oo     dfl_oo  Instances       Size\n"
          ]
        },
        {
          "output_type": "stream",
          "name": "stderr",
          "text": [
            "     77/150      6.21G      1.179     0.6324       1.23      1.236     0.6252      1.212         38        640: 100%|██████████| 44/44 [00:42<00:00,  1.03it/s]\n",
            "                 Class     Images  Instances      Box(P          R      mAP50  mAP50-95): 100%|██████████| 2/2 [00:02<00:00,  1.03s/it]"
          ]
        },
        {
          "output_type": "stream",
          "name": "stdout",
          "text": [
            "                   all        103        110      0.755      0.691      0.698      0.241\n"
          ]
        },
        {
          "output_type": "stream",
          "name": "stderr",
          "text": [
            "\n"
          ]
        },
        {
          "output_type": "stream",
          "name": "stdout",
          "text": [
            "\n",
            "      Epoch    GPU_mem     box_om     cls_om     dfl_om     box_oo     cls_oo     dfl_oo  Instances       Size\n"
          ]
        },
        {
          "output_type": "stream",
          "name": "stderr",
          "text": [
            "     78/150      6.21G      1.199     0.6331      1.241      1.255     0.6132      1.228         42        640: 100%|██████████| 44/44 [00:36<00:00,  1.21it/s]\n",
            "                 Class     Images  Instances      Box(P          R      mAP50  mAP50-95): 100%|██████████| 2/2 [00:02<00:00,  1.10s/it]"
          ]
        },
        {
          "output_type": "stream",
          "name": "stdout",
          "text": [
            "                   all        103        110      0.805      0.655      0.699      0.246\n"
          ]
        },
        {
          "output_type": "stream",
          "name": "stderr",
          "text": [
            "\n"
          ]
        },
        {
          "output_type": "stream",
          "name": "stdout",
          "text": [
            "\n",
            "      Epoch    GPU_mem     box_om     cls_om     dfl_om     box_oo     cls_oo     dfl_oo  Instances       Size\n"
          ]
        },
        {
          "output_type": "stream",
          "name": "stderr",
          "text": [
            "     79/150      6.21G       1.19     0.6515      1.248      1.254     0.6468      1.236         44        640: 100%|██████████| 44/44 [00:37<00:00,  1.16it/s]\n",
            "                 Class     Images  Instances      Box(P          R      mAP50  mAP50-95): 100%|██████████| 2/2 [00:01<00:00,  1.61it/s]"
          ]
        },
        {
          "output_type": "stream",
          "name": "stdout",
          "text": [
            "                   all        103        110      0.774      0.691      0.738      0.269\n"
          ]
        },
        {
          "output_type": "stream",
          "name": "stderr",
          "text": [
            "\n"
          ]
        },
        {
          "output_type": "stream",
          "name": "stdout",
          "text": [
            "\n",
            "      Epoch    GPU_mem     box_om     cls_om     dfl_om     box_oo     cls_oo     dfl_oo  Instances       Size\n"
          ]
        },
        {
          "output_type": "stream",
          "name": "stderr",
          "text": [
            "     80/150      6.21G      1.163     0.6168       1.22      1.216     0.6057      1.202         50        640: 100%|██████████| 44/44 [00:37<00:00,  1.18it/s]\n",
            "                 Class     Images  Instances      Box(P          R      mAP50  mAP50-95): 100%|██████████| 2/2 [00:00<00:00,  2.30it/s]"
          ]
        },
        {
          "output_type": "stream",
          "name": "stdout",
          "text": [
            "                   all        103        110      0.773      0.691      0.662      0.226\n"
          ]
        },
        {
          "output_type": "stream",
          "name": "stderr",
          "text": [
            "\n"
          ]
        },
        {
          "output_type": "stream",
          "name": "stdout",
          "text": [
            "\n",
            "      Epoch    GPU_mem     box_om     cls_om     dfl_om     box_oo     cls_oo     dfl_oo  Instances       Size\n"
          ]
        },
        {
          "output_type": "stream",
          "name": "stderr",
          "text": [
            "     81/150      6.21G      1.188     0.6409      1.225      1.244     0.6564      1.216         44        640: 100%|██████████| 44/44 [00:37<00:00,  1.17it/s]\n",
            "                 Class     Images  Instances      Box(P          R      mAP50  mAP50-95): 100%|██████████| 2/2 [00:01<00:00,  1.73it/s]"
          ]
        },
        {
          "output_type": "stream",
          "name": "stdout",
          "text": [
            "                   all        103        110      0.638      0.691      0.613      0.202\n"
          ]
        },
        {
          "output_type": "stream",
          "name": "stderr",
          "text": [
            "\n"
          ]
        },
        {
          "output_type": "stream",
          "name": "stdout",
          "text": [
            "\n",
            "      Epoch    GPU_mem     box_om     cls_om     dfl_om     box_oo     cls_oo     dfl_oo  Instances       Size\n"
          ]
        },
        {
          "output_type": "stream",
          "name": "stderr",
          "text": [
            "     82/150      6.21G      1.164     0.6262      1.226      1.222     0.6165      1.211         39        640: 100%|██████████| 44/44 [00:37<00:00,  1.18it/s]\n",
            "                 Class     Images  Instances      Box(P          R      mAP50  mAP50-95): 100%|██████████| 2/2 [00:01<00:00,  1.58it/s]"
          ]
        },
        {
          "output_type": "stream",
          "name": "stdout",
          "text": [
            "                   all        103        110      0.741      0.582      0.593      0.221\n"
          ]
        },
        {
          "output_type": "stream",
          "name": "stderr",
          "text": [
            "\n"
          ]
        },
        {
          "output_type": "stream",
          "name": "stdout",
          "text": [
            "\n",
            "      Epoch    GPU_mem     box_om     cls_om     dfl_om     box_oo     cls_oo     dfl_oo  Instances       Size\n"
          ]
        },
        {
          "output_type": "stream",
          "name": "stderr",
          "text": [
            "     83/150      6.21G      1.158     0.6215      1.211      1.215     0.6154      1.194         49        640: 100%|██████████| 44/44 [00:37<00:00,  1.17it/s]\n",
            "                 Class     Images  Instances      Box(P          R      mAP50  mAP50-95): 100%|██████████| 2/2 [00:01<00:00,  1.85it/s]"
          ]
        },
        {
          "output_type": "stream",
          "name": "stdout",
          "text": [
            "                   all        103        110      0.744      0.687      0.643      0.228\n"
          ]
        },
        {
          "output_type": "stream",
          "name": "stderr",
          "text": [
            "\n"
          ]
        },
        {
          "output_type": "stream",
          "name": "stdout",
          "text": [
            "\n",
            "      Epoch    GPU_mem     box_om     cls_om     dfl_om     box_oo     cls_oo     dfl_oo  Instances       Size\n"
          ]
        },
        {
          "output_type": "stream",
          "name": "stderr",
          "text": [
            "     84/150      6.21G      1.139     0.5984      1.208      1.203     0.5866      1.202         38        640: 100%|██████████| 44/44 [00:36<00:00,  1.21it/s]\n",
            "                 Class     Images  Instances      Box(P          R      mAP50  mAP50-95): 100%|██████████| 2/2 [00:01<00:00,  1.85it/s]"
          ]
        },
        {
          "output_type": "stream",
          "name": "stdout",
          "text": [
            "                   all        103        110      0.814      0.678      0.708      0.252\n"
          ]
        },
        {
          "output_type": "stream",
          "name": "stderr",
          "text": [
            "\n"
          ]
        },
        {
          "output_type": "stream",
          "name": "stdout",
          "text": [
            "\n",
            "      Epoch    GPU_mem     box_om     cls_om     dfl_om     box_oo     cls_oo     dfl_oo  Instances       Size\n"
          ]
        },
        {
          "output_type": "stream",
          "name": "stderr",
          "text": [
            "     85/150      6.21G      1.128     0.6106      1.211      1.192     0.6019      1.202         39        640: 100%|██████████| 44/44 [00:35<00:00,  1.24it/s]\n",
            "                 Class     Images  Instances      Box(P          R      mAP50  mAP50-95): 100%|██████████| 2/2 [00:01<00:00,  1.03it/s]"
          ]
        },
        {
          "output_type": "stream",
          "name": "stdout",
          "text": [
            "                   all        103        110      0.862      0.739      0.736      0.273\n"
          ]
        },
        {
          "output_type": "stream",
          "name": "stderr",
          "text": [
            "\n"
          ]
        },
        {
          "output_type": "stream",
          "name": "stdout",
          "text": [
            "\n",
            "      Epoch    GPU_mem     box_om     cls_om     dfl_om     box_oo     cls_oo     dfl_oo  Instances       Size\n"
          ]
        },
        {
          "output_type": "stream",
          "name": "stderr",
          "text": [
            "     86/150      6.21G      1.132     0.6085      1.203      1.192     0.6052      1.192         44        640: 100%|██████████| 44/44 [00:35<00:00,  1.25it/s]\n",
            "                 Class     Images  Instances      Box(P          R      mAP50  mAP50-95): 100%|██████████| 2/2 [00:01<00:00,  1.51it/s]"
          ]
        },
        {
          "output_type": "stream",
          "name": "stdout",
          "text": [
            "                   all        103        110      0.773      0.645      0.655      0.228\n"
          ]
        },
        {
          "output_type": "stream",
          "name": "stderr",
          "text": [
            "\n"
          ]
        },
        {
          "output_type": "stream",
          "name": "stdout",
          "text": [
            "\n",
            "      Epoch    GPU_mem     box_om     cls_om     dfl_om     box_oo     cls_oo     dfl_oo  Instances       Size\n"
          ]
        },
        {
          "output_type": "stream",
          "name": "stderr",
          "text": [
            "     87/150      6.21G       1.12     0.5989      1.191      1.167     0.5822      1.178         41        640: 100%|██████████| 44/44 [00:36<00:00,  1.20it/s]\n",
            "                 Class     Images  Instances      Box(P          R      mAP50  mAP50-95): 100%|██████████| 2/2 [00:01<00:00,  1.03it/s]"
          ]
        },
        {
          "output_type": "stream",
          "name": "stdout",
          "text": [
            "                   all        103        110      0.754      0.673      0.681      0.243\n"
          ]
        },
        {
          "output_type": "stream",
          "name": "stderr",
          "text": [
            "\n"
          ]
        },
        {
          "output_type": "stream",
          "name": "stdout",
          "text": [
            "\n",
            "      Epoch    GPU_mem     box_om     cls_om     dfl_om     box_oo     cls_oo     dfl_oo  Instances       Size\n"
          ]
        },
        {
          "output_type": "stream",
          "name": "stderr",
          "text": [
            "     88/150      6.21G      1.126     0.5857      1.198       1.18     0.5657      1.185         42        640: 100%|██████████| 44/44 [00:36<00:00,  1.21it/s]\n",
            "                 Class     Images  Instances      Box(P          R      mAP50  mAP50-95): 100%|██████████| 2/2 [00:02<00:00,  1.13s/it]"
          ]
        },
        {
          "output_type": "stream",
          "name": "stdout",
          "text": [
            "                   all        103        110      0.848      0.655      0.768      0.284\n"
          ]
        },
        {
          "output_type": "stream",
          "name": "stderr",
          "text": [
            "\n"
          ]
        },
        {
          "output_type": "stream",
          "name": "stdout",
          "text": [
            "\n",
            "      Epoch    GPU_mem     box_om     cls_om     dfl_om     box_oo     cls_oo     dfl_oo  Instances       Size\n"
          ]
        },
        {
          "output_type": "stream",
          "name": "stderr",
          "text": [
            "     89/150      6.21G      1.127     0.5909      1.201      1.179     0.5831      1.184         48        640: 100%|██████████| 44/44 [00:36<00:00,  1.22it/s]\n",
            "                 Class     Images  Instances      Box(P          R      mAP50  mAP50-95): 100%|██████████| 2/2 [00:02<00:00,  1.07s/it]"
          ]
        },
        {
          "output_type": "stream",
          "name": "stdout",
          "text": [
            "                   all        103        110       0.81       0.66       0.69      0.219\n"
          ]
        },
        {
          "output_type": "stream",
          "name": "stderr",
          "text": [
            "\n"
          ]
        },
        {
          "output_type": "stream",
          "name": "stdout",
          "text": [
            "\n",
            "      Epoch    GPU_mem     box_om     cls_om     dfl_om     box_oo     cls_oo     dfl_oo  Instances       Size\n"
          ]
        },
        {
          "output_type": "stream",
          "name": "stderr",
          "text": [
            "     90/150      6.24G      1.132     0.5989      1.212      1.184     0.6038      1.196         46        640: 100%|██████████| 44/44 [00:37<00:00,  1.19it/s]\n",
            "                 Class     Images  Instances      Box(P          R      mAP50  mAP50-95): 100%|██████████| 2/2 [00:01<00:00,  1.51it/s]"
          ]
        },
        {
          "output_type": "stream",
          "name": "stdout",
          "text": [
            "                   all        103        110      0.819      0.659      0.696      0.249\n"
          ]
        },
        {
          "output_type": "stream",
          "name": "stderr",
          "text": [
            "\n"
          ]
        },
        {
          "output_type": "stream",
          "name": "stdout",
          "text": [
            "\n",
            "      Epoch    GPU_mem     box_om     cls_om     dfl_om     box_oo     cls_oo     dfl_oo  Instances       Size\n"
          ]
        },
        {
          "output_type": "stream",
          "name": "stderr",
          "text": [
            "     91/150      6.21G      1.103     0.5905       1.19      1.146      0.593      1.184         47        640: 100%|██████████| 44/44 [00:37<00:00,  1.17it/s]\n",
            "                 Class     Images  Instances      Box(P          R      mAP50  mAP50-95): 100%|██████████| 2/2 [00:00<00:00,  2.08it/s]"
          ]
        },
        {
          "output_type": "stream",
          "name": "stdout",
          "text": [
            "                   all        103        110      0.769      0.637      0.668      0.228\n"
          ]
        },
        {
          "output_type": "stream",
          "name": "stderr",
          "text": [
            "\n"
          ]
        },
        {
          "output_type": "stream",
          "name": "stdout",
          "text": [
            "\n",
            "      Epoch    GPU_mem     box_om     cls_om     dfl_om     box_oo     cls_oo     dfl_oo  Instances       Size\n"
          ]
        },
        {
          "output_type": "stream",
          "name": "stderr",
          "text": [
            "     92/150      6.21G      1.115     0.5885      1.186      1.156     0.5818      1.177         50        640: 100%|██████████| 44/44 [00:36<00:00,  1.19it/s]\n",
            "                 Class     Images  Instances      Box(P          R      mAP50  mAP50-95): 100%|██████████| 2/2 [00:01<00:00,  1.75it/s]"
          ]
        },
        {
          "output_type": "stream",
          "name": "stdout",
          "text": [
            "                   all        103        110      0.768      0.662      0.648      0.237\n"
          ]
        },
        {
          "output_type": "stream",
          "name": "stderr",
          "text": [
            "\n"
          ]
        },
        {
          "output_type": "stream",
          "name": "stdout",
          "text": [
            "\n",
            "      Epoch    GPU_mem     box_om     cls_om     dfl_om     box_oo     cls_oo     dfl_oo  Instances       Size\n"
          ]
        },
        {
          "output_type": "stream",
          "name": "stderr",
          "text": [
            "     93/150      6.21G      1.095     0.5766      1.169       1.15     0.5571      1.162         41        640: 100%|██████████| 44/44 [00:37<00:00,  1.17it/s]\n",
            "                 Class     Images  Instances      Box(P          R      mAP50  mAP50-95): 100%|██████████| 2/2 [00:01<00:00,  1.63it/s]"
          ]
        },
        {
          "output_type": "stream",
          "name": "stdout",
          "text": [
            "                   all        103        110      0.768      0.727      0.727      0.251\n"
          ]
        },
        {
          "output_type": "stream",
          "name": "stderr",
          "text": [
            "\n"
          ]
        },
        {
          "output_type": "stream",
          "name": "stdout",
          "text": [
            "\n",
            "      Epoch    GPU_mem     box_om     cls_om     dfl_om     box_oo     cls_oo     dfl_oo  Instances       Size\n"
          ]
        },
        {
          "output_type": "stream",
          "name": "stderr",
          "text": [
            "     94/150      6.21G      1.125     0.5877      1.193       1.18     0.5714      1.172         41        640: 100%|██████████| 44/44 [00:36<00:00,  1.20it/s]\n",
            "                 Class     Images  Instances      Box(P          R      mAP50  mAP50-95): 100%|██████████| 2/2 [00:00<00:00,  2.05it/s]"
          ]
        },
        {
          "output_type": "stream",
          "name": "stdout",
          "text": [
            "                   all        103        110      0.793      0.662      0.676      0.228\n"
          ]
        },
        {
          "output_type": "stream",
          "name": "stderr",
          "text": [
            "\n"
          ]
        },
        {
          "output_type": "stream",
          "name": "stdout",
          "text": [
            "\n",
            "      Epoch    GPU_mem     box_om     cls_om     dfl_om     box_oo     cls_oo     dfl_oo  Instances       Size\n"
          ]
        },
        {
          "output_type": "stream",
          "name": "stderr",
          "text": [
            "     95/150      6.21G      1.073     0.5528      1.166      1.126     0.5155      1.152         35        640: 100%|██████████| 44/44 [00:37<00:00,  1.17it/s]\n",
            "                 Class     Images  Instances      Box(P          R      mAP50  mAP50-95): 100%|██████████| 2/2 [00:01<00:00,  1.76it/s]"
          ]
        },
        {
          "output_type": "stream",
          "name": "stdout",
          "text": [
            "                   all        103        110      0.848      0.658      0.685      0.229\n"
          ]
        },
        {
          "output_type": "stream",
          "name": "stderr",
          "text": [
            "\n"
          ]
        },
        {
          "output_type": "stream",
          "name": "stdout",
          "text": [
            "\n",
            "      Epoch    GPU_mem     box_om     cls_om     dfl_om     box_oo     cls_oo     dfl_oo  Instances       Size\n"
          ]
        },
        {
          "output_type": "stream",
          "name": "stderr",
          "text": [
            "     96/150      6.24G      1.073     0.5595      1.161      1.136     0.5568      1.155         38        640: 100%|██████████| 44/44 [00:37<00:00,  1.17it/s]\n",
            "                 Class     Images  Instances      Box(P          R      mAP50  mAP50-95): 100%|██████████| 2/2 [00:01<00:00,  1.64it/s]"
          ]
        },
        {
          "output_type": "stream",
          "name": "stdout",
          "text": [
            "                   all        103        110      0.762      0.709      0.651      0.235\n"
          ]
        },
        {
          "output_type": "stream",
          "name": "stderr",
          "text": [
            "\n"
          ]
        },
        {
          "output_type": "stream",
          "name": "stdout",
          "text": [
            "\n",
            "      Epoch    GPU_mem     box_om     cls_om     dfl_om     box_oo     cls_oo     dfl_oo  Instances       Size\n"
          ]
        },
        {
          "output_type": "stream",
          "name": "stderr",
          "text": [
            "     97/150      6.21G      1.083     0.5776      1.172      1.137     0.5622      1.166         41        640: 100%|██████████| 44/44 [00:36<00:00,  1.22it/s]\n",
            "                 Class     Images  Instances      Box(P          R      mAP50  mAP50-95): 100%|██████████| 2/2 [00:01<00:00,  1.12it/s]"
          ]
        },
        {
          "output_type": "stream",
          "name": "stdout",
          "text": [
            "                   all        103        110      0.803      0.668       0.73      0.247\n"
          ]
        },
        {
          "output_type": "stream",
          "name": "stderr",
          "text": [
            "\n"
          ]
        },
        {
          "output_type": "stream",
          "name": "stdout",
          "text": [
            "\n",
            "      Epoch    GPU_mem     box_om     cls_om     dfl_om     box_oo     cls_oo     dfl_oo  Instances       Size\n"
          ]
        },
        {
          "output_type": "stream",
          "name": "stderr",
          "text": [
            "     98/150      6.21G      1.071     0.5641      1.158      1.125     0.5499      1.155         40        640: 100%|██████████| 44/44 [00:36<00:00,  1.20it/s]\n",
            "                 Class     Images  Instances      Box(P          R      mAP50  mAP50-95): 100%|██████████| 2/2 [00:01<00:00,  1.10it/s]"
          ]
        },
        {
          "output_type": "stream",
          "name": "stdout",
          "text": [
            "                   all        103        110      0.845      0.695      0.716      0.262\n"
          ]
        },
        {
          "output_type": "stream",
          "name": "stderr",
          "text": [
            "\n"
          ]
        },
        {
          "output_type": "stream",
          "name": "stdout",
          "text": [
            "\n",
            "      Epoch    GPU_mem     box_om     cls_om     dfl_om     box_oo     cls_oo     dfl_oo  Instances       Size\n"
          ]
        },
        {
          "output_type": "stream",
          "name": "stderr",
          "text": [
            "     99/150      6.21G      1.076      0.563      1.168      1.124     0.5524      1.164         40        640: 100%|██████████| 44/44 [00:36<00:00,  1.20it/s]\n",
            "                 Class     Images  Instances      Box(P          R      mAP50  mAP50-95): 100%|██████████| 2/2 [00:01<00:00,  1.35it/s]"
          ]
        },
        {
          "output_type": "stream",
          "name": "stdout",
          "text": [
            "                   all        103        110       0.75      0.664      0.711      0.256\n"
          ]
        },
        {
          "output_type": "stream",
          "name": "stderr",
          "text": [
            "\n"
          ]
        },
        {
          "output_type": "stream",
          "name": "stdout",
          "text": [
            "\n",
            "      Epoch    GPU_mem     box_om     cls_om     dfl_om     box_oo     cls_oo     dfl_oo  Instances       Size\n"
          ]
        },
        {
          "output_type": "stream",
          "name": "stderr",
          "text": [
            "    100/150      6.21G      1.059     0.5536      1.156      1.109       0.55      1.149         34        640: 100%|██████████| 44/44 [00:35<00:00,  1.26it/s]\n",
            "                 Class     Images  Instances      Box(P          R      mAP50  mAP50-95): 100%|██████████| 2/2 [00:01<00:00,  1.07it/s]"
          ]
        },
        {
          "output_type": "stream",
          "name": "stdout",
          "text": [
            "                   all        103        110      0.791      0.691      0.724      0.271\n"
          ]
        },
        {
          "output_type": "stream",
          "name": "stderr",
          "text": [
            "\n"
          ]
        },
        {
          "output_type": "stream",
          "name": "stdout",
          "text": [
            "\n",
            "      Epoch    GPU_mem     box_om     cls_om     dfl_om     box_oo     cls_oo     dfl_oo  Instances       Size\n"
          ]
        },
        {
          "output_type": "stream",
          "name": "stderr",
          "text": [
            "    101/150      6.24G      1.066     0.5659      1.154      1.108     0.5617      1.147         47        640: 100%|██████████| 44/44 [00:36<00:00,  1.20it/s]\n",
            "                 Class     Images  Instances      Box(P          R      mAP50  mAP50-95): 100%|██████████| 2/2 [00:02<00:00,  1.05s/it]"
          ]
        },
        {
          "output_type": "stream",
          "name": "stdout",
          "text": [
            "                   all        103        110      0.749      0.664      0.647      0.223\n"
          ]
        },
        {
          "output_type": "stream",
          "name": "stderr",
          "text": [
            "\n"
          ]
        },
        {
          "output_type": "stream",
          "name": "stdout",
          "text": [
            "\n",
            "      Epoch    GPU_mem     box_om     cls_om     dfl_om     box_oo     cls_oo     dfl_oo  Instances       Size\n"
          ]
        },
        {
          "output_type": "stream",
          "name": "stderr",
          "text": [
            "    102/150      6.24G      1.066      0.557      1.159      1.117     0.5471      1.159         36        640: 100%|██████████| 44/44 [00:37<00:00,  1.18it/s]\n",
            "                 Class     Images  Instances      Box(P          R      mAP50  mAP50-95): 100%|██████████| 2/2 [00:01<00:00,  1.72it/s]"
          ]
        },
        {
          "output_type": "stream",
          "name": "stdout",
          "text": [
            "                   all        103        110      0.832      0.655      0.714      0.251\n"
          ]
        },
        {
          "output_type": "stream",
          "name": "stderr",
          "text": [
            "\n"
          ]
        },
        {
          "output_type": "stream",
          "name": "stdout",
          "text": [
            "\n",
            "      Epoch    GPU_mem     box_om     cls_om     dfl_om     box_oo     cls_oo     dfl_oo  Instances       Size\n"
          ]
        },
        {
          "output_type": "stream",
          "name": "stderr",
          "text": [
            "    103/150      6.21G      1.049     0.5464      1.145      1.093     0.5462      1.141         39        640: 100%|██████████| 44/44 [00:37<00:00,  1.17it/s]\n",
            "                 Class     Images  Instances      Box(P          R      mAP50  mAP50-95): 100%|██████████| 2/2 [00:01<00:00,  1.78it/s]"
          ]
        },
        {
          "output_type": "stream",
          "name": "stdout",
          "text": [
            "                   all        103        110      0.768      0.663      0.732      0.235\n"
          ]
        },
        {
          "output_type": "stream",
          "name": "stderr",
          "text": [
            "\n"
          ]
        },
        {
          "output_type": "stream",
          "name": "stdout",
          "text": [
            "\n",
            "      Epoch    GPU_mem     box_om     cls_om     dfl_om     box_oo     cls_oo     dfl_oo  Instances       Size\n"
          ]
        },
        {
          "output_type": "stream",
          "name": "stderr",
          "text": [
            "    104/150      6.21G      1.061     0.5623      1.159      1.116     0.5561       1.16         42        640: 100%|██████████| 44/44 [00:37<00:00,  1.16it/s]\n",
            "                 Class     Images  Instances      Box(P          R      mAP50  mAP50-95): 100%|██████████| 2/2 [00:01<00:00,  2.00it/s]"
          ]
        },
        {
          "output_type": "stream",
          "name": "stdout",
          "text": [
            "                   all        103        110      0.745      0.636      0.661       0.22\n"
          ]
        },
        {
          "output_type": "stream",
          "name": "stderr",
          "text": [
            "\n"
          ]
        },
        {
          "output_type": "stream",
          "name": "stdout",
          "text": [
            "\n",
            "      Epoch    GPU_mem     box_om     cls_om     dfl_om     box_oo     cls_oo     dfl_oo  Instances       Size\n"
          ]
        },
        {
          "output_type": "stream",
          "name": "stderr",
          "text": [
            "    105/150      6.21G      1.015      0.539      1.138      1.062      0.521      1.134         49        640: 100%|██████████| 44/44 [00:36<00:00,  1.20it/s]\n",
            "                 Class     Images  Instances      Box(P          R      mAP50  mAP50-95): 100%|██████████| 2/2 [00:01<00:00,  1.60it/s]"
          ]
        },
        {
          "output_type": "stream",
          "name": "stdout",
          "text": [
            "                   all        103        110      0.835      0.691      0.731       0.27\n"
          ]
        },
        {
          "output_type": "stream",
          "name": "stderr",
          "text": [
            "\n"
          ]
        },
        {
          "output_type": "stream",
          "name": "stdout",
          "text": [
            "\n",
            "      Epoch    GPU_mem     box_om     cls_om     dfl_om     box_oo     cls_oo     dfl_oo  Instances       Size\n"
          ]
        },
        {
          "output_type": "stream",
          "name": "stderr",
          "text": [
            "    106/150      6.21G      1.021     0.5417       1.13      1.071     0.5254      1.136         48        640: 100%|██████████| 44/44 [00:37<00:00,  1.18it/s]\n",
            "                 Class     Images  Instances      Box(P          R      mAP50  mAP50-95): 100%|██████████| 2/2 [00:01<00:00,  1.86it/s]"
          ]
        },
        {
          "output_type": "stream",
          "name": "stdout",
          "text": [
            "                   all        103        110      0.826        0.6      0.646      0.221\n"
          ]
        },
        {
          "output_type": "stream",
          "name": "stderr",
          "text": [
            "\n"
          ]
        },
        {
          "output_type": "stream",
          "name": "stdout",
          "text": [
            "\n",
            "      Epoch    GPU_mem     box_om     cls_om     dfl_om     box_oo     cls_oo     dfl_oo  Instances       Size\n"
          ]
        },
        {
          "output_type": "stream",
          "name": "stderr",
          "text": [
            "    107/150      6.21G      1.033     0.5328      1.136      1.085     0.5093      1.133         46        640: 100%|██████████| 44/44 [00:37<00:00,  1.18it/s]\n",
            "                 Class     Images  Instances      Box(P          R      mAP50  mAP50-95): 100%|██████████| 2/2 [00:01<00:00,  1.60it/s]"
          ]
        },
        {
          "output_type": "stream",
          "name": "stdout",
          "text": [
            "                   all        103        110      0.819      0.673      0.714      0.269\n"
          ]
        },
        {
          "output_type": "stream",
          "name": "stderr",
          "text": [
            "\n"
          ]
        },
        {
          "output_type": "stream",
          "name": "stdout",
          "text": [
            "\n",
            "      Epoch    GPU_mem     box_om     cls_om     dfl_om     box_oo     cls_oo     dfl_oo  Instances       Size\n"
          ]
        },
        {
          "output_type": "stream",
          "name": "stderr",
          "text": [
            "    108/150      6.21G      1.032     0.5482      1.134      1.094     0.5346      1.132         32        640: 100%|██████████| 44/44 [00:36<00:00,  1.19it/s]\n",
            "                 Class     Images  Instances      Box(P          R      mAP50  mAP50-95): 100%|██████████| 2/2 [00:01<00:00,  1.86it/s]"
          ]
        },
        {
          "output_type": "stream",
          "name": "stdout",
          "text": [
            "                   all        103        110      0.785      0.699      0.731      0.239\n"
          ]
        },
        {
          "output_type": "stream",
          "name": "stderr",
          "text": [
            "\n"
          ]
        },
        {
          "output_type": "stream",
          "name": "stdout",
          "text": [
            "\n",
            "      Epoch    GPU_mem     box_om     cls_om     dfl_om     box_oo     cls_oo     dfl_oo  Instances       Size\n"
          ]
        },
        {
          "output_type": "stream",
          "name": "stderr",
          "text": [
            "    109/150      6.21G      1.011     0.5198      1.126      1.063      0.503      1.124         31        640: 100%|██████████| 44/44 [00:36<00:00,  1.20it/s]\n",
            "                 Class     Images  Instances      Box(P          R      mAP50  mAP50-95): 100%|██████████| 2/2 [00:01<00:00,  1.89it/s]"
          ]
        },
        {
          "output_type": "stream",
          "name": "stdout",
          "text": [
            "                   all        103        110      0.767      0.749      0.768      0.297\n"
          ]
        },
        {
          "output_type": "stream",
          "name": "stderr",
          "text": [
            "\n"
          ]
        },
        {
          "output_type": "stream",
          "name": "stdout",
          "text": [
            "\n",
            "      Epoch    GPU_mem     box_om     cls_om     dfl_om     box_oo     cls_oo     dfl_oo  Instances       Size\n"
          ]
        },
        {
          "output_type": "stream",
          "name": "stderr",
          "text": [
            "    110/150      6.21G      1.019     0.5259       1.13      1.072     0.5095      1.131         45        640: 100%|██████████| 44/44 [00:35<00:00,  1.24it/s]\n",
            "                 Class     Images  Instances      Box(P          R      mAP50  mAP50-95): 100%|██████████| 2/2 [00:01<00:00,  1.21it/s]"
          ]
        },
        {
          "output_type": "stream",
          "name": "stdout",
          "text": [
            "                   all        103        110      0.876      0.664      0.742      0.274\n"
          ]
        },
        {
          "output_type": "stream",
          "name": "stderr",
          "text": [
            "\n"
          ]
        },
        {
          "output_type": "stream",
          "name": "stdout",
          "text": [
            "\n",
            "      Epoch    GPU_mem     box_om     cls_om     dfl_om     box_oo     cls_oo     dfl_oo  Instances       Size\n"
          ]
        },
        {
          "output_type": "stream",
          "name": "stderr",
          "text": [
            "    111/150      6.21G      1.011     0.5342      1.118       1.06      0.517      1.119         47        640: 100%|██████████| 44/44 [00:35<00:00,  1.25it/s]\n",
            "                 Class     Images  Instances      Box(P          R      mAP50  mAP50-95): 100%|██████████| 2/2 [00:01<00:00,  1.20it/s]"
          ]
        },
        {
          "output_type": "stream",
          "name": "stdout",
          "text": [
            "                   all        103        110       0.79      0.627      0.681      0.253\n"
          ]
        },
        {
          "output_type": "stream",
          "name": "stderr",
          "text": [
            "\n"
          ]
        },
        {
          "output_type": "stream",
          "name": "stdout",
          "text": [
            "\n",
            "      Epoch    GPU_mem     box_om     cls_om     dfl_om     box_oo     cls_oo     dfl_oo  Instances       Size\n"
          ]
        },
        {
          "output_type": "stream",
          "name": "stderr",
          "text": [
            "    112/150      6.21G     0.9951     0.5264      1.121      1.047     0.5018      1.123         36        640: 100%|██████████| 44/44 [00:35<00:00,  1.23it/s]\n",
            "                 Class     Images  Instances      Box(P          R      mAP50  mAP50-95): 100%|██████████| 2/2 [00:01<00:00,  1.15it/s]"
          ]
        },
        {
          "output_type": "stream",
          "name": "stdout",
          "text": [
            "                   all        103        110      0.825      0.627      0.703       0.26\n"
          ]
        },
        {
          "output_type": "stream",
          "name": "stderr",
          "text": [
            "\n"
          ]
        },
        {
          "output_type": "stream",
          "name": "stdout",
          "text": [
            "\n",
            "      Epoch    GPU_mem     box_om     cls_om     dfl_om     box_oo     cls_oo     dfl_oo  Instances       Size\n"
          ]
        },
        {
          "output_type": "stream",
          "name": "stderr",
          "text": [
            "    113/150      6.21G     0.9974     0.5377      1.121      1.051     0.5265      1.129         43        640: 100%|██████████| 44/44 [00:35<00:00,  1.24it/s]\n",
            "                 Class     Images  Instances      Box(P          R      mAP50  mAP50-95): 100%|██████████| 2/2 [00:01<00:00,  1.59it/s]"
          ]
        },
        {
          "output_type": "stream",
          "name": "stdout",
          "text": [
            "                   all        103        110      0.819      0.645      0.709      0.261\n"
          ]
        },
        {
          "output_type": "stream",
          "name": "stderr",
          "text": [
            "\n"
          ]
        },
        {
          "output_type": "stream",
          "name": "stdout",
          "text": [
            "\n",
            "      Epoch    GPU_mem     box_om     cls_om     dfl_om     box_oo     cls_oo     dfl_oo  Instances       Size\n"
          ]
        },
        {
          "output_type": "stream",
          "name": "stderr",
          "text": [
            "    114/150      6.21G     0.9875     0.5157      1.102      1.029     0.4896      1.104         47        640: 100%|██████████| 44/44 [00:36<00:00,  1.21it/s]\n",
            "                 Class     Images  Instances      Box(P          R      mAP50  mAP50-95): 100%|██████████| 2/2 [00:01<00:00,  1.16it/s]"
          ]
        },
        {
          "output_type": "stream",
          "name": "stdout",
          "text": [
            "                   all        103        110      0.876      0.645      0.729      0.269\n"
          ]
        },
        {
          "output_type": "stream",
          "name": "stderr",
          "text": [
            "\n"
          ]
        },
        {
          "output_type": "stream",
          "name": "stdout",
          "text": [
            "\n",
            "      Epoch    GPU_mem     box_om     cls_om     dfl_om     box_oo     cls_oo     dfl_oo  Instances       Size\n"
          ]
        },
        {
          "output_type": "stream",
          "name": "stderr",
          "text": [
            "    115/150      6.21G     0.9901     0.5166      1.114       1.03     0.4936      1.113         51        640: 100%|██████████| 44/44 [00:36<00:00,  1.22it/s]\n",
            "                 Class     Images  Instances      Box(P          R      mAP50  mAP50-95): 100%|██████████| 2/2 [00:01<00:00,  1.25it/s]"
          ]
        },
        {
          "output_type": "stream",
          "name": "stdout",
          "text": [
            "                   all        103        110      0.819      0.673      0.708      0.255\n"
          ]
        },
        {
          "output_type": "stream",
          "name": "stderr",
          "text": [
            "\n"
          ]
        },
        {
          "output_type": "stream",
          "name": "stdout",
          "text": [
            "\n",
            "      Epoch    GPU_mem     box_om     cls_om     dfl_om     box_oo     cls_oo     dfl_oo  Instances       Size\n"
          ]
        },
        {
          "output_type": "stream",
          "name": "stderr",
          "text": [
            "    116/150      6.21G      0.997     0.5219      1.121      1.049     0.5137      1.112         42        640: 100%|██████████| 44/44 [00:36<00:00,  1.21it/s]\n",
            "                 Class     Images  Instances      Box(P          R      mAP50  mAP50-95): 100%|██████████| 2/2 [00:01<00:00,  1.95it/s]"
          ]
        },
        {
          "output_type": "stream",
          "name": "stdout",
          "text": [
            "                   all        103        110       0.77      0.591      0.624      0.218\n"
          ]
        },
        {
          "output_type": "stream",
          "name": "stderr",
          "text": [
            "\n"
          ]
        },
        {
          "output_type": "stream",
          "name": "stdout",
          "text": [
            "\n",
            "      Epoch    GPU_mem     box_om     cls_om     dfl_om     box_oo     cls_oo     dfl_oo  Instances       Size\n"
          ]
        },
        {
          "output_type": "stream",
          "name": "stderr",
          "text": [
            "    117/150      6.21G     0.9858     0.5175      1.114      1.035     0.5062      1.114         45        640: 100%|██████████| 44/44 [00:36<00:00,  1.19it/s]\n",
            "                 Class     Images  Instances      Box(P          R      mAP50  mAP50-95): 100%|██████████| 2/2 [00:01<00:00,  1.58it/s]"
          ]
        },
        {
          "output_type": "stream",
          "name": "stdout",
          "text": [
            "                   all        103        110      0.757      0.682      0.674      0.239\n"
          ]
        },
        {
          "output_type": "stream",
          "name": "stderr",
          "text": [
            "\n"
          ]
        },
        {
          "output_type": "stream",
          "name": "stdout",
          "text": [
            "\n",
            "      Epoch    GPU_mem     box_om     cls_om     dfl_om     box_oo     cls_oo     dfl_oo  Instances       Size\n"
          ]
        },
        {
          "output_type": "stream",
          "name": "stderr",
          "text": [
            "    118/150      6.21G     0.9494     0.4962      1.092     0.9926     0.4871      1.091         37        640: 100%|██████████| 44/44 [00:37<00:00,  1.18it/s]\n",
            "                 Class     Images  Instances      Box(P          R      mAP50  mAP50-95): 100%|██████████| 2/2 [00:01<00:00,  1.73it/s]"
          ]
        },
        {
          "output_type": "stream",
          "name": "stdout",
          "text": [
            "                   all        103        110      0.819      0.617      0.716      0.252\n"
          ]
        },
        {
          "output_type": "stream",
          "name": "stderr",
          "text": [
            "\n"
          ]
        },
        {
          "output_type": "stream",
          "name": "stdout",
          "text": [
            "\n",
            "      Epoch    GPU_mem     box_om     cls_om     dfl_om     box_oo     cls_oo     dfl_oo  Instances       Size\n"
          ]
        },
        {
          "output_type": "stream",
          "name": "stderr",
          "text": [
            "    119/150      6.21G     0.9851     0.5078      1.106      1.029     0.4933        1.1         43        640: 100%|██████████| 44/44 [00:36<00:00,  1.20it/s]\n",
            "                 Class     Images  Instances      Box(P          R      mAP50  mAP50-95): 100%|██████████| 2/2 [00:01<00:00,  1.66it/s]"
          ]
        },
        {
          "output_type": "stream",
          "name": "stdout",
          "text": [
            "                   all        103        110      0.791      0.618      0.689      0.247\n"
          ]
        },
        {
          "output_type": "stream",
          "name": "stderr",
          "text": [
            "\n"
          ]
        },
        {
          "output_type": "stream",
          "name": "stdout",
          "text": [
            "\n",
            "      Epoch    GPU_mem     box_om     cls_om     dfl_om     box_oo     cls_oo     dfl_oo  Instances       Size\n"
          ]
        },
        {
          "output_type": "stream",
          "name": "stderr",
          "text": [
            "    120/150      6.21G     0.9589     0.4956      1.102      1.008     0.4758      1.097         49        640: 100%|██████████| 44/44 [00:37<00:00,  1.16it/s]\n",
            "                 Class     Images  Instances      Box(P          R      mAP50  mAP50-95): 100%|██████████| 2/2 [00:01<00:00,  1.68it/s]"
          ]
        },
        {
          "output_type": "stream",
          "name": "stdout",
          "text": [
            "                   all        103        110      0.836       0.65      0.735      0.267\n"
          ]
        },
        {
          "output_type": "stream",
          "name": "stderr",
          "text": [
            "\n"
          ]
        },
        {
          "output_type": "stream",
          "name": "stdout",
          "text": [
            "\n",
            "      Epoch    GPU_mem     box_om     cls_om     dfl_om     box_oo     cls_oo     dfl_oo  Instances       Size\n"
          ]
        },
        {
          "output_type": "stream",
          "name": "stderr",
          "text": [
            "    121/150      6.21G      0.971     0.5116      1.102      1.022     0.4922      1.094         46        640: 100%|██████████| 44/44 [00:36<00:00,  1.21it/s]\n",
            "                 Class     Images  Instances      Box(P          R      mAP50  mAP50-95): 100%|██████████| 2/2 [00:01<00:00,  1.71it/s]"
          ]
        },
        {
          "output_type": "stream",
          "name": "stdout",
          "text": [
            "                   all        103        110       0.73      0.664      0.664      0.252\n"
          ]
        },
        {
          "output_type": "stream",
          "name": "stderr",
          "text": [
            "\n"
          ]
        },
        {
          "output_type": "stream",
          "name": "stdout",
          "text": [
            "\n",
            "      Epoch    GPU_mem     box_om     cls_om     dfl_om     box_oo     cls_oo     dfl_oo  Instances       Size\n"
          ]
        },
        {
          "output_type": "stream",
          "name": "stderr",
          "text": [
            "    122/150      6.24G     0.9624     0.5025      1.102      1.008     0.4672      1.092         35        640: 100%|██████████| 44/44 [00:35<00:00,  1.23it/s]\n",
            "                 Class     Images  Instances      Box(P          R      mAP50  mAP50-95): 100%|██████████| 2/2 [00:01<00:00,  1.17it/s]\n"
          ]
        },
        {
          "output_type": "stream",
          "name": "stdout",
          "text": [
            "                   all        103        110       0.84      0.636      0.699      0.256\n",
            "\n",
            "      Epoch    GPU_mem     box_om     cls_om     dfl_om     box_oo     cls_oo     dfl_oo  Instances       Size\n"
          ]
        },
        {
          "output_type": "stream",
          "name": "stderr",
          "text": [
            "    123/150      6.21G     0.9534     0.4947       1.09      1.004     0.4647      1.083         39        640: 100%|██████████| 44/44 [00:36<00:00,  1.21it/s]\n",
            "                 Class     Images  Instances      Box(P          R      mAP50  mAP50-95): 100%|██████████| 2/2 [00:02<00:00,  1.05s/it]"
          ]
        },
        {
          "output_type": "stream",
          "name": "stdout",
          "text": [
            "                   all        103        110      0.797      0.643       0.71      0.242\n"
          ]
        },
        {
          "output_type": "stream",
          "name": "stderr",
          "text": [
            "\n"
          ]
        },
        {
          "output_type": "stream",
          "name": "stdout",
          "text": [
            "\n",
            "      Epoch    GPU_mem     box_om     cls_om     dfl_om     box_oo     cls_oo     dfl_oo  Instances       Size\n"
          ]
        },
        {
          "output_type": "stream",
          "name": "stderr",
          "text": [
            "    124/150      6.21G     0.9404     0.5063      1.095     0.9896     0.4826      1.093         45        640: 100%|██████████| 44/44 [00:36<00:00,  1.22it/s]\n",
            "                 Class     Images  Instances      Box(P          R      mAP50  mAP50-95): 100%|██████████| 2/2 [00:02<00:00,  1.02s/it]"
          ]
        },
        {
          "output_type": "stream",
          "name": "stdout",
          "text": [
            "                   all        103        110      0.889      0.609      0.726      0.239\n"
          ]
        },
        {
          "output_type": "stream",
          "name": "stderr",
          "text": [
            "\n"
          ]
        },
        {
          "output_type": "stream",
          "name": "stdout",
          "text": [
            "\n",
            "      Epoch    GPU_mem     box_om     cls_om     dfl_om     box_oo     cls_oo     dfl_oo  Instances       Size\n"
          ]
        },
        {
          "output_type": "stream",
          "name": "stderr",
          "text": [
            "    125/150      6.21G      0.945     0.5024       1.09     0.9975     0.4816      1.081         43        640: 100%|██████████| 44/44 [00:36<00:00,  1.20it/s]\n",
            "                 Class     Images  Instances      Box(P          R      mAP50  mAP50-95): 100%|██████████| 2/2 [00:01<00:00,  1.62it/s]"
          ]
        },
        {
          "output_type": "stream",
          "name": "stdout",
          "text": [
            "                   all        103        110      0.813      0.709      0.783      0.292\n"
          ]
        },
        {
          "output_type": "stream",
          "name": "stderr",
          "text": [
            "\n"
          ]
        },
        {
          "output_type": "stream",
          "name": "stdout",
          "text": [
            "\n",
            "      Epoch    GPU_mem     box_om     cls_om     dfl_om     box_oo     cls_oo     dfl_oo  Instances       Size\n"
          ]
        },
        {
          "output_type": "stream",
          "name": "stderr",
          "text": [
            "    126/150      6.21G     0.9492     0.4981      1.092     0.9961     0.4621      1.087         44        640: 100%|██████████| 44/44 [00:37<00:00,  1.16it/s]\n",
            "                 Class     Images  Instances      Box(P          R      mAP50  mAP50-95): 100%|██████████| 2/2 [00:01<00:00,  1.65it/s]"
          ]
        },
        {
          "output_type": "stream",
          "name": "stdout",
          "text": [
            "                   all        103        110      0.766      0.626      0.699      0.251\n"
          ]
        },
        {
          "output_type": "stream",
          "name": "stderr",
          "text": [
            "\n"
          ]
        },
        {
          "output_type": "stream",
          "name": "stdout",
          "text": [
            "\n",
            "      Epoch    GPU_mem     box_om     cls_om     dfl_om     box_oo     cls_oo     dfl_oo  Instances       Size\n"
          ]
        },
        {
          "output_type": "stream",
          "name": "stderr",
          "text": [
            "    127/150      6.21G      0.935     0.4877      1.084     0.9881     0.4622      1.082         36        640: 100%|██████████| 44/44 [00:37<00:00,  1.16it/s]\n",
            "                 Class     Images  Instances      Box(P          R      mAP50  mAP50-95): 100%|██████████| 2/2 [00:00<00:00,  2.01it/s]"
          ]
        },
        {
          "output_type": "stream",
          "name": "stdout",
          "text": [
            "                   all        103        110      0.831      0.636       0.72      0.243\n"
          ]
        },
        {
          "output_type": "stream",
          "name": "stderr",
          "text": [
            "\n"
          ]
        },
        {
          "output_type": "stream",
          "name": "stdout",
          "text": [
            "\n",
            "      Epoch    GPU_mem     box_om     cls_om     dfl_om     box_oo     cls_oo     dfl_oo  Instances       Size\n"
          ]
        },
        {
          "output_type": "stream",
          "name": "stderr",
          "text": [
            "    128/150      6.21G     0.9228      0.488      1.084     0.9743     0.4642      1.085         48        640: 100%|██████████| 44/44 [00:37<00:00,  1.18it/s]\n",
            "                 Class     Images  Instances      Box(P          R      mAP50  mAP50-95): 100%|██████████| 2/2 [00:01<00:00,  1.73it/s]"
          ]
        },
        {
          "output_type": "stream",
          "name": "stdout",
          "text": [
            "                   all        103        110      0.867      0.618      0.716      0.259\n"
          ]
        },
        {
          "output_type": "stream",
          "name": "stderr",
          "text": [
            "\n"
          ]
        },
        {
          "output_type": "stream",
          "name": "stdout",
          "text": [
            "\n",
            "      Epoch    GPU_mem     box_om     cls_om     dfl_om     box_oo     cls_oo     dfl_oo  Instances       Size\n"
          ]
        },
        {
          "output_type": "stream",
          "name": "stderr",
          "text": [
            "    129/150      6.21G     0.9141     0.4818      1.072     0.9616     0.4568      1.073         38        640: 100%|██████████| 44/44 [00:37<00:00,  1.16it/s]\n",
            "                 Class     Images  Instances      Box(P          R      mAP50  mAP50-95): 100%|██████████| 2/2 [00:01<00:00,  1.44it/s]"
          ]
        },
        {
          "output_type": "stream",
          "name": "stdout",
          "text": [
            "                   all        103        110      0.906      0.616       0.75       0.27\n"
          ]
        },
        {
          "output_type": "stream",
          "name": "stderr",
          "text": [
            "\n"
          ]
        },
        {
          "output_type": "stream",
          "name": "stdout",
          "text": [
            "\n",
            "      Epoch    GPU_mem     box_om     cls_om     dfl_om     box_oo     cls_oo     dfl_oo  Instances       Size\n"
          ]
        },
        {
          "output_type": "stream",
          "name": "stderr",
          "text": [
            "    130/150      6.21G     0.9116     0.4816       1.07     0.9516      0.468      1.066         49        640: 100%|██████████| 44/44 [00:37<00:00,  1.17it/s]\n",
            "                 Class     Images  Instances      Box(P          R      mAP50  mAP50-95): 100%|██████████| 2/2 [00:01<00:00,  1.16it/s]"
          ]
        },
        {
          "output_type": "stream",
          "name": "stdout",
          "text": [
            "                   all        103        110      0.818      0.673      0.744      0.268\n"
          ]
        },
        {
          "output_type": "stream",
          "name": "stderr",
          "text": [
            "\n"
          ]
        },
        {
          "output_type": "stream",
          "name": "stdout",
          "text": [
            "\n",
            "      Epoch    GPU_mem     box_om     cls_om     dfl_om     box_oo     cls_oo     dfl_oo  Instances       Size\n"
          ]
        },
        {
          "output_type": "stream",
          "name": "stderr",
          "text": [
            "    131/150      6.21G     0.9207     0.4819      1.083      0.966     0.4698      1.081         29        640: 100%|██████████| 44/44 [00:39<00:00,  1.11it/s]\n",
            "                 Class     Images  Instances      Box(P          R      mAP50  mAP50-95): 100%|██████████| 2/2 [00:02<00:00,  1.18s/it]"
          ]
        },
        {
          "output_type": "stream",
          "name": "stdout",
          "text": [
            "                   all        103        110      0.908      0.573      0.717      0.252\n"
          ]
        },
        {
          "output_type": "stream",
          "name": "stderr",
          "text": [
            "\n"
          ]
        },
        {
          "output_type": "stream",
          "name": "stdout",
          "text": [
            "\n",
            "      Epoch    GPU_mem     box_om     cls_om     dfl_om     box_oo     cls_oo     dfl_oo  Instances       Size\n"
          ]
        },
        {
          "output_type": "stream",
          "name": "stderr",
          "text": [
            "    132/150      6.21G     0.9151     0.4895      1.084     0.9641     0.4715      1.082         39        640: 100%|██████████| 44/44 [00:39<00:00,  1.11it/s]\n",
            "                 Class     Images  Instances      Box(P          R      mAP50  mAP50-95): 100%|██████████| 2/2 [00:01<00:00,  1.56it/s]"
          ]
        },
        {
          "output_type": "stream",
          "name": "stdout",
          "text": [
            "                   all        103        110      0.797      0.664      0.701      0.258\n"
          ]
        },
        {
          "output_type": "stream",
          "name": "stderr",
          "text": [
            "\n"
          ]
        },
        {
          "output_type": "stream",
          "name": "stdout",
          "text": [
            "\n",
            "      Epoch    GPU_mem     box_om     cls_om     dfl_om     box_oo     cls_oo     dfl_oo  Instances       Size\n"
          ]
        },
        {
          "output_type": "stream",
          "name": "stderr",
          "text": [
            "    133/150      6.21G     0.9031     0.4741      1.068     0.9465     0.4516      1.068         50        640: 100%|██████████| 44/44 [00:37<00:00,  1.16it/s]\n",
            "                 Class     Images  Instances      Box(P          R      mAP50  mAP50-95): 100%|██████████| 2/2 [00:01<00:00,  1.48it/s]"
          ]
        },
        {
          "output_type": "stream",
          "name": "stdout",
          "text": [
            "                   all        103        110      0.828      0.699      0.736      0.281\n"
          ]
        },
        {
          "output_type": "stream",
          "name": "stderr",
          "text": [
            "\n"
          ]
        },
        {
          "output_type": "stream",
          "name": "stdout",
          "text": [
            "\n",
            "      Epoch    GPU_mem     box_om     cls_om     dfl_om     box_oo     cls_oo     dfl_oo  Instances       Size\n"
          ]
        },
        {
          "output_type": "stream",
          "name": "stderr",
          "text": [
            "    134/150      6.21G     0.9115     0.4772      1.074     0.9495     0.4617      1.069         44        640: 100%|██████████| 44/44 [00:38<00:00,  1.13it/s]\n",
            "                 Class     Images  Instances      Box(P          R      mAP50  mAP50-95): 100%|██████████| 2/2 [00:01<00:00,  1.89it/s]"
          ]
        },
        {
          "output_type": "stream",
          "name": "stdout",
          "text": [
            "                   all        103        110      0.846      0.636      0.722       0.26\n"
          ]
        },
        {
          "output_type": "stream",
          "name": "stderr",
          "text": [
            "\n"
          ]
        },
        {
          "output_type": "stream",
          "name": "stdout",
          "text": [
            "\n",
            "      Epoch    GPU_mem     box_om     cls_om     dfl_om     box_oo     cls_oo     dfl_oo  Instances       Size\n"
          ]
        },
        {
          "output_type": "stream",
          "name": "stderr",
          "text": [
            "    135/150      6.21G     0.9235     0.4916      1.084     0.9734     0.4919      1.088         40        640: 100%|██████████| 44/44 [00:38<00:00,  1.16it/s]\n",
            "                 Class     Images  Instances      Box(P          R      mAP50  mAP50-95): 100%|██████████| 2/2 [00:01<00:00,  1.68it/s]"
          ]
        },
        {
          "output_type": "stream",
          "name": "stdout",
          "text": [
            "                   all        103        110      0.749      0.727      0.745      0.268\n"
          ]
        },
        {
          "output_type": "stream",
          "name": "stderr",
          "text": [
            "\n"
          ]
        },
        {
          "output_type": "stream",
          "name": "stdout",
          "text": [
            "\n",
            "      Epoch    GPU_mem     box_om     cls_om     dfl_om     box_oo     cls_oo     dfl_oo  Instances       Size\n"
          ]
        },
        {
          "output_type": "stream",
          "name": "stderr",
          "text": [
            "    136/150      6.21G     0.9046      0.472      1.067     0.9471     0.4576      1.062         36        640: 100%|██████████| 44/44 [00:38<00:00,  1.14it/s]\n",
            "                 Class     Images  Instances      Box(P          R      mAP50  mAP50-95): 100%|██████████| 2/2 [00:01<00:00,  1.75it/s]"
          ]
        },
        {
          "output_type": "stream",
          "name": "stdout",
          "text": [
            "                   all        103        110      0.848      0.682      0.749      0.279\n"
          ]
        },
        {
          "output_type": "stream",
          "name": "stderr",
          "text": [
            "\n"
          ]
        },
        {
          "output_type": "stream",
          "name": "stdout",
          "text": [
            "\n",
            "      Epoch    GPU_mem     box_om     cls_om     dfl_om     box_oo     cls_oo     dfl_oo  Instances       Size\n"
          ]
        },
        {
          "output_type": "stream",
          "name": "stderr",
          "text": [
            "    137/150      6.21G     0.9097     0.4691       1.07     0.9495     0.4497      1.066         45        640: 100%|██████████| 44/44 [00:38<00:00,  1.16it/s]\n",
            "                 Class     Images  Instances      Box(P          R      mAP50  mAP50-95): 100%|██████████| 2/2 [00:01<00:00,  1.28it/s]"
          ]
        },
        {
          "output_type": "stream",
          "name": "stdout",
          "text": [
            "                   all        103        110      0.867      0.673      0.737      0.265\n"
          ]
        },
        {
          "output_type": "stream",
          "name": "stderr",
          "text": [
            "\n"
          ]
        },
        {
          "output_type": "stream",
          "name": "stdout",
          "text": [
            "\n",
            "      Epoch    GPU_mem     box_om     cls_om     dfl_om     box_oo     cls_oo     dfl_oo  Instances       Size\n"
          ]
        },
        {
          "output_type": "stream",
          "name": "stderr",
          "text": [
            "    138/150      6.21G     0.9049     0.4743      1.077     0.9525       0.47       1.08         43        640: 100%|██████████| 44/44 [00:38<00:00,  1.16it/s]\n",
            "                 Class     Images  Instances      Box(P          R      mAP50  mAP50-95): 100%|██████████| 2/2 [00:01<00:00,  1.07it/s]"
          ]
        },
        {
          "output_type": "stream",
          "name": "stdout",
          "text": [
            "                   all        103        110      0.832      0.673      0.727      0.275\n"
          ]
        },
        {
          "output_type": "stream",
          "name": "stderr",
          "text": [
            "\n"
          ]
        },
        {
          "output_type": "stream",
          "name": "stdout",
          "text": [
            "\n",
            "      Epoch    GPU_mem     box_om     cls_om     dfl_om     box_oo     cls_oo     dfl_oo  Instances       Size\n"
          ]
        },
        {
          "output_type": "stream",
          "name": "stderr",
          "text": [
            "    139/150      6.21G     0.8784     0.4594      1.064     0.9231     0.4457      1.066         39        640: 100%|██████████| 44/44 [00:37<00:00,  1.19it/s]\n",
            "                 Class     Images  Instances      Box(P          R      mAP50  mAP50-95): 100%|██████████| 2/2 [00:02<00:00,  1.03s/it]"
          ]
        },
        {
          "output_type": "stream",
          "name": "stdout",
          "text": [
            "                   all        103        110      0.881      0.672      0.755      0.268\n"
          ]
        },
        {
          "output_type": "stream",
          "name": "stderr",
          "text": [
            "\n"
          ]
        },
        {
          "output_type": "stream",
          "name": "stdout",
          "text": [
            "\n",
            "      Epoch    GPU_mem     box_om     cls_om     dfl_om     box_oo     cls_oo     dfl_oo  Instances       Size\n"
          ]
        },
        {
          "output_type": "stream",
          "name": "stderr",
          "text": [
            "    140/150      6.21G     0.8746     0.4519      1.048     0.9211     0.4202      1.047         47        640: 100%|██████████| 44/44 [00:37<00:00,  1.16it/s]\n",
            "                 Class     Images  Instances      Box(P          R      mAP50  mAP50-95): 100%|██████████| 2/2 [00:01<00:00,  1.61it/s]"
          ]
        },
        {
          "output_type": "stream",
          "name": "stdout",
          "text": [
            "                   all        103        110      0.799      0.689      0.724      0.271\n"
          ]
        },
        {
          "output_type": "stream",
          "name": "stderr",
          "text": [
            "\n"
          ]
        },
        {
          "output_type": "stream",
          "name": "stdout",
          "text": [
            "Closing dataloader mosaic\n",
            "\u001b[34m\u001b[1malbumentations: \u001b[0mBlur(p=0.01, blur_limit=(3, 7)), MedianBlur(p=0.01, blur_limit=(3, 7)), ToGray(p=0.01, num_output_channels=3, method='weighted_average'), CLAHE(p=0.01, clip_limit=(1.0, 4.0), tile_grid_size=(8, 8))\n"
          ]
        },
        {
          "output_type": "stream",
          "name": "stderr",
          "text": [
            "/usr/local/lib/python3.10/dist-packages/albumentations/core/composition.py:205: UserWarning: Got processor for bboxes, but no transform to process it.\n",
            "  self._set_keys()\n"
          ]
        },
        {
          "output_type": "stream",
          "name": "stdout",
          "text": [
            "\n",
            "      Epoch    GPU_mem     box_om     cls_om     dfl_om     box_oo     cls_oo     dfl_oo  Instances       Size\n"
          ]
        },
        {
          "output_type": "stream",
          "name": "stderr",
          "text": [
            "    141/150      6.21G     0.8476     0.3939      1.063     0.8748     0.2906      1.063         19        640: 100%|██████████| 44/44 [00:41<00:00,  1.07it/s]\n",
            "                 Class     Images  Instances      Box(P          R      mAP50  mAP50-95): 100%|██████████| 2/2 [00:00<00:00,  2.03it/s]"
          ]
        },
        {
          "output_type": "stream",
          "name": "stdout",
          "text": [
            "                   all        103        110      0.827       0.65      0.704      0.249\n"
          ]
        },
        {
          "output_type": "stream",
          "name": "stderr",
          "text": [
            "\n"
          ]
        },
        {
          "output_type": "stream",
          "name": "stdout",
          "text": [
            "\n",
            "      Epoch    GPU_mem     box_om     cls_om     dfl_om     box_oo     cls_oo     dfl_oo  Instances       Size\n"
          ]
        },
        {
          "output_type": "stream",
          "name": "stderr",
          "text": [
            "    142/150      6.21G     0.7992     0.3649      1.027     0.8212     0.2582      1.032         20        640: 100%|██████████| 44/44 [00:37<00:00,  1.18it/s]\n",
            "                 Class     Images  Instances      Box(P          R      mAP50  mAP50-95): 100%|██████████| 2/2 [00:01<00:00,  1.56it/s]"
          ]
        },
        {
          "output_type": "stream",
          "name": "stdout",
          "text": [
            "                   all        103        110      0.794      0.664      0.702       0.25\n"
          ]
        },
        {
          "output_type": "stream",
          "name": "stderr",
          "text": [
            "\n"
          ]
        },
        {
          "output_type": "stream",
          "name": "stdout",
          "text": [
            "\n",
            "      Epoch    GPU_mem     box_om     cls_om     dfl_om     box_oo     cls_oo     dfl_oo  Instances       Size\n"
          ]
        },
        {
          "output_type": "stream",
          "name": "stderr",
          "text": [
            "    143/150      6.21G     0.7828     0.3587      1.033     0.7982     0.2538      1.035         20        640: 100%|██████████| 44/44 [00:37<00:00,  1.18it/s]\n",
            "                 Class     Images  Instances      Box(P          R      mAP50  mAP50-95): 100%|██████████| 2/2 [00:01<00:00,  1.84it/s]"
          ]
        },
        {
          "output_type": "stream",
          "name": "stdout",
          "text": [
            "                   all        103        110      0.866      0.655      0.717      0.264\n"
          ]
        },
        {
          "output_type": "stream",
          "name": "stderr",
          "text": [
            "\n"
          ]
        },
        {
          "output_type": "stream",
          "name": "stdout",
          "text": [
            "\n",
            "      Epoch    GPU_mem     box_om     cls_om     dfl_om     box_oo     cls_oo     dfl_oo  Instances       Size\n"
          ]
        },
        {
          "output_type": "stream",
          "name": "stderr",
          "text": [
            "    144/150      6.21G     0.7751     0.3572      1.024     0.8003      0.243       1.03         20        640: 100%|██████████| 44/44 [00:36<00:00,  1.20it/s]\n",
            "                 Class     Images  Instances      Box(P          R      mAP50  mAP50-95): 100%|██████████| 2/2 [00:01<00:00,  1.77it/s]"
          ]
        },
        {
          "output_type": "stream",
          "name": "stdout",
          "text": [
            "                   all        103        110      0.734      0.702      0.712      0.255\n"
          ]
        },
        {
          "output_type": "stream",
          "name": "stderr",
          "text": [
            "\n"
          ]
        },
        {
          "output_type": "stream",
          "name": "stdout",
          "text": [
            "\n",
            "      Epoch    GPU_mem     box_om     cls_om     dfl_om     box_oo     cls_oo     dfl_oo  Instances       Size\n"
          ]
        },
        {
          "output_type": "stream",
          "name": "stderr",
          "text": [
            "    145/150      6.21G     0.7704     0.3491      1.019     0.7874      0.238       1.02         20        640: 100%|██████████| 44/44 [00:36<00:00,  1.19it/s]\n",
            "                 Class     Images  Instances      Box(P          R      mAP50  mAP50-95): 100%|██████████| 2/2 [00:01<00:00,  1.19it/s]"
          ]
        },
        {
          "output_type": "stream",
          "name": "stdout",
          "text": [
            "                   all        103        110      0.849      0.655       0.73      0.263\n"
          ]
        },
        {
          "output_type": "stream",
          "name": "stderr",
          "text": [
            "\n"
          ]
        },
        {
          "output_type": "stream",
          "name": "stdout",
          "text": [
            "\n",
            "      Epoch    GPU_mem     box_om     cls_om     dfl_om     box_oo     cls_oo     dfl_oo  Instances       Size\n"
          ]
        },
        {
          "output_type": "stream",
          "name": "stderr",
          "text": [
            "    146/150      6.21G     0.7527     0.3449      1.016     0.7657     0.2413      1.016         19        640: 100%|██████████| 44/44 [00:36<00:00,  1.20it/s]\n",
            "                 Class     Images  Instances      Box(P          R      mAP50  mAP50-95): 100%|██████████| 2/2 [00:01<00:00,  1.18it/s]"
          ]
        },
        {
          "output_type": "stream",
          "name": "stdout",
          "text": [
            "                   all        103        110      0.856      0.664      0.726      0.268\n"
          ]
        },
        {
          "output_type": "stream",
          "name": "stderr",
          "text": [
            "\n"
          ]
        },
        {
          "output_type": "stream",
          "name": "stdout",
          "text": [
            "\n",
            "      Epoch    GPU_mem     box_om     cls_om     dfl_om     box_oo     cls_oo     dfl_oo  Instances       Size\n"
          ]
        },
        {
          "output_type": "stream",
          "name": "stderr",
          "text": [
            "    147/150      6.21G     0.7694     0.3541      1.022     0.7859     0.2454      1.022         19        640: 100%|██████████| 44/44 [00:34<00:00,  1.26it/s]\n",
            "                 Class     Images  Instances      Box(P          R      mAP50  mAP50-95): 100%|██████████| 2/2 [00:02<00:00,  1.16s/it]"
          ]
        },
        {
          "output_type": "stream",
          "name": "stdout",
          "text": [
            "                   all        103        110      0.855      0.655      0.717      0.264\n"
          ]
        },
        {
          "output_type": "stream",
          "name": "stderr",
          "text": [
            "\n"
          ]
        },
        {
          "output_type": "stream",
          "name": "stdout",
          "text": [
            "\n",
            "      Epoch    GPU_mem     box_om     cls_om     dfl_om     box_oo     cls_oo     dfl_oo  Instances       Size\n"
          ]
        },
        {
          "output_type": "stream",
          "name": "stderr",
          "text": [
            "    148/150      6.21G     0.7499     0.3487       1.01      0.767     0.2411      1.016         19        640: 100%|██████████| 44/44 [00:34<00:00,  1.26it/s]\n",
            "                 Class     Images  Instances      Box(P          R      mAP50  mAP50-95): 100%|██████████| 2/2 [00:01<00:00,  1.06it/s]"
          ]
        },
        {
          "output_type": "stream",
          "name": "stdout",
          "text": [
            "                   all        103        110      0.794        0.7      0.727      0.265\n"
          ]
        },
        {
          "output_type": "stream",
          "name": "stderr",
          "text": [
            "\n"
          ]
        },
        {
          "output_type": "stream",
          "name": "stdout",
          "text": [
            "\n",
            "      Epoch    GPU_mem     box_om     cls_om     dfl_om     box_oo     cls_oo     dfl_oo  Instances       Size\n"
          ]
        },
        {
          "output_type": "stream",
          "name": "stderr",
          "text": [
            "    149/150      6.21G     0.7338     0.3454      1.002     0.7467     0.2466      1.004         19        640: 100%|██████████| 44/44 [00:36<00:00,  1.20it/s]\n",
            "                 Class     Images  Instances      Box(P          R      mAP50  mAP50-95): 100%|██████████| 2/2 [00:01<00:00,  1.25it/s]"
          ]
        },
        {
          "output_type": "stream",
          "name": "stdout",
          "text": [
            "                   all        103        110      0.761      0.691       0.72      0.257\n"
          ]
        },
        {
          "output_type": "stream",
          "name": "stderr",
          "text": [
            "\n"
          ]
        },
        {
          "output_type": "stream",
          "name": "stdout",
          "text": [
            "\n",
            "      Epoch    GPU_mem     box_om     cls_om     dfl_om     box_oo     cls_oo     dfl_oo  Instances       Size\n"
          ]
        },
        {
          "output_type": "stream",
          "name": "stderr",
          "text": [
            "    150/150      6.21G     0.7357     0.3456      1.017     0.7579      0.248      1.021         20        640: 100%|██████████| 44/44 [00:35<00:00,  1.22it/s]\n",
            "                 Class     Images  Instances      Box(P          R      mAP50  mAP50-95): 100%|██████████| 2/2 [00:01<00:00,  1.61it/s]"
          ]
        },
        {
          "output_type": "stream",
          "name": "stdout",
          "text": [
            "                   all        103        110      0.791      0.673      0.741      0.274\n"
          ]
        },
        {
          "output_type": "stream",
          "name": "stderr",
          "text": [
            "\n"
          ]
        },
        {
          "output_type": "stream",
          "name": "stdout",
          "text": [
            "\n",
            "150 epochs completed in 1.745 hours.\n",
            "Optimizer stripped from /content/drive/MyDrive/punches/yolov10/runs/detect/train2/weights/last.pt, 5.7MB\n",
            "Optimizer stripped from /content/drive/MyDrive/punches/yolov10/runs/detect/train2/weights/best.pt, 5.7MB\n",
            "\n",
            "Validating /content/drive/MyDrive/punches/yolov10/runs/detect/train2/weights/best.pt...\n",
            "Ultralytics YOLOv8.1.34 🚀 Python-3.10.12 torch-2.0.1+cu117 CUDA:0 (Tesla T4, 15102MiB)\n",
            "YOLOv10n summary (fused): 285 layers, 2694806 parameters, 0 gradients, 8.2 GFLOPs\n"
          ]
        },
        {
          "output_type": "stream",
          "name": "stderr",
          "text": [
            "                 Class     Images  Instances      Box(P          R      mAP50  mAP50-95): 100%|██████████| 2/2 [00:01<00:00,  1.16it/s]\n"
          ]
        },
        {
          "output_type": "stream",
          "name": "stdout",
          "text": [
            "                   all        103        110      0.754      0.745      0.767      0.297\n",
            "Speed: 4.0ms preprocess, 3.0ms inference, 0.0ms loss, 0.0ms postprocess per image\n",
            "Results saved to \u001b[1m/content/drive/MyDrive/punches/yolov10/runs/detect/train2\u001b[0m\n"
          ]
        },
        {
          "output_type": "display_data",
          "data": {
            "text/plain": [
              "<IPython.core.display.HTML object>"
            ],
            "text/html": [
              "\n",
              "    <style>\n",
              "        .wandb-row {\n",
              "            display: flex;\n",
              "            flex-direction: row;\n",
              "            flex-wrap: wrap;\n",
              "            justify-content: flex-start;\n",
              "            width: 100%;\n",
              "        }\n",
              "        .wandb-col {\n",
              "            display: flex;\n",
              "            flex-direction: column;\n",
              "            flex-basis: 100%;\n",
              "            flex: 1;\n",
              "            padding: 10px;\n",
              "        }\n",
              "    </style>\n",
              "<div class=\"wandb-row\"><div class=\"wandb-col\"><h3>Run history:</h3><br/><table class=\"wandb\"><tr><td>lr/pg0</td><td>▃▆██████▇▇▇▇▆▆▆▆▆▆▅▅▅▅▄▄▄▄▃▃▃▃▂▂▂▂▂▁▁▁▁▁</td></tr><tr><td>lr/pg1</td><td>██████▇▇▇▇▆▆▆▆▅▅▅▅▄▄▄▄▄▄▄▃▃▃▃▃▂▂▂▂▂▁▁▁▁▁</td></tr><tr><td>lr/pg2</td><td>█████▇▇▇▆▆▆▆▆▆▆▅▅▅▄▄▄▄▄▄▄▃▃▃▃▃▃▂▂▂▂▂▁▁▁▁</td></tr><tr><td>metrics/mAP50(B)</td><td>▁▁▂▄▄▅▆▄▆▆▆▅▇▅▆▆▆▆▆▆▇▆▅▇▆█▇█▆▇▇▇▅▆██▇██▇</td></tr><tr><td>metrics/mAP50-95(B)</td><td>▁▂▂▅▆▆▄█▆▆▆▆█▇▇▆▇▇▇▆▆█▆▇▇▇▇▆▇▇▇▇▇▇▇▇▇▇▇█</td></tr><tr><td>metrics/precision(B)</td><td>▃▁▃▂▃▃▄▃▆▄▅▅▄▆▅▆▆▇▆▆▇█▇▆▄▇▇▆▆▇█▇▆▆▇▇▅█▅▆</td></tr><tr><td>metrics/recall(B)</td><td>▁▃▁▃▃▅▅▅▅▅▆▅▇▆▆▇▇▆▇▇▆▇▆▇▆▇▇▇▇▆▅▇▆▆▆█▇█▇▇</td></tr><tr><td>model/GFLOPs</td><td>▁</td></tr><tr><td>model/parameters</td><td>▁</td></tr><tr><td>model/speed_PyTorch(ms)</td><td>▁</td></tr><tr><td>train/box_om</td><td>█▇▇▇▇▇▆▆▆▆▅▅▅▄▄▄▄▄▃▃▃▃▃▃▃▃▃▃▃▃▂▂▂▂▂▁▁▁▁▁</td></tr><tr><td>train/box_oo</td><td>█████▇▇▇▆▆▆▆▆▅▅▅▅▅▄▄▄▄▄▄▄▄▄▄▃▃▃▃▂▂▂▁▁▁▁▁</td></tr><tr><td>train/cls_om</td><td>█▃▃▃▃▂▂▂▂▂▂▂▂▂▂▂▂▂▂▁▁▁▁▁▁▁▁▁▁▁▁▁▁▁▁▁▁▁▁▁</td></tr><tr><td>train/cls_oo</td><td>█▆▃▂▂▂▂▂▂▂▂▁▁▁▁▁▁▁▁▁▁▁▁▁▁▁▁▁▁▁▁▁▁▁▁▁▁▁▁▁</td></tr><tr><td>train/dfl_om</td><td>█▇▆▆▅▅▅▄▅▄▄▄▄▄▄▃▃▃▃▃▃▃▂▂▂▂▂▂▂▂▂▂▂▂▂▁▁▁▁▁</td></tr><tr><td>train/dfl_oo</td><td>██▇█▇▆▇▆▆▅▅▅▅▅▅▄▄▄▄▃▃▃▃▃▃▃▂▂▂▃▂▂▂▂▂▂▂▁▁▁</td></tr><tr><td>val/box_om</td><td>▄▃█▂▅▁▇▂▄▃▇▅▄█▆▅▅▄▁▄▃▄▄▅▅▃▅▅▃▄▅▅▄▅▄▆▆▅▄▅</td></tr><tr><td>val/box_oo</td><td>▂█▃█▁▄▆▅▄▄▂▆▅▇▇▃▇▅▆▇█▅▇▆▆▆█▆▆▆▅▆▅▆▇▅▅▇▆▇</td></tr><tr><td>val/cls_om</td><td>▄█▃▂▂▁▁▁▁▁▁▁▁▁▁▁▁▁▁▁▁▁▁▁▁▁▁▁▁▁▁▁▁▁▁▁▁▁▁▁</td></tr><tr><td>val/cls_oo</td><td>█▂▂▂▁▁▂▂▂▂▁▂▁▁▁▁▁▁▁▁▁▁▁▁▁▂▁▁▁▁▁▁▁▁▁▁▁▁▁▁</td></tr><tr><td>val/dfl_om</td><td>█▅▁▇▁▁▁▃▂▄▇▃▃▅▃▃▅▅▂▃▃▂▄▃▆▆▆▅▃▅▄▄▄▅▆▅▅▄▆▆</td></tr><tr><td>val/dfl_oo</td><td>▃▃▁▂▁▁▁▂▂▄▃▂▄▃▂▁▂▃▄▅▄▃▅▅▆▆▄▄▄▄▆▇▅█▆▆▅▇██</td></tr></table><br/></div><div class=\"wandb-col\"><h3>Run summary:</h3><br/><table class=\"wandb\"><tr><td>lr/pg0</td><td>5e-05</td></tr><tr><td>lr/pg1</td><td>5e-05</td></tr><tr><td>lr/pg2</td><td>5e-05</td></tr><tr><td>metrics/mAP50(B)</td><td>0.7675</td></tr><tr><td>metrics/mAP50-95(B)</td><td>0.29671</td></tr><tr><td>metrics/precision(B)</td><td>0.75394</td></tr><tr><td>metrics/recall(B)</td><td>0.74545</td></tr><tr><td>model/GFLOPs</td><td>8.394</td></tr><tr><td>model/parameters</td><td>2707430</td></tr><tr><td>model/speed_PyTorch(ms)</td><td>5.313</td></tr><tr><td>train/box_om</td><td>0.73574</td></tr><tr><td>train/box_oo</td><td>0.75787</td></tr><tr><td>train/cls_om</td><td>0.34557</td></tr><tr><td>train/cls_oo</td><td>0.24797</td></tr><tr><td>train/dfl_om</td><td>1.01694</td></tr><tr><td>train/dfl_oo</td><td>1.02058</td></tr><tr><td>val/box_om</td><td>2.32096</td></tr><tr><td>val/box_oo</td><td>2.39639</td></tr><tr><td>val/cls_om</td><td>1.23722</td></tr><tr><td>val/cls_oo</td><td>1.28029</td></tr><tr><td>val/dfl_om</td><td>2.35313</td></tr><tr><td>val/dfl_oo</td><td>2.26946</td></tr></table><br/></div></div>"
            ]
          },
          "metadata": {}
        },
        {
          "output_type": "display_data",
          "data": {
            "text/plain": [
              "<IPython.core.display.HTML object>"
            ],
            "text/html": [
              " View run <strong style=\"color:#cdcd00\">train</strong> at: <a href='https://wandb.ai/mukul1093/YOLOv8/runs/newji0vb' target=\"_blank\">https://wandb.ai/mukul1093/YOLOv8/runs/newji0vb</a><br/> View project at: <a href='https://wandb.ai/mukul1093/YOLOv8' target=\"_blank\">https://wandb.ai/mukul1093/YOLOv8</a><br/>Synced 5 W&B file(s), 0 media file(s), 10 artifact file(s) and 22 other file(s)"
            ]
          },
          "metadata": {}
        },
        {
          "output_type": "display_data",
          "data": {
            "text/plain": [
              "<IPython.core.display.HTML object>"
            ],
            "text/html": [
              "Find logs at: <code>./wandb/run-20241118_115609-newji0vb/logs</code>"
            ]
          },
          "metadata": {}
        },
        {
          "output_type": "execute_result",
          "data": {
            "text/plain": [
              "ultralytics.utils.metrics.DetMetrics object with attributes:\n",
              "\n",
              "ap_class_index: array([0])\n",
              "box: ultralytics.utils.metrics.Metric object\n",
              "confusion_matrix: <ultralytics.utils.metrics.ConfusionMatrix object at 0x7c38943dbdc0>\n",
              "curves: ['Precision-Recall(B)', 'F1-Confidence(B)', 'Precision-Confidence(B)', 'Recall-Confidence(B)']\n",
              "curves_results: [[array([          0,    0.001001,    0.002002,    0.003003,    0.004004,    0.005005,    0.006006,    0.007007,    0.008008,    0.009009,     0.01001,    0.011011,    0.012012,    0.013013,    0.014014,    0.015015,    0.016016,    0.017017,    0.018018,    0.019019,     0.02002,    0.021021,    0.022022,    0.023023,\n",
              "          0.024024,    0.025025,    0.026026,    0.027027,    0.028028,    0.029029,     0.03003,    0.031031,    0.032032,    0.033033,    0.034034,    0.035035,    0.036036,    0.037037,    0.038038,    0.039039,     0.04004,    0.041041,    0.042042,    0.043043,    0.044044,    0.045045,    0.046046,    0.047047,\n",
              "          0.048048,    0.049049,     0.05005,    0.051051,    0.052052,    0.053053,    0.054054,    0.055055,    0.056056,    0.057057,    0.058058,    0.059059,     0.06006,    0.061061,    0.062062,    0.063063,    0.064064,    0.065065,    0.066066,    0.067067,    0.068068,    0.069069,     0.07007,    0.071071,\n",
              "          0.072072,    0.073073,    0.074074,    0.075075,    0.076076,    0.077077,    0.078078,    0.079079,     0.08008,    0.081081,    0.082082,    0.083083,    0.084084,    0.085085,    0.086086,    0.087087,    0.088088,    0.089089,     0.09009,    0.091091,    0.092092,    0.093093,    0.094094,    0.095095,\n",
              "          0.096096,    0.097097,    0.098098,    0.099099,      0.1001,      0.1011,      0.1021,      0.1031,      0.1041,     0.10511,     0.10611,     0.10711,     0.10811,     0.10911,     0.11011,     0.11111,     0.11211,     0.11311,     0.11411,     0.11512,     0.11612,     0.11712,     0.11812,     0.11912,\n",
              "           0.12012,     0.12112,     0.12212,     0.12312,     0.12412,     0.12513,     0.12613,     0.12713,     0.12813,     0.12913,     0.13013,     0.13113,     0.13213,     0.13313,     0.13413,     0.13514,     0.13614,     0.13714,     0.13814,     0.13914,     0.14014,     0.14114,     0.14214,     0.14314,\n",
              "           0.14414,     0.14515,     0.14615,     0.14715,     0.14815,     0.14915,     0.15015,     0.15115,     0.15215,     0.15315,     0.15415,     0.15516,     0.15616,     0.15716,     0.15816,     0.15916,     0.16016,     0.16116,     0.16216,     0.16316,     0.16416,     0.16517,     0.16617,     0.16717,\n",
              "           0.16817,     0.16917,     0.17017,     0.17117,     0.17217,     0.17317,     0.17417,     0.17518,     0.17618,     0.17718,     0.17818,     0.17918,     0.18018,     0.18118,     0.18218,     0.18318,     0.18418,     0.18519,     0.18619,     0.18719,     0.18819,     0.18919,     0.19019,     0.19119,\n",
              "           0.19219,     0.19319,     0.19419,      0.1952,      0.1962,      0.1972,      0.1982,      0.1992,      0.2002,      0.2012,      0.2022,      0.2032,      0.2042,     0.20521,     0.20621,     0.20721,     0.20821,     0.20921,     0.21021,     0.21121,     0.21221,     0.21321,     0.21421,     0.21522,\n",
              "           0.21622,     0.21722,     0.21822,     0.21922,     0.22022,     0.22122,     0.22222,     0.22322,     0.22422,     0.22523,     0.22623,     0.22723,     0.22823,     0.22923,     0.23023,     0.23123,     0.23223,     0.23323,     0.23423,     0.23524,     0.23624,     0.23724,     0.23824,     0.23924,\n",
              "           0.24024,     0.24124,     0.24224,     0.24324,     0.24424,     0.24525,     0.24625,     0.24725,     0.24825,     0.24925,     0.25025,     0.25125,     0.25225,     0.25325,     0.25425,     0.25526,     0.25626,     0.25726,     0.25826,     0.25926,     0.26026,     0.26126,     0.26226,     0.26326,\n",
              "           0.26426,     0.26527,     0.26627,     0.26727,     0.26827,     0.26927,     0.27027,     0.27127,     0.27227,     0.27327,     0.27427,     0.27528,     0.27628,     0.27728,     0.27828,     0.27928,     0.28028,     0.28128,     0.28228,     0.28328,     0.28428,     0.28529,     0.28629,     0.28729,\n",
              "           0.28829,     0.28929,     0.29029,     0.29129,     0.29229,     0.29329,     0.29429,      0.2953,      0.2963,      0.2973,      0.2983,      0.2993,      0.3003,      0.3013,      0.3023,      0.3033,      0.3043,     0.30531,     0.30631,     0.30731,     0.30831,     0.30931,     0.31031,     0.31131,\n",
              "           0.31231,     0.31331,     0.31431,     0.31532,     0.31632,     0.31732,     0.31832,     0.31932,     0.32032,     0.32132,     0.32232,     0.32332,     0.32432,     0.32533,     0.32633,     0.32733,     0.32833,     0.32933,     0.33033,     0.33133,     0.33233,     0.33333,     0.33433,     0.33534,\n",
              "           0.33634,     0.33734,     0.33834,     0.33934,     0.34034,     0.34134,     0.34234,     0.34334,     0.34434,     0.34535,     0.34635,     0.34735,     0.34835,     0.34935,     0.35035,     0.35135,     0.35235,     0.35335,     0.35435,     0.35536,     0.35636,     0.35736,     0.35836,     0.35936,\n",
              "           0.36036,     0.36136,     0.36236,     0.36336,     0.36436,     0.36537,     0.36637,     0.36737,     0.36837,     0.36937,     0.37037,     0.37137,     0.37237,     0.37337,     0.37437,     0.37538,     0.37638,     0.37738,     0.37838,     0.37938,     0.38038,     0.38138,     0.38238,     0.38338,\n",
              "           0.38438,     0.38539,     0.38639,     0.38739,     0.38839,     0.38939,     0.39039,     0.39139,     0.39239,     0.39339,     0.39439,      0.3954,      0.3964,      0.3974,      0.3984,      0.3994,      0.4004,      0.4014,      0.4024,      0.4034,      0.4044,     0.40541,     0.40641,     0.40741,\n",
              "           0.40841,     0.40941,     0.41041,     0.41141,     0.41241,     0.41341,     0.41441,     0.41542,     0.41642,     0.41742,     0.41842,     0.41942,     0.42042,     0.42142,     0.42242,     0.42342,     0.42442,     0.42543,     0.42643,     0.42743,     0.42843,     0.42943,     0.43043,     0.43143,\n",
              "           0.43243,     0.43343,     0.43443,     0.43544,     0.43644,     0.43744,     0.43844,     0.43944,     0.44044,     0.44144,     0.44244,     0.44344,     0.44444,     0.44545,     0.44645,     0.44745,     0.44845,     0.44945,     0.45045,     0.45145,     0.45245,     0.45345,     0.45445,     0.45546,\n",
              "           0.45646,     0.45746,     0.45846,     0.45946,     0.46046,     0.46146,     0.46246,     0.46346,     0.46446,     0.46547,     0.46647,     0.46747,     0.46847,     0.46947,     0.47047,     0.47147,     0.47247,     0.47347,     0.47447,     0.47548,     0.47648,     0.47748,     0.47848,     0.47948,\n",
              "           0.48048,     0.48148,     0.48248,     0.48348,     0.48448,     0.48549,     0.48649,     0.48749,     0.48849,     0.48949,     0.49049,     0.49149,     0.49249,     0.49349,     0.49449,      0.4955,      0.4965,      0.4975,      0.4985,      0.4995,      0.5005,      0.5015,      0.5025,      0.5035,\n",
              "            0.5045,     0.50551,     0.50651,     0.50751,     0.50851,     0.50951,     0.51051,     0.51151,     0.51251,     0.51351,     0.51451,     0.51552,     0.51652,     0.51752,     0.51852,     0.51952,     0.52052,     0.52152,     0.52252,     0.52352,     0.52452,     0.52553,     0.52653,     0.52753,\n",
              "           0.52853,     0.52953,     0.53053,     0.53153,     0.53253,     0.53353,     0.53453,     0.53554,     0.53654,     0.53754,     0.53854,     0.53954,     0.54054,     0.54154,     0.54254,     0.54354,     0.54454,     0.54555,     0.54655,     0.54755,     0.54855,     0.54955,     0.55055,     0.55155,\n",
              "           0.55255,     0.55355,     0.55455,     0.55556,     0.55656,     0.55756,     0.55856,     0.55956,     0.56056,     0.56156,     0.56256,     0.56356,     0.56456,     0.56557,     0.56657,     0.56757,     0.56857,     0.56957,     0.57057,     0.57157,     0.57257,     0.57357,     0.57457,     0.57558,\n",
              "           0.57658,     0.57758,     0.57858,     0.57958,     0.58058,     0.58158,     0.58258,     0.58358,     0.58458,     0.58559,     0.58659,     0.58759,     0.58859,     0.58959,     0.59059,     0.59159,     0.59259,     0.59359,     0.59459,      0.5956,      0.5966,      0.5976,      0.5986,      0.5996,\n",
              "            0.6006,      0.6016,      0.6026,      0.6036,      0.6046,     0.60561,     0.60661,     0.60761,     0.60861,     0.60961,     0.61061,     0.61161,     0.61261,     0.61361,     0.61461,     0.61562,     0.61662,     0.61762,     0.61862,     0.61962,     0.62062,     0.62162,     0.62262,     0.62362,\n",
              "           0.62462,     0.62563,     0.62663,     0.62763,     0.62863,     0.62963,     0.63063,     0.63163,     0.63263,     0.63363,     0.63463,     0.63564,     0.63664,     0.63764,     0.63864,     0.63964,     0.64064,     0.64164,     0.64264,     0.64364,     0.64464,     0.64565,     0.64665,     0.64765,\n",
              "           0.64865,     0.64965,     0.65065,     0.65165,     0.65265,     0.65365,     0.65465,     0.65566,     0.65666,     0.65766,     0.65866,     0.65966,     0.66066,     0.66166,     0.66266,     0.66366,     0.66466,     0.66567,     0.66667,     0.66767,     0.66867,     0.66967,     0.67067,     0.67167,\n",
              "           0.67267,     0.67367,     0.67467,     0.67568,     0.67668,     0.67768,     0.67868,     0.67968,     0.68068,     0.68168,     0.68268,     0.68368,     0.68468,     0.68569,     0.68669,     0.68769,     0.68869,     0.68969,     0.69069,     0.69169,     0.69269,     0.69369,     0.69469,      0.6957,\n",
              "            0.6967,      0.6977,      0.6987,      0.6997,      0.7007,      0.7017,      0.7027,      0.7037,      0.7047,     0.70571,     0.70671,     0.70771,     0.70871,     0.70971,     0.71071,     0.71171,     0.71271,     0.71371,     0.71471,     0.71572,     0.71672,     0.71772,     0.71872,     0.71972,\n",
              "           0.72072,     0.72172,     0.72272,     0.72372,     0.72472,     0.72573,     0.72673,     0.72773,     0.72873,     0.72973,     0.73073,     0.73173,     0.73273,     0.73373,     0.73473,     0.73574,     0.73674,     0.73774,     0.73874,     0.73974,     0.74074,     0.74174,     0.74274,     0.74374,\n",
              "           0.74474,     0.74575,     0.74675,     0.74775,     0.74875,     0.74975,     0.75075,     0.75175,     0.75275,     0.75375,     0.75475,     0.75576,     0.75676,     0.75776,     0.75876,     0.75976,     0.76076,     0.76176,     0.76276,     0.76376,     0.76476,     0.76577,     0.76677,     0.76777,\n",
              "           0.76877,     0.76977,     0.77077,     0.77177,     0.77277,     0.77377,     0.77477,     0.77578,     0.77678,     0.77778,     0.77878,     0.77978,     0.78078,     0.78178,     0.78278,     0.78378,     0.78478,     0.78579,     0.78679,     0.78779,     0.78879,     0.78979,     0.79079,     0.79179,\n",
              "           0.79279,     0.79379,     0.79479,      0.7958,      0.7968,      0.7978,      0.7988,      0.7998,      0.8008,      0.8018,      0.8028,      0.8038,      0.8048,     0.80581,     0.80681,     0.80781,     0.80881,     0.80981,     0.81081,     0.81181,     0.81281,     0.81381,     0.81481,     0.81582,\n",
              "           0.81682,     0.81782,     0.81882,     0.81982,     0.82082,     0.82182,     0.82282,     0.82382,     0.82482,     0.82583,     0.82683,     0.82783,     0.82883,     0.82983,     0.83083,     0.83183,     0.83283,     0.83383,     0.83483,     0.83584,     0.83684,     0.83784,     0.83884,     0.83984,\n",
              "           0.84084,     0.84184,     0.84284,     0.84384,     0.84484,     0.84585,     0.84685,     0.84785,     0.84885,     0.84985,     0.85085,     0.85185,     0.85285,     0.85385,     0.85485,     0.85586,     0.85686,     0.85786,     0.85886,     0.85986,     0.86086,     0.86186,     0.86286,     0.86386,\n",
              "           0.86486,     0.86587,     0.86687,     0.86787,     0.86887,     0.86987,     0.87087,     0.87187,     0.87287,     0.87387,     0.87487,     0.87588,     0.87688,     0.87788,     0.87888,     0.87988,     0.88088,     0.88188,     0.88288,     0.88388,     0.88488,     0.88589,     0.88689,     0.88789,\n",
              "           0.88889,     0.88989,     0.89089,     0.89189,     0.89289,     0.89389,     0.89489,      0.8959,      0.8969,      0.8979,      0.8989,      0.8999,      0.9009,      0.9019,      0.9029,      0.9039,      0.9049,     0.90591,     0.90691,     0.90791,     0.90891,     0.90991,     0.91091,     0.91191,\n",
              "           0.91291,     0.91391,     0.91491,     0.91592,     0.91692,     0.91792,     0.91892,     0.91992,     0.92092,     0.92192,     0.92292,     0.92392,     0.92492,     0.92593,     0.92693,     0.92793,     0.92893,     0.92993,     0.93093,     0.93193,     0.93293,     0.93393,     0.93493,     0.93594,\n",
              "           0.93694,     0.93794,     0.93894,     0.93994,     0.94094,     0.94194,     0.94294,     0.94394,     0.94494,     0.94595,     0.94695,     0.94795,     0.94895,     0.94995,     0.95095,     0.95195,     0.95295,     0.95395,     0.95495,     0.95596,     0.95696,     0.95796,     0.95896,     0.95996,\n",
              "           0.96096,     0.96196,     0.96296,     0.96396,     0.96496,     0.96597,     0.96697,     0.96797,     0.96897,     0.96997,     0.97097,     0.97197,     0.97297,     0.97397,     0.97497,     0.97598,     0.97698,     0.97798,     0.97898,     0.97998,     0.98098,     0.98198,     0.98298,     0.98398,\n",
              "           0.98498,     0.98599,     0.98699,     0.98799,     0.98899,     0.98999,     0.99099,     0.99199,     0.99299,     0.99399,     0.99499,       0.996,       0.997,       0.998,       0.999,           1]), array([[          1,           1,           1,           1,           1,           1,           1,           1,           1,           1,           1,           1,           1,           1,           1,           1,           1,           1,           1,           1,           1,           1,           1,\n",
              "                  1,           1,           1,           1,           1,           1,           1,           1,           1,           1,           1,           1,           1,           1,           1,           1,           1,           1,           1,           1,           1,           1,           1,\n",
              "                  1,           1,           1,           1,           1,           1,           1,           1,           1,           1,           1,           1,           1,           1,           1,           1,           1,           1,           1,           1,           1,           1,           1,\n",
              "                  1,           1,           1,           1,           1,           1,           1,           1,           1,           1,           1,           1,           1,           1,           1,           1,           1,           1,           1,           1,           1,           1,           1,\n",
              "                  1,           1,           1,           1,           1,           1,           1,           1,           1,           1,           1,           1,           1,           1,           1,           1,           1,           1,           1,           1,           1,           1,           1,\n",
              "                  1,           1,           1,           1,           1,           1,           1,           1,           1,           1,           1,           1,           1,     0.94872,     0.94872,     0.94872,     0.94872,     0.94872,     0.94872,     0.94872,     0.94872,     0.94872,     0.94872,\n",
              "            0.94872,     0.94872,     0.94872,     0.94872,     0.94872,     0.94872,     0.94872,     0.94872,     0.94872,     0.94872,     0.94872,     0.94872,     0.94872,     0.94872,     0.94872,     0.94872,     0.94872,     0.94872,     0.94872,     0.94872,     0.94872,     0.94872,     0.94872,\n",
              "            0.94872,     0.94872,     0.94872,     0.94872,     0.94872,     0.94872,     0.94872,     0.94872,     0.94872,     0.94872,     0.94872,     0.94872,     0.94872,     0.94872,     0.94872,     0.94872,     0.94872,     0.94872,     0.94872,     0.94872,     0.94872,     0.94872,     0.94872,\n",
              "            0.94872,     0.94872,     0.94872,     0.94872,     0.94872,     0.94872,     0.94872,     0.94872,     0.94872,     0.94872,     0.94872,     0.94872,     0.94872,     0.94872,     0.94872,     0.94872,     0.94872,     0.94872,     0.94872,     0.94872,     0.94872,     0.94872,     0.94872,\n",
              "            0.94872,     0.94872,     0.94872,     0.94872,     0.94872,     0.94872,     0.94872,     0.94872,     0.94872,     0.94872,     0.94872,     0.94872,     0.94872,     0.94872,     0.94872,     0.94872,     0.94872,     0.94872,     0.94872,     0.94872,     0.94872,     0.94872,     0.94872,\n",
              "            0.94872,     0.94872,     0.94872,     0.94872,     0.94872,     0.94872,     0.94872,     0.94872,     0.94872,     0.94872,     0.94872,     0.94872,     0.94872,     0.94872,     0.94872,     0.94872,     0.94872,     0.94872,     0.94872,     0.94872,     0.94872,     0.94872,     0.94872,\n",
              "            0.94872,     0.94872,     0.94872,     0.94872,     0.94872,     0.94872,     0.94872,     0.94872,     0.94872,     0.94872,     0.94872,     0.94872,     0.94872,     0.94872,     0.94872,     0.94872,     0.94872,     0.94872,     0.94872,     0.94872,     0.94872,     0.94872,     0.94872,\n",
              "            0.94872,     0.94872,     0.94872,     0.94872,     0.94872,     0.94872,     0.94872,     0.94872,     0.94872,     0.94872,     0.94872,     0.94872,     0.94872,     0.94872,     0.94872,     0.94872,     0.94872,     0.94872,     0.94872,     0.94872,     0.94872,     0.94872,     0.94872,\n",
              "            0.94872,     0.94872,     0.94872,     0.94872,     0.94872,     0.94872,     0.94872,     0.94872,     0.94872,     0.94872,     0.94872,     0.94872,     0.94872,     0.94872,     0.94872,     0.94872,     0.94872,     0.94872,     0.94872,     0.94872,     0.94872,     0.94872,     0.94872,\n",
              "            0.94872,     0.94872,     0.94872,     0.94872,     0.94872,     0.94872,     0.94872,     0.94872,     0.94872,     0.94872,     0.94872,     0.94872,     0.94872,     0.94872,     0.94872,     0.94737,     0.94737,     0.94737,     0.94737,     0.94737,     0.94737,     0.94737,     0.94737,\n",
              "            0.94737,     0.94737,     0.94737,     0.94737,     0.94737,     0.94737,     0.94737,     0.94737,     0.94737,     0.94737,     0.94737,     0.94737,     0.94737,     0.94737,     0.94737,     0.94737,     0.94737,     0.94737,     0.94737,     0.94737,     0.94737,     0.94737,     0.94737,\n",
              "            0.94737,     0.94737,     0.94737,     0.94737,     0.94737,     0.94737,     0.94737,     0.94737,     0.94737,     0.94737,     0.94737,     0.94737,     0.94737,     0.94737,     0.94737,     0.94737,     0.94737,     0.94737,     0.94737,     0.94737,     0.94737,     0.94737,     0.94737,\n",
              "            0.94737,     0.94737,     0.94737,     0.94737,     0.94737,     0.94737,     0.94737,     0.94737,     0.94737,     0.94737,     0.94737,     0.94737,     0.94737,     0.94737,     0.94737,     0.94737,     0.94737,     0.94737,     0.94737,     0.94737,     0.94737,     0.94737,     0.94737,\n",
              "            0.94737,     0.94737,     0.94737,     0.94737,     0.94737,     0.94737,     0.94737,     0.94737,     0.94737,     0.94737,     0.94737,     0.94737,     0.94737,     0.94737,     0.94737,     0.94737,     0.94737,     0.94737,     0.94737,     0.94737,     0.94737,     0.94737,     0.94737,\n",
              "            0.94737,     0.94737,     0.94737,     0.94737,     0.94737,     0.94737,     0.94737,     0.94737,     0.94737,     0.94737,     0.94737,     0.94737,     0.94737,     0.94737,     0.94737,     0.94737,     0.94737,     0.94737,     0.94737,     0.94737,     0.94737,     0.94737,     0.94737,\n",
              "            0.94737,     0.94737,     0.94737,     0.94737,     0.94737,     0.94737,     0.94737,     0.94737,     0.94737,     0.94737,     0.94737,     0.94737,     0.94737,     0.94737,     0.94737,     0.94737,     0.94737,     0.94737,     0.94737,     0.94737,     0.94737,     0.94737,     0.94737,\n",
              "            0.94737,     0.94737,     0.94737,     0.94737,     0.94737,     0.94737,     0.94737,     0.94737,     0.93443,     0.93443,     0.93443,     0.93443,     0.93443,     0.93443,     0.93443,     0.93443,     0.93443,     0.93443,     0.93443,     0.93443,     0.93443,     0.93443,     0.93443,\n",
              "            0.93443,     0.93443,     0.93443,     0.93443,     0.93443,     0.93443,     0.93443,     0.93443,     0.93443,     0.93443,     0.93443,     0.93443,     0.92754,     0.92754,     0.92754,     0.92754,     0.92754,     0.92754,     0.92754,     0.92754,     0.92754,     0.92754,     0.92754,\n",
              "            0.92754,     0.92754,     0.92754,     0.92754,     0.92754,     0.92754,     0.92754,     0.92754,     0.92754,     0.92754,     0.92754,     0.92754,     0.92754,     0.92754,     0.92754,     0.92754,     0.92754,     0.92754,     0.92754,     0.92754,     0.92754,     0.92754,     0.92754,\n",
              "            0.92754,     0.92754,     0.92754,     0.92754,     0.92754,     0.92754,     0.92754,     0.92754,     0.92754,     0.92754,     0.92754,     0.92754,     0.92754,     0.92754,     0.92754,     0.92754,     0.92754,     0.92754,     0.92754,     0.92754,     0.92754,     0.92754,     0.92754,\n",
              "            0.92754,     0.92754,     0.92754,     0.92754,     0.92754,     0.92754,     0.92754,     0.90411,     0.90411,     0.90411,     0.90411,     0.90411,     0.90411,     0.90411,     0.90411,     0.90411,     0.90411,     0.90411,     0.90411,     0.90411,     0.90411,     0.90411,     0.90411,\n",
              "            0.90411,     0.90411,      0.8961,      0.8961,      0.8961,      0.8961,      0.8961,      0.8961,      0.8961,      0.8961,      0.8961,      0.8961,      0.8961,      0.8961,      0.8961,      0.8961,      0.8961,      0.8961,      0.8961,      0.8961,      0.8961,      0.8961,      0.8961,\n",
              "             0.8961,      0.8961,      0.8961,      0.8961,      0.8961,      0.8961,     0.88608,     0.88608,     0.88608,     0.88608,     0.88608,     0.88608,     0.88608,     0.88608,     0.88608,     0.86585,     0.86585,     0.86585,     0.86585,     0.86585,     0.86585,     0.86585,     0.86585,\n",
              "            0.86585,     0.84091,     0.84091,     0.84091,     0.84091,     0.84091,     0.84091,     0.84091,     0.84091,     0.84091,     0.84091,     0.84091,     0.84091,     0.84091,     0.84091,     0.84091,     0.84091,     0.84091,     0.84091,     0.84091,     0.84091,     0.84091,     0.84091,\n",
              "            0.84091,     0.84091,     0.84091,     0.84091,     0.84091,     0.84091,     0.83333,     0.83333,     0.83333,     0.83333,     0.83333,     0.83333,     0.83333,     0.83333,     0.83333,      0.8172,      0.8172,      0.8172,      0.8172,      0.8172,      0.8172,      0.8172,      0.8172,\n",
              "             0.8172,      0.8125,      0.8125,      0.8125,      0.8125,      0.8125,      0.8125,      0.8125,      0.8125,      0.8125,      0.8125,      0.8125,      0.8125,      0.8125,      0.8125,      0.8125,      0.8125,      0.8125,      0.8125,     0.79798,     0.79798,     0.79798,     0.79798,\n",
              "            0.79798,     0.79798,     0.79798,     0.79798,     0.79798,     0.78431,     0.78431,     0.78431,     0.78431,     0.78431,     0.78431,     0.78431,     0.78431,     0.78431,     0.78095,     0.78095,     0.78095,     0.78095,     0.78095,     0.78095,     0.78095,     0.78095,     0.78095,\n",
              "            0.78095,     0.78095,     0.78095,     0.78095,     0.78095,     0.78095,     0.78095,     0.78095,     0.78095,     0.75455,     0.75455,     0.75455,     0.75455,     0.75455,     0.75455,     0.75455,     0.75455,     0.75455,        0.75,        0.75,        0.75,        0.75,        0.75,\n",
              "               0.75,        0.75,        0.75,        0.75,     0.74138,     0.74138,     0.74138,     0.74138,     0.74138,     0.74138,     0.74138,     0.74138,     0.74138,     0.74138,     0.74138,     0.74138,     0.74138,     0.74138,     0.74138,     0.74138,     0.74138,     0.74138,     0.74138,\n",
              "            0.70161,     0.70161,     0.70161,     0.70161,     0.70161,     0.70161,     0.70161,     0.70161,     0.70161,     0.64706,     0.64706,     0.64706,     0.64706,     0.64706,     0.64706,     0.64706,     0.64706,     0.64706,      0.5528,      0.5528,      0.5528,      0.5528,      0.5528,\n",
              "             0.5528,      0.5528,      0.5528,      0.5528,     0.52023,     0.52023,     0.52023,     0.52023,     0.52023,     0.52023,     0.52023,     0.52023,     0.52023,        0.52,        0.52,        0.52,        0.52,        0.52,        0.52,        0.52,        0.52,        0.52,      0.4466,\n",
              "             0.4466,      0.4466,      0.4466,      0.4466,      0.4466,      0.4466,      0.4466,      0.4466,     0.30693,     0.30693,     0.30693,     0.30693,     0.30693,     0.30693,     0.30693,     0.30693,     0.30693,     0.22328,     0.22328,     0.22328,     0.22328,     0.22328,     0.22328,\n",
              "            0.22328,     0.22328,     0.22328,     0.21889,     0.21889,     0.21889,     0.21889,     0.21889,     0.21889,     0.21889,     0.21889,     0.21889,     0.20557,     0.20557,     0.20557,     0.20557,     0.20557,     0.20557,     0.20557,     0.20557,     0.20557,     0.19675,     0.19675,\n",
              "            0.19675,     0.19675,     0.19675,     0.19675,     0.19675,     0.19675,     0.19675,     0.12532,     0.12532,     0.12532,     0.12532,     0.12532,     0.12532,     0.12532,     0.12532,     0.12532,     0.12532,    0.080553,    0.080553,    0.080553,    0.080553,    0.080553,    0.080553,\n",
              "           0.080553,    0.080553,    0.080553,    0.068681,    0.068681,    0.068681,    0.068681,    0.068681,    0.068681,    0.068681,    0.068681,    0.068681,    0.054832,    0.054832,    0.054832,    0.054832,    0.054832,    0.054832,    0.054832,    0.054832,    0.054832,    0.047354,    0.047354,\n",
              "           0.047354,    0.047354,    0.047354,    0.047354,    0.047354,    0.047354,    0.047354,     0.03784,     0.03784,     0.03784,     0.03784,     0.03784,     0.03784,     0.03784,     0.03784,     0.03784,    0.035924,    0.035924,    0.035924,    0.035924,    0.035924,    0.035924,    0.035924,\n",
              "           0.035924,    0.035924,    0.034688,    0.034688,    0.034688,    0.034688,    0.034688,    0.034688,    0.034688,    0.034688,    0.034688,    0.023493,    0.023493,    0.023493,    0.023493,    0.023493,    0.023493,    0.023493,    0.023493,    0.023493,   0.0089398,   0.0089398,   0.0089398,\n",
              "          0.0089398,   0.0089398,   0.0089398,   0.0089398,   0.0089398,   0.0089398,    0.008596,    0.008596,    0.008596,    0.008596,    0.008596,    0.008596,    0.008596,    0.008596,    0.008596,   0.0071565,   0.0071565,   0.0071565,   0.0071565,   0.0071565,   0.0071565,   0.0071565,   0.0071565,\n",
              "          0.0071565,   0.0034957,   0.0031073,   0.0027189,   0.0023305,   0.0019421,   0.0015537,   0.0011652,  0.00077683,  0.00038841,           0]]), 'Recall', 'Precision'], [array([          0,    0.001001,    0.002002,    0.003003,    0.004004,    0.005005,    0.006006,    0.007007,    0.008008,    0.009009,     0.01001,    0.011011,    0.012012,    0.013013,    0.014014,    0.015015,    0.016016,    0.017017,    0.018018,    0.019019,     0.02002,    0.021021,    0.022022,    0.023023,\n",
              "          0.024024,    0.025025,    0.026026,    0.027027,    0.028028,    0.029029,     0.03003,    0.031031,    0.032032,    0.033033,    0.034034,    0.035035,    0.036036,    0.037037,    0.038038,    0.039039,     0.04004,    0.041041,    0.042042,    0.043043,    0.044044,    0.045045,    0.046046,    0.047047,\n",
              "          0.048048,    0.049049,     0.05005,    0.051051,    0.052052,    0.053053,    0.054054,    0.055055,    0.056056,    0.057057,    0.058058,    0.059059,     0.06006,    0.061061,    0.062062,    0.063063,    0.064064,    0.065065,    0.066066,    0.067067,    0.068068,    0.069069,     0.07007,    0.071071,\n",
              "          0.072072,    0.073073,    0.074074,    0.075075,    0.076076,    0.077077,    0.078078,    0.079079,     0.08008,    0.081081,    0.082082,    0.083083,    0.084084,    0.085085,    0.086086,    0.087087,    0.088088,    0.089089,     0.09009,    0.091091,    0.092092,    0.093093,    0.094094,    0.095095,\n",
              "          0.096096,    0.097097,    0.098098,    0.099099,      0.1001,      0.1011,      0.1021,      0.1031,      0.1041,     0.10511,     0.10611,     0.10711,     0.10811,     0.10911,     0.11011,     0.11111,     0.11211,     0.11311,     0.11411,     0.11512,     0.11612,     0.11712,     0.11812,     0.11912,\n",
              "           0.12012,     0.12112,     0.12212,     0.12312,     0.12412,     0.12513,     0.12613,     0.12713,     0.12813,     0.12913,     0.13013,     0.13113,     0.13213,     0.13313,     0.13413,     0.13514,     0.13614,     0.13714,     0.13814,     0.13914,     0.14014,     0.14114,     0.14214,     0.14314,\n",
              "           0.14414,     0.14515,     0.14615,     0.14715,     0.14815,     0.14915,     0.15015,     0.15115,     0.15215,     0.15315,     0.15415,     0.15516,     0.15616,     0.15716,     0.15816,     0.15916,     0.16016,     0.16116,     0.16216,     0.16316,     0.16416,     0.16517,     0.16617,     0.16717,\n",
              "           0.16817,     0.16917,     0.17017,     0.17117,     0.17217,     0.17317,     0.17417,     0.17518,     0.17618,     0.17718,     0.17818,     0.17918,     0.18018,     0.18118,     0.18218,     0.18318,     0.18418,     0.18519,     0.18619,     0.18719,     0.18819,     0.18919,     0.19019,     0.19119,\n",
              "           0.19219,     0.19319,     0.19419,      0.1952,      0.1962,      0.1972,      0.1982,      0.1992,      0.2002,      0.2012,      0.2022,      0.2032,      0.2042,     0.20521,     0.20621,     0.20721,     0.20821,     0.20921,     0.21021,     0.21121,     0.21221,     0.21321,     0.21421,     0.21522,\n",
              "           0.21622,     0.21722,     0.21822,     0.21922,     0.22022,     0.22122,     0.22222,     0.22322,     0.22422,     0.22523,     0.22623,     0.22723,     0.22823,     0.22923,     0.23023,     0.23123,     0.23223,     0.23323,     0.23423,     0.23524,     0.23624,     0.23724,     0.23824,     0.23924,\n",
              "           0.24024,     0.24124,     0.24224,     0.24324,     0.24424,     0.24525,     0.24625,     0.24725,     0.24825,     0.24925,     0.25025,     0.25125,     0.25225,     0.25325,     0.25425,     0.25526,     0.25626,     0.25726,     0.25826,     0.25926,     0.26026,     0.26126,     0.26226,     0.26326,\n",
              "           0.26426,     0.26527,     0.26627,     0.26727,     0.26827,     0.26927,     0.27027,     0.27127,     0.27227,     0.27327,     0.27427,     0.27528,     0.27628,     0.27728,     0.27828,     0.27928,     0.28028,     0.28128,     0.28228,     0.28328,     0.28428,     0.28529,     0.28629,     0.28729,\n",
              "           0.28829,     0.28929,     0.29029,     0.29129,     0.29229,     0.29329,     0.29429,      0.2953,      0.2963,      0.2973,      0.2983,      0.2993,      0.3003,      0.3013,      0.3023,      0.3033,      0.3043,     0.30531,     0.30631,     0.30731,     0.30831,     0.30931,     0.31031,     0.31131,\n",
              "           0.31231,     0.31331,     0.31431,     0.31532,     0.31632,     0.31732,     0.31832,     0.31932,     0.32032,     0.32132,     0.32232,     0.32332,     0.32432,     0.32533,     0.32633,     0.32733,     0.32833,     0.32933,     0.33033,     0.33133,     0.33233,     0.33333,     0.33433,     0.33534,\n",
              "           0.33634,     0.33734,     0.33834,     0.33934,     0.34034,     0.34134,     0.34234,     0.34334,     0.34434,     0.34535,     0.34635,     0.34735,     0.34835,     0.34935,     0.35035,     0.35135,     0.35235,     0.35335,     0.35435,     0.35536,     0.35636,     0.35736,     0.35836,     0.35936,\n",
              "           0.36036,     0.36136,     0.36236,     0.36336,     0.36436,     0.36537,     0.36637,     0.36737,     0.36837,     0.36937,     0.37037,     0.37137,     0.37237,     0.37337,     0.37437,     0.37538,     0.37638,     0.37738,     0.37838,     0.37938,     0.38038,     0.38138,     0.38238,     0.38338,\n",
              "           0.38438,     0.38539,     0.38639,     0.38739,     0.38839,     0.38939,     0.39039,     0.39139,     0.39239,     0.39339,     0.39439,      0.3954,      0.3964,      0.3974,      0.3984,      0.3994,      0.4004,      0.4014,      0.4024,      0.4034,      0.4044,     0.40541,     0.40641,     0.40741,\n",
              "           0.40841,     0.40941,     0.41041,     0.41141,     0.41241,     0.41341,     0.41441,     0.41542,     0.41642,     0.41742,     0.41842,     0.41942,     0.42042,     0.42142,     0.42242,     0.42342,     0.42442,     0.42543,     0.42643,     0.42743,     0.42843,     0.42943,     0.43043,     0.43143,\n",
              "           0.43243,     0.43343,     0.43443,     0.43544,     0.43644,     0.43744,     0.43844,     0.43944,     0.44044,     0.44144,     0.44244,     0.44344,     0.44444,     0.44545,     0.44645,     0.44745,     0.44845,     0.44945,     0.45045,     0.45145,     0.45245,     0.45345,     0.45445,     0.45546,\n",
              "           0.45646,     0.45746,     0.45846,     0.45946,     0.46046,     0.46146,     0.46246,     0.46346,     0.46446,     0.46547,     0.46647,     0.46747,     0.46847,     0.46947,     0.47047,     0.47147,     0.47247,     0.47347,     0.47447,     0.47548,     0.47648,     0.47748,     0.47848,     0.47948,\n",
              "           0.48048,     0.48148,     0.48248,     0.48348,     0.48448,     0.48549,     0.48649,     0.48749,     0.48849,     0.48949,     0.49049,     0.49149,     0.49249,     0.49349,     0.49449,      0.4955,      0.4965,      0.4975,      0.4985,      0.4995,      0.5005,      0.5015,      0.5025,      0.5035,\n",
              "            0.5045,     0.50551,     0.50651,     0.50751,     0.50851,     0.50951,     0.51051,     0.51151,     0.51251,     0.51351,     0.51451,     0.51552,     0.51652,     0.51752,     0.51852,     0.51952,     0.52052,     0.52152,     0.52252,     0.52352,     0.52452,     0.52553,     0.52653,     0.52753,\n",
              "           0.52853,     0.52953,     0.53053,     0.53153,     0.53253,     0.53353,     0.53453,     0.53554,     0.53654,     0.53754,     0.53854,     0.53954,     0.54054,     0.54154,     0.54254,     0.54354,     0.54454,     0.54555,     0.54655,     0.54755,     0.54855,     0.54955,     0.55055,     0.55155,\n",
              "           0.55255,     0.55355,     0.55455,     0.55556,     0.55656,     0.55756,     0.55856,     0.55956,     0.56056,     0.56156,     0.56256,     0.56356,     0.56456,     0.56557,     0.56657,     0.56757,     0.56857,     0.56957,     0.57057,     0.57157,     0.57257,     0.57357,     0.57457,     0.57558,\n",
              "           0.57658,     0.57758,     0.57858,     0.57958,     0.58058,     0.58158,     0.58258,     0.58358,     0.58458,     0.58559,     0.58659,     0.58759,     0.58859,     0.58959,     0.59059,     0.59159,     0.59259,     0.59359,     0.59459,      0.5956,      0.5966,      0.5976,      0.5986,      0.5996,\n",
              "            0.6006,      0.6016,      0.6026,      0.6036,      0.6046,     0.60561,     0.60661,     0.60761,     0.60861,     0.60961,     0.61061,     0.61161,     0.61261,     0.61361,     0.61461,     0.61562,     0.61662,     0.61762,     0.61862,     0.61962,     0.62062,     0.62162,     0.62262,     0.62362,\n",
              "           0.62462,     0.62563,     0.62663,     0.62763,     0.62863,     0.62963,     0.63063,     0.63163,     0.63263,     0.63363,     0.63463,     0.63564,     0.63664,     0.63764,     0.63864,     0.63964,     0.64064,     0.64164,     0.64264,     0.64364,     0.64464,     0.64565,     0.64665,     0.64765,\n",
              "           0.64865,     0.64965,     0.65065,     0.65165,     0.65265,     0.65365,     0.65465,     0.65566,     0.65666,     0.65766,     0.65866,     0.65966,     0.66066,     0.66166,     0.66266,     0.66366,     0.66466,     0.66567,     0.66667,     0.66767,     0.66867,     0.66967,     0.67067,     0.67167,\n",
              "           0.67267,     0.67367,     0.67467,     0.67568,     0.67668,     0.67768,     0.67868,     0.67968,     0.68068,     0.68168,     0.68268,     0.68368,     0.68468,     0.68569,     0.68669,     0.68769,     0.68869,     0.68969,     0.69069,     0.69169,     0.69269,     0.69369,     0.69469,      0.6957,\n",
              "            0.6967,      0.6977,      0.6987,      0.6997,      0.7007,      0.7017,      0.7027,      0.7037,      0.7047,     0.70571,     0.70671,     0.70771,     0.70871,     0.70971,     0.71071,     0.71171,     0.71271,     0.71371,     0.71471,     0.71572,     0.71672,     0.71772,     0.71872,     0.71972,\n",
              "           0.72072,     0.72172,     0.72272,     0.72372,     0.72472,     0.72573,     0.72673,     0.72773,     0.72873,     0.72973,     0.73073,     0.73173,     0.73273,     0.73373,     0.73473,     0.73574,     0.73674,     0.73774,     0.73874,     0.73974,     0.74074,     0.74174,     0.74274,     0.74374,\n",
              "           0.74474,     0.74575,     0.74675,     0.74775,     0.74875,     0.74975,     0.75075,     0.75175,     0.75275,     0.75375,     0.75475,     0.75576,     0.75676,     0.75776,     0.75876,     0.75976,     0.76076,     0.76176,     0.76276,     0.76376,     0.76476,     0.76577,     0.76677,     0.76777,\n",
              "           0.76877,     0.76977,     0.77077,     0.77177,     0.77277,     0.77377,     0.77477,     0.77578,     0.77678,     0.77778,     0.77878,     0.77978,     0.78078,     0.78178,     0.78278,     0.78378,     0.78478,     0.78579,     0.78679,     0.78779,     0.78879,     0.78979,     0.79079,     0.79179,\n",
              "           0.79279,     0.79379,     0.79479,      0.7958,      0.7968,      0.7978,      0.7988,      0.7998,      0.8008,      0.8018,      0.8028,      0.8038,      0.8048,     0.80581,     0.80681,     0.80781,     0.80881,     0.80981,     0.81081,     0.81181,     0.81281,     0.81381,     0.81481,     0.81582,\n",
              "           0.81682,     0.81782,     0.81882,     0.81982,     0.82082,     0.82182,     0.82282,     0.82382,     0.82482,     0.82583,     0.82683,     0.82783,     0.82883,     0.82983,     0.83083,     0.83183,     0.83283,     0.83383,     0.83483,     0.83584,     0.83684,     0.83784,     0.83884,     0.83984,\n",
              "           0.84084,     0.84184,     0.84284,     0.84384,     0.84484,     0.84585,     0.84685,     0.84785,     0.84885,     0.84985,     0.85085,     0.85185,     0.85285,     0.85385,     0.85485,     0.85586,     0.85686,     0.85786,     0.85886,     0.85986,     0.86086,     0.86186,     0.86286,     0.86386,\n",
              "           0.86486,     0.86587,     0.86687,     0.86787,     0.86887,     0.86987,     0.87087,     0.87187,     0.87287,     0.87387,     0.87487,     0.87588,     0.87688,     0.87788,     0.87888,     0.87988,     0.88088,     0.88188,     0.88288,     0.88388,     0.88488,     0.88589,     0.88689,     0.88789,\n",
              "           0.88889,     0.88989,     0.89089,     0.89189,     0.89289,     0.89389,     0.89489,      0.8959,      0.8969,      0.8979,      0.8989,      0.8999,      0.9009,      0.9019,      0.9029,      0.9039,      0.9049,     0.90591,     0.90691,     0.90791,     0.90891,     0.90991,     0.91091,     0.91191,\n",
              "           0.91291,     0.91391,     0.91491,     0.91592,     0.91692,     0.91792,     0.91892,     0.91992,     0.92092,     0.92192,     0.92292,     0.92392,     0.92492,     0.92593,     0.92693,     0.92793,     0.92893,     0.92993,     0.93093,     0.93193,     0.93293,     0.93393,     0.93493,     0.93594,\n",
              "           0.93694,     0.93794,     0.93894,     0.93994,     0.94094,     0.94194,     0.94294,     0.94394,     0.94494,     0.94595,     0.94695,     0.94795,     0.94895,     0.94995,     0.95095,     0.95195,     0.95295,     0.95395,     0.95495,     0.95596,     0.95696,     0.95796,     0.95896,     0.95996,\n",
              "           0.96096,     0.96196,     0.96296,     0.96396,     0.96496,     0.96597,     0.96697,     0.96797,     0.96897,     0.96997,     0.97097,     0.97197,     0.97297,     0.97397,     0.97497,     0.97598,     0.97698,     0.97798,     0.97898,     0.97998,     0.98098,     0.98198,     0.98298,     0.98398,\n",
              "           0.98498,     0.98599,     0.98699,     0.98799,     0.98899,     0.98999,     0.99099,     0.99199,     0.99299,     0.99399,     0.99499,       0.996,       0.997,       0.998,       0.999,           1]), array([[    0.00703,     0.51517,     0.58712,     0.63372,     0.64831,     0.66827,     0.68052,     0.68737,     0.69424,     0.69941,     0.70917,     0.71476,     0.71061,     0.71314,     0.72196,     0.72726,     0.73647,      0.7389,     0.74078,     0.74193,     0.74307,      0.7396,     0.74201,\n",
              "             0.7432,     0.74439,     0.74813,     0.74897,      0.7498,     0.75063,      0.7514,     0.75211,     0.75281,     0.75352,     0.75422,     0.75521,      0.7563,     0.75738,     0.75812,     0.75871,      0.7593,     0.75989,     0.76047,     0.76106,     0.76064,     0.76022,     0.75979,\n",
              "            0.75937,     0.75895,     0.75852,      0.7581,     0.75767,     0.75725,     0.75682,      0.7564,     0.75597,     0.75459,     0.75162,       0.754,     0.75629,     0.75576,     0.75524,     0.75471,     0.75419,     0.75367,     0.75314,     0.75262,     0.75209,     0.75156,     0.75119,\n",
              "             0.7515,     0.75181,     0.75212,     0.75243,     0.75274,     0.75305,     0.75336,     0.75367,     0.75398,     0.75428,      0.7535,     0.74897,     0.74932,     0.74967,     0.75002,     0.75037,     0.75072,     0.75107,     0.75142,     0.75177,     0.75212,     0.75336,     0.75547,\n",
              "            0.75694,     0.75831,     0.75938,     0.75978,     0.76018,     0.76058,     0.76098,     0.76138,     0.76178,     0.76218,     0.76258,      0.7624,     0.76157,     0.76074,      0.7599,     0.75907,     0.75823,     0.75739,     0.75639,     0.75525,     0.75411,     0.75297,     0.75183,\n",
              "            0.75128,     0.75152,     0.75176,       0.752,     0.75224,     0.75248,     0.75272,     0.75296,      0.7532,     0.75344,     0.75368,     0.75392,     0.75416,      0.7544,     0.75464,     0.75436,     0.75385,     0.75334,     0.75282,     0.75231,      0.7518,     0.75128,     0.75077,\n",
              "            0.75026,     0.74974,     0.74923,     0.74885,     0.74903,      0.7492,     0.74937,     0.74955,     0.74972,      0.7499,     0.75007,     0.75025,     0.75042,     0.75059,     0.75077,     0.75094,     0.75111,     0.75129,     0.75146,     0.75163,     0.75181,     0.75198,     0.75215,\n",
              "            0.75233,      0.7528,     0.75342,     0.75403,     0.75464,     0.75525,     0.75586,     0.75586,     0.75572,     0.75558,     0.75543,     0.75529,     0.75515,       0.755,     0.75486,     0.75472,     0.75457,     0.75443,     0.75429,     0.75414,       0.754,     0.75385,     0.75371,\n",
              "            0.75357,     0.75342,     0.75328,     0.75314,     0.75299,     0.75285,      0.7527,     0.75256,     0.75242,     0.75227,     0.75213,     0.75198,     0.75184,      0.7517,     0.75155,     0.75141,     0.75126,     0.75112,     0.75097,     0.75083,     0.75069,     0.75054,      0.7504,\n",
              "            0.75025,     0.75011,     0.75009,     0.75046,     0.75082,     0.75119,     0.75156,     0.75192,     0.75229,     0.75265,     0.75302,     0.75338,     0.75369,     0.75389,     0.75409,     0.75429,     0.75449,     0.75469,     0.75489,     0.75509,     0.75529,     0.75549,     0.75569,\n",
              "            0.75589,     0.75609,     0.75629,     0.75649,     0.75669,     0.75688,     0.75708,     0.75728,     0.75712,     0.75696,      0.7568,     0.75664,     0.75648,     0.75632,     0.75617,     0.75601,     0.75585,     0.75569,     0.75553,     0.75537,     0.75521,     0.75505,     0.75489,\n",
              "            0.75473,     0.75457,     0.75441,     0.75425,     0.75409,     0.75393,     0.75377,     0.75361,     0.75345,     0.75329,     0.75313,     0.75297,     0.75281,     0.75265,     0.75249,     0.75233,     0.75217,     0.75201,     0.75185,     0.75169,     0.75153,     0.75137,     0.75121,\n",
              "            0.75104,     0.75088,     0.75072,     0.75055,     0.75039,     0.75023,     0.75006,      0.7499,     0.74974,     0.74957,     0.74941,     0.74925,     0.74908,     0.74892,     0.74875,     0.74859,     0.74843,     0.74826,      0.7481,     0.74794,     0.74777,     0.74761,     0.74744,\n",
              "            0.74728,     0.74712,     0.74695,     0.74679,     0.74662,     0.74646,      0.7463,     0.74613,     0.74597,      0.7458,     0.74564,     0.74547,     0.74531,     0.74515,     0.74547,     0.74601,     0.74654,     0.74706,     0.74759,     0.74812,     0.74865,     0.74704,     0.74479,\n",
              "            0.74258,     0.74307,     0.74356,     0.74404,     0.74452,     0.74501,     0.74549,     0.74597,     0.74679,     0.74816,     0.74953,     0.74861,      0.7465,     0.74438,     0.74376,     0.74382,     0.74388,     0.74394,       0.744,     0.74406,     0.74412,     0.74418,     0.74423,\n",
              "            0.74429,     0.74435,     0.74441,     0.74447,     0.74453,     0.74459,     0.74465,     0.74471,     0.74477,     0.74483,     0.74489,     0.74495,     0.74501,     0.74506,     0.74512,     0.74518,     0.74524,      0.7453,     0.74536,     0.74542,     0.74548,     0.74554,      0.7456,\n",
              "            0.74566,     0.74572,     0.74577,     0.74583,     0.74589,     0.74595,     0.74601,     0.74607,     0.74613,     0.74619,     0.74625,     0.74631,     0.74636,     0.74642,     0.74648,     0.74654,      0.7466,     0.74666,     0.74672,     0.74678,     0.74684,     0.74689,     0.74695,\n",
              "            0.74701,     0.74707,     0.74713,     0.74719,     0.74725,     0.74731,     0.74737,     0.74742,     0.74734,     0.74632,     0.74531,      0.7443,     0.74328,     0.74227,     0.74125,     0.74087,     0.74058,      0.7403,     0.74002,     0.73973,     0.73945,     0.73916,     0.73888,\n",
              "            0.73859,     0.73831,     0.73802,     0.73774,     0.73745,     0.73717,     0.73688,     0.73659,     0.73631,     0.73602,     0.73574,     0.73545,     0.73516,     0.73488,     0.73452,     0.73403,     0.73354,     0.73305,     0.73256,     0.73207,     0.73158,     0.73109,     0.73059,\n",
              "             0.7301,     0.72961,     0.72912,     0.72862,     0.72822,     0.72831,     0.72839,     0.72848,     0.72857,     0.72866,     0.72874,     0.72883,     0.72892,     0.72901,     0.72909,     0.72918,     0.72927,     0.72936,     0.72944,     0.72953,     0.72962,      0.7297,     0.72979,\n",
              "            0.72988,     0.72997,     0.73005,     0.73014,     0.73023,     0.73031,      0.7304,     0.73049,     0.73057,     0.73066,     0.73075,     0.73084,     0.73092,     0.73101,      0.7311,     0.73118,     0.73127,     0.73136,     0.73144,     0.73153,     0.73162,      0.7317,     0.73179,\n",
              "            0.73188,     0.73197,     0.73219,     0.73242,     0.73264,     0.73287,      0.7331,     0.73332,     0.73355,     0.73377,     0.73399,     0.73422,     0.73444,     0.73467,     0.73489,     0.73512,     0.73534,     0.73556,     0.73582,     0.73623,     0.73665,     0.73706,     0.73748,\n",
              "            0.73789,      0.7383,     0.73872,     0.73913,     0.73954,     0.73608,     0.73308,      0.7335,     0.73393,     0.73436,     0.73478,     0.73521,     0.73563,     0.73605,     0.73648,     0.73688,     0.73714,     0.73741,     0.73767,     0.73793,      0.7382,     0.73846,     0.73873,\n",
              "            0.73899,     0.73925,     0.73951,     0.73978,     0.74004,      0.7403,     0.74056,     0.74057,     0.74002,     0.73946,     0.73891,     0.73835,      0.7378,     0.73725,     0.73669,     0.73613,     0.73558,     0.73502,     0.73447,     0.73419,     0.73482,     0.73545,     0.73607,\n",
              "             0.7367,     0.73732,     0.73794,     0.73693,     0.73584,     0.73474,     0.73365,     0.73255,     0.73145,     0.73112,     0.73104,     0.73097,     0.73089,     0.73081,     0.73073,     0.73065,     0.73057,     0.73049,     0.73041,     0.73033,     0.73025,     0.73017,      0.7301,\n",
              "            0.73002,     0.72994,     0.72986,     0.72978,      0.7297,     0.72962,     0.72954,     0.72946,     0.72938,      0.7293,     0.72923,     0.72915,     0.72907,     0.72899,     0.72891,     0.72883,     0.72875,     0.72867,     0.72859,     0.72851,     0.72843,     0.72835,     0.72827,\n",
              "             0.7282,     0.72812,     0.72804,     0.72796,     0.72788,      0.7278,     0.72772,     0.72764,     0.72756,     0.72748,      0.7274,     0.72732,     0.72724,     0.72716,     0.72708,     0.72701,     0.72693,     0.72685,     0.72677,     0.72669,     0.72661,     0.72653,     0.72645,\n",
              "            0.72637,     0.72629,     0.72621,     0.72613,     0.72605,     0.72597,     0.72589,     0.72581,     0.72573,     0.72565,     0.72558,      0.7255,     0.72542,     0.72534,     0.72526,     0.72518,      0.7251,     0.72502,     0.72494,     0.72486,     0.72478,      0.7247,     0.72462,\n",
              "            0.72454,     0.72446,     0.72438,     0.72411,     0.72335,      0.7226,     0.72185,      0.7211,     0.72034,     0.71959,     0.71883,     0.71807,     0.71806,      0.7207,     0.71952,     0.71833,     0.71714,     0.71595,     0.71476,     0.71411,     0.71381,     0.71351,     0.71321,\n",
              "            0.71291,     0.71261,     0.71231,     0.71201,     0.71171,     0.71141,     0.71112,     0.71082,     0.71052,     0.71022,     0.70992,     0.70962,     0.70932,     0.70901,     0.70871,     0.70841,     0.70811,     0.70781,     0.70751,     0.70721,     0.70744,     0.70772,       0.708,\n",
              "            0.70828,     0.70856,     0.70884,     0.70912,      0.7094,     0.70968,     0.70996,     0.71024,     0.71052,      0.7108,     0.71107,     0.71126,     0.71143,     0.71161,     0.71178,     0.71195,     0.71213,      0.7123,     0.71247,     0.71265,     0.71282,     0.71299,     0.71316,\n",
              "            0.71334,     0.71351,     0.71368,     0.71385,     0.71402,      0.7142,     0.71437,     0.71454,     0.71471,     0.71488,     0.71505,     0.71385,     0.71233,     0.71081,     0.70928,     0.70785,     0.70764,     0.70743,     0.70722,     0.70701,      0.7068,     0.70658,     0.70637,\n",
              "            0.70616,     0.70595,     0.70574,     0.70553,     0.70532,      0.7051,     0.70489,     0.70468,     0.70447,     0.70426,     0.70405,     0.70383,     0.70362,     0.70341,      0.7032,     0.70299,     0.70277,     0.70256,     0.70235,     0.70214,     0.70193,     0.70171,      0.7015,\n",
              "            0.70129,     0.70107,     0.70086,     0.70065,     0.69958,     0.69795,     0.69632,     0.69468,     0.69291,      0.6899,     0.68687,     0.68552,      0.6852,     0.68488,     0.68457,     0.68425,     0.68393,     0.68361,     0.68329,     0.68297,     0.68266,     0.68234,     0.68202,\n",
              "             0.6817,     0.68138,     0.68106,     0.68074,     0.68042,      0.6801,     0.67978,     0.67946,     0.67914,     0.67882,      0.6785,     0.67818,     0.67731,     0.67639,     0.67547,     0.67455,     0.67363,     0.67271,     0.67179,     0.67086,     0.66595,     0.66316,     0.66381,\n",
              "            0.66446,     0.66511,     0.66575,      0.6664,     0.66476,     0.66146,     0.65815,     0.65486,     0.65155,     0.65005,     0.64901,     0.64796,     0.64692,     0.64587,     0.64482,     0.64377,     0.64404,      0.6458,     0.64449,     0.64318,     0.64187,     0.64056,     0.63924,\n",
              "            0.62876,      0.6175,     0.61207,      0.6098,     0.60753,     0.60525,     0.60242,     0.59949,     0.59656,     0.59058,     0.58561,     0.58191,     0.57826,     0.57506,     0.57185,     0.56934,     0.56843,     0.56753,     0.56662,     0.56571,     0.56479,     0.56388,     0.56297,\n",
              "            0.56205,     0.56114,     0.55079,      0.5492,     0.54761,     0.54602,     0.54443,     0.54283,     0.53097,     0.52286,     0.51548,     0.50395,     0.49475,     0.49165,     0.48552,     0.47299,     0.46747,     0.45458,     0.44954,     0.44447,      0.4173,     0.40139,     0.38778,\n",
              "            0.37906,     0.37266,     0.36705,      0.3575,     0.33685,     0.33045,     0.30356,     0.26661,      0.2501,     0.23539,     0.23239,     0.22938,     0.22636,     0.22428,     0.22548,     0.20938,     0.19993,     0.18443,     0.17165,     0.14132,     0.11423,     0.10437,    0.083337,\n",
              "           0.077632,    0.071892,    0.063446,    0.053779,    0.050564,    0.047832,    0.045093,    0.042346,    0.039592,    0.036829,     0.03476,    0.033159,    0.031556,     0.02995,    0.028342,    0.026731,    0.025117,      0.0235,    0.021882,     0.02026,    0.018636,           0,           0,\n",
              "                  0,           0,           0,           0,           0,           0,           0,           0,           0,           0,           0,           0,           0,           0,           0,           0,           0,           0,           0,           0,           0,           0,           0,\n",
              "                  0,           0,           0,           0,           0,           0,           0,           0,           0,           0,           0,           0,           0,           0,           0,           0,           0,           0,           0,           0,           0,           0,           0,\n",
              "                  0,           0,           0,           0,           0,           0,           0,           0,           0,           0,           0,           0,           0,           0,           0,           0,           0,           0,           0,           0,           0,           0,           0,\n",
              "                  0,           0,           0,           0,           0,           0,           0,           0,           0,           0,           0]]), 'Confidence', 'F1'], [array([          0,    0.001001,    0.002002,    0.003003,    0.004004,    0.005005,    0.006006,    0.007007,    0.008008,    0.009009,     0.01001,    0.011011,    0.012012,    0.013013,    0.014014,    0.015015,    0.016016,    0.017017,    0.018018,    0.019019,     0.02002,    0.021021,    0.022022,    0.023023,\n",
              "          0.024024,    0.025025,    0.026026,    0.027027,    0.028028,    0.029029,     0.03003,    0.031031,    0.032032,    0.033033,    0.034034,    0.035035,    0.036036,    0.037037,    0.038038,    0.039039,     0.04004,    0.041041,    0.042042,    0.043043,    0.044044,    0.045045,    0.046046,    0.047047,\n",
              "          0.048048,    0.049049,     0.05005,    0.051051,    0.052052,    0.053053,    0.054054,    0.055055,    0.056056,    0.057057,    0.058058,    0.059059,     0.06006,    0.061061,    0.062062,    0.063063,    0.064064,    0.065065,    0.066066,    0.067067,    0.068068,    0.069069,     0.07007,    0.071071,\n",
              "          0.072072,    0.073073,    0.074074,    0.075075,    0.076076,    0.077077,    0.078078,    0.079079,     0.08008,    0.081081,    0.082082,    0.083083,    0.084084,    0.085085,    0.086086,    0.087087,    0.088088,    0.089089,     0.09009,    0.091091,    0.092092,    0.093093,    0.094094,    0.095095,\n",
              "          0.096096,    0.097097,    0.098098,    0.099099,      0.1001,      0.1011,      0.1021,      0.1031,      0.1041,     0.10511,     0.10611,     0.10711,     0.10811,     0.10911,     0.11011,     0.11111,     0.11211,     0.11311,     0.11411,     0.11512,     0.11612,     0.11712,     0.11812,     0.11912,\n",
              "           0.12012,     0.12112,     0.12212,     0.12312,     0.12412,     0.12513,     0.12613,     0.12713,     0.12813,     0.12913,     0.13013,     0.13113,     0.13213,     0.13313,     0.13413,     0.13514,     0.13614,     0.13714,     0.13814,     0.13914,     0.14014,     0.14114,     0.14214,     0.14314,\n",
              "           0.14414,     0.14515,     0.14615,     0.14715,     0.14815,     0.14915,     0.15015,     0.15115,     0.15215,     0.15315,     0.15415,     0.15516,     0.15616,     0.15716,     0.15816,     0.15916,     0.16016,     0.16116,     0.16216,     0.16316,     0.16416,     0.16517,     0.16617,     0.16717,\n",
              "           0.16817,     0.16917,     0.17017,     0.17117,     0.17217,     0.17317,     0.17417,     0.17518,     0.17618,     0.17718,     0.17818,     0.17918,     0.18018,     0.18118,     0.18218,     0.18318,     0.18418,     0.18519,     0.18619,     0.18719,     0.18819,     0.18919,     0.19019,     0.19119,\n",
              "           0.19219,     0.19319,     0.19419,      0.1952,      0.1962,      0.1972,      0.1982,      0.1992,      0.2002,      0.2012,      0.2022,      0.2032,      0.2042,     0.20521,     0.20621,     0.20721,     0.20821,     0.20921,     0.21021,     0.21121,     0.21221,     0.21321,     0.21421,     0.21522,\n",
              "           0.21622,     0.21722,     0.21822,     0.21922,     0.22022,     0.22122,     0.22222,     0.22322,     0.22422,     0.22523,     0.22623,     0.22723,     0.22823,     0.22923,     0.23023,     0.23123,     0.23223,     0.23323,     0.23423,     0.23524,     0.23624,     0.23724,     0.23824,     0.23924,\n",
              "           0.24024,     0.24124,     0.24224,     0.24324,     0.24424,     0.24525,     0.24625,     0.24725,     0.24825,     0.24925,     0.25025,     0.25125,     0.25225,     0.25325,     0.25425,     0.25526,     0.25626,     0.25726,     0.25826,     0.25926,     0.26026,     0.26126,     0.26226,     0.26326,\n",
              "           0.26426,     0.26527,     0.26627,     0.26727,     0.26827,     0.26927,     0.27027,     0.27127,     0.27227,     0.27327,     0.27427,     0.27528,     0.27628,     0.27728,     0.27828,     0.27928,     0.28028,     0.28128,     0.28228,     0.28328,     0.28428,     0.28529,     0.28629,     0.28729,\n",
              "           0.28829,     0.28929,     0.29029,     0.29129,     0.29229,     0.29329,     0.29429,      0.2953,      0.2963,      0.2973,      0.2983,      0.2993,      0.3003,      0.3013,      0.3023,      0.3033,      0.3043,     0.30531,     0.30631,     0.30731,     0.30831,     0.30931,     0.31031,     0.31131,\n",
              "           0.31231,     0.31331,     0.31431,     0.31532,     0.31632,     0.31732,     0.31832,     0.31932,     0.32032,     0.32132,     0.32232,     0.32332,     0.32432,     0.32533,     0.32633,     0.32733,     0.32833,     0.32933,     0.33033,     0.33133,     0.33233,     0.33333,     0.33433,     0.33534,\n",
              "           0.33634,     0.33734,     0.33834,     0.33934,     0.34034,     0.34134,     0.34234,     0.34334,     0.34434,     0.34535,     0.34635,     0.34735,     0.34835,     0.34935,     0.35035,     0.35135,     0.35235,     0.35335,     0.35435,     0.35536,     0.35636,     0.35736,     0.35836,     0.35936,\n",
              "           0.36036,     0.36136,     0.36236,     0.36336,     0.36436,     0.36537,     0.36637,     0.36737,     0.36837,     0.36937,     0.37037,     0.37137,     0.37237,     0.37337,     0.37437,     0.37538,     0.37638,     0.37738,     0.37838,     0.37938,     0.38038,     0.38138,     0.38238,     0.38338,\n",
              "           0.38438,     0.38539,     0.38639,     0.38739,     0.38839,     0.38939,     0.39039,     0.39139,     0.39239,     0.39339,     0.39439,      0.3954,      0.3964,      0.3974,      0.3984,      0.3994,      0.4004,      0.4014,      0.4024,      0.4034,      0.4044,     0.40541,     0.40641,     0.40741,\n",
              "           0.40841,     0.40941,     0.41041,     0.41141,     0.41241,     0.41341,     0.41441,     0.41542,     0.41642,     0.41742,     0.41842,     0.41942,     0.42042,     0.42142,     0.42242,     0.42342,     0.42442,     0.42543,     0.42643,     0.42743,     0.42843,     0.42943,     0.43043,     0.43143,\n",
              "           0.43243,     0.43343,     0.43443,     0.43544,     0.43644,     0.43744,     0.43844,     0.43944,     0.44044,     0.44144,     0.44244,     0.44344,     0.44444,     0.44545,     0.44645,     0.44745,     0.44845,     0.44945,     0.45045,     0.45145,     0.45245,     0.45345,     0.45445,     0.45546,\n",
              "           0.45646,     0.45746,     0.45846,     0.45946,     0.46046,     0.46146,     0.46246,     0.46346,     0.46446,     0.46547,     0.46647,     0.46747,     0.46847,     0.46947,     0.47047,     0.47147,     0.47247,     0.47347,     0.47447,     0.47548,     0.47648,     0.47748,     0.47848,     0.47948,\n",
              "           0.48048,     0.48148,     0.48248,     0.48348,     0.48448,     0.48549,     0.48649,     0.48749,     0.48849,     0.48949,     0.49049,     0.49149,     0.49249,     0.49349,     0.49449,      0.4955,      0.4965,      0.4975,      0.4985,      0.4995,      0.5005,      0.5015,      0.5025,      0.5035,\n",
              "            0.5045,     0.50551,     0.50651,     0.50751,     0.50851,     0.50951,     0.51051,     0.51151,     0.51251,     0.51351,     0.51451,     0.51552,     0.51652,     0.51752,     0.51852,     0.51952,     0.52052,     0.52152,     0.52252,     0.52352,     0.52452,     0.52553,     0.52653,     0.52753,\n",
              "           0.52853,     0.52953,     0.53053,     0.53153,     0.53253,     0.53353,     0.53453,     0.53554,     0.53654,     0.53754,     0.53854,     0.53954,     0.54054,     0.54154,     0.54254,     0.54354,     0.54454,     0.54555,     0.54655,     0.54755,     0.54855,     0.54955,     0.55055,     0.55155,\n",
              "           0.55255,     0.55355,     0.55455,     0.55556,     0.55656,     0.55756,     0.55856,     0.55956,     0.56056,     0.56156,     0.56256,     0.56356,     0.56456,     0.56557,     0.56657,     0.56757,     0.56857,     0.56957,     0.57057,     0.57157,     0.57257,     0.57357,     0.57457,     0.57558,\n",
              "           0.57658,     0.57758,     0.57858,     0.57958,     0.58058,     0.58158,     0.58258,     0.58358,     0.58458,     0.58559,     0.58659,     0.58759,     0.58859,     0.58959,     0.59059,     0.59159,     0.59259,     0.59359,     0.59459,      0.5956,      0.5966,      0.5976,      0.5986,      0.5996,\n",
              "            0.6006,      0.6016,      0.6026,      0.6036,      0.6046,     0.60561,     0.60661,     0.60761,     0.60861,     0.60961,     0.61061,     0.61161,     0.61261,     0.61361,     0.61461,     0.61562,     0.61662,     0.61762,     0.61862,     0.61962,     0.62062,     0.62162,     0.62262,     0.62362,\n",
              "           0.62462,     0.62563,     0.62663,     0.62763,     0.62863,     0.62963,     0.63063,     0.63163,     0.63263,     0.63363,     0.63463,     0.63564,     0.63664,     0.63764,     0.63864,     0.63964,     0.64064,     0.64164,     0.64264,     0.64364,     0.64464,     0.64565,     0.64665,     0.64765,\n",
              "           0.64865,     0.64965,     0.65065,     0.65165,     0.65265,     0.65365,     0.65465,     0.65566,     0.65666,     0.65766,     0.65866,     0.65966,     0.66066,     0.66166,     0.66266,     0.66366,     0.66466,     0.66567,     0.66667,     0.66767,     0.66867,     0.66967,     0.67067,     0.67167,\n",
              "           0.67267,     0.67367,     0.67467,     0.67568,     0.67668,     0.67768,     0.67868,     0.67968,     0.68068,     0.68168,     0.68268,     0.68368,     0.68468,     0.68569,     0.68669,     0.68769,     0.68869,     0.68969,     0.69069,     0.69169,     0.69269,     0.69369,     0.69469,      0.6957,\n",
              "            0.6967,      0.6977,      0.6987,      0.6997,      0.7007,      0.7017,      0.7027,      0.7037,      0.7047,     0.70571,     0.70671,     0.70771,     0.70871,     0.70971,     0.71071,     0.71171,     0.71271,     0.71371,     0.71471,     0.71572,     0.71672,     0.71772,     0.71872,     0.71972,\n",
              "           0.72072,     0.72172,     0.72272,     0.72372,     0.72472,     0.72573,     0.72673,     0.72773,     0.72873,     0.72973,     0.73073,     0.73173,     0.73273,     0.73373,     0.73473,     0.73574,     0.73674,     0.73774,     0.73874,     0.73974,     0.74074,     0.74174,     0.74274,     0.74374,\n",
              "           0.74474,     0.74575,     0.74675,     0.74775,     0.74875,     0.74975,     0.75075,     0.75175,     0.75275,     0.75375,     0.75475,     0.75576,     0.75676,     0.75776,     0.75876,     0.75976,     0.76076,     0.76176,     0.76276,     0.76376,     0.76476,     0.76577,     0.76677,     0.76777,\n",
              "           0.76877,     0.76977,     0.77077,     0.77177,     0.77277,     0.77377,     0.77477,     0.77578,     0.77678,     0.77778,     0.77878,     0.77978,     0.78078,     0.78178,     0.78278,     0.78378,     0.78478,     0.78579,     0.78679,     0.78779,     0.78879,     0.78979,     0.79079,     0.79179,\n",
              "           0.79279,     0.79379,     0.79479,      0.7958,      0.7968,      0.7978,      0.7988,      0.7998,      0.8008,      0.8018,      0.8028,      0.8038,      0.8048,     0.80581,     0.80681,     0.80781,     0.80881,     0.80981,     0.81081,     0.81181,     0.81281,     0.81381,     0.81481,     0.81582,\n",
              "           0.81682,     0.81782,     0.81882,     0.81982,     0.82082,     0.82182,     0.82282,     0.82382,     0.82482,     0.82583,     0.82683,     0.82783,     0.82883,     0.82983,     0.83083,     0.83183,     0.83283,     0.83383,     0.83483,     0.83584,     0.83684,     0.83784,     0.83884,     0.83984,\n",
              "           0.84084,     0.84184,     0.84284,     0.84384,     0.84484,     0.84585,     0.84685,     0.84785,     0.84885,     0.84985,     0.85085,     0.85185,     0.85285,     0.85385,     0.85485,     0.85586,     0.85686,     0.85786,     0.85886,     0.85986,     0.86086,     0.86186,     0.86286,     0.86386,\n",
              "           0.86486,     0.86587,     0.86687,     0.86787,     0.86887,     0.86987,     0.87087,     0.87187,     0.87287,     0.87387,     0.87487,     0.87588,     0.87688,     0.87788,     0.87888,     0.87988,     0.88088,     0.88188,     0.88288,     0.88388,     0.88488,     0.88589,     0.88689,     0.88789,\n",
              "           0.88889,     0.88989,     0.89089,     0.89189,     0.89289,     0.89389,     0.89489,      0.8959,      0.8969,      0.8979,      0.8989,      0.8999,      0.9009,      0.9019,      0.9029,      0.9039,      0.9049,     0.90591,     0.90691,     0.90791,     0.90891,     0.90991,     0.91091,     0.91191,\n",
              "           0.91291,     0.91391,     0.91491,     0.91592,     0.91692,     0.91792,     0.91892,     0.91992,     0.92092,     0.92192,     0.92292,     0.92392,     0.92492,     0.92593,     0.92693,     0.92793,     0.92893,     0.92993,     0.93093,     0.93193,     0.93293,     0.93393,     0.93493,     0.93594,\n",
              "           0.93694,     0.93794,     0.93894,     0.93994,     0.94094,     0.94194,     0.94294,     0.94394,     0.94494,     0.94595,     0.94695,     0.94795,     0.94895,     0.94995,     0.95095,     0.95195,     0.95295,     0.95395,     0.95495,     0.95596,     0.95696,     0.95796,     0.95896,     0.95996,\n",
              "           0.96096,     0.96196,     0.96296,     0.96396,     0.96496,     0.96597,     0.96697,     0.96797,     0.96897,     0.96997,     0.97097,     0.97197,     0.97297,     0.97397,     0.97497,     0.97598,     0.97698,     0.97798,     0.97898,     0.97998,     0.98098,     0.98198,     0.98298,     0.98398,\n",
              "           0.98498,     0.98599,     0.98699,     0.98799,     0.98899,     0.98999,     0.99099,     0.99199,     0.99299,     0.99399,     0.99499,       0.996,       0.997,       0.998,       0.999,           1]), array([[  0.0035275,     0.37222,     0.45503,     0.51357,     0.54083,     0.57378,     0.59209,     0.60254,     0.61318,     0.62129,     0.63686,     0.64671,     0.64511,     0.64929,     0.66407,     0.67309,     0.68904,     0.69331,     0.69663,     0.69866,     0.70068,     0.69982,     0.70606,\n",
              "            0.70823,     0.71039,     0.71723,     0.71876,      0.7203,     0.72183,     0.72327,     0.72458,     0.72589,     0.72719,      0.7285,     0.73036,     0.73239,     0.73442,     0.73581,     0.73692,     0.73804,     0.73915,     0.74026,     0.74138,     0.74121,     0.74103,     0.74086,\n",
              "            0.74069,     0.74051,     0.74034,     0.74017,     0.73999,     0.73982,     0.73965,     0.73947,      0.7393,     0.73873,     0.73998,     0.74461,     0.74981,      0.7496,     0.74939,     0.74918,     0.74897,     0.74876,     0.74855,     0.74834,     0.74813,     0.74792,     0.74786,\n",
              "            0.74847,     0.74909,     0.74971,     0.75032,     0.75094,     0.75156,     0.75217,     0.75279,     0.75341,     0.75402,     0.75413,     0.75252,     0.75323,     0.75394,     0.75465,     0.75536,     0.75607,     0.75678,     0.75749,      0.7582,     0.75891,     0.76144,     0.76576,\n",
              "            0.76879,     0.77163,     0.77384,     0.77467,     0.77551,     0.77634,     0.77717,     0.77801,     0.77884,     0.77967,     0.78051,     0.78081,     0.78051,      0.7802,      0.7799,     0.77959,     0.77929,     0.77899,     0.77862,      0.7782,     0.77778,     0.77736,     0.77694,\n",
              "            0.77692,     0.77744,     0.77795,     0.77847,     0.77899,      0.7795,     0.78002,     0.78054,     0.78105,     0.78157,     0.78209,      0.7826,     0.78312,     0.78364,     0.78415,     0.78419,       0.784,     0.78381,     0.78363,     0.78344,     0.78326,     0.78307,     0.78288,\n",
              "             0.7827,     0.78251,     0.78233,     0.78226,     0.78264,     0.78302,      0.7834,     0.78378,     0.78416,     0.78454,     0.78492,     0.78531,     0.78569,     0.78607,     0.78645,     0.78683,     0.78721,     0.78759,     0.78797,     0.78835,     0.78874,     0.78912,      0.7895,\n",
              "            0.78988,     0.79093,     0.79229,     0.79364,       0.795,     0.79636,     0.79772,     0.79794,     0.79789,     0.79784,     0.79779,     0.79774,     0.79769,     0.79764,     0.79759,     0.79754,     0.79749,     0.79744,     0.79739,     0.79734,     0.79729,     0.79725,      0.7972,\n",
              "            0.79715,      0.7971,     0.79705,       0.797,     0.79695,      0.7969,     0.79685,      0.7968,     0.79675,      0.7967,     0.79665,      0.7966,     0.79655,      0.7965,     0.79645,      0.7964,     0.79635,      0.7963,     0.79625,      0.7962,     0.79615,      0.7961,     0.79606,\n",
              "            0.79601,     0.79596,     0.79612,     0.79695,     0.79778,      0.7986,     0.79943,     0.80026,     0.80109,     0.80191,     0.80274,     0.80357,     0.80427,     0.80473,     0.80519,     0.80565,      0.8061,     0.80656,     0.80702,     0.80747,     0.80793,     0.80839,     0.80884,\n",
              "             0.8093,     0.80976,     0.81022,     0.81067,     0.81113,     0.81159,     0.81204,      0.8125,     0.81245,      0.8124,     0.81234,     0.81229,     0.81224,     0.81219,     0.81214,     0.81208,     0.81203,     0.81198,     0.81193,     0.81188,     0.81182,     0.81177,     0.81172,\n",
              "            0.81167,     0.81162,     0.81156,     0.81151,     0.81146,     0.81141,     0.81135,      0.8113,     0.81125,      0.8112,     0.81115,     0.81109,     0.81104,     0.81099,     0.81094,     0.81089,     0.81083,     0.81078,     0.81073,     0.81068,     0.81063,     0.81057,     0.81052,\n",
              "            0.81047,     0.81041,     0.81036,     0.81031,     0.81025,      0.8102,     0.81014,     0.81009,     0.81004,     0.80998,     0.80993,     0.80987,     0.80982,     0.80977,     0.80971,     0.80966,     0.80961,     0.80955,      0.8095,     0.80944,     0.80939,     0.80934,     0.80928,\n",
              "            0.80923,     0.80917,     0.80912,     0.80907,     0.80901,     0.80896,      0.8089,     0.80885,      0.8088,     0.80874,     0.80869,     0.80863,     0.80858,     0.80853,      0.8094,     0.81065,      0.8119,     0.81315,     0.81441,     0.81566,     0.81691,     0.81665,     0.81593,\n",
              "            0.81524,     0.81642,     0.81759,     0.81876,     0.81993,      0.8211,     0.82228,     0.82345,     0.82545,     0.82882,     0.83218,     0.83292,     0.83229,     0.83166,     0.83156,     0.83171,     0.83186,     0.83201,     0.83216,     0.83231,     0.83245,      0.8326,     0.83275,\n",
              "             0.8329,     0.83305,      0.8332,     0.83335,      0.8335,     0.83364,     0.83379,     0.83394,     0.83409,     0.83424,     0.83439,     0.83454,     0.83468,     0.83483,     0.83498,     0.83513,     0.83528,     0.83543,     0.83558,     0.83573,     0.83587,     0.83602,     0.83617,\n",
              "            0.83632,     0.83647,     0.83662,     0.83677,     0.83692,     0.83706,     0.83721,     0.83736,     0.83751,     0.83766,     0.83781,     0.83796,      0.8381,     0.83825,      0.8384,     0.83855,      0.8387,     0.83885,       0.839,     0.83915,     0.83929,     0.83944,     0.83959,\n",
              "            0.83974,     0.83989,     0.84004,     0.84019,     0.84033,     0.84048,     0.84063,     0.84078,     0.84087,     0.84058,     0.84029,     0.83999,      0.8397,     0.83941,     0.83912,     0.83901,     0.83892,     0.83884,     0.83876,     0.83868,     0.83859,     0.83851,     0.83843,\n",
              "            0.83834,     0.83826,     0.83818,     0.83809,     0.83801,     0.83793,     0.83784,     0.83776,     0.83768,      0.8376,     0.83751,     0.83743,     0.83735,     0.83726,     0.83716,     0.83701,     0.83687,     0.83672,     0.83658,     0.83643,     0.83629,     0.83614,       0.836,\n",
              "            0.83585,     0.83571,     0.83556,     0.83542,     0.83533,     0.83556,     0.83579,     0.83602,     0.83625,     0.83648,     0.83671,     0.83694,     0.83717,      0.8374,     0.83764,     0.83787,      0.8381,     0.83833,     0.83856,     0.83879,     0.83902,     0.83925,     0.83948,\n",
              "            0.83971,     0.83994,     0.84017,      0.8404,     0.84063,     0.84086,     0.84109,     0.84133,     0.84156,     0.84179,     0.84202,     0.84225,     0.84248,     0.84271,     0.84294,     0.84317,      0.8434,     0.84363,     0.84386,     0.84409,     0.84432,     0.84455,     0.84478,\n",
              "            0.84502,     0.84526,     0.84586,     0.84647,     0.84707,     0.84767,     0.84828,     0.84888,     0.84948,     0.85009,     0.85069,     0.85129,     0.85189,      0.8525,      0.8531,      0.8537,     0.85431,     0.85491,      0.8556,     0.85672,     0.85785,     0.85897,      0.8601,\n",
              "            0.86123,     0.86235,     0.86348,     0.86461,     0.86573,     0.86497,     0.86445,     0.86564,     0.86683,     0.86802,     0.86921,      0.8704,     0.87159,     0.87278,     0.87397,      0.8751,     0.87585,     0.87659,     0.87734,     0.87809,     0.87884,     0.87958,     0.88033,\n",
              "            0.88108,     0.88183,     0.88257,     0.88332,     0.88407,     0.88481,     0.88556,     0.88604,     0.88592,      0.8858,     0.88568,     0.88555,     0.88543,     0.88531,     0.88519,     0.88507,     0.88495,     0.88483,     0.88471,     0.88505,     0.88688,     0.88871,     0.89053,\n",
              "            0.89236,     0.89419,     0.89602,     0.89589,     0.89567,     0.89545,     0.89523,     0.89501,     0.89479,     0.89472,     0.89471,     0.89469,     0.89468,     0.89466,     0.89464,     0.89463,     0.89461,     0.89459,     0.89458,     0.89456,     0.89455,     0.89453,     0.89451,\n",
              "             0.8945,     0.89448,     0.89446,     0.89445,     0.89443,     0.89442,      0.8944,     0.89438,     0.89437,     0.89435,     0.89434,     0.89432,      0.8943,     0.89429,     0.89427,     0.89425,     0.89424,     0.89422,     0.89421,     0.89419,     0.89417,     0.89416,     0.89414,\n",
              "            0.89412,     0.89411,     0.89409,     0.89408,     0.89406,     0.89404,     0.89403,     0.89401,     0.89399,     0.89398,     0.89396,     0.89395,     0.89393,     0.89391,      0.8939,     0.89388,     0.89386,     0.89385,     0.89383,     0.89382,      0.8938,     0.89378,     0.89377,\n",
              "            0.89375,     0.89373,     0.89372,      0.8937,     0.89369,     0.89367,     0.89365,     0.89364,     0.89362,      0.8936,     0.89359,     0.89357,     0.89356,     0.89354,     0.89352,     0.89351,     0.89349,     0.89347,     0.89346,     0.89344,     0.89343,     0.89341,     0.89339,\n",
              "            0.89338,     0.89336,     0.89334,     0.89329,     0.89313,     0.89297,     0.89282,     0.89266,      0.8925,     0.89235,     0.89219,     0.89203,     0.89397,     0.90399,     0.90377,     0.90354,     0.90332,     0.90309,     0.90287,     0.90274,     0.90269,     0.90263,     0.90257,\n",
              "            0.90251,     0.90245,      0.9024,     0.90234,     0.90228,     0.90222,     0.90216,     0.90211,     0.90205,     0.90199,     0.90193,     0.90188,     0.90182,     0.90176,      0.9017,     0.90164,     0.90159,     0.90153,     0.90147,     0.90141,     0.90224,     0.90316,     0.90407,\n",
              "            0.90499,     0.90591,     0.90682,     0.90774,     0.90866,     0.90957,     0.91049,     0.91141,     0.91232,     0.91324,     0.91416,     0.91478,     0.91536,     0.91593,     0.91651,     0.91708,     0.91765,     0.91823,      0.9188,     0.91938,     0.91995,     0.92053,      0.9211,\n",
              "            0.92168,     0.92225,     0.92283,      0.9234,     0.92398,     0.92455,     0.92513,      0.9257,     0.92628,     0.92685,     0.92743,     0.92735,     0.92713,      0.9269,     0.92668,     0.92647,     0.92644,      0.9264,     0.92637,     0.92634,     0.92631,     0.92628,     0.92625,\n",
              "            0.92621,     0.92618,     0.92615,     0.92612,     0.92609,     0.92605,     0.92602,     0.92599,     0.92596,     0.92593,      0.9259,     0.92586,     0.92583,      0.9258,     0.92577,     0.92574,      0.9257,     0.92567,     0.92564,     0.92561,     0.92558,     0.92554,     0.92551,\n",
              "            0.92548,     0.92545,     0.92542,     0.92539,     0.92522,     0.92497,     0.92472,     0.92447,      0.9242,     0.92373,     0.92326,     0.92305,     0.92299,     0.92294,     0.92289,     0.92284,     0.92279,     0.92274,     0.92269,     0.92264,     0.92259,     0.92254,     0.92249,\n",
              "            0.92244,     0.92239,     0.92234,     0.92228,     0.92223,     0.92218,     0.92213,     0.92208,     0.92203,     0.92198,     0.92193,     0.92188,     0.92174,     0.92159,     0.92144,     0.92129,     0.92114,     0.92099,     0.92084,     0.92069,     0.91988,     0.92079,      0.9233,\n",
              "            0.92582,     0.92834,     0.93085,     0.93337,     0.93416,      0.9337,     0.93324,     0.93277,      0.9323,     0.93208,     0.93193,     0.93178,     0.93162,     0.93147,     0.93132,     0.93117,     0.93602,     0.94726,     0.94711,     0.94696,     0.94681,     0.94666,     0.94651,\n",
              "            0.94527,     0.94389,     0.94321,     0.94292,     0.94264,     0.94235,     0.94198,      0.9416,     0.94121,     0.94041,     0.93974,     0.93923,     0.93872,     0.93827,     0.93781,     0.93746,     0.93733,     0.93719,     0.93706,     0.93693,     0.93679,     0.93666,     0.93653,\n",
              "            0.93639,     0.93626,     0.93471,     0.93446,     0.93421,     0.93396,     0.93372,     0.93347,     0.93157,     0.93023,     0.92897,     0.92694,     0.93503,     0.94805,     0.94723,     0.94548,     0.94469,     0.94276,     0.94197,     0.94118,     0.93655,      0.9336,     0.93088,\n",
              "            0.92904,     0.92764,     0.92639,     0.92415,     0.91895,     0.91723,     0.90925,     0.89593,     0.88893,     0.93669,     0.93581,     0.93492,     0.93403,     0.94304,     0.98724,           1,           1,           1,           1,           1,           1,           1,           1,\n",
              "                  1,           1,           1,           1,           1,           1,           1,           1,           1,           1,           1,           1,           1,           1,           1,           1,           1,           1,           1,           1,           1,           1,           1,\n",
              "                  1,           1,           1,           1,           1,           1,           1,           1,           1,           1,           1,           1,           1,           1,           1,           1,           1,           1,           1,           1,           1,           1,           1,\n",
              "                  1,           1,           1,           1,           1,           1,           1,           1,           1,           1,           1,           1,           1,           1,           1,           1,           1,           1,           1,           1,           1,           1,           1,\n",
              "                  1,           1,           1,           1,           1,           1,           1,           1,           1,           1,           1,           1,           1,           1,           1,           1,           1,           1,           1,           1,           1,           1,           1,\n",
              "                  1,           1,           1,           1,           1,           1,           1,           1,           1,           1,           1]]), 'Confidence', 'Precision'], [array([          0,    0.001001,    0.002002,    0.003003,    0.004004,    0.005005,    0.006006,    0.007007,    0.008008,    0.009009,     0.01001,    0.011011,    0.012012,    0.013013,    0.014014,    0.015015,    0.016016,    0.017017,    0.018018,    0.019019,     0.02002,    0.021021,    0.022022,    0.023023,\n",
              "          0.024024,    0.025025,    0.026026,    0.027027,    0.028028,    0.029029,     0.03003,    0.031031,    0.032032,    0.033033,    0.034034,    0.035035,    0.036036,    0.037037,    0.038038,    0.039039,     0.04004,    0.041041,    0.042042,    0.043043,    0.044044,    0.045045,    0.046046,    0.047047,\n",
              "          0.048048,    0.049049,     0.05005,    0.051051,    0.052052,    0.053053,    0.054054,    0.055055,    0.056056,    0.057057,    0.058058,    0.059059,     0.06006,    0.061061,    0.062062,    0.063063,    0.064064,    0.065065,    0.066066,    0.067067,    0.068068,    0.069069,     0.07007,    0.071071,\n",
              "          0.072072,    0.073073,    0.074074,    0.075075,    0.076076,    0.077077,    0.078078,    0.079079,     0.08008,    0.081081,    0.082082,    0.083083,    0.084084,    0.085085,    0.086086,    0.087087,    0.088088,    0.089089,     0.09009,    0.091091,    0.092092,    0.093093,    0.094094,    0.095095,\n",
              "          0.096096,    0.097097,    0.098098,    0.099099,      0.1001,      0.1011,      0.1021,      0.1031,      0.1041,     0.10511,     0.10611,     0.10711,     0.10811,     0.10911,     0.11011,     0.11111,     0.11211,     0.11311,     0.11411,     0.11512,     0.11612,     0.11712,     0.11812,     0.11912,\n",
              "           0.12012,     0.12112,     0.12212,     0.12312,     0.12412,     0.12513,     0.12613,     0.12713,     0.12813,     0.12913,     0.13013,     0.13113,     0.13213,     0.13313,     0.13413,     0.13514,     0.13614,     0.13714,     0.13814,     0.13914,     0.14014,     0.14114,     0.14214,     0.14314,\n",
              "           0.14414,     0.14515,     0.14615,     0.14715,     0.14815,     0.14915,     0.15015,     0.15115,     0.15215,     0.15315,     0.15415,     0.15516,     0.15616,     0.15716,     0.15816,     0.15916,     0.16016,     0.16116,     0.16216,     0.16316,     0.16416,     0.16517,     0.16617,     0.16717,\n",
              "           0.16817,     0.16917,     0.17017,     0.17117,     0.17217,     0.17317,     0.17417,     0.17518,     0.17618,     0.17718,     0.17818,     0.17918,     0.18018,     0.18118,     0.18218,     0.18318,     0.18418,     0.18519,     0.18619,     0.18719,     0.18819,     0.18919,     0.19019,     0.19119,\n",
              "           0.19219,     0.19319,     0.19419,      0.1952,      0.1962,      0.1972,      0.1982,      0.1992,      0.2002,      0.2012,      0.2022,      0.2032,      0.2042,     0.20521,     0.20621,     0.20721,     0.20821,     0.20921,     0.21021,     0.21121,     0.21221,     0.21321,     0.21421,     0.21522,\n",
              "           0.21622,     0.21722,     0.21822,     0.21922,     0.22022,     0.22122,     0.22222,     0.22322,     0.22422,     0.22523,     0.22623,     0.22723,     0.22823,     0.22923,     0.23023,     0.23123,     0.23223,     0.23323,     0.23423,     0.23524,     0.23624,     0.23724,     0.23824,     0.23924,\n",
              "           0.24024,     0.24124,     0.24224,     0.24324,     0.24424,     0.24525,     0.24625,     0.24725,     0.24825,     0.24925,     0.25025,     0.25125,     0.25225,     0.25325,     0.25425,     0.25526,     0.25626,     0.25726,     0.25826,     0.25926,     0.26026,     0.26126,     0.26226,     0.26326,\n",
              "           0.26426,     0.26527,     0.26627,     0.26727,     0.26827,     0.26927,     0.27027,     0.27127,     0.27227,     0.27327,     0.27427,     0.27528,     0.27628,     0.27728,     0.27828,     0.27928,     0.28028,     0.28128,     0.28228,     0.28328,     0.28428,     0.28529,     0.28629,     0.28729,\n",
              "           0.28829,     0.28929,     0.29029,     0.29129,     0.29229,     0.29329,     0.29429,      0.2953,      0.2963,      0.2973,      0.2983,      0.2993,      0.3003,      0.3013,      0.3023,      0.3033,      0.3043,     0.30531,     0.30631,     0.30731,     0.30831,     0.30931,     0.31031,     0.31131,\n",
              "           0.31231,     0.31331,     0.31431,     0.31532,     0.31632,     0.31732,     0.31832,     0.31932,     0.32032,     0.32132,     0.32232,     0.32332,     0.32432,     0.32533,     0.32633,     0.32733,     0.32833,     0.32933,     0.33033,     0.33133,     0.33233,     0.33333,     0.33433,     0.33534,\n",
              "           0.33634,     0.33734,     0.33834,     0.33934,     0.34034,     0.34134,     0.34234,     0.34334,     0.34434,     0.34535,     0.34635,     0.34735,     0.34835,     0.34935,     0.35035,     0.35135,     0.35235,     0.35335,     0.35435,     0.35536,     0.35636,     0.35736,     0.35836,     0.35936,\n",
              "           0.36036,     0.36136,     0.36236,     0.36336,     0.36436,     0.36537,     0.36637,     0.36737,     0.36837,     0.36937,     0.37037,     0.37137,     0.37237,     0.37337,     0.37437,     0.37538,     0.37638,     0.37738,     0.37838,     0.37938,     0.38038,     0.38138,     0.38238,     0.38338,\n",
              "           0.38438,     0.38539,     0.38639,     0.38739,     0.38839,     0.38939,     0.39039,     0.39139,     0.39239,     0.39339,     0.39439,      0.3954,      0.3964,      0.3974,      0.3984,      0.3994,      0.4004,      0.4014,      0.4024,      0.4034,      0.4044,     0.40541,     0.40641,     0.40741,\n",
              "           0.40841,     0.40941,     0.41041,     0.41141,     0.41241,     0.41341,     0.41441,     0.41542,     0.41642,     0.41742,     0.41842,     0.41942,     0.42042,     0.42142,     0.42242,     0.42342,     0.42442,     0.42543,     0.42643,     0.42743,     0.42843,     0.42943,     0.43043,     0.43143,\n",
              "           0.43243,     0.43343,     0.43443,     0.43544,     0.43644,     0.43744,     0.43844,     0.43944,     0.44044,     0.44144,     0.44244,     0.44344,     0.44444,     0.44545,     0.44645,     0.44745,     0.44845,     0.44945,     0.45045,     0.45145,     0.45245,     0.45345,     0.45445,     0.45546,\n",
              "           0.45646,     0.45746,     0.45846,     0.45946,     0.46046,     0.46146,     0.46246,     0.46346,     0.46446,     0.46547,     0.46647,     0.46747,     0.46847,     0.46947,     0.47047,     0.47147,     0.47247,     0.47347,     0.47447,     0.47548,     0.47648,     0.47748,     0.47848,     0.47948,\n",
              "           0.48048,     0.48148,     0.48248,     0.48348,     0.48448,     0.48549,     0.48649,     0.48749,     0.48849,     0.48949,     0.49049,     0.49149,     0.49249,     0.49349,     0.49449,      0.4955,      0.4965,      0.4975,      0.4985,      0.4995,      0.5005,      0.5015,      0.5025,      0.5035,\n",
              "            0.5045,     0.50551,     0.50651,     0.50751,     0.50851,     0.50951,     0.51051,     0.51151,     0.51251,     0.51351,     0.51451,     0.51552,     0.51652,     0.51752,     0.51852,     0.51952,     0.52052,     0.52152,     0.52252,     0.52352,     0.52452,     0.52553,     0.52653,     0.52753,\n",
              "           0.52853,     0.52953,     0.53053,     0.53153,     0.53253,     0.53353,     0.53453,     0.53554,     0.53654,     0.53754,     0.53854,     0.53954,     0.54054,     0.54154,     0.54254,     0.54354,     0.54454,     0.54555,     0.54655,     0.54755,     0.54855,     0.54955,     0.55055,     0.55155,\n",
              "           0.55255,     0.55355,     0.55455,     0.55556,     0.55656,     0.55756,     0.55856,     0.55956,     0.56056,     0.56156,     0.56256,     0.56356,     0.56456,     0.56557,     0.56657,     0.56757,     0.56857,     0.56957,     0.57057,     0.57157,     0.57257,     0.57357,     0.57457,     0.57558,\n",
              "           0.57658,     0.57758,     0.57858,     0.57958,     0.58058,     0.58158,     0.58258,     0.58358,     0.58458,     0.58559,     0.58659,     0.58759,     0.58859,     0.58959,     0.59059,     0.59159,     0.59259,     0.59359,     0.59459,      0.5956,      0.5966,      0.5976,      0.5986,      0.5996,\n",
              "            0.6006,      0.6016,      0.6026,      0.6036,      0.6046,     0.60561,     0.60661,     0.60761,     0.60861,     0.60961,     0.61061,     0.61161,     0.61261,     0.61361,     0.61461,     0.61562,     0.61662,     0.61762,     0.61862,     0.61962,     0.62062,     0.62162,     0.62262,     0.62362,\n",
              "           0.62462,     0.62563,     0.62663,     0.62763,     0.62863,     0.62963,     0.63063,     0.63163,     0.63263,     0.63363,     0.63463,     0.63564,     0.63664,     0.63764,     0.63864,     0.63964,     0.64064,     0.64164,     0.64264,     0.64364,     0.64464,     0.64565,     0.64665,     0.64765,\n",
              "           0.64865,     0.64965,     0.65065,     0.65165,     0.65265,     0.65365,     0.65465,     0.65566,     0.65666,     0.65766,     0.65866,     0.65966,     0.66066,     0.66166,     0.66266,     0.66366,     0.66466,     0.66567,     0.66667,     0.66767,     0.66867,     0.66967,     0.67067,     0.67167,\n",
              "           0.67267,     0.67367,     0.67467,     0.67568,     0.67668,     0.67768,     0.67868,     0.67968,     0.68068,     0.68168,     0.68268,     0.68368,     0.68468,     0.68569,     0.68669,     0.68769,     0.68869,     0.68969,     0.69069,     0.69169,     0.69269,     0.69369,     0.69469,      0.6957,\n",
              "            0.6967,      0.6977,      0.6987,      0.6997,      0.7007,      0.7017,      0.7027,      0.7037,      0.7047,     0.70571,     0.70671,     0.70771,     0.70871,     0.70971,     0.71071,     0.71171,     0.71271,     0.71371,     0.71471,     0.71572,     0.71672,     0.71772,     0.71872,     0.71972,\n",
              "           0.72072,     0.72172,     0.72272,     0.72372,     0.72472,     0.72573,     0.72673,     0.72773,     0.72873,     0.72973,     0.73073,     0.73173,     0.73273,     0.73373,     0.73473,     0.73574,     0.73674,     0.73774,     0.73874,     0.73974,     0.74074,     0.74174,     0.74274,     0.74374,\n",
              "           0.74474,     0.74575,     0.74675,     0.74775,     0.74875,     0.74975,     0.75075,     0.75175,     0.75275,     0.75375,     0.75475,     0.75576,     0.75676,     0.75776,     0.75876,     0.75976,     0.76076,     0.76176,     0.76276,     0.76376,     0.76476,     0.76577,     0.76677,     0.76777,\n",
              "           0.76877,     0.76977,     0.77077,     0.77177,     0.77277,     0.77377,     0.77477,     0.77578,     0.77678,     0.77778,     0.77878,     0.77978,     0.78078,     0.78178,     0.78278,     0.78378,     0.78478,     0.78579,     0.78679,     0.78779,     0.78879,     0.78979,     0.79079,     0.79179,\n",
              "           0.79279,     0.79379,     0.79479,      0.7958,      0.7968,      0.7978,      0.7988,      0.7998,      0.8008,      0.8018,      0.8028,      0.8038,      0.8048,     0.80581,     0.80681,     0.80781,     0.80881,     0.80981,     0.81081,     0.81181,     0.81281,     0.81381,     0.81481,     0.81582,\n",
              "           0.81682,     0.81782,     0.81882,     0.81982,     0.82082,     0.82182,     0.82282,     0.82382,     0.82482,     0.82583,     0.82683,     0.82783,     0.82883,     0.82983,     0.83083,     0.83183,     0.83283,     0.83383,     0.83483,     0.83584,     0.83684,     0.83784,     0.83884,     0.83984,\n",
              "           0.84084,     0.84184,     0.84284,     0.84384,     0.84484,     0.84585,     0.84685,     0.84785,     0.84885,     0.84985,     0.85085,     0.85185,     0.85285,     0.85385,     0.85485,     0.85586,     0.85686,     0.85786,     0.85886,     0.85986,     0.86086,     0.86186,     0.86286,     0.86386,\n",
              "           0.86486,     0.86587,     0.86687,     0.86787,     0.86887,     0.86987,     0.87087,     0.87187,     0.87287,     0.87387,     0.87487,     0.87588,     0.87688,     0.87788,     0.87888,     0.87988,     0.88088,     0.88188,     0.88288,     0.88388,     0.88488,     0.88589,     0.88689,     0.88789,\n",
              "           0.88889,     0.88989,     0.89089,     0.89189,     0.89289,     0.89389,     0.89489,      0.8959,      0.8969,      0.8979,      0.8989,      0.8999,      0.9009,      0.9019,      0.9029,      0.9039,      0.9049,     0.90591,     0.90691,     0.90791,     0.90891,     0.90991,     0.91091,     0.91191,\n",
              "           0.91291,     0.91391,     0.91491,     0.91592,     0.91692,     0.91792,     0.91892,     0.91992,     0.92092,     0.92192,     0.92292,     0.92392,     0.92492,     0.92593,     0.92693,     0.92793,     0.92893,     0.92993,     0.93093,     0.93193,     0.93293,     0.93393,     0.93493,     0.93594,\n",
              "           0.93694,     0.93794,     0.93894,     0.93994,     0.94094,     0.94194,     0.94294,     0.94394,     0.94494,     0.94595,     0.94695,     0.94795,     0.94895,     0.94995,     0.95095,     0.95195,     0.95295,     0.95395,     0.95495,     0.95596,     0.95696,     0.95796,     0.95896,     0.95996,\n",
              "           0.96096,     0.96196,     0.96296,     0.96396,     0.96496,     0.96597,     0.96697,     0.96797,     0.96897,     0.96997,     0.97097,     0.97197,     0.97297,     0.97397,     0.97497,     0.97598,     0.97698,     0.97798,     0.97898,     0.97998,     0.98098,     0.98198,     0.98298,     0.98398,\n",
              "           0.98498,     0.98599,     0.98699,     0.98799,     0.98899,     0.98999,     0.99099,     0.99199,     0.99299,     0.99399,     0.99499,       0.996,       0.997,       0.998,       0.999,           1]), array([[    0.99091,     0.83636,     0.82727,     0.82727,     0.80909,         0.8,         0.8,         0.8,         0.8,         0.8,         0.8,      0.7988,     0.79091,     0.79091,     0.79091,     0.79091,     0.79091,     0.79091,     0.79091,     0.79091,     0.79091,     0.78418,     0.78182,\n",
              "            0.78182,     0.78182,     0.78182,     0.78182,     0.78182,     0.78182,     0.78182,     0.78182,     0.78182,     0.78182,     0.78182,     0.78182,     0.78182,     0.78182,     0.78182,     0.78182,     0.78182,     0.78182,     0.78182,     0.78182,     0.78112,     0.78042,     0.77972,\n",
              "            0.77902,     0.77832,     0.77762,     0.77692,     0.77622,     0.77552,     0.77482,     0.77411,     0.77341,     0.77114,     0.76364,     0.76364,     0.76287,     0.76203,     0.76118,     0.76033,     0.75948,     0.75863,     0.75779,     0.75694,     0.75609,     0.75524,     0.75455,\n",
              "            0.75455,     0.75455,     0.75455,     0.75455,     0.75455,     0.75455,     0.75455,     0.75455,     0.75455,     0.75455,     0.75287,     0.74545,     0.74545,     0.74545,     0.74545,     0.74545,     0.74545,     0.74545,     0.74545,     0.74545,     0.74545,     0.74545,     0.74545,\n",
              "            0.74545,     0.74545,     0.74545,     0.74545,     0.74545,     0.74545,     0.74545,     0.74545,     0.74545,     0.74545,     0.74545,     0.74484,     0.74353,     0.74222,      0.7409,     0.73959,     0.73828,     0.73696,      0.7354,     0.73362,     0.73185,     0.73007,     0.72829,\n",
              "            0.72727,     0.72727,     0.72727,     0.72727,     0.72727,     0.72727,     0.72727,     0.72727,     0.72727,     0.72727,     0.72727,     0.72727,     0.72727,     0.72727,     0.72727,     0.72672,     0.72593,     0.72514,     0.72435,     0.72356,     0.72277,     0.72198,     0.72119,\n",
              "            0.72039,      0.7196,     0.71881,     0.71818,     0.71818,     0.71818,     0.71818,     0.71818,     0.71818,     0.71818,     0.71818,     0.71818,     0.71818,     0.71818,     0.71818,     0.71818,     0.71818,     0.71818,     0.71818,     0.71818,     0.71818,     0.71818,     0.71818,\n",
              "            0.71818,     0.71818,     0.71818,     0.71818,     0.71818,     0.71818,     0.71818,     0.71801,     0.71779,     0.71757,     0.71735,     0.71713,     0.71691,     0.71669,     0.71647,     0.71626,     0.71604,     0.71582,      0.7156,     0.71538,     0.71516,     0.71494,     0.71472,\n",
              "            0.71451,     0.71429,     0.71407,     0.71385,     0.71363,     0.71341,     0.71319,     0.71297,     0.71276,     0.71254,     0.71232,      0.7121,     0.71188,     0.71166,     0.71144,     0.71122,     0.71101,     0.71079,     0.71057,     0.71035,     0.71013,     0.70991,     0.70969,\n",
              "            0.70948,     0.70926,     0.70909,     0.70909,     0.70909,     0.70909,     0.70909,     0.70909,     0.70909,     0.70909,     0.70909,     0.70909,     0.70909,     0.70909,     0.70909,     0.70909,     0.70909,     0.70909,     0.70909,     0.70909,     0.70909,     0.70909,     0.70909,\n",
              "            0.70909,     0.70909,     0.70909,     0.70909,     0.70909,     0.70909,     0.70909,     0.70909,     0.70885,     0.70861,     0.70837,     0.70813,     0.70789,     0.70765,     0.70741,     0.70717,     0.70693,     0.70669,     0.70645,     0.70621,     0.70597,     0.70573,     0.70549,\n",
              "            0.70525,     0.70501,     0.70478,     0.70454,      0.7043,     0.70406,     0.70382,     0.70358,     0.70334,      0.7031,     0.70286,     0.70262,     0.70238,     0.70214,      0.7019,     0.70166,     0.70142,     0.70118,     0.70094,      0.7007,     0.70046,     0.70022,     0.69998,\n",
              "            0.69974,     0.69949,     0.69925,     0.69901,     0.69876,     0.69852,     0.69828,     0.69803,     0.69779,     0.69755,      0.6973,     0.69706,     0.69682,     0.69657,     0.69633,     0.69609,     0.69585,      0.6956,     0.69536,     0.69512,     0.69487,     0.69463,     0.69439,\n",
              "            0.69414,      0.6939,     0.69366,     0.69341,     0.69317,     0.69293,     0.69268,     0.69244,      0.6922,     0.69195,     0.69171,     0.69147,     0.69122,     0.69098,     0.69091,     0.69091,     0.69091,     0.69091,     0.69091,     0.69091,     0.69091,     0.68837,     0.68506,\n",
              "            0.68182,     0.68182,     0.68182,     0.68182,     0.68182,     0.68182,     0.68182,     0.68182,     0.68182,     0.68182,     0.68182,     0.67981,     0.67675,     0.67369,     0.67273,     0.67273,     0.67273,     0.67273,     0.67273,     0.67273,     0.67273,     0.67273,     0.67273,\n",
              "            0.67273,     0.67273,     0.67273,     0.67273,     0.67273,     0.67273,     0.67273,     0.67273,     0.67273,     0.67273,     0.67273,     0.67273,     0.67273,     0.67273,     0.67273,     0.67273,     0.67273,     0.67273,     0.67273,     0.67273,     0.67273,     0.67273,     0.67273,\n",
              "            0.67273,     0.67273,     0.67273,     0.67273,     0.67273,     0.67273,     0.67273,     0.67273,     0.67273,     0.67273,     0.67273,     0.67273,     0.67273,     0.67273,     0.67273,     0.67273,     0.67273,     0.67273,     0.67273,     0.67273,     0.67273,     0.67273,     0.67273,\n",
              "            0.67273,     0.67273,     0.67273,     0.67273,     0.67273,     0.67273,     0.67273,     0.67273,     0.67253,     0.67108,     0.66963,     0.66818,     0.66673,     0.66527,     0.66382,     0.66328,     0.66288,     0.66248,     0.66207,     0.66167,     0.66127,     0.66086,     0.66046,\n",
              "            0.66005,     0.65965,     0.65925,     0.65884,     0.65844,     0.65804,     0.65763,     0.65723,     0.65682,     0.65642,     0.65602,     0.65561,     0.65521,     0.65481,      0.6543,     0.65361,     0.65292,     0.65224,     0.65155,     0.65086,     0.65017,     0.64948,     0.64879,\n",
              "             0.6481,     0.64742,     0.64673,     0.64604,     0.64545,     0.64545,     0.64545,     0.64545,     0.64545,     0.64545,     0.64545,     0.64545,     0.64545,     0.64545,     0.64545,     0.64545,     0.64545,     0.64545,     0.64545,     0.64545,     0.64545,     0.64545,     0.64545,\n",
              "            0.64545,     0.64545,     0.64545,     0.64545,     0.64545,     0.64545,     0.64545,     0.64545,     0.64545,     0.64545,     0.64545,     0.64545,     0.64545,     0.64545,     0.64545,     0.64545,     0.64545,     0.64545,     0.64545,     0.64545,     0.64545,     0.64545,     0.64545,\n",
              "            0.64545,     0.64545,     0.64545,     0.64545,     0.64545,     0.64545,     0.64545,     0.64545,     0.64545,     0.64545,     0.64545,     0.64545,     0.64545,     0.64545,     0.64545,     0.64545,     0.64545,     0.64545,     0.64545,     0.64545,     0.64545,     0.64545,     0.64545,\n",
              "            0.64545,     0.64545,     0.64545,     0.64545,     0.64545,     0.64062,     0.63636,     0.63636,     0.63636,     0.63636,     0.63636,     0.63636,     0.63636,     0.63636,     0.63636,     0.63636,     0.63636,     0.63636,     0.63636,     0.63636,     0.63636,     0.63636,     0.63636,\n",
              "            0.63636,     0.63636,     0.63636,     0.63636,     0.63636,     0.63636,     0.63636,     0.63613,     0.63538,     0.63462,     0.63387,     0.63312,     0.63236,     0.63161,     0.63086,      0.6301,     0.62935,      0.6286,     0.62785,     0.62727,     0.62727,     0.62727,     0.62727,\n",
              "            0.62727,     0.62727,     0.62727,     0.62588,     0.62441,     0.62294,     0.62148,     0.62001,     0.61854,      0.6181,       0.618,     0.61789,     0.61779,     0.61768,     0.61758,     0.61747,     0.61737,     0.61726,     0.61716,     0.61705,     0.61695,     0.61684,     0.61674,\n",
              "            0.61663,     0.61653,     0.61642,     0.61632,     0.61621,      0.6161,       0.616,     0.61589,     0.61579,     0.61568,     0.61558,     0.61547,     0.61537,     0.61526,     0.61516,     0.61505,     0.61495,     0.61484,     0.61474,     0.61463,     0.61453,     0.61442,     0.61432,\n",
              "            0.61421,     0.61411,       0.614,      0.6139,     0.61379,     0.61369,     0.61358,     0.61348,     0.61337,     0.61327,     0.61316,     0.61306,     0.61295,     0.61285,     0.61274,     0.61264,     0.61253,     0.61242,     0.61232,     0.61221,     0.61211,       0.612,      0.6119,\n",
              "            0.61179,     0.61169,     0.61158,     0.61148,     0.61137,     0.61127,     0.61116,     0.61106,     0.61095,     0.61085,     0.61074,     0.61064,     0.61053,     0.61043,     0.61032,     0.61022,     0.61011,     0.61001,      0.6099,      0.6098,     0.60969,     0.60959,     0.60948,\n",
              "            0.60938,     0.60927,     0.60917,      0.6088,     0.60781,     0.60683,     0.60584,     0.60485,     0.60386,     0.60287,     0.60188,     0.60089,         0.6,     0.59921,     0.59767,     0.59613,      0.5946,     0.59306,     0.59152,     0.59068,     0.59029,     0.58991,     0.58953,\n",
              "            0.58914,     0.58876,     0.58838,     0.58799,     0.58761,     0.58722,     0.58684,     0.58646,     0.58607,     0.58569,     0.58531,     0.58492,     0.58454,     0.58416,     0.58377,     0.58339,       0.583,     0.58262,     0.58224,     0.58185,     0.58182,     0.58182,     0.58182,\n",
              "            0.58182,     0.58182,     0.58182,     0.58182,     0.58182,     0.58182,     0.58182,     0.58182,     0.58182,     0.58182,     0.58182,     0.58182,     0.58182,     0.58182,     0.58182,     0.58182,     0.58182,     0.58182,     0.58182,     0.58182,     0.58182,     0.58182,     0.58182,\n",
              "            0.58182,     0.58182,     0.58182,     0.58182,     0.58182,     0.58182,     0.58182,     0.58182,     0.58182,     0.58182,     0.58182,     0.58026,     0.57834,     0.57642,      0.5745,     0.57271,     0.57244,     0.57218,     0.57192,     0.57165,     0.57139,     0.57113,     0.57086,\n",
              "             0.5706,     0.57033,     0.57007,     0.56981,     0.56954,     0.56928,     0.56902,     0.56875,     0.56849,     0.56822,     0.56796,      0.5677,     0.56743,     0.56717,     0.56691,     0.56664,     0.56638,     0.56611,     0.56585,     0.56559,     0.56532,     0.56506,      0.5648,\n",
              "            0.56453,     0.56427,       0.564,     0.56374,     0.56242,     0.56041,     0.55839,     0.55638,     0.55421,     0.55053,     0.54685,     0.54522,     0.54483,     0.54445,     0.54407,     0.54368,      0.5433,     0.54291,     0.54253,     0.54215,     0.54176,     0.54138,       0.541,\n",
              "            0.54061,     0.54023,     0.53984,     0.53946,     0.53908,     0.53869,     0.53831,     0.53793,     0.53754,     0.53716,     0.53677,     0.53639,     0.53535,     0.53425,     0.53316,     0.53206,     0.53097,     0.52987,     0.52878,     0.52768,     0.52188,     0.51818,     0.51818,\n",
              "            0.51818,     0.51818,     0.51818,     0.51818,     0.51596,     0.51213,     0.50831,     0.50453,     0.50075,     0.49905,     0.49786,     0.49668,     0.49549,     0.49431,     0.49312,     0.49193,     0.49091,      0.4899,     0.48843,     0.48697,     0.48551,     0.48404,     0.48258,\n",
              "            0.47104,     0.45884,     0.45302,     0.45061,      0.4482,     0.44578,      0.4428,     0.43973,     0.43666,     0.43045,     0.42533,     0.42154,     0.41782,     0.41458,     0.41133,     0.40881,      0.4079,     0.40699,     0.40608,     0.40517,     0.40426,     0.40335,     0.40244,\n",
              "            0.40153,     0.40062,     0.39042,     0.38888,     0.38733,     0.38578,     0.38423,     0.38268,      0.3713,     0.36362,      0.3567,     0.34604,     0.33636,     0.33188,     0.32642,     0.31538,     0.31058,     0.29949,     0.29521,     0.29093,     0.26846,     0.25565,      0.2449,\n",
              "            0.23811,     0.23317,     0.22887,     0.22161,     0.20622,     0.20153,     0.18219,      0.1566,     0.14552,     0.13461,     0.13267,     0.13073,     0.12879,     0.12727,     0.12727,     0.11693,     0.11107,     0.10158,    0.093884,    0.076035,    0.060577,    0.055061,     0.04348,\n",
              "           0.040383,    0.037287,    0.032762,    0.027632,    0.025938,    0.024502,    0.023067,    0.021631,    0.020196,     0.01876,    0.017687,    0.016859,    0.016031,    0.015203,    0.014374,    0.013546,    0.012718,     0.01189,    0.011062,    0.010234,   0.0094054,           0,           0,\n",
              "                  0,           0,           0,           0,           0,           0,           0,           0,           0,           0,           0,           0,           0,           0,           0,           0,           0,           0,           0,           0,           0,           0,           0,\n",
              "                  0,           0,           0,           0,           0,           0,           0,           0,           0,           0,           0,           0,           0,           0,           0,           0,           0,           0,           0,           0,           0,           0,           0,\n",
              "                  0,           0,           0,           0,           0,           0,           0,           0,           0,           0,           0,           0,           0,           0,           0,           0,           0,           0,           0,           0,           0,           0,           0,\n",
              "                  0,           0,           0,           0,           0,           0,           0,           0,           0,           0,           0]]), 'Confidence', 'Recall']]\n",
              "fitness: 0.34378706169033224\n",
              "keys: ['metrics/precision(B)', 'metrics/recall(B)', 'metrics/mAP50(B)', 'metrics/mAP50-95(B)']\n",
              "maps: array([    0.29671])\n",
              "names: {0: 'jab'}\n",
              "plot: True\n",
              "results_dict: {'metrics/precision(B)': 0.7539379938881692, 'metrics/recall(B)': 0.7454545454545455, 'metrics/mAP50(B)': 0.7674968484455288, 'metrics/mAP50-95(B)': 0.2967081964953104, 'fitness': 0.34378706169033224}\n",
              "save_dir: PosixPath('/content/drive/MyDrive/punches/yolov10/runs/detect/train2')\n",
              "speed: {'preprocess': 4.03050774509467, 'inference': 2.9630985074830285, 'loss': 0.00032174934461278826, 'postprocess': 0.041276505849893806}\n",
              "task: 'detect'"
            ]
          },
          "metadata": {},
          "execution_count": 10
        }
      ]
    },
    {
      "cell_type": "markdown",
      "source": [],
      "metadata": {
        "id": "_OC0gLoHrObx"
      }
    },
    {
      "cell_type": "code",
      "source": [
        "model.predict('frame_0013.jpg')"
      ],
      "metadata": {
        "colab": {
          "base_uri": "https://localhost:8080/"
        },
        "id": "sEbPGZjDIcY4",
        "outputId": "eb5137bc-d892-4701-aa03-14d678cef5e3"
      },
      "execution_count": 11,
      "outputs": [
        {
          "output_type": "stream",
          "name": "stdout",
          "text": [
            "\n",
            "image 1/1 /content/drive/MyDrive/punches/yolov10/frame_0013.jpg: 384x640 1 jab, 122.4ms\n",
            "Speed: 1.6ms preprocess, 122.4ms inference, 1.5ms postprocess per image at shape (1, 3, 384, 640)\n"
          ]
        },
        {
          "output_type": "execute_result",
          "data": {
            "text/plain": [
              "[ultralytics.engine.results.Results object with attributes:\n",
              " \n",
              " boxes: ultralytics.engine.results.Boxes object\n",
              " keypoints: None\n",
              " masks: None\n",
              " names: {0: 'jab'}\n",
              " obb: None\n",
              " orig_img: array([[[ 1,  1,  1],\n",
              "         [ 1,  1,  1],\n",
              "         [ 3,  1,  1],\n",
              "         ...,\n",
              "         [11,  0,  2],\n",
              "         [11,  0,  2],\n",
              "         [11,  0,  2]],\n",
              " \n",
              "        [[ 1,  1,  1],\n",
              "         [ 1,  1,  1],\n",
              "         [ 3,  1,  1],\n",
              "         ...,\n",
              "         [11,  0,  2],\n",
              "         [11,  0,  2],\n",
              "         [11,  0,  2]],\n",
              " \n",
              "        [[ 1,  1,  1],\n",
              "         [ 1,  1,  1],\n",
              "         [ 3,  1,  1],\n",
              "         ...,\n",
              "         [11,  0,  2],\n",
              "         [11,  0,  2],\n",
              "         [11,  0,  2]],\n",
              " \n",
              "        ...,\n",
              " \n",
              "        [[ 0,  0,  0],\n",
              "         [ 0,  0,  0],\n",
              "         [ 0,  0,  0],\n",
              "         ...,\n",
              "         [ 0,  0,  0],\n",
              "         [ 0,  0,  0],\n",
              "         [ 0,  0,  0]],\n",
              " \n",
              "        [[ 0,  0,  0],\n",
              "         [ 0,  0,  0],\n",
              "         [ 0,  0,  0],\n",
              "         ...,\n",
              "         [ 0,  0,  1],\n",
              "         [ 0,  0,  1],\n",
              "         [ 0,  0,  1]],\n",
              " \n",
              "        [[ 0,  0,  0],\n",
              "         [ 0,  0,  0],\n",
              "         [ 0,  0,  0],\n",
              "         ...,\n",
              "         [ 0,  0,  1],\n",
              "         [ 0,  1,  2],\n",
              "         [ 0,  0,  1]]], dtype=uint8)\n",
              " orig_shape: (360, 640)\n",
              " path: '/content/drive/MyDrive/punches/yolov10/frame_0013.jpg'\n",
              " probs: None\n",
              " save_dir: '/content/drive/MyDrive/punches/yolov10/runs/detect/train22'\n",
              " speed: {'preprocess': 1.6417503356933594, 'inference': 122.36618995666504, 'postprocess': 1.466512680053711}]"
            ]
          },
          "metadata": {},
          "execution_count": 11
        }
      ]
    },
    {
      "cell_type": "code",
      "source": [
        "!yolo predict model=/content/drive/MyDrive/punches/yolov10/runs/detect/train2/weights/best.pt source=/content/drive/MyDrive/punches/yolov10/test2.mp4 half conf=0.25 save=True"
      ],
      "metadata": {
        "colab": {
          "base_uri": "https://localhost:8080/"
        },
        "id": "1_3gGbd8nqo9",
        "outputId": "e6337263-5b8c-45a6-bc47-7594858d17f6"
      },
      "execution_count": 17,
      "outputs": [
        {
          "output_type": "stream",
          "name": "stdout",
          "text": [
            "\u001b[1;30;43mStreaming output truncated to the last 5000 lines.\u001b[0m\n",
            "video 1/1 (frame 14163/19159) /content/drive/MyDrive/punches/yolov10/test2.mp4: 384x640 2 jabs, 14.7ms\n",
            "video 1/1 (frame 14164/19159) /content/drive/MyDrive/punches/yolov10/test2.mp4: 384x640 1 jab, 13.8ms\n",
            "video 1/1 (frame 14165/19159) /content/drive/MyDrive/punches/yolov10/test2.mp4: 384x640 1 jab, 14.7ms\n",
            "video 1/1 (frame 14166/19159) /content/drive/MyDrive/punches/yolov10/test2.mp4: 384x640 1 jab, 13.5ms\n",
            "video 1/1 (frame 14167/19159) /content/drive/MyDrive/punches/yolov10/test2.mp4: 384x640 2 jabs, 14.1ms\n",
            "video 1/1 (frame 14168/19159) /content/drive/MyDrive/punches/yolov10/test2.mp4: 384x640 1 jab, 13.7ms\n",
            "video 1/1 (frame 14169/19159) /content/drive/MyDrive/punches/yolov10/test2.mp4: 384x640 (no detections), 13.7ms\n",
            "video 1/1 (frame 14170/19159) /content/drive/MyDrive/punches/yolov10/test2.mp4: 384x640 1 jab, 13.3ms\n",
            "video 1/1 (frame 14171/19159) /content/drive/MyDrive/punches/yolov10/test2.mp4: 384x640 1 jab, 13.8ms\n",
            "video 1/1 (frame 14172/19159) /content/drive/MyDrive/punches/yolov10/test2.mp4: 384x640 1 jab, 13.8ms\n",
            "video 1/1 (frame 14173/19159) /content/drive/MyDrive/punches/yolov10/test2.mp4: 384x640 1 jab, 35.7ms\n",
            "video 1/1 (frame 14174/19159) /content/drive/MyDrive/punches/yolov10/test2.mp4: 384x640 1 jab, 22.4ms\n",
            "video 1/1 (frame 14175/19159) /content/drive/MyDrive/punches/yolov10/test2.mp4: 384x640 (no detections), 15.3ms\n",
            "video 1/1 (frame 14176/19159) /content/drive/MyDrive/punches/yolov10/test2.mp4: 384x640 (no detections), 27.3ms\n",
            "video 1/1 (frame 14177/19159) /content/drive/MyDrive/punches/yolov10/test2.mp4: 384x640 (no detections), 16.4ms\n",
            "video 1/1 (frame 14178/19159) /content/drive/MyDrive/punches/yolov10/test2.mp4: 384x640 (no detections), 15.5ms\n",
            "video 1/1 (frame 14179/19159) /content/drive/MyDrive/punches/yolov10/test2.mp4: 384x640 (no detections), 13.9ms\n",
            "video 1/1 (frame 14180/19159) /content/drive/MyDrive/punches/yolov10/test2.mp4: 384x640 (no detections), 15.4ms\n",
            "video 1/1 (frame 14181/19159) /content/drive/MyDrive/punches/yolov10/test2.mp4: 384x640 (no detections), 20.2ms\n",
            "video 1/1 (frame 14182/19159) /content/drive/MyDrive/punches/yolov10/test2.mp4: 384x640 (no detections), 20.0ms\n",
            "video 1/1 (frame 14183/19159) /content/drive/MyDrive/punches/yolov10/test2.mp4: 384x640 (no detections), 27.1ms\n",
            "video 1/1 (frame 14184/19159) /content/drive/MyDrive/punches/yolov10/test2.mp4: 384x640 (no detections), 22.9ms\n",
            "video 1/1 (frame 14185/19159) /content/drive/MyDrive/punches/yolov10/test2.mp4: 384x640 (no detections), 21.0ms\n",
            "video 1/1 (frame 14186/19159) /content/drive/MyDrive/punches/yolov10/test2.mp4: 384x640 1 jab, 16.3ms\n",
            "video 1/1 (frame 14187/19159) /content/drive/MyDrive/punches/yolov10/test2.mp4: 384x640 (no detections), 14.5ms\n",
            "video 1/1 (frame 14188/19159) /content/drive/MyDrive/punches/yolov10/test2.mp4: 384x640 (no detections), 17.3ms\n",
            "video 1/1 (frame 14189/19159) /content/drive/MyDrive/punches/yolov10/test2.mp4: 384x640 (no detections), 15.6ms\n",
            "video 1/1 (frame 14190/19159) /content/drive/MyDrive/punches/yolov10/test2.mp4: 384x640 (no detections), 20.1ms\n",
            "video 1/1 (frame 14191/19159) /content/drive/MyDrive/punches/yolov10/test2.mp4: 384x640 (no detections), 19.4ms\n",
            "video 1/1 (frame 14192/19159) /content/drive/MyDrive/punches/yolov10/test2.mp4: 384x640 (no detections), 22.1ms\n",
            "video 1/1 (frame 14193/19159) /content/drive/MyDrive/punches/yolov10/test2.mp4: 384x640 (no detections), 24.9ms\n",
            "video 1/1 (frame 14194/19159) /content/drive/MyDrive/punches/yolov10/test2.mp4: 384x640 1 jab, 21.9ms\n",
            "video 1/1 (frame 14195/19159) /content/drive/MyDrive/punches/yolov10/test2.mp4: 384x640 1 jab, 17.2ms\n",
            "video 1/1 (frame 14196/19159) /content/drive/MyDrive/punches/yolov10/test2.mp4: 384x640 1 jab, 17.4ms\n",
            "video 1/1 (frame 14197/19159) /content/drive/MyDrive/punches/yolov10/test2.mp4: 384x640 1 jab, 14.7ms\n",
            "video 1/1 (frame 14198/19159) /content/drive/MyDrive/punches/yolov10/test2.mp4: 384x640 1 jab, 19.9ms\n",
            "video 1/1 (frame 14199/19159) /content/drive/MyDrive/punches/yolov10/test2.mp4: 384x640 1 jab, 17.3ms\n",
            "video 1/1 (frame 14200/19159) /content/drive/MyDrive/punches/yolov10/test2.mp4: 384x640 1 jab, 17.6ms\n",
            "video 1/1 (frame 14201/19159) /content/drive/MyDrive/punches/yolov10/test2.mp4: 384x640 1 jab, 18.4ms\n",
            "video 1/1 (frame 14202/19159) /content/drive/MyDrive/punches/yolov10/test2.mp4: 384x640 (no detections), 18.4ms\n",
            "video 1/1 (frame 14203/19159) /content/drive/MyDrive/punches/yolov10/test2.mp4: 384x640 (no detections), 24.3ms\n",
            "video 1/1 (frame 14204/19159) /content/drive/MyDrive/punches/yolov10/test2.mp4: 384x640 1 jab, 19.6ms\n",
            "video 1/1 (frame 14205/19159) /content/drive/MyDrive/punches/yolov10/test2.mp4: 384x640 (no detections), 17.3ms\n",
            "video 1/1 (frame 14206/19159) /content/drive/MyDrive/punches/yolov10/test2.mp4: 384x640 (no detections), 19.5ms\n",
            "video 1/1 (frame 14207/19159) /content/drive/MyDrive/punches/yolov10/test2.mp4: 384x640 1 jab, 20.2ms\n",
            "video 1/1 (frame 14208/19159) /content/drive/MyDrive/punches/yolov10/test2.mp4: 384x640 (no detections), 15.8ms\n",
            "video 1/1 (frame 14209/19159) /content/drive/MyDrive/punches/yolov10/test2.mp4: 384x640 (no detections), 17.5ms\n",
            "video 1/1 (frame 14210/19159) /content/drive/MyDrive/punches/yolov10/test2.mp4: 384x640 (no detections), 15.2ms\n",
            "video 1/1 (frame 14211/19159) /content/drive/MyDrive/punches/yolov10/test2.mp4: 384x640 (no detections), 16.7ms\n",
            "video 1/1 (frame 14212/19159) /content/drive/MyDrive/punches/yolov10/test2.mp4: 384x640 (no detections), 16.3ms\n",
            "video 1/1 (frame 14213/19159) /content/drive/MyDrive/punches/yolov10/test2.mp4: 384x640 (no detections), 18.2ms\n",
            "video 1/1 (frame 14214/19159) /content/drive/MyDrive/punches/yolov10/test2.mp4: 384x640 (no detections), 16.9ms\n",
            "video 1/1 (frame 14215/19159) /content/drive/MyDrive/punches/yolov10/test2.mp4: 384x640 (no detections), 15.8ms\n",
            "video 1/1 (frame 14216/19159) /content/drive/MyDrive/punches/yolov10/test2.mp4: 384x640 (no detections), 15.8ms\n",
            "video 1/1 (frame 14217/19159) /content/drive/MyDrive/punches/yolov10/test2.mp4: 384x640 (no detections), 18.2ms\n",
            "video 1/1 (frame 14218/19159) /content/drive/MyDrive/punches/yolov10/test2.mp4: 384x640 1 jab, 19.4ms\n",
            "video 1/1 (frame 14219/19159) /content/drive/MyDrive/punches/yolov10/test2.mp4: 384x640 1 jab, 19.2ms\n",
            "video 1/1 (frame 14220/19159) /content/drive/MyDrive/punches/yolov10/test2.mp4: 384x640 1 jab, 18.9ms\n",
            "video 1/1 (frame 14221/19159) /content/drive/MyDrive/punches/yolov10/test2.mp4: 384x640 1 jab, 18.9ms\n",
            "video 1/1 (frame 14222/19159) /content/drive/MyDrive/punches/yolov10/test2.mp4: 384x640 1 jab, 19.2ms\n",
            "video 1/1 (frame 14223/19159) /content/drive/MyDrive/punches/yolov10/test2.mp4: 384x640 1 jab, 18.6ms\n",
            "video 1/1 (frame 14224/19159) /content/drive/MyDrive/punches/yolov10/test2.mp4: 384x640 (no detections), 23.9ms\n",
            "video 1/1 (frame 14225/19159) /content/drive/MyDrive/punches/yolov10/test2.mp4: 384x640 (no detections), 19.0ms\n",
            "video 1/1 (frame 14226/19159) /content/drive/MyDrive/punches/yolov10/test2.mp4: 384x640 (no detections), 18.7ms\n",
            "video 1/1 (frame 14227/19159) /content/drive/MyDrive/punches/yolov10/test2.mp4: 384x640 (no detections), 23.5ms\n",
            "video 1/1 (frame 14228/19159) /content/drive/MyDrive/punches/yolov10/test2.mp4: 384x640 (no detections), 24.3ms\n",
            "video 1/1 (frame 14229/19159) /content/drive/MyDrive/punches/yolov10/test2.mp4: 384x640 (no detections), 20.6ms\n",
            "video 1/1 (frame 14230/19159) /content/drive/MyDrive/punches/yolov10/test2.mp4: 384x640 (no detections), 19.9ms\n",
            "video 1/1 (frame 14231/19159) /content/drive/MyDrive/punches/yolov10/test2.mp4: 384x640 (no detections), 20.3ms\n",
            "video 1/1 (frame 14232/19159) /content/drive/MyDrive/punches/yolov10/test2.mp4: 384x640 (no detections), 11.5ms\n",
            "video 1/1 (frame 14233/19159) /content/drive/MyDrive/punches/yolov10/test2.mp4: 384x640 (no detections), 10.2ms\n",
            "video 1/1 (frame 14234/19159) /content/drive/MyDrive/punches/yolov10/test2.mp4: 384x640 (no detections), 10.7ms\n",
            "video 1/1 (frame 14235/19159) /content/drive/MyDrive/punches/yolov10/test2.mp4: 384x640 (no detections), 13.6ms\n",
            "video 1/1 (frame 14236/19159) /content/drive/MyDrive/punches/yolov10/test2.mp4: 384x640 (no detections), 12.1ms\n",
            "video 1/1 (frame 14237/19159) /content/drive/MyDrive/punches/yolov10/test2.mp4: 384x640 1 jab, 11.4ms\n",
            "video 1/1 (frame 14238/19159) /content/drive/MyDrive/punches/yolov10/test2.mp4: 384x640 (no detections), 10.9ms\n",
            "video 1/1 (frame 14239/19159) /content/drive/MyDrive/punches/yolov10/test2.mp4: 384x640 (no detections), 17.4ms\n",
            "video 1/1 (frame 14240/19159) /content/drive/MyDrive/punches/yolov10/test2.mp4: 384x640 (no detections), 11.4ms\n",
            "video 1/1 (frame 14241/19159) /content/drive/MyDrive/punches/yolov10/test2.mp4: 384x640 (no detections), 10.9ms\n",
            "video 1/1 (frame 14242/19159) /content/drive/MyDrive/punches/yolov10/test2.mp4: 384x640 (no detections), 10.9ms\n",
            "video 1/1 (frame 14243/19159) /content/drive/MyDrive/punches/yolov10/test2.mp4: 384x640 (no detections), 10.4ms\n",
            "video 1/1 (frame 14244/19159) /content/drive/MyDrive/punches/yolov10/test2.mp4: 384x640 (no detections), 16.6ms\n",
            "video 1/1 (frame 14245/19159) /content/drive/MyDrive/punches/yolov10/test2.mp4: 384x640 (no detections), 10.2ms\n",
            "video 1/1 (frame 14246/19159) /content/drive/MyDrive/punches/yolov10/test2.mp4: 384x640 (no detections), 11.2ms\n",
            "video 1/1 (frame 14247/19159) /content/drive/MyDrive/punches/yolov10/test2.mp4: 384x640 (no detections), 12.7ms\n",
            "video 1/1 (frame 14248/19159) /content/drive/MyDrive/punches/yolov10/test2.mp4: 384x640 (no detections), 11.5ms\n",
            "video 1/1 (frame 14249/19159) /content/drive/MyDrive/punches/yolov10/test2.mp4: 384x640 (no detections), 10.3ms\n",
            "video 1/1 (frame 14250/19159) /content/drive/MyDrive/punches/yolov10/test2.mp4: 384x640 (no detections), 20.5ms\n",
            "video 1/1 (frame 14251/19159) /content/drive/MyDrive/punches/yolov10/test2.mp4: 384x640 (no detections), 15.0ms\n",
            "video 1/1 (frame 14252/19159) /content/drive/MyDrive/punches/yolov10/test2.mp4: 384x640 (no detections), 10.8ms\n",
            "video 1/1 (frame 14253/19159) /content/drive/MyDrive/punches/yolov10/test2.mp4: 384x640 (no detections), 10.2ms\n",
            "video 1/1 (frame 14254/19159) /content/drive/MyDrive/punches/yolov10/test2.mp4: 384x640 (no detections), 10.1ms\n",
            "video 1/1 (frame 14255/19159) /content/drive/MyDrive/punches/yolov10/test2.mp4: 384x640 (no detections), 11.6ms\n",
            "video 1/1 (frame 14256/19159) /content/drive/MyDrive/punches/yolov10/test2.mp4: 384x640 1 jab, 11.0ms\n",
            "video 1/1 (frame 14257/19159) /content/drive/MyDrive/punches/yolov10/test2.mp4: 384x640 1 jab, 10.0ms\n",
            "video 1/1 (frame 14258/19159) /content/drive/MyDrive/punches/yolov10/test2.mp4: 384x640 1 jab, 10.0ms\n",
            "video 1/1 (frame 14259/19159) /content/drive/MyDrive/punches/yolov10/test2.mp4: 384x640 1 jab, 10.0ms\n",
            "video 1/1 (frame 14260/19159) /content/drive/MyDrive/punches/yolov10/test2.mp4: 384x640 1 jab, 10.7ms\n",
            "video 1/1 (frame 14261/19159) /content/drive/MyDrive/punches/yolov10/test2.mp4: 384x640 1 jab, 10.6ms\n",
            "video 1/1 (frame 14262/19159) /content/drive/MyDrive/punches/yolov10/test2.mp4: 384x640 1 jab, 10.4ms\n",
            "video 1/1 (frame 14263/19159) /content/drive/MyDrive/punches/yolov10/test2.mp4: 384x640 1 jab, 9.9ms\n",
            "video 1/1 (frame 14264/19159) /content/drive/MyDrive/punches/yolov10/test2.mp4: 384x640 1 jab, 10.2ms\n",
            "video 1/1 (frame 14265/19159) /content/drive/MyDrive/punches/yolov10/test2.mp4: 384x640 (no detections), 10.2ms\n",
            "video 1/1 (frame 14266/19159) /content/drive/MyDrive/punches/yolov10/test2.mp4: 384x640 (no detections), 10.3ms\n",
            "video 1/1 (frame 14267/19159) /content/drive/MyDrive/punches/yolov10/test2.mp4: 384x640 (no detections), 16.0ms\n",
            "video 1/1 (frame 14268/19159) /content/drive/MyDrive/punches/yolov10/test2.mp4: 384x640 (no detections), 10.7ms\n",
            "video 1/1 (frame 14269/19159) /content/drive/MyDrive/punches/yolov10/test2.mp4: 384x640 (no detections), 12.8ms\n",
            "video 1/1 (frame 14270/19159) /content/drive/MyDrive/punches/yolov10/test2.mp4: 384x640 (no detections), 17.1ms\n",
            "video 1/1 (frame 14271/19159) /content/drive/MyDrive/punches/yolov10/test2.mp4: 384x640 (no detections), 10.9ms\n",
            "video 1/1 (frame 14272/19159) /content/drive/MyDrive/punches/yolov10/test2.mp4: 384x640 (no detections), 11.1ms\n",
            "video 1/1 (frame 14273/19159) /content/drive/MyDrive/punches/yolov10/test2.mp4: 384x640 (no detections), 10.4ms\n",
            "video 1/1 (frame 14274/19159) /content/drive/MyDrive/punches/yolov10/test2.mp4: 384x640 (no detections), 13.7ms\n",
            "video 1/1 (frame 14275/19159) /content/drive/MyDrive/punches/yolov10/test2.mp4: 384x640 (no detections), 10.4ms\n",
            "video 1/1 (frame 14276/19159) /content/drive/MyDrive/punches/yolov10/test2.mp4: 384x640 1 jab, 10.2ms\n",
            "video 1/1 (frame 14277/19159) /content/drive/MyDrive/punches/yolov10/test2.mp4: 384x640 1 jab, 11.4ms\n",
            "video 1/1 (frame 14278/19159) /content/drive/MyDrive/punches/yolov10/test2.mp4: 384x640 1 jab, 10.8ms\n",
            "video 1/1 (frame 14279/19159) /content/drive/MyDrive/punches/yolov10/test2.mp4: 384x640 1 jab, 10.4ms\n",
            "video 1/1 (frame 14280/19159) /content/drive/MyDrive/punches/yolov10/test2.mp4: 384x640 (no detections), 12.2ms\n",
            "video 1/1 (frame 14281/19159) /content/drive/MyDrive/punches/yolov10/test2.mp4: 384x640 (no detections), 17.4ms\n",
            "video 1/1 (frame 14282/19159) /content/drive/MyDrive/punches/yolov10/test2.mp4: 384x640 (no detections), 11.1ms\n",
            "video 1/1 (frame 14283/19159) /content/drive/MyDrive/punches/yolov10/test2.mp4: 384x640 (no detections), 14.4ms\n",
            "video 1/1 (frame 14284/19159) /content/drive/MyDrive/punches/yolov10/test2.mp4: 384x640 (no detections), 10.3ms\n",
            "video 1/1 (frame 14285/19159) /content/drive/MyDrive/punches/yolov10/test2.mp4: 384x640 (no detections), 10.8ms\n",
            "video 1/1 (frame 14286/19159) /content/drive/MyDrive/punches/yolov10/test2.mp4: 384x640 (no detections), 10.0ms\n",
            "video 1/1 (frame 14287/19159) /content/drive/MyDrive/punches/yolov10/test2.mp4: 384x640 (no detections), 10.8ms\n",
            "video 1/1 (frame 14288/19159) /content/drive/MyDrive/punches/yolov10/test2.mp4: 384x640 (no detections), 11.6ms\n",
            "video 1/1 (frame 14289/19159) /content/drive/MyDrive/punches/yolov10/test2.mp4: 384x640 (no detections), 10.1ms\n",
            "video 1/1 (frame 14290/19159) /content/drive/MyDrive/punches/yolov10/test2.mp4: 384x640 (no detections), 10.6ms\n",
            "video 1/1 (frame 14291/19159) /content/drive/MyDrive/punches/yolov10/test2.mp4: 384x640 (no detections), 10.1ms\n",
            "video 1/1 (frame 14292/19159) /content/drive/MyDrive/punches/yolov10/test2.mp4: 384x640 (no detections), 9.9ms\n",
            "video 1/1 (frame 14293/19159) /content/drive/MyDrive/punches/yolov10/test2.mp4: 384x640 (no detections), 10.1ms\n",
            "video 1/1 (frame 14294/19159) /content/drive/MyDrive/punches/yolov10/test2.mp4: 384x640 1 jab, 10.5ms\n",
            "video 1/1 (frame 14295/19159) /content/drive/MyDrive/punches/yolov10/test2.mp4: 384x640 (no detections), 10.5ms\n",
            "video 1/1 (frame 14296/19159) /content/drive/MyDrive/punches/yolov10/test2.mp4: 384x640 1 jab, 10.2ms\n",
            "video 1/1 (frame 14297/19159) /content/drive/MyDrive/punches/yolov10/test2.mp4: 384x640 1 jab, 10.1ms\n",
            "video 1/1 (frame 14298/19159) /content/drive/MyDrive/punches/yolov10/test2.mp4: 384x640 1 jab, 18.3ms\n",
            "video 1/1 (frame 14299/19159) /content/drive/MyDrive/punches/yolov10/test2.mp4: 384x640 1 jab, 14.4ms\n",
            "video 1/1 (frame 14300/19159) /content/drive/MyDrive/punches/yolov10/test2.mp4: 384x640 1 jab, 15.8ms\n",
            "video 1/1 (frame 14301/19159) /content/drive/MyDrive/punches/yolov10/test2.mp4: 384x640 1 jab, 10.3ms\n",
            "video 1/1 (frame 14302/19159) /content/drive/MyDrive/punches/yolov10/test2.mp4: 384x640 1 jab, 11.4ms\n",
            "video 1/1 (frame 14303/19159) /content/drive/MyDrive/punches/yolov10/test2.mp4: 384x640 1 jab, 15.2ms\n",
            "video 1/1 (frame 14304/19159) /content/drive/MyDrive/punches/yolov10/test2.mp4: 384x640 2 jabs, 15.9ms\n",
            "video 1/1 (frame 14305/19159) /content/drive/MyDrive/punches/yolov10/test2.mp4: 384x640 (no detections), 12.7ms\n",
            "video 1/1 (frame 14306/19159) /content/drive/MyDrive/punches/yolov10/test2.mp4: 384x640 (no detections), 10.5ms\n",
            "video 1/1 (frame 14307/19159) /content/drive/MyDrive/punches/yolov10/test2.mp4: 384x640 (no detections), 10.3ms\n",
            "video 1/1 (frame 14308/19159) /content/drive/MyDrive/punches/yolov10/test2.mp4: 384x640 (no detections), 10.6ms\n",
            "video 1/1 (frame 14309/19159) /content/drive/MyDrive/punches/yolov10/test2.mp4: 384x640 (no detections), 10.7ms\n",
            "video 1/1 (frame 14310/19159) /content/drive/MyDrive/punches/yolov10/test2.mp4: 384x640 1 jab, 11.6ms\n",
            "video 1/1 (frame 14311/19159) /content/drive/MyDrive/punches/yolov10/test2.mp4: 384x640 1 jab, 10.9ms\n",
            "video 1/1 (frame 14312/19159) /content/drive/MyDrive/punches/yolov10/test2.mp4: 384x640 1 jab, 10.3ms\n",
            "video 1/1 (frame 14313/19159) /content/drive/MyDrive/punches/yolov10/test2.mp4: 384x640 1 jab, 10.6ms\n",
            "video 1/1 (frame 14314/19159) /content/drive/MyDrive/punches/yolov10/test2.mp4: 384x640 (no detections), 10.8ms\n",
            "video 1/1 (frame 14315/19159) /content/drive/MyDrive/punches/yolov10/test2.mp4: 384x640 1 jab, 14.1ms\n",
            "video 1/1 (frame 14316/19159) /content/drive/MyDrive/punches/yolov10/test2.mp4: 384x640 1 jab, 11.2ms\n",
            "video 1/1 (frame 14317/19159) /content/drive/MyDrive/punches/yolov10/test2.mp4: 384x640 1 jab, 10.5ms\n",
            "video 1/1 (frame 14318/19159) /content/drive/MyDrive/punches/yolov10/test2.mp4: 384x640 1 jab, 10.3ms\n",
            "video 1/1 (frame 14319/19159) /content/drive/MyDrive/punches/yolov10/test2.mp4: 384x640 1 jab, 10.1ms\n",
            "video 1/1 (frame 14320/19159) /content/drive/MyDrive/punches/yolov10/test2.mp4: 384x640 1 jab, 10.6ms\n",
            "video 1/1 (frame 14321/19159) /content/drive/MyDrive/punches/yolov10/test2.mp4: 384x640 2 jabs, 10.5ms\n",
            "video 1/1 (frame 14322/19159) /content/drive/MyDrive/punches/yolov10/test2.mp4: 384x640 1 jab, 12.8ms\n",
            "video 1/1 (frame 14323/19159) /content/drive/MyDrive/punches/yolov10/test2.mp4: 384x640 (no detections), 12.0ms\n",
            "video 1/1 (frame 14324/19159) /content/drive/MyDrive/punches/yolov10/test2.mp4: 384x640 (no detections), 11.0ms\n",
            "video 1/1 (frame 14325/19159) /content/drive/MyDrive/punches/yolov10/test2.mp4: 384x640 (no detections), 14.4ms\n",
            "video 1/1 (frame 14326/19159) /content/drive/MyDrive/punches/yolov10/test2.mp4: 384x640 (no detections), 10.7ms\n",
            "video 1/1 (frame 14327/19159) /content/drive/MyDrive/punches/yolov10/test2.mp4: 384x640 1 jab, 10.6ms\n",
            "video 1/1 (frame 14328/19159) /content/drive/MyDrive/punches/yolov10/test2.mp4: 384x640 1 jab, 10.2ms\n",
            "video 1/1 (frame 14329/19159) /content/drive/MyDrive/punches/yolov10/test2.mp4: 384x640 1 jab, 10.6ms\n",
            "video 1/1 (frame 14330/19159) /content/drive/MyDrive/punches/yolov10/test2.mp4: 384x640 1 jab, 12.0ms\n",
            "video 1/1 (frame 14331/19159) /content/drive/MyDrive/punches/yolov10/test2.mp4: 384x640 1 jab, 12.1ms\n",
            "video 1/1 (frame 14332/19159) /content/drive/MyDrive/punches/yolov10/test2.mp4: 384x640 1 jab, 10.5ms\n",
            "video 1/1 (frame 14333/19159) /content/drive/MyDrive/punches/yolov10/test2.mp4: 384x640 1 jab, 9.9ms\n",
            "video 1/1 (frame 14334/19159) /content/drive/MyDrive/punches/yolov10/test2.mp4: 384x640 1 jab, 9.9ms\n",
            "video 1/1 (frame 14335/19159) /content/drive/MyDrive/punches/yolov10/test2.mp4: 384x640 1 jab, 17.4ms\n",
            "video 1/1 (frame 14336/19159) /content/drive/MyDrive/punches/yolov10/test2.mp4: 384x640 1 jab, 10.5ms\n",
            "video 1/1 (frame 14337/19159) /content/drive/MyDrive/punches/yolov10/test2.mp4: 384x640 1 jab, 10.2ms\n",
            "video 1/1 (frame 14338/19159) /content/drive/MyDrive/punches/yolov10/test2.mp4: 384x640 1 jab, 10.0ms\n",
            "video 1/1 (frame 14339/19159) /content/drive/MyDrive/punches/yolov10/test2.mp4: 384x640 (no detections), 10.0ms\n",
            "video 1/1 (frame 14340/19159) /content/drive/MyDrive/punches/yolov10/test2.mp4: 384x640 1 jab, 10.2ms\n",
            "video 1/1 (frame 14341/19159) /content/drive/MyDrive/punches/yolov10/test2.mp4: 384x640 1 jab, 10.8ms\n",
            "video 1/1 (frame 14342/19159) /content/drive/MyDrive/punches/yolov10/test2.mp4: 384x640 1 jab, 13.7ms\n",
            "video 1/1 (frame 14343/19159) /content/drive/MyDrive/punches/yolov10/test2.mp4: 384x640 1 jab, 10.5ms\n",
            "video 1/1 (frame 14344/19159) /content/drive/MyDrive/punches/yolov10/test2.mp4: 384x640 1 jab, 20.9ms\n",
            "video 1/1 (frame 14345/19159) /content/drive/MyDrive/punches/yolov10/test2.mp4: 384x640 1 jab, 20.9ms\n",
            "video 1/1 (frame 14346/19159) /content/drive/MyDrive/punches/yolov10/test2.mp4: 384x640 1 jab, 10.3ms\n",
            "video 1/1 (frame 14347/19159) /content/drive/MyDrive/punches/yolov10/test2.mp4: 384x640 1 jab, 10.0ms\n",
            "video 1/1 (frame 14348/19159) /content/drive/MyDrive/punches/yolov10/test2.mp4: 384x640 (no detections), 10.3ms\n",
            "video 1/1 (frame 14349/19159) /content/drive/MyDrive/punches/yolov10/test2.mp4: 384x640 (no detections), 12.0ms\n",
            "video 1/1 (frame 14350/19159) /content/drive/MyDrive/punches/yolov10/test2.mp4: 384x640 (no detections), 10.5ms\n",
            "video 1/1 (frame 14351/19159) /content/drive/MyDrive/punches/yolov10/test2.mp4: 384x640 (no detections), 11.0ms\n",
            "video 1/1 (frame 14352/19159) /content/drive/MyDrive/punches/yolov10/test2.mp4: 384x640 (no detections), 12.5ms\n",
            "video 1/1 (frame 14353/19159) /content/drive/MyDrive/punches/yolov10/test2.mp4: 384x640 (no detections), 10.4ms\n",
            "video 1/1 (frame 14354/19159) /content/drive/MyDrive/punches/yolov10/test2.mp4: 384x640 (no detections), 13.0ms\n",
            "video 1/1 (frame 14355/19159) /content/drive/MyDrive/punches/yolov10/test2.mp4: 384x640 (no detections), 15.2ms\n",
            "video 1/1 (frame 14356/19159) /content/drive/MyDrive/punches/yolov10/test2.mp4: 384x640 1 jab, 19.2ms\n",
            "video 1/1 (frame 14357/19159) /content/drive/MyDrive/punches/yolov10/test2.mp4: 384x640 1 jab, 10.6ms\n",
            "video 1/1 (frame 14358/19159) /content/drive/MyDrive/punches/yolov10/test2.mp4: 384x640 (no detections), 10.4ms\n",
            "video 1/1 (frame 14359/19159) /content/drive/MyDrive/punches/yolov10/test2.mp4: 384x640 1 jab, 9.7ms\n",
            "video 1/1 (frame 14360/19159) /content/drive/MyDrive/punches/yolov10/test2.mp4: 384x640 1 jab, 10.3ms\n",
            "video 1/1 (frame 14361/19159) /content/drive/MyDrive/punches/yolov10/test2.mp4: 384x640 2 jabs, 10.6ms\n",
            "video 1/1 (frame 14362/19159) /content/drive/MyDrive/punches/yolov10/test2.mp4: 384x640 (no detections), 11.3ms\n",
            "video 1/1 (frame 14363/19159) /content/drive/MyDrive/punches/yolov10/test2.mp4: 384x640 1 jab, 10.2ms\n",
            "video 1/1 (frame 14364/19159) /content/drive/MyDrive/punches/yolov10/test2.mp4: 384x640 1 jab, 10.5ms\n",
            "video 1/1 (frame 14365/19159) /content/drive/MyDrive/punches/yolov10/test2.mp4: 384x640 1 jab, 10.2ms\n",
            "video 1/1 (frame 14366/19159) /content/drive/MyDrive/punches/yolov10/test2.mp4: 384x640 1 jab, 10.7ms\n",
            "video 1/1 (frame 14367/19159) /content/drive/MyDrive/punches/yolov10/test2.mp4: 384x640 (no detections), 12.6ms\n",
            "video 1/1 (frame 14368/19159) /content/drive/MyDrive/punches/yolov10/test2.mp4: 384x640 (no detections), 10.7ms\n",
            "video 1/1 (frame 14369/19159) /content/drive/MyDrive/punches/yolov10/test2.mp4: 384x640 (no detections), 10.6ms\n",
            "video 1/1 (frame 14370/19159) /content/drive/MyDrive/punches/yolov10/test2.mp4: 384x640 (no detections), 10.5ms\n",
            "video 1/1 (frame 14371/19159) /content/drive/MyDrive/punches/yolov10/test2.mp4: 384x640 1 jab, 10.5ms\n",
            "video 1/1 (frame 14372/19159) /content/drive/MyDrive/punches/yolov10/test2.mp4: 384x640 1 jab, 14.2ms\n",
            "video 1/1 (frame 14373/19159) /content/drive/MyDrive/punches/yolov10/test2.mp4: 384x640 1 jab, 30.1ms\n",
            "video 1/1 (frame 14374/19159) /content/drive/MyDrive/punches/yolov10/test2.mp4: 384x640 (no detections), 11.4ms\n",
            "video 1/1 (frame 14375/19159) /content/drive/MyDrive/punches/yolov10/test2.mp4: 384x640 1 jab, 11.4ms\n",
            "video 1/1 (frame 14376/19159) /content/drive/MyDrive/punches/yolov10/test2.mp4: 384x640 1 jab, 12.2ms\n",
            "video 1/1 (frame 14377/19159) /content/drive/MyDrive/punches/yolov10/test2.mp4: 384x640 1 jab, 10.7ms\n",
            "video 1/1 (frame 14378/19159) /content/drive/MyDrive/punches/yolov10/test2.mp4: 384x640 1 jab, 10.9ms\n",
            "video 1/1 (frame 14379/19159) /content/drive/MyDrive/punches/yolov10/test2.mp4: 384x640 1 jab, 10.8ms\n",
            "video 1/1 (frame 14380/19159) /content/drive/MyDrive/punches/yolov10/test2.mp4: 384x640 1 jab, 10.4ms\n",
            "video 1/1 (frame 14381/19159) /content/drive/MyDrive/punches/yolov10/test2.mp4: 384x640 (no detections), 10.5ms\n",
            "video 1/1 (frame 14382/19159) /content/drive/MyDrive/punches/yolov10/test2.mp4: 384x640 1 jab, 11.1ms\n",
            "video 1/1 (frame 14383/19159) /content/drive/MyDrive/punches/yolov10/test2.mp4: 384x640 (no detections), 10.5ms\n",
            "video 1/1 (frame 14384/19159) /content/drive/MyDrive/punches/yolov10/test2.mp4: 384x640 1 jab, 10.7ms\n",
            "video 1/1 (frame 14385/19159) /content/drive/MyDrive/punches/yolov10/test2.mp4: 384x640 1 jab, 10.2ms\n",
            "video 1/1 (frame 14386/19159) /content/drive/MyDrive/punches/yolov10/test2.mp4: 384x640 1 jab, 10.4ms\n",
            "video 1/1 (frame 14387/19159) /content/drive/MyDrive/punches/yolov10/test2.mp4: 384x640 1 jab, 22.8ms\n",
            "video 1/1 (frame 14388/19159) /content/drive/MyDrive/punches/yolov10/test2.mp4: 384x640 1 jab, 14.1ms\n",
            "video 1/1 (frame 14389/19159) /content/drive/MyDrive/punches/yolov10/test2.mp4: 384x640 (no detections), 11.0ms\n",
            "video 1/1 (frame 14390/19159) /content/drive/MyDrive/punches/yolov10/test2.mp4: 384x640 (no detections), 10.7ms\n",
            "video 1/1 (frame 14391/19159) /content/drive/MyDrive/punches/yolov10/test2.mp4: 384x640 (no detections), 10.7ms\n",
            "video 1/1 (frame 14392/19159) /content/drive/MyDrive/punches/yolov10/test2.mp4: 384x640 (no detections), 11.8ms\n",
            "video 1/1 (frame 14393/19159) /content/drive/MyDrive/punches/yolov10/test2.mp4: 384x640 (no detections), 10.2ms\n",
            "video 1/1 (frame 14394/19159) /content/drive/MyDrive/punches/yolov10/test2.mp4: 384x640 (no detections), 10.4ms\n",
            "video 1/1 (frame 14395/19159) /content/drive/MyDrive/punches/yolov10/test2.mp4: 384x640 (no detections), 10.7ms\n",
            "video 1/1 (frame 14396/19159) /content/drive/MyDrive/punches/yolov10/test2.mp4: 384x640 1 jab, 11.9ms\n",
            "video 1/1 (frame 14397/19159) /content/drive/MyDrive/punches/yolov10/test2.mp4: 384x640 (no detections), 11.1ms\n",
            "video 1/1 (frame 14398/19159) /content/drive/MyDrive/punches/yolov10/test2.mp4: 384x640 1 jab, 10.6ms\n",
            "video 1/1 (frame 14399/19159) /content/drive/MyDrive/punches/yolov10/test2.mp4: 384x640 1 jab, 10.7ms\n",
            "video 1/1 (frame 14400/19159) /content/drive/MyDrive/punches/yolov10/test2.mp4: 384x640 (no detections), 10.6ms\n",
            "video 1/1 (frame 14401/19159) /content/drive/MyDrive/punches/yolov10/test2.mp4: 384x640 1 jab, 10.4ms\n",
            "video 1/1 (frame 14402/19159) /content/drive/MyDrive/punches/yolov10/test2.mp4: 384x640 1 jab, 10.4ms\n",
            "video 1/1 (frame 14403/19159) /content/drive/MyDrive/punches/yolov10/test2.mp4: 384x640 1 jab, 19.7ms\n",
            "video 1/1 (frame 14404/19159) /content/drive/MyDrive/punches/yolov10/test2.mp4: 384x640 1 jab, 12.3ms\n",
            "video 1/1 (frame 14405/19159) /content/drive/MyDrive/punches/yolov10/test2.mp4: 384x640 (no detections), 11.1ms\n",
            "video 1/1 (frame 14406/19159) /content/drive/MyDrive/punches/yolov10/test2.mp4: 384x640 1 jab, 16.0ms\n",
            "video 1/1 (frame 14407/19159) /content/drive/MyDrive/punches/yolov10/test2.mp4: 384x640 1 jab, 12.0ms\n",
            "video 1/1 (frame 14408/19159) /content/drive/MyDrive/punches/yolov10/test2.mp4: 384x640 1 jab, 11.6ms\n",
            "video 1/1 (frame 14409/19159) /content/drive/MyDrive/punches/yolov10/test2.mp4: 384x640 1 jab, 11.1ms\n",
            "video 1/1 (frame 14410/19159) /content/drive/MyDrive/punches/yolov10/test2.mp4: 384x640 1 jab, 10.9ms\n",
            "video 1/1 (frame 14411/19159) /content/drive/MyDrive/punches/yolov10/test2.mp4: 384x640 1 jab, 10.3ms\n",
            "video 1/1 (frame 14412/19159) /content/drive/MyDrive/punches/yolov10/test2.mp4: 384x640 1 jab, 10.6ms\n",
            "video 1/1 (frame 14413/19159) /content/drive/MyDrive/punches/yolov10/test2.mp4: 384x640 1 jab, 10.4ms\n",
            "video 1/1 (frame 14414/19159) /content/drive/MyDrive/punches/yolov10/test2.mp4: 384x640 (no detections), 16.7ms\n",
            "video 1/1 (frame 14415/19159) /content/drive/MyDrive/punches/yolov10/test2.mp4: 384x640 (no detections), 12.9ms\n",
            "video 1/1 (frame 14416/19159) /content/drive/MyDrive/punches/yolov10/test2.mp4: 384x640 (no detections), 10.0ms\n",
            "video 1/1 (frame 14417/19159) /content/drive/MyDrive/punches/yolov10/test2.mp4: 384x640 (no detections), 20.3ms\n",
            "video 1/1 (frame 14418/19159) /content/drive/MyDrive/punches/yolov10/test2.mp4: 384x640 (no detections), 13.6ms\n",
            "video 1/1 (frame 14419/19159) /content/drive/MyDrive/punches/yolov10/test2.mp4: 384x640 1 jab, 10.1ms\n",
            "video 1/1 (frame 14420/19159) /content/drive/MyDrive/punches/yolov10/test2.mp4: 384x640 (no detections), 10.7ms\n",
            "video 1/1 (frame 14421/19159) /content/drive/MyDrive/punches/yolov10/test2.mp4: 384x640 1 jab, 10.8ms\n",
            "video 1/1 (frame 14422/19159) /content/drive/MyDrive/punches/yolov10/test2.mp4: 384x640 (no detections), 11.6ms\n",
            "video 1/1 (frame 14423/19159) /content/drive/MyDrive/punches/yolov10/test2.mp4: 384x640 1 jab, 13.1ms\n",
            "video 1/1 (frame 14424/19159) /content/drive/MyDrive/punches/yolov10/test2.mp4: 384x640 (no detections), 11.0ms\n",
            "video 1/1 (frame 14425/19159) /content/drive/MyDrive/punches/yolov10/test2.mp4: 384x640 (no detections), 10.4ms\n",
            "video 1/1 (frame 14426/19159) /content/drive/MyDrive/punches/yolov10/test2.mp4: 384x640 (no detections), 11.1ms\n",
            "video 1/1 (frame 14427/19159) /content/drive/MyDrive/punches/yolov10/test2.mp4: 384x640 1 jab, 11.1ms\n",
            "video 1/1 (frame 14428/19159) /content/drive/MyDrive/punches/yolov10/test2.mp4: 384x640 1 jab, 10.6ms\n",
            "video 1/1 (frame 14429/19159) /content/drive/MyDrive/punches/yolov10/test2.mp4: 384x640 1 jab, 10.4ms\n",
            "video 1/1 (frame 14430/19159) /content/drive/MyDrive/punches/yolov10/test2.mp4: 384x640 1 jab, 10.3ms\n",
            "video 1/1 (frame 14431/19159) /content/drive/MyDrive/punches/yolov10/test2.mp4: 384x640 (no detections), 10.6ms\n",
            "video 1/1 (frame 14432/19159) /content/drive/MyDrive/punches/yolov10/test2.mp4: 384x640 (no detections), 10.6ms\n",
            "video 1/1 (frame 14433/19159) /content/drive/MyDrive/punches/yolov10/test2.mp4: 384x640 (no detections), 17.0ms\n",
            "video 1/1 (frame 14434/19159) /content/drive/MyDrive/punches/yolov10/test2.mp4: 384x640 (no detections), 10.9ms\n",
            "video 1/1 (frame 14435/19159) /content/drive/MyDrive/punches/yolov10/test2.mp4: 384x640 (no detections), 10.8ms\n",
            "video 1/1 (frame 14436/19159) /content/drive/MyDrive/punches/yolov10/test2.mp4: 384x640 (no detections), 10.6ms\n",
            "video 1/1 (frame 14437/19159) /content/drive/MyDrive/punches/yolov10/test2.mp4: 384x640 (no detections), 10.8ms\n",
            "video 1/1 (frame 14438/19159) /content/drive/MyDrive/punches/yolov10/test2.mp4: 384x640 (no detections), 10.9ms\n",
            "video 1/1 (frame 14439/19159) /content/drive/MyDrive/punches/yolov10/test2.mp4: 384x640 1 jab, 11.1ms\n",
            "video 1/1 (frame 14440/19159) /content/drive/MyDrive/punches/yolov10/test2.mp4: 384x640 1 jab, 11.9ms\n",
            "video 1/1 (frame 14441/19159) /content/drive/MyDrive/punches/yolov10/test2.mp4: 384x640 (no detections), 18.1ms\n",
            "video 1/1 (frame 14442/19159) /content/drive/MyDrive/punches/yolov10/test2.mp4: 384x640 (no detections), 11.0ms\n",
            "video 1/1 (frame 14443/19159) /content/drive/MyDrive/punches/yolov10/test2.mp4: 384x640 1 jab, 10.6ms\n",
            "video 1/1 (frame 14444/19159) /content/drive/MyDrive/punches/yolov10/test2.mp4: 384x640 1 jab, 16.3ms\n",
            "video 1/1 (frame 14445/19159) /content/drive/MyDrive/punches/yolov10/test2.mp4: 384x640 1 jab, 10.3ms\n",
            "video 1/1 (frame 14446/19159) /content/drive/MyDrive/punches/yolov10/test2.mp4: 384x640 2 jabs, 10.9ms\n",
            "video 1/1 (frame 14447/19159) /content/drive/MyDrive/punches/yolov10/test2.mp4: 384x640 (no detections), 11.3ms\n",
            "video 1/1 (frame 14448/19159) /content/drive/MyDrive/punches/yolov10/test2.mp4: 384x640 (no detections), 11.0ms\n",
            "video 1/1 (frame 14449/19159) /content/drive/MyDrive/punches/yolov10/test2.mp4: 384x640 1 jab, 11.2ms\n",
            "video 1/1 (frame 14450/19159) /content/drive/MyDrive/punches/yolov10/test2.mp4: 384x640 1 jab, 11.3ms\n",
            "video 1/1 (frame 14451/19159) /content/drive/MyDrive/punches/yolov10/test2.mp4: 384x640 1 jab, 10.6ms\n",
            "video 1/1 (frame 14452/19159) /content/drive/MyDrive/punches/yolov10/test2.mp4: 384x640 1 jab, 11.4ms\n",
            "video 1/1 (frame 14453/19159) /content/drive/MyDrive/punches/yolov10/test2.mp4: 384x640 1 jab, 10.7ms\n",
            "video 1/1 (frame 14454/19159) /content/drive/MyDrive/punches/yolov10/test2.mp4: 384x640 1 jab, 11.8ms\n",
            "video 1/1 (frame 14455/19159) /content/drive/MyDrive/punches/yolov10/test2.mp4: 384x640 (no detections), 13.1ms\n",
            "video 1/1 (frame 14456/19159) /content/drive/MyDrive/punches/yolov10/test2.mp4: 384x640 (no detections), 10.3ms\n",
            "video 1/1 (frame 14457/19159) /content/drive/MyDrive/punches/yolov10/test2.mp4: 384x640 (no detections), 15.6ms\n",
            "video 1/1 (frame 14458/19159) /content/drive/MyDrive/punches/yolov10/test2.mp4: 384x640 (no detections), 12.1ms\n",
            "video 1/1 (frame 14459/19159) /content/drive/MyDrive/punches/yolov10/test2.mp4: 384x640 (no detections), 16.6ms\n",
            "video 1/1 (frame 14460/19159) /content/drive/MyDrive/punches/yolov10/test2.mp4: 384x640 (no detections), 11.4ms\n",
            "video 1/1 (frame 14461/19159) /content/drive/MyDrive/punches/yolov10/test2.mp4: 384x640 (no detections), 10.6ms\n",
            "video 1/1 (frame 14462/19159) /content/drive/MyDrive/punches/yolov10/test2.mp4: 384x640 (no detections), 12.1ms\n",
            "video 1/1 (frame 14463/19159) /content/drive/MyDrive/punches/yolov10/test2.mp4: 384x640 (no detections), 11.4ms\n",
            "video 1/1 (frame 14464/19159) /content/drive/MyDrive/punches/yolov10/test2.mp4: 384x640 (no detections), 11.2ms\n",
            "video 1/1 (frame 14465/19159) /content/drive/MyDrive/punches/yolov10/test2.mp4: 384x640 (no detections), 10.3ms\n",
            "video 1/1 (frame 14466/19159) /content/drive/MyDrive/punches/yolov10/test2.mp4: 384x640 (no detections), 23.3ms\n",
            "video 1/1 (frame 14467/19159) /content/drive/MyDrive/punches/yolov10/test2.mp4: 384x640 (no detections), 22.4ms\n",
            "video 1/1 (frame 14468/19159) /content/drive/MyDrive/punches/yolov10/test2.mp4: 384x640 (no detections), 32.4ms\n",
            "video 1/1 (frame 14469/19159) /content/drive/MyDrive/punches/yolov10/test2.mp4: 384x640 (no detections), 10.8ms\n",
            "video 1/1 (frame 14470/19159) /content/drive/MyDrive/punches/yolov10/test2.mp4: 384x640 (no detections), 10.7ms\n",
            "video 1/1 (frame 14471/19159) /content/drive/MyDrive/punches/yolov10/test2.mp4: 384x640 2 jabs, 10.7ms\n",
            "video 1/1 (frame 14472/19159) /content/drive/MyDrive/punches/yolov10/test2.mp4: 384x640 (no detections), 10.9ms\n",
            "video 1/1 (frame 14473/19159) /content/drive/MyDrive/punches/yolov10/test2.mp4: 384x640 1 jab, 12.6ms\n",
            "video 1/1 (frame 14474/19159) /content/drive/MyDrive/punches/yolov10/test2.mp4: 384x640 1 jab, 13.0ms\n",
            "video 1/1 (frame 14475/19159) /content/drive/MyDrive/punches/yolov10/test2.mp4: 384x640 (no detections), 10.7ms\n",
            "video 1/1 (frame 14476/19159) /content/drive/MyDrive/punches/yolov10/test2.mp4: 384x640 1 jab, 11.3ms\n",
            "video 1/1 (frame 14477/19159) /content/drive/MyDrive/punches/yolov10/test2.mp4: 384x640 (no detections), 11.6ms\n",
            "video 1/1 (frame 14478/19159) /content/drive/MyDrive/punches/yolov10/test2.mp4: 384x640 1 jab, 11.2ms\n",
            "video 1/1 (frame 14479/19159) /content/drive/MyDrive/punches/yolov10/test2.mp4: 384x640 (no detections), 10.3ms\n",
            "video 1/1 (frame 14480/19159) /content/drive/MyDrive/punches/yolov10/test2.mp4: 384x640 (no detections), 10.6ms\n",
            "video 1/1 (frame 14481/19159) /content/drive/MyDrive/punches/yolov10/test2.mp4: 384x640 (no detections), 10.7ms\n",
            "video 1/1 (frame 14482/19159) /content/drive/MyDrive/punches/yolov10/test2.mp4: 384x640 (no detections), 11.4ms\n",
            "video 1/1 (frame 14483/19159) /content/drive/MyDrive/punches/yolov10/test2.mp4: 384x640 (no detections), 10.7ms\n",
            "video 1/1 (frame 14484/19159) /content/drive/MyDrive/punches/yolov10/test2.mp4: 384x640 1 jab, 15.1ms\n",
            "video 1/1 (frame 14485/19159) /content/drive/MyDrive/punches/yolov10/test2.mp4: 384x640 (no detections), 10.7ms\n",
            "video 1/1 (frame 14486/19159) /content/drive/MyDrive/punches/yolov10/test2.mp4: 384x640 1 jab, 11.0ms\n",
            "video 1/1 (frame 14487/19159) /content/drive/MyDrive/punches/yolov10/test2.mp4: 384x640 1 jab, 11.7ms\n",
            "video 1/1 (frame 14488/19159) /content/drive/MyDrive/punches/yolov10/test2.mp4: 384x640 (no detections), 11.6ms\n",
            "video 1/1 (frame 14489/19159) /content/drive/MyDrive/punches/yolov10/test2.mp4: 384x640 (no detections), 12.2ms\n",
            "video 1/1 (frame 14490/19159) /content/drive/MyDrive/punches/yolov10/test2.mp4: 384x640 (no detections), 10.7ms\n",
            "video 1/1 (frame 14491/19159) /content/drive/MyDrive/punches/yolov10/test2.mp4: 384x640 (no detections), 10.5ms\n",
            "video 1/1 (frame 14492/19159) /content/drive/MyDrive/punches/yolov10/test2.mp4: 384x640 (no detections), 17.5ms\n",
            "video 1/1 (frame 14493/19159) /content/drive/MyDrive/punches/yolov10/test2.mp4: 384x640 (no detections), 10.8ms\n",
            "video 1/1 (frame 14494/19159) /content/drive/MyDrive/punches/yolov10/test2.mp4: 384x640 (no detections), 10.7ms\n",
            "video 1/1 (frame 14495/19159) /content/drive/MyDrive/punches/yolov10/test2.mp4: 384x640 1 jab, 18.7ms\n",
            "video 1/1 (frame 14496/19159) /content/drive/MyDrive/punches/yolov10/test2.mp4: 384x640 1 jab, 10.4ms\n",
            "video 1/1 (frame 14497/19159) /content/drive/MyDrive/punches/yolov10/test2.mp4: 384x640 1 jab, 13.0ms\n",
            "video 1/1 (frame 14498/19159) /content/drive/MyDrive/punches/yolov10/test2.mp4: 384x640 1 jab, 10.7ms\n",
            "video 1/1 (frame 14499/19159) /content/drive/MyDrive/punches/yolov10/test2.mp4: 384x640 2 jabs, 18.6ms\n",
            "video 1/1 (frame 14500/19159) /content/drive/MyDrive/punches/yolov10/test2.mp4: 384x640 2 jabs, 10.3ms\n",
            "video 1/1 (frame 14501/19159) /content/drive/MyDrive/punches/yolov10/test2.mp4: 384x640 (no detections), 10.7ms\n",
            "video 1/1 (frame 14502/19159) /content/drive/MyDrive/punches/yolov10/test2.mp4: 384x640 (no detections), 10.6ms\n",
            "video 1/1 (frame 14503/19159) /content/drive/MyDrive/punches/yolov10/test2.mp4: 384x640 1 jab, 11.1ms\n",
            "video 1/1 (frame 14504/19159) /content/drive/MyDrive/punches/yolov10/test2.mp4: 384x640 (no detections), 10.1ms\n",
            "video 1/1 (frame 14505/19159) /content/drive/MyDrive/punches/yolov10/test2.mp4: 384x640 (no detections), 13.4ms\n",
            "video 1/1 (frame 14506/19159) /content/drive/MyDrive/punches/yolov10/test2.mp4: 384x640 1 jab, 10.0ms\n",
            "video 1/1 (frame 14507/19159) /content/drive/MyDrive/punches/yolov10/test2.mp4: 384x640 1 jab, 14.4ms\n",
            "video 1/1 (frame 14508/19159) /content/drive/MyDrive/punches/yolov10/test2.mp4: 384x640 (no detections), 12.5ms\n",
            "video 1/1 (frame 14509/19159) /content/drive/MyDrive/punches/yolov10/test2.mp4: 384x640 (no detections), 10.7ms\n",
            "video 1/1 (frame 14510/19159) /content/drive/MyDrive/punches/yolov10/test2.mp4: 384x640 (no detections), 10.9ms\n",
            "video 1/1 (frame 14511/19159) /content/drive/MyDrive/punches/yolov10/test2.mp4: 384x640 (no detections), 10.8ms\n",
            "video 1/1 (frame 14512/19159) /content/drive/MyDrive/punches/yolov10/test2.mp4: 384x640 (no detections), 10.3ms\n",
            "video 1/1 (frame 14513/19159) /content/drive/MyDrive/punches/yolov10/test2.mp4: 384x640 (no detections), 10.8ms\n",
            "video 1/1 (frame 14514/19159) /content/drive/MyDrive/punches/yolov10/test2.mp4: 384x640 (no detections), 10.4ms\n",
            "video 1/1 (frame 14515/19159) /content/drive/MyDrive/punches/yolov10/test2.mp4: 384x640 1 jab, 15.4ms\n",
            "video 1/1 (frame 14516/19159) /content/drive/MyDrive/punches/yolov10/test2.mp4: 384x640 1 jab, 11.1ms\n",
            "video 1/1 (frame 14517/19159) /content/drive/MyDrive/punches/yolov10/test2.mp4: 384x640 1 jab, 11.0ms\n",
            "video 1/1 (frame 14518/19159) /content/drive/MyDrive/punches/yolov10/test2.mp4: 384x640 1 jab, 10.1ms\n",
            "video 1/1 (frame 14519/19159) /content/drive/MyDrive/punches/yolov10/test2.mp4: 384x640 (no detections), 10.3ms\n",
            "video 1/1 (frame 14520/19159) /content/drive/MyDrive/punches/yolov10/test2.mp4: 384x640 2 jabs, 10.6ms\n",
            "video 1/1 (frame 14521/19159) /content/drive/MyDrive/punches/yolov10/test2.mp4: 384x640 1 jab, 10.0ms\n",
            "video 1/1 (frame 14522/19159) /content/drive/MyDrive/punches/yolov10/test2.mp4: 384x640 1 jab, 10.1ms\n",
            "video 1/1 (frame 14523/19159) /content/drive/MyDrive/punches/yolov10/test2.mp4: 384x640 (no detections), 10.0ms\n",
            "video 1/1 (frame 14524/19159) /content/drive/MyDrive/punches/yolov10/test2.mp4: 384x640 (no detections), 10.0ms\n",
            "video 1/1 (frame 14525/19159) /content/drive/MyDrive/punches/yolov10/test2.mp4: 384x640 (no detections), 9.9ms\n",
            "video 1/1 (frame 14526/19159) /content/drive/MyDrive/punches/yolov10/test2.mp4: 384x640 (no detections), 13.0ms\n",
            "video 1/1 (frame 14527/19159) /content/drive/MyDrive/punches/yolov10/test2.mp4: 384x640 (no detections), 14.4ms\n",
            "video 1/1 (frame 14528/19159) /content/drive/MyDrive/punches/yolov10/test2.mp4: 384x640 (no detections), 10.9ms\n",
            "video 1/1 (frame 14529/19159) /content/drive/MyDrive/punches/yolov10/test2.mp4: 384x640 (no detections), 11.0ms\n",
            "video 1/1 (frame 14530/19159) /content/drive/MyDrive/punches/yolov10/test2.mp4: 384x640 (no detections), 10.8ms\n",
            "video 1/1 (frame 14531/19159) /content/drive/MyDrive/punches/yolov10/test2.mp4: 384x640 (no detections), 13.6ms\n",
            "video 1/1 (frame 14532/19159) /content/drive/MyDrive/punches/yolov10/test2.mp4: 384x640 (no detections), 10.9ms\n",
            "video 1/1 (frame 14533/19159) /content/drive/MyDrive/punches/yolov10/test2.mp4: 384x640 (no detections), 10.8ms\n",
            "video 1/1 (frame 14534/19159) /content/drive/MyDrive/punches/yolov10/test2.mp4: 384x640 (no detections), 10.9ms\n",
            "video 1/1 (frame 14535/19159) /content/drive/MyDrive/punches/yolov10/test2.mp4: 384x640 (no detections), 10.5ms\n",
            "video 1/1 (frame 14536/19159) /content/drive/MyDrive/punches/yolov10/test2.mp4: 384x640 (no detections), 10.8ms\n",
            "video 1/1 (frame 14537/19159) /content/drive/MyDrive/punches/yolov10/test2.mp4: 384x640 (no detections), 11.1ms\n",
            "video 1/1 (frame 14538/19159) /content/drive/MyDrive/punches/yolov10/test2.mp4: 384x640 (no detections), 10.2ms\n",
            "video 1/1 (frame 14539/19159) /content/drive/MyDrive/punches/yolov10/test2.mp4: 384x640 (no detections), 10.5ms\n",
            "video 1/1 (frame 14540/19159) /content/drive/MyDrive/punches/yolov10/test2.mp4: 384x640 (no detections), 10.0ms\n",
            "video 1/1 (frame 14541/19159) /content/drive/MyDrive/punches/yolov10/test2.mp4: 384x640 (no detections), 10.3ms\n",
            "video 1/1 (frame 14542/19159) /content/drive/MyDrive/punches/yolov10/test2.mp4: 384x640 (no detections), 10.2ms\n",
            "video 1/1 (frame 14543/19159) /content/drive/MyDrive/punches/yolov10/test2.mp4: 384x640 (no detections), 10.4ms\n",
            "video 1/1 (frame 14544/19159) /content/drive/MyDrive/punches/yolov10/test2.mp4: 384x640 (no detections), 10.2ms\n",
            "video 1/1 (frame 14545/19159) /content/drive/MyDrive/punches/yolov10/test2.mp4: 384x640 (no detections), 10.8ms\n",
            "video 1/1 (frame 14546/19159) /content/drive/MyDrive/punches/yolov10/test2.mp4: 384x640 (no detections), 10.4ms\n",
            "video 1/1 (frame 14547/19159) /content/drive/MyDrive/punches/yolov10/test2.mp4: 384x640 (no detections), 11.8ms\n",
            "video 1/1 (frame 14548/19159) /content/drive/MyDrive/punches/yolov10/test2.mp4: 384x640 1 jab, 20.4ms\n",
            "video 1/1 (frame 14549/19159) /content/drive/MyDrive/punches/yolov10/test2.mp4: 384x640 1 jab, 11.2ms\n",
            "video 1/1 (frame 14550/19159) /content/drive/MyDrive/punches/yolov10/test2.mp4: 384x640 1 jab, 10.5ms\n",
            "video 1/1 (frame 14551/19159) /content/drive/MyDrive/punches/yolov10/test2.mp4: 384x640 1 jab, 10.8ms\n",
            "video 1/1 (frame 14552/19159) /content/drive/MyDrive/punches/yolov10/test2.mp4: 384x640 (no detections), 10.5ms\n",
            "video 1/1 (frame 14553/19159) /content/drive/MyDrive/punches/yolov10/test2.mp4: 384x640 2 jabs, 11.2ms\n",
            "video 1/1 (frame 14554/19159) /content/drive/MyDrive/punches/yolov10/test2.mp4: 384x640 1 jab, 13.9ms\n",
            "video 1/1 (frame 14555/19159) /content/drive/MyDrive/punches/yolov10/test2.mp4: 384x640 1 jab, 10.2ms\n",
            "video 1/1 (frame 14556/19159) /content/drive/MyDrive/punches/yolov10/test2.mp4: 384x640 1 jab, 11.0ms\n",
            "video 1/1 (frame 14557/19159) /content/drive/MyDrive/punches/yolov10/test2.mp4: 384x640 1 jab, 10.5ms\n",
            "video 1/1 (frame 14558/19159) /content/drive/MyDrive/punches/yolov10/test2.mp4: 384x640 (no detections), 10.7ms\n",
            "video 1/1 (frame 14559/19159) /content/drive/MyDrive/punches/yolov10/test2.mp4: 384x640 1 jab, 10.1ms\n",
            "video 1/1 (frame 14560/19159) /content/drive/MyDrive/punches/yolov10/test2.mp4: 384x640 1 jab, 11.1ms\n",
            "video 1/1 (frame 14561/19159) /content/drive/MyDrive/punches/yolov10/test2.mp4: 384x640 1 jab, 14.7ms\n",
            "video 1/1 (frame 14562/19159) /content/drive/MyDrive/punches/yolov10/test2.mp4: 384x640 1 jab, 10.3ms\n",
            "video 1/1 (frame 14563/19159) /content/drive/MyDrive/punches/yolov10/test2.mp4: 384x640 1 jab, 10.1ms\n",
            "video 1/1 (frame 14564/19159) /content/drive/MyDrive/punches/yolov10/test2.mp4: 384x640 1 jab, 17.1ms\n",
            "video 1/1 (frame 14565/19159) /content/drive/MyDrive/punches/yolov10/test2.mp4: 384x640 1 jab, 11.2ms\n",
            "video 1/1 (frame 14566/19159) /content/drive/MyDrive/punches/yolov10/test2.mp4: 384x640 1 jab, 10.9ms\n",
            "video 1/1 (frame 14567/19159) /content/drive/MyDrive/punches/yolov10/test2.mp4: 384x640 1 jab, 11.1ms\n",
            "video 1/1 (frame 14568/19159) /content/drive/MyDrive/punches/yolov10/test2.mp4: 384x640 1 jab, 10.6ms\n",
            "video 1/1 (frame 14569/19159) /content/drive/MyDrive/punches/yolov10/test2.mp4: 384x640 1 jab, 11.2ms\n",
            "video 1/1 (frame 14570/19159) /content/drive/MyDrive/punches/yolov10/test2.mp4: 384x640 1 jab, 12.0ms\n",
            "video 1/1 (frame 14571/19159) /content/drive/MyDrive/punches/yolov10/test2.mp4: 384x640 (no detections), 11.4ms\n",
            "video 1/1 (frame 14572/19159) /content/drive/MyDrive/punches/yolov10/test2.mp4: 384x640 (no detections), 11.1ms\n",
            "video 1/1 (frame 14573/19159) /content/drive/MyDrive/punches/yolov10/test2.mp4: 384x640 1 jab, 19.2ms\n",
            "video 1/1 (frame 14574/19159) /content/drive/MyDrive/punches/yolov10/test2.mp4: 384x640 1 jab, 15.0ms\n",
            "video 1/1 (frame 14575/19159) /content/drive/MyDrive/punches/yolov10/test2.mp4: 384x640 1 jab, 10.5ms\n",
            "video 1/1 (frame 14576/19159) /content/drive/MyDrive/punches/yolov10/test2.mp4: 384x640 (no detections), 10.8ms\n",
            "video 1/1 (frame 14577/19159) /content/drive/MyDrive/punches/yolov10/test2.mp4: 384x640 1 jab, 10.3ms\n",
            "video 1/1 (frame 14578/19159) /content/drive/MyDrive/punches/yolov10/test2.mp4: 384x640 (no detections), 10.8ms\n",
            "video 1/1 (frame 14579/19159) /content/drive/MyDrive/punches/yolov10/test2.mp4: 384x640 (no detections), 14.1ms\n",
            "video 1/1 (frame 14580/19159) /content/drive/MyDrive/punches/yolov10/test2.mp4: 384x640 (no detections), 13.4ms\n",
            "video 1/1 (frame 14581/19159) /content/drive/MyDrive/punches/yolov10/test2.mp4: 384x640 (no detections), 10.9ms\n",
            "video 1/1 (frame 14582/19159) /content/drive/MyDrive/punches/yolov10/test2.mp4: 384x640 (no detections), 11.7ms\n",
            "video 1/1 (frame 14583/19159) /content/drive/MyDrive/punches/yolov10/test2.mp4: 384x640 (no detections), 10.4ms\n",
            "video 1/1 (frame 14584/19159) /content/drive/MyDrive/punches/yolov10/test2.mp4: 384x640 (no detections), 11.5ms\n",
            "video 1/1 (frame 14585/19159) /content/drive/MyDrive/punches/yolov10/test2.mp4: 384x640 (no detections), 10.5ms\n",
            "video 1/1 (frame 14586/19159) /content/drive/MyDrive/punches/yolov10/test2.mp4: 384x640 (no detections), 10.3ms\n",
            "video 1/1 (frame 14587/19159) /content/drive/MyDrive/punches/yolov10/test2.mp4: 384x640 (no detections), 10.4ms\n",
            "video 1/1 (frame 14588/19159) /content/drive/MyDrive/punches/yolov10/test2.mp4: 384x640 (no detections), 10.3ms\n",
            "video 1/1 (frame 14589/19159) /content/drive/MyDrive/punches/yolov10/test2.mp4: 384x640 (no detections), 9.9ms\n",
            "video 1/1 (frame 14590/19159) /content/drive/MyDrive/punches/yolov10/test2.mp4: 384x640 (no detections), 10.8ms\n",
            "video 1/1 (frame 14591/19159) /content/drive/MyDrive/punches/yolov10/test2.mp4: 384x640 (no detections), 10.9ms\n",
            "video 1/1 (frame 14592/19159) /content/drive/MyDrive/punches/yolov10/test2.mp4: 384x640 (no detections), 10.4ms\n",
            "video 1/1 (frame 14593/19159) /content/drive/MyDrive/punches/yolov10/test2.mp4: 384x640 (no detections), 10.5ms\n",
            "video 1/1 (frame 14594/19159) /content/drive/MyDrive/punches/yolov10/test2.mp4: 384x640 (no detections), 11.3ms\n",
            "video 1/1 (frame 14595/19159) /content/drive/MyDrive/punches/yolov10/test2.mp4: 384x640 (no detections), 11.3ms\n",
            "video 1/1 (frame 14596/19159) /content/drive/MyDrive/punches/yolov10/test2.mp4: 384x640 (no detections), 11.3ms\n",
            "video 1/1 (frame 14597/19159) /content/drive/MyDrive/punches/yolov10/test2.mp4: 384x640 (no detections), 11.1ms\n",
            "video 1/1 (frame 14598/19159) /content/drive/MyDrive/punches/yolov10/test2.mp4: 384x640 (no detections), 10.7ms\n",
            "video 1/1 (frame 14599/19159) /content/drive/MyDrive/punches/yolov10/test2.mp4: 384x640 (no detections), 10.5ms\n",
            "video 1/1 (frame 14600/19159) /content/drive/MyDrive/punches/yolov10/test2.mp4: 384x640 (no detections), 11.5ms\n",
            "video 1/1 (frame 14601/19159) /content/drive/MyDrive/punches/yolov10/test2.mp4: 384x640 (no detections), 11.2ms\n",
            "video 1/1 (frame 14602/19159) /content/drive/MyDrive/punches/yolov10/test2.mp4: 384x640 (no detections), 17.2ms\n",
            "video 1/1 (frame 14603/19159) /content/drive/MyDrive/punches/yolov10/test2.mp4: 384x640 (no detections), 12.6ms\n",
            "video 1/1 (frame 14604/19159) /content/drive/MyDrive/punches/yolov10/test2.mp4: 384x640 (no detections), 10.3ms\n",
            "video 1/1 (frame 14605/19159) /content/drive/MyDrive/punches/yolov10/test2.mp4: 384x640 (no detections), 13.4ms\n",
            "video 1/1 (frame 14606/19159) /content/drive/MyDrive/punches/yolov10/test2.mp4: 384x640 (no detections), 15.8ms\n",
            "video 1/1 (frame 14607/19159) /content/drive/MyDrive/punches/yolov10/test2.mp4: 384x640 (no detections), 10.7ms\n",
            "video 1/1 (frame 14608/19159) /content/drive/MyDrive/punches/yolov10/test2.mp4: 384x640 (no detections), 10.2ms\n",
            "video 1/1 (frame 14609/19159) /content/drive/MyDrive/punches/yolov10/test2.mp4: 384x640 (no detections), 10.1ms\n",
            "video 1/1 (frame 14610/19159) /content/drive/MyDrive/punches/yolov10/test2.mp4: 384x640 (no detections), 10.8ms\n",
            "video 1/1 (frame 14611/19159) /content/drive/MyDrive/punches/yolov10/test2.mp4: 384x640 (no detections), 10.8ms\n",
            "video 1/1 (frame 14612/19159) /content/drive/MyDrive/punches/yolov10/test2.mp4: 384x640 (no detections), 11.0ms\n",
            "video 1/1 (frame 14613/19159) /content/drive/MyDrive/punches/yolov10/test2.mp4: 384x640 (no detections), 11.3ms\n",
            "video 1/1 (frame 14614/19159) /content/drive/MyDrive/punches/yolov10/test2.mp4: 384x640 (no detections), 15.1ms\n",
            "video 1/1 (frame 14615/19159) /content/drive/MyDrive/punches/yolov10/test2.mp4: 384x640 (no detections), 11.8ms\n",
            "video 1/1 (frame 14616/19159) /content/drive/MyDrive/punches/yolov10/test2.mp4: 384x640 (no detections), 10.9ms\n",
            "video 1/1 (frame 14617/19159) /content/drive/MyDrive/punches/yolov10/test2.mp4: 384x640 1 jab, 18.7ms\n",
            "video 1/1 (frame 14618/19159) /content/drive/MyDrive/punches/yolov10/test2.mp4: 384x640 1 jab, 12.6ms\n",
            "video 1/1 (frame 14619/19159) /content/drive/MyDrive/punches/yolov10/test2.mp4: 384x640 1 jab, 12.7ms\n",
            "video 1/1 (frame 14620/19159) /content/drive/MyDrive/punches/yolov10/test2.mp4: 384x640 1 jab, 12.4ms\n",
            "video 1/1 (frame 14621/19159) /content/drive/MyDrive/punches/yolov10/test2.mp4: 384x640 1 jab, 13.4ms\n",
            "video 1/1 (frame 14622/19159) /content/drive/MyDrive/punches/yolov10/test2.mp4: 384x640 (no detections), 10.5ms\n",
            "video 1/1 (frame 14623/19159) /content/drive/MyDrive/punches/yolov10/test2.mp4: 384x640 (no detections), 10.3ms\n",
            "video 1/1 (frame 14624/19159) /content/drive/MyDrive/punches/yolov10/test2.mp4: 384x640 (no detections), 10.4ms\n",
            "video 1/1 (frame 14625/19159) /content/drive/MyDrive/punches/yolov10/test2.mp4: 384x640 (no detections), 10.5ms\n",
            "video 1/1 (frame 14626/19159) /content/drive/MyDrive/punches/yolov10/test2.mp4: 384x640 (no detections), 12.2ms\n",
            "video 1/1 (frame 14627/19159) /content/drive/MyDrive/punches/yolov10/test2.mp4: 384x640 (no detections), 10.8ms\n",
            "video 1/1 (frame 14628/19159) /content/drive/MyDrive/punches/yolov10/test2.mp4: 384x640 (no detections), 14.7ms\n",
            "video 1/1 (frame 14629/19159) /content/drive/MyDrive/punches/yolov10/test2.mp4: 384x640 (no detections), 10.9ms\n",
            "video 1/1 (frame 14630/19159) /content/drive/MyDrive/punches/yolov10/test2.mp4: 384x640 1 jab, 10.3ms\n",
            "video 1/1 (frame 14631/19159) /content/drive/MyDrive/punches/yolov10/test2.mp4: 384x640 (no detections), 13.4ms\n",
            "video 1/1 (frame 14632/19159) /content/drive/MyDrive/punches/yolov10/test2.mp4: 384x640 (no detections), 12.5ms\n",
            "video 1/1 (frame 14633/19159) /content/drive/MyDrive/punches/yolov10/test2.mp4: 384x640 1 jab, 10.5ms\n",
            "video 1/1 (frame 14634/19159) /content/drive/MyDrive/punches/yolov10/test2.mp4: 384x640 1 jab, 11.3ms\n",
            "video 1/1 (frame 14635/19159) /content/drive/MyDrive/punches/yolov10/test2.mp4: 384x640 1 jab, 11.0ms\n",
            "video 1/1 (frame 14636/19159) /content/drive/MyDrive/punches/yolov10/test2.mp4: 384x640 1 jab, 11.3ms\n",
            "video 1/1 (frame 14637/19159) /content/drive/MyDrive/punches/yolov10/test2.mp4: 384x640 1 jab, 10.8ms\n",
            "video 1/1 (frame 14638/19159) /content/drive/MyDrive/punches/yolov10/test2.mp4: 384x640 1 jab, 10.7ms\n",
            "video 1/1 (frame 14639/19159) /content/drive/MyDrive/punches/yolov10/test2.mp4: 384x640 (no detections), 10.6ms\n",
            "video 1/1 (frame 14640/19159) /content/drive/MyDrive/punches/yolov10/test2.mp4: 384x640 (no detections), 10.7ms\n",
            "video 1/1 (frame 14641/19159) /content/drive/MyDrive/punches/yolov10/test2.mp4: 384x640 (no detections), 10.8ms\n",
            "video 1/1 (frame 14642/19159) /content/drive/MyDrive/punches/yolov10/test2.mp4: 384x640 (no detections), 10.8ms\n",
            "video 1/1 (frame 14643/19159) /content/drive/MyDrive/punches/yolov10/test2.mp4: 384x640 (no detections), 10.5ms\n",
            "video 1/1 (frame 14644/19159) /content/drive/MyDrive/punches/yolov10/test2.mp4: 384x640 (no detections), 14.9ms\n",
            "video 1/1 (frame 14645/19159) /content/drive/MyDrive/punches/yolov10/test2.mp4: 384x640 (no detections), 10.4ms\n",
            "video 1/1 (frame 14646/19159) /content/drive/MyDrive/punches/yolov10/test2.mp4: 384x640 (no detections), 10.7ms\n",
            "video 1/1 (frame 14647/19159) /content/drive/MyDrive/punches/yolov10/test2.mp4: 384x640 (no detections), 10.7ms\n",
            "video 1/1 (frame 14648/19159) /content/drive/MyDrive/punches/yolov10/test2.mp4: 384x640 (no detections), 11.4ms\n",
            "video 1/1 (frame 14649/19159) /content/drive/MyDrive/punches/yolov10/test2.mp4: 384x640 (no detections), 11.3ms\n",
            "video 1/1 (frame 14650/19159) /content/drive/MyDrive/punches/yolov10/test2.mp4: 384x640 (no detections), 10.5ms\n",
            "video 1/1 (frame 14651/19159) /content/drive/MyDrive/punches/yolov10/test2.mp4: 384x640 (no detections), 10.9ms\n",
            "video 1/1 (frame 14652/19159) /content/drive/MyDrive/punches/yolov10/test2.mp4: 384x640 (no detections), 11.2ms\n",
            "video 1/1 (frame 14653/19159) /content/drive/MyDrive/punches/yolov10/test2.mp4: 384x640 (no detections), 11.7ms\n",
            "video 1/1 (frame 14654/19159) /content/drive/MyDrive/punches/yolov10/test2.mp4: 384x640 2 jabs, 12.5ms\n",
            "video 1/1 (frame 14655/19159) /content/drive/MyDrive/punches/yolov10/test2.mp4: 384x640 1 jab, 10.8ms\n",
            "video 1/1 (frame 14656/19159) /content/drive/MyDrive/punches/yolov10/test2.mp4: 384x640 1 jab, 12.7ms\n",
            "video 1/1 (frame 14657/19159) /content/drive/MyDrive/punches/yolov10/test2.mp4: 384x640 1 jab, 18.8ms\n",
            "video 1/1 (frame 14658/19159) /content/drive/MyDrive/punches/yolov10/test2.mp4: 384x640 1 jab, 11.9ms\n",
            "video 1/1 (frame 14659/19159) /content/drive/MyDrive/punches/yolov10/test2.mp4: 384x640 1 jab, 16.6ms\n",
            "video 1/1 (frame 14660/19159) /content/drive/MyDrive/punches/yolov10/test2.mp4: 384x640 1 jab, 11.6ms\n",
            "video 1/1 (frame 14661/19159) /content/drive/MyDrive/punches/yolov10/test2.mp4: 384x640 (no detections), 10.5ms\n",
            "video 1/1 (frame 14662/19159) /content/drive/MyDrive/punches/yolov10/test2.mp4: 384x640 (no detections), 12.3ms\n",
            "video 1/1 (frame 14663/19159) /content/drive/MyDrive/punches/yolov10/test2.mp4: 384x640 (no detections), 10.7ms\n",
            "video 1/1 (frame 14664/19159) /content/drive/MyDrive/punches/yolov10/test2.mp4: 384x640 (no detections), 11.4ms\n",
            "video 1/1 (frame 14665/19159) /content/drive/MyDrive/punches/yolov10/test2.mp4: 384x640 (no detections), 12.7ms\n",
            "video 1/1 (frame 14666/19159) /content/drive/MyDrive/punches/yolov10/test2.mp4: 384x640 (no detections), 15.2ms\n",
            "video 1/1 (frame 14667/19159) /content/drive/MyDrive/punches/yolov10/test2.mp4: 384x640 (no detections), 10.3ms\n",
            "video 1/1 (frame 14668/19159) /content/drive/MyDrive/punches/yolov10/test2.mp4: 384x640 (no detections), 10.4ms\n",
            "video 1/1 (frame 14669/19159) /content/drive/MyDrive/punches/yolov10/test2.mp4: 384x640 (no detections), 10.4ms\n",
            "video 1/1 (frame 14670/19159) /content/drive/MyDrive/punches/yolov10/test2.mp4: 384x640 (no detections), 10.6ms\n",
            "video 1/1 (frame 14671/19159) /content/drive/MyDrive/punches/yolov10/test2.mp4: 384x640 (no detections), 10.4ms\n",
            "video 1/1 (frame 14672/19159) /content/drive/MyDrive/punches/yolov10/test2.mp4: 384x640 (no detections), 10.1ms\n",
            "video 1/1 (frame 14673/19159) /content/drive/MyDrive/punches/yolov10/test2.mp4: 384x640 (no detections), 10.6ms\n",
            "video 1/1 (frame 14674/19159) /content/drive/MyDrive/punches/yolov10/test2.mp4: 384x640 (no detections), 10.3ms\n",
            "video 1/1 (frame 14675/19159) /content/drive/MyDrive/punches/yolov10/test2.mp4: 384x640 (no detections), 11.3ms\n",
            "video 1/1 (frame 14676/19159) /content/drive/MyDrive/punches/yolov10/test2.mp4: 384x640 (no detections), 13.6ms\n",
            "video 1/1 (frame 14677/19159) /content/drive/MyDrive/punches/yolov10/test2.mp4: 384x640 (no detections), 10.6ms\n",
            "video 1/1 (frame 14678/19159) /content/drive/MyDrive/punches/yolov10/test2.mp4: 384x640 (no detections), 10.1ms\n",
            "video 1/1 (frame 14679/19159) /content/drive/MyDrive/punches/yolov10/test2.mp4: 384x640 (no detections), 11.0ms\n",
            "video 1/1 (frame 14680/19159) /content/drive/MyDrive/punches/yolov10/test2.mp4: 384x640 (no detections), 11.3ms\n",
            "video 1/1 (frame 14681/19159) /content/drive/MyDrive/punches/yolov10/test2.mp4: 384x640 1 jab, 13.6ms\n",
            "video 1/1 (frame 14682/19159) /content/drive/MyDrive/punches/yolov10/test2.mp4: 384x640 1 jab, 21.1ms\n",
            "video 1/1 (frame 14683/19159) /content/drive/MyDrive/punches/yolov10/test2.mp4: 384x640 (no detections), 12.6ms\n",
            "video 1/1 (frame 14684/19159) /content/drive/MyDrive/punches/yolov10/test2.mp4: 384x640 (no detections), 12.2ms\n",
            "video 1/1 (frame 14685/19159) /content/drive/MyDrive/punches/yolov10/test2.mp4: 384x640 (no detections), 11.9ms\n",
            "video 1/1 (frame 14686/19159) /content/drive/MyDrive/punches/yolov10/test2.mp4: 384x640 (no detections), 11.0ms\n",
            "video 1/1 (frame 14687/19159) /content/drive/MyDrive/punches/yolov10/test2.mp4: 384x640 1 jab, 11.0ms\n",
            "video 1/1 (frame 14688/19159) /content/drive/MyDrive/punches/yolov10/test2.mp4: 384x640 (no detections), 11.2ms\n",
            "video 1/1 (frame 14689/19159) /content/drive/MyDrive/punches/yolov10/test2.mp4: 384x640 (no detections), 10.9ms\n",
            "video 1/1 (frame 14690/19159) /content/drive/MyDrive/punches/yolov10/test2.mp4: 384x640 (no detections), 11.0ms\n",
            "video 1/1 (frame 14691/19159) /content/drive/MyDrive/punches/yolov10/test2.mp4: 384x640 (no detections), 18.3ms\n",
            "video 1/1 (frame 14692/19159) /content/drive/MyDrive/punches/yolov10/test2.mp4: 384x640 (no detections), 11.2ms\n",
            "video 1/1 (frame 14693/19159) /content/drive/MyDrive/punches/yolov10/test2.mp4: 384x640 (no detections), 10.4ms\n",
            "video 1/1 (frame 14694/19159) /content/drive/MyDrive/punches/yolov10/test2.mp4: 384x640 (no detections), 10.3ms\n",
            "video 1/1 (frame 14695/19159) /content/drive/MyDrive/punches/yolov10/test2.mp4: 384x640 (no detections), 10.5ms\n",
            "video 1/1 (frame 14696/19159) /content/drive/MyDrive/punches/yolov10/test2.mp4: 384x640 (no detections), 10.6ms\n",
            "video 1/1 (frame 14697/19159) /content/drive/MyDrive/punches/yolov10/test2.mp4: 384x640 1 jab, 10.3ms\n",
            "video 1/1 (frame 14698/19159) /content/drive/MyDrive/punches/yolov10/test2.mp4: 384x640 1 jab, 10.8ms\n",
            "video 1/1 (frame 14699/19159) /content/drive/MyDrive/punches/yolov10/test2.mp4: 384x640 1 jab, 10.7ms\n",
            "video 1/1 (frame 14700/19159) /content/drive/MyDrive/punches/yolov10/test2.mp4: 384x640 1 jab, 10.2ms\n",
            "video 1/1 (frame 14701/19159) /content/drive/MyDrive/punches/yolov10/test2.mp4: 384x640 1 jab, 10.9ms\n",
            "video 1/1 (frame 14702/19159) /content/drive/MyDrive/punches/yolov10/test2.mp4: 384x640 1 jab, 11.2ms\n",
            "video 1/1 (frame 14703/19159) /content/drive/MyDrive/punches/yolov10/test2.mp4: 384x640 (no detections), 12.2ms\n",
            "video 1/1 (frame 14704/19159) /content/drive/MyDrive/punches/yolov10/test2.mp4: 384x640 1 jab, 11.8ms\n",
            "video 1/1 (frame 14705/19159) /content/drive/MyDrive/punches/yolov10/test2.mp4: 384x640 (no detections), 11.4ms\n",
            "video 1/1 (frame 14706/19159) /content/drive/MyDrive/punches/yolov10/test2.mp4: 384x640 (no detections), 12.1ms\n",
            "video 1/1 (frame 14707/19159) /content/drive/MyDrive/punches/yolov10/test2.mp4: 384x640 1 jab, 21.2ms\n",
            "video 1/1 (frame 14708/19159) /content/drive/MyDrive/punches/yolov10/test2.mp4: 384x640 (no detections), 11.7ms\n",
            "video 1/1 (frame 14709/19159) /content/drive/MyDrive/punches/yolov10/test2.mp4: 384x640 1 jab, 12.2ms\n",
            "video 1/1 (frame 14710/19159) /content/drive/MyDrive/punches/yolov10/test2.mp4: 384x640 (no detections), 19.8ms\n",
            "video 1/1 (frame 14711/19159) /content/drive/MyDrive/punches/yolov10/test2.mp4: 384x640 (no detections), 10.9ms\n",
            "video 1/1 (frame 14712/19159) /content/drive/MyDrive/punches/yolov10/test2.mp4: 384x640 (no detections), 10.6ms\n",
            "video 1/1 (frame 14713/19159) /content/drive/MyDrive/punches/yolov10/test2.mp4: 384x640 (no detections), 10.4ms\n",
            "video 1/1 (frame 14714/19159) /content/drive/MyDrive/punches/yolov10/test2.mp4: 384x640 (no detections), 10.5ms\n",
            "video 1/1 (frame 14715/19159) /content/drive/MyDrive/punches/yolov10/test2.mp4: 384x640 (no detections), 12.0ms\n",
            "video 1/1 (frame 14716/19159) /content/drive/MyDrive/punches/yolov10/test2.mp4: 384x640 (no detections), 10.6ms\n",
            "video 1/1 (frame 14717/19159) /content/drive/MyDrive/punches/yolov10/test2.mp4: 384x640 (no detections), 12.9ms\n",
            "video 1/1 (frame 14718/19159) /content/drive/MyDrive/punches/yolov10/test2.mp4: 384x640 (no detections), 14.6ms\n",
            "video 1/1 (frame 14719/19159) /content/drive/MyDrive/punches/yolov10/test2.mp4: 384x640 (no detections), 11.1ms\n",
            "video 1/1 (frame 14720/19159) /content/drive/MyDrive/punches/yolov10/test2.mp4: 384x640 (no detections), 10.6ms\n",
            "video 1/1 (frame 14721/19159) /content/drive/MyDrive/punches/yolov10/test2.mp4: 384x640 (no detections), 10.8ms\n",
            "video 1/1 (frame 14722/19159) /content/drive/MyDrive/punches/yolov10/test2.mp4: 384x640 (no detections), 17.3ms\n",
            "video 1/1 (frame 14723/19159) /content/drive/MyDrive/punches/yolov10/test2.mp4: 384x640 (no detections), 12.6ms\n",
            "video 1/1 (frame 14724/19159) /content/drive/MyDrive/punches/yolov10/test2.mp4: 384x640 (no detections), 10.4ms\n",
            "video 1/1 (frame 14725/19159) /content/drive/MyDrive/punches/yolov10/test2.mp4: 384x640 (no detections), 11.4ms\n",
            "video 1/1 (frame 14726/19159) /content/drive/MyDrive/punches/yolov10/test2.mp4: 384x640 (no detections), 10.3ms\n",
            "video 1/1 (frame 14727/19159) /content/drive/MyDrive/punches/yolov10/test2.mp4: 384x640 (no detections), 11.7ms\n",
            "video 1/1 (frame 14728/19159) /content/drive/MyDrive/punches/yolov10/test2.mp4: 384x640 (no detections), 10.4ms\n",
            "video 1/1 (frame 14729/19159) /content/drive/MyDrive/punches/yolov10/test2.mp4: 384x640 (no detections), 10.1ms\n",
            "video 1/1 (frame 14730/19159) /content/drive/MyDrive/punches/yolov10/test2.mp4: 384x640 (no detections), 10.7ms\n",
            "video 1/1 (frame 14731/19159) /content/drive/MyDrive/punches/yolov10/test2.mp4: 384x640 (no detections), 10.5ms\n",
            "video 1/1 (frame 14732/19159) /content/drive/MyDrive/punches/yolov10/test2.mp4: 384x640 (no detections), 10.5ms\n",
            "video 1/1 (frame 14733/19159) /content/drive/MyDrive/punches/yolov10/test2.mp4: 384x640 (no detections), 15.0ms\n",
            "video 1/1 (frame 14734/19159) /content/drive/MyDrive/punches/yolov10/test2.mp4: 384x640 (no detections), 12.0ms\n",
            "video 1/1 (frame 14735/19159) /content/drive/MyDrive/punches/yolov10/test2.mp4: 384x640 1 jab, 11.5ms\n",
            "video 1/1 (frame 14736/19159) /content/drive/MyDrive/punches/yolov10/test2.mp4: 384x640 1 jab, 10.8ms\n",
            "video 1/1 (frame 14737/19159) /content/drive/MyDrive/punches/yolov10/test2.mp4: 384x640 1 jab, 11.9ms\n",
            "video 1/1 (frame 14738/19159) /content/drive/MyDrive/punches/yolov10/test2.mp4: 384x640 1 jab, 10.8ms\n",
            "video 1/1 (frame 14739/19159) /content/drive/MyDrive/punches/yolov10/test2.mp4: 384x640 1 jab, 11.7ms\n",
            "video 1/1 (frame 14740/19159) /content/drive/MyDrive/punches/yolov10/test2.mp4: 384x640 1 jab, 11.2ms\n",
            "video 1/1 (frame 14741/19159) /content/drive/MyDrive/punches/yolov10/test2.mp4: 384x640 (no detections), 11.3ms\n",
            "video 1/1 (frame 14742/19159) /content/drive/MyDrive/punches/yolov10/test2.mp4: 384x640 1 jab, 11.2ms\n",
            "video 1/1 (frame 14743/19159) /content/drive/MyDrive/punches/yolov10/test2.mp4: 384x640 1 jab, 11.6ms\n",
            "video 1/1 (frame 14744/19159) /content/drive/MyDrive/punches/yolov10/test2.mp4: 384x640 (no detections), 11.0ms\n",
            "video 1/1 (frame 14745/19159) /content/drive/MyDrive/punches/yolov10/test2.mp4: 384x640 (no detections), 10.5ms\n",
            "video 1/1 (frame 14746/19159) /content/drive/MyDrive/punches/yolov10/test2.mp4: 384x640 (no detections), 10.7ms\n",
            "video 1/1 (frame 14747/19159) /content/drive/MyDrive/punches/yolov10/test2.mp4: 384x640 (no detections), 11.2ms\n",
            "video 1/1 (frame 14748/19159) /content/drive/MyDrive/punches/yolov10/test2.mp4: 384x640 (no detections), 10.8ms\n",
            "video 1/1 (frame 14749/19159) /content/drive/MyDrive/punches/yolov10/test2.mp4: 384x640 (no detections), 14.9ms\n",
            "video 1/1 (frame 14750/19159) /content/drive/MyDrive/punches/yolov10/test2.mp4: 384x640 1 jab, 10.5ms\n",
            "video 1/1 (frame 14751/19159) /content/drive/MyDrive/punches/yolov10/test2.mp4: 384x640 1 jab, 10.5ms\n",
            "video 1/1 (frame 14752/19159) /content/drive/MyDrive/punches/yolov10/test2.mp4: 384x640 1 jab, 10.6ms\n",
            "video 1/1 (frame 14753/19159) /content/drive/MyDrive/punches/yolov10/test2.mp4: 384x640 1 jab, 18.9ms\n",
            "video 1/1 (frame 14754/19159) /content/drive/MyDrive/punches/yolov10/test2.mp4: 384x640 1 jab, 18.2ms\n",
            "video 1/1 (frame 14755/19159) /content/drive/MyDrive/punches/yolov10/test2.mp4: 384x640 (no detections), 18.9ms\n",
            "video 1/1 (frame 14756/19159) /content/drive/MyDrive/punches/yolov10/test2.mp4: 384x640 (no detections), 19.7ms\n",
            "video 1/1 (frame 14757/19159) /content/drive/MyDrive/punches/yolov10/test2.mp4: 384x640 (no detections), 19.4ms\n",
            "video 1/1 (frame 14758/19159) /content/drive/MyDrive/punches/yolov10/test2.mp4: 384x640 1 jab, 15.7ms\n",
            "video 1/1 (frame 14759/19159) /content/drive/MyDrive/punches/yolov10/test2.mp4: 384x640 1 jab, 17.9ms\n",
            "video 1/1 (frame 14760/19159) /content/drive/MyDrive/punches/yolov10/test2.mp4: 384x640 1 jab, 19.2ms\n",
            "video 1/1 (frame 14761/19159) /content/drive/MyDrive/punches/yolov10/test2.mp4: 384x640 1 jab, 19.5ms\n",
            "video 1/1 (frame 14762/19159) /content/drive/MyDrive/punches/yolov10/test2.mp4: 384x640 1 jab, 14.8ms\n",
            "video 1/1 (frame 14763/19159) /content/drive/MyDrive/punches/yolov10/test2.mp4: 384x640 1 jab, 15.7ms\n",
            "video 1/1 (frame 14764/19159) /content/drive/MyDrive/punches/yolov10/test2.mp4: 384x640 1 jab, 19.3ms\n",
            "video 1/1 (frame 14765/19159) /content/drive/MyDrive/punches/yolov10/test2.mp4: 384x640 1 jab, 15.3ms\n",
            "video 1/1 (frame 14766/19159) /content/drive/MyDrive/punches/yolov10/test2.mp4: 384x640 (no detections), 16.5ms\n",
            "video 1/1 (frame 14767/19159) /content/drive/MyDrive/punches/yolov10/test2.mp4: 384x640 (no detections), 14.6ms\n",
            "video 1/1 (frame 14768/19159) /content/drive/MyDrive/punches/yolov10/test2.mp4: 384x640 1 jab, 19.1ms\n",
            "video 1/1 (frame 14769/19159) /content/drive/MyDrive/punches/yolov10/test2.mp4: 384x640 1 jab, 18.5ms\n",
            "video 1/1 (frame 14770/19159) /content/drive/MyDrive/punches/yolov10/test2.mp4: 384x640 2 jabs, 21.1ms\n",
            "video 1/1 (frame 14771/19159) /content/drive/MyDrive/punches/yolov10/test2.mp4: 384x640 2 jabs, 18.0ms\n",
            "video 1/1 (frame 14772/19159) /content/drive/MyDrive/punches/yolov10/test2.mp4: 384x640 1 jab, 15.6ms\n",
            "video 1/1 (frame 14773/19159) /content/drive/MyDrive/punches/yolov10/test2.mp4: 384x640 2 jabs, 15.9ms\n",
            "video 1/1 (frame 14774/19159) /content/drive/MyDrive/punches/yolov10/test2.mp4: 384x640 1 jab, 17.3ms\n",
            "video 1/1 (frame 14775/19159) /content/drive/MyDrive/punches/yolov10/test2.mp4: 384x640 (no detections), 17.2ms\n",
            "video 1/1 (frame 14776/19159) /content/drive/MyDrive/punches/yolov10/test2.mp4: 384x640 (no detections), 17.3ms\n",
            "video 1/1 (frame 14777/19159) /content/drive/MyDrive/punches/yolov10/test2.mp4: 384x640 (no detections), 16.6ms\n",
            "video 1/1 (frame 14778/19159) /content/drive/MyDrive/punches/yolov10/test2.mp4: 384x640 1 jab, 14.5ms\n",
            "video 1/1 (frame 14779/19159) /content/drive/MyDrive/punches/yolov10/test2.mp4: 384x640 (no detections), 14.0ms\n",
            "video 1/1 (frame 14780/19159) /content/drive/MyDrive/punches/yolov10/test2.mp4: 384x640 1 jab, 14.0ms\n",
            "video 1/1 (frame 14781/19159) /content/drive/MyDrive/punches/yolov10/test2.mp4: 384x640 1 jab, 14.1ms\n",
            "video 1/1 (frame 14782/19159) /content/drive/MyDrive/punches/yolov10/test2.mp4: 384x640 1 jab, 14.1ms\n",
            "video 1/1 (frame 14783/19159) /content/drive/MyDrive/punches/yolov10/test2.mp4: 384x640 1 jab, 13.9ms\n",
            "video 1/1 (frame 14784/19159) /content/drive/MyDrive/punches/yolov10/test2.mp4: 384x640 1 jab, 13.6ms\n",
            "video 1/1 (frame 14785/19159) /content/drive/MyDrive/punches/yolov10/test2.mp4: 384x640 (no detections), 14.0ms\n",
            "video 1/1 (frame 14786/19159) /content/drive/MyDrive/punches/yolov10/test2.mp4: 384x640 (no detections), 14.1ms\n",
            "video 1/1 (frame 14787/19159) /content/drive/MyDrive/punches/yolov10/test2.mp4: 384x640 (no detections), 14.7ms\n",
            "video 1/1 (frame 14788/19159) /content/drive/MyDrive/punches/yolov10/test2.mp4: 384x640 (no detections), 18.9ms\n",
            "video 1/1 (frame 14789/19159) /content/drive/MyDrive/punches/yolov10/test2.mp4: 384x640 (no detections), 18.0ms\n",
            "video 1/1 (frame 14790/19159) /content/drive/MyDrive/punches/yolov10/test2.mp4: 384x640 (no detections), 15.5ms\n",
            "video 1/1 (frame 14791/19159) /content/drive/MyDrive/punches/yolov10/test2.mp4: 384x640 1 jab, 19.0ms\n",
            "video 1/1 (frame 14792/19159) /content/drive/MyDrive/punches/yolov10/test2.mp4: 384x640 1 jab, 19.7ms\n",
            "video 1/1 (frame 14793/19159) /content/drive/MyDrive/punches/yolov10/test2.mp4: 384x640 1 jab, 18.6ms\n",
            "video 1/1 (frame 14794/19159) /content/drive/MyDrive/punches/yolov10/test2.mp4: 384x640 1 jab, 21.2ms\n",
            "video 1/1 (frame 14795/19159) /content/drive/MyDrive/punches/yolov10/test2.mp4: 384x640 1 jab, 16.3ms\n",
            "video 1/1 (frame 14796/19159) /content/drive/MyDrive/punches/yolov10/test2.mp4: 384x640 (no detections), 15.7ms\n",
            "video 1/1 (frame 14797/19159) /content/drive/MyDrive/punches/yolov10/test2.mp4: 384x640 (no detections), 15.7ms\n",
            "video 1/1 (frame 14798/19159) /content/drive/MyDrive/punches/yolov10/test2.mp4: 384x640 1 jab, 21.6ms\n",
            "video 1/1 (frame 14799/19159) /content/drive/MyDrive/punches/yolov10/test2.mp4: 384x640 1 jab, 25.0ms\n",
            "video 1/1 (frame 14800/19159) /content/drive/MyDrive/punches/yolov10/test2.mp4: 384x640 1 jab, 22.0ms\n",
            "video 1/1 (frame 14801/19159) /content/drive/MyDrive/punches/yolov10/test2.mp4: 384x640 (no detections), 18.5ms\n",
            "video 1/1 (frame 14802/19159) /content/drive/MyDrive/punches/yolov10/test2.mp4: 384x640 (no detections), 16.1ms\n",
            "video 1/1 (frame 14803/19159) /content/drive/MyDrive/punches/yolov10/test2.mp4: 384x640 (no detections), 13.7ms\n",
            "video 1/1 (frame 14804/19159) /content/drive/MyDrive/punches/yolov10/test2.mp4: 384x640 (no detections), 21.1ms\n",
            "video 1/1 (frame 14805/19159) /content/drive/MyDrive/punches/yolov10/test2.mp4: 384x640 1 jab, 20.6ms\n",
            "video 1/1 (frame 14806/19159) /content/drive/MyDrive/punches/yolov10/test2.mp4: 384x640 1 jab, 15.6ms\n",
            "video 1/1 (frame 14807/19159) /content/drive/MyDrive/punches/yolov10/test2.mp4: 384x640 1 jab, 14.0ms\n",
            "video 1/1 (frame 14808/19159) /content/drive/MyDrive/punches/yolov10/test2.mp4: 384x640 1 jab, 13.8ms\n",
            "video 1/1 (frame 14809/19159) /content/drive/MyDrive/punches/yolov10/test2.mp4: 384x640 1 jab, 16.2ms\n",
            "video 1/1 (frame 14810/19159) /content/drive/MyDrive/punches/yolov10/test2.mp4: 384x640 1 jab, 19.7ms\n",
            "video 1/1 (frame 14811/19159) /content/drive/MyDrive/punches/yolov10/test2.mp4: 384x640 1 jab, 17.5ms\n",
            "video 1/1 (frame 14812/19159) /content/drive/MyDrive/punches/yolov10/test2.mp4: 384x640 (no detections), 18.5ms\n",
            "video 1/1 (frame 14813/19159) /content/drive/MyDrive/punches/yolov10/test2.mp4: 384x640 (no detections), 20.9ms\n",
            "video 1/1 (frame 14814/19159) /content/drive/MyDrive/punches/yolov10/test2.mp4: 384x640 (no detections), 14.5ms\n",
            "video 1/1 (frame 14815/19159) /content/drive/MyDrive/punches/yolov10/test2.mp4: 384x640 (no detections), 14.9ms\n",
            "video 1/1 (frame 14816/19159) /content/drive/MyDrive/punches/yolov10/test2.mp4: 384x640 (no detections), 15.8ms\n",
            "video 1/1 (frame 14817/19159) /content/drive/MyDrive/punches/yolov10/test2.mp4: 384x640 (no detections), 16.0ms\n",
            "video 1/1 (frame 14818/19159) /content/drive/MyDrive/punches/yolov10/test2.mp4: 384x640 1 jab, 15.7ms\n",
            "video 1/1 (frame 14819/19159) /content/drive/MyDrive/punches/yolov10/test2.mp4: 384x640 1 jab, 15.7ms\n",
            "video 1/1 (frame 14820/19159) /content/drive/MyDrive/punches/yolov10/test2.mp4: 384x640 1 jab, 15.1ms\n",
            "video 1/1 (frame 14821/19159) /content/drive/MyDrive/punches/yolov10/test2.mp4: 384x640 1 jab, 13.7ms\n",
            "video 1/1 (frame 14822/19159) /content/drive/MyDrive/punches/yolov10/test2.mp4: 384x640 1 jab, 16.6ms\n",
            "video 1/1 (frame 14823/19159) /content/drive/MyDrive/punches/yolov10/test2.mp4: 384x640 (no detections), 14.5ms\n",
            "video 1/1 (frame 14824/19159) /content/drive/MyDrive/punches/yolov10/test2.mp4: 384x640 (no detections), 14.0ms\n",
            "video 1/1 (frame 14825/19159) /content/drive/MyDrive/punches/yolov10/test2.mp4: 384x640 (no detections), 14.1ms\n",
            "video 1/1 (frame 14826/19159) /content/drive/MyDrive/punches/yolov10/test2.mp4: 384x640 (no detections), 13.4ms\n",
            "video 1/1 (frame 14827/19159) /content/drive/MyDrive/punches/yolov10/test2.mp4: 384x640 (no detections), 14.3ms\n",
            "video 1/1 (frame 14828/19159) /content/drive/MyDrive/punches/yolov10/test2.mp4: 384x640 (no detections), 14.1ms\n",
            "video 1/1 (frame 14829/19159) /content/drive/MyDrive/punches/yolov10/test2.mp4: 384x640 (no detections), 15.9ms\n",
            "video 1/1 (frame 14830/19159) /content/drive/MyDrive/punches/yolov10/test2.mp4: 384x640 (no detections), 13.3ms\n",
            "video 1/1 (frame 14831/19159) /content/drive/MyDrive/punches/yolov10/test2.mp4: 384x640 (no detections), 13.2ms\n",
            "video 1/1 (frame 14832/19159) /content/drive/MyDrive/punches/yolov10/test2.mp4: 384x640 (no detections), 13.3ms\n",
            "video 1/1 (frame 14833/19159) /content/drive/MyDrive/punches/yolov10/test2.mp4: 384x640 (no detections), 13.2ms\n",
            "video 1/1 (frame 14834/19159) /content/drive/MyDrive/punches/yolov10/test2.mp4: 384x640 (no detections), 16.4ms\n",
            "video 1/1 (frame 14835/19159) /content/drive/MyDrive/punches/yolov10/test2.mp4: 384x640 (no detections), 13.5ms\n",
            "video 1/1 (frame 14836/19159) /content/drive/MyDrive/punches/yolov10/test2.mp4: 384x640 1 jab, 13.6ms\n",
            "video 1/1 (frame 14837/19159) /content/drive/MyDrive/punches/yolov10/test2.mp4: 384x640 1 jab, 19.3ms\n",
            "video 1/1 (frame 14838/19159) /content/drive/MyDrive/punches/yolov10/test2.mp4: 384x640 1 jab, 20.0ms\n",
            "video 1/1 (frame 14839/19159) /content/drive/MyDrive/punches/yolov10/test2.mp4: 384x640 2 jabs, 18.0ms\n",
            "video 1/1 (frame 14840/19159) /content/drive/MyDrive/punches/yolov10/test2.mp4: 384x640 2 jabs, 16.3ms\n",
            "video 1/1 (frame 14841/19159) /content/drive/MyDrive/punches/yolov10/test2.mp4: 384x640 1 jab, 15.2ms\n",
            "video 1/1 (frame 14842/19159) /content/drive/MyDrive/punches/yolov10/test2.mp4: 384x640 1 jab, 18.3ms\n",
            "video 1/1 (frame 14843/19159) /content/drive/MyDrive/punches/yolov10/test2.mp4: 384x640 1 jab, 13.6ms\n",
            "video 1/1 (frame 14844/19159) /content/drive/MyDrive/punches/yolov10/test2.mp4: 384x640 2 jabs, 13.7ms\n",
            "video 1/1 (frame 14845/19159) /content/drive/MyDrive/punches/yolov10/test2.mp4: 384x640 1 jab, 15.3ms\n",
            "video 1/1 (frame 14846/19159) /content/drive/MyDrive/punches/yolov10/test2.mp4: 384x640 1 jab, 25.0ms\n",
            "video 1/1 (frame 14847/19159) /content/drive/MyDrive/punches/yolov10/test2.mp4: 384x640 1 jab, 13.8ms\n",
            "video 1/1 (frame 14848/19159) /content/drive/MyDrive/punches/yolov10/test2.mp4: 384x640 1 jab, 13.7ms\n",
            "video 1/1 (frame 14849/19159) /content/drive/MyDrive/punches/yolov10/test2.mp4: 384x640 (no detections), 21.5ms\n",
            "video 1/1 (frame 14850/19159) /content/drive/MyDrive/punches/yolov10/test2.mp4: 384x640 (no detections), 20.7ms\n",
            "video 1/1 (frame 14851/19159) /content/drive/MyDrive/punches/yolov10/test2.mp4: 384x640 1 jab, 17.7ms\n",
            "video 1/1 (frame 14852/19159) /content/drive/MyDrive/punches/yolov10/test2.mp4: 384x640 (no detections), 17.9ms\n",
            "video 1/1 (frame 14853/19159) /content/drive/MyDrive/punches/yolov10/test2.mp4: 384x640 (no detections), 20.3ms\n",
            "video 1/1 (frame 14854/19159) /content/drive/MyDrive/punches/yolov10/test2.mp4: 384x640 (no detections), 20.0ms\n",
            "video 1/1 (frame 14855/19159) /content/drive/MyDrive/punches/yolov10/test2.mp4: 384x640 (no detections), 14.0ms\n",
            "video 1/1 (frame 14856/19159) /content/drive/MyDrive/punches/yolov10/test2.mp4: 384x640 (no detections), 15.6ms\n",
            "video 1/1 (frame 14857/19159) /content/drive/MyDrive/punches/yolov10/test2.mp4: 384x640 1 jab, 17.0ms\n",
            "video 1/1 (frame 14858/19159) /content/drive/MyDrive/punches/yolov10/test2.mp4: 384x640 (no detections), 16.3ms\n",
            "video 1/1 (frame 14859/19159) /content/drive/MyDrive/punches/yolov10/test2.mp4: 384x640 (no detections), 14.3ms\n",
            "video 1/1 (frame 14860/19159) /content/drive/MyDrive/punches/yolov10/test2.mp4: 384x640 (no detections), 17.5ms\n",
            "video 1/1 (frame 14861/19159) /content/drive/MyDrive/punches/yolov10/test2.mp4: 384x640 (no detections), 23.7ms\n",
            "video 1/1 (frame 14862/19159) /content/drive/MyDrive/punches/yolov10/test2.mp4: 384x640 (no detections), 35.7ms\n",
            "video 1/1 (frame 14863/19159) /content/drive/MyDrive/punches/yolov10/test2.mp4: 384x640 (no detections), 23.6ms\n",
            "video 1/1 (frame 14864/19159) /content/drive/MyDrive/punches/yolov10/test2.mp4: 384x640 1 jab, 22.3ms\n",
            "video 1/1 (frame 14865/19159) /content/drive/MyDrive/punches/yolov10/test2.mp4: 384x640 1 jab, 16.9ms\n",
            "video 1/1 (frame 14866/19159) /content/drive/MyDrive/punches/yolov10/test2.mp4: 384x640 2 jabs, 16.7ms\n",
            "video 1/1 (frame 14867/19159) /content/drive/MyDrive/punches/yolov10/test2.mp4: 384x640 2 jabs, 13.0ms\n",
            "video 1/1 (frame 14868/19159) /content/drive/MyDrive/punches/yolov10/test2.mp4: 384x640 1 jab, 19.1ms\n",
            "video 1/1 (frame 14869/19159) /content/drive/MyDrive/punches/yolov10/test2.mp4: 384x640 1 jab, 16.6ms\n",
            "video 1/1 (frame 14870/19159) /content/drive/MyDrive/punches/yolov10/test2.mp4: 384x640 1 jab, 21.9ms\n",
            "video 1/1 (frame 14871/19159) /content/drive/MyDrive/punches/yolov10/test2.mp4: 384x640 1 jab, 18.9ms\n",
            "video 1/1 (frame 14872/19159) /content/drive/MyDrive/punches/yolov10/test2.mp4: 384x640 1 jab, 16.7ms\n",
            "video 1/1 (frame 14873/19159) /content/drive/MyDrive/punches/yolov10/test2.mp4: 384x640 (no detections), 20.4ms\n",
            "video 1/1 (frame 14874/19159) /content/drive/MyDrive/punches/yolov10/test2.mp4: 384x640 (no detections), 23.6ms\n",
            "video 1/1 (frame 14875/19159) /content/drive/MyDrive/punches/yolov10/test2.mp4: 384x640 (no detections), 21.1ms\n",
            "video 1/1 (frame 14876/19159) /content/drive/MyDrive/punches/yolov10/test2.mp4: 384x640 (no detections), 27.4ms\n",
            "video 1/1 (frame 14877/19159) /content/drive/MyDrive/punches/yolov10/test2.mp4: 384x640 (no detections), 18.4ms\n",
            "video 1/1 (frame 14878/19159) /content/drive/MyDrive/punches/yolov10/test2.mp4: 384x640 (no detections), 17.4ms\n",
            "video 1/1 (frame 14879/19159) /content/drive/MyDrive/punches/yolov10/test2.mp4: 384x640 (no detections), 16.2ms\n",
            "video 1/1 (frame 14880/19159) /content/drive/MyDrive/punches/yolov10/test2.mp4: 384x640 (no detections), 16.1ms\n",
            "video 1/1 (frame 14881/19159) /content/drive/MyDrive/punches/yolov10/test2.mp4: 384x640 (no detections), 16.2ms\n",
            "video 1/1 (frame 14882/19159) /content/drive/MyDrive/punches/yolov10/test2.mp4: 384x640 (no detections), 23.6ms\n",
            "video 1/1 (frame 14883/19159) /content/drive/MyDrive/punches/yolov10/test2.mp4: 384x640 (no detections), 18.0ms\n",
            "video 1/1 (frame 14884/19159) /content/drive/MyDrive/punches/yolov10/test2.mp4: 384x640 (no detections), 16.6ms\n",
            "video 1/1 (frame 14885/19159) /content/drive/MyDrive/punches/yolov10/test2.mp4: 384x640 (no detections), 18.3ms\n",
            "video 1/1 (frame 14886/19159) /content/drive/MyDrive/punches/yolov10/test2.mp4: 384x640 (no detections), 15.7ms\n",
            "video 1/1 (frame 14887/19159) /content/drive/MyDrive/punches/yolov10/test2.mp4: 384x640 (no detections), 16.7ms\n",
            "video 1/1 (frame 14888/19159) /content/drive/MyDrive/punches/yolov10/test2.mp4: 384x640 (no detections), 19.2ms\n",
            "video 1/1 (frame 14889/19159) /content/drive/MyDrive/punches/yolov10/test2.mp4: 384x640 (no detections), 18.8ms\n",
            "video 1/1 (frame 14890/19159) /content/drive/MyDrive/punches/yolov10/test2.mp4: 384x640 (no detections), 18.9ms\n",
            "video 1/1 (frame 14891/19159) /content/drive/MyDrive/punches/yolov10/test2.mp4: 384x640 (no detections), 19.6ms\n",
            "video 1/1 (frame 14892/19159) /content/drive/MyDrive/punches/yolov10/test2.mp4: 384x640 (no detections), 19.2ms\n",
            "video 1/1 (frame 14893/19159) /content/drive/MyDrive/punches/yolov10/test2.mp4: 384x640 (no detections), 18.9ms\n",
            "video 1/1 (frame 14894/19159) /content/drive/MyDrive/punches/yolov10/test2.mp4: 384x640 (no detections), 18.7ms\n",
            "video 1/1 (frame 14895/19159) /content/drive/MyDrive/punches/yolov10/test2.mp4: 384x640 (no detections), 19.1ms\n",
            "video 1/1 (frame 14896/19159) /content/drive/MyDrive/punches/yolov10/test2.mp4: 384x640 (no detections), 18.6ms\n",
            "video 1/1 (frame 14897/19159) /content/drive/MyDrive/punches/yolov10/test2.mp4: 384x640 (no detections), 28.0ms\n",
            "video 1/1 (frame 14898/19159) /content/drive/MyDrive/punches/yolov10/test2.mp4: 384x640 (no detections), 24.8ms\n",
            "video 1/1 (frame 14899/19159) /content/drive/MyDrive/punches/yolov10/test2.mp4: 384x640 (no detections), 19.4ms\n",
            "video 1/1 (frame 14900/19159) /content/drive/MyDrive/punches/yolov10/test2.mp4: 384x640 1 jab, 20.1ms\n",
            "video 1/1 (frame 14901/19159) /content/drive/MyDrive/punches/yolov10/test2.mp4: 384x640 1 jab, 15.3ms\n",
            "video 1/1 (frame 14902/19159) /content/drive/MyDrive/punches/yolov10/test2.mp4: 384x640 1 jab, 11.0ms\n",
            "video 1/1 (frame 14903/19159) /content/drive/MyDrive/punches/yolov10/test2.mp4: 384x640 1 jab, 11.2ms\n",
            "video 1/1 (frame 14904/19159) /content/drive/MyDrive/punches/yolov10/test2.mp4: 384x640 1 jab, 10.4ms\n",
            "video 1/1 (frame 14905/19159) /content/drive/MyDrive/punches/yolov10/test2.mp4: 384x640 1 jab, 10.4ms\n",
            "video 1/1 (frame 14906/19159) /content/drive/MyDrive/punches/yolov10/test2.mp4: 384x640 (no detections), 10.2ms\n",
            "video 1/1 (frame 14907/19159) /content/drive/MyDrive/punches/yolov10/test2.mp4: 384x640 (no detections), 12.2ms\n",
            "video 1/1 (frame 14908/19159) /content/drive/MyDrive/punches/yolov10/test2.mp4: 384x640 (no detections), 10.3ms\n",
            "video 1/1 (frame 14909/19159) /content/drive/MyDrive/punches/yolov10/test2.mp4: 384x640 (no detections), 10.2ms\n",
            "video 1/1 (frame 14910/19159) /content/drive/MyDrive/punches/yolov10/test2.mp4: 384x640 (no detections), 16.1ms\n",
            "video 1/1 (frame 14911/19159) /content/drive/MyDrive/punches/yolov10/test2.mp4: 384x640 (no detections), 18.0ms\n",
            "video 1/1 (frame 14912/19159) /content/drive/MyDrive/punches/yolov10/test2.mp4: 384x640 (no detections), 10.6ms\n",
            "video 1/1 (frame 14913/19159) /content/drive/MyDrive/punches/yolov10/test2.mp4: 384x640 (no detections), 10.1ms\n",
            "video 1/1 (frame 14914/19159) /content/drive/MyDrive/punches/yolov10/test2.mp4: 384x640 1 jab, 10.7ms\n",
            "video 1/1 (frame 14915/19159) /content/drive/MyDrive/punches/yolov10/test2.mp4: 384x640 1 jab, 10.1ms\n",
            "video 1/1 (frame 14916/19159) /content/drive/MyDrive/punches/yolov10/test2.mp4: 384x640 1 jab, 28.6ms\n",
            "video 1/1 (frame 14917/19159) /content/drive/MyDrive/punches/yolov10/test2.mp4: 384x640 (no detections), 19.0ms\n",
            "video 1/1 (frame 14918/19159) /content/drive/MyDrive/punches/yolov10/test2.mp4: 384x640 (no detections), 10.6ms\n",
            "video 1/1 (frame 14919/19159) /content/drive/MyDrive/punches/yolov10/test2.mp4: 384x640 (no detections), 10.6ms\n",
            "video 1/1 (frame 14920/19159) /content/drive/MyDrive/punches/yolov10/test2.mp4: 384x640 (no detections), 10.6ms\n",
            "video 1/1 (frame 14921/19159) /content/drive/MyDrive/punches/yolov10/test2.mp4: 384x640 (no detections), 11.2ms\n",
            "video 1/1 (frame 14922/19159) /content/drive/MyDrive/punches/yolov10/test2.mp4: 384x640 (no detections), 11.2ms\n",
            "video 1/1 (frame 14923/19159) /content/drive/MyDrive/punches/yolov10/test2.mp4: 384x640 (no detections), 12.4ms\n",
            "video 1/1 (frame 14924/19159) /content/drive/MyDrive/punches/yolov10/test2.mp4: 384x640 1 jab, 10.5ms\n",
            "video 1/1 (frame 14925/19159) /content/drive/MyDrive/punches/yolov10/test2.mp4: 384x640 (no detections), 10.7ms\n",
            "video 1/1 (frame 14926/19159) /content/drive/MyDrive/punches/yolov10/test2.mp4: 384x640 1 jab, 14.4ms\n",
            "video 1/1 (frame 14927/19159) /content/drive/MyDrive/punches/yolov10/test2.mp4: 384x640 1 jab, 11.0ms\n",
            "video 1/1 (frame 14928/19159) /content/drive/MyDrive/punches/yolov10/test2.mp4: 384x640 (no detections), 12.9ms\n",
            "video 1/1 (frame 14929/19159) /content/drive/MyDrive/punches/yolov10/test2.mp4: 384x640 (no detections), 10.5ms\n",
            "video 1/1 (frame 14930/19159) /content/drive/MyDrive/punches/yolov10/test2.mp4: 384x640 (no detections), 10.4ms\n",
            "video 1/1 (frame 14931/19159) /content/drive/MyDrive/punches/yolov10/test2.mp4: 384x640 (no detections), 10.8ms\n",
            "video 1/1 (frame 14932/19159) /content/drive/MyDrive/punches/yolov10/test2.mp4: 384x640 (no detections), 10.3ms\n",
            "video 1/1 (frame 14933/19159) /content/drive/MyDrive/punches/yolov10/test2.mp4: 384x640 (no detections), 10.6ms\n",
            "video 1/1 (frame 14934/19159) /content/drive/MyDrive/punches/yolov10/test2.mp4: 384x640 (no detections), 10.1ms\n",
            "video 1/1 (frame 14935/19159) /content/drive/MyDrive/punches/yolov10/test2.mp4: 384x640 (no detections), 10.1ms\n",
            "video 1/1 (frame 14936/19159) /content/drive/MyDrive/punches/yolov10/test2.mp4: 384x640 1 jab, 10.6ms\n",
            "video 1/1 (frame 14937/19159) /content/drive/MyDrive/punches/yolov10/test2.mp4: 384x640 2 jabs, 11.0ms\n",
            "video 1/1 (frame 14938/19159) /content/drive/MyDrive/punches/yolov10/test2.mp4: 384x640 1 jab, 13.2ms\n",
            "video 1/1 (frame 14939/19159) /content/drive/MyDrive/punches/yolov10/test2.mp4: 384x640 (no detections), 11.4ms\n",
            "video 1/1 (frame 14940/19159) /content/drive/MyDrive/punches/yolov10/test2.mp4: 384x640 1 jab, 10.7ms\n",
            "video 1/1 (frame 14941/19159) /content/drive/MyDrive/punches/yolov10/test2.mp4: 384x640 1 jab, 10.3ms\n",
            "video 1/1 (frame 14942/19159) /content/drive/MyDrive/punches/yolov10/test2.mp4: 384x640 2 jabs, 11.6ms\n",
            "video 1/1 (frame 14943/19159) /content/drive/MyDrive/punches/yolov10/test2.mp4: 384x640 1 jab, 13.6ms\n",
            "video 1/1 (frame 14944/19159) /content/drive/MyDrive/punches/yolov10/test2.mp4: 384x640 1 jab, 10.6ms\n",
            "video 1/1 (frame 14945/19159) /content/drive/MyDrive/punches/yolov10/test2.mp4: 384x640 1 jab, 10.4ms\n",
            "video 1/1 (frame 14946/19159) /content/drive/MyDrive/punches/yolov10/test2.mp4: 384x640 (no detections), 10.1ms\n",
            "video 1/1 (frame 14947/19159) /content/drive/MyDrive/punches/yolov10/test2.mp4: 384x640 (no detections), 10.0ms\n",
            "video 1/1 (frame 14948/19159) /content/drive/MyDrive/punches/yolov10/test2.mp4: 384x640 1 jab, 14.0ms\n",
            "video 1/1 (frame 14949/19159) /content/drive/MyDrive/punches/yolov10/test2.mp4: 384x640 1 jab, 22.6ms\n",
            "video 1/1 (frame 14950/19159) /content/drive/MyDrive/punches/yolov10/test2.mp4: 384x640 (no detections), 21.3ms\n",
            "video 1/1 (frame 14951/19159) /content/drive/MyDrive/punches/yolov10/test2.mp4: 384x640 1 jab, 18.2ms\n",
            "video 1/1 (frame 14952/19159) /content/drive/MyDrive/punches/yolov10/test2.mp4: 384x640 1 jab, 10.6ms\n",
            "video 1/1 (frame 14953/19159) /content/drive/MyDrive/punches/yolov10/test2.mp4: 384x640 1 jab, 10.7ms\n",
            "video 1/1 (frame 14954/19159) /content/drive/MyDrive/punches/yolov10/test2.mp4: 384x640 (no detections), 11.1ms\n",
            "video 1/1 (frame 14955/19159) /content/drive/MyDrive/punches/yolov10/test2.mp4: 384x640 1 jab, 10.2ms\n",
            "video 1/1 (frame 14956/19159) /content/drive/MyDrive/punches/yolov10/test2.mp4: 384x640 (no detections), 10.7ms\n",
            "video 1/1 (frame 14957/19159) /content/drive/MyDrive/punches/yolov10/test2.mp4: 384x640 1 jab, 13.6ms\n",
            "video 1/1 (frame 14958/19159) /content/drive/MyDrive/punches/yolov10/test2.mp4: 384x640 1 jab, 10.5ms\n",
            "video 1/1 (frame 14959/19159) /content/drive/MyDrive/punches/yolov10/test2.mp4: 384x640 1 jab, 10.3ms\n",
            "video 1/1 (frame 14960/19159) /content/drive/MyDrive/punches/yolov10/test2.mp4: 384x640 (no detections), 10.7ms\n",
            "video 1/1 (frame 14961/19159) /content/drive/MyDrive/punches/yolov10/test2.mp4: 384x640 (no detections), 10.0ms\n",
            "video 1/1 (frame 14962/19159) /content/drive/MyDrive/punches/yolov10/test2.mp4: 384x640 1 jab, 16.2ms\n",
            "video 1/1 (frame 14963/19159) /content/drive/MyDrive/punches/yolov10/test2.mp4: 384x640 1 jab, 12.6ms\n",
            "video 1/1 (frame 14964/19159) /content/drive/MyDrive/punches/yolov10/test2.mp4: 384x640 (no detections), 10.7ms\n",
            "video 1/1 (frame 14965/19159) /content/drive/MyDrive/punches/yolov10/test2.mp4: 384x640 (no detections), 10.1ms\n",
            "video 1/1 (frame 14966/19159) /content/drive/MyDrive/punches/yolov10/test2.mp4: 384x640 (no detections), 10.1ms\n",
            "video 1/1 (frame 14967/19159) /content/drive/MyDrive/punches/yolov10/test2.mp4: 384x640 (no detections), 10.2ms\n",
            "video 1/1 (frame 14968/19159) /content/drive/MyDrive/punches/yolov10/test2.mp4: 384x640 1 jab, 15.7ms\n",
            "video 1/1 (frame 14969/19159) /content/drive/MyDrive/punches/yolov10/test2.mp4: 384x640 1 jab, 11.7ms\n",
            "video 1/1 (frame 14970/19159) /content/drive/MyDrive/punches/yolov10/test2.mp4: 384x640 1 jab, 14.1ms\n",
            "video 1/1 (frame 14971/19159) /content/drive/MyDrive/punches/yolov10/test2.mp4: 384x640 1 jab, 18.0ms\n",
            "video 1/1 (frame 14972/19159) /content/drive/MyDrive/punches/yolov10/test2.mp4: 384x640 1 jab, 11.5ms\n",
            "video 1/1 (frame 14973/19159) /content/drive/MyDrive/punches/yolov10/test2.mp4: 384x640 1 jab, 10.7ms\n",
            "video 1/1 (frame 14974/19159) /content/drive/MyDrive/punches/yolov10/test2.mp4: 384x640 2 jabs, 10.4ms\n",
            "video 1/1 (frame 14975/19159) /content/drive/MyDrive/punches/yolov10/test2.mp4: 384x640 2 jabs, 11.5ms\n",
            "video 1/1 (frame 14976/19159) /content/drive/MyDrive/punches/yolov10/test2.mp4: 384x640 1 jab, 10.7ms\n",
            "video 1/1 (frame 14977/19159) /content/drive/MyDrive/punches/yolov10/test2.mp4: 384x640 1 jab, 10.4ms\n",
            "video 1/1 (frame 14978/19159) /content/drive/MyDrive/punches/yolov10/test2.mp4: 384x640 1 jab, 11.4ms\n",
            "video 1/1 (frame 14979/19159) /content/drive/MyDrive/punches/yolov10/test2.mp4: 384x640 (no detections), 10.5ms\n",
            "video 1/1 (frame 14980/19159) /content/drive/MyDrive/punches/yolov10/test2.mp4: 384x640 (no detections), 12.5ms\n",
            "video 1/1 (frame 14981/19159) /content/drive/MyDrive/punches/yolov10/test2.mp4: 384x640 (no detections), 10.7ms\n",
            "video 1/1 (frame 14982/19159) /content/drive/MyDrive/punches/yolov10/test2.mp4: 384x640 (no detections), 10.5ms\n",
            "video 1/1 (frame 14983/19159) /content/drive/MyDrive/punches/yolov10/test2.mp4: 384x640 1 jab, 11.1ms\n",
            "video 1/1 (frame 14984/19159) /content/drive/MyDrive/punches/yolov10/test2.mp4: 384x640 1 jab, 18.9ms\n",
            "video 1/1 (frame 14985/19159) /content/drive/MyDrive/punches/yolov10/test2.mp4: 384x640 (no detections), 20.4ms\n",
            "video 1/1 (frame 14986/19159) /content/drive/MyDrive/punches/yolov10/test2.mp4: 384x640 (no detections), 11.0ms\n",
            "video 1/1 (frame 14987/19159) /content/drive/MyDrive/punches/yolov10/test2.mp4: 384x640 (no detections), 13.8ms\n",
            "video 1/1 (frame 14988/19159) /content/drive/MyDrive/punches/yolov10/test2.mp4: 384x640 (no detections), 11.6ms\n",
            "video 1/1 (frame 14989/19159) /content/drive/MyDrive/punches/yolov10/test2.mp4: 384x640 (no detections), 10.8ms\n",
            "video 1/1 (frame 14990/19159) /content/drive/MyDrive/punches/yolov10/test2.mp4: 384x640 (no detections), 11.2ms\n",
            "video 1/1 (frame 14991/19159) /content/drive/MyDrive/punches/yolov10/test2.mp4: 384x640 (no detections), 11.2ms\n",
            "video 1/1 (frame 14992/19159) /content/drive/MyDrive/punches/yolov10/test2.mp4: 384x640 (no detections), 10.5ms\n",
            "video 1/1 (frame 14993/19159) /content/drive/MyDrive/punches/yolov10/test2.mp4: 384x640 1 jab, 10.4ms\n",
            "video 1/1 (frame 14994/19159) /content/drive/MyDrive/punches/yolov10/test2.mp4: 384x640 1 jab, 10.8ms\n",
            "video 1/1 (frame 14995/19159) /content/drive/MyDrive/punches/yolov10/test2.mp4: 384x640 (no detections), 10.8ms\n",
            "video 1/1 (frame 14996/19159) /content/drive/MyDrive/punches/yolov10/test2.mp4: 384x640 1 jab, 11.0ms\n",
            "video 1/1 (frame 14997/19159) /content/drive/MyDrive/punches/yolov10/test2.mp4: 384x640 1 jab, 10.3ms\n",
            "video 1/1 (frame 14998/19159) /content/drive/MyDrive/punches/yolov10/test2.mp4: 384x640 (no detections), 10.2ms\n",
            "video 1/1 (frame 14999/19159) /content/drive/MyDrive/punches/yolov10/test2.mp4: 384x640 1 jab, 10.2ms\n",
            "video 1/1 (frame 15000/19159) /content/drive/MyDrive/punches/yolov10/test2.mp4: 384x640 1 jab, 16.3ms\n",
            "video 1/1 (frame 15001/19159) /content/drive/MyDrive/punches/yolov10/test2.mp4: 384x640 (no detections), 12.0ms\n",
            "video 1/1 (frame 15002/19159) /content/drive/MyDrive/punches/yolov10/test2.mp4: 384x640 (no detections), 10.5ms\n",
            "video 1/1 (frame 15003/19159) /content/drive/MyDrive/punches/yolov10/test2.mp4: 384x640 (no detections), 10.6ms\n",
            "video 1/1 (frame 15004/19159) /content/drive/MyDrive/punches/yolov10/test2.mp4: 384x640 (no detections), 10.4ms\n",
            "video 1/1 (frame 15005/19159) /content/drive/MyDrive/punches/yolov10/test2.mp4: 384x640 1 jab, 11.1ms\n",
            "video 1/1 (frame 15006/19159) /content/drive/MyDrive/punches/yolov10/test2.mp4: 384x640 (no detections), 11.4ms\n",
            "video 1/1 (frame 15007/19159) /content/drive/MyDrive/punches/yolov10/test2.mp4: 384x640 (no detections), 10.8ms\n",
            "video 1/1 (frame 15008/19159) /content/drive/MyDrive/punches/yolov10/test2.mp4: 384x640 (no detections), 10.4ms\n",
            "video 1/1 (frame 15009/19159) /content/drive/MyDrive/punches/yolov10/test2.mp4: 384x640 (no detections), 10.3ms\n",
            "video 1/1 (frame 15010/19159) /content/drive/MyDrive/punches/yolov10/test2.mp4: 384x640 (no detections), 10.4ms\n",
            "video 1/1 (frame 15011/19159) /content/drive/MyDrive/punches/yolov10/test2.mp4: 384x640 (no detections), 11.2ms\n",
            "video 1/1 (frame 15012/19159) /content/drive/MyDrive/punches/yolov10/test2.mp4: 384x640 (no detections), 11.4ms\n",
            "video 1/1 (frame 15013/19159) /content/drive/MyDrive/punches/yolov10/test2.mp4: 384x640 (no detections), 11.4ms\n",
            "video 1/1 (frame 15014/19159) /content/drive/MyDrive/punches/yolov10/test2.mp4: 384x640 1 jab, 10.6ms\n",
            "video 1/1 (frame 15015/19159) /content/drive/MyDrive/punches/yolov10/test2.mp4: 384x640 1 jab, 10.6ms\n",
            "video 1/1 (frame 15016/19159) /content/drive/MyDrive/punches/yolov10/test2.mp4: 384x640 1 jab, 17.4ms\n",
            "video 1/1 (frame 15017/19159) /content/drive/MyDrive/punches/yolov10/test2.mp4: 384x640 1 jab, 15.3ms\n",
            "video 1/1 (frame 15018/19159) /content/drive/MyDrive/punches/yolov10/test2.mp4: 384x640 1 jab, 11.5ms\n",
            "video 1/1 (frame 15019/19159) /content/drive/MyDrive/punches/yolov10/test2.mp4: 384x640 1 jab, 10.8ms\n",
            "video 1/1 (frame 15020/19159) /content/drive/MyDrive/punches/yolov10/test2.mp4: 384x640 1 jab, 10.8ms\n",
            "video 1/1 (frame 15021/19159) /content/drive/MyDrive/punches/yolov10/test2.mp4: 384x640 1 jab, 10.4ms\n",
            "video 1/1 (frame 15022/19159) /content/drive/MyDrive/punches/yolov10/test2.mp4: 384x640 (no detections), 10.3ms\n",
            "video 1/1 (frame 15023/19159) /content/drive/MyDrive/punches/yolov10/test2.mp4: 384x640 (no detections), 10.7ms\n",
            "video 1/1 (frame 15024/19159) /content/drive/MyDrive/punches/yolov10/test2.mp4: 384x640 1 jab, 10.3ms\n",
            "video 1/1 (frame 15025/19159) /content/drive/MyDrive/punches/yolov10/test2.mp4: 384x640 1 jab, 10.6ms\n",
            "video 1/1 (frame 15026/19159) /content/drive/MyDrive/punches/yolov10/test2.mp4: 384x640 1 jab, 15.9ms\n",
            "video 1/1 (frame 15027/19159) /content/drive/MyDrive/punches/yolov10/test2.mp4: 384x640 1 jab, 15.2ms\n",
            "video 1/1 (frame 15028/19159) /content/drive/MyDrive/punches/yolov10/test2.mp4: 384x640 1 jab, 10.4ms\n",
            "video 1/1 (frame 15029/19159) /content/drive/MyDrive/punches/yolov10/test2.mp4: 384x640 1 jab, 13.3ms\n",
            "video 1/1 (frame 15030/19159) /content/drive/MyDrive/punches/yolov10/test2.mp4: 384x640 1 jab, 10.5ms\n",
            "video 1/1 (frame 15031/19159) /content/drive/MyDrive/punches/yolov10/test2.mp4: 384x640 2 jabs, 10.4ms\n",
            "video 1/1 (frame 15032/19159) /content/drive/MyDrive/punches/yolov10/test2.mp4: 384x640 1 jab, 12.3ms\n",
            "video 1/1 (frame 15033/19159) /content/drive/MyDrive/punches/yolov10/test2.mp4: 384x640 (no detections), 11.1ms\n",
            "video 1/1 (frame 15034/19159) /content/drive/MyDrive/punches/yolov10/test2.mp4: 384x640 (no detections), 13.5ms\n",
            "video 1/1 (frame 15035/19159) /content/drive/MyDrive/punches/yolov10/test2.mp4: 384x640 1 jab, 11.3ms\n",
            "video 1/1 (frame 15036/19159) /content/drive/MyDrive/punches/yolov10/test2.mp4: 384x640 (no detections), 12.0ms\n",
            "video 1/1 (frame 15037/19159) /content/drive/MyDrive/punches/yolov10/test2.mp4: 384x640 (no detections), 10.8ms\n",
            "video 1/1 (frame 15038/19159) /content/drive/MyDrive/punches/yolov10/test2.mp4: 384x640 (no detections), 10.3ms\n",
            "video 1/1 (frame 15039/19159) /content/drive/MyDrive/punches/yolov10/test2.mp4: 384x640 (no detections), 11.4ms\n",
            "video 1/1 (frame 15040/19159) /content/drive/MyDrive/punches/yolov10/test2.mp4: 384x640 (no detections), 10.6ms\n",
            "video 1/1 (frame 15041/19159) /content/drive/MyDrive/punches/yolov10/test2.mp4: 384x640 (no detections), 10.4ms\n",
            "video 1/1 (frame 15042/19159) /content/drive/MyDrive/punches/yolov10/test2.mp4: 384x640 (no detections), 10.5ms\n",
            "video 1/1 (frame 15043/19159) /content/drive/MyDrive/punches/yolov10/test2.mp4: 384x640 (no detections), 10.3ms\n",
            "video 1/1 (frame 15044/19159) /content/drive/MyDrive/punches/yolov10/test2.mp4: 384x640 1 jab, 10.3ms\n",
            "video 1/1 (frame 15045/19159) /content/drive/MyDrive/punches/yolov10/test2.mp4: 384x640 (no detections), 10.4ms\n",
            "video 1/1 (frame 15046/19159) /content/drive/MyDrive/punches/yolov10/test2.mp4: 384x640 (no detections), 9.9ms\n",
            "video 1/1 (frame 15047/19159) /content/drive/MyDrive/punches/yolov10/test2.mp4: 384x640 (no detections), 9.9ms\n",
            "video 1/1 (frame 15048/19159) /content/drive/MyDrive/punches/yolov10/test2.mp4: 384x640 (no detections), 10.3ms\n",
            "video 1/1 (frame 15049/19159) /content/drive/MyDrive/punches/yolov10/test2.mp4: 384x640 (no detections), 10.4ms\n",
            "video 1/1 (frame 15050/19159) /content/drive/MyDrive/punches/yolov10/test2.mp4: 384x640 (no detections), 15.7ms\n",
            "video 1/1 (frame 15051/19159) /content/drive/MyDrive/punches/yolov10/test2.mp4: 384x640 (no detections), 10.8ms\n",
            "video 1/1 (frame 15052/19159) /content/drive/MyDrive/punches/yolov10/test2.mp4: 384x640 (no detections), 11.1ms\n",
            "video 1/1 (frame 15053/19159) /content/drive/MyDrive/punches/yolov10/test2.mp4: 384x640 (no detections), 10.9ms\n",
            "video 1/1 (frame 15054/19159) /content/drive/MyDrive/punches/yolov10/test2.mp4: 384x640 (no detections), 10.2ms\n",
            "video 1/1 (frame 15055/19159) /content/drive/MyDrive/punches/yolov10/test2.mp4: 384x640 (no detections), 11.3ms\n",
            "video 1/1 (frame 15056/19159) /content/drive/MyDrive/punches/yolov10/test2.mp4: 384x640 (no detections), 10.6ms\n",
            "video 1/1 (frame 15057/19159) /content/drive/MyDrive/punches/yolov10/test2.mp4: 384x640 1 jab, 11.0ms\n",
            "video 1/1 (frame 15058/19159) /content/drive/MyDrive/punches/yolov10/test2.mp4: 384x640 (no detections), 10.5ms\n",
            "video 1/1 (frame 15059/19159) /content/drive/MyDrive/punches/yolov10/test2.mp4: 384x640 (no detections), 11.7ms\n",
            "video 1/1 (frame 15060/19159) /content/drive/MyDrive/punches/yolov10/test2.mp4: 384x640 (no detections), 10.4ms\n",
            "video 1/1 (frame 15061/19159) /content/drive/MyDrive/punches/yolov10/test2.mp4: 384x640 (no detections), 10.6ms\n",
            "video 1/1 (frame 15062/19159) /content/drive/MyDrive/punches/yolov10/test2.mp4: 384x640 1 jab, 10.5ms\n",
            "video 1/1 (frame 15063/19159) /content/drive/MyDrive/punches/yolov10/test2.mp4: 384x640 1 jab, 10.6ms\n",
            "video 1/1 (frame 15064/19159) /content/drive/MyDrive/punches/yolov10/test2.mp4: 384x640 1 jab, 10.2ms\n",
            "video 1/1 (frame 15065/19159) /content/drive/MyDrive/punches/yolov10/test2.mp4: 384x640 (no detections), 10.2ms\n",
            "video 1/1 (frame 15066/19159) /content/drive/MyDrive/punches/yolov10/test2.mp4: 384x640 1 jab, 10.7ms\n",
            "video 1/1 (frame 15067/19159) /content/drive/MyDrive/punches/yolov10/test2.mp4: 384x640 (no detections), 17.6ms\n",
            "video 1/1 (frame 15068/19159) /content/drive/MyDrive/punches/yolov10/test2.mp4: 384x640 (no detections), 11.8ms\n",
            "video 1/1 (frame 15069/19159) /content/drive/MyDrive/punches/yolov10/test2.mp4: 384x640 (no detections), 11.1ms\n",
            "video 1/1 (frame 15070/19159) /content/drive/MyDrive/punches/yolov10/test2.mp4: 384x640 (no detections), 12.3ms\n",
            "video 1/1 (frame 15071/19159) /content/drive/MyDrive/punches/yolov10/test2.mp4: 384x640 (no detections), 12.5ms\n",
            "video 1/1 (frame 15072/19159) /content/drive/MyDrive/punches/yolov10/test2.mp4: 384x640 2 jabs, 10.1ms\n",
            "video 1/1 (frame 15073/19159) /content/drive/MyDrive/punches/yolov10/test2.mp4: 384x640 1 jab, 10.7ms\n",
            "video 1/1 (frame 15074/19159) /content/drive/MyDrive/punches/yolov10/test2.mp4: 384x640 1 jab, 11.0ms\n",
            "video 1/1 (frame 15075/19159) /content/drive/MyDrive/punches/yolov10/test2.mp4: 384x640 1 jab, 10.6ms\n",
            "video 1/1 (frame 15076/19159) /content/drive/MyDrive/punches/yolov10/test2.mp4: 384x640 1 jab, 11.1ms\n",
            "video 1/1 (frame 15077/19159) /content/drive/MyDrive/punches/yolov10/test2.mp4: 384x640 1 jab, 11.0ms\n",
            "video 1/1 (frame 15078/19159) /content/drive/MyDrive/punches/yolov10/test2.mp4: 384x640 1 jab, 10.7ms\n",
            "video 1/1 (frame 15079/19159) /content/drive/MyDrive/punches/yolov10/test2.mp4: 384x640 1 jab, 10.7ms\n",
            "video 1/1 (frame 15080/19159) /content/drive/MyDrive/punches/yolov10/test2.mp4: 384x640 1 jab, 16.3ms\n",
            "video 1/1 (frame 15081/19159) /content/drive/MyDrive/punches/yolov10/test2.mp4: 384x640 1 jab, 15.3ms\n",
            "video 1/1 (frame 15082/19159) /content/drive/MyDrive/punches/yolov10/test2.mp4: 384x640 1 jab, 23.0ms\n",
            "video 1/1 (frame 15083/19159) /content/drive/MyDrive/punches/yolov10/test2.mp4: 384x640 (no detections), 12.0ms\n",
            "video 1/1 (frame 15084/19159) /content/drive/MyDrive/punches/yolov10/test2.mp4: 384x640 (no detections), 10.7ms\n",
            "video 1/1 (frame 15085/19159) /content/drive/MyDrive/punches/yolov10/test2.mp4: 384x640 1 jab, 10.3ms\n",
            "video 1/1 (frame 15086/19159) /content/drive/MyDrive/punches/yolov10/test2.mp4: 384x640 1 jab, 11.3ms\n",
            "video 1/1 (frame 15087/19159) /content/drive/MyDrive/punches/yolov10/test2.mp4: 384x640 1 jab, 10.3ms\n",
            "video 1/1 (frame 15088/19159) /content/drive/MyDrive/punches/yolov10/test2.mp4: 384x640 1 jab, 11.8ms\n",
            "video 1/1 (frame 15089/19159) /content/drive/MyDrive/punches/yolov10/test2.mp4: 384x640 1 jab, 10.2ms\n",
            "video 1/1 (frame 15090/19159) /content/drive/MyDrive/punches/yolov10/test2.mp4: 384x640 1 jab, 10.6ms\n",
            "video 1/1 (frame 15091/19159) /content/drive/MyDrive/punches/yolov10/test2.mp4: 384x640 1 jab, 14.9ms\n",
            "video 1/1 (frame 15092/19159) /content/drive/MyDrive/punches/yolov10/test2.mp4: 384x640 (no detections), 10.9ms\n",
            "video 1/1 (frame 15093/19159) /content/drive/MyDrive/punches/yolov10/test2.mp4: 384x640 (no detections), 11.1ms\n",
            "video 1/1 (frame 15094/19159) /content/drive/MyDrive/punches/yolov10/test2.mp4: 384x640 1 jab, 10.4ms\n",
            "video 1/1 (frame 15095/19159) /content/drive/MyDrive/punches/yolov10/test2.mp4: 384x640 1 jab, 10.2ms\n",
            "video 1/1 (frame 15096/19159) /content/drive/MyDrive/punches/yolov10/test2.mp4: 384x640 1 jab, 10.3ms\n",
            "video 1/1 (frame 15097/19159) /content/drive/MyDrive/punches/yolov10/test2.mp4: 384x640 2 jabs, 10.4ms\n",
            "video 1/1 (frame 15098/19159) /content/drive/MyDrive/punches/yolov10/test2.mp4: 384x640 1 jab, 13.8ms\n",
            "video 1/1 (frame 15099/19159) /content/drive/MyDrive/punches/yolov10/test2.mp4: 384x640 1 jab, 11.2ms\n",
            "video 1/1 (frame 15100/19159) /content/drive/MyDrive/punches/yolov10/test2.mp4: 384x640 1 jab, 10.2ms\n",
            "video 1/1 (frame 15101/19159) /content/drive/MyDrive/punches/yolov10/test2.mp4: 384x640 1 jab, 10.5ms\n",
            "video 1/1 (frame 15102/19159) /content/drive/MyDrive/punches/yolov10/test2.mp4: 384x640 1 jab, 10.5ms\n",
            "video 1/1 (frame 15103/19159) /content/drive/MyDrive/punches/yolov10/test2.mp4: 384x640 1 jab, 11.8ms\n",
            "video 1/1 (frame 15104/19159) /content/drive/MyDrive/punches/yolov10/test2.mp4: 384x640 1 jab, 10.5ms\n",
            "video 1/1 (frame 15105/19159) /content/drive/MyDrive/punches/yolov10/test2.mp4: 384x640 1 jab, 10.0ms\n",
            "video 1/1 (frame 15106/19159) /content/drive/MyDrive/punches/yolov10/test2.mp4: 384x640 1 jab, 9.9ms\n",
            "video 1/1 (frame 15107/19159) /content/drive/MyDrive/punches/yolov10/test2.mp4: 384x640 (no detections), 10.1ms\n",
            "video 1/1 (frame 15108/19159) /content/drive/MyDrive/punches/yolov10/test2.mp4: 384x640 (no detections), 10.3ms\n",
            "video 1/1 (frame 15109/19159) /content/drive/MyDrive/punches/yolov10/test2.mp4: 384x640 1 jab, 19.4ms\n",
            "video 1/1 (frame 15110/19159) /content/drive/MyDrive/punches/yolov10/test2.mp4: 384x640 (no detections), 9.9ms\n",
            "video 1/1 (frame 15111/19159) /content/drive/MyDrive/punches/yolov10/test2.mp4: 384x640 3 jabs, 10.3ms\n",
            "video 1/1 (frame 15112/19159) /content/drive/MyDrive/punches/yolov10/test2.mp4: 384x640 2 jabs, 10.5ms\n",
            "video 1/1 (frame 15113/19159) /content/drive/MyDrive/punches/yolov10/test2.mp4: 384x640 2 jabs, 10.1ms\n",
            "video 1/1 (frame 15114/19159) /content/drive/MyDrive/punches/yolov10/test2.mp4: 384x640 2 jabs, 10.8ms\n",
            "video 1/1 (frame 15115/19159) /content/drive/MyDrive/punches/yolov10/test2.mp4: 384x640 1 jab, 10.8ms\n",
            "video 1/1 (frame 15116/19159) /content/drive/MyDrive/punches/yolov10/test2.mp4: 384x640 1 jab, 10.3ms\n",
            "video 1/1 (frame 15117/19159) /content/drive/MyDrive/punches/yolov10/test2.mp4: 384x640 (no detections), 10.2ms\n",
            "video 1/1 (frame 15118/19159) /content/drive/MyDrive/punches/yolov10/test2.mp4: 384x640 (no detections), 11.1ms\n",
            "video 1/1 (frame 15119/19159) /content/drive/MyDrive/punches/yolov10/test2.mp4: 384x640 (no detections), 9.6ms\n",
            "video 1/1 (frame 15120/19159) /content/drive/MyDrive/punches/yolov10/test2.mp4: 384x640 3 jabs, 10.4ms\n",
            "video 1/1 (frame 15121/19159) /content/drive/MyDrive/punches/yolov10/test2.mp4: 384x640 1 jab, 10.7ms\n",
            "video 1/1 (frame 15122/19159) /content/drive/MyDrive/punches/yolov10/test2.mp4: 384x640 1 jab, 10.5ms\n",
            "video 1/1 (frame 15123/19159) /content/drive/MyDrive/punches/yolov10/test2.mp4: 384x640 1 jab, 12.2ms\n",
            "video 1/1 (frame 15124/19159) /content/drive/MyDrive/punches/yolov10/test2.mp4: 384x640 1 jab, 13.6ms\n",
            "video 1/1 (frame 15125/19159) /content/drive/MyDrive/punches/yolov10/test2.mp4: 384x640 1 jab, 15.9ms\n",
            "video 1/1 (frame 15126/19159) /content/drive/MyDrive/punches/yolov10/test2.mp4: 384x640 (no detections), 10.5ms\n",
            "video 1/1 (frame 15127/19159) /content/drive/MyDrive/punches/yolov10/test2.mp4: 384x640 (no detections), 10.5ms\n",
            "video 1/1 (frame 15128/19159) /content/drive/MyDrive/punches/yolov10/test2.mp4: 384x640 (no detections), 10.2ms\n",
            "video 1/1 (frame 15129/19159) /content/drive/MyDrive/punches/yolov10/test2.mp4: 384x640 (no detections), 10.3ms\n",
            "video 1/1 (frame 15130/19159) /content/drive/MyDrive/punches/yolov10/test2.mp4: 384x640 (no detections), 10.0ms\n",
            "video 1/1 (frame 15131/19159) /content/drive/MyDrive/punches/yolov10/test2.mp4: 384x640 1 jab, 10.0ms\n",
            "video 1/1 (frame 15132/19159) /content/drive/MyDrive/punches/yolov10/test2.mp4: 384x640 (no detections), 9.9ms\n",
            "video 1/1 (frame 15133/19159) /content/drive/MyDrive/punches/yolov10/test2.mp4: 384x640 (no detections), 9.8ms\n",
            "video 1/1 (frame 15134/19159) /content/drive/MyDrive/punches/yolov10/test2.mp4: 384x640 (no detections), 9.6ms\n",
            "video 1/1 (frame 15135/19159) /content/drive/MyDrive/punches/yolov10/test2.mp4: 384x640 (no detections), 9.7ms\n",
            "video 1/1 (frame 15136/19159) /content/drive/MyDrive/punches/yolov10/test2.mp4: 384x640 (no detections), 9.7ms\n",
            "video 1/1 (frame 15137/19159) /content/drive/MyDrive/punches/yolov10/test2.mp4: 384x640 (no detections), 10.3ms\n",
            "video 1/1 (frame 15138/19159) /content/drive/MyDrive/punches/yolov10/test2.mp4: 384x640 (no detections), 11.7ms\n",
            "video 1/1 (frame 15139/19159) /content/drive/MyDrive/punches/yolov10/test2.mp4: 384x640 (no detections), 20.4ms\n",
            "video 1/1 (frame 15140/19159) /content/drive/MyDrive/punches/yolov10/test2.mp4: 384x640 (no detections), 10.8ms\n",
            "video 1/1 (frame 15141/19159) /content/drive/MyDrive/punches/yolov10/test2.mp4: 384x640 (no detections), 10.9ms\n",
            "video 1/1 (frame 15142/19159) /content/drive/MyDrive/punches/yolov10/test2.mp4: 384x640 (no detections), 16.0ms\n",
            "video 1/1 (frame 15143/19159) /content/drive/MyDrive/punches/yolov10/test2.mp4: 384x640 1 jab, 10.7ms\n",
            "video 1/1 (frame 15144/19159) /content/drive/MyDrive/punches/yolov10/test2.mp4: 384x640 1 jab, 10.0ms\n",
            "video 1/1 (frame 15145/19159) /content/drive/MyDrive/punches/yolov10/test2.mp4: 384x640 (no detections), 10.5ms\n",
            "video 1/1 (frame 15146/19159) /content/drive/MyDrive/punches/yolov10/test2.mp4: 384x640 2 jabs, 10.2ms\n",
            "video 1/1 (frame 15147/19159) /content/drive/MyDrive/punches/yolov10/test2.mp4: 384x640 1 jab, 10.9ms\n",
            "video 1/1 (frame 15148/19159) /content/drive/MyDrive/punches/yolov10/test2.mp4: 384x640 1 jab, 11.1ms\n",
            "video 1/1 (frame 15149/19159) /content/drive/MyDrive/punches/yolov10/test2.mp4: 384x640 (no detections), 10.7ms\n",
            "video 1/1 (frame 15150/19159) /content/drive/MyDrive/punches/yolov10/test2.mp4: 384x640 (no detections), 10.4ms\n",
            "video 1/1 (frame 15151/19159) /content/drive/MyDrive/punches/yolov10/test2.mp4: 384x640 (no detections), 10.2ms\n",
            "video 1/1 (frame 15152/19159) /content/drive/MyDrive/punches/yolov10/test2.mp4: 384x640 (no detections), 10.1ms\n",
            "video 1/1 (frame 15153/19159) /content/drive/MyDrive/punches/yolov10/test2.mp4: 384x640 (no detections), 10.8ms\n",
            "video 1/1 (frame 15154/19159) /content/drive/MyDrive/punches/yolov10/test2.mp4: 384x640 (no detections), 10.7ms\n",
            "video 1/1 (frame 15155/19159) /content/drive/MyDrive/punches/yolov10/test2.mp4: 384x640 (no detections), 10.4ms\n",
            "video 1/1 (frame 15156/19159) /content/drive/MyDrive/punches/yolov10/test2.mp4: 384x640 (no detections), 10.4ms\n",
            "video 1/1 (frame 15157/19159) /content/drive/MyDrive/punches/yolov10/test2.mp4: 384x640 (no detections), 10.9ms\n",
            "video 1/1 (frame 15158/19159) /content/drive/MyDrive/punches/yolov10/test2.mp4: 384x640 (no detections), 10.9ms\n",
            "video 1/1 (frame 15159/19159) /content/drive/MyDrive/punches/yolov10/test2.mp4: 384x640 (no detections), 17.0ms\n",
            "video 1/1 (frame 15160/19159) /content/drive/MyDrive/punches/yolov10/test2.mp4: 384x640 (no detections), 10.8ms\n",
            "video 1/1 (frame 15161/19159) /content/drive/MyDrive/punches/yolov10/test2.mp4: 384x640 (no detections), 10.5ms\n",
            "video 1/1 (frame 15162/19159) /content/drive/MyDrive/punches/yolov10/test2.mp4: 384x640 (no detections), 10.5ms\n",
            "video 1/1 (frame 15163/19159) /content/drive/MyDrive/punches/yolov10/test2.mp4: 384x640 (no detections), 11.1ms\n",
            "video 1/1 (frame 15164/19159) /content/drive/MyDrive/punches/yolov10/test2.mp4: 384x640 (no detections), 10.7ms\n",
            "video 1/1 (frame 15165/19159) /content/drive/MyDrive/punches/yolov10/test2.mp4: 384x640 (no detections), 11.6ms\n",
            "video 1/1 (frame 15166/19159) /content/drive/MyDrive/punches/yolov10/test2.mp4: 384x640 (no detections), 10.3ms\n",
            "video 1/1 (frame 15167/19159) /content/drive/MyDrive/punches/yolov10/test2.mp4: 384x640 (no detections), 10.2ms\n",
            "video 1/1 (frame 15168/19159) /content/drive/MyDrive/punches/yolov10/test2.mp4: 384x640 (no detections), 10.7ms\n",
            "video 1/1 (frame 15169/19159) /content/drive/MyDrive/punches/yolov10/test2.mp4: 384x640 (no detections), 11.8ms\n",
            "video 1/1 (frame 15170/19159) /content/drive/MyDrive/punches/yolov10/test2.mp4: 384x640 (no detections), 10.1ms\n",
            "video 1/1 (frame 15171/19159) /content/drive/MyDrive/punches/yolov10/test2.mp4: 384x640 (no detections), 10.6ms\n",
            "video 1/1 (frame 15172/19159) /content/drive/MyDrive/punches/yolov10/test2.mp4: 384x640 (no detections), 11.2ms\n",
            "video 1/1 (frame 15173/19159) /content/drive/MyDrive/punches/yolov10/test2.mp4: 384x640 (no detections), 10.3ms\n",
            "video 1/1 (frame 15174/19159) /content/drive/MyDrive/punches/yolov10/test2.mp4: 384x640 (no detections), 10.1ms\n",
            "video 1/1 (frame 15175/19159) /content/drive/MyDrive/punches/yolov10/test2.mp4: 384x640 (no detections), 9.9ms\n",
            "video 1/1 (frame 15176/19159) /content/drive/MyDrive/punches/yolov10/test2.mp4: 384x640 (no detections), 10.0ms\n",
            "video 1/1 (frame 15177/19159) /content/drive/MyDrive/punches/yolov10/test2.mp4: 384x640 (no detections), 9.9ms\n",
            "video 1/1 (frame 15178/19159) /content/drive/MyDrive/punches/yolov10/test2.mp4: 384x640 (no detections), 16.4ms\n",
            "video 1/1 (frame 15179/19159) /content/drive/MyDrive/punches/yolov10/test2.mp4: 384x640 (no detections), 11.1ms\n",
            "video 1/1 (frame 15180/19159) /content/drive/MyDrive/punches/yolov10/test2.mp4: 384x640 (no detections), 10.6ms\n",
            "video 1/1 (frame 15181/19159) /content/drive/MyDrive/punches/yolov10/test2.mp4: 384x640 1 jab, 15.4ms\n",
            "video 1/1 (frame 15182/19159) /content/drive/MyDrive/punches/yolov10/test2.mp4: 384x640 1 jab, 10.5ms\n",
            "video 1/1 (frame 15183/19159) /content/drive/MyDrive/punches/yolov10/test2.mp4: 384x640 1 jab, 10.1ms\n",
            "video 1/1 (frame 15184/19159) /content/drive/MyDrive/punches/yolov10/test2.mp4: 384x640 (no detections), 11.4ms\n",
            "video 1/1 (frame 15185/19159) /content/drive/MyDrive/punches/yolov10/test2.mp4: 384x640 (no detections), 10.5ms\n",
            "video 1/1 (frame 15186/19159) /content/drive/MyDrive/punches/yolov10/test2.mp4: 384x640 (no detections), 11.0ms\n",
            "video 1/1 (frame 15187/19159) /content/drive/MyDrive/punches/yolov10/test2.mp4: 384x640 1 jab, 12.6ms\n",
            "video 1/1 (frame 15188/19159) /content/drive/MyDrive/punches/yolov10/test2.mp4: 384x640 1 jab, 11.2ms\n",
            "video 1/1 (frame 15189/19159) /content/drive/MyDrive/punches/yolov10/test2.mp4: 384x640 (no detections), 10.3ms\n",
            "video 1/1 (frame 15190/19159) /content/drive/MyDrive/punches/yolov10/test2.mp4: 384x640 (no detections), 10.2ms\n",
            "video 1/1 (frame 15191/19159) /content/drive/MyDrive/punches/yolov10/test2.mp4: 384x640 (no detections), 10.0ms\n",
            "video 1/1 (frame 15192/19159) /content/drive/MyDrive/punches/yolov10/test2.mp4: 384x640 (no detections), 10.0ms\n",
            "video 1/1 (frame 15193/19159) /content/drive/MyDrive/punches/yolov10/test2.mp4: 384x640 (no detections), 9.9ms\n",
            "video 1/1 (frame 15194/19159) /content/drive/MyDrive/punches/yolov10/test2.mp4: 384x640 1 jab, 9.8ms\n",
            "video 1/1 (frame 15195/19159) /content/drive/MyDrive/punches/yolov10/test2.mp4: 384x640 1 jab, 14.5ms\n",
            "video 1/1 (frame 15196/19159) /content/drive/MyDrive/punches/yolov10/test2.mp4: 384x640 1 jab, 10.4ms\n",
            "video 1/1 (frame 15197/19159) /content/drive/MyDrive/punches/yolov10/test2.mp4: 384x640 (no detections), 10.4ms\n",
            "video 1/1 (frame 15198/19159) /content/drive/MyDrive/punches/yolov10/test2.mp4: 384x640 (no detections), 17.9ms\n",
            "video 1/1 (frame 15199/19159) /content/drive/MyDrive/punches/yolov10/test2.mp4: 384x640 1 jab, 11.9ms\n",
            "video 1/1 (frame 15200/19159) /content/drive/MyDrive/punches/yolov10/test2.mp4: 384x640 (no detections), 11.8ms\n",
            "video 1/1 (frame 15201/19159) /content/drive/MyDrive/punches/yolov10/test2.mp4: 384x640 (no detections), 10.3ms\n",
            "video 1/1 (frame 15202/19159) /content/drive/MyDrive/punches/yolov10/test2.mp4: 384x640 1 jab, 10.3ms\n",
            "video 1/1 (frame 15203/19159) /content/drive/MyDrive/punches/yolov10/test2.mp4: 384x640 1 jab, 10.8ms\n",
            "video 1/1 (frame 15204/19159) /content/drive/MyDrive/punches/yolov10/test2.mp4: 384x640 (no detections), 10.9ms\n",
            "video 1/1 (frame 15205/19159) /content/drive/MyDrive/punches/yolov10/test2.mp4: 384x640 1 jab, 11.1ms\n",
            "video 1/1 (frame 15206/19159) /content/drive/MyDrive/punches/yolov10/test2.mp4: 384x640 1 jab, 11.2ms\n",
            "video 1/1 (frame 15207/19159) /content/drive/MyDrive/punches/yolov10/test2.mp4: 384x640 (no detections), 10.5ms\n",
            "video 1/1 (frame 15208/19159) /content/drive/MyDrive/punches/yolov10/test2.mp4: 384x640 (no detections), 10.7ms\n",
            "video 1/1 (frame 15209/19159) /content/drive/MyDrive/punches/yolov10/test2.mp4: 384x640 (no detections), 10.5ms\n",
            "video 1/1 (frame 15210/19159) /content/drive/MyDrive/punches/yolov10/test2.mp4: 384x640 1 jab, 10.6ms\n",
            "video 1/1 (frame 15211/19159) /content/drive/MyDrive/punches/yolov10/test2.mp4: 384x640 1 jab, 17.0ms\n",
            "video 1/1 (frame 15212/19159) /content/drive/MyDrive/punches/yolov10/test2.mp4: 384x640 1 jab, 12.3ms\n",
            "video 1/1 (frame 15213/19159) /content/drive/MyDrive/punches/yolov10/test2.mp4: 384x640 1 jab, 11.1ms\n",
            "video 1/1 (frame 15214/19159) /content/drive/MyDrive/punches/yolov10/test2.mp4: 384x640 1 jab, 11.2ms\n",
            "video 1/1 (frame 15215/19159) /content/drive/MyDrive/punches/yolov10/test2.mp4: 384x640 1 jab, 10.8ms\n",
            "video 1/1 (frame 15216/19159) /content/drive/MyDrive/punches/yolov10/test2.mp4: 384x640 1 jab, 10.9ms\n",
            "video 1/1 (frame 15217/19159) /content/drive/MyDrive/punches/yolov10/test2.mp4: 384x640 1 jab, 11.5ms\n",
            "video 1/1 (frame 15218/19159) /content/drive/MyDrive/punches/yolov10/test2.mp4: 384x640 1 jab, 10.8ms\n",
            "video 1/1 (frame 15219/19159) /content/drive/MyDrive/punches/yolov10/test2.mp4: 384x640 (no detections), 10.7ms\n",
            "video 1/1 (frame 15220/19159) /content/drive/MyDrive/punches/yolov10/test2.mp4: 384x640 (no detections), 10.9ms\n",
            "video 1/1 (frame 15221/19159) /content/drive/MyDrive/punches/yolov10/test2.mp4: 384x640 1 jab, 11.2ms\n",
            "video 1/1 (frame 15222/19159) /content/drive/MyDrive/punches/yolov10/test2.mp4: 384x640 1 jab, 13.5ms\n",
            "video 1/1 (frame 15223/19159) /content/drive/MyDrive/punches/yolov10/test2.mp4: 384x640 1 jab, 12.8ms\n",
            "video 1/1 (frame 15224/19159) /content/drive/MyDrive/punches/yolov10/test2.mp4: 384x640 1 jab, 10.2ms\n",
            "video 1/1 (frame 15225/19159) /content/drive/MyDrive/punches/yolov10/test2.mp4: 384x640 1 jab, 10.3ms\n",
            "video 1/1 (frame 15226/19159) /content/drive/MyDrive/punches/yolov10/test2.mp4: 384x640 (no detections), 10.6ms\n",
            "video 1/1 (frame 15227/19159) /content/drive/MyDrive/punches/yolov10/test2.mp4: 384x640 (no detections), 10.9ms\n",
            "video 1/1 (frame 15228/19159) /content/drive/MyDrive/punches/yolov10/test2.mp4: 384x640 1 jab, 11.3ms\n",
            "video 1/1 (frame 15229/19159) /content/drive/MyDrive/punches/yolov10/test2.mp4: 384x640 1 jab, 10.5ms\n",
            "video 1/1 (frame 15230/19159) /content/drive/MyDrive/punches/yolov10/test2.mp4: 384x640 (no detections), 10.4ms\n",
            "video 1/1 (frame 15231/19159) /content/drive/MyDrive/punches/yolov10/test2.mp4: 384x640 (no detections), 11.1ms\n",
            "video 1/1 (frame 15232/19159) /content/drive/MyDrive/punches/yolov10/test2.mp4: 384x640 (no detections), 10.2ms\n",
            "video 1/1 (frame 15233/19159) /content/drive/MyDrive/punches/yolov10/test2.mp4: 384x640 (no detections), 10.4ms\n",
            "video 1/1 (frame 15234/19159) /content/drive/MyDrive/punches/yolov10/test2.mp4: 384x640 (no detections), 10.6ms\n",
            "video 1/1 (frame 15235/19159) /content/drive/MyDrive/punches/yolov10/test2.mp4: 384x640 (no detections), 11.0ms\n",
            "video 1/1 (frame 15236/19159) /content/drive/MyDrive/punches/yolov10/test2.mp4: 384x640 (no detections), 11.1ms\n",
            "video 1/1 (frame 15237/19159) /content/drive/MyDrive/punches/yolov10/test2.mp4: 384x640 (no detections), 13.9ms\n",
            "video 1/1 (frame 15238/19159) /content/drive/MyDrive/punches/yolov10/test2.mp4: 384x640 (no detections), 10.4ms\n",
            "video 1/1 (frame 15239/19159) /content/drive/MyDrive/punches/yolov10/test2.mp4: 384x640 (no detections), 10.5ms\n",
            "video 1/1 (frame 15240/19159) /content/drive/MyDrive/punches/yolov10/test2.mp4: 384x640 1 jab, 17.5ms\n",
            "video 1/1 (frame 15241/19159) /content/drive/MyDrive/punches/yolov10/test2.mp4: 384x640 (no detections), 12.9ms\n",
            "video 1/1 (frame 15242/19159) /content/drive/MyDrive/punches/yolov10/test2.mp4: 384x640 (no detections), 10.5ms\n",
            "video 1/1 (frame 15243/19159) /content/drive/MyDrive/punches/yolov10/test2.mp4: 384x640 (no detections), 11.8ms\n",
            "video 1/1 (frame 15244/19159) /content/drive/MyDrive/punches/yolov10/test2.mp4: 384x640 (no detections), 10.9ms\n",
            "video 1/1 (frame 15245/19159) /content/drive/MyDrive/punches/yolov10/test2.mp4: 384x640 (no detections), 11.1ms\n",
            "video 1/1 (frame 15246/19159) /content/drive/MyDrive/punches/yolov10/test2.mp4: 384x640 (no detections), 10.2ms\n",
            "video 1/1 (frame 15247/19159) /content/drive/MyDrive/punches/yolov10/test2.mp4: 384x640 (no detections), 10.2ms\n",
            "video 1/1 (frame 15248/19159) /content/drive/MyDrive/punches/yolov10/test2.mp4: 384x640 (no detections), 10.3ms\n",
            "video 1/1 (frame 15249/19159) /content/drive/MyDrive/punches/yolov10/test2.mp4: 384x640 (no detections), 10.6ms\n",
            "video 1/1 (frame 15250/19159) /content/drive/MyDrive/punches/yolov10/test2.mp4: 384x640 (no detections), 10.3ms\n",
            "video 1/1 (frame 15251/19159) /content/drive/MyDrive/punches/yolov10/test2.mp4: 384x640 (no detections), 10.7ms\n",
            "video 1/1 (frame 15252/19159) /content/drive/MyDrive/punches/yolov10/test2.mp4: 384x640 1 jab, 10.5ms\n",
            "video 1/1 (frame 15253/19159) /content/drive/MyDrive/punches/yolov10/test2.mp4: 384x640 1 jab, 10.7ms\n",
            "video 1/1 (frame 15254/19159) /content/drive/MyDrive/punches/yolov10/test2.mp4: 384x640 (no detections), 10.0ms\n",
            "video 1/1 (frame 15255/19159) /content/drive/MyDrive/punches/yolov10/test2.mp4: 384x640 (no detections), 10.0ms\n",
            "video 1/1 (frame 15256/19159) /content/drive/MyDrive/punches/yolov10/test2.mp4: 384x640 (no detections), 20.0ms\n",
            "video 1/1 (frame 15257/19159) /content/drive/MyDrive/punches/yolov10/test2.mp4: 384x640 (no detections), 13.5ms\n",
            "video 1/1 (frame 15258/19159) /content/drive/MyDrive/punches/yolov10/test2.mp4: 384x640 (no detections), 10.4ms\n",
            "video 1/1 (frame 15259/19159) /content/drive/MyDrive/punches/yolov10/test2.mp4: 384x640 (no detections), 10.1ms\n",
            "video 1/1 (frame 15260/19159) /content/drive/MyDrive/punches/yolov10/test2.mp4: 384x640 (no detections), 10.3ms\n",
            "video 1/1 (frame 15261/19159) /content/drive/MyDrive/punches/yolov10/test2.mp4: 384x640 (no detections), 10.3ms\n",
            "video 1/1 (frame 15262/19159) /content/drive/MyDrive/punches/yolov10/test2.mp4: 384x640 (no detections), 10.6ms\n",
            "video 1/1 (frame 15263/19159) /content/drive/MyDrive/punches/yolov10/test2.mp4: 384x640 (no detections), 10.6ms\n",
            "video 1/1 (frame 15264/19159) /content/drive/MyDrive/punches/yolov10/test2.mp4: 384x640 (no detections), 10.4ms\n",
            "video 1/1 (frame 15265/19159) /content/drive/MyDrive/punches/yolov10/test2.mp4: 384x640 (no detections), 9.9ms\n",
            "video 1/1 (frame 15266/19159) /content/drive/MyDrive/punches/yolov10/test2.mp4: 384x640 (no detections), 10.8ms\n",
            "video 1/1 (frame 15267/19159) /content/drive/MyDrive/punches/yolov10/test2.mp4: 384x640 (no detections), 10.6ms\n",
            "video 1/1 (frame 15268/19159) /content/drive/MyDrive/punches/yolov10/test2.mp4: 384x640 (no detections), 10.4ms\n",
            "video 1/1 (frame 15269/19159) /content/drive/MyDrive/punches/yolov10/test2.mp4: 384x640 1 jab, 10.7ms\n",
            "video 1/1 (frame 15270/19159) /content/drive/MyDrive/punches/yolov10/test2.mp4: 384x640 1 jab, 10.4ms\n",
            "video 1/1 (frame 15271/19159) /content/drive/MyDrive/punches/yolov10/test2.mp4: 384x640 (no detections), 10.3ms\n",
            "video 1/1 (frame 15272/19159) /content/drive/MyDrive/punches/yolov10/test2.mp4: 384x640 (no detections), 10.7ms\n",
            "video 1/1 (frame 15273/19159) /content/drive/MyDrive/punches/yolov10/test2.mp4: 384x640 (no detections), 11.4ms\n",
            "video 1/1 (frame 15274/19159) /content/drive/MyDrive/punches/yolov10/test2.mp4: 384x640 (no detections), 11.0ms\n",
            "video 1/1 (frame 15275/19159) /content/drive/MyDrive/punches/yolov10/test2.mp4: 384x640 (no detections), 15.8ms\n",
            "video 1/1 (frame 15276/19159) /content/drive/MyDrive/punches/yolov10/test2.mp4: 384x640 (no detections), 10.8ms\n",
            "video 1/1 (frame 15277/19159) /content/drive/MyDrive/punches/yolov10/test2.mp4: 384x640 (no detections), 10.5ms\n",
            "video 1/1 (frame 15278/19159) /content/drive/MyDrive/punches/yolov10/test2.mp4: 384x640 (no detections), 10.8ms\n",
            "video 1/1 (frame 15279/19159) /content/drive/MyDrive/punches/yolov10/test2.mp4: 384x640 1 jab, 14.9ms\n",
            "video 1/1 (frame 15280/19159) /content/drive/MyDrive/punches/yolov10/test2.mp4: 384x640 1 jab, 10.6ms\n",
            "video 1/1 (frame 15281/19159) /content/drive/MyDrive/punches/yolov10/test2.mp4: 384x640 1 jab, 10.3ms\n",
            "video 1/1 (frame 15282/19159) /content/drive/MyDrive/punches/yolov10/test2.mp4: 384x640 (no detections), 10.2ms\n",
            "video 1/1 (frame 15283/19159) /content/drive/MyDrive/punches/yolov10/test2.mp4: 384x640 (no detections), 10.5ms\n",
            "video 1/1 (frame 15284/19159) /content/drive/MyDrive/punches/yolov10/test2.mp4: 384x640 (no detections), 10.5ms\n",
            "video 1/1 (frame 15285/19159) /content/drive/MyDrive/punches/yolov10/test2.mp4: 384x640 1 jab, 10.3ms\n",
            "video 1/1 (frame 15286/19159) /content/drive/MyDrive/punches/yolov10/test2.mp4: 384x640 1 jab, 12.4ms\n",
            "video 1/1 (frame 15287/19159) /content/drive/MyDrive/punches/yolov10/test2.mp4: 384x640 1 jab, 10.6ms\n",
            "video 1/1 (frame 15288/19159) /content/drive/MyDrive/punches/yolov10/test2.mp4: 384x640 (no detections), 10.7ms\n",
            "video 1/1 (frame 15289/19159) /content/drive/MyDrive/punches/yolov10/test2.mp4: 384x640 1 jab, 11.2ms\n",
            "video 1/1 (frame 15290/19159) /content/drive/MyDrive/punches/yolov10/test2.mp4: 384x640 (no detections), 10.5ms\n",
            "video 1/1 (frame 15291/19159) /content/drive/MyDrive/punches/yolov10/test2.mp4: 384x640 (no detections), 11.4ms\n",
            "video 1/1 (frame 15292/19159) /content/drive/MyDrive/punches/yolov10/test2.mp4: 384x640 (no detections), 16.3ms\n",
            "video 1/1 (frame 15293/19159) /content/drive/MyDrive/punches/yolov10/test2.mp4: 384x640 (no detections), 10.4ms\n",
            "video 1/1 (frame 15294/19159) /content/drive/MyDrive/punches/yolov10/test2.mp4: 384x640 (no detections), 14.1ms\n",
            "video 1/1 (frame 15295/19159) /content/drive/MyDrive/punches/yolov10/test2.mp4: 384x640 (no detections), 10.2ms\n",
            "video 1/1 (frame 15296/19159) /content/drive/MyDrive/punches/yolov10/test2.mp4: 384x640 (no detections), 10.3ms\n",
            "video 1/1 (frame 15297/19159) /content/drive/MyDrive/punches/yolov10/test2.mp4: 384x640 (no detections), 11.4ms\n",
            "video 1/1 (frame 15298/19159) /content/drive/MyDrive/punches/yolov10/test2.mp4: 384x640 (no detections), 11.3ms\n",
            "video 1/1 (frame 15299/19159) /content/drive/MyDrive/punches/yolov10/test2.mp4: 384x640 (no detections), 12.7ms\n",
            "video 1/1 (frame 15300/19159) /content/drive/MyDrive/punches/yolov10/test2.mp4: 384x640 (no detections), 10.8ms\n",
            "video 1/1 (frame 15301/19159) /content/drive/MyDrive/punches/yolov10/test2.mp4: 384x640 1 jab, 11.1ms\n",
            "video 1/1 (frame 15302/19159) /content/drive/MyDrive/punches/yolov10/test2.mp4: 384x640 (no detections), 10.8ms\n",
            "video 1/1 (frame 15303/19159) /content/drive/MyDrive/punches/yolov10/test2.mp4: 384x640 (no detections), 11.7ms\n",
            "video 1/1 (frame 15304/19159) /content/drive/MyDrive/punches/yolov10/test2.mp4: 384x640 (no detections), 10.7ms\n",
            "video 1/1 (frame 15305/19159) /content/drive/MyDrive/punches/yolov10/test2.mp4: 384x640 (no detections), 11.5ms\n",
            "video 1/1 (frame 15306/19159) /content/drive/MyDrive/punches/yolov10/test2.mp4: 384x640 (no detections), 13.1ms\n",
            "video 1/1 (frame 15307/19159) /content/drive/MyDrive/punches/yolov10/test2.mp4: 384x640 (no detections), 10.6ms\n",
            "video 1/1 (frame 15308/19159) /content/drive/MyDrive/punches/yolov10/test2.mp4: 384x640 1 jab, 10.0ms\n",
            "video 1/1 (frame 15309/19159) /content/drive/MyDrive/punches/yolov10/test2.mp4: 384x640 1 jab, 11.6ms\n",
            "video 1/1 (frame 15310/19159) /content/drive/MyDrive/punches/yolov10/test2.mp4: 384x640 (no detections), 10.6ms\n",
            "video 1/1 (frame 15311/19159) /content/drive/MyDrive/punches/yolov10/test2.mp4: 384x640 (no detections), 10.1ms\n",
            "video 1/1 (frame 15312/19159) /content/drive/MyDrive/punches/yolov10/test2.mp4: 384x640 (no detections), 10.1ms\n",
            "video 1/1 (frame 15313/19159) /content/drive/MyDrive/punches/yolov10/test2.mp4: 384x640 1 jab, 11.7ms\n",
            "video 1/1 (frame 15314/19159) /content/drive/MyDrive/punches/yolov10/test2.mp4: 384x640 (no detections), 19.3ms\n",
            "video 1/1 (frame 15315/19159) /content/drive/MyDrive/punches/yolov10/test2.mp4: 384x640 (no detections), 12.5ms\n",
            "video 1/1 (frame 15316/19159) /content/drive/MyDrive/punches/yolov10/test2.mp4: 384x640 (no detections), 10.6ms\n",
            "video 1/1 (frame 15317/19159) /content/drive/MyDrive/punches/yolov10/test2.mp4: 384x640 (no detections), 10.8ms\n",
            "video 1/1 (frame 15318/19159) /content/drive/MyDrive/punches/yolov10/test2.mp4: 384x640 (no detections), 10.9ms\n",
            "video 1/1 (frame 15319/19159) /content/drive/MyDrive/punches/yolov10/test2.mp4: 384x640 (no detections), 11.9ms\n",
            "video 1/1 (frame 15320/19159) /content/drive/MyDrive/punches/yolov10/test2.mp4: 384x640 (no detections), 10.9ms\n",
            "video 1/1 (frame 15321/19159) /content/drive/MyDrive/punches/yolov10/test2.mp4: 384x640 (no detections), 10.9ms\n",
            "video 1/1 (frame 15322/19159) /content/drive/MyDrive/punches/yolov10/test2.mp4: 384x640 (no detections), 10.9ms\n",
            "video 1/1 (frame 15323/19159) /content/drive/MyDrive/punches/yolov10/test2.mp4: 384x640 (no detections), 10.5ms\n",
            "video 1/1 (frame 15324/19159) /content/drive/MyDrive/punches/yolov10/test2.mp4: 384x640 1 jab, 11.0ms\n",
            "video 1/1 (frame 15325/19159) /content/drive/MyDrive/punches/yolov10/test2.mp4: 384x640 (no detections), 16.4ms\n",
            "video 1/1 (frame 15326/19159) /content/drive/MyDrive/punches/yolov10/test2.mp4: 384x640 (no detections), 11.2ms\n",
            "video 1/1 (frame 15327/19159) /content/drive/MyDrive/punches/yolov10/test2.mp4: 384x640 (no detections), 10.7ms\n",
            "video 1/1 (frame 15328/19159) /content/drive/MyDrive/punches/yolov10/test2.mp4: 384x640 (no detections), 10.5ms\n",
            "video 1/1 (frame 15329/19159) /content/drive/MyDrive/punches/yolov10/test2.mp4: 384x640 (no detections), 10.5ms\n",
            "video 1/1 (frame 15330/19159) /content/drive/MyDrive/punches/yolov10/test2.mp4: 384x640 (no detections), 10.5ms\n",
            "video 1/1 (frame 15331/19159) /content/drive/MyDrive/punches/yolov10/test2.mp4: 384x640 (no detections), 11.1ms\n",
            "video 1/1 (frame 15332/19159) /content/drive/MyDrive/punches/yolov10/test2.mp4: 384x640 (no detections), 11.3ms\n",
            "video 1/1 (frame 15333/19159) /content/drive/MyDrive/punches/yolov10/test2.mp4: 384x640 (no detections), 10.6ms\n",
            "video 1/1 (frame 15334/19159) /content/drive/MyDrive/punches/yolov10/test2.mp4: 384x640 (no detections), 10.9ms\n",
            "video 1/1 (frame 15335/19159) /content/drive/MyDrive/punches/yolov10/test2.mp4: 384x640 (no detections), 11.7ms\n",
            "video 1/1 (frame 15336/19159) /content/drive/MyDrive/punches/yolov10/test2.mp4: 384x640 1 jab, 11.5ms\n",
            "video 1/1 (frame 15337/19159) /content/drive/MyDrive/punches/yolov10/test2.mp4: 384x640 1 jab, 10.6ms\n",
            "video 1/1 (frame 15338/19159) /content/drive/MyDrive/punches/yolov10/test2.mp4: 384x640 1 jab, 10.6ms\n",
            "video 1/1 (frame 15339/19159) /content/drive/MyDrive/punches/yolov10/test2.mp4: 384x640 1 jab, 10.4ms\n",
            "video 1/1 (frame 15340/19159) /content/drive/MyDrive/punches/yolov10/test2.mp4: 384x640 1 jab, 10.9ms\n",
            "video 1/1 (frame 15341/19159) /content/drive/MyDrive/punches/yolov10/test2.mp4: 384x640 1 jab, 10.4ms\n",
            "video 1/1 (frame 15342/19159) /content/drive/MyDrive/punches/yolov10/test2.mp4: 384x640 (no detections), 15.0ms\n",
            "video 1/1 (frame 15343/19159) /content/drive/MyDrive/punches/yolov10/test2.mp4: 384x640 (no detections), 13.2ms\n",
            "video 1/1 (frame 15344/19159) /content/drive/MyDrive/punches/yolov10/test2.mp4: 384x640 (no detections), 10.9ms\n",
            "video 1/1 (frame 15345/19159) /content/drive/MyDrive/punches/yolov10/test2.mp4: 384x640 (no detections), 10.7ms\n",
            "video 1/1 (frame 15346/19159) /content/drive/MyDrive/punches/yolov10/test2.mp4: 384x640 1 jab, 11.2ms\n",
            "video 1/1 (frame 15347/19159) /content/drive/MyDrive/punches/yolov10/test2.mp4: 384x640 (no detections), 10.6ms\n",
            "video 1/1 (frame 15348/19159) /content/drive/MyDrive/punches/yolov10/test2.mp4: 384x640 1 jab, 10.6ms\n",
            "video 1/1 (frame 15349/19159) /content/drive/MyDrive/punches/yolov10/test2.mp4: 384x640 1 jab, 11.4ms\n",
            "video 1/1 (frame 15350/19159) /content/drive/MyDrive/punches/yolov10/test2.mp4: 384x640 1 jab, 14.3ms\n",
            "video 1/1 (frame 15351/19159) /content/drive/MyDrive/punches/yolov10/test2.mp4: 384x640 1 jab, 10.3ms\n",
            "video 1/1 (frame 15352/19159) /content/drive/MyDrive/punches/yolov10/test2.mp4: 384x640 1 jab, 10.6ms\n",
            "video 1/1 (frame 15353/19159) /content/drive/MyDrive/punches/yolov10/test2.mp4: 384x640 2 jabs, 12.8ms\n",
            "video 1/1 (frame 15354/19159) /content/drive/MyDrive/punches/yolov10/test2.mp4: 384x640 1 jab, 13.1ms\n",
            "video 1/1 (frame 15355/19159) /content/drive/MyDrive/punches/yolov10/test2.mp4: 384x640 1 jab, 11.3ms\n",
            "video 1/1 (frame 15356/19159) /content/drive/MyDrive/punches/yolov10/test2.mp4: 384x640 1 jab, 10.5ms\n",
            "video 1/1 (frame 15357/19159) /content/drive/MyDrive/punches/yolov10/test2.mp4: 384x640 1 jab, 10.5ms\n",
            "video 1/1 (frame 15358/19159) /content/drive/MyDrive/punches/yolov10/test2.mp4: 384x640 1 jab, 11.2ms\n",
            "video 1/1 (frame 15359/19159) /content/drive/MyDrive/punches/yolov10/test2.mp4: 384x640 1 jab, 12.4ms\n",
            "video 1/1 (frame 15360/19159) /content/drive/MyDrive/punches/yolov10/test2.mp4: 384x640 1 jab, 10.8ms\n",
            "video 1/1 (frame 15361/19159) /content/drive/MyDrive/punches/yolov10/test2.mp4: 384x640 1 jab, 10.7ms\n",
            "video 1/1 (frame 15362/19159) /content/drive/MyDrive/punches/yolov10/test2.mp4: 384x640 1 jab, 10.8ms\n",
            "video 1/1 (frame 15363/19159) /content/drive/MyDrive/punches/yolov10/test2.mp4: 384x640 1 jab, 10.6ms\n",
            "video 1/1 (frame 15364/19159) /content/drive/MyDrive/punches/yolov10/test2.mp4: 384x640 (no detections), 11.0ms\n",
            "video 1/1 (frame 15365/19159) /content/drive/MyDrive/punches/yolov10/test2.mp4: 384x640 (no detections), 12.3ms\n",
            "video 1/1 (frame 15366/19159) /content/drive/MyDrive/punches/yolov10/test2.mp4: 384x640 (no detections), 11.5ms\n",
            "video 1/1 (frame 15367/19159) /content/drive/MyDrive/punches/yolov10/test2.mp4: 384x640 1 jab, 10.5ms\n",
            "video 1/1 (frame 15368/19159) /content/drive/MyDrive/punches/yolov10/test2.mp4: 384x640 (no detections), 10.5ms\n",
            "video 1/1 (frame 15369/19159) /content/drive/MyDrive/punches/yolov10/test2.mp4: 384x640 (no detections), 11.1ms\n",
            "video 1/1 (frame 15370/19159) /content/drive/MyDrive/punches/yolov10/test2.mp4: 384x640 (no detections), 10.7ms\n",
            "video 1/1 (frame 15371/19159) /content/drive/MyDrive/punches/yolov10/test2.mp4: 384x640 (no detections), 18.4ms\n",
            "video 1/1 (frame 15372/19159) /content/drive/MyDrive/punches/yolov10/test2.mp4: 384x640 (no detections), 10.9ms\n",
            "video 1/1 (frame 15373/19159) /content/drive/MyDrive/punches/yolov10/test2.mp4: 384x640 (no detections), 10.5ms\n",
            "video 1/1 (frame 15374/19159) /content/drive/MyDrive/punches/yolov10/test2.mp4: 384x640 (no detections), 10.6ms\n",
            "video 1/1 (frame 15375/19159) /content/drive/MyDrive/punches/yolov10/test2.mp4: 384x640 (no detections), 17.0ms\n",
            "video 1/1 (frame 15376/19159) /content/drive/MyDrive/punches/yolov10/test2.mp4: 384x640 (no detections), 11.5ms\n",
            "video 1/1 (frame 15377/19159) /content/drive/MyDrive/punches/yolov10/test2.mp4: 384x640 (no detections), 10.5ms\n",
            "video 1/1 (frame 15378/19159) /content/drive/MyDrive/punches/yolov10/test2.mp4: 384x640 (no detections), 17.6ms\n",
            "video 1/1 (frame 15379/19159) /content/drive/MyDrive/punches/yolov10/test2.mp4: 384x640 (no detections), 10.7ms\n",
            "video 1/1 (frame 15380/19159) /content/drive/MyDrive/punches/yolov10/test2.mp4: 384x640 1 jab, 11.0ms\n",
            "video 1/1 (frame 15381/19159) /content/drive/MyDrive/punches/yolov10/test2.mp4: 384x640 (no detections), 10.6ms\n",
            "video 1/1 (frame 15382/19159) /content/drive/MyDrive/punches/yolov10/test2.mp4: 384x640 (no detections), 11.1ms\n",
            "video 1/1 (frame 15383/19159) /content/drive/MyDrive/punches/yolov10/test2.mp4: 384x640 (no detections), 10.9ms\n",
            "video 1/1 (frame 15384/19159) /content/drive/MyDrive/punches/yolov10/test2.mp4: 384x640 1 jab, 11.2ms\n",
            "video 1/1 (frame 15385/19159) /content/drive/MyDrive/punches/yolov10/test2.mp4: 384x640 1 jab, 14.3ms\n",
            "video 1/1 (frame 15386/19159) /content/drive/MyDrive/punches/yolov10/test2.mp4: 384x640 (no detections), 10.9ms\n",
            "video 1/1 (frame 15387/19159) /content/drive/MyDrive/punches/yolov10/test2.mp4: 384x640 (no detections), 11.1ms\n",
            "video 1/1 (frame 15388/19159) /content/drive/MyDrive/punches/yolov10/test2.mp4: 384x640 (no detections), 10.9ms\n",
            "video 1/1 (frame 15389/19159) /content/drive/MyDrive/punches/yolov10/test2.mp4: 384x640 (no detections), 10.8ms\n",
            "video 1/1 (frame 15390/19159) /content/drive/MyDrive/punches/yolov10/test2.mp4: 384x640 (no detections), 13.0ms\n",
            "video 1/1 (frame 15391/19159) /content/drive/MyDrive/punches/yolov10/test2.mp4: 384x640 (no detections), 13.2ms\n",
            "video 1/1 (frame 15392/19159) /content/drive/MyDrive/punches/yolov10/test2.mp4: 384x640 1 jab, 14.7ms\n",
            "video 1/1 (frame 15393/19159) /content/drive/MyDrive/punches/yolov10/test2.mp4: 384x640 (no detections), 10.9ms\n",
            "video 1/1 (frame 15394/19159) /content/drive/MyDrive/punches/yolov10/test2.mp4: 384x640 (no detections), 10.5ms\n",
            "video 1/1 (frame 15395/19159) /content/drive/MyDrive/punches/yolov10/test2.mp4: 384x640 1 jab, 11.0ms\n",
            "video 1/1 (frame 15396/19159) /content/drive/MyDrive/punches/yolov10/test2.mp4: 384x640 1 jab, 11.2ms\n",
            "video 1/1 (frame 15397/19159) /content/drive/MyDrive/punches/yolov10/test2.mp4: 384x640 1 jab, 10.7ms\n",
            "video 1/1 (frame 15398/19159) /content/drive/MyDrive/punches/yolov10/test2.mp4: 384x640 2 jabs, 10.4ms\n",
            "video 1/1 (frame 15399/19159) /content/drive/MyDrive/punches/yolov10/test2.mp4: 384x640 2 jabs, 11.8ms\n",
            "video 1/1 (frame 15400/19159) /content/drive/MyDrive/punches/yolov10/test2.mp4: 384x640 1 jab, 10.9ms\n",
            "video 1/1 (frame 15401/19159) /content/drive/MyDrive/punches/yolov10/test2.mp4: 384x640 1 jab, 11.1ms\n",
            "video 1/1 (frame 15402/19159) /content/drive/MyDrive/punches/yolov10/test2.mp4: 384x640 1 jab, 11.8ms\n",
            "video 1/1 (frame 15403/19159) /content/drive/MyDrive/punches/yolov10/test2.mp4: 384x640 (no detections), 10.3ms\n",
            "video 1/1 (frame 15404/19159) /content/drive/MyDrive/punches/yolov10/test2.mp4: 384x640 (no detections), 15.1ms\n",
            "video 1/1 (frame 15405/19159) /content/drive/MyDrive/punches/yolov10/test2.mp4: 384x640 (no detections), 10.1ms\n",
            "video 1/1 (frame 15406/19159) /content/drive/MyDrive/punches/yolov10/test2.mp4: 384x640 (no detections), 10.5ms\n",
            "video 1/1 (frame 15407/19159) /content/drive/MyDrive/punches/yolov10/test2.mp4: 384x640 (no detections), 10.4ms\n",
            "video 1/1 (frame 15408/19159) /content/drive/MyDrive/punches/yolov10/test2.mp4: 384x640 (no detections), 16.4ms\n",
            "video 1/1 (frame 15409/19159) /content/drive/MyDrive/punches/yolov10/test2.mp4: 384x640 (no detections), 13.0ms\n",
            "video 1/1 (frame 15410/19159) /content/drive/MyDrive/punches/yolov10/test2.mp4: 384x640 (no detections), 12.3ms\n",
            "video 1/1 (frame 15411/19159) /content/drive/MyDrive/punches/yolov10/test2.mp4: 384x640 (no detections), 10.4ms\n",
            "video 1/1 (frame 15412/19159) /content/drive/MyDrive/punches/yolov10/test2.mp4: 384x640 (no detections), 10.8ms\n",
            "video 1/1 (frame 15413/19159) /content/drive/MyDrive/punches/yolov10/test2.mp4: 384x640 (no detections), 10.7ms\n",
            "video 1/1 (frame 15414/19159) /content/drive/MyDrive/punches/yolov10/test2.mp4: 384x640 (no detections), 10.2ms\n",
            "video 1/1 (frame 15415/19159) /content/drive/MyDrive/punches/yolov10/test2.mp4: 384x640 (no detections), 10.3ms\n",
            "video 1/1 (frame 15416/19159) /content/drive/MyDrive/punches/yolov10/test2.mp4: 384x640 (no detections), 10.7ms\n",
            "video 1/1 (frame 15417/19159) /content/drive/MyDrive/punches/yolov10/test2.mp4: 384x640 (no detections), 10.5ms\n",
            "video 1/1 (frame 15418/19159) /content/drive/MyDrive/punches/yolov10/test2.mp4: 384x640 (no detections), 10.4ms\n",
            "video 1/1 (frame 15419/19159) /content/drive/MyDrive/punches/yolov10/test2.mp4: 384x640 (no detections), 11.1ms\n",
            "video 1/1 (frame 15420/19159) /content/drive/MyDrive/punches/yolov10/test2.mp4: 384x640 (no detections), 11.7ms\n",
            "video 1/1 (frame 15421/19159) /content/drive/MyDrive/punches/yolov10/test2.mp4: 384x640 (no detections), 10.4ms\n",
            "video 1/1 (frame 15422/19159) /content/drive/MyDrive/punches/yolov10/test2.mp4: 384x640 (no detections), 10.7ms\n",
            "video 1/1 (frame 15423/19159) /content/drive/MyDrive/punches/yolov10/test2.mp4: 384x640 (no detections), 10.4ms\n",
            "video 1/1 (frame 15424/19159) /content/drive/MyDrive/punches/yolov10/test2.mp4: 384x640 (no detections), 15.8ms\n",
            "video 1/1 (frame 15425/19159) /content/drive/MyDrive/punches/yolov10/test2.mp4: 384x640 (no detections), 15.7ms\n",
            "video 1/1 (frame 15426/19159) /content/drive/MyDrive/punches/yolov10/test2.mp4: 384x640 (no detections), 11.8ms\n",
            "video 1/1 (frame 15427/19159) /content/drive/MyDrive/punches/yolov10/test2.mp4: 384x640 1 jab, 18.6ms\n",
            "video 1/1 (frame 15428/19159) /content/drive/MyDrive/punches/yolov10/test2.mp4: 384x640 1 jab, 11.1ms\n",
            "video 1/1 (frame 15429/19159) /content/drive/MyDrive/punches/yolov10/test2.mp4: 384x640 1 jab, 11.9ms\n",
            "video 1/1 (frame 15430/19159) /content/drive/MyDrive/punches/yolov10/test2.mp4: 384x640 1 jab, 10.6ms\n",
            "video 1/1 (frame 15431/19159) /content/drive/MyDrive/punches/yolov10/test2.mp4: 384x640 1 jab, 10.2ms\n",
            "video 1/1 (frame 15432/19159) /content/drive/MyDrive/punches/yolov10/test2.mp4: 384x640 1 jab, 10.5ms\n",
            "video 1/1 (frame 15433/19159) /content/drive/MyDrive/punches/yolov10/test2.mp4: 384x640 1 jab, 10.1ms\n",
            "video 1/1 (frame 15434/19159) /content/drive/MyDrive/punches/yolov10/test2.mp4: 384x640 (no detections), 10.4ms\n",
            "video 1/1 (frame 15435/19159) /content/drive/MyDrive/punches/yolov10/test2.mp4: 384x640 (no detections), 10.7ms\n",
            "video 1/1 (frame 15436/19159) /content/drive/MyDrive/punches/yolov10/test2.mp4: 384x640 1 jab, 10.2ms\n",
            "video 1/1 (frame 15437/19159) /content/drive/MyDrive/punches/yolov10/test2.mp4: 384x640 1 jab, 10.8ms\n",
            "video 1/1 (frame 15438/19159) /content/drive/MyDrive/punches/yolov10/test2.mp4: 384x640 (no detections), 11.0ms\n",
            "video 1/1 (frame 15439/19159) /content/drive/MyDrive/punches/yolov10/test2.mp4: 384x640 (no detections), 17.1ms\n",
            "video 1/1 (frame 15440/19159) /content/drive/MyDrive/punches/yolov10/test2.mp4: 384x640 (no detections), 19.4ms\n",
            "video 1/1 (frame 15441/19159) /content/drive/MyDrive/punches/yolov10/test2.mp4: 384x640 (no detections), 13.8ms\n",
            "video 1/1 (frame 15442/19159) /content/drive/MyDrive/punches/yolov10/test2.mp4: 384x640 (no detections), 11.6ms\n",
            "video 1/1 (frame 15443/19159) /content/drive/MyDrive/punches/yolov10/test2.mp4: 384x640 (no detections), 12.3ms\n",
            "video 1/1 (frame 15444/19159) /content/drive/MyDrive/punches/yolov10/test2.mp4: 384x640 (no detections), 11.4ms\n",
            "video 1/1 (frame 15445/19159) /content/drive/MyDrive/punches/yolov10/test2.mp4: 384x640 (no detections), 11.5ms\n",
            "video 1/1 (frame 15446/19159) /content/drive/MyDrive/punches/yolov10/test2.mp4: 384x640 (no detections), 10.6ms\n",
            "video 1/1 (frame 15447/19159) /content/drive/MyDrive/punches/yolov10/test2.mp4: 384x640 (no detections), 10.7ms\n",
            "video 1/1 (frame 15448/19159) /content/drive/MyDrive/punches/yolov10/test2.mp4: 384x640 (no detections), 10.1ms\n",
            "video 1/1 (frame 15449/19159) /content/drive/MyDrive/punches/yolov10/test2.mp4: 384x640 (no detections), 18.3ms\n",
            "video 1/1 (frame 15450/19159) /content/drive/MyDrive/punches/yolov10/test2.mp4: 384x640 (no detections), 17.7ms\n",
            "video 1/1 (frame 15451/19159) /content/drive/MyDrive/punches/yolov10/test2.mp4: 384x640 (no detections), 19.7ms\n",
            "video 1/1 (frame 15452/19159) /content/drive/MyDrive/punches/yolov10/test2.mp4: 384x640 1 jab, 17.8ms\n",
            "video 1/1 (frame 15453/19159) /content/drive/MyDrive/punches/yolov10/test2.mp4: 384x640 (no detections), 20.9ms\n",
            "video 1/1 (frame 15454/19159) /content/drive/MyDrive/punches/yolov10/test2.mp4: 384x640 (no detections), 25.4ms\n",
            "video 1/1 (frame 15455/19159) /content/drive/MyDrive/punches/yolov10/test2.mp4: 384x640 (no detections), 17.9ms\n",
            "video 1/1 (frame 15456/19159) /content/drive/MyDrive/punches/yolov10/test2.mp4: 384x640 (no detections), 14.1ms\n",
            "video 1/1 (frame 15457/19159) /content/drive/MyDrive/punches/yolov10/test2.mp4: 384x640 (no detections), 13.8ms\n",
            "video 1/1 (frame 15458/19159) /content/drive/MyDrive/punches/yolov10/test2.mp4: 384x640 (no detections), 16.6ms\n",
            "video 1/1 (frame 15459/19159) /content/drive/MyDrive/punches/yolov10/test2.mp4: 384x640 (no detections), 13.9ms\n",
            "video 1/1 (frame 15460/19159) /content/drive/MyDrive/punches/yolov10/test2.mp4: 384x640 (no detections), 14.5ms\n",
            "video 1/1 (frame 15461/19159) /content/drive/MyDrive/punches/yolov10/test2.mp4: 384x640 (no detections), 16.3ms\n",
            "video 1/1 (frame 15462/19159) /content/drive/MyDrive/punches/yolov10/test2.mp4: 384x640 (no detections), 14.7ms\n",
            "video 1/1 (frame 15463/19159) /content/drive/MyDrive/punches/yolov10/test2.mp4: 384x640 (no detections), 14.1ms\n",
            "video 1/1 (frame 15464/19159) /content/drive/MyDrive/punches/yolov10/test2.mp4: 384x640 (no detections), 18.8ms\n",
            "video 1/1 (frame 15465/19159) /content/drive/MyDrive/punches/yolov10/test2.mp4: 384x640 (no detections), 14.8ms\n",
            "video 1/1 (frame 15466/19159) /content/drive/MyDrive/punches/yolov10/test2.mp4: 384x640 (no detections), 14.9ms\n",
            "video 1/1 (frame 15467/19159) /content/drive/MyDrive/punches/yolov10/test2.mp4: 384x640 (no detections), 17.2ms\n",
            "video 1/1 (frame 15468/19159) /content/drive/MyDrive/punches/yolov10/test2.mp4: 384x640 (no detections), 13.9ms\n",
            "video 1/1 (frame 15469/19159) /content/drive/MyDrive/punches/yolov10/test2.mp4: 384x640 (no detections), 17.9ms\n",
            "video 1/1 (frame 15470/19159) /content/drive/MyDrive/punches/yolov10/test2.mp4: 384x640 (no detections), 13.7ms\n",
            "video 1/1 (frame 15471/19159) /content/drive/MyDrive/punches/yolov10/test2.mp4: 384x640 (no detections), 14.7ms\n",
            "video 1/1 (frame 15472/19159) /content/drive/MyDrive/punches/yolov10/test2.mp4: 384x640 (no detections), 23.9ms\n",
            "video 1/1 (frame 15473/19159) /content/drive/MyDrive/punches/yolov10/test2.mp4: 384x640 (no detections), 15.5ms\n",
            "video 1/1 (frame 15474/19159) /content/drive/MyDrive/punches/yolov10/test2.mp4: 384x640 (no detections), 13.3ms\n",
            "video 1/1 (frame 15475/19159) /content/drive/MyDrive/punches/yolov10/test2.mp4: 384x640 (no detections), 13.5ms\n",
            "video 1/1 (frame 15476/19159) /content/drive/MyDrive/punches/yolov10/test2.mp4: 384x640 (no detections), 13.5ms\n",
            "video 1/1 (frame 15477/19159) /content/drive/MyDrive/punches/yolov10/test2.mp4: 384x640 (no detections), 13.5ms\n",
            "video 1/1 (frame 15478/19159) /content/drive/MyDrive/punches/yolov10/test2.mp4: 384x640 (no detections), 13.2ms\n",
            "video 1/1 (frame 15479/19159) /content/drive/MyDrive/punches/yolov10/test2.mp4: 384x640 (no detections), 14.2ms\n",
            "video 1/1 (frame 15480/19159) /content/drive/MyDrive/punches/yolov10/test2.mp4: 384x640 (no detections), 13.5ms\n",
            "video 1/1 (frame 15481/19159) /content/drive/MyDrive/punches/yolov10/test2.mp4: 384x640 (no detections), 13.1ms\n",
            "video 1/1 (frame 15482/19159) /content/drive/MyDrive/punches/yolov10/test2.mp4: 384x640 (no detections), 13.5ms\n",
            "video 1/1 (frame 15483/19159) /content/drive/MyDrive/punches/yolov10/test2.mp4: 384x640 (no detections), 13.9ms\n",
            "video 1/1 (frame 15484/19159) /content/drive/MyDrive/punches/yolov10/test2.mp4: 384x640 (no detections), 13.8ms\n",
            "video 1/1 (frame 15485/19159) /content/drive/MyDrive/punches/yolov10/test2.mp4: 384x640 (no detections), 15.3ms\n",
            "video 1/1 (frame 15486/19159) /content/drive/MyDrive/punches/yolov10/test2.mp4: 384x640 (no detections), 14.3ms\n",
            "video 1/1 (frame 15487/19159) /content/drive/MyDrive/punches/yolov10/test2.mp4: 384x640 (no detections), 19.4ms\n",
            "video 1/1 (frame 15488/19159) /content/drive/MyDrive/punches/yolov10/test2.mp4: 384x640 (no detections), 19.0ms\n",
            "video 1/1 (frame 15489/19159) /content/drive/MyDrive/punches/yolov10/test2.mp4: 384x640 (no detections), 21.0ms\n",
            "video 1/1 (frame 15490/19159) /content/drive/MyDrive/punches/yolov10/test2.mp4: 384x640 (no detections), 18.0ms\n",
            "video 1/1 (frame 15491/19159) /content/drive/MyDrive/punches/yolov10/test2.mp4: 384x640 (no detections), 18.0ms\n",
            "video 1/1 (frame 15492/19159) /content/drive/MyDrive/punches/yolov10/test2.mp4: 384x640 (no detections), 21.1ms\n",
            "video 1/1 (frame 15493/19159) /content/drive/MyDrive/punches/yolov10/test2.mp4: 384x640 (no detections), 16.7ms\n",
            "video 1/1 (frame 15494/19159) /content/drive/MyDrive/punches/yolov10/test2.mp4: 384x640 (no detections), 18.1ms\n",
            "video 1/1 (frame 15495/19159) /content/drive/MyDrive/punches/yolov10/test2.mp4: 384x640 (no detections), 18.5ms\n",
            "video 1/1 (frame 15496/19159) /content/drive/MyDrive/punches/yolov10/test2.mp4: 384x640 (no detections), 21.0ms\n",
            "video 1/1 (frame 15497/19159) /content/drive/MyDrive/punches/yolov10/test2.mp4: 384x640 (no detections), 14.8ms\n",
            "video 1/1 (frame 15498/19159) /content/drive/MyDrive/punches/yolov10/test2.mp4: 384x640 (no detections), 13.8ms\n",
            "video 1/1 (frame 15499/19159) /content/drive/MyDrive/punches/yolov10/test2.mp4: 384x640 (no detections), 20.6ms\n",
            "video 1/1 (frame 15500/19159) /content/drive/MyDrive/punches/yolov10/test2.mp4: 384x640 1 jab, 21.0ms\n",
            "video 1/1 (frame 15501/19159) /content/drive/MyDrive/punches/yolov10/test2.mp4: 384x640 (no detections), 14.8ms\n",
            "video 1/1 (frame 15502/19159) /content/drive/MyDrive/punches/yolov10/test2.mp4: 384x640 (no detections), 14.8ms\n",
            "video 1/1 (frame 15503/19159) /content/drive/MyDrive/punches/yolov10/test2.mp4: 384x640 (no detections), 18.5ms\n",
            "video 1/1 (frame 15504/19159) /content/drive/MyDrive/punches/yolov10/test2.mp4: 384x640 (no detections), 14.8ms\n",
            "video 1/1 (frame 15505/19159) /content/drive/MyDrive/punches/yolov10/test2.mp4: 384x640 (no detections), 16.0ms\n",
            "video 1/1 (frame 15506/19159) /content/drive/MyDrive/punches/yolov10/test2.mp4: 384x640 (no detections), 13.4ms\n",
            "video 1/1 (frame 15507/19159) /content/drive/MyDrive/punches/yolov10/test2.mp4: 384x640 (no detections), 15.8ms\n",
            "video 1/1 (frame 15508/19159) /content/drive/MyDrive/punches/yolov10/test2.mp4: 384x640 (no detections), 16.6ms\n",
            "video 1/1 (frame 15509/19159) /content/drive/MyDrive/punches/yolov10/test2.mp4: 384x640 (no detections), 14.0ms\n",
            "video 1/1 (frame 15510/19159) /content/drive/MyDrive/punches/yolov10/test2.mp4: 384x640 (no detections), 14.3ms\n",
            "video 1/1 (frame 15511/19159) /content/drive/MyDrive/punches/yolov10/test2.mp4: 384x640 (no detections), 13.9ms\n",
            "video 1/1 (frame 15512/19159) /content/drive/MyDrive/punches/yolov10/test2.mp4: 384x640 (no detections), 17.5ms\n",
            "video 1/1 (frame 15513/19159) /content/drive/MyDrive/punches/yolov10/test2.mp4: 384x640 (no detections), 21.7ms\n",
            "video 1/1 (frame 15514/19159) /content/drive/MyDrive/punches/yolov10/test2.mp4: 384x640 (no detections), 15.3ms\n",
            "video 1/1 (frame 15515/19159) /content/drive/MyDrive/punches/yolov10/test2.mp4: 384x640 (no detections), 13.8ms\n",
            "video 1/1 (frame 15516/19159) /content/drive/MyDrive/punches/yolov10/test2.mp4: 384x640 (no detections), 14.8ms\n",
            "video 1/1 (frame 15517/19159) /content/drive/MyDrive/punches/yolov10/test2.mp4: 384x640 (no detections), 15.8ms\n",
            "video 1/1 (frame 15518/19159) /content/drive/MyDrive/punches/yolov10/test2.mp4: 384x640 (no detections), 14.8ms\n",
            "video 1/1 (frame 15519/19159) /content/drive/MyDrive/punches/yolov10/test2.mp4: 384x640 (no detections), 17.8ms\n",
            "video 1/1 (frame 15520/19159) /content/drive/MyDrive/punches/yolov10/test2.mp4: 384x640 (no detections), 16.5ms\n",
            "video 1/1 (frame 15521/19159) /content/drive/MyDrive/punches/yolov10/test2.mp4: 384x640 (no detections), 14.5ms\n",
            "video 1/1 (frame 15522/19159) /content/drive/MyDrive/punches/yolov10/test2.mp4: 384x640 1 jab, 14.4ms\n",
            "video 1/1 (frame 15523/19159) /content/drive/MyDrive/punches/yolov10/test2.mp4: 384x640 1 jab, 14.6ms\n",
            "video 1/1 (frame 15524/19159) /content/drive/MyDrive/punches/yolov10/test2.mp4: 384x640 1 jab, 19.3ms\n",
            "video 1/1 (frame 15525/19159) /content/drive/MyDrive/punches/yolov10/test2.mp4: 384x640 1 jab, 15.1ms\n",
            "video 1/1 (frame 15526/19159) /content/drive/MyDrive/punches/yolov10/test2.mp4: 384x640 1 jab, 14.1ms\n",
            "video 1/1 (frame 15527/19159) /content/drive/MyDrive/punches/yolov10/test2.mp4: 384x640 (no detections), 13.5ms\n",
            "video 1/1 (frame 15528/19159) /content/drive/MyDrive/punches/yolov10/test2.mp4: 384x640 (no detections), 13.3ms\n",
            "video 1/1 (frame 15529/19159) /content/drive/MyDrive/punches/yolov10/test2.mp4: 384x640 1 jab, 12.9ms\n",
            "video 1/1 (frame 15530/19159) /content/drive/MyDrive/punches/yolov10/test2.mp4: 384x640 (no detections), 16.8ms\n",
            "video 1/1 (frame 15531/19159) /content/drive/MyDrive/punches/yolov10/test2.mp4: 384x640 (no detections), 19.9ms\n",
            "video 1/1 (frame 15532/19159) /content/drive/MyDrive/punches/yolov10/test2.mp4: 384x640 (no detections), 13.7ms\n",
            "video 1/1 (frame 15533/19159) /content/drive/MyDrive/punches/yolov10/test2.mp4: 384x640 (no detections), 13.0ms\n",
            "video 1/1 (frame 15534/19159) /content/drive/MyDrive/punches/yolov10/test2.mp4: 384x640 (no detections), 13.2ms\n",
            "video 1/1 (frame 15535/19159) /content/drive/MyDrive/punches/yolov10/test2.mp4: 384x640 (no detections), 14.5ms\n",
            "video 1/1 (frame 15536/19159) /content/drive/MyDrive/punches/yolov10/test2.mp4: 384x640 (no detections), 13.2ms\n",
            "video 1/1 (frame 15537/19159) /content/drive/MyDrive/punches/yolov10/test2.mp4: 384x640 (no detections), 13.3ms\n",
            "video 1/1 (frame 15538/19159) /content/drive/MyDrive/punches/yolov10/test2.mp4: 384x640 (no detections), 13.1ms\n",
            "video 1/1 (frame 15539/19159) /content/drive/MyDrive/punches/yolov10/test2.mp4: 384x640 (no detections), 13.1ms\n",
            "video 1/1 (frame 15540/19159) /content/drive/MyDrive/punches/yolov10/test2.mp4: 384x640 (no detections), 13.1ms\n",
            "video 1/1 (frame 15541/19159) /content/drive/MyDrive/punches/yolov10/test2.mp4: 384x640 (no detections), 13.1ms\n",
            "video 1/1 (frame 15542/19159) /content/drive/MyDrive/punches/yolov10/test2.mp4: 384x640 (no detections), 13.6ms\n",
            "video 1/1 (frame 15543/19159) /content/drive/MyDrive/punches/yolov10/test2.mp4: 384x640 (no detections), 17.9ms\n",
            "video 1/1 (frame 15544/19159) /content/drive/MyDrive/punches/yolov10/test2.mp4: 384x640 (no detections), 17.2ms\n",
            "video 1/1 (frame 15545/19159) /content/drive/MyDrive/punches/yolov10/test2.mp4: 384x640 (no detections), 24.0ms\n",
            "video 1/1 (frame 15546/19159) /content/drive/MyDrive/punches/yolov10/test2.mp4: 384x640 (no detections), 18.0ms\n",
            "video 1/1 (frame 15547/19159) /content/drive/MyDrive/punches/yolov10/test2.mp4: 384x640 (no detections), 20.6ms\n",
            "video 1/1 (frame 15548/19159) /content/drive/MyDrive/punches/yolov10/test2.mp4: 384x640 (no detections), 19.8ms\n",
            "video 1/1 (frame 15549/19159) /content/drive/MyDrive/punches/yolov10/test2.mp4: 384x640 (no detections), 20.1ms\n",
            "video 1/1 (frame 15550/19159) /content/drive/MyDrive/punches/yolov10/test2.mp4: 384x640 (no detections), 14.7ms\n",
            "video 1/1 (frame 15551/19159) /content/drive/MyDrive/punches/yolov10/test2.mp4: 384x640 (no detections), 13.7ms\n",
            "video 1/1 (frame 15552/19159) /content/drive/MyDrive/punches/yolov10/test2.mp4: 384x640 (no detections), 16.0ms\n",
            "video 1/1 (frame 15553/19159) /content/drive/MyDrive/punches/yolov10/test2.mp4: 384x640 (no detections), 13.9ms\n",
            "video 1/1 (frame 15554/19159) /content/drive/MyDrive/punches/yolov10/test2.mp4: 384x640 (no detections), 19.0ms\n",
            "video 1/1 (frame 15555/19159) /content/drive/MyDrive/punches/yolov10/test2.mp4: 384x640 (no detections), 18.4ms\n",
            "video 1/1 (frame 15556/19159) /content/drive/MyDrive/punches/yolov10/test2.mp4: 384x640 (no detections), 26.3ms\n",
            "video 1/1 (frame 15557/19159) /content/drive/MyDrive/punches/yolov10/test2.mp4: 384x640 (no detections), 20.8ms\n",
            "video 1/1 (frame 15558/19159) /content/drive/MyDrive/punches/yolov10/test2.mp4: 384x640 (no detections), 21.4ms\n",
            "video 1/1 (frame 15559/19159) /content/drive/MyDrive/punches/yolov10/test2.mp4: 384x640 (no detections), 15.2ms\n",
            "video 1/1 (frame 15560/19159) /content/drive/MyDrive/punches/yolov10/test2.mp4: 384x640 (no detections), 16.6ms\n",
            "video 1/1 (frame 15561/19159) /content/drive/MyDrive/punches/yolov10/test2.mp4: 384x640 (no detections), 17.7ms\n",
            "video 1/1 (frame 15562/19159) /content/drive/MyDrive/punches/yolov10/test2.mp4: 384x640 (no detections), 17.7ms\n",
            "video 1/1 (frame 15563/19159) /content/drive/MyDrive/punches/yolov10/test2.mp4: 384x640 (no detections), 18.9ms\n",
            "video 1/1 (frame 15564/19159) /content/drive/MyDrive/punches/yolov10/test2.mp4: 384x640 (no detections), 17.4ms\n",
            "video 1/1 (frame 15565/19159) /content/drive/MyDrive/punches/yolov10/test2.mp4: 384x640 (no detections), 18.9ms\n",
            "video 1/1 (frame 15566/19159) /content/drive/MyDrive/punches/yolov10/test2.mp4: 384x640 (no detections), 18.3ms\n",
            "video 1/1 (frame 15567/19159) /content/drive/MyDrive/punches/yolov10/test2.mp4: 384x640 (no detections), 20.5ms\n",
            "video 1/1 (frame 15568/19159) /content/drive/MyDrive/punches/yolov10/test2.mp4: 384x640 (no detections), 18.8ms\n",
            "video 1/1 (frame 15569/19159) /content/drive/MyDrive/punches/yolov10/test2.mp4: 384x640 (no detections), 16.5ms\n",
            "video 1/1 (frame 15570/19159) /content/drive/MyDrive/punches/yolov10/test2.mp4: 384x640 (no detections), 16.3ms\n",
            "video 1/1 (frame 15571/19159) /content/drive/MyDrive/punches/yolov10/test2.mp4: 384x640 (no detections), 17.2ms\n",
            "video 1/1 (frame 15572/19159) /content/drive/MyDrive/punches/yolov10/test2.mp4: 384x640 (no detections), 18.3ms\n",
            "video 1/1 (frame 15573/19159) /content/drive/MyDrive/punches/yolov10/test2.mp4: 384x640 (no detections), 15.7ms\n",
            "video 1/1 (frame 15574/19159) /content/drive/MyDrive/punches/yolov10/test2.mp4: 384x640 (no detections), 15.5ms\n",
            "video 1/1 (frame 15575/19159) /content/drive/MyDrive/punches/yolov10/test2.mp4: 384x640 (no detections), 17.6ms\n",
            "video 1/1 (frame 15576/19159) /content/drive/MyDrive/punches/yolov10/test2.mp4: 384x640 (no detections), 15.2ms\n",
            "video 1/1 (frame 15577/19159) /content/drive/MyDrive/punches/yolov10/test2.mp4: 384x640 (no detections), 16.8ms\n",
            "video 1/1 (frame 15578/19159) /content/drive/MyDrive/punches/yolov10/test2.mp4: 384x640 1 jab, 18.1ms\n",
            "video 1/1 (frame 15579/19159) /content/drive/MyDrive/punches/yolov10/test2.mp4: 384x640 (no detections), 19.5ms\n",
            "video 1/1 (frame 15580/19159) /content/drive/MyDrive/punches/yolov10/test2.mp4: 384x640 (no detections), 17.3ms\n",
            "video 1/1 (frame 15581/19159) /content/drive/MyDrive/punches/yolov10/test2.mp4: 384x640 (no detections), 19.1ms\n",
            "video 1/1 (frame 15582/19159) /content/drive/MyDrive/punches/yolov10/test2.mp4: 384x640 1 jab, 19.0ms\n",
            "video 1/1 (frame 15583/19159) /content/drive/MyDrive/punches/yolov10/test2.mp4: 384x640 2 jabs, 21.4ms\n",
            "video 1/1 (frame 15584/19159) /content/drive/MyDrive/punches/yolov10/test2.mp4: 384x640 1 jab, 19.0ms\n",
            "video 1/1 (frame 15585/19159) /content/drive/MyDrive/punches/yolov10/test2.mp4: 384x640 1 jab, 23.9ms\n",
            "video 1/1 (frame 15586/19159) /content/drive/MyDrive/punches/yolov10/test2.mp4: 384x640 1 jab, 19.3ms\n",
            "video 1/1 (frame 15587/19159) /content/drive/MyDrive/punches/yolov10/test2.mp4: 384x640 1 jab, 38.6ms\n",
            "video 1/1 (frame 15588/19159) /content/drive/MyDrive/punches/yolov10/test2.mp4: 384x640 1 jab, 29.8ms\n",
            "video 1/1 (frame 15589/19159) /content/drive/MyDrive/punches/yolov10/test2.mp4: 384x640 1 jab, 21.3ms\n",
            "video 1/1 (frame 15590/19159) /content/drive/MyDrive/punches/yolov10/test2.mp4: 384x640 1 jab, 22.3ms\n",
            "video 1/1 (frame 15591/19159) /content/drive/MyDrive/punches/yolov10/test2.mp4: 384x640 1 jab, 20.8ms\n",
            "video 1/1 (frame 15592/19159) /content/drive/MyDrive/punches/yolov10/test2.mp4: 384x640 1 jab, 22.2ms\n",
            "video 1/1 (frame 15593/19159) /content/drive/MyDrive/punches/yolov10/test2.mp4: 384x640 (no detections), 31.3ms\n",
            "video 1/1 (frame 15594/19159) /content/drive/MyDrive/punches/yolov10/test2.mp4: 384x640 1 jab, 20.3ms\n",
            "video 1/1 (frame 15595/19159) /content/drive/MyDrive/punches/yolov10/test2.mp4: 384x640 (no detections), 15.4ms\n",
            "video 1/1 (frame 15596/19159) /content/drive/MyDrive/punches/yolov10/test2.mp4: 384x640 1 jab, 10.7ms\n",
            "video 1/1 (frame 15597/19159) /content/drive/MyDrive/punches/yolov10/test2.mp4: 384x640 1 jab, 11.2ms\n",
            "video 1/1 (frame 15598/19159) /content/drive/MyDrive/punches/yolov10/test2.mp4: 384x640 1 jab, 11.1ms\n",
            "video 1/1 (frame 15599/19159) /content/drive/MyDrive/punches/yolov10/test2.mp4: 384x640 (no detections), 11.1ms\n",
            "video 1/1 (frame 15600/19159) /content/drive/MyDrive/punches/yolov10/test2.mp4: 384x640 (no detections), 11.2ms\n",
            "video 1/1 (frame 15601/19159) /content/drive/MyDrive/punches/yolov10/test2.mp4: 384x640 (no detections), 10.8ms\n",
            "video 1/1 (frame 15602/19159) /content/drive/MyDrive/punches/yolov10/test2.mp4: 384x640 1 jab, 14.1ms\n",
            "video 1/1 (frame 15603/19159) /content/drive/MyDrive/punches/yolov10/test2.mp4: 384x640 (no detections), 12.7ms\n",
            "video 1/1 (frame 15604/19159) /content/drive/MyDrive/punches/yolov10/test2.mp4: 384x640 1 jab, 10.7ms\n",
            "video 1/1 (frame 15605/19159) /content/drive/MyDrive/punches/yolov10/test2.mp4: 384x640 1 jab, 10.6ms\n",
            "video 1/1 (frame 15606/19159) /content/drive/MyDrive/punches/yolov10/test2.mp4: 384x640 1 jab, 10.6ms\n",
            "video 1/1 (frame 15607/19159) /content/drive/MyDrive/punches/yolov10/test2.mp4: 384x640 1 jab, 12.0ms\n",
            "video 1/1 (frame 15608/19159) /content/drive/MyDrive/punches/yolov10/test2.mp4: 384x640 (no detections), 18.4ms\n",
            "video 1/1 (frame 15609/19159) /content/drive/MyDrive/punches/yolov10/test2.mp4: 384x640 1 jab, 12.1ms\n",
            "video 1/1 (frame 15610/19159) /content/drive/MyDrive/punches/yolov10/test2.mp4: 384x640 (no detections), 11.0ms\n",
            "video 1/1 (frame 15611/19159) /content/drive/MyDrive/punches/yolov10/test2.mp4: 384x640 (no detections), 10.5ms\n",
            "video 1/1 (frame 15612/19159) /content/drive/MyDrive/punches/yolov10/test2.mp4: 384x640 1 jab, 10.4ms\n",
            "video 1/1 (frame 15613/19159) /content/drive/MyDrive/punches/yolov10/test2.mp4: 384x640 2 jabs, 11.3ms\n",
            "video 1/1 (frame 15614/19159) /content/drive/MyDrive/punches/yolov10/test2.mp4: 384x640 1 jab, 10.1ms\n",
            "video 1/1 (frame 15615/19159) /content/drive/MyDrive/punches/yolov10/test2.mp4: 384x640 1 jab, 10.6ms\n",
            "video 1/1 (frame 15616/19159) /content/drive/MyDrive/punches/yolov10/test2.mp4: 384x640 1 jab, 11.1ms\n",
            "video 1/1 (frame 15617/19159) /content/drive/MyDrive/punches/yolov10/test2.mp4: 384x640 1 jab, 10.5ms\n",
            "video 1/1 (frame 15618/19159) /content/drive/MyDrive/punches/yolov10/test2.mp4: 384x640 1 jab, 10.4ms\n",
            "video 1/1 (frame 15619/19159) /content/drive/MyDrive/punches/yolov10/test2.mp4: 384x640 1 jab, 17.3ms\n",
            "video 1/1 (frame 15620/19159) /content/drive/MyDrive/punches/yolov10/test2.mp4: 384x640 1 jab, 11.1ms\n",
            "video 1/1 (frame 15621/19159) /content/drive/MyDrive/punches/yolov10/test2.mp4: 384x640 1 jab, 10.6ms\n",
            "video 1/1 (frame 15622/19159) /content/drive/MyDrive/punches/yolov10/test2.mp4: 384x640 1 jab, 10.5ms\n",
            "video 1/1 (frame 15623/19159) /content/drive/MyDrive/punches/yolov10/test2.mp4: 384x640 (no detections), 10.6ms\n",
            "video 1/1 (frame 15624/19159) /content/drive/MyDrive/punches/yolov10/test2.mp4: 384x640 (no detections), 11.4ms\n",
            "video 1/1 (frame 15625/19159) /content/drive/MyDrive/punches/yolov10/test2.mp4: 384x640 (no detections), 12.2ms\n",
            "video 1/1 (frame 15626/19159) /content/drive/MyDrive/punches/yolov10/test2.mp4: 384x640 (no detections), 10.8ms\n",
            "video 1/1 (frame 15627/19159) /content/drive/MyDrive/punches/yolov10/test2.mp4: 384x640 2 jabs, 10.8ms\n",
            "video 1/1 (frame 15628/19159) /content/drive/MyDrive/punches/yolov10/test2.mp4: 384x640 1 jab, 10.3ms\n",
            "video 1/1 (frame 15629/19159) /content/drive/MyDrive/punches/yolov10/test2.mp4: 384x640 (no detections), 10.7ms\n",
            "video 1/1 (frame 15630/19159) /content/drive/MyDrive/punches/yolov10/test2.mp4: 384x640 (no detections), 10.9ms\n",
            "video 1/1 (frame 15631/19159) /content/drive/MyDrive/punches/yolov10/test2.mp4: 384x640 (no detections), 16.9ms\n",
            "video 1/1 (frame 15632/19159) /content/drive/MyDrive/punches/yolov10/test2.mp4: 384x640 1 jab, 10.8ms\n",
            "video 1/1 (frame 15633/19159) /content/drive/MyDrive/punches/yolov10/test2.mp4: 384x640 (no detections), 10.7ms\n",
            "video 1/1 (frame 15634/19159) /content/drive/MyDrive/punches/yolov10/test2.mp4: 384x640 (no detections), 10.1ms\n",
            "video 1/1 (frame 15635/19159) /content/drive/MyDrive/punches/yolov10/test2.mp4: 384x640 (no detections), 10.1ms\n",
            "video 1/1 (frame 15636/19159) /content/drive/MyDrive/punches/yolov10/test2.mp4: 384x640 (no detections), 11.3ms\n",
            "video 1/1 (frame 15637/19159) /content/drive/MyDrive/punches/yolov10/test2.mp4: 384x640 (no detections), 10.9ms\n",
            "video 1/1 (frame 15638/19159) /content/drive/MyDrive/punches/yolov10/test2.mp4: 384x640 (no detections), 10.8ms\n",
            "video 1/1 (frame 15639/19159) /content/drive/MyDrive/punches/yolov10/test2.mp4: 384x640 (no detections), 10.8ms\n",
            "video 1/1 (frame 15640/19159) /content/drive/MyDrive/punches/yolov10/test2.mp4: 384x640 (no detections), 10.3ms\n",
            "video 1/1 (frame 15641/19159) /content/drive/MyDrive/punches/yolov10/test2.mp4: 384x640 (no detections), 10.2ms\n",
            "video 1/1 (frame 15642/19159) /content/drive/MyDrive/punches/yolov10/test2.mp4: 384x640 1 jab, 10.3ms\n",
            "video 1/1 (frame 15643/19159) /content/drive/MyDrive/punches/yolov10/test2.mp4: 384x640 1 jab, 18.4ms\n",
            "video 1/1 (frame 15644/19159) /content/drive/MyDrive/punches/yolov10/test2.mp4: 384x640 1 jab, 19.3ms\n",
            "video 1/1 (frame 15645/19159) /content/drive/MyDrive/punches/yolov10/test2.mp4: 384x640 (no detections), 16.3ms\n",
            "video 1/1 (frame 15646/19159) /content/drive/MyDrive/punches/yolov10/test2.mp4: 384x640 1 jab, 11.2ms\n",
            "video 1/1 (frame 15647/19159) /content/drive/MyDrive/punches/yolov10/test2.mp4: 384x640 1 jab, 10.8ms\n",
            "video 1/1 (frame 15648/19159) /content/drive/MyDrive/punches/yolov10/test2.mp4: 384x640 1 jab, 10.5ms\n",
            "video 1/1 (frame 15649/19159) /content/drive/MyDrive/punches/yolov10/test2.mp4: 384x640 1 jab, 10.9ms\n",
            "video 1/1 (frame 15650/19159) /content/drive/MyDrive/punches/yolov10/test2.mp4: 384x640 1 jab, 11.0ms\n",
            "video 1/1 (frame 15651/19159) /content/drive/MyDrive/punches/yolov10/test2.mp4: 384x640 1 jab, 10.7ms\n",
            "video 1/1 (frame 15652/19159) /content/drive/MyDrive/punches/yolov10/test2.mp4: 384x640 1 jab, 11.0ms\n",
            "video 1/1 (frame 15653/19159) /content/drive/MyDrive/punches/yolov10/test2.mp4: 384x640 1 jab, 10.5ms\n",
            "video 1/1 (frame 15654/19159) /content/drive/MyDrive/punches/yolov10/test2.mp4: 384x640 (no detections), 11.1ms\n",
            "video 1/1 (frame 15655/19159) /content/drive/MyDrive/punches/yolov10/test2.mp4: 384x640 1 jab, 10.7ms\n",
            "video 1/1 (frame 15656/19159) /content/drive/MyDrive/punches/yolov10/test2.mp4: 384x640 1 jab, 11.0ms\n",
            "video 1/1 (frame 15657/19159) /content/drive/MyDrive/punches/yolov10/test2.mp4: 384x640 1 jab, 13.2ms\n",
            "video 1/1 (frame 15658/19159) /content/drive/MyDrive/punches/yolov10/test2.mp4: 384x640 2 jabs, 14.5ms\n",
            "video 1/1 (frame 15659/19159) /content/drive/MyDrive/punches/yolov10/test2.mp4: 384x640 2 jabs, 14.2ms\n",
            "video 1/1 (frame 15660/19159) /content/drive/MyDrive/punches/yolov10/test2.mp4: 384x640 2 jabs, 11.3ms\n",
            "video 1/1 (frame 15661/19159) /content/drive/MyDrive/punches/yolov10/test2.mp4: 384x640 1 jab, 11.0ms\n",
            "video 1/1 (frame 15662/19159) /content/drive/MyDrive/punches/yolov10/test2.mp4: 384x640 (no detections), 10.4ms\n",
            "video 1/1 (frame 15663/19159) /content/drive/MyDrive/punches/yolov10/test2.mp4: 384x640 1 jab, 12.3ms\n",
            "video 1/1 (frame 15664/19159) /content/drive/MyDrive/punches/yolov10/test2.mp4: 384x640 2 jabs, 10.3ms\n",
            "video 1/1 (frame 15665/19159) /content/drive/MyDrive/punches/yolov10/test2.mp4: 384x640 (no detections), 12.6ms\n",
            "video 1/1 (frame 15666/19159) /content/drive/MyDrive/punches/yolov10/test2.mp4: 384x640 1 jab, 10.2ms\n",
            "video 1/1 (frame 15667/19159) /content/drive/MyDrive/punches/yolov10/test2.mp4: 384x640 2 jabs, 10.4ms\n",
            "video 1/1 (frame 15668/19159) /content/drive/MyDrive/punches/yolov10/test2.mp4: 384x640 1 jab, 10.3ms\n",
            "video 1/1 (frame 15669/19159) /content/drive/MyDrive/punches/yolov10/test2.mp4: 384x640 2 jabs, 10.3ms\n",
            "video 1/1 (frame 15670/19159) /content/drive/MyDrive/punches/yolov10/test2.mp4: 384x640 1 jab, 10.2ms\n",
            "video 1/1 (frame 15671/19159) /content/drive/MyDrive/punches/yolov10/test2.mp4: 384x640 1 jab, 10.0ms\n",
            "video 1/1 (frame 15672/19159) /content/drive/MyDrive/punches/yolov10/test2.mp4: 384x640 (no detections), 10.9ms\n",
            "video 1/1 (frame 15673/19159) /content/drive/MyDrive/punches/yolov10/test2.mp4: 384x640 (no detections), 16.1ms\n",
            "video 1/1 (frame 15674/19159) /content/drive/MyDrive/punches/yolov10/test2.mp4: 384x640 1 jab, 21.8ms\n",
            "video 1/1 (frame 15675/19159) /content/drive/MyDrive/punches/yolov10/test2.mp4: 384x640 (no detections), 12.4ms\n",
            "video 1/1 (frame 15676/19159) /content/drive/MyDrive/punches/yolov10/test2.mp4: 384x640 (no detections), 12.8ms\n",
            "video 1/1 (frame 15677/19159) /content/drive/MyDrive/punches/yolov10/test2.mp4: 384x640 1 jab, 10.6ms\n",
            "video 1/1 (frame 15678/19159) /content/drive/MyDrive/punches/yolov10/test2.mp4: 384x640 (no detections), 10.2ms\n",
            "video 1/1 (frame 15679/19159) /content/drive/MyDrive/punches/yolov10/test2.mp4: 384x640 (no detections), 10.7ms\n",
            "video 1/1 (frame 15680/19159) /content/drive/MyDrive/punches/yolov10/test2.mp4: 384x640 (no detections), 11.5ms\n",
            "video 1/1 (frame 15681/19159) /content/drive/MyDrive/punches/yolov10/test2.mp4: 384x640 (no detections), 10.7ms\n",
            "video 1/1 (frame 15682/19159) /content/drive/MyDrive/punches/yolov10/test2.mp4: 384x640 (no detections), 10.7ms\n",
            "video 1/1 (frame 15683/19159) /content/drive/MyDrive/punches/yolov10/test2.mp4: 384x640 (no detections), 10.6ms\n",
            "video 1/1 (frame 15684/19159) /content/drive/MyDrive/punches/yolov10/test2.mp4: 384x640 (no detections), 10.3ms\n",
            "video 1/1 (frame 15685/19159) /content/drive/MyDrive/punches/yolov10/test2.mp4: 384x640 (no detections), 10.4ms\n",
            "video 1/1 (frame 15686/19159) /content/drive/MyDrive/punches/yolov10/test2.mp4: 384x640 (no detections), 10.7ms\n",
            "video 1/1 (frame 15687/19159) /content/drive/MyDrive/punches/yolov10/test2.mp4: 384x640 (no detections), 18.2ms\n",
            "video 1/1 (frame 15688/19159) /content/drive/MyDrive/punches/yolov10/test2.mp4: 384x640 (no detections), 10.6ms\n",
            "video 1/1 (frame 15689/19159) /content/drive/MyDrive/punches/yolov10/test2.mp4: 384x640 (no detections), 10.6ms\n",
            "video 1/1 (frame 15690/19159) /content/drive/MyDrive/punches/yolov10/test2.mp4: 384x640 (no detections), 10.7ms\n",
            "video 1/1 (frame 15691/19159) /content/drive/MyDrive/punches/yolov10/test2.mp4: 384x640 (no detections), 11.3ms\n",
            "video 1/1 (frame 15692/19159) /content/drive/MyDrive/punches/yolov10/test2.mp4: 384x640 (no detections), 10.5ms\n",
            "video 1/1 (frame 15693/19159) /content/drive/MyDrive/punches/yolov10/test2.mp4: 384x640 (no detections), 10.9ms\n",
            "video 1/1 (frame 15694/19159) /content/drive/MyDrive/punches/yolov10/test2.mp4: 384x640 (no detections), 11.1ms\n",
            "video 1/1 (frame 15695/19159) /content/drive/MyDrive/punches/yolov10/test2.mp4: 384x640 1 jab, 10.8ms\n",
            "video 1/1 (frame 15696/19159) /content/drive/MyDrive/punches/yolov10/test2.mp4: 384x640 1 jab, 10.7ms\n",
            "video 1/1 (frame 15697/19159) /content/drive/MyDrive/punches/yolov10/test2.mp4: 384x640 (no detections), 13.0ms\n",
            "video 1/1 (frame 15698/19159) /content/drive/MyDrive/punches/yolov10/test2.mp4: 384x640 (no detections), 13.2ms\n",
            "video 1/1 (frame 15699/19159) /content/drive/MyDrive/punches/yolov10/test2.mp4: 384x640 (no detections), 16.3ms\n",
            "video 1/1 (frame 15700/19159) /content/drive/MyDrive/punches/yolov10/test2.mp4: 384x640 (no detections), 10.8ms\n",
            "video 1/1 (frame 15701/19159) /content/drive/MyDrive/punches/yolov10/test2.mp4: 384x640 (no detections), 13.5ms\n",
            "video 1/1 (frame 15702/19159) /content/drive/MyDrive/punches/yolov10/test2.mp4: 384x640 (no detections), 18.7ms\n",
            "video 1/1 (frame 15703/19159) /content/drive/MyDrive/punches/yolov10/test2.mp4: 384x640 (no detections), 12.1ms\n",
            "video 1/1 (frame 15704/19159) /content/drive/MyDrive/punches/yolov10/test2.mp4: 384x640 (no detections), 11.2ms\n",
            "video 1/1 (frame 15705/19159) /content/drive/MyDrive/punches/yolov10/test2.mp4: 384x640 (no detections), 10.3ms\n",
            "video 1/1 (frame 15706/19159) /content/drive/MyDrive/punches/yolov10/test2.mp4: 384x640 1 jab, 12.5ms\n",
            "video 1/1 (frame 15707/19159) /content/drive/MyDrive/punches/yolov10/test2.mp4: 384x640 1 jab, 11.5ms\n",
            "video 1/1 (frame 15708/19159) /content/drive/MyDrive/punches/yolov10/test2.mp4: 384x640 1 jab, 10.1ms\n",
            "video 1/1 (frame 15709/19159) /content/drive/MyDrive/punches/yolov10/test2.mp4: 384x640 1 jab, 11.0ms\n",
            "video 1/1 (frame 15710/19159) /content/drive/MyDrive/punches/yolov10/test2.mp4: 384x640 (no detections), 11.0ms\n",
            "video 1/1 (frame 15711/19159) /content/drive/MyDrive/punches/yolov10/test2.mp4: 384x640 (no detections), 11.1ms\n",
            "video 1/1 (frame 15712/19159) /content/drive/MyDrive/punches/yolov10/test2.mp4: 384x640 (no detections), 12.4ms\n",
            "video 1/1 (frame 15713/19159) /content/drive/MyDrive/punches/yolov10/test2.mp4: 384x640 (no detections), 16.0ms\n",
            "video 1/1 (frame 15714/19159) /content/drive/MyDrive/punches/yolov10/test2.mp4: 384x640 (no detections), 17.5ms\n",
            "video 1/1 (frame 15715/19159) /content/drive/MyDrive/punches/yolov10/test2.mp4: 384x640 (no detections), 10.5ms\n",
            "video 1/1 (frame 15716/19159) /content/drive/MyDrive/punches/yolov10/test2.mp4: 384x640 (no detections), 11.0ms\n",
            "video 1/1 (frame 15717/19159) /content/drive/MyDrive/punches/yolov10/test2.mp4: 384x640 (no detections), 11.0ms\n",
            "video 1/1 (frame 15718/19159) /content/drive/MyDrive/punches/yolov10/test2.mp4: 384x640 1 jab, 10.6ms\n",
            "video 1/1 (frame 15719/19159) /content/drive/MyDrive/punches/yolov10/test2.mp4: 384x640 2 jabs, 10.5ms\n",
            "video 1/1 (frame 15720/19159) /content/drive/MyDrive/punches/yolov10/test2.mp4: 384x640 1 jab, 17.6ms\n",
            "video 1/1 (frame 15721/19159) /content/drive/MyDrive/punches/yolov10/test2.mp4: 384x640 2 jabs, 15.9ms\n",
            "video 1/1 (frame 15722/19159) /content/drive/MyDrive/punches/yolov10/test2.mp4: 384x640 1 jab, 10.8ms\n",
            "video 1/1 (frame 15723/19159) /content/drive/MyDrive/punches/yolov10/test2.mp4: 384x640 1 jab, 10.6ms\n",
            "video 1/1 (frame 15724/19159) /content/drive/MyDrive/punches/yolov10/test2.mp4: 384x640 (no detections), 11.3ms\n",
            "video 1/1 (frame 15725/19159) /content/drive/MyDrive/punches/yolov10/test2.mp4: 384x640 1 jab, 14.7ms\n",
            "video 1/1 (frame 15726/19159) /content/drive/MyDrive/punches/yolov10/test2.mp4: 384x640 1 jab, 10.3ms\n",
            "video 1/1 (frame 15727/19159) /content/drive/MyDrive/punches/yolov10/test2.mp4: 384x640 1 jab, 11.1ms\n",
            "video 1/1 (frame 15728/19159) /content/drive/MyDrive/punches/yolov10/test2.mp4: 384x640 1 jab, 12.4ms\n",
            "video 1/1 (frame 15729/19159) /content/drive/MyDrive/punches/yolov10/test2.mp4: 384x640 1 jab, 10.8ms\n",
            "video 1/1 (frame 15730/19159) /content/drive/MyDrive/punches/yolov10/test2.mp4: 384x640 1 jab, 12.7ms\n",
            "video 1/1 (frame 15731/19159) /content/drive/MyDrive/punches/yolov10/test2.mp4: 384x640 1 jab, 10.9ms\n",
            "video 1/1 (frame 15732/19159) /content/drive/MyDrive/punches/yolov10/test2.mp4: 384x640 1 jab, 10.6ms\n",
            "video 1/1 (frame 15733/19159) /content/drive/MyDrive/punches/yolov10/test2.mp4: 384x640 1 jab, 11.0ms\n",
            "video 1/1 (frame 15734/19159) /content/drive/MyDrive/punches/yolov10/test2.mp4: 384x640 1 jab, 11.2ms\n",
            "video 1/1 (frame 15735/19159) /content/drive/MyDrive/punches/yolov10/test2.mp4: 384x640 1 jab, 11.1ms\n",
            "video 1/1 (frame 15736/19159) /content/drive/MyDrive/punches/yolov10/test2.mp4: 384x640 1 jab, 10.5ms\n",
            "video 1/1 (frame 15737/19159) /content/drive/MyDrive/punches/yolov10/test2.mp4: 384x640 1 jab, 10.0ms\n",
            "video 1/1 (frame 15738/19159) /content/drive/MyDrive/punches/yolov10/test2.mp4: 384x640 2 jabs, 10.6ms\n",
            "video 1/1 (frame 15739/19159) /content/drive/MyDrive/punches/yolov10/test2.mp4: 384x640 3 jabs, 10.7ms\n",
            "video 1/1 (frame 15740/19159) /content/drive/MyDrive/punches/yolov10/test2.mp4: 384x640 1 jab, 11.0ms\n",
            "video 1/1 (frame 15741/19159) /content/drive/MyDrive/punches/yolov10/test2.mp4: 384x640 1 jab, 16.0ms\n",
            "video 1/1 (frame 15742/19159) /content/drive/MyDrive/punches/yolov10/test2.mp4: 384x640 (no detections), 10.5ms\n",
            "video 1/1 (frame 15743/19159) /content/drive/MyDrive/punches/yolov10/test2.mp4: 384x640 (no detections), 11.3ms\n",
            "video 1/1 (frame 15744/19159) /content/drive/MyDrive/punches/yolov10/test2.mp4: 384x640 (no detections), 15.2ms\n",
            "video 1/1 (frame 15745/19159) /content/drive/MyDrive/punches/yolov10/test2.mp4: 384x640 1 jab, 17.5ms\n",
            "video 1/1 (frame 15746/19159) /content/drive/MyDrive/punches/yolov10/test2.mp4: 384x640 1 jab, 11.3ms\n",
            "video 1/1 (frame 15747/19159) /content/drive/MyDrive/punches/yolov10/test2.mp4: 384x640 2 jabs, 11.4ms\n",
            "video 1/1 (frame 15748/19159) /content/drive/MyDrive/punches/yolov10/test2.mp4: 384x640 1 jab, 10.7ms\n",
            "video 1/1 (frame 15749/19159) /content/drive/MyDrive/punches/yolov10/test2.mp4: 384x640 1 jab, 10.6ms\n",
            "video 1/1 (frame 15750/19159) /content/drive/MyDrive/punches/yolov10/test2.mp4: 384x640 1 jab, 11.4ms\n",
            "video 1/1 (frame 15751/19159) /content/drive/MyDrive/punches/yolov10/test2.mp4: 384x640 1 jab, 10.8ms\n",
            "video 1/1 (frame 15752/19159) /content/drive/MyDrive/punches/yolov10/test2.mp4: 384x640 1 jab, 10.8ms\n",
            "video 1/1 (frame 15753/19159) /content/drive/MyDrive/punches/yolov10/test2.mp4: 384x640 (no detections), 14.0ms\n",
            "video 1/1 (frame 15754/19159) /content/drive/MyDrive/punches/yolov10/test2.mp4: 384x640 (no detections), 10.3ms\n",
            "video 1/1 (frame 15755/19159) /content/drive/MyDrive/punches/yolov10/test2.mp4: 384x640 (no detections), 10.5ms\n",
            "video 1/1 (frame 15756/19159) /content/drive/MyDrive/punches/yolov10/test2.mp4: 384x640 1 jab, 17.0ms\n",
            "video 1/1 (frame 15757/19159) /content/drive/MyDrive/punches/yolov10/test2.mp4: 384x640 1 jab, 20.1ms\n",
            "video 1/1 (frame 15758/19159) /content/drive/MyDrive/punches/yolov10/test2.mp4: 384x640 1 jab, 13.2ms\n",
            "video 1/1 (frame 15759/19159) /content/drive/MyDrive/punches/yolov10/test2.mp4: 384x640 (no detections), 11.7ms\n",
            "video 1/1 (frame 15760/19159) /content/drive/MyDrive/punches/yolov10/test2.mp4: 384x640 (no detections), 10.7ms\n",
            "video 1/1 (frame 15761/19159) /content/drive/MyDrive/punches/yolov10/test2.mp4: 384x640 1 jab, 11.6ms\n",
            "video 1/1 (frame 15762/19159) /content/drive/MyDrive/punches/yolov10/test2.mp4: 384x640 1 jab, 11.0ms\n",
            "video 1/1 (frame 15763/19159) /content/drive/MyDrive/punches/yolov10/test2.mp4: 384x640 1 jab, 10.8ms\n",
            "video 1/1 (frame 15764/19159) /content/drive/MyDrive/punches/yolov10/test2.mp4: 384x640 (no detections), 10.5ms\n",
            "video 1/1 (frame 15765/19159) /content/drive/MyDrive/punches/yolov10/test2.mp4: 384x640 (no detections), 16.6ms\n",
            "video 1/1 (frame 15766/19159) /content/drive/MyDrive/punches/yolov10/test2.mp4: 384x640 (no detections), 11.9ms\n",
            "video 1/1 (frame 15767/19159) /content/drive/MyDrive/punches/yolov10/test2.mp4: 384x640 (no detections), 10.7ms\n",
            "video 1/1 (frame 15768/19159) /content/drive/MyDrive/punches/yolov10/test2.mp4: 384x640 (no detections), 10.5ms\n",
            "video 1/1 (frame 15769/19159) /content/drive/MyDrive/punches/yolov10/test2.mp4: 384x640 (no detections), 10.6ms\n",
            "video 1/1 (frame 15770/19159) /content/drive/MyDrive/punches/yolov10/test2.mp4: 384x640 1 jab, 11.8ms\n",
            "video 1/1 (frame 15771/19159) /content/drive/MyDrive/punches/yolov10/test2.mp4: 384x640 (no detections), 10.4ms\n",
            "video 1/1 (frame 15772/19159) /content/drive/MyDrive/punches/yolov10/test2.mp4: 384x640 (no detections), 11.9ms\n",
            "video 1/1 (frame 15773/19159) /content/drive/MyDrive/punches/yolov10/test2.mp4: 384x640 (no detections), 14.8ms\n",
            "video 1/1 (frame 15774/19159) /content/drive/MyDrive/punches/yolov10/test2.mp4: 384x640 (no detections), 11.0ms\n",
            "video 1/1 (frame 15775/19159) /content/drive/MyDrive/punches/yolov10/test2.mp4: 384x640 (no detections), 10.6ms\n",
            "video 1/1 (frame 15776/19159) /content/drive/MyDrive/punches/yolov10/test2.mp4: 384x640 (no detections), 11.4ms\n",
            "video 1/1 (frame 15777/19159) /content/drive/MyDrive/punches/yolov10/test2.mp4: 384x640 (no detections), 10.8ms\n",
            "video 1/1 (frame 15778/19159) /content/drive/MyDrive/punches/yolov10/test2.mp4: 384x640 1 jab, 12.1ms\n",
            "video 1/1 (frame 15779/19159) /content/drive/MyDrive/punches/yolov10/test2.mp4: 384x640 1 jab, 10.8ms\n",
            "video 1/1 (frame 15780/19159) /content/drive/MyDrive/punches/yolov10/test2.mp4: 384x640 (no detections), 10.3ms\n",
            "video 1/1 (frame 15781/19159) /content/drive/MyDrive/punches/yolov10/test2.mp4: 384x640 (no detections), 10.8ms\n",
            "video 1/1 (frame 15782/19159) /content/drive/MyDrive/punches/yolov10/test2.mp4: 384x640 (no detections), 17.9ms\n",
            "video 1/1 (frame 15783/19159) /content/drive/MyDrive/punches/yolov10/test2.mp4: 384x640 1 jab, 20.1ms\n",
            "video 1/1 (frame 15784/19159) /content/drive/MyDrive/punches/yolov10/test2.mp4: 384x640 1 jab, 21.3ms\n",
            "video 1/1 (frame 15785/19159) /content/drive/MyDrive/punches/yolov10/test2.mp4: 384x640 1 jab, 21.6ms\n",
            "video 1/1 (frame 15786/19159) /content/drive/MyDrive/punches/yolov10/test2.mp4: 384x640 1 jab, 13.7ms\n",
            "video 1/1 (frame 15787/19159) /content/drive/MyDrive/punches/yolov10/test2.mp4: 384x640 1 jab, 14.2ms\n",
            "video 1/1 (frame 15788/19159) /content/drive/MyDrive/punches/yolov10/test2.mp4: 384x640 1 jab, 10.2ms\n",
            "video 1/1 (frame 15789/19159) /content/drive/MyDrive/punches/yolov10/test2.mp4: 384x640 (no detections), 10.1ms\n",
            "video 1/1 (frame 15790/19159) /content/drive/MyDrive/punches/yolov10/test2.mp4: 384x640 (no detections), 10.5ms\n",
            "video 1/1 (frame 15791/19159) /content/drive/MyDrive/punches/yolov10/test2.mp4: 384x640 (no detections), 10.6ms\n",
            "video 1/1 (frame 15792/19159) /content/drive/MyDrive/punches/yolov10/test2.mp4: 384x640 (no detections), 11.2ms\n",
            "video 1/1 (frame 15793/19159) /content/drive/MyDrive/punches/yolov10/test2.mp4: 384x640 (no detections), 10.9ms\n",
            "video 1/1 (frame 15794/19159) /content/drive/MyDrive/punches/yolov10/test2.mp4: 384x640 (no detections), 10.4ms\n",
            "video 1/1 (frame 15795/19159) /content/drive/MyDrive/punches/yolov10/test2.mp4: 384x640 (no detections), 10.2ms\n",
            "video 1/1 (frame 15796/19159) /content/drive/MyDrive/punches/yolov10/test2.mp4: 384x640 (no detections), 10.1ms\n",
            "video 1/1 (frame 15797/19159) /content/drive/MyDrive/punches/yolov10/test2.mp4: 384x640 (no detections), 10.2ms\n",
            "video 1/1 (frame 15798/19159) /content/drive/MyDrive/punches/yolov10/test2.mp4: 384x640 1 jab, 10.6ms\n",
            "video 1/1 (frame 15799/19159) /content/drive/MyDrive/punches/yolov10/test2.mp4: 384x640 (no detections), 11.1ms\n",
            "video 1/1 (frame 15800/19159) /content/drive/MyDrive/punches/yolov10/test2.mp4: 384x640 (no detections), 10.5ms\n",
            "video 1/1 (frame 15801/19159) /content/drive/MyDrive/punches/yolov10/test2.mp4: 384x640 (no detections), 10.3ms\n",
            "video 1/1 (frame 15802/19159) /content/drive/MyDrive/punches/yolov10/test2.mp4: 384x640 1 jab, 10.6ms\n",
            "video 1/1 (frame 15803/19159) /content/drive/MyDrive/punches/yolov10/test2.mp4: 384x640 1 jab, 11.6ms\n",
            "video 1/1 (frame 15804/19159) /content/drive/MyDrive/punches/yolov10/test2.mp4: 384x640 1 jab, 14.3ms\n",
            "video 1/1 (frame 15805/19159) /content/drive/MyDrive/punches/yolov10/test2.mp4: 384x640 1 jab, 11.1ms\n",
            "video 1/1 (frame 15806/19159) /content/drive/MyDrive/punches/yolov10/test2.mp4: 384x640 (no detections), 10.6ms\n",
            "video 1/1 (frame 15807/19159) /content/drive/MyDrive/punches/yolov10/test2.mp4: 384x640 (no detections), 10.4ms\n",
            "video 1/1 (frame 15808/19159) /content/drive/MyDrive/punches/yolov10/test2.mp4: 384x640 1 jab, 10.4ms\n",
            "video 1/1 (frame 15809/19159) /content/drive/MyDrive/punches/yolov10/test2.mp4: 384x640 1 jab, 10.5ms\n",
            "video 1/1 (frame 15810/19159) /content/drive/MyDrive/punches/yolov10/test2.mp4: 384x640 (no detections), 11.1ms\n",
            "video 1/1 (frame 15811/19159) /content/drive/MyDrive/punches/yolov10/test2.mp4: 384x640 1 jab, 10.6ms\n",
            "video 1/1 (frame 15812/19159) /content/drive/MyDrive/punches/yolov10/test2.mp4: 384x640 1 jab, 22.6ms\n",
            "video 1/1 (frame 15813/19159) /content/drive/MyDrive/punches/yolov10/test2.mp4: 384x640 (no detections), 12.7ms\n",
            "video 1/1 (frame 15814/19159) /content/drive/MyDrive/punches/yolov10/test2.mp4: 384x640 (no detections), 11.5ms\n",
            "video 1/1 (frame 15815/19159) /content/drive/MyDrive/punches/yolov10/test2.mp4: 384x640 (no detections), 17.3ms\n",
            "video 1/1 (frame 15816/19159) /content/drive/MyDrive/punches/yolov10/test2.mp4: 384x640 (no detections), 10.7ms\n",
            "video 1/1 (frame 15817/19159) /content/drive/MyDrive/punches/yolov10/test2.mp4: 384x640 (no detections), 15.6ms\n",
            "video 1/1 (frame 15818/19159) /content/drive/MyDrive/punches/yolov10/test2.mp4: 384x640 (no detections), 13.1ms\n",
            "video 1/1 (frame 15819/19159) /content/drive/MyDrive/punches/yolov10/test2.mp4: 384x640 1 jab, 11.1ms\n",
            "video 1/1 (frame 15820/19159) /content/drive/MyDrive/punches/yolov10/test2.mp4: 384x640 1 jab, 10.1ms\n",
            "video 1/1 (frame 15821/19159) /content/drive/MyDrive/punches/yolov10/test2.mp4: 384x640 1 jab, 10.5ms\n",
            "video 1/1 (frame 15822/19159) /content/drive/MyDrive/punches/yolov10/test2.mp4: 384x640 (no detections), 10.1ms\n",
            "video 1/1 (frame 15823/19159) /content/drive/MyDrive/punches/yolov10/test2.mp4: 384x640 (no detections), 9.7ms\n",
            "video 1/1 (frame 15824/19159) /content/drive/MyDrive/punches/yolov10/test2.mp4: 384x640 (no detections), 11.0ms\n",
            "video 1/1 (frame 15825/19159) /content/drive/MyDrive/punches/yolov10/test2.mp4: 384x640 (no detections), 10.5ms\n",
            "video 1/1 (frame 15826/19159) /content/drive/MyDrive/punches/yolov10/test2.mp4: 384x640 (no detections), 13.5ms\n",
            "video 1/1 (frame 15827/19159) /content/drive/MyDrive/punches/yolov10/test2.mp4: 384x640 (no detections), 10.5ms\n",
            "video 1/1 (frame 15828/19159) /content/drive/MyDrive/punches/yolov10/test2.mp4: 384x640 2 jabs, 10.6ms\n",
            "video 1/1 (frame 15829/19159) /content/drive/MyDrive/punches/yolov10/test2.mp4: 384x640 2 jabs, 10.4ms\n",
            "video 1/1 (frame 15830/19159) /content/drive/MyDrive/punches/yolov10/test2.mp4: 384x640 1 jab, 10.5ms\n",
            "video 1/1 (frame 15831/19159) /content/drive/MyDrive/punches/yolov10/test2.mp4: 384x640 1 jab, 19.0ms\n",
            "video 1/1 (frame 15832/19159) /content/drive/MyDrive/punches/yolov10/test2.mp4: 384x640 (no detections), 21.5ms\n",
            "video 1/1 (frame 15833/19159) /content/drive/MyDrive/punches/yolov10/test2.mp4: 384x640 (no detections), 10.3ms\n",
            "video 1/1 (frame 15834/19159) /content/drive/MyDrive/punches/yolov10/test2.mp4: 384x640 1 jab, 12.1ms\n",
            "video 1/1 (frame 15835/19159) /content/drive/MyDrive/punches/yolov10/test2.mp4: 384x640 (no detections), 10.2ms\n",
            "video 1/1 (frame 15836/19159) /content/drive/MyDrive/punches/yolov10/test2.mp4: 384x640 1 jab, 16.9ms\n",
            "video 1/1 (frame 15837/19159) /content/drive/MyDrive/punches/yolov10/test2.mp4: 384x640 (no detections), 10.3ms\n",
            "video 1/1 (frame 15838/19159) /content/drive/MyDrive/punches/yolov10/test2.mp4: 384x640 (no detections), 10.3ms\n",
            "video 1/1 (frame 15839/19159) /content/drive/MyDrive/punches/yolov10/test2.mp4: 384x640 (no detections), 10.4ms\n",
            "video 1/1 (frame 15840/19159) /content/drive/MyDrive/punches/yolov10/test2.mp4: 384x640 (no detections), 11.6ms\n",
            "video 1/1 (frame 15841/19159) /content/drive/MyDrive/punches/yolov10/test2.mp4: 384x640 (no detections), 11.0ms\n",
            "video 1/1 (frame 15842/19159) /content/drive/MyDrive/punches/yolov10/test2.mp4: 384x640 (no detections), 11.2ms\n",
            "video 1/1 (frame 15843/19159) /content/drive/MyDrive/punches/yolov10/test2.mp4: 384x640 (no detections), 11.1ms\n",
            "video 1/1 (frame 15844/19159) /content/drive/MyDrive/punches/yolov10/test2.mp4: 384x640 (no detections), 10.4ms\n",
            "video 1/1 (frame 15845/19159) /content/drive/MyDrive/punches/yolov10/test2.mp4: 384x640 (no detections), 10.5ms\n",
            "video 1/1 (frame 15846/19159) /content/drive/MyDrive/punches/yolov10/test2.mp4: 384x640 1 jab, 10.3ms\n",
            "video 1/1 (frame 15847/19159) /content/drive/MyDrive/punches/yolov10/test2.mp4: 384x640 (no detections), 10.3ms\n",
            "video 1/1 (frame 15848/19159) /content/drive/MyDrive/punches/yolov10/test2.mp4: 384x640 (no detections), 15.6ms\n",
            "video 1/1 (frame 15849/19159) /content/drive/MyDrive/punches/yolov10/test2.mp4: 384x640 (no detections), 10.5ms\n",
            "video 1/1 (frame 15850/19159) /content/drive/MyDrive/punches/yolov10/test2.mp4: 384x640 (no detections), 10.5ms\n",
            "video 1/1 (frame 15851/19159) /content/drive/MyDrive/punches/yolov10/test2.mp4: 384x640 (no detections), 10.9ms\n",
            "video 1/1 (frame 15852/19159) /content/drive/MyDrive/punches/yolov10/test2.mp4: 384x640 (no detections), 10.8ms\n",
            "video 1/1 (frame 15853/19159) /content/drive/MyDrive/punches/yolov10/test2.mp4: 384x640 (no detections), 11.2ms\n",
            "video 1/1 (frame 15854/19159) /content/drive/MyDrive/punches/yolov10/test2.mp4: 384x640 (no detections), 10.7ms\n",
            "video 1/1 (frame 15855/19159) /content/drive/MyDrive/punches/yolov10/test2.mp4: 384x640 (no detections), 10.0ms\n",
            "video 1/1 (frame 15856/19159) /content/drive/MyDrive/punches/yolov10/test2.mp4: 384x640 (no detections), 10.3ms\n",
            "video 1/1 (frame 15857/19159) /content/drive/MyDrive/punches/yolov10/test2.mp4: 384x640 1 jab, 11.0ms\n",
            "video 1/1 (frame 15858/19159) /content/drive/MyDrive/punches/yolov10/test2.mp4: 384x640 1 jab, 14.0ms\n",
            "video 1/1 (frame 15859/19159) /content/drive/MyDrive/punches/yolov10/test2.mp4: 384x640 1 jab, 11.3ms\n",
            "video 1/1 (frame 15860/19159) /content/drive/MyDrive/punches/yolov10/test2.mp4: 384x640 (no detections), 11.0ms\n",
            "video 1/1 (frame 15861/19159) /content/drive/MyDrive/punches/yolov10/test2.mp4: 384x640 (no detections), 10.6ms\n",
            "video 1/1 (frame 15862/19159) /content/drive/MyDrive/punches/yolov10/test2.mp4: 384x640 (no detections), 11.6ms\n",
            "video 1/1 (frame 15863/19159) /content/drive/MyDrive/punches/yolov10/test2.mp4: 384x640 1 jab, 10.4ms\n",
            "video 1/1 (frame 15864/19159) /content/drive/MyDrive/punches/yolov10/test2.mp4: 384x640 (no detections), 10.9ms\n",
            "video 1/1 (frame 15865/19159) /content/drive/MyDrive/punches/yolov10/test2.mp4: 384x640 (no detections), 14.4ms\n",
            "video 1/1 (frame 15866/19159) /content/drive/MyDrive/punches/yolov10/test2.mp4: 384x640 1 jab, 13.9ms\n",
            "video 1/1 (frame 15867/19159) /content/drive/MyDrive/punches/yolov10/test2.mp4: 384x640 (no detections), 10.9ms\n",
            "video 1/1 (frame 15868/19159) /content/drive/MyDrive/punches/yolov10/test2.mp4: 384x640 (no detections), 21.1ms\n",
            "video 1/1 (frame 15869/19159) /content/drive/MyDrive/punches/yolov10/test2.mp4: 384x640 (no detections), 11.7ms\n",
            "video 1/1 (frame 15870/19159) /content/drive/MyDrive/punches/yolov10/test2.mp4: 384x640 1 jab, 11.1ms\n",
            "video 1/1 (frame 15871/19159) /content/drive/MyDrive/punches/yolov10/test2.mp4: 384x640 1 jab, 12.9ms\n",
            "video 1/1 (frame 15872/19159) /content/drive/MyDrive/punches/yolov10/test2.mp4: 384x640 1 jab, 17.0ms\n",
            "video 1/1 (frame 15873/19159) /content/drive/MyDrive/punches/yolov10/test2.mp4: 384x640 1 jab, 10.6ms\n",
            "video 1/1 (frame 15874/19159) /content/drive/MyDrive/punches/yolov10/test2.mp4: 384x640 1 jab, 11.2ms\n",
            "video 1/1 (frame 15875/19159) /content/drive/MyDrive/punches/yolov10/test2.mp4: 384x640 1 jab, 15.8ms\n",
            "video 1/1 (frame 15876/19159) /content/drive/MyDrive/punches/yolov10/test2.mp4: 384x640 1 jab, 10.9ms\n",
            "video 1/1 (frame 15877/19159) /content/drive/MyDrive/punches/yolov10/test2.mp4: 384x640 1 jab, 11.2ms\n",
            "video 1/1 (frame 15878/19159) /content/drive/MyDrive/punches/yolov10/test2.mp4: 384x640 1 jab, 10.5ms\n",
            "video 1/1 (frame 15879/19159) /content/drive/MyDrive/punches/yolov10/test2.mp4: 384x640 1 jab, 11.6ms\n",
            "video 1/1 (frame 15880/19159) /content/drive/MyDrive/punches/yolov10/test2.mp4: 384x640 1 jab, 13.2ms\n",
            "video 1/1 (frame 15881/19159) /content/drive/MyDrive/punches/yolov10/test2.mp4: 384x640 1 jab, 10.9ms\n",
            "video 1/1 (frame 15882/19159) /content/drive/MyDrive/punches/yolov10/test2.mp4: 384x640 1 jab, 10.4ms\n",
            "video 1/1 (frame 15883/19159) /content/drive/MyDrive/punches/yolov10/test2.mp4: 384x640 2 jabs, 10.4ms\n",
            "video 1/1 (frame 15884/19159) /content/drive/MyDrive/punches/yolov10/test2.mp4: 384x640 1 jab, 10.5ms\n",
            "video 1/1 (frame 15885/19159) /content/drive/MyDrive/punches/yolov10/test2.mp4: 384x640 (no detections), 15.0ms\n",
            "video 1/1 (frame 15886/19159) /content/drive/MyDrive/punches/yolov10/test2.mp4: 384x640 (no detections), 11.1ms\n",
            "video 1/1 (frame 15887/19159) /content/drive/MyDrive/punches/yolov10/test2.mp4: 384x640 (no detections), 11.1ms\n",
            "video 1/1 (frame 15888/19159) /content/drive/MyDrive/punches/yolov10/test2.mp4: 384x640 (no detections), 13.1ms\n",
            "video 1/1 (frame 15889/19159) /content/drive/MyDrive/punches/yolov10/test2.mp4: 384x640 (no detections), 13.4ms\n",
            "video 1/1 (frame 15890/19159) /content/drive/MyDrive/punches/yolov10/test2.mp4: 384x640 (no detections), 18.9ms\n",
            "video 1/1 (frame 15891/19159) /content/drive/MyDrive/punches/yolov10/test2.mp4: 384x640 (no detections), 12.0ms\n",
            "video 1/1 (frame 15892/19159) /content/drive/MyDrive/punches/yolov10/test2.mp4: 384x640 (no detections), 10.7ms\n",
            "video 1/1 (frame 15893/19159) /content/drive/MyDrive/punches/yolov10/test2.mp4: 384x640 (no detections), 11.1ms\n",
            "video 1/1 (frame 15894/19159) /content/drive/MyDrive/punches/yolov10/test2.mp4: 384x640 (no detections), 10.5ms\n",
            "video 1/1 (frame 15895/19159) /content/drive/MyDrive/punches/yolov10/test2.mp4: 384x640 (no detections), 10.7ms\n",
            "video 1/1 (frame 15896/19159) /content/drive/MyDrive/punches/yolov10/test2.mp4: 384x640 (no detections), 10.0ms\n",
            "video 1/1 (frame 15897/19159) /content/drive/MyDrive/punches/yolov10/test2.mp4: 384x640 (no detections), 10.3ms\n",
            "video 1/1 (frame 15898/19159) /content/drive/MyDrive/punches/yolov10/test2.mp4: 384x640 (no detections), 10.5ms\n",
            "video 1/1 (frame 15899/19159) /content/drive/MyDrive/punches/yolov10/test2.mp4: 384x640 1 jab, 10.1ms\n",
            "video 1/1 (frame 15900/19159) /content/drive/MyDrive/punches/yolov10/test2.mp4: 384x640 1 jab, 10.0ms\n",
            "video 1/1 (frame 15901/19159) /content/drive/MyDrive/punches/yolov10/test2.mp4: 384x640 1 jab, 10.1ms\n",
            "video 1/1 (frame 15902/19159) /content/drive/MyDrive/punches/yolov10/test2.mp4: 384x640 1 jab, 15.3ms\n",
            "video 1/1 (frame 15903/19159) /content/drive/MyDrive/punches/yolov10/test2.mp4: 384x640 1 jab, 11.5ms\n",
            "video 1/1 (frame 15904/19159) /content/drive/MyDrive/punches/yolov10/test2.mp4: 384x640 1 jab, 10.6ms\n",
            "video 1/1 (frame 15905/19159) /content/drive/MyDrive/punches/yolov10/test2.mp4: 384x640 1 jab, 10.3ms\n",
            "video 1/1 (frame 15906/19159) /content/drive/MyDrive/punches/yolov10/test2.mp4: 384x640 1 jab, 10.3ms\n",
            "video 1/1 (frame 15907/19159) /content/drive/MyDrive/punches/yolov10/test2.mp4: 384x640 (no detections), 10.8ms\n",
            "video 1/1 (frame 15908/19159) /content/drive/MyDrive/punches/yolov10/test2.mp4: 384x640 1 jab, 10.7ms\n",
            "video 1/1 (frame 15909/19159) /content/drive/MyDrive/punches/yolov10/test2.mp4: 384x640 1 jab, 10.3ms\n",
            "video 1/1 (frame 15910/19159) /content/drive/MyDrive/punches/yolov10/test2.mp4: 384x640 1 jab, 11.2ms\n",
            "video 1/1 (frame 15911/19159) /content/drive/MyDrive/punches/yolov10/test2.mp4: 384x640 1 jab, 10.7ms\n",
            "video 1/1 (frame 15912/19159) /content/drive/MyDrive/punches/yolov10/test2.mp4: 384x640 (no detections), 13.3ms\n",
            "video 1/1 (frame 15913/19159) /content/drive/MyDrive/punches/yolov10/test2.mp4: 384x640 (no detections), 13.3ms\n",
            "video 1/1 (frame 15914/19159) /content/drive/MyDrive/punches/yolov10/test2.mp4: 384x640 (no detections), 10.9ms\n",
            "video 1/1 (frame 15915/19159) /content/drive/MyDrive/punches/yolov10/test2.mp4: 384x640 (no detections), 11.4ms\n",
            "video 1/1 (frame 15916/19159) /content/drive/MyDrive/punches/yolov10/test2.mp4: 384x640 (no detections), 15.3ms\n",
            "video 1/1 (frame 15917/19159) /content/drive/MyDrive/punches/yolov10/test2.mp4: 384x640 (no detections), 10.7ms\n",
            "video 1/1 (frame 15918/19159) /content/drive/MyDrive/punches/yolov10/test2.mp4: 384x640 (no detections), 16.8ms\n",
            "video 1/1 (frame 15919/19159) /content/drive/MyDrive/punches/yolov10/test2.mp4: 384x640 (no detections), 10.7ms\n",
            "video 1/1 (frame 15920/19159) /content/drive/MyDrive/punches/yolov10/test2.mp4: 384x640 (no detections), 10.7ms\n",
            "video 1/1 (frame 15921/19159) /content/drive/MyDrive/punches/yolov10/test2.mp4: 384x640 (no detections), 10.2ms\n",
            "video 1/1 (frame 15922/19159) /content/drive/MyDrive/punches/yolov10/test2.mp4: 384x640 (no detections), 10.4ms\n",
            "video 1/1 (frame 15923/19159) /content/drive/MyDrive/punches/yolov10/test2.mp4: 384x640 (no detections), 19.5ms\n",
            "video 1/1 (frame 15924/19159) /content/drive/MyDrive/punches/yolov10/test2.mp4: 384x640 (no detections), 10.5ms\n",
            "video 1/1 (frame 15925/19159) /content/drive/MyDrive/punches/yolov10/test2.mp4: 384x640 (no detections), 14.2ms\n",
            "video 1/1 (frame 15926/19159) /content/drive/MyDrive/punches/yolov10/test2.mp4: 384x640 1 jab, 14.6ms\n",
            "video 1/1 (frame 15927/19159) /content/drive/MyDrive/punches/yolov10/test2.mp4: 384x640 (no detections), 10.7ms\n",
            "video 1/1 (frame 15928/19159) /content/drive/MyDrive/punches/yolov10/test2.mp4: 384x640 (no detections), 11.1ms\n",
            "video 1/1 (frame 15929/19159) /content/drive/MyDrive/punches/yolov10/test2.mp4: 384x640 (no detections), 10.6ms\n",
            "video 1/1 (frame 15930/19159) /content/drive/MyDrive/punches/yolov10/test2.mp4: 384x640 1 jab, 10.5ms\n",
            "video 1/1 (frame 15931/19159) /content/drive/MyDrive/punches/yolov10/test2.mp4: 384x640 1 jab, 11.0ms\n",
            "video 1/1 (frame 15932/19159) /content/drive/MyDrive/punches/yolov10/test2.mp4: 384x640 1 jab, 10.4ms\n",
            "video 1/1 (frame 15933/19159) /content/drive/MyDrive/punches/yolov10/test2.mp4: 384x640 1 jab, 11.3ms\n",
            "video 1/1 (frame 15934/19159) /content/drive/MyDrive/punches/yolov10/test2.mp4: 384x640 1 jab, 15.0ms\n",
            "video 1/1 (frame 15935/19159) /content/drive/MyDrive/punches/yolov10/test2.mp4: 384x640 (no detections), 12.9ms\n",
            "video 1/1 (frame 15936/19159) /content/drive/MyDrive/punches/yolov10/test2.mp4: 384x640 1 jab, 10.3ms\n",
            "video 1/1 (frame 15937/19159) /content/drive/MyDrive/punches/yolov10/test2.mp4: 384x640 (no detections), 10.5ms\n",
            "video 1/1 (frame 15938/19159) /content/drive/MyDrive/punches/yolov10/test2.mp4: 384x640 (no detections), 10.1ms\n",
            "video 1/1 (frame 15939/19159) /content/drive/MyDrive/punches/yolov10/test2.mp4: 384x640 (no detections), 11.2ms\n",
            "video 1/1 (frame 15940/19159) /content/drive/MyDrive/punches/yolov10/test2.mp4: 384x640 (no detections), 10.4ms\n",
            "video 1/1 (frame 15941/19159) /content/drive/MyDrive/punches/yolov10/test2.mp4: 384x640 (no detections), 10.0ms\n",
            "video 1/1 (frame 15942/19159) /content/drive/MyDrive/punches/yolov10/test2.mp4: 384x640 (no detections), 10.8ms\n",
            "video 1/1 (frame 15943/19159) /content/drive/MyDrive/punches/yolov10/test2.mp4: 384x640 (no detections), 12.2ms\n",
            "video 1/1 (frame 15944/19159) /content/drive/MyDrive/punches/yolov10/test2.mp4: 384x640 (no detections), 12.3ms\n",
            "video 1/1 (frame 15945/19159) /content/drive/MyDrive/punches/yolov10/test2.mp4: 384x640 (no detections), 11.6ms\n",
            "video 1/1 (frame 15946/19159) /content/drive/MyDrive/punches/yolov10/test2.mp4: 384x640 (no detections), 10.6ms\n",
            "video 1/1 (frame 15947/19159) /content/drive/MyDrive/punches/yolov10/test2.mp4: 384x640 (no detections), 11.2ms\n",
            "video 1/1 (frame 15948/19159) /content/drive/MyDrive/punches/yolov10/test2.mp4: 384x640 (no detections), 10.6ms\n",
            "video 1/1 (frame 15949/19159) /content/drive/MyDrive/punches/yolov10/test2.mp4: 384x640 (no detections), 11.2ms\n",
            "video 1/1 (frame 15950/19159) /content/drive/MyDrive/punches/yolov10/test2.mp4: 384x640 (no detections), 10.9ms\n",
            "video 1/1 (frame 15951/19159) /content/drive/MyDrive/punches/yolov10/test2.mp4: 384x640 (no detections), 17.1ms\n",
            "video 1/1 (frame 15952/19159) /content/drive/MyDrive/punches/yolov10/test2.mp4: 384x640 (no detections), 11.0ms\n",
            "video 1/1 (frame 15953/19159) /content/drive/MyDrive/punches/yolov10/test2.mp4: 384x640 (no detections), 10.8ms\n",
            "video 1/1 (frame 15954/19159) /content/drive/MyDrive/punches/yolov10/test2.mp4: 384x640 (no detections), 10.6ms\n",
            "video 1/1 (frame 15955/19159) /content/drive/MyDrive/punches/yolov10/test2.mp4: 384x640 (no detections), 10.4ms\n",
            "video 1/1 (frame 15956/19159) /content/drive/MyDrive/punches/yolov10/test2.mp4: 384x640 (no detections), 10.7ms\n",
            "video 1/1 (frame 15957/19159) /content/drive/MyDrive/punches/yolov10/test2.mp4: 384x640 (no detections), 10.9ms\n",
            "video 1/1 (frame 15958/19159) /content/drive/MyDrive/punches/yolov10/test2.mp4: 384x640 (no detections), 10.8ms\n",
            "video 1/1 (frame 15959/19159) /content/drive/MyDrive/punches/yolov10/test2.mp4: 384x640 (no detections), 12.2ms\n",
            "video 1/1 (frame 15960/19159) /content/drive/MyDrive/punches/yolov10/test2.mp4: 384x640 (no detections), 14.8ms\n",
            "video 1/1 (frame 15961/19159) /content/drive/MyDrive/punches/yolov10/test2.mp4: 384x640 (no detections), 11.6ms\n",
            "video 1/1 (frame 15962/19159) /content/drive/MyDrive/punches/yolov10/test2.mp4: 384x640 (no detections), 11.5ms\n",
            "video 1/1 (frame 15963/19159) /content/drive/MyDrive/punches/yolov10/test2.mp4: 384x640 (no detections), 14.6ms\n",
            "video 1/1 (frame 15964/19159) /content/drive/MyDrive/punches/yolov10/test2.mp4: 384x640 (no detections), 10.8ms\n",
            "video 1/1 (frame 15965/19159) /content/drive/MyDrive/punches/yolov10/test2.mp4: 384x640 1 jab, 11.0ms\n",
            "video 1/1 (frame 15966/19159) /content/drive/MyDrive/punches/yolov10/test2.mp4: 384x640 1 jab, 12.5ms\n",
            "video 1/1 (frame 15967/19159) /content/drive/MyDrive/punches/yolov10/test2.mp4: 384x640 1 jab, 11.3ms\n",
            "video 1/1 (frame 15968/19159) /content/drive/MyDrive/punches/yolov10/test2.mp4: 384x640 (no detections), 10.5ms\n",
            "video 1/1 (frame 15969/19159) /content/drive/MyDrive/punches/yolov10/test2.mp4: 384x640 (no detections), 10.5ms\n",
            "video 1/1 (frame 15970/19159) /content/drive/MyDrive/punches/yolov10/test2.mp4: 384x640 (no detections), 10.7ms\n",
            "video 1/1 (frame 15971/19159) /content/drive/MyDrive/punches/yolov10/test2.mp4: 384x640 (no detections), 10.5ms\n",
            "video 1/1 (frame 15972/19159) /content/drive/MyDrive/punches/yolov10/test2.mp4: 384x640 (no detections), 12.6ms\n",
            "video 1/1 (frame 15973/19159) /content/drive/MyDrive/punches/yolov10/test2.mp4: 384x640 (no detections), 13.4ms\n",
            "video 1/1 (frame 15974/19159) /content/drive/MyDrive/punches/yolov10/test2.mp4: 384x640 2 jabs, 11.4ms\n",
            "video 1/1 (frame 15975/19159) /content/drive/MyDrive/punches/yolov10/test2.mp4: 384x640 1 jab, 11.7ms\n",
            "video 1/1 (frame 15976/19159) /content/drive/MyDrive/punches/yolov10/test2.mp4: 384x640 1 jab, 11.3ms\n",
            "video 1/1 (frame 15977/19159) /content/drive/MyDrive/punches/yolov10/test2.mp4: 384x640 (no detections), 11.8ms\n",
            "video 1/1 (frame 15978/19159) /content/drive/MyDrive/punches/yolov10/test2.mp4: 384x640 1 jab, 14.6ms\n",
            "video 1/1 (frame 15979/19159) /content/drive/MyDrive/punches/yolov10/test2.mp4: 384x640 1 jab, 26.9ms\n",
            "video 1/1 (frame 15980/19159) /content/drive/MyDrive/punches/yolov10/test2.mp4: 384x640 1 jab, 11.8ms\n",
            "video 1/1 (frame 15981/19159) /content/drive/MyDrive/punches/yolov10/test2.mp4: 384x640 1 jab, 11.9ms\n",
            "video 1/1 (frame 15982/19159) /content/drive/MyDrive/punches/yolov10/test2.mp4: 384x640 (no detections), 10.8ms\n",
            "video 1/1 (frame 15983/19159) /content/drive/MyDrive/punches/yolov10/test2.mp4: 384x640 (no detections), 10.7ms\n",
            "video 1/1 (frame 15984/19159) /content/drive/MyDrive/punches/yolov10/test2.mp4: 384x640 1 jab, 10.4ms\n",
            "video 1/1 (frame 15985/19159) /content/drive/MyDrive/punches/yolov10/test2.mp4: 384x640 1 jab, 10.9ms\n",
            "video 1/1 (frame 15986/19159) /content/drive/MyDrive/punches/yolov10/test2.mp4: 384x640 1 jab, 10.0ms\n",
            "video 1/1 (frame 15987/19159) /content/drive/MyDrive/punches/yolov10/test2.mp4: 384x640 2 jabs, 10.2ms\n",
            "video 1/1 (frame 15988/19159) /content/drive/MyDrive/punches/yolov10/test2.mp4: 384x640 1 jab, 10.1ms\n",
            "video 1/1 (frame 15989/19159) /content/drive/MyDrive/punches/yolov10/test2.mp4: 384x640 (no detections), 15.1ms\n",
            "video 1/1 (frame 15990/19159) /content/drive/MyDrive/punches/yolov10/test2.mp4: 384x640 (no detections), 10.4ms\n",
            "video 1/1 (frame 15991/19159) /content/drive/MyDrive/punches/yolov10/test2.mp4: 384x640 1 jab, 10.3ms\n",
            "video 1/1 (frame 15992/19159) /content/drive/MyDrive/punches/yolov10/test2.mp4: 384x640 1 jab, 10.3ms\n",
            "video 1/1 (frame 15993/19159) /content/drive/MyDrive/punches/yolov10/test2.mp4: 384x640 (no detections), 11.0ms\n",
            "video 1/1 (frame 15994/19159) /content/drive/MyDrive/punches/yolov10/test2.mp4: 384x640 (no detections), 12.5ms\n",
            "video 1/1 (frame 15995/19159) /content/drive/MyDrive/punches/yolov10/test2.mp4: 384x640 (no detections), 24.3ms\n",
            "video 1/1 (frame 15996/19159) /content/drive/MyDrive/punches/yolov10/test2.mp4: 384x640 (no detections), 18.5ms\n",
            "video 1/1 (frame 15997/19159) /content/drive/MyDrive/punches/yolov10/test2.mp4: 384x640 (no detections), 12.8ms\n",
            "video 1/1 (frame 15998/19159) /content/drive/MyDrive/punches/yolov10/test2.mp4: 384x640 (no detections), 10.8ms\n",
            "video 1/1 (frame 15999/19159) /content/drive/MyDrive/punches/yolov10/test2.mp4: 384x640 1 jab, 11.2ms\n",
            "video 1/1 (frame 16000/19159) /content/drive/MyDrive/punches/yolov10/test2.mp4: 384x640 (no detections), 11.9ms\n",
            "video 1/1 (frame 16001/19159) /content/drive/MyDrive/punches/yolov10/test2.mp4: 384x640 (no detections), 10.7ms\n",
            "video 1/1 (frame 16002/19159) /content/drive/MyDrive/punches/yolov10/test2.mp4: 384x640 (no detections), 10.9ms\n",
            "video 1/1 (frame 16003/19159) /content/drive/MyDrive/punches/yolov10/test2.mp4: 384x640 1 jab, 10.0ms\n",
            "video 1/1 (frame 16004/19159) /content/drive/MyDrive/punches/yolov10/test2.mp4: 384x640 1 jab, 17.9ms\n",
            "video 1/1 (frame 16005/19159) /content/drive/MyDrive/punches/yolov10/test2.mp4: 384x640 1 jab, 11.3ms\n",
            "video 1/1 (frame 16006/19159) /content/drive/MyDrive/punches/yolov10/test2.mp4: 384x640 (no detections), 10.4ms\n",
            "video 1/1 (frame 16007/19159) /content/drive/MyDrive/punches/yolov10/test2.mp4: 384x640 1 jab, 10.0ms\n",
            "video 1/1 (frame 16008/19159) /content/drive/MyDrive/punches/yolov10/test2.mp4: 384x640 1 jab, 10.5ms\n",
            "video 1/1 (frame 16009/19159) /content/drive/MyDrive/punches/yolov10/test2.mp4: 384x640 1 jab, 11.1ms\n",
            "video 1/1 (frame 16010/19159) /content/drive/MyDrive/punches/yolov10/test2.mp4: 384x640 1 jab, 10.8ms\n",
            "video 1/1 (frame 16011/19159) /content/drive/MyDrive/punches/yolov10/test2.mp4: 384x640 1 jab, 10.7ms\n",
            "video 1/1 (frame 16012/19159) /content/drive/MyDrive/punches/yolov10/test2.mp4: 384x640 (no detections), 10.4ms\n",
            "video 1/1 (frame 16013/19159) /content/drive/MyDrive/punches/yolov10/test2.mp4: 384x640 (no detections), 10.1ms\n",
            "video 1/1 (frame 16014/19159) /content/drive/MyDrive/punches/yolov10/test2.mp4: 384x640 (no detections), 10.7ms\n",
            "video 1/1 (frame 16015/19159) /content/drive/MyDrive/punches/yolov10/test2.mp4: 384x640 (no detections), 11.3ms\n",
            "video 1/1 (frame 16016/19159) /content/drive/MyDrive/punches/yolov10/test2.mp4: 384x640 (no detections), 10.9ms\n",
            "video 1/1 (frame 16017/19159) /content/drive/MyDrive/punches/yolov10/test2.mp4: 384x640 (no detections), 10.7ms\n",
            "video 1/1 (frame 16018/19159) /content/drive/MyDrive/punches/yolov10/test2.mp4: 384x640 (no detections), 10.6ms\n",
            "video 1/1 (frame 16019/19159) /content/drive/MyDrive/punches/yolov10/test2.mp4: 384x640 (no detections), 12.1ms\n",
            "video 1/1 (frame 16020/19159) /content/drive/MyDrive/punches/yolov10/test2.mp4: 384x640 (no detections), 10.3ms\n",
            "video 1/1 (frame 16021/19159) /content/drive/MyDrive/punches/yolov10/test2.mp4: 384x640 (no detections), 17.4ms\n",
            "video 1/1 (frame 16022/19159) /content/drive/MyDrive/punches/yolov10/test2.mp4: 384x640 (no detections), 12.2ms\n",
            "video 1/1 (frame 16023/19159) /content/drive/MyDrive/punches/yolov10/test2.mp4: 384x640 (no detections), 11.4ms\n",
            "video 1/1 (frame 16024/19159) /content/drive/MyDrive/punches/yolov10/test2.mp4: 384x640 (no detections), 10.5ms\n",
            "video 1/1 (frame 16025/19159) /content/drive/MyDrive/punches/yolov10/test2.mp4: 384x640 (no detections), 11.0ms\n",
            "video 1/1 (frame 16026/19159) /content/drive/MyDrive/punches/yolov10/test2.mp4: 384x640 (no detections), 10.8ms\n",
            "video 1/1 (frame 16027/19159) /content/drive/MyDrive/punches/yolov10/test2.mp4: 384x640 (no detections), 10.5ms\n",
            "video 1/1 (frame 16028/19159) /content/drive/MyDrive/punches/yolov10/test2.mp4: 384x640 (no detections), 13.0ms\n",
            "video 1/1 (frame 16029/19159) /content/drive/MyDrive/punches/yolov10/test2.mp4: 384x640 (no detections), 10.6ms\n",
            "video 1/1 (frame 16030/19159) /content/drive/MyDrive/punches/yolov10/test2.mp4: 384x640 (no detections), 11.3ms\n",
            "video 1/1 (frame 16031/19159) /content/drive/MyDrive/punches/yolov10/test2.mp4: 384x640 1 jab, 11.2ms\n",
            "video 1/1 (frame 16032/19159) /content/drive/MyDrive/punches/yolov10/test2.mp4: 384x640 1 jab, 13.8ms\n",
            "video 1/1 (frame 16033/19159) /content/drive/MyDrive/punches/yolov10/test2.mp4: 384x640 1 jab, 18.1ms\n",
            "video 1/1 (frame 16034/19159) /content/drive/MyDrive/punches/yolov10/test2.mp4: 384x640 1 jab, 17.1ms\n",
            "video 1/1 (frame 16035/19159) /content/drive/MyDrive/punches/yolov10/test2.mp4: 384x640 1 jab, 15.3ms\n",
            "video 1/1 (frame 16036/19159) /content/drive/MyDrive/punches/yolov10/test2.mp4: 384x640 1 jab, 11.5ms\n",
            "video 1/1 (frame 16037/19159) /content/drive/MyDrive/punches/yolov10/test2.mp4: 384x640 2 jabs, 11.0ms\n",
            "video 1/1 (frame 16038/19159) /content/drive/MyDrive/punches/yolov10/test2.mp4: 384x640 1 jab, 10.5ms\n",
            "video 1/1 (frame 16039/19159) /content/drive/MyDrive/punches/yolov10/test2.mp4: 384x640 1 jab, 15.7ms\n",
            "video 1/1 (frame 16040/19159) /content/drive/MyDrive/punches/yolov10/test2.mp4: 384x640 1 jab, 10.6ms\n",
            "video 1/1 (frame 16041/19159) /content/drive/MyDrive/punches/yolov10/test2.mp4: 384x640 (no detections), 22.7ms\n",
            "video 1/1 (frame 16042/19159) /content/drive/MyDrive/punches/yolov10/test2.mp4: 384x640 (no detections), 11.2ms\n",
            "video 1/1 (frame 16043/19159) /content/drive/MyDrive/punches/yolov10/test2.mp4: 384x640 (no detections), 11.2ms\n",
            "video 1/1 (frame 16044/19159) /content/drive/MyDrive/punches/yolov10/test2.mp4: 384x640 (no detections), 10.3ms\n",
            "video 1/1 (frame 16045/19159) /content/drive/MyDrive/punches/yolov10/test2.mp4: 384x640 (no detections), 10.3ms\n",
            "video 1/1 (frame 16046/19159) /content/drive/MyDrive/punches/yolov10/test2.mp4: 384x640 (no detections), 11.3ms\n",
            "video 1/1 (frame 16047/19159) /content/drive/MyDrive/punches/yolov10/test2.mp4: 384x640 (no detections), 13.6ms\n",
            "video 1/1 (frame 16048/19159) /content/drive/MyDrive/punches/yolov10/test2.mp4: 384x640 (no detections), 11.1ms\n",
            "video 1/1 (frame 16049/19159) /content/drive/MyDrive/punches/yolov10/test2.mp4: 384x640 (no detections), 10.6ms\n",
            "video 1/1 (frame 16050/19159) /content/drive/MyDrive/punches/yolov10/test2.mp4: 384x640 (no detections), 11.8ms\n",
            "video 1/1 (frame 16051/19159) /content/drive/MyDrive/punches/yolov10/test2.mp4: 384x640 (no detections), 10.7ms\n",
            "video 1/1 (frame 16052/19159) /content/drive/MyDrive/punches/yolov10/test2.mp4: 384x640 (no detections), 10.1ms\n",
            "video 1/1 (frame 16053/19159) /content/drive/MyDrive/punches/yolov10/test2.mp4: 384x640 (no detections), 14.3ms\n",
            "video 1/1 (frame 16054/19159) /content/drive/MyDrive/punches/yolov10/test2.mp4: 384x640 (no detections), 10.6ms\n",
            "video 1/1 (frame 16055/19159) /content/drive/MyDrive/punches/yolov10/test2.mp4: 384x640 (no detections), 10.6ms\n",
            "video 1/1 (frame 16056/19159) /content/drive/MyDrive/punches/yolov10/test2.mp4: 384x640 (no detections), 10.4ms\n",
            "video 1/1 (frame 16057/19159) /content/drive/MyDrive/punches/yolov10/test2.mp4: 384x640 (no detections), 10.1ms\n",
            "video 1/1 (frame 16058/19159) /content/drive/MyDrive/punches/yolov10/test2.mp4: 384x640 (no detections), 12.8ms\n",
            "video 1/1 (frame 16059/19159) /content/drive/MyDrive/punches/yolov10/test2.mp4: 384x640 (no detections), 11.2ms\n",
            "video 1/1 (frame 16060/19159) /content/drive/MyDrive/punches/yolov10/test2.mp4: 384x640 (no detections), 10.2ms\n",
            "video 1/1 (frame 16061/19159) /content/drive/MyDrive/punches/yolov10/test2.mp4: 384x640 (no detections), 10.2ms\n",
            "video 1/1 (frame 16062/19159) /content/drive/MyDrive/punches/yolov10/test2.mp4: 384x640 (no detections), 10.1ms\n",
            "video 1/1 (frame 16063/19159) /content/drive/MyDrive/punches/yolov10/test2.mp4: 384x640 (no detections), 11.0ms\n",
            "video 1/1 (frame 16064/19159) /content/drive/MyDrive/punches/yolov10/test2.mp4: 384x640 (no detections), 10.4ms\n",
            "video 1/1 (frame 16065/19159) /content/drive/MyDrive/punches/yolov10/test2.mp4: 384x640 (no detections), 10.4ms\n",
            "video 1/1 (frame 16066/19159) /content/drive/MyDrive/punches/yolov10/test2.mp4: 384x640 (no detections), 10.1ms\n",
            "video 1/1 (frame 16067/19159) /content/drive/MyDrive/punches/yolov10/test2.mp4: 384x640 (no detections), 10.2ms\n",
            "video 1/1 (frame 16068/19159) /content/drive/MyDrive/punches/yolov10/test2.mp4: 384x640 (no detections), 10.4ms\n",
            "video 1/1 (frame 16069/19159) /content/drive/MyDrive/punches/yolov10/test2.mp4: 384x640 (no detections), 12.6ms\n",
            "video 1/1 (frame 16070/19159) /content/drive/MyDrive/punches/yolov10/test2.mp4: 384x640 (no detections), 13.0ms\n",
            "video 1/1 (frame 16071/19159) /content/drive/MyDrive/punches/yolov10/test2.mp4: 384x640 (no detections), 11.6ms\n",
            "video 1/1 (frame 16072/19159) /content/drive/MyDrive/punches/yolov10/test2.mp4: 384x640 (no detections), 12.2ms\n",
            "video 1/1 (frame 16073/19159) /content/drive/MyDrive/punches/yolov10/test2.mp4: 384x640 (no detections), 10.8ms\n",
            "video 1/1 (frame 16074/19159) /content/drive/MyDrive/punches/yolov10/test2.mp4: 384x640 (no detections), 10.8ms\n",
            "video 1/1 (frame 16075/19159) /content/drive/MyDrive/punches/yolov10/test2.mp4: 384x640 (no detections), 11.0ms\n",
            "video 1/1 (frame 16076/19159) /content/drive/MyDrive/punches/yolov10/test2.mp4: 384x640 (no detections), 10.2ms\n",
            "video 1/1 (frame 16077/19159) /content/drive/MyDrive/punches/yolov10/test2.mp4: 384x640 1 jab, 10.9ms\n",
            "video 1/1 (frame 16078/19159) /content/drive/MyDrive/punches/yolov10/test2.mp4: 384x640 1 jab, 10.3ms\n",
            "video 1/1 (frame 16079/19159) /content/drive/MyDrive/punches/yolov10/test2.mp4: 384x640 1 jab, 22.4ms\n",
            "video 1/1 (frame 16080/19159) /content/drive/MyDrive/punches/yolov10/test2.mp4: 384x640 1 jab, 16.2ms\n",
            "video 1/1 (frame 16081/19159) /content/drive/MyDrive/punches/yolov10/test2.mp4: 384x640 1 jab, 12.2ms\n",
            "video 1/1 (frame 16082/19159) /content/drive/MyDrive/punches/yolov10/test2.mp4: 384x640 (no detections), 11.1ms\n",
            "video 1/1 (frame 16083/19159) /content/drive/MyDrive/punches/yolov10/test2.mp4: 384x640 (no detections), 10.5ms\n",
            "video 1/1 (frame 16084/19159) /content/drive/MyDrive/punches/yolov10/test2.mp4: 384x640 (no detections), 10.1ms\n",
            "video 1/1 (frame 16085/19159) /content/drive/MyDrive/punches/yolov10/test2.mp4: 384x640 (no detections), 15.2ms\n",
            "video 1/1 (frame 16086/19159) /content/drive/MyDrive/punches/yolov10/test2.mp4: 384x640 (no detections), 16.2ms\n",
            "video 1/1 (frame 16087/19159) /content/drive/MyDrive/punches/yolov10/test2.mp4: 384x640 (no detections), 10.5ms\n",
            "video 1/1 (frame 16088/19159) /content/drive/MyDrive/punches/yolov10/test2.mp4: 384x640 (no detections), 14.8ms\n",
            "video 1/1 (frame 16089/19159) /content/drive/MyDrive/punches/yolov10/test2.mp4: 384x640 (no detections), 15.3ms\n",
            "video 1/1 (frame 16090/19159) /content/drive/MyDrive/punches/yolov10/test2.mp4: 384x640 (no detections), 16.6ms\n",
            "video 1/1 (frame 16091/19159) /content/drive/MyDrive/punches/yolov10/test2.mp4: 384x640 (no detections), 11.8ms\n",
            "video 1/1 (frame 16092/19159) /content/drive/MyDrive/punches/yolov10/test2.mp4: 384x640 (no detections), 12.2ms\n",
            "video 1/1 (frame 16093/19159) /content/drive/MyDrive/punches/yolov10/test2.mp4: 384x640 (no detections), 10.7ms\n",
            "video 1/1 (frame 16094/19159) /content/drive/MyDrive/punches/yolov10/test2.mp4: 384x640 (no detections), 10.4ms\n",
            "video 1/1 (frame 16095/19159) /content/drive/MyDrive/punches/yolov10/test2.mp4: 384x640 (no detections), 13.1ms\n",
            "video 1/1 (frame 16096/19159) /content/drive/MyDrive/punches/yolov10/test2.mp4: 384x640 (no detections), 10.5ms\n",
            "video 1/1 (frame 16097/19159) /content/drive/MyDrive/punches/yolov10/test2.mp4: 384x640 (no detections), 10.0ms\n",
            "video 1/1 (frame 16098/19159) /content/drive/MyDrive/punches/yolov10/test2.mp4: 384x640 (no detections), 10.4ms\n",
            "video 1/1 (frame 16099/19159) /content/drive/MyDrive/punches/yolov10/test2.mp4: 384x640 (no detections), 10.7ms\n",
            "video 1/1 (frame 16100/19159) /content/drive/MyDrive/punches/yolov10/test2.mp4: 384x640 (no detections), 10.4ms\n",
            "video 1/1 (frame 16101/19159) /content/drive/MyDrive/punches/yolov10/test2.mp4: 384x640 (no detections), 10.9ms\n",
            "video 1/1 (frame 16102/19159) /content/drive/MyDrive/punches/yolov10/test2.mp4: 384x640 (no detections), 11.7ms\n",
            "video 1/1 (frame 16103/19159) /content/drive/MyDrive/punches/yolov10/test2.mp4: 384x640 (no detections), 10.3ms\n",
            "video 1/1 (frame 16104/19159) /content/drive/MyDrive/punches/yolov10/test2.mp4: 384x640 (no detections), 10.8ms\n",
            "video 1/1 (frame 16105/19159) /content/drive/MyDrive/punches/yolov10/test2.mp4: 384x640 (no detections), 10.2ms\n",
            "video 1/1 (frame 16106/19159) /content/drive/MyDrive/punches/yolov10/test2.mp4: 384x640 (no detections), 10.5ms\n",
            "video 1/1 (frame 16107/19159) /content/drive/MyDrive/punches/yolov10/test2.mp4: 384x640 (no detections), 19.6ms\n",
            "video 1/1 (frame 16108/19159) /content/drive/MyDrive/punches/yolov10/test2.mp4: 384x640 (no detections), 11.0ms\n",
            "video 1/1 (frame 16109/19159) /content/drive/MyDrive/punches/yolov10/test2.mp4: 384x640 (no detections), 11.1ms\n",
            "video 1/1 (frame 16110/19159) /content/drive/MyDrive/punches/yolov10/test2.mp4: 384x640 (no detections), 11.0ms\n",
            "video 1/1 (frame 16111/19159) /content/drive/MyDrive/punches/yolov10/test2.mp4: 384x640 (no detections), 10.5ms\n",
            "video 1/1 (frame 16112/19159) /content/drive/MyDrive/punches/yolov10/test2.mp4: 384x640 (no detections), 11.5ms\n",
            "video 1/1 (frame 16113/19159) /content/drive/MyDrive/punches/yolov10/test2.mp4: 384x640 (no detections), 10.3ms\n",
            "video 1/1 (frame 16114/19159) /content/drive/MyDrive/punches/yolov10/test2.mp4: 384x640 (no detections), 10.3ms\n",
            "video 1/1 (frame 16115/19159) /content/drive/MyDrive/punches/yolov10/test2.mp4: 384x640 (no detections), 10.1ms\n",
            "video 1/1 (frame 16116/19159) /content/drive/MyDrive/punches/yolov10/test2.mp4: 384x640 (no detections), 10.1ms\n",
            "video 1/1 (frame 16117/19159) /content/drive/MyDrive/punches/yolov10/test2.mp4: 384x640 (no detections), 10.3ms\n",
            "video 1/1 (frame 16118/19159) /content/drive/MyDrive/punches/yolov10/test2.mp4: 384x640 (no detections), 10.7ms\n",
            "video 1/1 (frame 16119/19159) /content/drive/MyDrive/punches/yolov10/test2.mp4: 384x640 (no detections), 10.8ms\n",
            "video 1/1 (frame 16120/19159) /content/drive/MyDrive/punches/yolov10/test2.mp4: 384x640 (no detections), 10.8ms\n",
            "video 1/1 (frame 16121/19159) /content/drive/MyDrive/punches/yolov10/test2.mp4: 384x640 1 jab, 10.5ms\n",
            "video 1/1 (frame 16122/19159) /content/drive/MyDrive/punches/yolov10/test2.mp4: 384x640 1 jab, 10.4ms\n",
            "video 1/1 (frame 16123/19159) /content/drive/MyDrive/punches/yolov10/test2.mp4: 384x640 1 jab, 10.9ms\n",
            "video 1/1 (frame 16124/19159) /content/drive/MyDrive/punches/yolov10/test2.mp4: 384x640 1 jab, 13.4ms\n",
            "video 1/1 (frame 16125/19159) /content/drive/MyDrive/punches/yolov10/test2.mp4: 384x640 1 jab, 12.5ms\n",
            "video 1/1 (frame 16126/19159) /content/drive/MyDrive/punches/yolov10/test2.mp4: 384x640 1 jab, 18.9ms\n",
            "video 1/1 (frame 16127/19159) /content/drive/MyDrive/punches/yolov10/test2.mp4: 384x640 (no detections), 20.3ms\n",
            "video 1/1 (frame 16128/19159) /content/drive/MyDrive/punches/yolov10/test2.mp4: 384x640 (no detections), 21.4ms\n",
            "video 1/1 (frame 16129/19159) /content/drive/MyDrive/punches/yolov10/test2.mp4: 384x640 (no detections), 20.6ms\n",
            "video 1/1 (frame 16130/19159) /content/drive/MyDrive/punches/yolov10/test2.mp4: 384x640 (no detections), 16.9ms\n",
            "video 1/1 (frame 16131/19159) /content/drive/MyDrive/punches/yolov10/test2.mp4: 384x640 (no detections), 21.1ms\n",
            "video 1/1 (frame 16132/19159) /content/drive/MyDrive/punches/yolov10/test2.mp4: 384x640 (no detections), 23.0ms\n",
            "video 1/1 (frame 16133/19159) /content/drive/MyDrive/punches/yolov10/test2.mp4: 384x640 (no detections), 18.3ms\n",
            "video 1/1 (frame 16134/19159) /content/drive/MyDrive/punches/yolov10/test2.mp4: 384x640 (no detections), 24.2ms\n",
            "video 1/1 (frame 16135/19159) /content/drive/MyDrive/punches/yolov10/test2.mp4: 384x640 (no detections), 20.4ms\n",
            "video 1/1 (frame 16136/19159) /content/drive/MyDrive/punches/yolov10/test2.mp4: 384x640 (no detections), 16.5ms\n",
            "video 1/1 (frame 16137/19159) /content/drive/MyDrive/punches/yolov10/test2.mp4: 384x640 (no detections), 17.4ms\n",
            "video 1/1 (frame 16138/19159) /content/drive/MyDrive/punches/yolov10/test2.mp4: 384x640 (no detections), 18.8ms\n",
            "video 1/1 (frame 16139/19159) /content/drive/MyDrive/punches/yolov10/test2.mp4: 384x640 (no detections), 14.7ms\n",
            "video 1/1 (frame 16140/19159) /content/drive/MyDrive/punches/yolov10/test2.mp4: 384x640 (no detections), 14.4ms\n",
            "video 1/1 (frame 16141/19159) /content/drive/MyDrive/punches/yolov10/test2.mp4: 384x640 (no detections), 19.6ms\n",
            "video 1/1 (frame 16142/19159) /content/drive/MyDrive/punches/yolov10/test2.mp4: 384x640 (no detections), 16.9ms\n",
            "video 1/1 (frame 16143/19159) /content/drive/MyDrive/punches/yolov10/test2.mp4: 384x640 (no detections), 14.6ms\n",
            "video 1/1 (frame 16144/19159) /content/drive/MyDrive/punches/yolov10/test2.mp4: 384x640 (no detections), 14.2ms\n",
            "video 1/1 (frame 16145/19159) /content/drive/MyDrive/punches/yolov10/test2.mp4: 384x640 (no detections), 14.4ms\n",
            "video 1/1 (frame 16146/19159) /content/drive/MyDrive/punches/yolov10/test2.mp4: 384x640 (no detections), 14.4ms\n",
            "video 1/1 (frame 16147/19159) /content/drive/MyDrive/punches/yolov10/test2.mp4: 384x640 (no detections), 16.5ms\n",
            "video 1/1 (frame 16148/19159) /content/drive/MyDrive/punches/yolov10/test2.mp4: 384x640 (no detections), 13.4ms\n",
            "video 1/1 (frame 16149/19159) /content/drive/MyDrive/punches/yolov10/test2.mp4: 384x640 (no detections), 13.4ms\n",
            "video 1/1 (frame 16150/19159) /content/drive/MyDrive/punches/yolov10/test2.mp4: 384x640 (no detections), 13.5ms\n",
            "video 1/1 (frame 16151/19159) /content/drive/MyDrive/punches/yolov10/test2.mp4: 384x640 (no detections), 13.3ms\n",
            "video 1/1 (frame 16152/19159) /content/drive/MyDrive/punches/yolov10/test2.mp4: 384x640 (no detections), 13.4ms\n",
            "video 1/1 (frame 16153/19159) /content/drive/MyDrive/punches/yolov10/test2.mp4: 384x640 (no detections), 19.2ms\n",
            "video 1/1 (frame 16154/19159) /content/drive/MyDrive/punches/yolov10/test2.mp4: 384x640 (no detections), 24.7ms\n",
            "video 1/1 (frame 16155/19159) /content/drive/MyDrive/punches/yolov10/test2.mp4: 384x640 (no detections), 16.6ms\n",
            "video 1/1 (frame 16156/19159) /content/drive/MyDrive/punches/yolov10/test2.mp4: 384x640 (no detections), 13.6ms\n",
            "video 1/1 (frame 16157/19159) /content/drive/MyDrive/punches/yolov10/test2.mp4: 384x640 (no detections), 13.6ms\n",
            "video 1/1 (frame 16158/19159) /content/drive/MyDrive/punches/yolov10/test2.mp4: 384x640 (no detections), 13.4ms\n",
            "video 1/1 (frame 16159/19159) /content/drive/MyDrive/punches/yolov10/test2.mp4: 384x640 1 jab, 35.6ms\n",
            "video 1/1 (frame 16160/19159) /content/drive/MyDrive/punches/yolov10/test2.mp4: 384x640 (no detections), 13.3ms\n",
            "video 1/1 (frame 16161/19159) /content/drive/MyDrive/punches/yolov10/test2.mp4: 384x640 (no detections), 14.9ms\n",
            "video 1/1 (frame 16162/19159) /content/drive/MyDrive/punches/yolov10/test2.mp4: 384x640 (no detections), 14.7ms\n",
            "video 1/1 (frame 16163/19159) /content/drive/MyDrive/punches/yolov10/test2.mp4: 384x640 (no detections), 13.1ms\n",
            "video 1/1 (frame 16164/19159) /content/drive/MyDrive/punches/yolov10/test2.mp4: 384x640 (no detections), 13.1ms\n",
            "video 1/1 (frame 16165/19159) /content/drive/MyDrive/punches/yolov10/test2.mp4: 384x640 (no detections), 13.3ms\n",
            "video 1/1 (frame 16166/19159) /content/drive/MyDrive/punches/yolov10/test2.mp4: 384x640 (no detections), 15.2ms\n",
            "video 1/1 (frame 16167/19159) /content/drive/MyDrive/punches/yolov10/test2.mp4: 384x640 (no detections), 15.0ms\n",
            "video 1/1 (frame 16168/19159) /content/drive/MyDrive/punches/yolov10/test2.mp4: 384x640 (no detections), 13.6ms\n",
            "video 1/1 (frame 16169/19159) /content/drive/MyDrive/punches/yolov10/test2.mp4: 384x640 (no detections), 22.4ms\n",
            "video 1/1 (frame 16170/19159) /content/drive/MyDrive/punches/yolov10/test2.mp4: 384x640 (no detections), 17.4ms\n",
            "video 1/1 (frame 16171/19159) /content/drive/MyDrive/punches/yolov10/test2.mp4: 384x640 (no detections), 21.2ms\n",
            "video 1/1 (frame 16172/19159) /content/drive/MyDrive/punches/yolov10/test2.mp4: 384x640 (no detections), 23.3ms\n",
            "video 1/1 (frame 16173/19159) /content/drive/MyDrive/punches/yolov10/test2.mp4: 384x640 (no detections), 16.4ms\n",
            "video 1/1 (frame 16174/19159) /content/drive/MyDrive/punches/yolov10/test2.mp4: 384x640 (no detections), 15.5ms\n",
            "video 1/1 (frame 16175/19159) /content/drive/MyDrive/punches/yolov10/test2.mp4: 384x640 (no detections), 15.4ms\n",
            "video 1/1 (frame 16176/19159) /content/drive/MyDrive/punches/yolov10/test2.mp4: 384x640 (no detections), 20.2ms\n",
            "video 1/1 (frame 16177/19159) /content/drive/MyDrive/punches/yolov10/test2.mp4: 384x640 (no detections), 17.5ms\n",
            "video 1/1 (frame 16178/19159) /content/drive/MyDrive/punches/yolov10/test2.mp4: 384x640 (no detections), 19.7ms\n",
            "video 1/1 (frame 16179/19159) /content/drive/MyDrive/punches/yolov10/test2.mp4: 384x640 (no detections), 14.6ms\n",
            "video 1/1 (frame 16180/19159) /content/drive/MyDrive/punches/yolov10/test2.mp4: 384x640 (no detections), 16.4ms\n",
            "video 1/1 (frame 16181/19159) /content/drive/MyDrive/punches/yolov10/test2.mp4: 384x640 (no detections), 14.1ms\n",
            "video 1/1 (frame 16182/19159) /content/drive/MyDrive/punches/yolov10/test2.mp4: 384x640 (no detections), 20.2ms\n",
            "video 1/1 (frame 16183/19159) /content/drive/MyDrive/punches/yolov10/test2.mp4: 384x640 (no detections), 27.5ms\n",
            "video 1/1 (frame 16184/19159) /content/drive/MyDrive/punches/yolov10/test2.mp4: 384x640 (no detections), 18.3ms\n",
            "video 1/1 (frame 16185/19159) /content/drive/MyDrive/punches/yolov10/test2.mp4: 384x640 (no detections), 14.8ms\n",
            "video 1/1 (frame 16186/19159) /content/drive/MyDrive/punches/yolov10/test2.mp4: 384x640 (no detections), 19.3ms\n",
            "video 1/1 (frame 16187/19159) /content/drive/MyDrive/punches/yolov10/test2.mp4: 384x640 (no detections), 19.4ms\n",
            "video 1/1 (frame 16188/19159) /content/drive/MyDrive/punches/yolov10/test2.mp4: 384x640 (no detections), 12.9ms\n",
            "video 1/1 (frame 16189/19159) /content/drive/MyDrive/punches/yolov10/test2.mp4: 384x640 (no detections), 14.3ms\n",
            "video 1/1 (frame 16190/19159) /content/drive/MyDrive/punches/yolov10/test2.mp4: 384x640 (no detections), 17.8ms\n",
            "video 1/1 (frame 16191/19159) /content/drive/MyDrive/punches/yolov10/test2.mp4: 384x640 (no detections), 13.8ms\n",
            "video 1/1 (frame 16192/19159) /content/drive/MyDrive/punches/yolov10/test2.mp4: 384x640 (no detections), 14.0ms\n",
            "video 1/1 (frame 16193/19159) /content/drive/MyDrive/punches/yolov10/test2.mp4: 384x640 (no detections), 13.8ms\n",
            "video 1/1 (frame 16194/19159) /content/drive/MyDrive/punches/yolov10/test2.mp4: 384x640 (no detections), 13.6ms\n",
            "video 1/1 (frame 16195/19159) /content/drive/MyDrive/punches/yolov10/test2.mp4: 384x640 (no detections), 15.3ms\n",
            "video 1/1 (frame 16196/19159) /content/drive/MyDrive/punches/yolov10/test2.mp4: 384x640 (no detections), 14.3ms\n",
            "video 1/1 (frame 16197/19159) /content/drive/MyDrive/punches/yolov10/test2.mp4: 384x640 (no detections), 13.9ms\n",
            "video 1/1 (frame 16198/19159) /content/drive/MyDrive/punches/yolov10/test2.mp4: 384x640 (no detections), 13.9ms\n",
            "video 1/1 (frame 16199/19159) /content/drive/MyDrive/punches/yolov10/test2.mp4: 384x640 (no detections), 15.7ms\n",
            "video 1/1 (frame 16200/19159) /content/drive/MyDrive/punches/yolov10/test2.mp4: 384x640 (no detections), 14.9ms\n",
            "video 1/1 (frame 16201/19159) /content/drive/MyDrive/punches/yolov10/test2.mp4: 384x640 (no detections), 14.9ms\n",
            "video 1/1 (frame 16202/19159) /content/drive/MyDrive/punches/yolov10/test2.mp4: 384x640 (no detections), 14.8ms\n",
            "video 1/1 (frame 16203/19159) /content/drive/MyDrive/punches/yolov10/test2.mp4: 384x640 (no detections), 17.6ms\n",
            "video 1/1 (frame 16204/19159) /content/drive/MyDrive/punches/yolov10/test2.mp4: 384x640 (no detections), 14.8ms\n",
            "video 1/1 (frame 16205/19159) /content/drive/MyDrive/punches/yolov10/test2.mp4: 384x640 (no detections), 21.9ms\n",
            "video 1/1 (frame 16206/19159) /content/drive/MyDrive/punches/yolov10/test2.mp4: 384x640 1 jab, 15.3ms\n",
            "video 1/1 (frame 16207/19159) /content/drive/MyDrive/punches/yolov10/test2.mp4: 384x640 1 jab, 14.1ms\n",
            "video 1/1 (frame 16208/19159) /content/drive/MyDrive/punches/yolov10/test2.mp4: 384x640 1 jab, 13.6ms\n",
            "video 1/1 (frame 16209/19159) /content/drive/MyDrive/punches/yolov10/test2.mp4: 384x640 (no detections), 21.0ms\n",
            "video 1/1 (frame 16210/19159) /content/drive/MyDrive/punches/yolov10/test2.mp4: 384x640 (no detections), 13.5ms\n",
            "video 1/1 (frame 16211/19159) /content/drive/MyDrive/punches/yolov10/test2.mp4: 384x640 (no detections), 13.4ms\n",
            "video 1/1 (frame 16212/19159) /content/drive/MyDrive/punches/yolov10/test2.mp4: 384x640 (no detections), 14.0ms\n",
            "video 1/1 (frame 16213/19159) /content/drive/MyDrive/punches/yolov10/test2.mp4: 384x640 (no detections), 13.6ms\n",
            "video 1/1 (frame 16214/19159) /content/drive/MyDrive/punches/yolov10/test2.mp4: 384x640 (no detections), 19.8ms\n",
            "video 1/1 (frame 16215/19159) /content/drive/MyDrive/punches/yolov10/test2.mp4: 384x640 (no detections), 18.6ms\n",
            "video 1/1 (frame 16216/19159) /content/drive/MyDrive/punches/yolov10/test2.mp4: 384x640 (no detections), 17.1ms\n",
            "video 1/1 (frame 16217/19159) /content/drive/MyDrive/punches/yolov10/test2.mp4: 384x640 (no detections), 15.3ms\n",
            "video 1/1 (frame 16218/19159) /content/drive/MyDrive/punches/yolov10/test2.mp4: 384x640 (no detections), 19.8ms\n",
            "video 1/1 (frame 16219/19159) /content/drive/MyDrive/punches/yolov10/test2.mp4: 384x640 (no detections), 13.8ms\n",
            "video 1/1 (frame 16220/19159) /content/drive/MyDrive/punches/yolov10/test2.mp4: 384x640 (no detections), 12.9ms\n",
            "video 1/1 (frame 16221/19159) /content/drive/MyDrive/punches/yolov10/test2.mp4: 384x640 (no detections), 20.6ms\n",
            "video 1/1 (frame 16222/19159) /content/drive/MyDrive/punches/yolov10/test2.mp4: 384x640 (no detections), 18.3ms\n",
            "video 1/1 (frame 16223/19159) /content/drive/MyDrive/punches/yolov10/test2.mp4: 384x640 (no detections), 17.5ms\n",
            "video 1/1 (frame 16224/19159) /content/drive/MyDrive/punches/yolov10/test2.mp4: 384x640 (no detections), 16.9ms\n",
            "video 1/1 (frame 16225/19159) /content/drive/MyDrive/punches/yolov10/test2.mp4: 384x640 (no detections), 18.3ms\n",
            "video 1/1 (frame 16226/19159) /content/drive/MyDrive/punches/yolov10/test2.mp4: 384x640 (no detections), 16.3ms\n",
            "video 1/1 (frame 16227/19159) /content/drive/MyDrive/punches/yolov10/test2.mp4: 384x640 (no detections), 21.2ms\n",
            "video 1/1 (frame 16228/19159) /content/drive/MyDrive/punches/yolov10/test2.mp4: 384x640 (no detections), 21.3ms\n",
            "video 1/1 (frame 16229/19159) /content/drive/MyDrive/punches/yolov10/test2.mp4: 384x640 (no detections), 16.1ms\n",
            "video 1/1 (frame 16230/19159) /content/drive/MyDrive/punches/yolov10/test2.mp4: 384x640 (no detections), 21.0ms\n",
            "video 1/1 (frame 16231/19159) /content/drive/MyDrive/punches/yolov10/test2.mp4: 384x640 (no detections), 19.8ms\n",
            "video 1/1 (frame 16232/19159) /content/drive/MyDrive/punches/yolov10/test2.mp4: 384x640 (no detections), 17.6ms\n",
            "video 1/1 (frame 16233/19159) /content/drive/MyDrive/punches/yolov10/test2.mp4: 384x640 2 jabs, 14.2ms\n",
            "video 1/1 (frame 16234/19159) /content/drive/MyDrive/punches/yolov10/test2.mp4: 384x640 1 jab, 18.3ms\n",
            "video 1/1 (frame 16235/19159) /content/drive/MyDrive/punches/yolov10/test2.mp4: 384x640 (no detections), 14.8ms\n",
            "video 1/1 (frame 16236/19159) /content/drive/MyDrive/punches/yolov10/test2.mp4: 384x640 (no detections), 15.9ms\n",
            "video 1/1 (frame 16237/19159) /content/drive/MyDrive/punches/yolov10/test2.mp4: 384x640 1 jab, 16.0ms\n",
            "video 1/1 (frame 16238/19159) /content/drive/MyDrive/punches/yolov10/test2.mp4: 384x640 1 jab, 20.2ms\n",
            "video 1/1 (frame 16239/19159) /content/drive/MyDrive/punches/yolov10/test2.mp4: 384x640 1 jab, 20.9ms\n",
            "video 1/1 (frame 16240/19159) /content/drive/MyDrive/punches/yolov10/test2.mp4: 384x640 1 jab, 23.8ms\n",
            "video 1/1 (frame 16241/19159) /content/drive/MyDrive/punches/yolov10/test2.mp4: 384x640 1 jab, 14.4ms\n",
            "video 1/1 (frame 16242/19159) /content/drive/MyDrive/punches/yolov10/test2.mp4: 384x640 1 jab, 15.1ms\n",
            "video 1/1 (frame 16243/19159) /content/drive/MyDrive/punches/yolov10/test2.mp4: 384x640 1 jab, 17.2ms\n",
            "video 1/1 (frame 16244/19159) /content/drive/MyDrive/punches/yolov10/test2.mp4: 384x640 1 jab, 17.1ms\n",
            "video 1/1 (frame 16245/19159) /content/drive/MyDrive/punches/yolov10/test2.mp4: 384x640 1 jab, 19.1ms\n",
            "video 1/1 (frame 16246/19159) /content/drive/MyDrive/punches/yolov10/test2.mp4: 384x640 1 jab, 16.2ms\n",
            "video 1/1 (frame 16247/19159) /content/drive/MyDrive/punches/yolov10/test2.mp4: 384x640 1 jab, 17.8ms\n",
            "video 1/1 (frame 16248/19159) /content/drive/MyDrive/punches/yolov10/test2.mp4: 384x640 1 jab, 18.8ms\n",
            "video 1/1 (frame 16249/19159) /content/drive/MyDrive/punches/yolov10/test2.mp4: 384x640 1 jab, 22.1ms\n",
            "video 1/1 (frame 16250/19159) /content/drive/MyDrive/punches/yolov10/test2.mp4: 384x640 1 jab, 18.7ms\n",
            "video 1/1 (frame 16251/19159) /content/drive/MyDrive/punches/yolov10/test2.mp4: 384x640 2 jabs, 19.3ms\n",
            "video 1/1 (frame 16252/19159) /content/drive/MyDrive/punches/yolov10/test2.mp4: 384x640 1 jab, 18.8ms\n",
            "video 1/1 (frame 16253/19159) /content/drive/MyDrive/punches/yolov10/test2.mp4: 384x640 1 jab, 22.3ms\n",
            "video 1/1 (frame 16254/19159) /content/drive/MyDrive/punches/yolov10/test2.mp4: 384x640 1 jab, 22.5ms\n",
            "video 1/1 (frame 16255/19159) /content/drive/MyDrive/punches/yolov10/test2.mp4: 384x640 1 jab, 25.5ms\n",
            "video 1/1 (frame 16256/19159) /content/drive/MyDrive/punches/yolov10/test2.mp4: 384x640 1 jab, 24.9ms\n",
            "video 1/1 (frame 16257/19159) /content/drive/MyDrive/punches/yolov10/test2.mp4: 384x640 1 jab, 21.9ms\n",
            "video 1/1 (frame 16258/19159) /content/drive/MyDrive/punches/yolov10/test2.mp4: 384x640 1 jab, 20.6ms\n",
            "video 1/1 (frame 16259/19159) /content/drive/MyDrive/punches/yolov10/test2.mp4: 384x640 1 jab, 17.4ms\n",
            "video 1/1 (frame 16260/19159) /content/drive/MyDrive/punches/yolov10/test2.mp4: 384x640 1 jab, 16.7ms\n",
            "video 1/1 (frame 16261/19159) /content/drive/MyDrive/punches/yolov10/test2.mp4: 384x640 1 jab, 18.9ms\n",
            "video 1/1 (frame 16262/19159) /content/drive/MyDrive/punches/yolov10/test2.mp4: 384x640 1 jab, 19.5ms\n",
            "video 1/1 (frame 16263/19159) /content/drive/MyDrive/punches/yolov10/test2.mp4: 384x640 1 jab, 19.4ms\n",
            "video 1/1 (frame 16264/19159) /content/drive/MyDrive/punches/yolov10/test2.mp4: 384x640 1 jab, 18.9ms\n",
            "video 1/1 (frame 16265/19159) /content/drive/MyDrive/punches/yolov10/test2.mp4: 384x640 1 jab, 19.0ms\n",
            "video 1/1 (frame 16266/19159) /content/drive/MyDrive/punches/yolov10/test2.mp4: 384x640 1 jab, 19.2ms\n",
            "video 1/1 (frame 16267/19159) /content/drive/MyDrive/punches/yolov10/test2.mp4: 384x640 1 jab, 20.4ms\n",
            "video 1/1 (frame 16268/19159) /content/drive/MyDrive/punches/yolov10/test2.mp4: 384x640 1 jab, 22.2ms\n",
            "video 1/1 (frame 16269/19159) /content/drive/MyDrive/punches/yolov10/test2.mp4: 384x640 1 jab, 20.3ms\n",
            "video 1/1 (frame 16270/19159) /content/drive/MyDrive/punches/yolov10/test2.mp4: 384x640 1 jab, 21.0ms\n",
            "video 1/1 (frame 16271/19159) /content/drive/MyDrive/punches/yolov10/test2.mp4: 384x640 1 jab, 19.3ms\n",
            "video 1/1 (frame 16272/19159) /content/drive/MyDrive/punches/yolov10/test2.mp4: 384x640 1 jab, 19.9ms\n",
            "video 1/1 (frame 16273/19159) /content/drive/MyDrive/punches/yolov10/test2.mp4: 384x640 1 jab, 19.1ms\n",
            "video 1/1 (frame 16274/19159) /content/drive/MyDrive/punches/yolov10/test2.mp4: 384x640 1 jab, 20.7ms\n",
            "video 1/1 (frame 16275/19159) /content/drive/MyDrive/punches/yolov10/test2.mp4: 384x640 1 jab, 16.5ms\n",
            "video 1/1 (frame 16276/19159) /content/drive/MyDrive/punches/yolov10/test2.mp4: 384x640 1 jab, 11.1ms\n",
            "video 1/1 (frame 16277/19159) /content/drive/MyDrive/punches/yolov10/test2.mp4: 384x640 1 jab, 16.7ms\n",
            "video 1/1 (frame 16278/19159) /content/drive/MyDrive/punches/yolov10/test2.mp4: 384x640 2 jabs, 11.4ms\n",
            "video 1/1 (frame 16279/19159) /content/drive/MyDrive/punches/yolov10/test2.mp4: 384x640 1 jab, 11.0ms\n",
            "video 1/1 (frame 16280/19159) /content/drive/MyDrive/punches/yolov10/test2.mp4: 384x640 1 jab, 12.1ms\n",
            "video 1/1 (frame 16281/19159) /content/drive/MyDrive/punches/yolov10/test2.mp4: 384x640 (no detections), 10.8ms\n",
            "video 1/1 (frame 16282/19159) /content/drive/MyDrive/punches/yolov10/test2.mp4: 384x640 (no detections), 10.8ms\n",
            "video 1/1 (frame 16283/19159) /content/drive/MyDrive/punches/yolov10/test2.mp4: 384x640 (no detections), 11.5ms\n",
            "video 1/1 (frame 16284/19159) /content/drive/MyDrive/punches/yolov10/test2.mp4: 384x640 (no detections), 12.7ms\n",
            "video 1/1 (frame 16285/19159) /content/drive/MyDrive/punches/yolov10/test2.mp4: 384x640 (no detections), 11.3ms\n",
            "video 1/1 (frame 16286/19159) /content/drive/MyDrive/punches/yolov10/test2.mp4: 384x640 (no detections), 10.8ms\n",
            "video 1/1 (frame 16287/19159) /content/drive/MyDrive/punches/yolov10/test2.mp4: 384x640 (no detections), 10.7ms\n",
            "video 1/1 (frame 16288/19159) /content/drive/MyDrive/punches/yolov10/test2.mp4: 384x640 (no detections), 10.7ms\n",
            "video 1/1 (frame 16289/19159) /content/drive/MyDrive/punches/yolov10/test2.mp4: 384x640 (no detections), 11.5ms\n",
            "video 1/1 (frame 16290/19159) /content/drive/MyDrive/punches/yolov10/test2.mp4: 384x640 (no detections), 15.6ms\n",
            "video 1/1 (frame 16291/19159) /content/drive/MyDrive/punches/yolov10/test2.mp4: 384x640 (no detections), 13.4ms\n",
            "video 1/1 (frame 16292/19159) /content/drive/MyDrive/punches/yolov10/test2.mp4: 384x640 (no detections), 10.9ms\n",
            "video 1/1 (frame 16293/19159) /content/drive/MyDrive/punches/yolov10/test2.mp4: 384x640 (no detections), 11.0ms\n",
            "video 1/1 (frame 16294/19159) /content/drive/MyDrive/punches/yolov10/test2.mp4: 384x640 (no detections), 11.5ms\n",
            "video 1/1 (frame 16295/19159) /content/drive/MyDrive/punches/yolov10/test2.mp4: 384x640 (no detections), 22.5ms\n",
            "video 1/1 (frame 16296/19159) /content/drive/MyDrive/punches/yolov10/test2.mp4: 384x640 (no detections), 11.4ms\n",
            "video 1/1 (frame 16297/19159) /content/drive/MyDrive/punches/yolov10/test2.mp4: 384x640 (no detections), 11.4ms\n",
            "video 1/1 (frame 16298/19159) /content/drive/MyDrive/punches/yolov10/test2.mp4: 384x640 (no detections), 10.5ms\n",
            "video 1/1 (frame 16299/19159) /content/drive/MyDrive/punches/yolov10/test2.mp4: 384x640 (no detections), 11.6ms\n",
            "video 1/1 (frame 16300/19159) /content/drive/MyDrive/punches/yolov10/test2.mp4: 384x640 (no detections), 11.0ms\n",
            "video 1/1 (frame 16301/19159) /content/drive/MyDrive/punches/yolov10/test2.mp4: 384x640 (no detections), 10.6ms\n",
            "video 1/1 (frame 16302/19159) /content/drive/MyDrive/punches/yolov10/test2.mp4: 384x640 (no detections), 10.9ms\n",
            "video 1/1 (frame 16303/19159) /content/drive/MyDrive/punches/yolov10/test2.mp4: 384x640 (no detections), 10.4ms\n",
            "video 1/1 (frame 16304/19159) /content/drive/MyDrive/punches/yolov10/test2.mp4: 384x640 (no detections), 10.2ms\n",
            "video 1/1 (frame 16305/19159) /content/drive/MyDrive/punches/yolov10/test2.mp4: 384x640 (no detections), 12.4ms\n",
            "video 1/1 (frame 16306/19159) /content/drive/MyDrive/punches/yolov10/test2.mp4: 384x640 (no detections), 13.4ms\n",
            "video 1/1 (frame 16307/19159) /content/drive/MyDrive/punches/yolov10/test2.mp4: 384x640 (no detections), 12.2ms\n",
            "video 1/1 (frame 16308/19159) /content/drive/MyDrive/punches/yolov10/test2.mp4: 384x640 (no detections), 10.7ms\n",
            "video 1/1 (frame 16309/19159) /content/drive/MyDrive/punches/yolov10/test2.mp4: 384x640 (no detections), 10.5ms\n",
            "video 1/1 (frame 16310/19159) /content/drive/MyDrive/punches/yolov10/test2.mp4: 384x640 (no detections), 10.9ms\n",
            "video 1/1 (frame 16311/19159) /content/drive/MyDrive/punches/yolov10/test2.mp4: 384x640 (no detections), 10.3ms\n",
            "video 1/1 (frame 16312/19159) /content/drive/MyDrive/punches/yolov10/test2.mp4: 384x640 (no detections), 10.5ms\n",
            "video 1/1 (frame 16313/19159) /content/drive/MyDrive/punches/yolov10/test2.mp4: 384x640 (no detections), 10.6ms\n",
            "video 1/1 (frame 16314/19159) /content/drive/MyDrive/punches/yolov10/test2.mp4: 384x640 (no detections), 10.5ms\n",
            "video 1/1 (frame 16315/19159) /content/drive/MyDrive/punches/yolov10/test2.mp4: 384x640 (no detections), 10.6ms\n",
            "video 1/1 (frame 16316/19159) /content/drive/MyDrive/punches/yolov10/test2.mp4: 384x640 (no detections), 10.7ms\n",
            "video 1/1 (frame 16317/19159) /content/drive/MyDrive/punches/yolov10/test2.mp4: 384x640 (no detections), 14.0ms\n",
            "video 1/1 (frame 16318/19159) /content/drive/MyDrive/punches/yolov10/test2.mp4: 384x640 (no detections), 12.6ms\n",
            "video 1/1 (frame 16319/19159) /content/drive/MyDrive/punches/yolov10/test2.mp4: 384x640 (no detections), 10.2ms\n",
            "video 1/1 (frame 16320/19159) /content/drive/MyDrive/punches/yolov10/test2.mp4: 384x640 (no detections), 10.5ms\n",
            "video 1/1 (frame 16321/19159) /content/drive/MyDrive/punches/yolov10/test2.mp4: 384x640 (no detections), 10.6ms\n",
            "video 1/1 (frame 16322/19159) /content/drive/MyDrive/punches/yolov10/test2.mp4: 384x640 (no detections), 10.3ms\n",
            "video 1/1 (frame 16323/19159) /content/drive/MyDrive/punches/yolov10/test2.mp4: 384x640 (no detections), 11.0ms\n",
            "video 1/1 (frame 16324/19159) /content/drive/MyDrive/punches/yolov10/test2.mp4: 384x640 (no detections), 11.6ms\n",
            "video 1/1 (frame 16325/19159) /content/drive/MyDrive/punches/yolov10/test2.mp4: 384x640 (no detections), 11.0ms\n",
            "video 1/1 (frame 16326/19159) /content/drive/MyDrive/punches/yolov10/test2.mp4: 384x640 (no detections), 10.2ms\n",
            "video 1/1 (frame 16327/19159) /content/drive/MyDrive/punches/yolov10/test2.mp4: 384x640 (no detections), 10.4ms\n",
            "video 1/1 (frame 16328/19159) /content/drive/MyDrive/punches/yolov10/test2.mp4: 384x640 (no detections), 10.0ms\n",
            "video 1/1 (frame 16329/19159) /content/drive/MyDrive/punches/yolov10/test2.mp4: 384x640 (no detections), 10.4ms\n",
            "video 1/1 (frame 16330/19159) /content/drive/MyDrive/punches/yolov10/test2.mp4: 384x640 (no detections), 11.0ms\n",
            "video 1/1 (frame 16331/19159) /content/drive/MyDrive/punches/yolov10/test2.mp4: 384x640 (no detections), 10.4ms\n",
            "video 1/1 (frame 16332/19159) /content/drive/MyDrive/punches/yolov10/test2.mp4: 384x640 1 jab, 9.8ms\n",
            "video 1/1 (frame 16333/19159) /content/drive/MyDrive/punches/yolov10/test2.mp4: 384x640 1 jab, 14.2ms\n",
            "video 1/1 (frame 16334/19159) /content/drive/MyDrive/punches/yolov10/test2.mp4: 384x640 1 jab, 10.4ms\n",
            "video 1/1 (frame 16335/19159) /content/drive/MyDrive/punches/yolov10/test2.mp4: 384x640 1 jab, 11.3ms\n",
            "video 1/1 (frame 16336/19159) /content/drive/MyDrive/punches/yolov10/test2.mp4: 384x640 1 jab, 12.0ms\n",
            "video 1/1 (frame 16337/19159) /content/drive/MyDrive/punches/yolov10/test2.mp4: 384x640 1 jab, 11.1ms\n",
            "video 1/1 (frame 16338/19159) /content/drive/MyDrive/punches/yolov10/test2.mp4: 384x640 1 jab, 11.0ms\n",
            "video 1/1 (frame 16339/19159) /content/drive/MyDrive/punches/yolov10/test2.mp4: 384x640 1 jab, 10.8ms\n",
            "video 1/1 (frame 16340/19159) /content/drive/MyDrive/punches/yolov10/test2.mp4: 384x640 1 jab, 11.4ms\n",
            "video 1/1 (frame 16341/19159) /content/drive/MyDrive/punches/yolov10/test2.mp4: 384x640 1 jab, 11.0ms\n",
            "video 1/1 (frame 16342/19159) /content/drive/MyDrive/punches/yolov10/test2.mp4: 384x640 (no detections), 11.0ms\n",
            "video 1/1 (frame 16343/19159) /content/drive/MyDrive/punches/yolov10/test2.mp4: 384x640 (no detections), 10.1ms\n",
            "video 1/1 (frame 16344/19159) /content/drive/MyDrive/punches/yolov10/test2.mp4: 384x640 (no detections), 10.3ms\n",
            "video 1/1 (frame 16345/19159) /content/drive/MyDrive/punches/yolov10/test2.mp4: 384x640 (no detections), 10.0ms\n",
            "video 1/1 (frame 16346/19159) /content/drive/MyDrive/punches/yolov10/test2.mp4: 384x640 (no detections), 10.3ms\n",
            "video 1/1 (frame 16347/19159) /content/drive/MyDrive/punches/yolov10/test2.mp4: 384x640 (no detections), 10.1ms\n",
            "video 1/1 (frame 16348/19159) /content/drive/MyDrive/punches/yolov10/test2.mp4: 384x640 1 jab, 11.9ms\n",
            "video 1/1 (frame 16349/19159) /content/drive/MyDrive/punches/yolov10/test2.mp4: 384x640 (no detections), 10.1ms\n",
            "video 1/1 (frame 16350/19159) /content/drive/MyDrive/punches/yolov10/test2.mp4: 384x640 1 jab, 10.1ms\n",
            "video 1/1 (frame 16351/19159) /content/drive/MyDrive/punches/yolov10/test2.mp4: 384x640 (no detections), 11.0ms\n",
            "video 1/1 (frame 16352/19159) /content/drive/MyDrive/punches/yolov10/test2.mp4: 384x640 (no detections), 15.8ms\n",
            "video 1/1 (frame 16353/19159) /content/drive/MyDrive/punches/yolov10/test2.mp4: 384x640 1 jab, 19.8ms\n",
            "video 1/1 (frame 16354/19159) /content/drive/MyDrive/punches/yolov10/test2.mp4: 384x640 1 jab, 12.1ms\n",
            "video 1/1 (frame 16355/19159) /content/drive/MyDrive/punches/yolov10/test2.mp4: 384x640 1 jab, 11.5ms\n",
            "video 1/1 (frame 16356/19159) /content/drive/MyDrive/punches/yolov10/test2.mp4: 384x640 1 jab, 10.6ms\n",
            "video 1/1 (frame 16357/19159) /content/drive/MyDrive/punches/yolov10/test2.mp4: 384x640 (no detections), 10.7ms\n",
            "video 1/1 (frame 16358/19159) /content/drive/MyDrive/punches/yolov10/test2.mp4: 384x640 1 jab, 10.4ms\n",
            "video 1/1 (frame 16359/19159) /content/drive/MyDrive/punches/yolov10/test2.mp4: 384x640 1 jab, 11.2ms\n",
            "video 1/1 (frame 16360/19159) /content/drive/MyDrive/punches/yolov10/test2.mp4: 384x640 1 jab, 10.2ms\n",
            "video 1/1 (frame 16361/19159) /content/drive/MyDrive/punches/yolov10/test2.mp4: 384x640 (no detections), 10.3ms\n",
            "video 1/1 (frame 16362/19159) /content/drive/MyDrive/punches/yolov10/test2.mp4: 384x640 (no detections), 11.0ms\n",
            "video 1/1 (frame 16363/19159) /content/drive/MyDrive/punches/yolov10/test2.mp4: 384x640 (no detections), 11.0ms\n",
            "video 1/1 (frame 16364/19159) /content/drive/MyDrive/punches/yolov10/test2.mp4: 384x640 (no detections), 10.4ms\n",
            "video 1/1 (frame 16365/19159) /content/drive/MyDrive/punches/yolov10/test2.mp4: 384x640 (no detections), 10.3ms\n",
            "video 1/1 (frame 16366/19159) /content/drive/MyDrive/punches/yolov10/test2.mp4: 384x640 (no detections), 10.5ms\n",
            "video 1/1 (frame 16367/19159) /content/drive/MyDrive/punches/yolov10/test2.mp4: 384x640 (no detections), 10.3ms\n",
            "video 1/1 (frame 16368/19159) /content/drive/MyDrive/punches/yolov10/test2.mp4: 384x640 (no detections), 11.7ms\n",
            "video 1/1 (frame 16369/19159) /content/drive/MyDrive/punches/yolov10/test2.mp4: 384x640 (no detections), 13.7ms\n",
            "video 1/1 (frame 16370/19159) /content/drive/MyDrive/punches/yolov10/test2.mp4: 384x640 (no detections), 10.6ms\n",
            "video 1/1 (frame 16371/19159) /content/drive/MyDrive/punches/yolov10/test2.mp4: 384x640 (no detections), 10.5ms\n",
            "video 1/1 (frame 16372/19159) /content/drive/MyDrive/punches/yolov10/test2.mp4: 384x640 (no detections), 10.6ms\n",
            "video 1/1 (frame 16373/19159) /content/drive/MyDrive/punches/yolov10/test2.mp4: 384x640 (no detections), 11.4ms\n",
            "video 1/1 (frame 16374/19159) /content/drive/MyDrive/punches/yolov10/test2.mp4: 384x640 (no detections), 15.0ms\n",
            "video 1/1 (frame 16375/19159) /content/drive/MyDrive/punches/yolov10/test2.mp4: 384x640 (no detections), 10.2ms\n",
            "video 1/1 (frame 16376/19159) /content/drive/MyDrive/punches/yolov10/test2.mp4: 384x640 (no detections), 11.0ms\n",
            "video 1/1 (frame 16377/19159) /content/drive/MyDrive/punches/yolov10/test2.mp4: 384x640 (no detections), 15.5ms\n",
            "video 1/1 (frame 16378/19159) /content/drive/MyDrive/punches/yolov10/test2.mp4: 384x640 (no detections), 10.8ms\n",
            "video 1/1 (frame 16379/19159) /content/drive/MyDrive/punches/yolov10/test2.mp4: 384x640 (no detections), 11.0ms\n",
            "video 1/1 (frame 16380/19159) /content/drive/MyDrive/punches/yolov10/test2.mp4: 384x640 (no detections), 10.9ms\n",
            "video 1/1 (frame 16381/19159) /content/drive/MyDrive/punches/yolov10/test2.mp4: 384x640 (no detections), 10.6ms\n",
            "video 1/1 (frame 16382/19159) /content/drive/MyDrive/punches/yolov10/test2.mp4: 384x640 (no detections), 10.1ms\n",
            "video 1/1 (frame 16383/19159) /content/drive/MyDrive/punches/yolov10/test2.mp4: 384x640 (no detections), 11.5ms\n",
            "video 1/1 (frame 16384/19159) /content/drive/MyDrive/punches/yolov10/test2.mp4: 384x640 (no detections), 10.8ms\n",
            "video 1/1 (frame 16385/19159) /content/drive/MyDrive/punches/yolov10/test2.mp4: 384x640 (no detections), 14.3ms\n",
            "video 1/1 (frame 16386/19159) /content/drive/MyDrive/punches/yolov10/test2.mp4: 384x640 (no detections), 12.7ms\n",
            "video 1/1 (frame 16387/19159) /content/drive/MyDrive/punches/yolov10/test2.mp4: 384x640 (no detections), 10.2ms\n",
            "video 1/1 (frame 16388/19159) /content/drive/MyDrive/punches/yolov10/test2.mp4: 384x640 (no detections), 14.9ms\n",
            "video 1/1 (frame 16389/19159) /content/drive/MyDrive/punches/yolov10/test2.mp4: 384x640 (no detections), 12.6ms\n",
            "video 1/1 (frame 16390/19159) /content/drive/MyDrive/punches/yolov10/test2.mp4: 384x640 (no detections), 10.9ms\n",
            "video 1/1 (frame 16391/19159) /content/drive/MyDrive/punches/yolov10/test2.mp4: 384x640 (no detections), 10.2ms\n",
            "video 1/1 (frame 16392/19159) /content/drive/MyDrive/punches/yolov10/test2.mp4: 384x640 (no detections), 15.5ms\n",
            "video 1/1 (frame 16393/19159) /content/drive/MyDrive/punches/yolov10/test2.mp4: 384x640 (no detections), 11.0ms\n",
            "video 1/1 (frame 16394/19159) /content/drive/MyDrive/punches/yolov10/test2.mp4: 384x640 (no detections), 18.1ms\n",
            "video 1/1 (frame 16395/19159) /content/drive/MyDrive/punches/yolov10/test2.mp4: 384x640 (no detections), 19.2ms\n",
            "video 1/1 (frame 16396/19159) /content/drive/MyDrive/punches/yolov10/test2.mp4: 384x640 (no detections), 11.2ms\n",
            "video 1/1 (frame 16397/19159) /content/drive/MyDrive/punches/yolov10/test2.mp4: 384x640 (no detections), 10.7ms\n",
            "video 1/1 (frame 16398/19159) /content/drive/MyDrive/punches/yolov10/test2.mp4: 384x640 (no detections), 10.2ms\n",
            "video 1/1 (frame 16399/19159) /content/drive/MyDrive/punches/yolov10/test2.mp4: 384x640 (no detections), 10.0ms\n",
            "video 1/1 (frame 16400/19159) /content/drive/MyDrive/punches/yolov10/test2.mp4: 384x640 (no detections), 10.4ms\n",
            "video 1/1 (frame 16401/19159) /content/drive/MyDrive/punches/yolov10/test2.mp4: 384x640 (no detections), 18.0ms\n",
            "video 1/1 (frame 16402/19159) /content/drive/MyDrive/punches/yolov10/test2.mp4: 384x640 (no detections), 12.9ms\n",
            "video 1/1 (frame 16403/19159) /content/drive/MyDrive/punches/yolov10/test2.mp4: 384x640 (no detections), 10.5ms\n",
            "video 1/1 (frame 16404/19159) /content/drive/MyDrive/punches/yolov10/test2.mp4: 384x640 (no detections), 10.7ms\n",
            "video 1/1 (frame 16405/19159) /content/drive/MyDrive/punches/yolov10/test2.mp4: 384x640 1 jab, 10.9ms\n",
            "video 1/1 (frame 16406/19159) /content/drive/MyDrive/punches/yolov10/test2.mp4: 384x640 1 jab, 14.6ms\n",
            "video 1/1 (frame 16407/19159) /content/drive/MyDrive/punches/yolov10/test2.mp4: 384x640 1 jab, 10.2ms\n",
            "video 1/1 (frame 16408/19159) /content/drive/MyDrive/punches/yolov10/test2.mp4: 384x640 1 jab, 15.6ms\n",
            "video 1/1 (frame 16409/19159) /content/drive/MyDrive/punches/yolov10/test2.mp4: 384x640 (no detections), 15.6ms\n",
            "video 1/1 (frame 16410/19159) /content/drive/MyDrive/punches/yolov10/test2.mp4: 384x640 (no detections), 10.7ms\n",
            "video 1/1 (frame 16411/19159) /content/drive/MyDrive/punches/yolov10/test2.mp4: 384x640 (no detections), 18.5ms\n",
            "video 1/1 (frame 16412/19159) /content/drive/MyDrive/punches/yolov10/test2.mp4: 384x640 (no detections), 11.0ms\n",
            "video 1/1 (frame 16413/19159) /content/drive/MyDrive/punches/yolov10/test2.mp4: 384x640 1 jab, 11.0ms\n",
            "video 1/1 (frame 16414/19159) /content/drive/MyDrive/punches/yolov10/test2.mp4: 384x640 (no detections), 11.5ms\n",
            "video 1/1 (frame 16415/19159) /content/drive/MyDrive/punches/yolov10/test2.mp4: 384x640 1 jab, 10.3ms\n",
            "video 1/1 (frame 16416/19159) /content/drive/MyDrive/punches/yolov10/test2.mp4: 384x640 1 jab, 11.0ms\n",
            "video 1/1 (frame 16417/19159) /content/drive/MyDrive/punches/yolov10/test2.mp4: 384x640 1 jab, 10.2ms\n",
            "video 1/1 (frame 16418/19159) /content/drive/MyDrive/punches/yolov10/test2.mp4: 384x640 1 jab, 10.4ms\n",
            "video 1/1 (frame 16419/19159) /content/drive/MyDrive/punches/yolov10/test2.mp4: 384x640 1 jab, 10.0ms\n",
            "video 1/1 (frame 16420/19159) /content/drive/MyDrive/punches/yolov10/test2.mp4: 384x640 1 jab, 11.4ms\n",
            "video 1/1 (frame 16421/19159) /content/drive/MyDrive/punches/yolov10/test2.mp4: 384x640 1 jab, 10.0ms\n",
            "video 1/1 (frame 16422/19159) /content/drive/MyDrive/punches/yolov10/test2.mp4: 384x640 1 jab, 11.1ms\n",
            "video 1/1 (frame 16423/19159) /content/drive/MyDrive/punches/yolov10/test2.mp4: 384x640 1 jab, 10.5ms\n",
            "video 1/1 (frame 16424/19159) /content/drive/MyDrive/punches/yolov10/test2.mp4: 384x640 (no detections), 10.3ms\n",
            "video 1/1 (frame 16425/19159) /content/drive/MyDrive/punches/yolov10/test2.mp4: 384x640 1 jab, 10.2ms\n",
            "video 1/1 (frame 16426/19159) /content/drive/MyDrive/punches/yolov10/test2.mp4: 384x640 1 jab, 12.4ms\n",
            "video 1/1 (frame 16427/19159) /content/drive/MyDrive/punches/yolov10/test2.mp4: 384x640 1 jab, 12.8ms\n",
            "video 1/1 (frame 16428/19159) /content/drive/MyDrive/punches/yolov10/test2.mp4: 384x640 1 jab, 12.1ms\n",
            "video 1/1 (frame 16429/19159) /content/drive/MyDrive/punches/yolov10/test2.mp4: 384x640 1 jab, 10.7ms\n",
            "video 1/1 (frame 16430/19159) /content/drive/MyDrive/punches/yolov10/test2.mp4: 384x640 1 jab, 11.1ms\n",
            "video 1/1 (frame 16431/19159) /content/drive/MyDrive/punches/yolov10/test2.mp4: 384x640 1 jab, 10.8ms\n",
            "video 1/1 (frame 16432/19159) /content/drive/MyDrive/punches/yolov10/test2.mp4: 384x640 1 jab, 10.3ms\n",
            "video 1/1 (frame 16433/19159) /content/drive/MyDrive/punches/yolov10/test2.mp4: 384x640 1 jab, 13.3ms\n",
            "video 1/1 (frame 16434/19159) /content/drive/MyDrive/punches/yolov10/test2.mp4: 384x640 (no detections), 10.6ms\n",
            "video 1/1 (frame 16435/19159) /content/drive/MyDrive/punches/yolov10/test2.mp4: 384x640 (no detections), 10.4ms\n",
            "video 1/1 (frame 16436/19159) /content/drive/MyDrive/punches/yolov10/test2.mp4: 384x640 (no detections), 14.6ms\n",
            "video 1/1 (frame 16437/19159) /content/drive/MyDrive/punches/yolov10/test2.mp4: 384x640 (no detections), 12.7ms\n",
            "video 1/1 (frame 16438/19159) /content/drive/MyDrive/punches/yolov10/test2.mp4: 384x640 1 jab, 10.9ms\n",
            "video 1/1 (frame 16439/19159) /content/drive/MyDrive/punches/yolov10/test2.mp4: 384x640 1 jab, 11.7ms\n",
            "video 1/1 (frame 16440/19159) /content/drive/MyDrive/punches/yolov10/test2.mp4: 384x640 1 jab, 11.0ms\n",
            "video 1/1 (frame 16441/19159) /content/drive/MyDrive/punches/yolov10/test2.mp4: 384x640 1 jab, 14.4ms\n",
            "video 1/1 (frame 16442/19159) /content/drive/MyDrive/punches/yolov10/test2.mp4: 384x640 1 jab, 10.1ms\n",
            "video 1/1 (frame 16443/19159) /content/drive/MyDrive/punches/yolov10/test2.mp4: 384x640 1 jab, 10.6ms\n",
            "video 1/1 (frame 16444/19159) /content/drive/MyDrive/punches/yolov10/test2.mp4: 384x640 1 jab, 15.7ms\n",
            "video 1/1 (frame 16445/19159) /content/drive/MyDrive/punches/yolov10/test2.mp4: 384x640 1 jab, 10.9ms\n",
            "video 1/1 (frame 16446/19159) /content/drive/MyDrive/punches/yolov10/test2.mp4: 384x640 (no detections), 11.0ms\n",
            "video 1/1 (frame 16447/19159) /content/drive/MyDrive/punches/yolov10/test2.mp4: 384x640 (no detections), 10.9ms\n",
            "video 1/1 (frame 16448/19159) /content/drive/MyDrive/punches/yolov10/test2.mp4: 384x640 (no detections), 10.9ms\n",
            "video 1/1 (frame 16449/19159) /content/drive/MyDrive/punches/yolov10/test2.mp4: 384x640 (no detections), 10.8ms\n",
            "video 1/1 (frame 16450/19159) /content/drive/MyDrive/punches/yolov10/test2.mp4: 384x640 (no detections), 10.9ms\n",
            "video 1/1 (frame 16451/19159) /content/drive/MyDrive/punches/yolov10/test2.mp4: 384x640 (no detections), 11.2ms\n",
            "video 1/1 (frame 16452/19159) /content/drive/MyDrive/punches/yolov10/test2.mp4: 384x640 (no detections), 10.6ms\n",
            "video 1/1 (frame 16453/19159) /content/drive/MyDrive/punches/yolov10/test2.mp4: 384x640 (no detections), 10.9ms\n",
            "video 1/1 (frame 16454/19159) /content/drive/MyDrive/punches/yolov10/test2.mp4: 384x640 (no detections), 10.3ms\n",
            "video 1/1 (frame 16455/19159) /content/drive/MyDrive/punches/yolov10/test2.mp4: 384x640 (no detections), 10.4ms\n",
            "video 1/1 (frame 16456/19159) /content/drive/MyDrive/punches/yolov10/test2.mp4: 384x640 (no detections), 12.7ms\n",
            "video 1/1 (frame 16457/19159) /content/drive/MyDrive/punches/yolov10/test2.mp4: 384x640 (no detections), 10.1ms\n",
            "video 1/1 (frame 16458/19159) /content/drive/MyDrive/punches/yolov10/test2.mp4: 384x640 (no detections), 10.1ms\n",
            "video 1/1 (frame 16459/19159) /content/drive/MyDrive/punches/yolov10/test2.mp4: 384x640 (no detections), 10.3ms\n",
            "video 1/1 (frame 16460/19159) /content/drive/MyDrive/punches/yolov10/test2.mp4: 384x640 (no detections), 10.3ms\n",
            "video 1/1 (frame 16461/19159) /content/drive/MyDrive/punches/yolov10/test2.mp4: 384x640 (no detections), 19.4ms\n",
            "video 1/1 (frame 16462/19159) /content/drive/MyDrive/punches/yolov10/test2.mp4: 384x640 (no detections), 10.8ms\n",
            "video 1/1 (frame 16463/19159) /content/drive/MyDrive/punches/yolov10/test2.mp4: 384x640 (no detections), 10.4ms\n",
            "video 1/1 (frame 16464/19159) /content/drive/MyDrive/punches/yolov10/test2.mp4: 384x640 (no detections), 15.7ms\n",
            "video 1/1 (frame 16465/19159) /content/drive/MyDrive/punches/yolov10/test2.mp4: 384x640 (no detections), 15.7ms\n",
            "video 1/1 (frame 16466/19159) /content/drive/MyDrive/punches/yolov10/test2.mp4: 384x640 1 jab, 10.9ms\n",
            "video 1/1 (frame 16467/19159) /content/drive/MyDrive/punches/yolov10/test2.mp4: 384x640 1 jab, 10.6ms\n",
            "video 1/1 (frame 16468/19159) /content/drive/MyDrive/punches/yolov10/test2.mp4: 384x640 1 jab, 10.6ms\n",
            "video 1/1 (frame 16469/19159) /content/drive/MyDrive/punches/yolov10/test2.mp4: 384x640 2 jabs, 10.2ms\n",
            "video 1/1 (frame 16470/19159) /content/drive/MyDrive/punches/yolov10/test2.mp4: 384x640 (no detections), 11.0ms\n",
            "video 1/1 (frame 16471/19159) /content/drive/MyDrive/punches/yolov10/test2.mp4: 384x640 (no detections), 13.4ms\n",
            "video 1/1 (frame 16472/19159) /content/drive/MyDrive/punches/yolov10/test2.mp4: 384x640 (no detections), 12.1ms\n",
            "video 1/1 (frame 16473/19159) /content/drive/MyDrive/punches/yolov10/test2.mp4: 384x640 (no detections), 11.0ms\n",
            "video 1/1 (frame 16474/19159) /content/drive/MyDrive/punches/yolov10/test2.mp4: 384x640 (no detections), 14.4ms\n",
            "video 1/1 (frame 16475/19159) /content/drive/MyDrive/punches/yolov10/test2.mp4: 384x640 (no detections), 10.2ms\n",
            "video 1/1 (frame 16476/19159) /content/drive/MyDrive/punches/yolov10/test2.mp4: 384x640 (no detections), 10.7ms\n",
            "video 1/1 (frame 16477/19159) /content/drive/MyDrive/punches/yolov10/test2.mp4: 384x640 (no detections), 15.6ms\n",
            "video 1/1 (frame 16478/19159) /content/drive/MyDrive/punches/yolov10/test2.mp4: 384x640 (no detections), 10.9ms\n",
            "video 1/1 (frame 16479/19159) /content/drive/MyDrive/punches/yolov10/test2.mp4: 384x640 1 jab, 12.6ms\n",
            "video 1/1 (frame 16480/19159) /content/drive/MyDrive/punches/yolov10/test2.mp4: 384x640 (no detections), 11.6ms\n",
            "video 1/1 (frame 16481/19159) /content/drive/MyDrive/punches/yolov10/test2.mp4: 384x640 1 jab, 12.5ms\n",
            "video 1/1 (frame 16482/19159) /content/drive/MyDrive/punches/yolov10/test2.mp4: 384x640 (no detections), 10.7ms\n",
            "video 1/1 (frame 16483/19159) /content/drive/MyDrive/punches/yolov10/test2.mp4: 384x640 1 jab, 17.4ms\n",
            "video 1/1 (frame 16484/19159) /content/drive/MyDrive/punches/yolov10/test2.mp4: 384x640 1 jab, 10.4ms\n",
            "video 1/1 (frame 16485/19159) /content/drive/MyDrive/punches/yolov10/test2.mp4: 384x640 1 jab, 11.4ms\n",
            "video 1/1 (frame 16486/19159) /content/drive/MyDrive/punches/yolov10/test2.mp4: 384x640 1 jab, 11.1ms\n",
            "video 1/1 (frame 16487/19159) /content/drive/MyDrive/punches/yolov10/test2.mp4: 384x640 1 jab, 12.3ms\n",
            "video 1/1 (frame 16488/19159) /content/drive/MyDrive/punches/yolov10/test2.mp4: 384x640 (no detections), 10.4ms\n",
            "video 1/1 (frame 16489/19159) /content/drive/MyDrive/punches/yolov10/test2.mp4: 384x640 (no detections), 11.0ms\n",
            "video 1/1 (frame 16490/19159) /content/drive/MyDrive/punches/yolov10/test2.mp4: 384x640 (no detections), 10.5ms\n",
            "video 1/1 (frame 16491/19159) /content/drive/MyDrive/punches/yolov10/test2.mp4: 384x640 (no detections), 10.3ms\n",
            "video 1/1 (frame 16492/19159) /content/drive/MyDrive/punches/yolov10/test2.mp4: 384x640 1 jab, 10.6ms\n",
            "video 1/1 (frame 16493/19159) /content/drive/MyDrive/punches/yolov10/test2.mp4: 384x640 1 jab, 18.7ms\n",
            "video 1/1 (frame 16494/19159) /content/drive/MyDrive/punches/yolov10/test2.mp4: 384x640 1 jab, 10.8ms\n",
            "video 1/1 (frame 16495/19159) /content/drive/MyDrive/punches/yolov10/test2.mp4: 384x640 1 jab, 14.9ms\n",
            "video 1/1 (frame 16496/19159) /content/drive/MyDrive/punches/yolov10/test2.mp4: 384x640 (no detections), 10.7ms\n",
            "video 1/1 (frame 16497/19159) /content/drive/MyDrive/punches/yolov10/test2.mp4: 384x640 1 jab, 10.1ms\n",
            "video 1/1 (frame 16498/19159) /content/drive/MyDrive/punches/yolov10/test2.mp4: 384x640 1 jab, 10.6ms\n",
            "video 1/1 (frame 16499/19159) /content/drive/MyDrive/punches/yolov10/test2.mp4: 384x640 (no detections), 10.6ms\n",
            "video 1/1 (frame 16500/19159) /content/drive/MyDrive/punches/yolov10/test2.mp4: 384x640 (no detections), 10.0ms\n",
            "video 1/1 (frame 16501/19159) /content/drive/MyDrive/punches/yolov10/test2.mp4: 384x640 (no detections), 10.2ms\n",
            "video 1/1 (frame 16502/19159) /content/drive/MyDrive/punches/yolov10/test2.mp4: 384x640 (no detections), 10.3ms\n",
            "video 1/1 (frame 16503/19159) /content/drive/MyDrive/punches/yolov10/test2.mp4: 384x640 (no detections), 10.7ms\n",
            "video 1/1 (frame 16504/19159) /content/drive/MyDrive/punches/yolov10/test2.mp4: 384x640 (no detections), 11.2ms\n",
            "video 1/1 (frame 16505/19159) /content/drive/MyDrive/punches/yolov10/test2.mp4: 384x640 (no detections), 11.6ms\n",
            "video 1/1 (frame 16506/19159) /content/drive/MyDrive/punches/yolov10/test2.mp4: 384x640 (no detections), 10.8ms\n",
            "video 1/1 (frame 16507/19159) /content/drive/MyDrive/punches/yolov10/test2.mp4: 384x640 (no detections), 10.6ms\n",
            "video 1/1 (frame 16508/19159) /content/drive/MyDrive/punches/yolov10/test2.mp4: 384x640 (no detections), 13.8ms\n",
            "video 1/1 (frame 16509/19159) /content/drive/MyDrive/punches/yolov10/test2.mp4: 384x640 (no detections), 10.6ms\n",
            "video 1/1 (frame 16510/19159) /content/drive/MyDrive/punches/yolov10/test2.mp4: 384x640 (no detections), 17.2ms\n",
            "video 1/1 (frame 16511/19159) /content/drive/MyDrive/punches/yolov10/test2.mp4: 384x640 (no detections), 13.5ms\n",
            "video 1/1 (frame 16512/19159) /content/drive/MyDrive/punches/yolov10/test2.mp4: 384x640 (no detections), 10.5ms\n",
            "video 1/1 (frame 16513/19159) /content/drive/MyDrive/punches/yolov10/test2.mp4: 384x640 (no detections), 10.5ms\n",
            "video 1/1 (frame 16514/19159) /content/drive/MyDrive/punches/yolov10/test2.mp4: 384x640 (no detections), 10.7ms\n",
            "video 1/1 (frame 16515/19159) /content/drive/MyDrive/punches/yolov10/test2.mp4: 384x640 (no detections), 12.0ms\n",
            "video 1/1 (frame 16516/19159) /content/drive/MyDrive/punches/yolov10/test2.mp4: 384x640 (no detections), 11.0ms\n",
            "video 1/1 (frame 16517/19159) /content/drive/MyDrive/punches/yolov10/test2.mp4: 384x640 (no detections), 10.5ms\n",
            "video 1/1 (frame 16518/19159) /content/drive/MyDrive/punches/yolov10/test2.mp4: 384x640 (no detections), 10.3ms\n",
            "video 1/1 (frame 16519/19159) /content/drive/MyDrive/punches/yolov10/test2.mp4: 384x640 (no detections), 10.3ms\n",
            "video 1/1 (frame 16520/19159) /content/drive/MyDrive/punches/yolov10/test2.mp4: 384x640 (no detections), 10.9ms\n",
            "video 1/1 (frame 16521/19159) /content/drive/MyDrive/punches/yolov10/test2.mp4: 384x640 (no detections), 20.3ms\n",
            "video 1/1 (frame 16522/19159) /content/drive/MyDrive/punches/yolov10/test2.mp4: 384x640 (no detections), 10.6ms\n",
            "video 1/1 (frame 16523/19159) /content/drive/MyDrive/punches/yolov10/test2.mp4: 384x640 (no detections), 10.7ms\n",
            "video 1/1 (frame 16524/19159) /content/drive/MyDrive/punches/yolov10/test2.mp4: 384x640 (no detections), 10.5ms\n",
            "video 1/1 (frame 16525/19159) /content/drive/MyDrive/punches/yolov10/test2.mp4: 384x640 (no detections), 17.0ms\n",
            "video 1/1 (frame 16526/19159) /content/drive/MyDrive/punches/yolov10/test2.mp4: 384x640 (no detections), 19.6ms\n",
            "video 1/1 (frame 16527/19159) /content/drive/MyDrive/punches/yolov10/test2.mp4: 384x640 (no detections), 10.7ms\n",
            "video 1/1 (frame 16528/19159) /content/drive/MyDrive/punches/yolov10/test2.mp4: 384x640 (no detections), 11.0ms\n",
            "video 1/1 (frame 16529/19159) /content/drive/MyDrive/punches/yolov10/test2.mp4: 384x640 (no detections), 10.8ms\n",
            "video 1/1 (frame 16530/19159) /content/drive/MyDrive/punches/yolov10/test2.mp4: 384x640 (no detections), 10.7ms\n",
            "video 1/1 (frame 16531/19159) /content/drive/MyDrive/punches/yolov10/test2.mp4: 384x640 (no detections), 11.1ms\n",
            "video 1/1 (frame 16532/19159) /content/drive/MyDrive/punches/yolov10/test2.mp4: 384x640 1 jab, 10.7ms\n",
            "video 1/1 (frame 16533/19159) /content/drive/MyDrive/punches/yolov10/test2.mp4: 384x640 (no detections), 10.5ms\n",
            "video 1/1 (frame 16534/19159) /content/drive/MyDrive/punches/yolov10/test2.mp4: 384x640 (no detections), 14.5ms\n",
            "video 1/1 (frame 16535/19159) /content/drive/MyDrive/punches/yolov10/test2.mp4: 384x640 1 jab, 12.3ms\n",
            "video 1/1 (frame 16536/19159) /content/drive/MyDrive/punches/yolov10/test2.mp4: 384x640 (no detections), 11.5ms\n",
            "video 1/1 (frame 16537/19159) /content/drive/MyDrive/punches/yolov10/test2.mp4: 384x640 1 jab, 11.1ms\n",
            "video 1/1 (frame 16538/19159) /content/drive/MyDrive/punches/yolov10/test2.mp4: 384x640 (no detections), 11.7ms\n",
            "video 1/1 (frame 16539/19159) /content/drive/MyDrive/punches/yolov10/test2.mp4: 384x640 (no detections), 10.4ms\n",
            "video 1/1 (frame 16540/19159) /content/drive/MyDrive/punches/yolov10/test2.mp4: 384x640 (no detections), 10.6ms\n",
            "video 1/1 (frame 16541/19159) /content/drive/MyDrive/punches/yolov10/test2.mp4: 384x640 1 jab, 10.3ms\n",
            "video 1/1 (frame 16542/19159) /content/drive/MyDrive/punches/yolov10/test2.mp4: 384x640 1 jab, 14.7ms\n",
            "video 1/1 (frame 16543/19159) /content/drive/MyDrive/punches/yolov10/test2.mp4: 384x640 (no detections), 10.9ms\n",
            "video 1/1 (frame 16544/19159) /content/drive/MyDrive/punches/yolov10/test2.mp4: 384x640 1 jab, 10.3ms\n",
            "video 1/1 (frame 16545/19159) /content/drive/MyDrive/punches/yolov10/test2.mp4: 384x640 1 jab, 10.7ms\n",
            "video 1/1 (frame 16546/19159) /content/drive/MyDrive/punches/yolov10/test2.mp4: 384x640 1 jab, 10.9ms\n",
            "video 1/1 (frame 16547/19159) /content/drive/MyDrive/punches/yolov10/test2.mp4: 384x640 2 jabs, 11.4ms\n",
            "video 1/1 (frame 16548/19159) /content/drive/MyDrive/punches/yolov10/test2.mp4: 384x640 1 jab, 11.5ms\n",
            "video 1/1 (frame 16549/19159) /content/drive/MyDrive/punches/yolov10/test2.mp4: 384x640 1 jab, 11.4ms\n",
            "video 1/1 (frame 16550/19159) /content/drive/MyDrive/punches/yolov10/test2.mp4: 384x640 1 jab, 14.6ms\n",
            "video 1/1 (frame 16551/19159) /content/drive/MyDrive/punches/yolov10/test2.mp4: 384x640 1 jab, 11.5ms\n",
            "video 1/1 (frame 16552/19159) /content/drive/MyDrive/punches/yolov10/test2.mp4: 384x640 1 jab, 10.8ms\n",
            "video 1/1 (frame 16553/19159) /content/drive/MyDrive/punches/yolov10/test2.mp4: 384x640 1 jab, 10.8ms\n",
            "video 1/1 (frame 16554/19159) /content/drive/MyDrive/punches/yolov10/test2.mp4: 384x640 1 jab, 11.0ms\n",
            "video 1/1 (frame 16555/19159) /content/drive/MyDrive/punches/yolov10/test2.mp4: 384x640 1 jab, 10.6ms\n",
            "video 1/1 (frame 16556/19159) /content/drive/MyDrive/punches/yolov10/test2.mp4: 384x640 1 jab, 11.3ms\n",
            "video 1/1 (frame 16557/19159) /content/drive/MyDrive/punches/yolov10/test2.mp4: 384x640 1 jab, 11.0ms\n",
            "video 1/1 (frame 16558/19159) /content/drive/MyDrive/punches/yolov10/test2.mp4: 384x640 1 jab, 11.4ms\n",
            "video 1/1 (frame 16559/19159) /content/drive/MyDrive/punches/yolov10/test2.mp4: 384x640 1 jab, 10.8ms\n",
            "video 1/1 (frame 16560/19159) /content/drive/MyDrive/punches/yolov10/test2.mp4: 384x640 1 jab, 10.1ms\n",
            "video 1/1 (frame 16561/19159) /content/drive/MyDrive/punches/yolov10/test2.mp4: 384x640 1 jab, 10.3ms\n",
            "video 1/1 (frame 16562/19159) /content/drive/MyDrive/punches/yolov10/test2.mp4: 384x640 1 jab, 10.7ms\n",
            "video 1/1 (frame 16563/19159) /content/drive/MyDrive/punches/yolov10/test2.mp4: 384x640 1 jab, 10.7ms\n",
            "video 1/1 (frame 16564/19159) /content/drive/MyDrive/punches/yolov10/test2.mp4: 384x640 1 jab, 10.5ms\n",
            "video 1/1 (frame 16565/19159) /content/drive/MyDrive/punches/yolov10/test2.mp4: 384x640 1 jab, 13.8ms\n",
            "video 1/1 (frame 16566/19159) /content/drive/MyDrive/punches/yolov10/test2.mp4: 384x640 1 jab, 10.3ms\n",
            "video 1/1 (frame 16567/19159) /content/drive/MyDrive/punches/yolov10/test2.mp4: 384x640 1 jab, 11.0ms\n",
            "video 1/1 (frame 16568/19159) /content/drive/MyDrive/punches/yolov10/test2.mp4: 384x640 (no detections), 10.4ms\n",
            "video 1/1 (frame 16569/19159) /content/drive/MyDrive/punches/yolov10/test2.mp4: 384x640 (no detections), 12.2ms\n",
            "video 1/1 (frame 16570/19159) /content/drive/MyDrive/punches/yolov10/test2.mp4: 384x640 (no detections), 11.4ms\n",
            "video 1/1 (frame 16571/19159) /content/drive/MyDrive/punches/yolov10/test2.mp4: 384x640 (no detections), 10.4ms\n",
            "video 1/1 (frame 16572/19159) /content/drive/MyDrive/punches/yolov10/test2.mp4: 384x640 (no detections), 10.3ms\n",
            "video 1/1 (frame 16573/19159) /content/drive/MyDrive/punches/yolov10/test2.mp4: 384x640 (no detections), 10.1ms\n",
            "video 1/1 (frame 16574/19159) /content/drive/MyDrive/punches/yolov10/test2.mp4: 384x640 1 jab, 10.6ms\n",
            "video 1/1 (frame 16575/19159) /content/drive/MyDrive/punches/yolov10/test2.mp4: 384x640 1 jab, 15.9ms\n",
            "video 1/1 (frame 16576/19159) /content/drive/MyDrive/punches/yolov10/test2.mp4: 384x640 1 jab, 18.4ms\n",
            "video 1/1 (frame 16577/19159) /content/drive/MyDrive/punches/yolov10/test2.mp4: 384x640 1 jab, 10.8ms\n",
            "video 1/1 (frame 16578/19159) /content/drive/MyDrive/punches/yolov10/test2.mp4: 384x640 1 jab, 10.7ms\n",
            "video 1/1 (frame 16579/19159) /content/drive/MyDrive/punches/yolov10/test2.mp4: 384x640 1 jab, 10.3ms\n",
            "video 1/1 (frame 16580/19159) /content/drive/MyDrive/punches/yolov10/test2.mp4: 384x640 1 jab, 10.8ms\n",
            "video 1/1 (frame 16581/19159) /content/drive/MyDrive/punches/yolov10/test2.mp4: 384x640 (no detections), 10.0ms\n",
            "video 1/1 (frame 16582/19159) /content/drive/MyDrive/punches/yolov10/test2.mp4: 384x640 (no detections), 12.3ms\n",
            "video 1/1 (frame 16583/19159) /content/drive/MyDrive/punches/yolov10/test2.mp4: 384x640 (no detections), 10.5ms\n",
            "video 1/1 (frame 16584/19159) /content/drive/MyDrive/punches/yolov10/test2.mp4: 384x640 1 jab, 10.1ms\n",
            "video 1/1 (frame 16585/19159) /content/drive/MyDrive/punches/yolov10/test2.mp4: 384x640 1 jab, 10.0ms\n",
            "video 1/1 (frame 16586/19159) /content/drive/MyDrive/punches/yolov10/test2.mp4: 384x640 (no detections), 10.5ms\n",
            "video 1/1 (frame 16587/19159) /content/drive/MyDrive/punches/yolov10/test2.mp4: 384x640 (no detections), 10.1ms\n",
            "video 1/1 (frame 16588/19159) /content/drive/MyDrive/punches/yolov10/test2.mp4: 384x640 (no detections), 10.7ms\n",
            "video 1/1 (frame 16589/19159) /content/drive/MyDrive/punches/yolov10/test2.mp4: 384x640 (no detections), 20.8ms\n",
            "video 1/1 (frame 16590/19159) /content/drive/MyDrive/punches/yolov10/test2.mp4: 384x640 (no detections), 21.1ms\n",
            "video 1/1 (frame 16591/19159) /content/drive/MyDrive/punches/yolov10/test2.mp4: 384x640 (no detections), 11.3ms\n",
            "video 1/1 (frame 16592/19159) /content/drive/MyDrive/punches/yolov10/test2.mp4: 384x640 1 jab, 13.6ms\n",
            "video 1/1 (frame 16593/19159) /content/drive/MyDrive/punches/yolov10/test2.mp4: 384x640 1 jab, 10.3ms\n",
            "video 1/1 (frame 16594/19159) /content/drive/MyDrive/punches/yolov10/test2.mp4: 384x640 (no detections), 10.3ms\n",
            "video 1/1 (frame 16595/19159) /content/drive/MyDrive/punches/yolov10/test2.mp4: 384x640 1 jab, 11.4ms\n",
            "video 1/1 (frame 16596/19159) /content/drive/MyDrive/punches/yolov10/test2.mp4: 384x640 (no detections), 10.4ms\n",
            "video 1/1 (frame 16597/19159) /content/drive/MyDrive/punches/yolov10/test2.mp4: 384x640 (no detections), 10.6ms\n",
            "video 1/1 (frame 16598/19159) /content/drive/MyDrive/punches/yolov10/test2.mp4: 384x640 (no detections), 10.5ms\n",
            "video 1/1 (frame 16599/19159) /content/drive/MyDrive/punches/yolov10/test2.mp4: 384x640 (no detections), 10.1ms\n",
            "video 1/1 (frame 16600/19159) /content/drive/MyDrive/punches/yolov10/test2.mp4: 384x640 (no detections), 10.2ms\n",
            "video 1/1 (frame 16601/19159) /content/drive/MyDrive/punches/yolov10/test2.mp4: 384x640 (no detections), 10.1ms\n",
            "video 1/1 (frame 16602/19159) /content/drive/MyDrive/punches/yolov10/test2.mp4: 384x640 (no detections), 11.0ms\n",
            "video 1/1 (frame 16603/19159) /content/drive/MyDrive/punches/yolov10/test2.mp4: 384x640 (no detections), 12.0ms\n",
            "video 1/1 (frame 16604/19159) /content/drive/MyDrive/punches/yolov10/test2.mp4: 384x640 (no detections), 12.4ms\n",
            "video 1/1 (frame 16605/19159) /content/drive/MyDrive/punches/yolov10/test2.mp4: 384x640 (no detections), 9.6ms\n",
            "video 1/1 (frame 16606/19159) /content/drive/MyDrive/punches/yolov10/test2.mp4: 384x640 (no detections), 10.0ms\n",
            "video 1/1 (frame 16607/19159) /content/drive/MyDrive/punches/yolov10/test2.mp4: 384x640 (no detections), 9.6ms\n",
            "video 1/1 (frame 16608/19159) /content/drive/MyDrive/punches/yolov10/test2.mp4: 384x640 (no detections), 14.6ms\n",
            "video 1/1 (frame 16609/19159) /content/drive/MyDrive/punches/yolov10/test2.mp4: 384x640 (no detections), 10.1ms\n",
            "video 1/1 (frame 16610/19159) /content/drive/MyDrive/punches/yolov10/test2.mp4: 384x640 (no detections), 10.0ms\n",
            "video 1/1 (frame 16611/19159) /content/drive/MyDrive/punches/yolov10/test2.mp4: 384x640 (no detections), 9.9ms\n",
            "video 1/1 (frame 16612/19159) /content/drive/MyDrive/punches/yolov10/test2.mp4: 384x640 (no detections), 10.0ms\n",
            "video 1/1 (frame 16613/19159) /content/drive/MyDrive/punches/yolov10/test2.mp4: 384x640 (no detections), 10.2ms\n",
            "video 1/1 (frame 16614/19159) /content/drive/MyDrive/punches/yolov10/test2.mp4: 384x640 (no detections), 10.3ms\n",
            "video 1/1 (frame 16615/19159) /content/drive/MyDrive/punches/yolov10/test2.mp4: 384x640 (no detections), 9.8ms\n",
            "video 1/1 (frame 16616/19159) /content/drive/MyDrive/punches/yolov10/test2.mp4: 384x640 (no detections), 10.3ms\n",
            "video 1/1 (frame 16617/19159) /content/drive/MyDrive/punches/yolov10/test2.mp4: 384x640 (no detections), 10.2ms\n",
            "video 1/1 (frame 16618/19159) /content/drive/MyDrive/punches/yolov10/test2.mp4: 384x640 (no detections), 10.8ms\n",
            "video 1/1 (frame 16619/19159) /content/drive/MyDrive/punches/yolov10/test2.mp4: 384x640 (no detections), 10.0ms\n",
            "video 1/1 (frame 16620/19159) /content/drive/MyDrive/punches/yolov10/test2.mp4: 384x640 (no detections), 10.4ms\n",
            "video 1/1 (frame 16621/19159) /content/drive/MyDrive/punches/yolov10/test2.mp4: 384x640 (no detections), 11.1ms\n",
            "video 1/1 (frame 16622/19159) /content/drive/MyDrive/punches/yolov10/test2.mp4: 384x640 (no detections), 10.1ms\n",
            "video 1/1 (frame 16623/19159) /content/drive/MyDrive/punches/yolov10/test2.mp4: 384x640 (no detections), 10.5ms\n",
            "video 1/1 (frame 16624/19159) /content/drive/MyDrive/punches/yolov10/test2.mp4: 384x640 (no detections), 9.9ms\n",
            "video 1/1 (frame 16625/19159) /content/drive/MyDrive/punches/yolov10/test2.mp4: 384x640 (no detections), 11.2ms\n",
            "video 1/1 (frame 16626/19159) /content/drive/MyDrive/punches/yolov10/test2.mp4: 384x640 (no detections), 17.6ms\n",
            "video 1/1 (frame 16627/19159) /content/drive/MyDrive/punches/yolov10/test2.mp4: 384x640 (no detections), 10.8ms\n",
            "video 1/1 (frame 16628/19159) /content/drive/MyDrive/punches/yolov10/test2.mp4: 384x640 (no detections), 10.2ms\n",
            "video 1/1 (frame 16629/19159) /content/drive/MyDrive/punches/yolov10/test2.mp4: 384x640 (no detections), 11.0ms\n",
            "video 1/1 (frame 16630/19159) /content/drive/MyDrive/punches/yolov10/test2.mp4: 384x640 (no detections), 10.7ms\n",
            "video 1/1 (frame 16631/19159) /content/drive/MyDrive/punches/yolov10/test2.mp4: 384x640 (no detections), 10.9ms\n",
            "video 1/1 (frame 16632/19159) /content/drive/MyDrive/punches/yolov10/test2.mp4: 384x640 (no detections), 10.6ms\n",
            "video 1/1 (frame 16633/19159) /content/drive/MyDrive/punches/yolov10/test2.mp4: 384x640 (no detections), 10.4ms\n",
            "video 1/1 (frame 16634/19159) /content/drive/MyDrive/punches/yolov10/test2.mp4: 384x640 (no detections), 17.4ms\n",
            "video 1/1 (frame 16635/19159) /content/drive/MyDrive/punches/yolov10/test2.mp4: 384x640 (no detections), 11.1ms\n",
            "video 1/1 (frame 16636/19159) /content/drive/MyDrive/punches/yolov10/test2.mp4: 384x640 (no detections), 10.3ms\n",
            "video 1/1 (frame 16637/19159) /content/drive/MyDrive/punches/yolov10/test2.mp4: 384x640 (no detections), 10.2ms\n",
            "video 1/1 (frame 16638/19159) /content/drive/MyDrive/punches/yolov10/test2.mp4: 384x640 (no detections), 11.1ms\n",
            "video 1/1 (frame 16639/19159) /content/drive/MyDrive/punches/yolov10/test2.mp4: 384x640 (no detections), 11.3ms\n",
            "video 1/1 (frame 16640/19159) /content/drive/MyDrive/punches/yolov10/test2.mp4: 384x640 (no detections), 10.6ms\n",
            "video 1/1 (frame 16641/19159) /content/drive/MyDrive/punches/yolov10/test2.mp4: 384x640 (no detections), 10.1ms\n",
            "video 1/1 (frame 16642/19159) /content/drive/MyDrive/punches/yolov10/test2.mp4: 384x640 (no detections), 10.4ms\n",
            "video 1/1 (frame 16643/19159) /content/drive/MyDrive/punches/yolov10/test2.mp4: 384x640 (no detections), 16.3ms\n",
            "video 1/1 (frame 16644/19159) /content/drive/MyDrive/punches/yolov10/test2.mp4: 384x640 (no detections), 9.9ms\n",
            "video 1/1 (frame 16645/19159) /content/drive/MyDrive/punches/yolov10/test2.mp4: 384x640 (no detections), 10.3ms\n",
            "video 1/1 (frame 16646/19159) /content/drive/MyDrive/punches/yolov10/test2.mp4: 384x640 (no detections), 10.3ms\n",
            "video 1/1 (frame 16647/19159) /content/drive/MyDrive/punches/yolov10/test2.mp4: 384x640 (no detections), 11.0ms\n",
            "video 1/1 (frame 16648/19159) /content/drive/MyDrive/punches/yolov10/test2.mp4: 384x640 (no detections), 10.3ms\n",
            "video 1/1 (frame 16649/19159) /content/drive/MyDrive/punches/yolov10/test2.mp4: 384x640 (no detections), 10.0ms\n",
            "video 1/1 (frame 16650/19159) /content/drive/MyDrive/punches/yolov10/test2.mp4: 384x640 (no detections), 10.2ms\n",
            "video 1/1 (frame 16651/19159) /content/drive/MyDrive/punches/yolov10/test2.mp4: 384x640 (no detections), 10.0ms\n",
            "video 1/1 (frame 16652/19159) /content/drive/MyDrive/punches/yolov10/test2.mp4: 384x640 (no detections), 10.5ms\n",
            "video 1/1 (frame 16653/19159) /content/drive/MyDrive/punches/yolov10/test2.mp4: 384x640 (no detections), 11.3ms\n",
            "video 1/1 (frame 16654/19159) /content/drive/MyDrive/punches/yolov10/test2.mp4: 384x640 (no detections), 11.1ms\n",
            "video 1/1 (frame 16655/19159) /content/drive/MyDrive/punches/yolov10/test2.mp4: 384x640 (no detections), 10.4ms\n",
            "video 1/1 (frame 16656/19159) /content/drive/MyDrive/punches/yolov10/test2.mp4: 384x640 (no detections), 10.2ms\n",
            "video 1/1 (frame 16657/19159) /content/drive/MyDrive/punches/yolov10/test2.mp4: 384x640 (no detections), 10.3ms\n",
            "video 1/1 (frame 16658/19159) /content/drive/MyDrive/punches/yolov10/test2.mp4: 384x640 (no detections), 10.3ms\n",
            "video 1/1 (frame 16659/19159) /content/drive/MyDrive/punches/yolov10/test2.mp4: 384x640 (no detections), 11.2ms\n",
            "video 1/1 (frame 16660/19159) /content/drive/MyDrive/punches/yolov10/test2.mp4: 384x640 (no detections), 10.6ms\n",
            "video 1/1 (frame 16661/19159) /content/drive/MyDrive/punches/yolov10/test2.mp4: 384x640 (no detections), 12.2ms\n",
            "video 1/1 (frame 16662/19159) /content/drive/MyDrive/punches/yolov10/test2.mp4: 384x640 (no detections), 36.6ms\n",
            "video 1/1 (frame 16663/19159) /content/drive/MyDrive/punches/yolov10/test2.mp4: 384x640 (no detections), 15.3ms\n",
            "video 1/1 (frame 16664/19159) /content/drive/MyDrive/punches/yolov10/test2.mp4: 384x640 (no detections), 11.9ms\n",
            "video 1/1 (frame 16665/19159) /content/drive/MyDrive/punches/yolov10/test2.mp4: 384x640 1 jab, 10.2ms\n",
            "video 1/1 (frame 16666/19159) /content/drive/MyDrive/punches/yolov10/test2.mp4: 384x640 (no detections), 10.5ms\n",
            "video 1/1 (frame 16667/19159) /content/drive/MyDrive/punches/yolov10/test2.mp4: 384x640 1 jab, 11.8ms\n",
            "video 1/1 (frame 16668/19159) /content/drive/MyDrive/punches/yolov10/test2.mp4: 384x640 (no detections), 11.8ms\n",
            "video 1/1 (frame 16669/19159) /content/drive/MyDrive/punches/yolov10/test2.mp4: 384x640 (no detections), 10.6ms\n",
            "video 1/1 (frame 16670/19159) /content/drive/MyDrive/punches/yolov10/test2.mp4: 384x640 (no detections), 11.2ms\n",
            "video 1/1 (frame 16671/19159) /content/drive/MyDrive/punches/yolov10/test2.mp4: 384x640 (no detections), 10.3ms\n",
            "video 1/1 (frame 16672/19159) /content/drive/MyDrive/punches/yolov10/test2.mp4: 384x640 (no detections), 9.8ms\n",
            "video 1/1 (frame 16673/19159) /content/drive/MyDrive/punches/yolov10/test2.mp4: 384x640 2 jabs, 10.1ms\n",
            "video 1/1 (frame 16674/19159) /content/drive/MyDrive/punches/yolov10/test2.mp4: 384x640 1 jab, 17.2ms\n",
            "video 1/1 (frame 16675/19159) /content/drive/MyDrive/punches/yolov10/test2.mp4: 384x640 (no detections), 11.6ms\n",
            "video 1/1 (frame 16676/19159) /content/drive/MyDrive/punches/yolov10/test2.mp4: 384x640 (no detections), 12.7ms\n",
            "video 1/1 (frame 16677/19159) /content/drive/MyDrive/punches/yolov10/test2.mp4: 384x640 (no detections), 10.8ms\n",
            "video 1/1 (frame 16678/19159) /content/drive/MyDrive/punches/yolov10/test2.mp4: 384x640 (no detections), 10.6ms\n",
            "video 1/1 (frame 16679/19159) /content/drive/MyDrive/punches/yolov10/test2.mp4: 384x640 (no detections), 12.2ms\n",
            "video 1/1 (frame 16680/19159) /content/drive/MyDrive/punches/yolov10/test2.mp4: 384x640 (no detections), 10.7ms\n",
            "video 1/1 (frame 16681/19159) /content/drive/MyDrive/punches/yolov10/test2.mp4: 384x640 (no detections), 12.5ms\n",
            "video 1/1 (frame 16682/19159) /content/drive/MyDrive/punches/yolov10/test2.mp4: 384x640 (no detections), 10.4ms\n",
            "video 1/1 (frame 16683/19159) /content/drive/MyDrive/punches/yolov10/test2.mp4: 384x640 (no detections), 11.0ms\n",
            "video 1/1 (frame 16684/19159) /content/drive/MyDrive/punches/yolov10/test2.mp4: 384x640 (no detections), 10.2ms\n",
            "video 1/1 (frame 16685/19159) /content/drive/MyDrive/punches/yolov10/test2.mp4: 384x640 (no detections), 10.4ms\n",
            "video 1/1 (frame 16686/19159) /content/drive/MyDrive/punches/yolov10/test2.mp4: 384x640 (no detections), 10.6ms\n",
            "video 1/1 (frame 16687/19159) /content/drive/MyDrive/punches/yolov10/test2.mp4: 384x640 1 jab, 14.8ms\n",
            "video 1/1 (frame 16688/19159) /content/drive/MyDrive/punches/yolov10/test2.mp4: 384x640 1 jab, 10.8ms\n",
            "video 1/1 (frame 16689/19159) /content/drive/MyDrive/punches/yolov10/test2.mp4: 384x640 (no detections), 10.0ms\n",
            "video 1/1 (frame 16690/19159) /content/drive/MyDrive/punches/yolov10/test2.mp4: 384x640 1 jab, 12.5ms\n",
            "video 1/1 (frame 16691/19159) /content/drive/MyDrive/punches/yolov10/test2.mp4: 384x640 1 jab, 19.1ms\n",
            "video 1/1 (frame 16692/19159) /content/drive/MyDrive/punches/yolov10/test2.mp4: 384x640 1 jab, 10.7ms\n",
            "video 1/1 (frame 16693/19159) /content/drive/MyDrive/punches/yolov10/test2.mp4: 384x640 1 jab, 10.4ms\n",
            "video 1/1 (frame 16694/19159) /content/drive/MyDrive/punches/yolov10/test2.mp4: 384x640 1 jab, 10.2ms\n",
            "video 1/1 (frame 16695/19159) /content/drive/MyDrive/punches/yolov10/test2.mp4: 384x640 1 jab, 10.5ms\n",
            "video 1/1 (frame 16696/19159) /content/drive/MyDrive/punches/yolov10/test2.mp4: 384x640 (no detections), 11.3ms\n",
            "video 1/1 (frame 16697/19159) /content/drive/MyDrive/punches/yolov10/test2.mp4: 384x640 (no detections), 11.0ms\n",
            "video 1/1 (frame 16698/19159) /content/drive/MyDrive/punches/yolov10/test2.mp4: 384x640 (no detections), 11.1ms\n",
            "video 1/1 (frame 16699/19159) /content/drive/MyDrive/punches/yolov10/test2.mp4: 384x640 (no detections), 10.5ms\n",
            "video 1/1 (frame 16700/19159) /content/drive/MyDrive/punches/yolov10/test2.mp4: 384x640 (no detections), 11.2ms\n",
            "video 1/1 (frame 16701/19159) /content/drive/MyDrive/punches/yolov10/test2.mp4: 384x640 1 jab, 11.7ms\n",
            "video 1/1 (frame 16702/19159) /content/drive/MyDrive/punches/yolov10/test2.mp4: 384x640 1 jab, 10.1ms\n",
            "video 1/1 (frame 16703/19159) /content/drive/MyDrive/punches/yolov10/test2.mp4: 384x640 1 jab, 12.6ms\n",
            "video 1/1 (frame 16704/19159) /content/drive/MyDrive/punches/yolov10/test2.mp4: 384x640 1 jab, 13.0ms\n",
            "video 1/1 (frame 16705/19159) /content/drive/MyDrive/punches/yolov10/test2.mp4: 384x640 1 jab, 10.4ms\n",
            "video 1/1 (frame 16706/19159) /content/drive/MyDrive/punches/yolov10/test2.mp4: 384x640 (no detections), 16.2ms\n",
            "video 1/1 (frame 16707/19159) /content/drive/MyDrive/punches/yolov10/test2.mp4: 384x640 (no detections), 12.7ms\n",
            "video 1/1 (frame 16708/19159) /content/drive/MyDrive/punches/yolov10/test2.mp4: 384x640 (no detections), 11.3ms\n",
            "video 1/1 (frame 16709/19159) /content/drive/MyDrive/punches/yolov10/test2.mp4: 384x640 (no detections), 15.3ms\n",
            "video 1/1 (frame 16710/19159) /content/drive/MyDrive/punches/yolov10/test2.mp4: 384x640 (no detections), 10.4ms\n",
            "video 1/1 (frame 16711/19159) /content/drive/MyDrive/punches/yolov10/test2.mp4: 384x640 (no detections), 10.5ms\n",
            "video 1/1 (frame 16712/19159) /content/drive/MyDrive/punches/yolov10/test2.mp4: 384x640 (no detections), 10.3ms\n",
            "video 1/1 (frame 16713/19159) /content/drive/MyDrive/punches/yolov10/test2.mp4: 384x640 1 jab, 10.3ms\n",
            "video 1/1 (frame 16714/19159) /content/drive/MyDrive/punches/yolov10/test2.mp4: 384x640 1 jab, 10.6ms\n",
            "video 1/1 (frame 16715/19159) /content/drive/MyDrive/punches/yolov10/test2.mp4: 384x640 1 jab, 13.5ms\n",
            "video 1/1 (frame 16716/19159) /content/drive/MyDrive/punches/yolov10/test2.mp4: 384x640 1 jab, 11.0ms\n",
            "video 1/1 (frame 16717/19159) /content/drive/MyDrive/punches/yolov10/test2.mp4: 384x640 1 jab, 10.1ms\n",
            "video 1/1 (frame 16718/19159) /content/drive/MyDrive/punches/yolov10/test2.mp4: 384x640 1 jab, 10.4ms\n",
            "video 1/1 (frame 16719/19159) /content/drive/MyDrive/punches/yolov10/test2.mp4: 384x640 2 jabs, 9.9ms\n",
            "video 1/1 (frame 16720/19159) /content/drive/MyDrive/punches/yolov10/test2.mp4: 384x640 1 jab, 16.4ms\n",
            "video 1/1 (frame 16721/19159) /content/drive/MyDrive/punches/yolov10/test2.mp4: 384x640 1 jab, 10.6ms\n",
            "video 1/1 (frame 16722/19159) /content/drive/MyDrive/punches/yolov10/test2.mp4: 384x640 1 jab, 10.0ms\n",
            "video 1/1 (frame 16723/19159) /content/drive/MyDrive/punches/yolov10/test2.mp4: 384x640 1 jab, 10.2ms\n",
            "video 1/1 (frame 16724/19159) /content/drive/MyDrive/punches/yolov10/test2.mp4: 384x640 1 jab, 10.1ms\n",
            "video 1/1 (frame 16725/19159) /content/drive/MyDrive/punches/yolov10/test2.mp4: 384x640 1 jab, 10.7ms\n",
            "video 1/1 (frame 16726/19159) /content/drive/MyDrive/punches/yolov10/test2.mp4: 384x640 1 jab, 10.6ms\n",
            "video 1/1 (frame 16727/19159) /content/drive/MyDrive/punches/yolov10/test2.mp4: 384x640 1 jab, 10.2ms\n",
            "video 1/1 (frame 16728/19159) /content/drive/MyDrive/punches/yolov10/test2.mp4: 384x640 (no detections), 10.2ms\n",
            "video 1/1 (frame 16729/19159) /content/drive/MyDrive/punches/yolov10/test2.mp4: 384x640 1 jab, 9.9ms\n",
            "video 1/1 (frame 16730/19159) /content/drive/MyDrive/punches/yolov10/test2.mp4: 384x640 1 jab, 10.0ms\n",
            "video 1/1 (frame 16731/19159) /content/drive/MyDrive/punches/yolov10/test2.mp4: 384x640 1 jab, 10.9ms\n",
            "video 1/1 (frame 16732/19159) /content/drive/MyDrive/punches/yolov10/test2.mp4: 384x640 1 jab, 10.9ms\n",
            "video 1/1 (frame 16733/19159) /content/drive/MyDrive/punches/yolov10/test2.mp4: 384x640 1 jab, 10.0ms\n",
            "video 1/1 (frame 16734/19159) /content/drive/MyDrive/punches/yolov10/test2.mp4: 384x640 1 jab, 11.2ms\n",
            "video 1/1 (frame 16735/19159) /content/drive/MyDrive/punches/yolov10/test2.mp4: 384x640 1 jab, 12.8ms\n",
            "video 1/1 (frame 16736/19159) /content/drive/MyDrive/punches/yolov10/test2.mp4: 384x640 (no detections), 12.0ms\n",
            "video 1/1 (frame 16737/19159) /content/drive/MyDrive/punches/yolov10/test2.mp4: 384x640 1 jab, 12.1ms\n",
            "video 1/1 (frame 16738/19159) /content/drive/MyDrive/punches/yolov10/test2.mp4: 384x640 (no detections), 10.8ms\n",
            "video 1/1 (frame 16739/19159) /content/drive/MyDrive/punches/yolov10/test2.mp4: 384x640 1 jab, 10.4ms\n",
            "video 1/1 (frame 16740/19159) /content/drive/MyDrive/punches/yolov10/test2.mp4: 384x640 1 jab, 11.2ms\n",
            "video 1/1 (frame 16741/19159) /content/drive/MyDrive/punches/yolov10/test2.mp4: 384x640 (no detections), 12.8ms\n",
            "video 1/1 (frame 16742/19159) /content/drive/MyDrive/punches/yolov10/test2.mp4: 384x640 (no detections), 11.4ms\n",
            "video 1/1 (frame 16743/19159) /content/drive/MyDrive/punches/yolov10/test2.mp4: 384x640 (no detections), 11.1ms\n",
            "video 1/1 (frame 16744/19159) /content/drive/MyDrive/punches/yolov10/test2.mp4: 384x640 1 jab, 10.2ms\n",
            "video 1/1 (frame 16745/19159) /content/drive/MyDrive/punches/yolov10/test2.mp4: 384x640 1 jab, 10.1ms\n",
            "video 1/1 (frame 16746/19159) /content/drive/MyDrive/punches/yolov10/test2.mp4: 384x640 (no detections), 10.1ms\n",
            "video 1/1 (frame 16747/19159) /content/drive/MyDrive/punches/yolov10/test2.mp4: 384x640 1 jab, 14.6ms\n",
            "video 1/1 (frame 16748/19159) /content/drive/MyDrive/punches/yolov10/test2.mp4: 384x640 (no detections), 15.4ms\n",
            "video 1/1 (frame 16749/19159) /content/drive/MyDrive/punches/yolov10/test2.mp4: 384x640 (no detections), 10.0ms\n",
            "video 1/1 (frame 16750/19159) /content/drive/MyDrive/punches/yolov10/test2.mp4: 384x640 (no detections), 10.5ms\n",
            "video 1/1 (frame 16751/19159) /content/drive/MyDrive/punches/yolov10/test2.mp4: 384x640 (no detections), 10.5ms\n",
            "video 1/1 (frame 16752/19159) /content/drive/MyDrive/punches/yolov10/test2.mp4: 384x640 (no detections), 10.5ms\n",
            "video 1/1 (frame 16753/19159) /content/drive/MyDrive/punches/yolov10/test2.mp4: 384x640 (no detections), 13.4ms\n",
            "video 1/1 (frame 16754/19159) /content/drive/MyDrive/punches/yolov10/test2.mp4: 384x640 (no detections), 12.0ms\n",
            "video 1/1 (frame 16755/19159) /content/drive/MyDrive/punches/yolov10/test2.mp4: 384x640 (no detections), 10.7ms\n",
            "video 1/1 (frame 16756/19159) /content/drive/MyDrive/punches/yolov10/test2.mp4: 384x640 (no detections), 11.6ms\n",
            "video 1/1 (frame 16757/19159) /content/drive/MyDrive/punches/yolov10/test2.mp4: 384x640 (no detections), 10.3ms\n",
            "video 1/1 (frame 16758/19159) /content/drive/MyDrive/punches/yolov10/test2.mp4: 384x640 (no detections), 10.4ms\n",
            "video 1/1 (frame 16759/19159) /content/drive/MyDrive/punches/yolov10/test2.mp4: 384x640 (no detections), 10.7ms\n",
            "video 1/1 (frame 16760/19159) /content/drive/MyDrive/punches/yolov10/test2.mp4: 384x640 (no detections), 10.4ms\n",
            "video 1/1 (frame 16761/19159) /content/drive/MyDrive/punches/yolov10/test2.mp4: 384x640 1 jab, 10.1ms\n",
            "video 1/1 (frame 16762/19159) /content/drive/MyDrive/punches/yolov10/test2.mp4: 384x640 (no detections), 10.1ms\n",
            "video 1/1 (frame 16763/19159) /content/drive/MyDrive/punches/yolov10/test2.mp4: 384x640 (no detections), 10.9ms\n",
            "video 1/1 (frame 16764/19159) /content/drive/MyDrive/punches/yolov10/test2.mp4: 384x640 1 jab, 10.5ms\n",
            "video 1/1 (frame 16765/19159) /content/drive/MyDrive/punches/yolov10/test2.mp4: 384x640 (no detections), 11.6ms\n",
            "video 1/1 (frame 16766/19159) /content/drive/MyDrive/punches/yolov10/test2.mp4: 384x640 1 jab, 10.5ms\n",
            "video 1/1 (frame 16767/19159) /content/drive/MyDrive/punches/yolov10/test2.mp4: 384x640 (no detections), 11.3ms\n",
            "video 1/1 (frame 16768/19159) /content/drive/MyDrive/punches/yolov10/test2.mp4: 384x640 (no detections), 12.2ms\n",
            "video 1/1 (frame 16769/19159) /content/drive/MyDrive/punches/yolov10/test2.mp4: 384x640 (no detections), 10.8ms\n",
            "video 1/1 (frame 16770/19159) /content/drive/MyDrive/punches/yolov10/test2.mp4: 384x640 (no detections), 10.8ms\n",
            "video 1/1 (frame 16771/19159) /content/drive/MyDrive/punches/yolov10/test2.mp4: 384x640 (no detections), 17.4ms\n",
            "video 1/1 (frame 16772/19159) /content/drive/MyDrive/punches/yolov10/test2.mp4: 384x640 (no detections), 11.2ms\n",
            "video 1/1 (frame 16773/19159) /content/drive/MyDrive/punches/yolov10/test2.mp4: 384x640 (no detections), 10.2ms\n",
            "video 1/1 (frame 16774/19159) /content/drive/MyDrive/punches/yolov10/test2.mp4: 384x640 (no detections), 10.2ms\n",
            "video 1/1 (frame 16775/19159) /content/drive/MyDrive/punches/yolov10/test2.mp4: 384x640 (no detections), 10.3ms\n",
            "video 1/1 (frame 16776/19159) /content/drive/MyDrive/punches/yolov10/test2.mp4: 384x640 (no detections), 10.8ms\n",
            "video 1/1 (frame 16777/19159) /content/drive/MyDrive/punches/yolov10/test2.mp4: 384x640 (no detections), 10.2ms\n",
            "video 1/1 (frame 16778/19159) /content/drive/MyDrive/punches/yolov10/test2.mp4: 384x640 (no detections), 10.1ms\n",
            "video 1/1 (frame 16779/19159) /content/drive/MyDrive/punches/yolov10/test2.mp4: 384x640 (no detections), 10.2ms\n",
            "video 1/1 (frame 16780/19159) /content/drive/MyDrive/punches/yolov10/test2.mp4: 384x640 (no detections), 9.9ms\n",
            "video 1/1 (frame 16781/19159) /content/drive/MyDrive/punches/yolov10/test2.mp4: 384x640 (no detections), 10.0ms\n",
            "video 1/1 (frame 16782/19159) /content/drive/MyDrive/punches/yolov10/test2.mp4: 384x640 (no detections), 13.8ms\n",
            "video 1/1 (frame 16783/19159) /content/drive/MyDrive/punches/yolov10/test2.mp4: 384x640 (no detections), 10.8ms\n",
            "video 1/1 (frame 16784/19159) /content/drive/MyDrive/punches/yolov10/test2.mp4: 384x640 1 jab, 10.7ms\n",
            "video 1/1 (frame 16785/19159) /content/drive/MyDrive/punches/yolov10/test2.mp4: 384x640 1 jab, 10.9ms\n",
            "video 1/1 (frame 16786/19159) /content/drive/MyDrive/punches/yolov10/test2.mp4: 384x640 1 jab, 10.7ms\n",
            "video 1/1 (frame 16787/19159) /content/drive/MyDrive/punches/yolov10/test2.mp4: 384x640 1 jab, 10.4ms\n",
            "video 1/1 (frame 16788/19159) /content/drive/MyDrive/punches/yolov10/test2.mp4: 384x640 1 jab, 16.1ms\n",
            "video 1/1 (frame 16789/19159) /content/drive/MyDrive/punches/yolov10/test2.mp4: 384x640 1 jab, 11.7ms\n",
            "video 1/1 (frame 16790/19159) /content/drive/MyDrive/punches/yolov10/test2.mp4: 384x640 1 jab, 10.4ms\n",
            "video 1/1 (frame 16791/19159) /content/drive/MyDrive/punches/yolov10/test2.mp4: 384x640 1 jab, 11.5ms\n",
            "video 1/1 (frame 16792/19159) /content/drive/MyDrive/punches/yolov10/test2.mp4: 384x640 1 jab, 10.4ms\n",
            "video 1/1 (frame 16793/19159) /content/drive/MyDrive/punches/yolov10/test2.mp4: 384x640 1 jab, 11.4ms\n",
            "video 1/1 (frame 16794/19159) /content/drive/MyDrive/punches/yolov10/test2.mp4: 384x640 1 jab, 11.2ms\n",
            "video 1/1 (frame 16795/19159) /content/drive/MyDrive/punches/yolov10/test2.mp4: 384x640 1 jab, 10.4ms\n",
            "video 1/1 (frame 16796/19159) /content/drive/MyDrive/punches/yolov10/test2.mp4: 384x640 1 jab, 10.7ms\n",
            "video 1/1 (frame 16797/19159) /content/drive/MyDrive/punches/yolov10/test2.mp4: 384x640 1 jab, 10.0ms\n",
            "video 1/1 (frame 16798/19159) /content/drive/MyDrive/punches/yolov10/test2.mp4: 384x640 1 jab, 10.0ms\n",
            "video 1/1 (frame 16799/19159) /content/drive/MyDrive/punches/yolov10/test2.mp4: 384x640 (no detections), 10.5ms\n",
            "video 1/1 (frame 16800/19159) /content/drive/MyDrive/punches/yolov10/test2.mp4: 384x640 (no detections), 10.5ms\n",
            "video 1/1 (frame 16801/19159) /content/drive/MyDrive/punches/yolov10/test2.mp4: 384x640 (no detections), 10.6ms\n",
            "video 1/1 (frame 16802/19159) /content/drive/MyDrive/punches/yolov10/test2.mp4: 384x640 (no detections), 21.4ms\n",
            "video 1/1 (frame 16803/19159) /content/drive/MyDrive/punches/yolov10/test2.mp4: 384x640 (no detections), 19.6ms\n",
            "video 1/1 (frame 16804/19159) /content/drive/MyDrive/punches/yolov10/test2.mp4: 384x640 (no detections), 22.7ms\n",
            "video 1/1 (frame 16805/19159) /content/drive/MyDrive/punches/yolov10/test2.mp4: 384x640 (no detections), 33.6ms\n",
            "video 1/1 (frame 16806/19159) /content/drive/MyDrive/punches/yolov10/test2.mp4: 384x640 (no detections), 14.7ms\n",
            "video 1/1 (frame 16807/19159) /content/drive/MyDrive/punches/yolov10/test2.mp4: 384x640 (no detections), 10.4ms\n",
            "video 1/1 (frame 16808/19159) /content/drive/MyDrive/punches/yolov10/test2.mp4: 384x640 (no detections), 10.5ms\n",
            "video 1/1 (frame 16809/19159) /content/drive/MyDrive/punches/yolov10/test2.mp4: 384x640 (no detections), 11.0ms\n",
            "video 1/1 (frame 16810/19159) /content/drive/MyDrive/punches/yolov10/test2.mp4: 384x640 (no detections), 10.7ms\n",
            "video 1/1 (frame 16811/19159) /content/drive/MyDrive/punches/yolov10/test2.mp4: 384x640 (no detections), 10.5ms\n",
            "video 1/1 (frame 16812/19159) /content/drive/MyDrive/punches/yolov10/test2.mp4: 384x640 (no detections), 13.9ms\n",
            "video 1/1 (frame 16813/19159) /content/drive/MyDrive/punches/yolov10/test2.mp4: 384x640 (no detections), 10.7ms\n",
            "video 1/1 (frame 16814/19159) /content/drive/MyDrive/punches/yolov10/test2.mp4: 384x640 (no detections), 10.2ms\n",
            "video 1/1 (frame 16815/19159) /content/drive/MyDrive/punches/yolov10/test2.mp4: 384x640 (no detections), 10.8ms\n",
            "video 1/1 (frame 16816/19159) /content/drive/MyDrive/punches/yolov10/test2.mp4: 384x640 1 jab, 10.6ms\n",
            "video 1/1 (frame 16817/19159) /content/drive/MyDrive/punches/yolov10/test2.mp4: 384x640 1 jab, 10.5ms\n",
            "video 1/1 (frame 16818/19159) /content/drive/MyDrive/punches/yolov10/test2.mp4: 384x640 (no detections), 15.9ms\n",
            "video 1/1 (frame 16819/19159) /content/drive/MyDrive/punches/yolov10/test2.mp4: 384x640 (no detections), 14.5ms\n",
            "video 1/1 (frame 16820/19159) /content/drive/MyDrive/punches/yolov10/test2.mp4: 384x640 1 jab, 11.1ms\n",
            "video 1/1 (frame 16821/19159) /content/drive/MyDrive/punches/yolov10/test2.mp4: 384x640 (no detections), 10.6ms\n",
            "video 1/1 (frame 16822/19159) /content/drive/MyDrive/punches/yolov10/test2.mp4: 384x640 1 jab, 18.3ms\n",
            "video 1/1 (frame 16823/19159) /content/drive/MyDrive/punches/yolov10/test2.mp4: 384x640 (no detections), 21.5ms\n",
            "video 1/1 (frame 16824/19159) /content/drive/MyDrive/punches/yolov10/test2.mp4: 384x640 (no detections), 19.2ms\n",
            "video 1/1 (frame 16825/19159) /content/drive/MyDrive/punches/yolov10/test2.mp4: 384x640 (no detections), 18.5ms\n",
            "video 1/1 (frame 16826/19159) /content/drive/MyDrive/punches/yolov10/test2.mp4: 384x640 (no detections), 21.6ms\n",
            "video 1/1 (frame 16827/19159) /content/drive/MyDrive/punches/yolov10/test2.mp4: 384x640 (no detections), 15.5ms\n",
            "video 1/1 (frame 16828/19159) /content/drive/MyDrive/punches/yolov10/test2.mp4: 384x640 1 jab, 19.9ms\n",
            "video 1/1 (frame 16829/19159) /content/drive/MyDrive/punches/yolov10/test2.mp4: 384x640 (no detections), 14.0ms\n",
            "video 1/1 (frame 16830/19159) /content/drive/MyDrive/punches/yolov10/test2.mp4: 384x640 (no detections), 18.0ms\n",
            "video 1/1 (frame 16831/19159) /content/drive/MyDrive/punches/yolov10/test2.mp4: 384x640 1 jab, 15.6ms\n",
            "video 1/1 (frame 16832/19159) /content/drive/MyDrive/punches/yolov10/test2.mp4: 384x640 (no detections), 15.5ms\n",
            "video 1/1 (frame 16833/19159) /content/drive/MyDrive/punches/yolov10/test2.mp4: 384x640 (no detections), 14.1ms\n",
            "video 1/1 (frame 16834/19159) /content/drive/MyDrive/punches/yolov10/test2.mp4: 384x640 (no detections), 15.0ms\n",
            "video 1/1 (frame 16835/19159) /content/drive/MyDrive/punches/yolov10/test2.mp4: 384x640 1 jab, 15.5ms\n",
            "video 1/1 (frame 16836/19159) /content/drive/MyDrive/punches/yolov10/test2.mp4: 384x640 (no detections), 17.4ms\n",
            "video 1/1 (frame 16837/19159) /content/drive/MyDrive/punches/yolov10/test2.mp4: 384x640 (no detections), 16.8ms\n",
            "video 1/1 (frame 16838/19159) /content/drive/MyDrive/punches/yolov10/test2.mp4: 384x640 (no detections), 14.4ms\n",
            "video 1/1 (frame 16839/19159) /content/drive/MyDrive/punches/yolov10/test2.mp4: 384x640 (no detections), 15.0ms\n",
            "video 1/1 (frame 16840/19159) /content/drive/MyDrive/punches/yolov10/test2.mp4: 384x640 (no detections), 16.7ms\n",
            "video 1/1 (frame 16841/19159) /content/drive/MyDrive/punches/yolov10/test2.mp4: 384x640 (no detections), 16.2ms\n",
            "video 1/1 (frame 16842/19159) /content/drive/MyDrive/punches/yolov10/test2.mp4: 384x640 (no detections), 21.5ms\n",
            "video 1/1 (frame 16843/19159) /content/drive/MyDrive/punches/yolov10/test2.mp4: 384x640 (no detections), 18.6ms\n",
            "video 1/1 (frame 16844/19159) /content/drive/MyDrive/punches/yolov10/test2.mp4: 384x640 (no detections), 16.5ms\n",
            "video 1/1 (frame 16845/19159) /content/drive/MyDrive/punches/yolov10/test2.mp4: 384x640 (no detections), 14.8ms\n",
            "video 1/1 (frame 16846/19159) /content/drive/MyDrive/punches/yolov10/test2.mp4: 384x640 (no detections), 13.6ms\n",
            "video 1/1 (frame 16847/19159) /content/drive/MyDrive/punches/yolov10/test2.mp4: 384x640 (no detections), 14.0ms\n",
            "video 1/1 (frame 16848/19159) /content/drive/MyDrive/punches/yolov10/test2.mp4: 384x640 (no detections), 19.8ms\n",
            "video 1/1 (frame 16849/19159) /content/drive/MyDrive/punches/yolov10/test2.mp4: 384x640 (no detections), 16.6ms\n",
            "video 1/1 (frame 16850/19159) /content/drive/MyDrive/punches/yolov10/test2.mp4: 384x640 (no detections), 15.1ms\n",
            "video 1/1 (frame 16851/19159) /content/drive/MyDrive/punches/yolov10/test2.mp4: 384x640 (no detections), 15.0ms\n",
            "video 1/1 (frame 16852/19159) /content/drive/MyDrive/punches/yolov10/test2.mp4: 384x640 1 jab, 13.1ms\n",
            "video 1/1 (frame 16853/19159) /content/drive/MyDrive/punches/yolov10/test2.mp4: 384x640 1 jab, 19.3ms\n",
            "video 1/1 (frame 16854/19159) /content/drive/MyDrive/punches/yolov10/test2.mp4: 384x640 2 jabs, 15.7ms\n",
            "video 1/1 (frame 16855/19159) /content/drive/MyDrive/punches/yolov10/test2.mp4: 384x640 1 jab, 14.8ms\n",
            "video 1/1 (frame 16856/19159) /content/drive/MyDrive/punches/yolov10/test2.mp4: 384x640 1 jab, 17.0ms\n",
            "video 1/1 (frame 16857/19159) /content/drive/MyDrive/punches/yolov10/test2.mp4: 384x640 1 jab, 18.4ms\n",
            "video 1/1 (frame 16858/19159) /content/drive/MyDrive/punches/yolov10/test2.mp4: 384x640 1 jab, 13.6ms\n",
            "video 1/1 (frame 16859/19159) /content/drive/MyDrive/punches/yolov10/test2.mp4: 384x640 1 jab, 13.5ms\n",
            "video 1/1 (frame 16860/19159) /content/drive/MyDrive/punches/yolov10/test2.mp4: 384x640 1 jab, 14.7ms\n",
            "video 1/1 (frame 16861/19159) /content/drive/MyDrive/punches/yolov10/test2.mp4: 384x640 1 jab, 18.8ms\n",
            "video 1/1 (frame 16862/19159) /content/drive/MyDrive/punches/yolov10/test2.mp4: 384x640 1 jab, 16.9ms\n",
            "video 1/1 (frame 16863/19159) /content/drive/MyDrive/punches/yolov10/test2.mp4: 384x640 2 jabs, 20.3ms\n",
            "video 1/1 (frame 16864/19159) /content/drive/MyDrive/punches/yolov10/test2.mp4: 384x640 (no detections), 22.2ms\n",
            "video 1/1 (frame 16865/19159) /content/drive/MyDrive/punches/yolov10/test2.mp4: 384x640 (no detections), 21.9ms\n",
            "video 1/1 (frame 16866/19159) /content/drive/MyDrive/punches/yolov10/test2.mp4: 384x640 1 jab, 19.7ms\n",
            "video 1/1 (frame 16867/19159) /content/drive/MyDrive/punches/yolov10/test2.mp4: 384x640 (no detections), 18.2ms\n",
            "video 1/1 (frame 16868/19159) /content/drive/MyDrive/punches/yolov10/test2.mp4: 384x640 (no detections), 14.5ms\n",
            "video 1/1 (frame 16869/19159) /content/drive/MyDrive/punches/yolov10/test2.mp4: 384x640 (no detections), 20.0ms\n",
            "video 1/1 (frame 16870/19159) /content/drive/MyDrive/punches/yolov10/test2.mp4: 384x640 (no detections), 16.9ms\n",
            "video 1/1 (frame 16871/19159) /content/drive/MyDrive/punches/yolov10/test2.mp4: 384x640 1 jab, 16.2ms\n",
            "video 1/1 (frame 16872/19159) /content/drive/MyDrive/punches/yolov10/test2.mp4: 384x640 1 jab, 20.2ms\n",
            "video 1/1 (frame 16873/19159) /content/drive/MyDrive/punches/yolov10/test2.mp4: 384x640 (no detections), 15.8ms\n",
            "video 1/1 (frame 16874/19159) /content/drive/MyDrive/punches/yolov10/test2.mp4: 384x640 1 jab, 14.3ms\n",
            "video 1/1 (frame 16875/19159) /content/drive/MyDrive/punches/yolov10/test2.mp4: 384x640 (no detections), 23.8ms\n",
            "video 1/1 (frame 16876/19159) /content/drive/MyDrive/punches/yolov10/test2.mp4: 384x640 1 jab, 21.5ms\n",
            "video 1/1 (frame 16877/19159) /content/drive/MyDrive/punches/yolov10/test2.mp4: 384x640 1 jab, 28.2ms\n",
            "video 1/1 (frame 16878/19159) /content/drive/MyDrive/punches/yolov10/test2.mp4: 384x640 (no detections), 14.7ms\n",
            "video 1/1 (frame 16879/19159) /content/drive/MyDrive/punches/yolov10/test2.mp4: 384x640 1 jab, 19.1ms\n",
            "video 1/1 (frame 16880/19159) /content/drive/MyDrive/punches/yolov10/test2.mp4: 384x640 (no detections), 14.7ms\n",
            "video 1/1 (frame 16881/19159) /content/drive/MyDrive/punches/yolov10/test2.mp4: 384x640 (no detections), 14.5ms\n",
            "video 1/1 (frame 16882/19159) /content/drive/MyDrive/punches/yolov10/test2.mp4: 384x640 (no detections), 14.3ms\n",
            "video 1/1 (frame 16883/19159) /content/drive/MyDrive/punches/yolov10/test2.mp4: 384x640 (no detections), 22.9ms\n",
            "video 1/1 (frame 16884/19159) /content/drive/MyDrive/punches/yolov10/test2.mp4: 384x640 (no detections), 14.7ms\n",
            "video 1/1 (frame 16885/19159) /content/drive/MyDrive/punches/yolov10/test2.mp4: 384x640 (no detections), 14.0ms\n",
            "video 1/1 (frame 16886/19159) /content/drive/MyDrive/punches/yolov10/test2.mp4: 384x640 (no detections), 15.2ms\n",
            "video 1/1 (frame 16887/19159) /content/drive/MyDrive/punches/yolov10/test2.mp4: 384x640 (no detections), 16.1ms\n",
            "video 1/1 (frame 16888/19159) /content/drive/MyDrive/punches/yolov10/test2.mp4: 384x640 (no detections), 16.7ms\n",
            "video 1/1 (frame 16889/19159) /content/drive/MyDrive/punches/yolov10/test2.mp4: 384x640 (no detections), 17.6ms\n",
            "video 1/1 (frame 16890/19159) /content/drive/MyDrive/punches/yolov10/test2.mp4: 384x640 (no detections), 14.4ms\n",
            "video 1/1 (frame 16891/19159) /content/drive/MyDrive/punches/yolov10/test2.mp4: 384x640 (no detections), 14.5ms\n",
            "video 1/1 (frame 16892/19159) /content/drive/MyDrive/punches/yolov10/test2.mp4: 384x640 1 jab, 14.2ms\n",
            "video 1/1 (frame 16893/19159) /content/drive/MyDrive/punches/yolov10/test2.mp4: 384x640 1 jab, 14.2ms\n",
            "video 1/1 (frame 16894/19159) /content/drive/MyDrive/punches/yolov10/test2.mp4: 384x640 (no detections), 14.6ms\n",
            "video 1/1 (frame 16895/19159) /content/drive/MyDrive/punches/yolov10/test2.mp4: 384x640 (no detections), 14.5ms\n",
            "video 1/1 (frame 16896/19159) /content/drive/MyDrive/punches/yolov10/test2.mp4: 384x640 (no detections), 14.7ms\n",
            "video 1/1 (frame 16897/19159) /content/drive/MyDrive/punches/yolov10/test2.mp4: 384x640 (no detections), 18.4ms\n",
            "video 1/1 (frame 16898/19159) /content/drive/MyDrive/punches/yolov10/test2.mp4: 384x640 (no detections), 17.5ms\n",
            "video 1/1 (frame 16899/19159) /content/drive/MyDrive/punches/yolov10/test2.mp4: 384x640 1 jab, 15.1ms\n",
            "video 1/1 (frame 16900/19159) /content/drive/MyDrive/punches/yolov10/test2.mp4: 384x640 (no detections), 14.4ms\n",
            "video 1/1 (frame 16901/19159) /content/drive/MyDrive/punches/yolov10/test2.mp4: 384x640 1 jab, 18.7ms\n",
            "video 1/1 (frame 16902/19159) /content/drive/MyDrive/punches/yolov10/test2.mp4: 384x640 1 jab, 16.1ms\n",
            "video 1/1 (frame 16903/19159) /content/drive/MyDrive/punches/yolov10/test2.mp4: 384x640 (no detections), 13.9ms\n",
            "video 1/1 (frame 16904/19159) /content/drive/MyDrive/punches/yolov10/test2.mp4: 384x640 (no detections), 14.0ms\n",
            "video 1/1 (frame 16905/19159) /content/drive/MyDrive/punches/yolov10/test2.mp4: 384x640 (no detections), 13.8ms\n",
            "video 1/1 (frame 16906/19159) /content/drive/MyDrive/punches/yolov10/test2.mp4: 384x640 (no detections), 13.0ms\n",
            "video 1/1 (frame 16907/19159) /content/drive/MyDrive/punches/yolov10/test2.mp4: 384x640 (no detections), 12.9ms\n",
            "video 1/1 (frame 16908/19159) /content/drive/MyDrive/punches/yolov10/test2.mp4: 384x640 (no detections), 15.8ms\n",
            "video 1/1 (frame 16909/19159) /content/drive/MyDrive/punches/yolov10/test2.mp4: 384x640 (no detections), 13.5ms\n",
            "video 1/1 (frame 16910/19159) /content/drive/MyDrive/punches/yolov10/test2.mp4: 384x640 1 jab, 14.4ms\n",
            "video 1/1 (frame 16911/19159) /content/drive/MyDrive/punches/yolov10/test2.mp4: 384x640 1 jab, 17.9ms\n",
            "video 1/1 (frame 16912/19159) /content/drive/MyDrive/punches/yolov10/test2.mp4: 384x640 1 jab, 14.0ms\n",
            "video 1/1 (frame 16913/19159) /content/drive/MyDrive/punches/yolov10/test2.mp4: 384x640 1 jab, 15.2ms\n",
            "video 1/1 (frame 16914/19159) /content/drive/MyDrive/punches/yolov10/test2.mp4: 384x640 (no detections), 13.9ms\n",
            "video 1/1 (frame 16915/19159) /content/drive/MyDrive/punches/yolov10/test2.mp4: 384x640 (no detections), 13.9ms\n",
            "video 1/1 (frame 16916/19159) /content/drive/MyDrive/punches/yolov10/test2.mp4: 384x640 (no detections), 13.9ms\n",
            "video 1/1 (frame 16917/19159) /content/drive/MyDrive/punches/yolov10/test2.mp4: 384x640 (no detections), 14.0ms\n",
            "video 1/1 (frame 16918/19159) /content/drive/MyDrive/punches/yolov10/test2.mp4: 384x640 (no detections), 13.2ms\n",
            "video 1/1 (frame 16919/19159) /content/drive/MyDrive/punches/yolov10/test2.mp4: 384x640 (no detections), 13.7ms\n",
            "video 1/1 (frame 16920/19159) /content/drive/MyDrive/punches/yolov10/test2.mp4: 384x640 (no detections), 13.3ms\n",
            "video 1/1 (frame 16921/19159) /content/drive/MyDrive/punches/yolov10/test2.mp4: 384x640 (no detections), 19.3ms\n",
            "video 1/1 (frame 16922/19159) /content/drive/MyDrive/punches/yolov10/test2.mp4: 384x640 (no detections), 17.2ms\n",
            "video 1/1 (frame 16923/19159) /content/drive/MyDrive/punches/yolov10/test2.mp4: 384x640 (no detections), 17.6ms\n",
            "video 1/1 (frame 16924/19159) /content/drive/MyDrive/punches/yolov10/test2.mp4: 384x640 1 jab, 17.5ms\n",
            "video 1/1 (frame 16925/19159) /content/drive/MyDrive/punches/yolov10/test2.mp4: 384x640 (no detections), 19.7ms\n",
            "video 1/1 (frame 16926/19159) /content/drive/MyDrive/punches/yolov10/test2.mp4: 384x640 (no detections), 21.8ms\n",
            "video 1/1 (frame 16927/19159) /content/drive/MyDrive/punches/yolov10/test2.mp4: 384x640 (no detections), 16.1ms\n",
            "video 1/1 (frame 16928/19159) /content/drive/MyDrive/punches/yolov10/test2.mp4: 384x640 (no detections), 14.4ms\n",
            "video 1/1 (frame 16929/19159) /content/drive/MyDrive/punches/yolov10/test2.mp4: 384x640 (no detections), 25.5ms\n",
            "video 1/1 (frame 16930/19159) /content/drive/MyDrive/punches/yolov10/test2.mp4: 384x640 (no detections), 16.6ms\n",
            "video 1/1 (frame 16931/19159) /content/drive/MyDrive/punches/yolov10/test2.mp4: 384x640 (no detections), 13.5ms\n",
            "video 1/1 (frame 16932/19159) /content/drive/MyDrive/punches/yolov10/test2.mp4: 384x640 (no detections), 18.5ms\n",
            "video 1/1 (frame 16933/19159) /content/drive/MyDrive/punches/yolov10/test2.mp4: 384x640 (no detections), 21.2ms\n",
            "video 1/1 (frame 16934/19159) /content/drive/MyDrive/punches/yolov10/test2.mp4: 384x640 (no detections), 19.1ms\n",
            "video 1/1 (frame 16935/19159) /content/drive/MyDrive/punches/yolov10/test2.mp4: 384x640 (no detections), 21.8ms\n",
            "video 1/1 (frame 16936/19159) /content/drive/MyDrive/punches/yolov10/test2.mp4: 384x640 (no detections), 18.4ms\n",
            "video 1/1 (frame 16937/19159) /content/drive/MyDrive/punches/yolov10/test2.mp4: 384x640 1 jab, 16.4ms\n",
            "video 1/1 (frame 16938/19159) /content/drive/MyDrive/punches/yolov10/test2.mp4: 384x640 1 jab, 15.4ms\n",
            "video 1/1 (frame 16939/19159) /content/drive/MyDrive/punches/yolov10/test2.mp4: 384x640 1 jab, 17.6ms\n",
            "video 1/1 (frame 16940/19159) /content/drive/MyDrive/punches/yolov10/test2.mp4: 384x640 1 jab, 16.9ms\n",
            "video 1/1 (frame 16941/19159) /content/drive/MyDrive/punches/yolov10/test2.mp4: 384x640 (no detections), 17.0ms\n",
            "video 1/1 (frame 16942/19159) /content/drive/MyDrive/punches/yolov10/test2.mp4: 384x640 (no detections), 18.0ms\n",
            "video 1/1 (frame 16943/19159) /content/drive/MyDrive/punches/yolov10/test2.mp4: 384x640 (no detections), 18.0ms\n",
            "video 1/1 (frame 16944/19159) /content/drive/MyDrive/punches/yolov10/test2.mp4: 384x640 (no detections), 17.7ms\n",
            "video 1/1 (frame 16945/19159) /content/drive/MyDrive/punches/yolov10/test2.mp4: 384x640 (no detections), 17.9ms\n",
            "video 1/1 (frame 16946/19159) /content/drive/MyDrive/punches/yolov10/test2.mp4: 384x640 (no detections), 18.6ms\n",
            "video 1/1 (frame 16947/19159) /content/drive/MyDrive/punches/yolov10/test2.mp4: 384x640 (no detections), 16.5ms\n",
            "video 1/1 (frame 16948/19159) /content/drive/MyDrive/punches/yolov10/test2.mp4: 384x640 (no detections), 19.5ms\n",
            "video 1/1 (frame 16949/19159) /content/drive/MyDrive/punches/yolov10/test2.mp4: 384x640 (no detections), 16.4ms\n",
            "video 1/1 (frame 16950/19159) /content/drive/MyDrive/punches/yolov10/test2.mp4: 384x640 (no detections), 16.1ms\n",
            "video 1/1 (frame 16951/19159) /content/drive/MyDrive/punches/yolov10/test2.mp4: 384x640 (no detections), 15.7ms\n",
            "video 1/1 (frame 16952/19159) /content/drive/MyDrive/punches/yolov10/test2.mp4: 384x640 (no detections), 21.5ms\n",
            "video 1/1 (frame 16953/19159) /content/drive/MyDrive/punches/yolov10/test2.mp4: 384x640 2 jabs, 16.0ms\n",
            "video 1/1 (frame 16954/19159) /content/drive/MyDrive/punches/yolov10/test2.mp4: 384x640 (no detections), 17.6ms\n",
            "video 1/1 (frame 16955/19159) /content/drive/MyDrive/punches/yolov10/test2.mp4: 384x640 (no detections), 16.6ms\n",
            "video 1/1 (frame 16956/19159) /content/drive/MyDrive/punches/yolov10/test2.mp4: 384x640 1 jab, 16.7ms\n",
            "video 1/1 (frame 16957/19159) /content/drive/MyDrive/punches/yolov10/test2.mp4: 384x640 (no detections), 15.5ms\n",
            "video 1/1 (frame 16958/19159) /content/drive/MyDrive/punches/yolov10/test2.mp4: 384x640 1 jab, 22.7ms\n",
            "video 1/1 (frame 16959/19159) /content/drive/MyDrive/punches/yolov10/test2.mp4: 384x640 (no detections), 19.9ms\n",
            "video 1/1 (frame 16960/19159) /content/drive/MyDrive/punches/yolov10/test2.mp4: 384x640 (no detections), 19.0ms\n",
            "video 1/1 (frame 16961/19159) /content/drive/MyDrive/punches/yolov10/test2.mp4: 384x640 1 jab, 19.6ms\n",
            "video 1/1 (frame 16962/19159) /content/drive/MyDrive/punches/yolov10/test2.mp4: 384x640 1 jab, 20.0ms\n",
            "video 1/1 (frame 16963/19159) /content/drive/MyDrive/punches/yolov10/test2.mp4: 384x640 1 jab, 19.2ms\n",
            "video 1/1 (frame 16964/19159) /content/drive/MyDrive/punches/yolov10/test2.mp4: 384x640 (no detections), 18.6ms\n",
            "video 1/1 (frame 16965/19159) /content/drive/MyDrive/punches/yolov10/test2.mp4: 384x640 (no detections), 27.5ms\n",
            "video 1/1 (frame 16966/19159) /content/drive/MyDrive/punches/yolov10/test2.mp4: 384x640 (no detections), 23.2ms\n",
            "video 1/1 (frame 16967/19159) /content/drive/MyDrive/punches/yolov10/test2.mp4: 384x640 1 jab, 18.9ms\n",
            "video 1/1 (frame 16968/19159) /content/drive/MyDrive/punches/yolov10/test2.mp4: 384x640 1 jab, 20.7ms\n",
            "video 1/1 (frame 16969/19159) /content/drive/MyDrive/punches/yolov10/test2.mp4: 384x640 (no detections), 20.5ms\n",
            "video 1/1 (frame 16970/19159) /content/drive/MyDrive/punches/yolov10/test2.mp4: 384x640 1 jab, 26.6ms\n",
            "video 1/1 (frame 16971/19159) /content/drive/MyDrive/punches/yolov10/test2.mp4: 384x640 (no detections), 19.5ms\n",
            "video 1/1 (frame 16972/19159) /content/drive/MyDrive/punches/yolov10/test2.mp4: 384x640 (no detections), 13.4ms\n",
            "video 1/1 (frame 16973/19159) /content/drive/MyDrive/punches/yolov10/test2.mp4: 384x640 (no detections), 11.2ms\n",
            "video 1/1 (frame 16974/19159) /content/drive/MyDrive/punches/yolov10/test2.mp4: 384x640 (no detections), 10.4ms\n",
            "video 1/1 (frame 16975/19159) /content/drive/MyDrive/punches/yolov10/test2.mp4: 384x640 (no detections), 11.4ms\n",
            "video 1/1 (frame 16976/19159) /content/drive/MyDrive/punches/yolov10/test2.mp4: 384x640 (no detections), 15.9ms\n",
            "video 1/1 (frame 16977/19159) /content/drive/MyDrive/punches/yolov10/test2.mp4: 384x640 (no detections), 10.7ms\n",
            "video 1/1 (frame 16978/19159) /content/drive/MyDrive/punches/yolov10/test2.mp4: 384x640 (no detections), 10.4ms\n",
            "video 1/1 (frame 16979/19159) /content/drive/MyDrive/punches/yolov10/test2.mp4: 384x640 (no detections), 10.2ms\n",
            "video 1/1 (frame 16980/19159) /content/drive/MyDrive/punches/yolov10/test2.mp4: 384x640 (no detections), 10.3ms\n",
            "video 1/1 (frame 16981/19159) /content/drive/MyDrive/punches/yolov10/test2.mp4: 384x640 (no detections), 11.2ms\n",
            "video 1/1 (frame 16982/19159) /content/drive/MyDrive/punches/yolov10/test2.mp4: 384x640 (no detections), 10.3ms\n",
            "video 1/1 (frame 16983/19159) /content/drive/MyDrive/punches/yolov10/test2.mp4: 384x640 (no detections), 10.4ms\n",
            "video 1/1 (frame 16984/19159) /content/drive/MyDrive/punches/yolov10/test2.mp4: 384x640 (no detections), 10.3ms\n",
            "video 1/1 (frame 16985/19159) /content/drive/MyDrive/punches/yolov10/test2.mp4: 384x640 (no detections), 10.2ms\n",
            "video 1/1 (frame 16986/19159) /content/drive/MyDrive/punches/yolov10/test2.mp4: 384x640 (no detections), 10.3ms\n",
            "video 1/1 (frame 16987/19159) /content/drive/MyDrive/punches/yolov10/test2.mp4: 384x640 1 jab, 10.7ms\n",
            "video 1/1 (frame 16988/19159) /content/drive/MyDrive/punches/yolov10/test2.mp4: 384x640 1 jab, 11.0ms\n",
            "video 1/1 (frame 16989/19159) /content/drive/MyDrive/punches/yolov10/test2.mp4: 384x640 1 jab, 12.1ms\n",
            "video 1/1 (frame 16990/19159) /content/drive/MyDrive/punches/yolov10/test2.mp4: 384x640 1 jab, 11.0ms\n",
            "video 1/1 (frame 16991/19159) /content/drive/MyDrive/punches/yolov10/test2.mp4: 384x640 1 jab, 11.7ms\n",
            "video 1/1 (frame 16992/19159) /content/drive/MyDrive/punches/yolov10/test2.mp4: 384x640 (no detections), 10.8ms\n",
            "video 1/1 (frame 16993/19159) /content/drive/MyDrive/punches/yolov10/test2.mp4: 384x640 (no detections), 15.4ms\n",
            "video 1/1 (frame 16994/19159) /content/drive/MyDrive/punches/yolov10/test2.mp4: 384x640 1 jab, 10.7ms\n",
            "video 1/1 (frame 16995/19159) /content/drive/MyDrive/punches/yolov10/test2.mp4: 384x640 (no detections), 10.4ms\n",
            "video 1/1 (frame 16996/19159) /content/drive/MyDrive/punches/yolov10/test2.mp4: 384x640 (no detections), 11.0ms\n",
            "video 1/1 (frame 16997/19159) /content/drive/MyDrive/punches/yolov10/test2.mp4: 384x640 (no detections), 10.5ms\n",
            "video 1/1 (frame 16998/19159) /content/drive/MyDrive/punches/yolov10/test2.mp4: 384x640 (no detections), 10.9ms\n",
            "video 1/1 (frame 16999/19159) /content/drive/MyDrive/punches/yolov10/test2.mp4: 384x640 (no detections), 10.2ms\n",
            "video 1/1 (frame 17000/19159) /content/drive/MyDrive/punches/yolov10/test2.mp4: 384x640 (no detections), 10.3ms\n",
            "video 1/1 (frame 17001/19159) /content/drive/MyDrive/punches/yolov10/test2.mp4: 384x640 (no detections), 10.1ms\n",
            "video 1/1 (frame 17002/19159) /content/drive/MyDrive/punches/yolov10/test2.mp4: 384x640 (no detections), 10.5ms\n",
            "video 1/1 (frame 17003/19159) /content/drive/MyDrive/punches/yolov10/test2.mp4: 384x640 (no detections), 11.5ms\n",
            "video 1/1 (frame 17004/19159) /content/drive/MyDrive/punches/yolov10/test2.mp4: 384x640 1 jab, 11.5ms\n",
            "video 1/1 (frame 17005/19159) /content/drive/MyDrive/punches/yolov10/test2.mp4: 384x640 1 jab, 10.6ms\n",
            "video 1/1 (frame 17006/19159) /content/drive/MyDrive/punches/yolov10/test2.mp4: 384x640 1 jab, 10.5ms\n",
            "video 1/1 (frame 17007/19159) /content/drive/MyDrive/punches/yolov10/test2.mp4: 384x640 1 jab, 10.2ms\n",
            "video 1/1 (frame 17008/19159) /content/drive/MyDrive/punches/yolov10/test2.mp4: 384x640 (no detections), 10.4ms\n",
            "video 1/1 (frame 17009/19159) /content/drive/MyDrive/punches/yolov10/test2.mp4: 384x640 (no detections), 11.1ms\n",
            "video 1/1 (frame 17010/19159) /content/drive/MyDrive/punches/yolov10/test2.mp4: 384x640 (no detections), 17.8ms\n",
            "video 1/1 (frame 17011/19159) /content/drive/MyDrive/punches/yolov10/test2.mp4: 384x640 (no detections), 11.8ms\n",
            "video 1/1 (frame 17012/19159) /content/drive/MyDrive/punches/yolov10/test2.mp4: 384x640 (no detections), 10.4ms\n",
            "video 1/1 (frame 17013/19159) /content/drive/MyDrive/punches/yolov10/test2.mp4: 384x640 (no detections), 10.1ms\n",
            "video 1/1 (frame 17014/19159) /content/drive/MyDrive/punches/yolov10/test2.mp4: 384x640 1 jab, 10.5ms\n",
            "video 1/1 (frame 17015/19159) /content/drive/MyDrive/punches/yolov10/test2.mp4: 384x640 1 jab, 17.2ms\n",
            "video 1/1 (frame 17016/19159) /content/drive/MyDrive/punches/yolov10/test2.mp4: 384x640 (no detections), 10.9ms\n",
            "video 1/1 (frame 17017/19159) /content/drive/MyDrive/punches/yolov10/test2.mp4: 384x640 1 jab, 10.2ms\n",
            "video 1/1 (frame 17018/19159) /content/drive/MyDrive/punches/yolov10/test2.mp4: 384x640 2 jabs, 10.4ms\n",
            "video 1/1 (frame 17019/19159) /content/drive/MyDrive/punches/yolov10/test2.mp4: 384x640 2 jabs, 15.4ms\n",
            "video 1/1 (frame 17020/19159) /content/drive/MyDrive/punches/yolov10/test2.mp4: 384x640 1 jab, 14.5ms\n",
            "video 1/1 (frame 17021/19159) /content/drive/MyDrive/punches/yolov10/test2.mp4: 384x640 1 jab, 16.3ms\n",
            "video 1/1 (frame 17022/19159) /content/drive/MyDrive/punches/yolov10/test2.mp4: 384x640 (no detections), 11.5ms\n",
            "video 1/1 (frame 17023/19159) /content/drive/MyDrive/punches/yolov10/test2.mp4: 384x640 (no detections), 10.9ms\n",
            "video 1/1 (frame 17024/19159) /content/drive/MyDrive/punches/yolov10/test2.mp4: 384x640 (no detections), 15.7ms\n",
            "video 1/1 (frame 17025/19159) /content/drive/MyDrive/punches/yolov10/test2.mp4: 384x640 (no detections), 15.5ms\n",
            "video 1/1 (frame 17026/19159) /content/drive/MyDrive/punches/yolov10/test2.mp4: 384x640 1 jab, 10.1ms\n",
            "video 1/1 (frame 17027/19159) /content/drive/MyDrive/punches/yolov10/test2.mp4: 384x640 (no detections), 10.1ms\n",
            "video 1/1 (frame 17028/19159) /content/drive/MyDrive/punches/yolov10/test2.mp4: 384x640 (no detections), 10.4ms\n",
            "video 1/1 (frame 17029/19159) /content/drive/MyDrive/punches/yolov10/test2.mp4: 384x640 (no detections), 9.8ms\n",
            "video 1/1 (frame 17030/19159) /content/drive/MyDrive/punches/yolov10/test2.mp4: 384x640 (no detections), 11.1ms\n",
            "video 1/1 (frame 17031/19159) /content/drive/MyDrive/punches/yolov10/test2.mp4: 384x640 (no detections), 10.6ms\n",
            "video 1/1 (frame 17032/19159) /content/drive/MyDrive/punches/yolov10/test2.mp4: 384x640 (no detections), 11.1ms\n",
            "video 1/1 (frame 17033/19159) /content/drive/MyDrive/punches/yolov10/test2.mp4: 384x640 (no detections), 10.4ms\n",
            "video 1/1 (frame 17034/19159) /content/drive/MyDrive/punches/yolov10/test2.mp4: 384x640 1 jab, 10.8ms\n",
            "video 1/1 (frame 17035/19159) /content/drive/MyDrive/punches/yolov10/test2.mp4: 384x640 1 jab, 10.7ms\n",
            "video 1/1 (frame 17036/19159) /content/drive/MyDrive/punches/yolov10/test2.mp4: 384x640 1 jab, 11.3ms\n",
            "video 1/1 (frame 17037/19159) /content/drive/MyDrive/punches/yolov10/test2.mp4: 384x640 2 jabs, 10.7ms\n",
            "video 1/1 (frame 17038/19159) /content/drive/MyDrive/punches/yolov10/test2.mp4: 384x640 1 jab, 10.8ms\n",
            "video 1/1 (frame 17039/19159) /content/drive/MyDrive/punches/yolov10/test2.mp4: 384x640 1 jab, 10.5ms\n",
            "video 1/1 (frame 17040/19159) /content/drive/MyDrive/punches/yolov10/test2.mp4: 384x640 1 jab, 10.5ms\n",
            "video 1/1 (frame 17041/19159) /content/drive/MyDrive/punches/yolov10/test2.mp4: 384x640 1 jab, 10.9ms\n",
            "video 1/1 (frame 17042/19159) /content/drive/MyDrive/punches/yolov10/test2.mp4: 384x640 1 jab, 17.4ms\n",
            "video 1/1 (frame 17043/19159) /content/drive/MyDrive/punches/yolov10/test2.mp4: 384x640 (no detections), 12.6ms\n",
            "video 1/1 (frame 17044/19159) /content/drive/MyDrive/punches/yolov10/test2.mp4: 384x640 (no detections), 10.7ms\n",
            "video 1/1 (frame 17045/19159) /content/drive/MyDrive/punches/yolov10/test2.mp4: 384x640 (no detections), 10.6ms\n",
            "video 1/1 (frame 17046/19159) /content/drive/MyDrive/punches/yolov10/test2.mp4: 384x640 (no detections), 10.6ms\n",
            "video 1/1 (frame 17047/19159) /content/drive/MyDrive/punches/yolov10/test2.mp4: 384x640 1 jab, 11.4ms\n",
            "video 1/1 (frame 17048/19159) /content/drive/MyDrive/punches/yolov10/test2.mp4: 384x640 1 jab, 11.1ms\n",
            "video 1/1 (frame 17049/19159) /content/drive/MyDrive/punches/yolov10/test2.mp4: 384x640 1 jab, 10.5ms\n",
            "video 1/1 (frame 17050/19159) /content/drive/MyDrive/punches/yolov10/test2.mp4: 384x640 1 jab, 11.1ms\n",
            "video 1/1 (frame 17051/19159) /content/drive/MyDrive/punches/yolov10/test2.mp4: 384x640 1 jab, 11.6ms\n",
            "video 1/1 (frame 17052/19159) /content/drive/MyDrive/punches/yolov10/test2.mp4: 384x640 1 jab, 10.4ms\n",
            "video 1/1 (frame 17053/19159) /content/drive/MyDrive/punches/yolov10/test2.mp4: 384x640 1 jab, 10.2ms\n",
            "video 1/1 (frame 17054/19159) /content/drive/MyDrive/punches/yolov10/test2.mp4: 384x640 1 jab, 11.0ms\n",
            "video 1/1 (frame 17055/19159) /content/drive/MyDrive/punches/yolov10/test2.mp4: 384x640 (no detections), 10.6ms\n",
            "video 1/1 (frame 17056/19159) /content/drive/MyDrive/punches/yolov10/test2.mp4: 384x640 2 jabs, 10.7ms\n",
            "video 1/1 (frame 17057/19159) /content/drive/MyDrive/punches/yolov10/test2.mp4: 384x640 1 jab, 10.4ms\n",
            "video 1/1 (frame 17058/19159) /content/drive/MyDrive/punches/yolov10/test2.mp4: 384x640 1 jab, 13.0ms\n",
            "video 1/1 (frame 17059/19159) /content/drive/MyDrive/punches/yolov10/test2.mp4: 384x640 1 jab, 12.6ms\n",
            "video 1/1 (frame 17060/19159) /content/drive/MyDrive/punches/yolov10/test2.mp4: 384x640 1 jab, 10.5ms\n",
            "video 1/1 (frame 17061/19159) /content/drive/MyDrive/punches/yolov10/test2.mp4: 384x640 2 jabs, 10.0ms\n",
            "video 1/1 (frame 17062/19159) /content/drive/MyDrive/punches/yolov10/test2.mp4: 384x640 2 jabs, 11.4ms\n",
            "video 1/1 (frame 17063/19159) /content/drive/MyDrive/punches/yolov10/test2.mp4: 384x640 1 jab, 10.9ms\n",
            "video 1/1 (frame 17064/19159) /content/drive/MyDrive/punches/yolov10/test2.mp4: 384x640 2 jabs, 11.3ms\n",
            "video 1/1 (frame 17065/19159) /content/drive/MyDrive/punches/yolov10/test2.mp4: 384x640 1 jab, 10.7ms\n",
            "video 1/1 (frame 17066/19159) /content/drive/MyDrive/punches/yolov10/test2.mp4: 384x640 1 jab, 10.7ms\n",
            "video 1/1 (frame 17067/19159) /content/drive/MyDrive/punches/yolov10/test2.mp4: 384x640 (no detections), 10.4ms\n",
            "video 1/1 (frame 17068/19159) /content/drive/MyDrive/punches/yolov10/test2.mp4: 384x640 (no detections), 10.4ms\n",
            "video 1/1 (frame 17069/19159) /content/drive/MyDrive/punches/yolov10/test2.mp4: 384x640 (no detections), 10.9ms\n",
            "video 1/1 (frame 17070/19159) /content/drive/MyDrive/punches/yolov10/test2.mp4: 384x640 (no detections), 10.6ms\n",
            "video 1/1 (frame 17071/19159) /content/drive/MyDrive/punches/yolov10/test2.mp4: 384x640 (no detections), 11.3ms\n",
            "video 1/1 (frame 17072/19159) /content/drive/MyDrive/punches/yolov10/test2.mp4: 384x640 (no detections), 11.3ms\n",
            "video 1/1 (frame 17073/19159) /content/drive/MyDrive/punches/yolov10/test2.mp4: 384x640 (no detections), 10.5ms\n",
            "video 1/1 (frame 17074/19159) /content/drive/MyDrive/punches/yolov10/test2.mp4: 384x640 (no detections), 12.0ms\n",
            "video 1/1 (frame 17075/19159) /content/drive/MyDrive/punches/yolov10/test2.mp4: 384x640 (no detections), 27.8ms\n",
            "video 1/1 (frame 17076/19159) /content/drive/MyDrive/punches/yolov10/test2.mp4: 384x640 (no detections), 13.7ms\n",
            "video 1/1 (frame 17077/19159) /content/drive/MyDrive/punches/yolov10/test2.mp4: 384x640 (no detections), 10.4ms\n",
            "video 1/1 (frame 17078/19159) /content/drive/MyDrive/punches/yolov10/test2.mp4: 384x640 (no detections), 14.8ms\n",
            "video 1/1 (frame 17079/19159) /content/drive/MyDrive/punches/yolov10/test2.mp4: 384x640 (no detections), 10.9ms\n",
            "video 1/1 (frame 17080/19159) /content/drive/MyDrive/punches/yolov10/test2.mp4: 384x640 (no detections), 10.8ms\n",
            "video 1/1 (frame 17081/19159) /content/drive/MyDrive/punches/yolov10/test2.mp4: 384x640 (no detections), 10.4ms\n",
            "video 1/1 (frame 17082/19159) /content/drive/MyDrive/punches/yolov10/test2.mp4: 384x640 (no detections), 10.6ms\n",
            "video 1/1 (frame 17083/19159) /content/drive/MyDrive/punches/yolov10/test2.mp4: 384x640 (no detections), 10.6ms\n",
            "video 1/1 (frame 17084/19159) /content/drive/MyDrive/punches/yolov10/test2.mp4: 384x640 (no detections), 10.4ms\n",
            "video 1/1 (frame 17085/19159) /content/drive/MyDrive/punches/yolov10/test2.mp4: 384x640 (no detections), 10.4ms\n",
            "video 1/1 (frame 17086/19159) /content/drive/MyDrive/punches/yolov10/test2.mp4: 384x640 (no detections), 10.2ms\n",
            "video 1/1 (frame 17087/19159) /content/drive/MyDrive/punches/yolov10/test2.mp4: 384x640 (no detections), 10.0ms\n",
            "video 1/1 (frame 17088/19159) /content/drive/MyDrive/punches/yolov10/test2.mp4: 384x640 (no detections), 10.3ms\n",
            "video 1/1 (frame 17089/19159) /content/drive/MyDrive/punches/yolov10/test2.mp4: 384x640 (no detections), 9.9ms\n",
            "video 1/1 (frame 17090/19159) /content/drive/MyDrive/punches/yolov10/test2.mp4: 384x640 (no detections), 9.9ms\n",
            "video 1/1 (frame 17091/19159) /content/drive/MyDrive/punches/yolov10/test2.mp4: 384x640 (no detections), 13.1ms\n",
            "video 1/1 (frame 17092/19159) /content/drive/MyDrive/punches/yolov10/test2.mp4: 384x640 (no detections), 11.1ms\n",
            "video 1/1 (frame 17093/19159) /content/drive/MyDrive/punches/yolov10/test2.mp4: 384x640 (no detections), 10.5ms\n",
            "video 1/1 (frame 17094/19159) /content/drive/MyDrive/punches/yolov10/test2.mp4: 384x640 (no detections), 10.5ms\n",
            "video 1/1 (frame 17095/19159) /content/drive/MyDrive/punches/yolov10/test2.mp4: 384x640 (no detections), 10.0ms\n",
            "video 1/1 (frame 17096/19159) /content/drive/MyDrive/punches/yolov10/test2.mp4: 384x640 (no detections), 10.5ms\n",
            "video 1/1 (frame 17097/19159) /content/drive/MyDrive/punches/yolov10/test2.mp4: 384x640 (no detections), 11.8ms\n",
            "video 1/1 (frame 17098/19159) /content/drive/MyDrive/punches/yolov10/test2.mp4: 384x640 (no detections), 12.3ms\n",
            "video 1/1 (frame 17099/19159) /content/drive/MyDrive/punches/yolov10/test2.mp4: 384x640 (no detections), 13.1ms\n",
            "video 1/1 (frame 17100/19159) /content/drive/MyDrive/punches/yolov10/test2.mp4: 384x640 (no detections), 10.3ms\n",
            "video 1/1 (frame 17101/19159) /content/drive/MyDrive/punches/yolov10/test2.mp4: 384x640 (no detections), 11.7ms\n",
            "video 1/1 (frame 17102/19159) /content/drive/MyDrive/punches/yolov10/test2.mp4: 384x640 (no detections), 10.6ms\n",
            "video 1/1 (frame 17103/19159) /content/drive/MyDrive/punches/yolov10/test2.mp4: 384x640 (no detections), 10.6ms\n",
            "video 1/1 (frame 17104/19159) /content/drive/MyDrive/punches/yolov10/test2.mp4: 384x640 (no detections), 10.3ms\n",
            "video 1/1 (frame 17105/19159) /content/drive/MyDrive/punches/yolov10/test2.mp4: 384x640 (no detections), 10.0ms\n",
            "video 1/1 (frame 17106/19159) /content/drive/MyDrive/punches/yolov10/test2.mp4: 384x640 1 jab, 10.1ms\n",
            "video 1/1 (frame 17107/19159) /content/drive/MyDrive/punches/yolov10/test2.mp4: 384x640 1 jab, 10.6ms\n",
            "video 1/1 (frame 17108/19159) /content/drive/MyDrive/punches/yolov10/test2.mp4: 384x640 1 jab, 11.5ms\n",
            "video 1/1 (frame 17109/19159) /content/drive/MyDrive/punches/yolov10/test2.mp4: 384x640 1 jab, 14.7ms\n",
            "video 1/1 (frame 17110/19159) /content/drive/MyDrive/punches/yolov10/test2.mp4: 384x640 (no detections), 10.2ms\n",
            "video 1/1 (frame 17111/19159) /content/drive/MyDrive/punches/yolov10/test2.mp4: 384x640 (no detections), 14.1ms\n",
            "video 1/1 (frame 17112/19159) /content/drive/MyDrive/punches/yolov10/test2.mp4: 384x640 (no detections), 11.4ms\n",
            "video 1/1 (frame 17113/19159) /content/drive/MyDrive/punches/yolov10/test2.mp4: 384x640 (no detections), 11.1ms\n",
            "video 1/1 (frame 17114/19159) /content/drive/MyDrive/punches/yolov10/test2.mp4: 384x640 (no detections), 10.9ms\n",
            "video 1/1 (frame 17115/19159) /content/drive/MyDrive/punches/yolov10/test2.mp4: 384x640 (no detections), 10.4ms\n",
            "video 1/1 (frame 17116/19159) /content/drive/MyDrive/punches/yolov10/test2.mp4: 384x640 (no detections), 10.4ms\n",
            "video 1/1 (frame 17117/19159) /content/drive/MyDrive/punches/yolov10/test2.mp4: 384x640 (no detections), 10.6ms\n",
            "video 1/1 (frame 17118/19159) /content/drive/MyDrive/punches/yolov10/test2.mp4: 384x640 (no detections), 10.4ms\n",
            "video 1/1 (frame 17119/19159) /content/drive/MyDrive/punches/yolov10/test2.mp4: 384x640 (no detections), 10.9ms\n",
            "video 1/1 (frame 17120/19159) /content/drive/MyDrive/punches/yolov10/test2.mp4: 384x640 (no detections), 11.6ms\n",
            "video 1/1 (frame 17121/19159) /content/drive/MyDrive/punches/yolov10/test2.mp4: 384x640 (no detections), 10.4ms\n",
            "video 1/1 (frame 17122/19159) /content/drive/MyDrive/punches/yolov10/test2.mp4: 384x640 (no detections), 11.0ms\n",
            "video 1/1 (frame 17123/19159) /content/drive/MyDrive/punches/yolov10/test2.mp4: 384x640 (no detections), 10.8ms\n",
            "video 1/1 (frame 17124/19159) /content/drive/MyDrive/punches/yolov10/test2.mp4: 384x640 (no detections), 10.5ms\n",
            "video 1/1 (frame 17125/19159) /content/drive/MyDrive/punches/yolov10/test2.mp4: 384x640 (no detections), 13.8ms\n",
            "video 1/1 (frame 17126/19159) /content/drive/MyDrive/punches/yolov10/test2.mp4: 384x640 (no detections), 15.1ms\n",
            "video 1/1 (frame 17127/19159) /content/drive/MyDrive/punches/yolov10/test2.mp4: 384x640 (no detections), 11.1ms\n",
            "video 1/1 (frame 17128/19159) /content/drive/MyDrive/punches/yolov10/test2.mp4: 384x640 (no detections), 10.5ms\n",
            "video 1/1 (frame 17129/19159) /content/drive/MyDrive/punches/yolov10/test2.mp4: 384x640 (no detections), 10.5ms\n",
            "video 1/1 (frame 17130/19159) /content/drive/MyDrive/punches/yolov10/test2.mp4: 384x640 (no detections), 10.9ms\n",
            "video 1/1 (frame 17131/19159) /content/drive/MyDrive/punches/yolov10/test2.mp4: 384x640 (no detections), 11.3ms\n",
            "video 1/1 (frame 17132/19159) /content/drive/MyDrive/punches/yolov10/test2.mp4: 384x640 (no detections), 10.0ms\n",
            "video 1/1 (frame 17133/19159) /content/drive/MyDrive/punches/yolov10/test2.mp4: 384x640 (no detections), 17.8ms\n",
            "video 1/1 (frame 17134/19159) /content/drive/MyDrive/punches/yolov10/test2.mp4: 384x640 (no detections), 12.8ms\n",
            "video 1/1 (frame 17135/19159) /content/drive/MyDrive/punches/yolov10/test2.mp4: 384x640 (no detections), 9.8ms\n",
            "video 1/1 (frame 17136/19159) /content/drive/MyDrive/punches/yolov10/test2.mp4: 384x640 (no detections), 9.9ms\n",
            "video 1/1 (frame 17137/19159) /content/drive/MyDrive/punches/yolov10/test2.mp4: 384x640 (no detections), 9.8ms\n",
            "video 1/1 (frame 17138/19159) /content/drive/MyDrive/punches/yolov10/test2.mp4: 384x640 (no detections), 11.4ms\n",
            "video 1/1 (frame 17139/19159) /content/drive/MyDrive/punches/yolov10/test2.mp4: 384x640 (no detections), 10.4ms\n",
            "video 1/1 (frame 17140/19159) /content/drive/MyDrive/punches/yolov10/test2.mp4: 384x640 (no detections), 10.4ms\n",
            "video 1/1 (frame 17141/19159) /content/drive/MyDrive/punches/yolov10/test2.mp4: 384x640 1 jab, 11.6ms\n",
            "video 1/1 (frame 17142/19159) /content/drive/MyDrive/punches/yolov10/test2.mp4: 384x640 (no detections), 19.5ms\n",
            "video 1/1 (frame 17143/19159) /content/drive/MyDrive/punches/yolov10/test2.mp4: 384x640 2 jabs, 13.9ms\n",
            "video 1/1 (frame 17144/19159) /content/drive/MyDrive/punches/yolov10/test2.mp4: 384x640 (no detections), 11.2ms\n",
            "video 1/1 (frame 17145/19159) /content/drive/MyDrive/punches/yolov10/test2.mp4: 384x640 (no detections), 10.9ms\n",
            "video 1/1 (frame 17146/19159) /content/drive/MyDrive/punches/yolov10/test2.mp4: 384x640 (no detections), 11.5ms\n",
            "video 1/1 (frame 17147/19159) /content/drive/MyDrive/punches/yolov10/test2.mp4: 384x640 1 jab, 10.5ms\n",
            "video 1/1 (frame 17148/19159) /content/drive/MyDrive/punches/yolov10/test2.mp4: 384x640 2 jabs, 10.8ms\n",
            "video 1/1 (frame 17149/19159) /content/drive/MyDrive/punches/yolov10/test2.mp4: 384x640 3 jabs, 10.8ms\n",
            "video 1/1 (frame 17150/19159) /content/drive/MyDrive/punches/yolov10/test2.mp4: 384x640 1 jab, 10.5ms\n",
            "video 1/1 (frame 17151/19159) /content/drive/MyDrive/punches/yolov10/test2.mp4: 384x640 2 jabs, 13.9ms\n",
            "video 1/1 (frame 17152/19159) /content/drive/MyDrive/punches/yolov10/test2.mp4: 384x640 3 jabs, 11.6ms\n",
            "video 1/1 (frame 17153/19159) /content/drive/MyDrive/punches/yolov10/test2.mp4: 384x640 1 jab, 12.9ms\n",
            "video 1/1 (frame 17154/19159) /content/drive/MyDrive/punches/yolov10/test2.mp4: 384x640 3 jabs, 13.8ms\n",
            "video 1/1 (frame 17155/19159) /content/drive/MyDrive/punches/yolov10/test2.mp4: 384x640 2 jabs, 11.0ms\n",
            "video 1/1 (frame 17156/19159) /content/drive/MyDrive/punches/yolov10/test2.mp4: 384x640 1 jab, 11.3ms\n",
            "video 1/1 (frame 17157/19159) /content/drive/MyDrive/punches/yolov10/test2.mp4: 384x640 1 jab, 12.7ms\n",
            "video 1/1 (frame 17158/19159) /content/drive/MyDrive/punches/yolov10/test2.mp4: 384x640 3 jabs, 12.0ms\n",
            "video 1/1 (frame 17159/19159) /content/drive/MyDrive/punches/yolov10/test2.mp4: 384x640 1 jab, 11.2ms\n",
            "video 1/1 (frame 17160/19159) /content/drive/MyDrive/punches/yolov10/test2.mp4: 384x640 2 jabs, 10.3ms\n",
            "video 1/1 (frame 17161/19159) /content/drive/MyDrive/punches/yolov10/test2.mp4: 384x640 (no detections), 10.6ms\n",
            "video 1/1 (frame 17162/19159) /content/drive/MyDrive/punches/yolov10/test2.mp4: 384x640 1 jab, 10.3ms\n",
            "video 1/1 (frame 17163/19159) /content/drive/MyDrive/punches/yolov10/test2.mp4: 384x640 1 jab, 11.0ms\n",
            "video 1/1 (frame 17164/19159) /content/drive/MyDrive/punches/yolov10/test2.mp4: 384x640 1 jab, 10.3ms\n",
            "video 1/1 (frame 17165/19159) /content/drive/MyDrive/punches/yolov10/test2.mp4: 384x640 1 jab, 10.6ms\n",
            "video 1/1 (frame 17166/19159) /content/drive/MyDrive/punches/yolov10/test2.mp4: 384x640 (no detections), 10.3ms\n",
            "video 1/1 (frame 17167/19159) /content/drive/MyDrive/punches/yolov10/test2.mp4: 384x640 (no detections), 10.1ms\n",
            "video 1/1 (frame 17168/19159) /content/drive/MyDrive/punches/yolov10/test2.mp4: 384x640 (no detections), 10.2ms\n",
            "video 1/1 (frame 17169/19159) /content/drive/MyDrive/punches/yolov10/test2.mp4: 384x640 (no detections), 10.6ms\n",
            "video 1/1 (frame 17170/19159) /content/drive/MyDrive/punches/yolov10/test2.mp4: 384x640 (no detections), 10.4ms\n",
            "video 1/1 (frame 17171/19159) /content/drive/MyDrive/punches/yolov10/test2.mp4: 384x640 (no detections), 10.4ms\n",
            "video 1/1 (frame 17172/19159) /content/drive/MyDrive/punches/yolov10/test2.mp4: 384x640 (no detections), 10.3ms\n",
            "video 1/1 (frame 17173/19159) /content/drive/MyDrive/punches/yolov10/test2.mp4: 384x640 (no detections), 10.2ms\n",
            "video 1/1 (frame 17174/19159) /content/drive/MyDrive/punches/yolov10/test2.mp4: 384x640 (no detections), 10.2ms\n",
            "video 1/1 (frame 17175/19159) /content/drive/MyDrive/punches/yolov10/test2.mp4: 384x640 (no detections), 10.8ms\n",
            "video 1/1 (frame 17176/19159) /content/drive/MyDrive/punches/yolov10/test2.mp4: 384x640 (no detections), 16.8ms\n",
            "video 1/1 (frame 17177/19159) /content/drive/MyDrive/punches/yolov10/test2.mp4: 384x640 (no detections), 12.3ms\n",
            "video 1/1 (frame 17178/19159) /content/drive/MyDrive/punches/yolov10/test2.mp4: 384x640 (no detections), 10.1ms\n",
            "video 1/1 (frame 17179/19159) /content/drive/MyDrive/punches/yolov10/test2.mp4: 384x640 (no detections), 10.0ms\n",
            "video 1/1 (frame 17180/19159) /content/drive/MyDrive/punches/yolov10/test2.mp4: 384x640 (no detections), 10.2ms\n",
            "video 1/1 (frame 17181/19159) /content/drive/MyDrive/punches/yolov10/test2.mp4: 384x640 (no detections), 10.7ms\n",
            "video 1/1 (frame 17182/19159) /content/drive/MyDrive/punches/yolov10/test2.mp4: 384x640 (no detections), 10.6ms\n",
            "video 1/1 (frame 17183/19159) /content/drive/MyDrive/punches/yolov10/test2.mp4: 384x640 (no detections), 11.3ms\n",
            "video 1/1 (frame 17184/19159) /content/drive/MyDrive/punches/yolov10/test2.mp4: 384x640 (no detections), 10.4ms\n",
            "video 1/1 (frame 17185/19159) /content/drive/MyDrive/punches/yolov10/test2.mp4: 384x640 (no detections), 10.3ms\n",
            "video 1/1 (frame 17186/19159) /content/drive/MyDrive/punches/yolov10/test2.mp4: 384x640 (no detections), 10.3ms\n",
            "video 1/1 (frame 17187/19159) /content/drive/MyDrive/punches/yolov10/test2.mp4: 384x640 (no detections), 10.3ms\n",
            "video 1/1 (frame 17188/19159) /content/drive/MyDrive/punches/yolov10/test2.mp4: 384x640 (no detections), 11.8ms\n",
            "video 1/1 (frame 17189/19159) /content/drive/MyDrive/punches/yolov10/test2.mp4: 384x640 (no detections), 13.5ms\n",
            "video 1/1 (frame 17190/19159) /content/drive/MyDrive/punches/yolov10/test2.mp4: 384x640 (no detections), 11.8ms\n",
            "video 1/1 (frame 17191/19159) /content/drive/MyDrive/punches/yolov10/test2.mp4: 384x640 (no detections), 14.5ms\n",
            "video 1/1 (frame 17192/19159) /content/drive/MyDrive/punches/yolov10/test2.mp4: 384x640 (no detections), 21.0ms\n",
            "video 1/1 (frame 17193/19159) /content/drive/MyDrive/punches/yolov10/test2.mp4: 384x640 (no detections), 15.8ms\n",
            "video 1/1 (frame 17194/19159) /content/drive/MyDrive/punches/yolov10/test2.mp4: 384x640 (no detections), 10.2ms\n",
            "video 1/1 (frame 17195/19159) /content/drive/MyDrive/punches/yolov10/test2.mp4: 384x640 (no detections), 10.6ms\n",
            "video 1/1 (frame 17196/19159) /content/drive/MyDrive/punches/yolov10/test2.mp4: 384x640 (no detections), 10.1ms\n",
            "video 1/1 (frame 17197/19159) /content/drive/MyDrive/punches/yolov10/test2.mp4: 384x640 (no detections), 10.3ms\n",
            "video 1/1 (frame 17198/19159) /content/drive/MyDrive/punches/yolov10/test2.mp4: 384x640 (no detections), 10.1ms\n",
            "video 1/1 (frame 17199/19159) /content/drive/MyDrive/punches/yolov10/test2.mp4: 384x640 (no detections), 10.9ms\n",
            "video 1/1 (frame 17200/19159) /content/drive/MyDrive/punches/yolov10/test2.mp4: 384x640 (no detections), 10.0ms\n",
            "video 1/1 (frame 17201/19159) /content/drive/MyDrive/punches/yolov10/test2.mp4: 384x640 (no detections), 10.0ms\n",
            "video 1/1 (frame 17202/19159) /content/drive/MyDrive/punches/yolov10/test2.mp4: 384x640 (no detections), 9.9ms\n",
            "video 1/1 (frame 17203/19159) /content/drive/MyDrive/punches/yolov10/test2.mp4: 384x640 (no detections), 10.2ms\n",
            "video 1/1 (frame 17204/19159) /content/drive/MyDrive/punches/yolov10/test2.mp4: 384x640 (no detections), 10.1ms\n",
            "video 1/1 (frame 17205/19159) /content/drive/MyDrive/punches/yolov10/test2.mp4: 384x640 (no detections), 10.0ms\n",
            "video 1/1 (frame 17206/19159) /content/drive/MyDrive/punches/yolov10/test2.mp4: 384x640 (no detections), 10.4ms\n",
            "video 1/1 (frame 17207/19159) /content/drive/MyDrive/punches/yolov10/test2.mp4: 384x640 (no detections), 9.9ms\n",
            "video 1/1 (frame 17208/19159) /content/drive/MyDrive/punches/yolov10/test2.mp4: 384x640 (no detections), 10.7ms\n",
            "video 1/1 (frame 17209/19159) /content/drive/MyDrive/punches/yolov10/test2.mp4: 384x640 (no detections), 10.0ms\n",
            "video 1/1 (frame 17210/19159) /content/drive/MyDrive/punches/yolov10/test2.mp4: 384x640 (no detections), 9.9ms\n",
            "video 1/1 (frame 17211/19159) /content/drive/MyDrive/punches/yolov10/test2.mp4: 384x640 (no detections), 10.0ms\n",
            "video 1/1 (frame 17212/19159) /content/drive/MyDrive/punches/yolov10/test2.mp4: 384x640 (no detections), 11.8ms\n",
            "video 1/1 (frame 17213/19159) /content/drive/MyDrive/punches/yolov10/test2.mp4: 384x640 (no detections), 15.5ms\n",
            "video 1/1 (frame 17214/19159) /content/drive/MyDrive/punches/yolov10/test2.mp4: 384x640 (no detections), 12.3ms\n",
            "video 1/1 (frame 17215/19159) /content/drive/MyDrive/punches/yolov10/test2.mp4: 384x640 (no detections), 10.5ms\n",
            "video 1/1 (frame 17216/19159) /content/drive/MyDrive/punches/yolov10/test2.mp4: 384x640 (no detections), 12.1ms\n",
            "video 1/1 (frame 17217/19159) /content/drive/MyDrive/punches/yolov10/test2.mp4: 384x640 (no detections), 10.6ms\n",
            "video 1/1 (frame 17218/19159) /content/drive/MyDrive/punches/yolov10/test2.mp4: 384x640 (no detections), 11.8ms\n",
            "video 1/1 (frame 17219/19159) /content/drive/MyDrive/punches/yolov10/test2.mp4: 384x640 (no detections), 10.4ms\n",
            "video 1/1 (frame 17220/19159) /content/drive/MyDrive/punches/yolov10/test2.mp4: 384x640 (no detections), 10.5ms\n",
            "video 1/1 (frame 17221/19159) /content/drive/MyDrive/punches/yolov10/test2.mp4: 384x640 (no detections), 10.6ms\n",
            "video 1/1 (frame 17222/19159) /content/drive/MyDrive/punches/yolov10/test2.mp4: 384x640 (no detections), 10.2ms\n",
            "video 1/1 (frame 17223/19159) /content/drive/MyDrive/punches/yolov10/test2.mp4: 384x640 (no detections), 10.4ms\n",
            "video 1/1 (frame 17224/19159) /content/drive/MyDrive/punches/yolov10/test2.mp4: 384x640 (no detections), 10.7ms\n",
            "video 1/1 (frame 17225/19159) /content/drive/MyDrive/punches/yolov10/test2.mp4: 384x640 (no detections), 11.6ms\n",
            "video 1/1 (frame 17226/19159) /content/drive/MyDrive/punches/yolov10/test2.mp4: 384x640 (no detections), 10.7ms\n",
            "video 1/1 (frame 17227/19159) /content/drive/MyDrive/punches/yolov10/test2.mp4: 384x640 (no detections), 10.8ms\n",
            "video 1/1 (frame 17228/19159) /content/drive/MyDrive/punches/yolov10/test2.mp4: 384x640 (no detections), 10.2ms\n",
            "video 1/1 (frame 17229/19159) /content/drive/MyDrive/punches/yolov10/test2.mp4: 384x640 (no detections), 10.2ms\n",
            "video 1/1 (frame 17230/19159) /content/drive/MyDrive/punches/yolov10/test2.mp4: 384x640 (no detections), 9.9ms\n",
            "video 1/1 (frame 17231/19159) /content/drive/MyDrive/punches/yolov10/test2.mp4: 384x640 (no detections), 15.8ms\n",
            "video 1/1 (frame 17232/19159) /content/drive/MyDrive/punches/yolov10/test2.mp4: 384x640 (no detections), 10.9ms\n",
            "video 1/1 (frame 17233/19159) /content/drive/MyDrive/punches/yolov10/test2.mp4: 384x640 (no detections), 9.9ms\n",
            "video 1/1 (frame 17234/19159) /content/drive/MyDrive/punches/yolov10/test2.mp4: 384x640 (no detections), 9.9ms\n",
            "video 1/1 (frame 17235/19159) /content/drive/MyDrive/punches/yolov10/test2.mp4: 384x640 (no detections), 10.6ms\n",
            "video 1/1 (frame 17236/19159) /content/drive/MyDrive/punches/yolov10/test2.mp4: 384x640 (no detections), 10.5ms\n",
            "video 1/1 (frame 17237/19159) /content/drive/MyDrive/punches/yolov10/test2.mp4: 384x640 (no detections), 12.3ms\n",
            "video 1/1 (frame 17238/19159) /content/drive/MyDrive/punches/yolov10/test2.mp4: 384x640 (no detections), 10.2ms\n",
            "video 1/1 (frame 17239/19159) /content/drive/MyDrive/punches/yolov10/test2.mp4: 384x640 (no detections), 10.3ms\n",
            "video 1/1 (frame 17240/19159) /content/drive/MyDrive/punches/yolov10/test2.mp4: 384x640 (no detections), 10.2ms\n",
            "video 1/1 (frame 17241/19159) /content/drive/MyDrive/punches/yolov10/test2.mp4: 384x640 (no detections), 9.9ms\n",
            "video 1/1 (frame 17242/19159) /content/drive/MyDrive/punches/yolov10/test2.mp4: 384x640 (no detections), 10.4ms\n",
            "video 1/1 (frame 17243/19159) /content/drive/MyDrive/punches/yolov10/test2.mp4: 384x640 (no detections), 20.6ms\n",
            "video 1/1 (frame 17244/19159) /content/drive/MyDrive/punches/yolov10/test2.mp4: 384x640 (no detections), 11.3ms\n",
            "video 1/1 (frame 17245/19159) /content/drive/MyDrive/punches/yolov10/test2.mp4: 384x640 (no detections), 12.0ms\n",
            "video 1/1 (frame 17246/19159) /content/drive/MyDrive/punches/yolov10/test2.mp4: 384x640 (no detections), 10.6ms\n",
            "video 1/1 (frame 17247/19159) /content/drive/MyDrive/punches/yolov10/test2.mp4: 384x640 1 jab, 11.8ms\n",
            "video 1/1 (frame 17248/19159) /content/drive/MyDrive/punches/yolov10/test2.mp4: 384x640 2 jabs, 10.2ms\n",
            "video 1/1 (frame 17249/19159) /content/drive/MyDrive/punches/yolov10/test2.mp4: 384x640 2 jabs, 15.9ms\n",
            "video 1/1 (frame 17250/19159) /content/drive/MyDrive/punches/yolov10/test2.mp4: 384x640 1 jab, 10.8ms\n",
            "video 1/1 (frame 17251/19159) /content/drive/MyDrive/punches/yolov10/test2.mp4: 384x640 1 jab, 13.2ms\n",
            "video 1/1 (frame 17252/19159) /content/drive/MyDrive/punches/yolov10/test2.mp4: 384x640 1 jab, 15.4ms\n",
            "video 1/1 (frame 17253/19159) /content/drive/MyDrive/punches/yolov10/test2.mp4: 384x640 1 jab, 17.6ms\n",
            "video 1/1 (frame 17254/19159) /content/drive/MyDrive/punches/yolov10/test2.mp4: 384x640 1 jab, 12.7ms\n",
            "video 1/1 (frame 17255/19159) /content/drive/MyDrive/punches/yolov10/test2.mp4: 384x640 1 jab, 10.2ms\n",
            "video 1/1 (frame 17256/19159) /content/drive/MyDrive/punches/yolov10/test2.mp4: 384x640 1 jab, 15.5ms\n",
            "video 1/1 (frame 17257/19159) /content/drive/MyDrive/punches/yolov10/test2.mp4: 384x640 1 jab, 10.3ms\n",
            "video 1/1 (frame 17258/19159) /content/drive/MyDrive/punches/yolov10/test2.mp4: 384x640 1 jab, 11.3ms\n",
            "video 1/1 (frame 17259/19159) /content/drive/MyDrive/punches/yolov10/test2.mp4: 384x640 1 jab, 10.0ms\n",
            "video 1/1 (frame 17260/19159) /content/drive/MyDrive/punches/yolov10/test2.mp4: 384x640 1 jab, 10.5ms\n",
            "video 1/1 (frame 17261/19159) /content/drive/MyDrive/punches/yolov10/test2.mp4: 384x640 1 jab, 10.4ms\n",
            "video 1/1 (frame 17262/19159) /content/drive/MyDrive/punches/yolov10/test2.mp4: 384x640 1 jab, 10.5ms\n",
            "video 1/1 (frame 17263/19159) /content/drive/MyDrive/punches/yolov10/test2.mp4: 384x640 1 jab, 10.3ms\n",
            "video 1/1 (frame 17264/19159) /content/drive/MyDrive/punches/yolov10/test2.mp4: 384x640 2 jabs, 16.9ms\n",
            "video 1/1 (frame 17265/19159) /content/drive/MyDrive/punches/yolov10/test2.mp4: 384x640 2 jabs, 10.2ms\n",
            "video 1/1 (frame 17266/19159) /content/drive/MyDrive/punches/yolov10/test2.mp4: 384x640 1 jab, 10.5ms\n",
            "video 1/1 (frame 17267/19159) /content/drive/MyDrive/punches/yolov10/test2.mp4: 384x640 1 jab, 10.4ms\n",
            "video 1/1 (frame 17268/19159) /content/drive/MyDrive/punches/yolov10/test2.mp4: 384x640 1 jab, 10.0ms\n",
            "video 1/1 (frame 17269/19159) /content/drive/MyDrive/punches/yolov10/test2.mp4: 384x640 1 jab, 10.8ms\n",
            "video 1/1 (frame 17270/19159) /content/drive/MyDrive/punches/yolov10/test2.mp4: 384x640 1 jab, 11.7ms\n",
            "video 1/1 (frame 17271/19159) /content/drive/MyDrive/punches/yolov10/test2.mp4: 384x640 2 jabs, 13.0ms\n",
            "video 1/1 (frame 17272/19159) /content/drive/MyDrive/punches/yolov10/test2.mp4: 384x640 1 jab, 11.0ms\n",
            "video 1/1 (frame 17273/19159) /content/drive/MyDrive/punches/yolov10/test2.mp4: 384x640 1 jab, 11.2ms\n",
            "video 1/1 (frame 17274/19159) /content/drive/MyDrive/punches/yolov10/test2.mp4: 384x640 (no detections), 10.7ms\n",
            "video 1/1 (frame 17275/19159) /content/drive/MyDrive/punches/yolov10/test2.mp4: 384x640 (no detections), 10.7ms\n",
            "video 1/1 (frame 17276/19159) /content/drive/MyDrive/punches/yolov10/test2.mp4: 384x640 (no detections), 11.1ms\n",
            "video 1/1 (frame 17277/19159) /content/drive/MyDrive/punches/yolov10/test2.mp4: 384x640 (no detections), 11.0ms\n",
            "video 1/1 (frame 17278/19159) /content/drive/MyDrive/punches/yolov10/test2.mp4: 384x640 2 jabs, 10.9ms\n",
            "video 1/1 (frame 17279/19159) /content/drive/MyDrive/punches/yolov10/test2.mp4: 384x640 1 jab, 12.0ms\n",
            "video 1/1 (frame 17280/19159) /content/drive/MyDrive/punches/yolov10/test2.mp4: 384x640 (no detections), 12.0ms\n",
            "video 1/1 (frame 17281/19159) /content/drive/MyDrive/punches/yolov10/test2.mp4: 384x640 1 jab, 11.3ms\n",
            "video 1/1 (frame 17282/19159) /content/drive/MyDrive/punches/yolov10/test2.mp4: 384x640 (no detections), 10.4ms\n",
            "video 1/1 (frame 17283/19159) /content/drive/MyDrive/punches/yolov10/test2.mp4: 384x640 (no detections), 10.7ms\n",
            "video 1/1 (frame 17284/19159) /content/drive/MyDrive/punches/yolov10/test2.mp4: 384x640 (no detections), 10.4ms\n",
            "video 1/1 (frame 17285/19159) /content/drive/MyDrive/punches/yolov10/test2.mp4: 384x640 (no detections), 10.9ms\n",
            "video 1/1 (frame 17286/19159) /content/drive/MyDrive/punches/yolov10/test2.mp4: 384x640 (no detections), 10.7ms\n",
            "video 1/1 (frame 17287/19159) /content/drive/MyDrive/punches/yolov10/test2.mp4: 384x640 1 jab, 11.4ms\n",
            "video 1/1 (frame 17288/19159) /content/drive/MyDrive/punches/yolov10/test2.mp4: 384x640 2 jabs, 10.3ms\n",
            "video 1/1 (frame 17289/19159) /content/drive/MyDrive/punches/yolov10/test2.mp4: 384x640 1 jab, 10.3ms\n",
            "video 1/1 (frame 17290/19159) /content/drive/MyDrive/punches/yolov10/test2.mp4: 384x640 1 jab, 10.3ms\n",
            "video 1/1 (frame 17291/19159) /content/drive/MyDrive/punches/yolov10/test2.mp4: 384x640 1 jab, 11.6ms\n",
            "video 1/1 (frame 17292/19159) /content/drive/MyDrive/punches/yolov10/test2.mp4: 384x640 1 jab, 11.2ms\n",
            "video 1/1 (frame 17293/19159) /content/drive/MyDrive/punches/yolov10/test2.mp4: 384x640 1 jab, 10.1ms\n",
            "video 1/1 (frame 17294/19159) /content/drive/MyDrive/punches/yolov10/test2.mp4: 384x640 1 jab, 10.1ms\n",
            "video 1/1 (frame 17295/19159) /content/drive/MyDrive/punches/yolov10/test2.mp4: 384x640 1 jab, 10.1ms\n",
            "video 1/1 (frame 17296/19159) /content/drive/MyDrive/punches/yolov10/test2.mp4: 384x640 1 jab, 10.6ms\n",
            "video 1/1 (frame 17297/19159) /content/drive/MyDrive/punches/yolov10/test2.mp4: 384x640 1 jab, 13.0ms\n",
            "video 1/1 (frame 17298/19159) /content/drive/MyDrive/punches/yolov10/test2.mp4: 384x640 1 jab, 11.5ms\n",
            "video 1/1 (frame 17299/19159) /content/drive/MyDrive/punches/yolov10/test2.mp4: 384x640 1 jab, 22.4ms\n",
            "video 1/1 (frame 17300/19159) /content/drive/MyDrive/punches/yolov10/test2.mp4: 384x640 1 jab, 19.5ms\n",
            "video 1/1 (frame 17301/19159) /content/drive/MyDrive/punches/yolov10/test2.mp4: 384x640 1 jab, 11.5ms\n",
            "video 1/1 (frame 17302/19159) /content/drive/MyDrive/punches/yolov10/test2.mp4: 384x640 1 jab, 11.3ms\n",
            "video 1/1 (frame 17303/19159) /content/drive/MyDrive/punches/yolov10/test2.mp4: 384x640 2 jabs, 16.3ms\n",
            "video 1/1 (frame 17304/19159) /content/drive/MyDrive/punches/yolov10/test2.mp4: 384x640 1 jab, 11.3ms\n",
            "video 1/1 (frame 17305/19159) /content/drive/MyDrive/punches/yolov10/test2.mp4: 384x640 (no detections), 10.3ms\n",
            "video 1/1 (frame 17306/19159) /content/drive/MyDrive/punches/yolov10/test2.mp4: 384x640 (no detections), 11.7ms\n",
            "video 1/1 (frame 17307/19159) /content/drive/MyDrive/punches/yolov10/test2.mp4: 384x640 (no detections), 22.7ms\n",
            "video 1/1 (frame 17308/19159) /content/drive/MyDrive/punches/yolov10/test2.mp4: 384x640 (no detections), 11.1ms\n",
            "video 1/1 (frame 17309/19159) /content/drive/MyDrive/punches/yolov10/test2.mp4: 384x640 (no detections), 10.9ms\n",
            "video 1/1 (frame 17310/19159) /content/drive/MyDrive/punches/yolov10/test2.mp4: 384x640 1 jab, 10.8ms\n",
            "video 1/1 (frame 17311/19159) /content/drive/MyDrive/punches/yolov10/test2.mp4: 384x640 1 jab, 11.9ms\n",
            "video 1/1 (frame 17312/19159) /content/drive/MyDrive/punches/yolov10/test2.mp4: 384x640 1 jab, 10.4ms\n",
            "video 1/1 (frame 17313/19159) /content/drive/MyDrive/punches/yolov10/test2.mp4: 384x640 1 jab, 10.5ms\n",
            "video 1/1 (frame 17314/19159) /content/drive/MyDrive/punches/yolov10/test2.mp4: 384x640 1 jab, 10.1ms\n",
            "video 1/1 (frame 17315/19159) /content/drive/MyDrive/punches/yolov10/test2.mp4: 384x640 1 jab, 10.5ms\n",
            "video 1/1 (frame 17316/19159) /content/drive/MyDrive/punches/yolov10/test2.mp4: 384x640 1 jab, 11.4ms\n",
            "video 1/1 (frame 17317/19159) /content/drive/MyDrive/punches/yolov10/test2.mp4: 384x640 1 jab, 10.1ms\n",
            "video 1/1 (frame 17318/19159) /content/drive/MyDrive/punches/yolov10/test2.mp4: 384x640 1 jab, 12.5ms\n",
            "video 1/1 (frame 17319/19159) /content/drive/MyDrive/punches/yolov10/test2.mp4: 384x640 1 jab, 10.4ms\n",
            "video 1/1 (frame 17320/19159) /content/drive/MyDrive/punches/yolov10/test2.mp4: 384x640 1 jab, 10.7ms\n",
            "video 1/1 (frame 17321/19159) /content/drive/MyDrive/punches/yolov10/test2.mp4: 384x640 1 jab, 11.6ms\n",
            "video 1/1 (frame 17322/19159) /content/drive/MyDrive/punches/yolov10/test2.mp4: 384x640 2 jabs, 12.1ms\n",
            "video 1/1 (frame 17323/19159) /content/drive/MyDrive/punches/yolov10/test2.mp4: 384x640 1 jab, 13.4ms\n",
            "video 1/1 (frame 17324/19159) /content/drive/MyDrive/punches/yolov10/test2.mp4: 384x640 1 jab, 11.1ms\n",
            "video 1/1 (frame 17325/19159) /content/drive/MyDrive/punches/yolov10/test2.mp4: 384x640 1 jab, 10.6ms\n",
            "video 1/1 (frame 17326/19159) /content/drive/MyDrive/punches/yolov10/test2.mp4: 384x640 1 jab, 10.9ms\n",
            "video 1/1 (frame 17327/19159) /content/drive/MyDrive/punches/yolov10/test2.mp4: 384x640 (no detections), 18.3ms\n",
            "video 1/1 (frame 17328/19159) /content/drive/MyDrive/punches/yolov10/test2.mp4: 384x640 (no detections), 11.1ms\n",
            "video 1/1 (frame 17329/19159) /content/drive/MyDrive/punches/yolov10/test2.mp4: 384x640 (no detections), 22.9ms\n",
            "video 1/1 (frame 17330/19159) /content/drive/MyDrive/punches/yolov10/test2.mp4: 384x640 (no detections), 11.8ms\n",
            "video 1/1 (frame 17331/19159) /content/drive/MyDrive/punches/yolov10/test2.mp4: 384x640 (no detections), 11.2ms\n",
            "video 1/1 (frame 17332/19159) /content/drive/MyDrive/punches/yolov10/test2.mp4: 384x640 (no detections), 11.3ms\n",
            "video 1/1 (frame 17333/19159) /content/drive/MyDrive/punches/yolov10/test2.mp4: 384x640 (no detections), 10.6ms\n",
            "video 1/1 (frame 17334/19159) /content/drive/MyDrive/punches/yolov10/test2.mp4: 384x640 (no detections), 11.9ms\n",
            "video 1/1 (frame 17335/19159) /content/drive/MyDrive/punches/yolov10/test2.mp4: 384x640 (no detections), 11.1ms\n",
            "video 1/1 (frame 17336/19159) /content/drive/MyDrive/punches/yolov10/test2.mp4: 384x640 (no detections), 10.6ms\n",
            "video 1/1 (frame 17337/19159) /content/drive/MyDrive/punches/yolov10/test2.mp4: 384x640 (no detections), 11.0ms\n",
            "video 1/1 (frame 17338/19159) /content/drive/MyDrive/punches/yolov10/test2.mp4: 384x640 (no detections), 10.4ms\n",
            "video 1/1 (frame 17339/19159) /content/drive/MyDrive/punches/yolov10/test2.mp4: 384x640 (no detections), 10.4ms\n",
            "video 1/1 (frame 17340/19159) /content/drive/MyDrive/punches/yolov10/test2.mp4: 384x640 (no detections), 10.9ms\n",
            "video 1/1 (frame 17341/19159) /content/drive/MyDrive/punches/yolov10/test2.mp4: 384x640 (no detections), 10.6ms\n",
            "video 1/1 (frame 17342/19159) /content/drive/MyDrive/punches/yolov10/test2.mp4: 384x640 (no detections), 10.6ms\n",
            "video 1/1 (frame 17343/19159) /content/drive/MyDrive/punches/yolov10/test2.mp4: 384x640 1 jab, 13.1ms\n",
            "video 1/1 (frame 17344/19159) /content/drive/MyDrive/punches/yolov10/test2.mp4: 384x640 1 jab, 10.6ms\n",
            "video 1/1 (frame 17345/19159) /content/drive/MyDrive/punches/yolov10/test2.mp4: 384x640 1 jab, 11.0ms\n",
            "video 1/1 (frame 17346/19159) /content/drive/MyDrive/punches/yolov10/test2.mp4: 384x640 1 jab, 10.1ms\n",
            "video 1/1 (frame 17347/19159) /content/drive/MyDrive/punches/yolov10/test2.mp4: 384x640 1 jab, 10.0ms\n",
            "video 1/1 (frame 17348/19159) /content/drive/MyDrive/punches/yolov10/test2.mp4: 384x640 1 jab, 11.3ms\n",
            "video 1/1 (frame 17349/19159) /content/drive/MyDrive/punches/yolov10/test2.mp4: 384x640 1 jab, 10.7ms\n",
            "video 1/1 (frame 17350/19159) /content/drive/MyDrive/punches/yolov10/test2.mp4: 384x640 (no detections), 10.4ms\n",
            "video 1/1 (frame 17351/19159) /content/drive/MyDrive/punches/yolov10/test2.mp4: 384x640 (no detections), 10.0ms\n",
            "video 1/1 (frame 17352/19159) /content/drive/MyDrive/punches/yolov10/test2.mp4: 384x640 (no detections), 10.3ms\n",
            "video 1/1 (frame 17353/19159) /content/drive/MyDrive/punches/yolov10/test2.mp4: 384x640 (no detections), 10.9ms\n",
            "video 1/1 (frame 17354/19159) /content/drive/MyDrive/punches/yolov10/test2.mp4: 384x640 1 jab, 11.0ms\n",
            "video 1/1 (frame 17355/19159) /content/drive/MyDrive/punches/yolov10/test2.mp4: 384x640 2 jabs, 11.1ms\n",
            "video 1/1 (frame 17356/19159) /content/drive/MyDrive/punches/yolov10/test2.mp4: 384x640 2 jabs, 15.3ms\n",
            "video 1/1 (frame 17357/19159) /content/drive/MyDrive/punches/yolov10/test2.mp4: 384x640 1 jab, 12.7ms\n",
            "video 1/1 (frame 17358/19159) /content/drive/MyDrive/punches/yolov10/test2.mp4: 384x640 (no detections), 10.7ms\n",
            "video 1/1 (frame 17359/19159) /content/drive/MyDrive/punches/yolov10/test2.mp4: 384x640 1 jab, 15.6ms\n",
            "video 1/1 (frame 17360/19159) /content/drive/MyDrive/punches/yolov10/test2.mp4: 384x640 (no detections), 10.8ms\n",
            "video 1/1 (frame 17361/19159) /content/drive/MyDrive/punches/yolov10/test2.mp4: 384x640 (no detections), 17.4ms\n",
            "video 1/1 (frame 17362/19159) /content/drive/MyDrive/punches/yolov10/test2.mp4: 384x640 (no detections), 12.1ms\n",
            "video 1/1 (frame 17363/19159) /content/drive/MyDrive/punches/yolov10/test2.mp4: 384x640 (no detections), 10.3ms\n",
            "video 1/1 (frame 17364/19159) /content/drive/MyDrive/punches/yolov10/test2.mp4: 384x640 (no detections), 10.1ms\n",
            "video 1/1 (frame 17365/19159) /content/drive/MyDrive/punches/yolov10/test2.mp4: 384x640 (no detections), 10.3ms\n",
            "video 1/1 (frame 17366/19159) /content/drive/MyDrive/punches/yolov10/test2.mp4: 384x640 (no detections), 10.3ms\n",
            "video 1/1 (frame 17367/19159) /content/drive/MyDrive/punches/yolov10/test2.mp4: 384x640 (no detections), 9.8ms\n",
            "video 1/1 (frame 17368/19159) /content/drive/MyDrive/punches/yolov10/test2.mp4: 384x640 (no detections), 10.2ms\n",
            "video 1/1 (frame 17369/19159) /content/drive/MyDrive/punches/yolov10/test2.mp4: 384x640 (no detections), 10.1ms\n",
            "video 1/1 (frame 17370/19159) /content/drive/MyDrive/punches/yolov10/test2.mp4: 384x640 1 jab, 10.2ms\n",
            "video 1/1 (frame 17371/19159) /content/drive/MyDrive/punches/yolov10/test2.mp4: 384x640 (no detections), 10.7ms\n",
            "video 1/1 (frame 17372/19159) /content/drive/MyDrive/punches/yolov10/test2.mp4: 384x640 1 jab, 9.8ms\n",
            "video 1/1 (frame 17373/19159) /content/drive/MyDrive/punches/yolov10/test2.mp4: 384x640 1 jab, 20.1ms\n",
            "video 1/1 (frame 17374/19159) /content/drive/MyDrive/punches/yolov10/test2.mp4: 384x640 1 jab, 13.4ms\n",
            "video 1/1 (frame 17375/19159) /content/drive/MyDrive/punches/yolov10/test2.mp4: 384x640 1 jab, 17.1ms\n",
            "video 1/1 (frame 17376/19159) /content/drive/MyDrive/punches/yolov10/test2.mp4: 384x640 1 jab, 12.7ms\n",
            "video 1/1 (frame 17377/19159) /content/drive/MyDrive/punches/yolov10/test2.mp4: 384x640 (no detections), 12.5ms\n",
            "video 1/1 (frame 17378/19159) /content/drive/MyDrive/punches/yolov10/test2.mp4: 384x640 (no detections), 11.0ms\n",
            "video 1/1 (frame 17379/19159) /content/drive/MyDrive/punches/yolov10/test2.mp4: 384x640 (no detections), 11.3ms\n",
            "video 1/1 (frame 17380/19159) /content/drive/MyDrive/punches/yolov10/test2.mp4: 384x640 1 jab, 12.0ms\n",
            "video 1/1 (frame 17381/19159) /content/drive/MyDrive/punches/yolov10/test2.mp4: 384x640 (no detections), 11.2ms\n",
            "video 1/1 (frame 17382/19159) /content/drive/MyDrive/punches/yolov10/test2.mp4: 384x640 2 jabs, 10.8ms\n",
            "video 1/1 (frame 17383/19159) /content/drive/MyDrive/punches/yolov10/test2.mp4: 384x640 1 jab, 15.0ms\n",
            "video 1/1 (frame 17384/19159) /content/drive/MyDrive/punches/yolov10/test2.mp4: 384x640 1 jab, 10.4ms\n",
            "video 1/1 (frame 17385/19159) /content/drive/MyDrive/punches/yolov10/test2.mp4: 384x640 1 jab, 11.0ms\n",
            "video 1/1 (frame 17386/19159) /content/drive/MyDrive/punches/yolov10/test2.mp4: 384x640 1 jab, 13.6ms\n",
            "video 1/1 (frame 17387/19159) /content/drive/MyDrive/punches/yolov10/test2.mp4: 384x640 1 jab, 10.3ms\n",
            "video 1/1 (frame 17388/19159) /content/drive/MyDrive/punches/yolov10/test2.mp4: 384x640 1 jab, 10.2ms\n",
            "video 1/1 (frame 17389/19159) /content/drive/MyDrive/punches/yolov10/test2.mp4: 384x640 1 jab, 10.4ms\n",
            "video 1/1 (frame 17390/19159) /content/drive/MyDrive/punches/yolov10/test2.mp4: 384x640 1 jab, 12.6ms\n",
            "video 1/1 (frame 17391/19159) /content/drive/MyDrive/punches/yolov10/test2.mp4: 384x640 (no detections), 9.7ms\n",
            "video 1/1 (frame 17392/19159) /content/drive/MyDrive/punches/yolov10/test2.mp4: 384x640 (no detections), 9.9ms\n",
            "video 1/1 (frame 17393/19159) /content/drive/MyDrive/punches/yolov10/test2.mp4: 384x640 (no detections), 10.4ms\n",
            "video 1/1 (frame 17394/19159) /content/drive/MyDrive/punches/yolov10/test2.mp4: 384x640 (no detections), 10.1ms\n",
            "video 1/1 (frame 17395/19159) /content/drive/MyDrive/punches/yolov10/test2.mp4: 384x640 1 jab, 11.0ms\n",
            "video 1/1 (frame 17396/19159) /content/drive/MyDrive/punches/yolov10/test2.mp4: 384x640 (no detections), 10.7ms\n",
            "video 1/1 (frame 17397/19159) /content/drive/MyDrive/punches/yolov10/test2.mp4: 384x640 (no detections), 11.1ms\n",
            "video 1/1 (frame 17398/19159) /content/drive/MyDrive/punches/yolov10/test2.mp4: 384x640 1 jab, 10.3ms\n",
            "video 1/1 (frame 17399/19159) /content/drive/MyDrive/punches/yolov10/test2.mp4: 384x640 (no detections), 10.7ms\n",
            "video 1/1 (frame 17400/19159) /content/drive/MyDrive/punches/yolov10/test2.mp4: 384x640 (no detections), 10.2ms\n",
            "video 1/1 (frame 17401/19159) /content/drive/MyDrive/punches/yolov10/test2.mp4: 384x640 (no detections), 10.6ms\n",
            "video 1/1 (frame 17402/19159) /content/drive/MyDrive/punches/yolov10/test2.mp4: 384x640 (no detections), 11.2ms\n",
            "video 1/1 (frame 17403/19159) /content/drive/MyDrive/punches/yolov10/test2.mp4: 384x640 (no detections), 14.7ms\n",
            "video 1/1 (frame 17404/19159) /content/drive/MyDrive/punches/yolov10/test2.mp4: 384x640 1 jab, 10.4ms\n",
            "video 1/1 (frame 17405/19159) /content/drive/MyDrive/punches/yolov10/test2.mp4: 384x640 (no detections), 10.6ms\n",
            "video 1/1 (frame 17406/19159) /content/drive/MyDrive/punches/yolov10/test2.mp4: 384x640 (no detections), 11.0ms\n",
            "video 1/1 (frame 17407/19159) /content/drive/MyDrive/punches/yolov10/test2.mp4: 384x640 (no detections), 11.3ms\n",
            "video 1/1 (frame 17408/19159) /content/drive/MyDrive/punches/yolov10/test2.mp4: 384x640 (no detections), 14.0ms\n",
            "video 1/1 (frame 17409/19159) /content/drive/MyDrive/punches/yolov10/test2.mp4: 384x640 (no detections), 14.2ms\n",
            "video 1/1 (frame 17410/19159) /content/drive/MyDrive/punches/yolov10/test2.mp4: 384x640 (no detections), 22.9ms\n",
            "video 1/1 (frame 17411/19159) /content/drive/MyDrive/punches/yolov10/test2.mp4: 384x640 (no detections), 20.5ms\n",
            "video 1/1 (frame 17412/19159) /content/drive/MyDrive/punches/yolov10/test2.mp4: 384x640 (no detections), 22.3ms\n",
            "video 1/1 (frame 17413/19159) /content/drive/MyDrive/punches/yolov10/test2.mp4: 384x640 (no detections), 18.7ms\n",
            "video 1/1 (frame 17414/19159) /content/drive/MyDrive/punches/yolov10/test2.mp4: 384x640 (no detections), 18.9ms\n",
            "video 1/1 (frame 17415/19159) /content/drive/MyDrive/punches/yolov10/test2.mp4: 384x640 (no detections), 14.6ms\n",
            "video 1/1 (frame 17416/19159) /content/drive/MyDrive/punches/yolov10/test2.mp4: 384x640 (no detections), 10.5ms\n",
            "video 1/1 (frame 17417/19159) /content/drive/MyDrive/punches/yolov10/test2.mp4: 384x640 (no detections), 11.0ms\n",
            "video 1/1 (frame 17418/19159) /content/drive/MyDrive/punches/yolov10/test2.mp4: 384x640 (no detections), 10.5ms\n",
            "video 1/1 (frame 17419/19159) /content/drive/MyDrive/punches/yolov10/test2.mp4: 384x640 1 jab, 10.7ms\n",
            "video 1/1 (frame 17420/19159) /content/drive/MyDrive/punches/yolov10/test2.mp4: 384x640 1 jab, 10.6ms\n",
            "video 1/1 (frame 17421/19159) /content/drive/MyDrive/punches/yolov10/test2.mp4: 384x640 1 jab, 10.2ms\n",
            "video 1/1 (frame 17422/19159) /content/drive/MyDrive/punches/yolov10/test2.mp4: 384x640 (no detections), 14.1ms\n",
            "video 1/1 (frame 17423/19159) /content/drive/MyDrive/punches/yolov10/test2.mp4: 384x640 (no detections), 10.5ms\n",
            "video 1/1 (frame 17424/19159) /content/drive/MyDrive/punches/yolov10/test2.mp4: 384x640 (no detections), 10.9ms\n",
            "video 1/1 (frame 17425/19159) /content/drive/MyDrive/punches/yolov10/test2.mp4: 384x640 1 jab, 12.8ms\n",
            "video 1/1 (frame 17426/19159) /content/drive/MyDrive/punches/yolov10/test2.mp4: 384x640 1 jab, 10.7ms\n",
            "video 1/1 (frame 17427/19159) /content/drive/MyDrive/punches/yolov10/test2.mp4: 384x640 (no detections), 10.2ms\n",
            "video 1/1 (frame 17428/19159) /content/drive/MyDrive/punches/yolov10/test2.mp4: 384x640 1 jab, 11.2ms\n",
            "video 1/1 (frame 17429/19159) /content/drive/MyDrive/punches/yolov10/test2.mp4: 384x640 (no detections), 11.8ms\n",
            "video 1/1 (frame 17430/19159) /content/drive/MyDrive/punches/yolov10/test2.mp4: 384x640 1 jab, 10.5ms\n",
            "video 1/1 (frame 17431/19159) /content/drive/MyDrive/punches/yolov10/test2.mp4: 384x640 2 jabs, 10.4ms\n",
            "video 1/1 (frame 17432/19159) /content/drive/MyDrive/punches/yolov10/test2.mp4: 384x640 1 jab, 15.3ms\n",
            "video 1/1 (frame 17433/19159) /content/drive/MyDrive/punches/yolov10/test2.mp4: 384x640 1 jab, 17.6ms\n",
            "video 1/1 (frame 17434/19159) /content/drive/MyDrive/punches/yolov10/test2.mp4: 384x640 1 jab, 12.7ms\n",
            "video 1/1 (frame 17435/19159) /content/drive/MyDrive/punches/yolov10/test2.mp4: 384x640 1 jab, 10.8ms\n",
            "video 1/1 (frame 17436/19159) /content/drive/MyDrive/punches/yolov10/test2.mp4: 384x640 1 jab, 11.0ms\n",
            "video 1/1 (frame 17437/19159) /content/drive/MyDrive/punches/yolov10/test2.mp4: 384x640 1 jab, 12.7ms\n",
            "video 1/1 (frame 17438/19159) /content/drive/MyDrive/punches/yolov10/test2.mp4: 384x640 1 jab, 17.6ms\n",
            "video 1/1 (frame 17439/19159) /content/drive/MyDrive/punches/yolov10/test2.mp4: 384x640 1 jab, 11.0ms\n",
            "video 1/1 (frame 17440/19159) /content/drive/MyDrive/punches/yolov10/test2.mp4: 384x640 (no detections), 10.9ms\n",
            "video 1/1 (frame 17441/19159) /content/drive/MyDrive/punches/yolov10/test2.mp4: 384x640 (no detections), 11.0ms\n",
            "video 1/1 (frame 17442/19159) /content/drive/MyDrive/punches/yolov10/test2.mp4: 384x640 (no detections), 10.4ms\n",
            "video 1/1 (frame 17443/19159) /content/drive/MyDrive/punches/yolov10/test2.mp4: 384x640 (no detections), 10.1ms\n",
            "video 1/1 (frame 17444/19159) /content/drive/MyDrive/punches/yolov10/test2.mp4: 384x640 1 jab, 10.5ms\n",
            "video 1/1 (frame 17445/19159) /content/drive/MyDrive/punches/yolov10/test2.mp4: 384x640 1 jab, 11.9ms\n",
            "video 1/1 (frame 17446/19159) /content/drive/MyDrive/punches/yolov10/test2.mp4: 384x640 1 jab, 10.0ms\n",
            "video 1/1 (frame 17447/19159) /content/drive/MyDrive/punches/yolov10/test2.mp4: 384x640 1 jab, 14.9ms\n",
            "video 1/1 (frame 17448/19159) /content/drive/MyDrive/punches/yolov10/test2.mp4: 384x640 1 jab, 10.6ms\n",
            "video 1/1 (frame 17449/19159) /content/drive/MyDrive/punches/yolov10/test2.mp4: 384x640 (no detections), 11.0ms\n",
            "video 1/1 (frame 17450/19159) /content/drive/MyDrive/punches/yolov10/test2.mp4: 384x640 2 jabs, 10.3ms\n",
            "video 1/1 (frame 17451/19159) /content/drive/MyDrive/punches/yolov10/test2.mp4: 384x640 3 jabs, 11.0ms\n",
            "video 1/1 (frame 17452/19159) /content/drive/MyDrive/punches/yolov10/test2.mp4: 384x640 1 jab, 11.1ms\n",
            "video 1/1 (frame 17453/19159) /content/drive/MyDrive/punches/yolov10/test2.mp4: 384x640 2 jabs, 10.6ms\n",
            "video 1/1 (frame 17454/19159) /content/drive/MyDrive/punches/yolov10/test2.mp4: 384x640 2 jabs, 11.2ms\n",
            "video 1/1 (frame 17455/19159) /content/drive/MyDrive/punches/yolov10/test2.mp4: 384x640 1 jab, 11.4ms\n",
            "video 1/1 (frame 17456/19159) /content/drive/MyDrive/punches/yolov10/test2.mp4: 384x640 1 jab, 11.2ms\n",
            "video 1/1 (frame 17457/19159) /content/drive/MyDrive/punches/yolov10/test2.mp4: 384x640 1 jab, 11.8ms\n",
            "video 1/1 (frame 17458/19159) /content/drive/MyDrive/punches/yolov10/test2.mp4: 384x640 1 jab, 11.5ms\n",
            "video 1/1 (frame 17459/19159) /content/drive/MyDrive/punches/yolov10/test2.mp4: 384x640 1 jab, 15.7ms\n",
            "video 1/1 (frame 17460/19159) /content/drive/MyDrive/punches/yolov10/test2.mp4: 384x640 1 jab, 10.5ms\n",
            "video 1/1 (frame 17461/19159) /content/drive/MyDrive/punches/yolov10/test2.mp4: 384x640 1 jab, 11.0ms\n",
            "video 1/1 (frame 17462/19159) /content/drive/MyDrive/punches/yolov10/test2.mp4: 384x640 1 jab, 13.6ms\n",
            "video 1/1 (frame 17463/19159) /content/drive/MyDrive/punches/yolov10/test2.mp4: 384x640 1 jab, 13.1ms\n",
            "video 1/1 (frame 17464/19159) /content/drive/MyDrive/punches/yolov10/test2.mp4: 384x640 1 jab, 11.1ms\n",
            "video 1/1 (frame 17465/19159) /content/drive/MyDrive/punches/yolov10/test2.mp4: 384x640 1 jab, 11.4ms\n",
            "video 1/1 (frame 17466/19159) /content/drive/MyDrive/punches/yolov10/test2.mp4: 384x640 1 jab, 10.4ms\n",
            "video 1/1 (frame 17467/19159) /content/drive/MyDrive/punches/yolov10/test2.mp4: 384x640 1 jab, 19.8ms\n",
            "video 1/1 (frame 17468/19159) /content/drive/MyDrive/punches/yolov10/test2.mp4: 384x640 1 jab, 11.2ms\n",
            "video 1/1 (frame 17469/19159) /content/drive/MyDrive/punches/yolov10/test2.mp4: 384x640 1 jab, 11.2ms\n",
            "video 1/1 (frame 17470/19159) /content/drive/MyDrive/punches/yolov10/test2.mp4: 384x640 (no detections), 11.6ms\n",
            "video 1/1 (frame 17471/19159) /content/drive/MyDrive/punches/yolov10/test2.mp4: 384x640 1 jab, 10.7ms\n",
            "video 1/1 (frame 17472/19159) /content/drive/MyDrive/punches/yolov10/test2.mp4: 384x640 (no detections), 11.6ms\n",
            "video 1/1 (frame 17473/19159) /content/drive/MyDrive/punches/yolov10/test2.mp4: 384x640 2 jabs, 10.9ms\n",
            "video 1/1 (frame 17474/19159) /content/drive/MyDrive/punches/yolov10/test2.mp4: 384x640 1 jab, 10.3ms\n",
            "video 1/1 (frame 17475/19159) /content/drive/MyDrive/punches/yolov10/test2.mp4: 384x640 (no detections), 10.4ms\n",
            "video 1/1 (frame 17476/19159) /content/drive/MyDrive/punches/yolov10/test2.mp4: 384x640 1 jab, 10.3ms\n",
            "video 1/1 (frame 17477/19159) /content/drive/MyDrive/punches/yolov10/test2.mp4: 384x640 1 jab, 10.7ms\n",
            "video 1/1 (frame 17478/19159) /content/drive/MyDrive/punches/yolov10/test2.mp4: 384x640 1 jab, 15.9ms\n",
            "video 1/1 (frame 17479/19159) /content/drive/MyDrive/punches/yolov10/test2.mp4: 384x640 (no detections), 13.1ms\n",
            "video 1/1 (frame 17480/19159) /content/drive/MyDrive/punches/yolov10/test2.mp4: 384x640 (no detections), 12.6ms\n",
            "video 1/1 (frame 17481/19159) /content/drive/MyDrive/punches/yolov10/test2.mp4: 384x640 1 jab, 10.7ms\n",
            "video 1/1 (frame 17482/19159) /content/drive/MyDrive/punches/yolov10/test2.mp4: 384x640 (no detections), 10.4ms\n",
            "video 1/1 (frame 17483/19159) /content/drive/MyDrive/punches/yolov10/test2.mp4: 384x640 2 jabs, 11.9ms\n",
            "video 1/1 (frame 17484/19159) /content/drive/MyDrive/punches/yolov10/test2.mp4: 384x640 2 jabs, 10.9ms\n",
            "video 1/1 (frame 17485/19159) /content/drive/MyDrive/punches/yolov10/test2.mp4: 384x640 1 jab, 10.6ms\n",
            "video 1/1 (frame 17486/19159) /content/drive/MyDrive/punches/yolov10/test2.mp4: 384x640 1 jab, 10.5ms\n",
            "video 1/1 (frame 17487/19159) /content/drive/MyDrive/punches/yolov10/test2.mp4: 384x640 1 jab, 11.5ms\n",
            "video 1/1 (frame 17488/19159) /content/drive/MyDrive/punches/yolov10/test2.mp4: 384x640 2 jabs, 10.8ms\n",
            "video 1/1 (frame 17489/19159) /content/drive/MyDrive/punches/yolov10/test2.mp4: 384x640 1 jab, 10.8ms\n",
            "video 1/1 (frame 17490/19159) /content/drive/MyDrive/punches/yolov10/test2.mp4: 384x640 2 jabs, 10.5ms\n",
            "video 1/1 (frame 17491/19159) /content/drive/MyDrive/punches/yolov10/test2.mp4: 384x640 1 jab, 10.9ms\n",
            "video 1/1 (frame 17492/19159) /content/drive/MyDrive/punches/yolov10/test2.mp4: 384x640 1 jab, 10.7ms\n",
            "video 1/1 (frame 17493/19159) /content/drive/MyDrive/punches/yolov10/test2.mp4: 384x640 1 jab, 11.2ms\n",
            "video 1/1 (frame 17494/19159) /content/drive/MyDrive/punches/yolov10/test2.mp4: 384x640 (no detections), 15.4ms\n",
            "video 1/1 (frame 17495/19159) /content/drive/MyDrive/punches/yolov10/test2.mp4: 384x640 1 jab, 11.9ms\n",
            "video 1/1 (frame 17496/19159) /content/drive/MyDrive/punches/yolov10/test2.mp4: 384x640 1 jab, 11.2ms\n",
            "video 1/1 (frame 17497/19159) /content/drive/MyDrive/punches/yolov10/test2.mp4: 384x640 1 jab, 11.9ms\n",
            "video 1/1 (frame 17498/19159) /content/drive/MyDrive/punches/yolov10/test2.mp4: 384x640 2 jabs, 10.6ms\n",
            "video 1/1 (frame 17499/19159) /content/drive/MyDrive/punches/yolov10/test2.mp4: 384x640 1 jab, 14.1ms\n",
            "video 1/1 (frame 17500/19159) /content/drive/MyDrive/punches/yolov10/test2.mp4: 384x640 2 jabs, 10.9ms\n",
            "video 1/1 (frame 17501/19159) /content/drive/MyDrive/punches/yolov10/test2.mp4: 384x640 2 jabs, 11.2ms\n",
            "video 1/1 (frame 17502/19159) /content/drive/MyDrive/punches/yolov10/test2.mp4: 384x640 (no detections), 11.0ms\n",
            "video 1/1 (frame 17503/19159) /content/drive/MyDrive/punches/yolov10/test2.mp4: 384x640 (no detections), 11.0ms\n",
            "video 1/1 (frame 17504/19159) /content/drive/MyDrive/punches/yolov10/test2.mp4: 384x640 (no detections), 10.9ms\n",
            "video 1/1 (frame 17505/19159) /content/drive/MyDrive/punches/yolov10/test2.mp4: 384x640 1 jab, 10.7ms\n",
            "video 1/1 (frame 17506/19159) /content/drive/MyDrive/punches/yolov10/test2.mp4: 384x640 1 jab, 10.6ms\n",
            "video 1/1 (frame 17507/19159) /content/drive/MyDrive/punches/yolov10/test2.mp4: 384x640 (no detections), 10.9ms\n",
            "video 1/1 (frame 17508/19159) /content/drive/MyDrive/punches/yolov10/test2.mp4: 384x640 1 jab, 11.2ms\n",
            "video 1/1 (frame 17509/19159) /content/drive/MyDrive/punches/yolov10/test2.mp4: 384x640 1 jab, 10.2ms\n",
            "video 1/1 (frame 17510/19159) /content/drive/MyDrive/punches/yolov10/test2.mp4: 384x640 2 jabs, 15.5ms\n",
            "video 1/1 (frame 17511/19159) /content/drive/MyDrive/punches/yolov10/test2.mp4: 384x640 1 jab, 18.6ms\n",
            "video 1/1 (frame 17512/19159) /content/drive/MyDrive/punches/yolov10/test2.mp4: 384x640 (no detections), 12.6ms\n",
            "video 1/1 (frame 17513/19159) /content/drive/MyDrive/punches/yolov10/test2.mp4: 384x640 1 jab, 11.3ms\n",
            "video 1/1 (frame 17514/19159) /content/drive/MyDrive/punches/yolov10/test2.mp4: 384x640 1 jab, 19.3ms\n",
            "video 1/1 (frame 17515/19159) /content/drive/MyDrive/punches/yolov10/test2.mp4: 384x640 1 jab, 17.8ms\n",
            "video 1/1 (frame 17516/19159) /content/drive/MyDrive/punches/yolov10/test2.mp4: 384x640 1 jab, 17.5ms\n",
            "video 1/1 (frame 17517/19159) /content/drive/MyDrive/punches/yolov10/test2.mp4: 384x640 1 jab, 18.0ms\n",
            "video 1/1 (frame 17518/19159) /content/drive/MyDrive/punches/yolov10/test2.mp4: 384x640 1 jab, 19.8ms\n",
            "video 1/1 (frame 17519/19159) /content/drive/MyDrive/punches/yolov10/test2.mp4: 384x640 1 jab, 21.8ms\n",
            "video 1/1 (frame 17520/19159) /content/drive/MyDrive/punches/yolov10/test2.mp4: 384x640 1 jab, 19.8ms\n",
            "video 1/1 (frame 17521/19159) /content/drive/MyDrive/punches/yolov10/test2.mp4: 384x640 1 jab, 20.9ms\n",
            "video 1/1 (frame 17522/19159) /content/drive/MyDrive/punches/yolov10/test2.mp4: 384x640 1 jab, 22.0ms\n",
            "video 1/1 (frame 17523/19159) /content/drive/MyDrive/punches/yolov10/test2.mp4: 384x640 1 jab, 15.1ms\n",
            "video 1/1 (frame 17524/19159) /content/drive/MyDrive/punches/yolov10/test2.mp4: 384x640 2 jabs, 15.2ms\n",
            "video 1/1 (frame 17525/19159) /content/drive/MyDrive/punches/yolov10/test2.mp4: 384x640 1 jab, 18.2ms\n",
            "video 1/1 (frame 17526/19159) /content/drive/MyDrive/punches/yolov10/test2.mp4: 384x640 2 jabs, 15.1ms\n",
            "video 1/1 (frame 17527/19159) /content/drive/MyDrive/punches/yolov10/test2.mp4: 384x640 1 jab, 14.7ms\n",
            "video 1/1 (frame 17528/19159) /content/drive/MyDrive/punches/yolov10/test2.mp4: 384x640 1 jab, 15.3ms\n",
            "video 1/1 (frame 17529/19159) /content/drive/MyDrive/punches/yolov10/test2.mp4: 384x640 1 jab, 14.8ms\n",
            "video 1/1 (frame 17530/19159) /content/drive/MyDrive/punches/yolov10/test2.mp4: 384x640 1 jab, 14.5ms\n",
            "video 1/1 (frame 17531/19159) /content/drive/MyDrive/punches/yolov10/test2.mp4: 384x640 1 jab, 15.3ms\n",
            "video 1/1 (frame 17532/19159) /content/drive/MyDrive/punches/yolov10/test2.mp4: 384x640 1 jab, 17.5ms\n",
            "video 1/1 (frame 17533/19159) /content/drive/MyDrive/punches/yolov10/test2.mp4: 384x640 1 jab, 16.3ms\n",
            "video 1/1 (frame 17534/19159) /content/drive/MyDrive/punches/yolov10/test2.mp4: 384x640 1 jab, 17.6ms\n",
            "video 1/1 (frame 17535/19159) /content/drive/MyDrive/punches/yolov10/test2.mp4: 384x640 (no detections), 15.3ms\n",
            "video 1/1 (frame 17536/19159) /content/drive/MyDrive/punches/yolov10/test2.mp4: 384x640 (no detections), 14.1ms\n",
            "video 1/1 (frame 17537/19159) /content/drive/MyDrive/punches/yolov10/test2.mp4: 384x640 (no detections), 17.4ms\n",
            "video 1/1 (frame 17538/19159) /content/drive/MyDrive/punches/yolov10/test2.mp4: 384x640 (no detections), 15.3ms\n",
            "video 1/1 (frame 17539/19159) /content/drive/MyDrive/punches/yolov10/test2.mp4: 384x640 1 jab, 13.9ms\n",
            "video 1/1 (frame 17540/19159) /content/drive/MyDrive/punches/yolov10/test2.mp4: 384x640 (no detections), 13.3ms\n",
            "video 1/1 (frame 17541/19159) /content/drive/MyDrive/punches/yolov10/test2.mp4: 384x640 1 jab, 13.1ms\n",
            "video 1/1 (frame 17542/19159) /content/drive/MyDrive/punches/yolov10/test2.mp4: 384x640 1 jab, 14.3ms\n",
            "video 1/1 (frame 17543/19159) /content/drive/MyDrive/punches/yolov10/test2.mp4: 384x640 1 jab, 17.5ms\n",
            "video 1/1 (frame 17544/19159) /content/drive/MyDrive/punches/yolov10/test2.mp4: 384x640 (no detections), 16.1ms\n",
            "video 1/1 (frame 17545/19159) /content/drive/MyDrive/punches/yolov10/test2.mp4: 384x640 1 jab, 13.9ms\n",
            "video 1/1 (frame 17546/19159) /content/drive/MyDrive/punches/yolov10/test2.mp4: 384x640 (no detections), 14.6ms\n",
            "video 1/1 (frame 17547/19159) /content/drive/MyDrive/punches/yolov10/test2.mp4: 384x640 1 jab, 13.4ms\n",
            "video 1/1 (frame 17548/19159) /content/drive/MyDrive/punches/yolov10/test2.mp4: 384x640 1 jab, 15.0ms\n",
            "video 1/1 (frame 17549/19159) /content/drive/MyDrive/punches/yolov10/test2.mp4: 384x640 1 jab, 13.5ms\n",
            "video 1/1 (frame 17550/19159) /content/drive/MyDrive/punches/yolov10/test2.mp4: 384x640 1 jab, 13.1ms\n",
            "video 1/1 (frame 17551/19159) /content/drive/MyDrive/punches/yolov10/test2.mp4: 384x640 1 jab, 13.2ms\n",
            "video 1/1 (frame 17552/19159) /content/drive/MyDrive/punches/yolov10/test2.mp4: 384x640 1 jab, 15.9ms\n",
            "video 1/1 (frame 17553/19159) /content/drive/MyDrive/punches/yolov10/test2.mp4: 384x640 (no detections), 21.0ms\n",
            "video 1/1 (frame 17554/19159) /content/drive/MyDrive/punches/yolov10/test2.mp4: 384x640 1 jab, 16.7ms\n",
            "video 1/1 (frame 17555/19159) /content/drive/MyDrive/punches/yolov10/test2.mp4: 384x640 1 jab, 20.7ms\n",
            "video 1/1 (frame 17556/19159) /content/drive/MyDrive/punches/yolov10/test2.mp4: 384x640 1 jab, 24.5ms\n",
            "video 1/1 (frame 17557/19159) /content/drive/MyDrive/punches/yolov10/test2.mp4: 384x640 1 jab, 16.0ms\n",
            "video 1/1 (frame 17558/19159) /content/drive/MyDrive/punches/yolov10/test2.mp4: 384x640 (no detections), 18.1ms\n",
            "video 1/1 (frame 17559/19159) /content/drive/MyDrive/punches/yolov10/test2.mp4: 384x640 (no detections), 22.4ms\n",
            "video 1/1 (frame 17560/19159) /content/drive/MyDrive/punches/yolov10/test2.mp4: 384x640 1 jab, 16.1ms\n",
            "video 1/1 (frame 17561/19159) /content/drive/MyDrive/punches/yolov10/test2.mp4: 384x640 2 jabs, 17.3ms\n",
            "video 1/1 (frame 17562/19159) /content/drive/MyDrive/punches/yolov10/test2.mp4: 384x640 (no detections), 19.6ms\n",
            "video 1/1 (frame 17563/19159) /content/drive/MyDrive/punches/yolov10/test2.mp4: 384x640 2 jabs, 17.7ms\n",
            "video 1/1 (frame 17564/19159) /content/drive/MyDrive/punches/yolov10/test2.mp4: 384x640 2 jabs, 16.5ms\n",
            "video 1/1 (frame 17565/19159) /content/drive/MyDrive/punches/yolov10/test2.mp4: 384x640 (no detections), 20.1ms\n",
            "video 1/1 (frame 17566/19159) /content/drive/MyDrive/punches/yolov10/test2.mp4: 384x640 1 jab, 21.9ms\n",
            "video 1/1 (frame 17567/19159) /content/drive/MyDrive/punches/yolov10/test2.mp4: 384x640 1 jab, 15.2ms\n",
            "video 1/1 (frame 17568/19159) /content/drive/MyDrive/punches/yolov10/test2.mp4: 384x640 1 jab, 14.7ms\n",
            "video 1/1 (frame 17569/19159) /content/drive/MyDrive/punches/yolov10/test2.mp4: 384x640 1 jab, 18.8ms\n",
            "video 1/1 (frame 17570/19159) /content/drive/MyDrive/punches/yolov10/test2.mp4: 384x640 1 jab, 14.9ms\n",
            "video 1/1 (frame 17571/19159) /content/drive/MyDrive/punches/yolov10/test2.mp4: 384x640 (no detections), 14.4ms\n",
            "video 1/1 (frame 17572/19159) /content/drive/MyDrive/punches/yolov10/test2.mp4: 384x640 (no detections), 17.4ms\n",
            "video 1/1 (frame 17573/19159) /content/drive/MyDrive/punches/yolov10/test2.mp4: 384x640 (no detections), 16.7ms\n",
            "video 1/1 (frame 17574/19159) /content/drive/MyDrive/punches/yolov10/test2.mp4: 384x640 (no detections), 15.8ms\n",
            "video 1/1 (frame 17575/19159) /content/drive/MyDrive/punches/yolov10/test2.mp4: 384x640 (no detections), 14.9ms\n",
            "video 1/1 (frame 17576/19159) /content/drive/MyDrive/punches/yolov10/test2.mp4: 384x640 (no detections), 21.3ms\n",
            "video 1/1 (frame 17577/19159) /content/drive/MyDrive/punches/yolov10/test2.mp4: 384x640 (no detections), 18.7ms\n",
            "video 1/1 (frame 17578/19159) /content/drive/MyDrive/punches/yolov10/test2.mp4: 384x640 (no detections), 14.5ms\n",
            "video 1/1 (frame 17579/19159) /content/drive/MyDrive/punches/yolov10/test2.mp4: 384x640 (no detections), 15.0ms\n",
            "video 1/1 (frame 17580/19159) /content/drive/MyDrive/punches/yolov10/test2.mp4: 384x640 (no detections), 14.2ms\n",
            "video 1/1 (frame 17581/19159) /content/drive/MyDrive/punches/yolov10/test2.mp4: 384x640 (no detections), 14.2ms\n",
            "video 1/1 (frame 17582/19159) /content/drive/MyDrive/punches/yolov10/test2.mp4: 384x640 1 jab, 14.4ms\n",
            "video 1/1 (frame 17583/19159) /content/drive/MyDrive/punches/yolov10/test2.mp4: 384x640 (no detections), 15.1ms\n",
            "video 1/1 (frame 17584/19159) /content/drive/MyDrive/punches/yolov10/test2.mp4: 384x640 1 jab, 16.6ms\n",
            "video 1/1 (frame 17585/19159) /content/drive/MyDrive/punches/yolov10/test2.mp4: 384x640 1 jab, 14.0ms\n",
            "video 1/1 (frame 17586/19159) /content/drive/MyDrive/punches/yolov10/test2.mp4: 384x640 1 jab, 14.7ms\n",
            "video 1/1 (frame 17587/19159) /content/drive/MyDrive/punches/yolov10/test2.mp4: 384x640 (no detections), 24.1ms\n",
            "video 1/1 (frame 17588/19159) /content/drive/MyDrive/punches/yolov10/test2.mp4: 384x640 1 jab, 18.3ms\n",
            "video 1/1 (frame 17589/19159) /content/drive/MyDrive/punches/yolov10/test2.mp4: 384x640 1 jab, 14.3ms\n",
            "video 1/1 (frame 17590/19159) /content/drive/MyDrive/punches/yolov10/test2.mp4: 384x640 1 jab, 13.4ms\n",
            "video 1/1 (frame 17591/19159) /content/drive/MyDrive/punches/yolov10/test2.mp4: 384x640 1 jab, 15.7ms\n",
            "video 1/1 (frame 17592/19159) /content/drive/MyDrive/punches/yolov10/test2.mp4: 384x640 (no detections), 13.1ms\n",
            "video 1/1 (frame 17593/19159) /content/drive/MyDrive/punches/yolov10/test2.mp4: 384x640 (no detections), 13.3ms\n",
            "video 1/1 (frame 17594/19159) /content/drive/MyDrive/punches/yolov10/test2.mp4: 384x640 (no detections), 12.8ms\n",
            "video 1/1 (frame 17595/19159) /content/drive/MyDrive/punches/yolov10/test2.mp4: 384x640 (no detections), 13.7ms\n",
            "video 1/1 (frame 17596/19159) /content/drive/MyDrive/punches/yolov10/test2.mp4: 384x640 (no detections), 16.3ms\n",
            "video 1/1 (frame 17597/19159) /content/drive/MyDrive/punches/yolov10/test2.mp4: 384x640 (no detections), 20.1ms\n",
            "video 1/1 (frame 17598/19159) /content/drive/MyDrive/punches/yolov10/test2.mp4: 384x640 1 jab, 13.4ms\n",
            "video 1/1 (frame 17599/19159) /content/drive/MyDrive/punches/yolov10/test2.mp4: 384x640 1 jab, 16.6ms\n",
            "video 1/1 (frame 17600/19159) /content/drive/MyDrive/punches/yolov10/test2.mp4: 384x640 1 jab, 14.6ms\n",
            "video 1/1 (frame 17601/19159) /content/drive/MyDrive/punches/yolov10/test2.mp4: 384x640 1 jab, 13.3ms\n",
            "video 1/1 (frame 17602/19159) /content/drive/MyDrive/punches/yolov10/test2.mp4: 384x640 1 jab, 15.0ms\n",
            "video 1/1 (frame 17603/19159) /content/drive/MyDrive/punches/yolov10/test2.mp4: 384x640 2 jabs, 13.8ms\n",
            "video 1/1 (frame 17604/19159) /content/drive/MyDrive/punches/yolov10/test2.mp4: 384x640 2 jabs, 13.7ms\n",
            "video 1/1 (frame 17605/19159) /content/drive/MyDrive/punches/yolov10/test2.mp4: 384x640 (no detections), 13.7ms\n",
            "video 1/1 (frame 17606/19159) /content/drive/MyDrive/punches/yolov10/test2.mp4: 384x640 (no detections), 19.9ms\n",
            "video 1/1 (frame 17607/19159) /content/drive/MyDrive/punches/yolov10/test2.mp4: 384x640 1 jab, 18.5ms\n",
            "video 1/1 (frame 17608/19159) /content/drive/MyDrive/punches/yolov10/test2.mp4: 384x640 (no detections), 16.2ms\n",
            "video 1/1 (frame 17609/19159) /content/drive/MyDrive/punches/yolov10/test2.mp4: 384x640 1 jab, 21.0ms\n",
            "video 1/1 (frame 17610/19159) /content/drive/MyDrive/punches/yolov10/test2.mp4: 384x640 (no detections), 24.1ms\n",
            "video 1/1 (frame 17611/19159) /content/drive/MyDrive/punches/yolov10/test2.mp4: 384x640 1 jab, 19.9ms\n",
            "video 1/1 (frame 17612/19159) /content/drive/MyDrive/punches/yolov10/test2.mp4: 384x640 (no detections), 14.1ms\n",
            "video 1/1 (frame 17613/19159) /content/drive/MyDrive/punches/yolov10/test2.mp4: 384x640 (no detections), 16.1ms\n",
            "video 1/1 (frame 17614/19159) /content/drive/MyDrive/punches/yolov10/test2.mp4: 384x640 (no detections), 15.2ms\n",
            "video 1/1 (frame 17615/19159) /content/drive/MyDrive/punches/yolov10/test2.mp4: 384x640 1 jab, 14.5ms\n",
            "video 1/1 (frame 17616/19159) /content/drive/MyDrive/punches/yolov10/test2.mp4: 384x640 1 jab, 15.6ms\n",
            "video 1/1 (frame 17617/19159) /content/drive/MyDrive/punches/yolov10/test2.mp4: 384x640 (no detections), 19.7ms\n",
            "video 1/1 (frame 17618/19159) /content/drive/MyDrive/punches/yolov10/test2.mp4: 384x640 (no detections), 21.5ms\n",
            "video 1/1 (frame 17619/19159) /content/drive/MyDrive/punches/yolov10/test2.mp4: 384x640 (no detections), 31.4ms\n",
            "video 1/1 (frame 17620/19159) /content/drive/MyDrive/punches/yolov10/test2.mp4: 384x640 (no detections), 18.5ms\n",
            "video 1/1 (frame 17621/19159) /content/drive/MyDrive/punches/yolov10/test2.mp4: 384x640 (no detections), 15.8ms\n",
            "video 1/1 (frame 17622/19159) /content/drive/MyDrive/punches/yolov10/test2.mp4: 384x640 (no detections), 15.3ms\n",
            "video 1/1 (frame 17623/19159) /content/drive/MyDrive/punches/yolov10/test2.mp4: 384x640 (no detections), 17.6ms\n",
            "video 1/1 (frame 17624/19159) /content/drive/MyDrive/punches/yolov10/test2.mp4: 384x640 (no detections), 17.9ms\n",
            "video 1/1 (frame 17625/19159) /content/drive/MyDrive/punches/yolov10/test2.mp4: 384x640 (no detections), 15.8ms\n",
            "video 1/1 (frame 17626/19159) /content/drive/MyDrive/punches/yolov10/test2.mp4: 384x640 (no detections), 19.4ms\n",
            "video 1/1 (frame 17627/19159) /content/drive/MyDrive/punches/yolov10/test2.mp4: 384x640 1 jab, 18.6ms\n",
            "video 1/1 (frame 17628/19159) /content/drive/MyDrive/punches/yolov10/test2.mp4: 384x640 1 jab, 18.9ms\n",
            "video 1/1 (frame 17629/19159) /content/drive/MyDrive/punches/yolov10/test2.mp4: 384x640 1 jab, 20.6ms\n",
            "video 1/1 (frame 17630/19159) /content/drive/MyDrive/punches/yolov10/test2.mp4: 384x640 1 jab, 23.2ms\n",
            "video 1/1 (frame 17631/19159) /content/drive/MyDrive/punches/yolov10/test2.mp4: 384x640 1 jab, 20.9ms\n",
            "video 1/1 (frame 17632/19159) /content/drive/MyDrive/punches/yolov10/test2.mp4: 384x640 1 jab, 18.7ms\n",
            "video 1/1 (frame 17633/19159) /content/drive/MyDrive/punches/yolov10/test2.mp4: 384x640 (no detections), 22.2ms\n",
            "video 1/1 (frame 17634/19159) /content/drive/MyDrive/punches/yolov10/test2.mp4: 384x640 (no detections), 17.3ms\n",
            "video 1/1 (frame 17635/19159) /content/drive/MyDrive/punches/yolov10/test2.mp4: 384x640 (no detections), 18.4ms\n",
            "video 1/1 (frame 17636/19159) /content/drive/MyDrive/punches/yolov10/test2.mp4: 384x640 (no detections), 17.4ms\n",
            "video 1/1 (frame 17637/19159) /content/drive/MyDrive/punches/yolov10/test2.mp4: 384x640 (no detections), 17.2ms\n",
            "video 1/1 (frame 17638/19159) /content/drive/MyDrive/punches/yolov10/test2.mp4: 384x640 1 jab, 17.1ms\n",
            "video 1/1 (frame 17639/19159) /content/drive/MyDrive/punches/yolov10/test2.mp4: 384x640 1 jab, 30.5ms\n",
            "video 1/1 (frame 17640/19159) /content/drive/MyDrive/punches/yolov10/test2.mp4: 384x640 1 jab, 19.8ms\n",
            "video 1/1 (frame 17641/19159) /content/drive/MyDrive/punches/yolov10/test2.mp4: 384x640 1 jab, 18.8ms\n",
            "video 1/1 (frame 17642/19159) /content/drive/MyDrive/punches/yolov10/test2.mp4: 384x640 1 jab, 18.3ms\n",
            "video 1/1 (frame 17643/19159) /content/drive/MyDrive/punches/yolov10/test2.mp4: 384x640 1 jab, 21.9ms\n",
            "video 1/1 (frame 17644/19159) /content/drive/MyDrive/punches/yolov10/test2.mp4: 384x640 1 jab, 19.3ms\n",
            "video 1/1 (frame 17645/19159) /content/drive/MyDrive/punches/yolov10/test2.mp4: 384x640 1 jab, 18.7ms\n",
            "video 1/1 (frame 17646/19159) /content/drive/MyDrive/punches/yolov10/test2.mp4: 384x640 1 jab, 19.9ms\n",
            "video 1/1 (frame 17647/19159) /content/drive/MyDrive/punches/yolov10/test2.mp4: 384x640 1 jab, 19.3ms\n",
            "video 1/1 (frame 17648/19159) /content/drive/MyDrive/punches/yolov10/test2.mp4: 384x640 1 jab, 31.3ms\n",
            "video 1/1 (frame 17649/19159) /content/drive/MyDrive/punches/yolov10/test2.mp4: 384x640 1 jab, 29.1ms\n",
            "video 1/1 (frame 17650/19159) /content/drive/MyDrive/punches/yolov10/test2.mp4: 384x640 1 jab, 25.1ms\n",
            "video 1/1 (frame 17651/19159) /content/drive/MyDrive/punches/yolov10/test2.mp4: 384x640 2 jabs, 22.5ms\n",
            "video 1/1 (frame 17652/19159) /content/drive/MyDrive/punches/yolov10/test2.mp4: 384x640 1 jab, 26.7ms\n",
            "video 1/1 (frame 17653/19159) /content/drive/MyDrive/punches/yolov10/test2.mp4: 384x640 2 jabs, 10.8ms\n",
            "video 1/1 (frame 17654/19159) /content/drive/MyDrive/punches/yolov10/test2.mp4: 384x640 1 jab, 10.8ms\n",
            "video 1/1 (frame 17655/19159) /content/drive/MyDrive/punches/yolov10/test2.mp4: 384x640 1 jab, 11.0ms\n",
            "video 1/1 (frame 17656/19159) /content/drive/MyDrive/punches/yolov10/test2.mp4: 384x640 1 jab, 10.4ms\n",
            "video 1/1 (frame 17657/19159) /content/drive/MyDrive/punches/yolov10/test2.mp4: 384x640 1 jab, 14.4ms\n",
            "video 1/1 (frame 17658/19159) /content/drive/MyDrive/punches/yolov10/test2.mp4: 384x640 2 jabs, 10.8ms\n",
            "video 1/1 (frame 17659/19159) /content/drive/MyDrive/punches/yolov10/test2.mp4: 384x640 1 jab, 10.7ms\n",
            "video 1/1 (frame 17660/19159) /content/drive/MyDrive/punches/yolov10/test2.mp4: 384x640 1 jab, 15.9ms\n",
            "video 1/1 (frame 17661/19159) /content/drive/MyDrive/punches/yolov10/test2.mp4: 384x640 2 jabs, 10.7ms\n",
            "video 1/1 (frame 17662/19159) /content/drive/MyDrive/punches/yolov10/test2.mp4: 384x640 2 jabs, 10.7ms\n",
            "video 1/1 (frame 17663/19159) /content/drive/MyDrive/punches/yolov10/test2.mp4: 384x640 1 jab, 10.8ms\n",
            "video 1/1 (frame 17664/19159) /content/drive/MyDrive/punches/yolov10/test2.mp4: 384x640 1 jab, 10.7ms\n",
            "video 1/1 (frame 17665/19159) /content/drive/MyDrive/punches/yolov10/test2.mp4: 384x640 1 jab, 11.0ms\n",
            "video 1/1 (frame 17666/19159) /content/drive/MyDrive/punches/yolov10/test2.mp4: 384x640 1 jab, 10.5ms\n",
            "video 1/1 (frame 17667/19159) /content/drive/MyDrive/punches/yolov10/test2.mp4: 384x640 1 jab, 10.4ms\n",
            "video 1/1 (frame 17668/19159) /content/drive/MyDrive/punches/yolov10/test2.mp4: 384x640 1 jab, 12.4ms\n",
            "video 1/1 (frame 17669/19159) /content/drive/MyDrive/punches/yolov10/test2.mp4: 384x640 1 jab, 10.1ms\n",
            "video 1/1 (frame 17670/19159) /content/drive/MyDrive/punches/yolov10/test2.mp4: 384x640 1 jab, 10.7ms\n",
            "video 1/1 (frame 17671/19159) /content/drive/MyDrive/punches/yolov10/test2.mp4: 384x640 1 jab, 10.2ms\n",
            "video 1/1 (frame 17672/19159) /content/drive/MyDrive/punches/yolov10/test2.mp4: 384x640 (no detections), 10.2ms\n",
            "video 1/1 (frame 17673/19159) /content/drive/MyDrive/punches/yolov10/test2.mp4: 384x640 (no detections), 20.1ms\n",
            "video 1/1 (frame 17674/19159) /content/drive/MyDrive/punches/yolov10/test2.mp4: 384x640 (no detections), 12.7ms\n",
            "video 1/1 (frame 17675/19159) /content/drive/MyDrive/punches/yolov10/test2.mp4: 384x640 (no detections), 10.2ms\n",
            "video 1/1 (frame 17676/19159) /content/drive/MyDrive/punches/yolov10/test2.mp4: 384x640 (no detections), 20.9ms\n",
            "video 1/1 (frame 17677/19159) /content/drive/MyDrive/punches/yolov10/test2.mp4: 384x640 (no detections), 14.9ms\n",
            "video 1/1 (frame 17678/19159) /content/drive/MyDrive/punches/yolov10/test2.mp4: 384x640 (no detections), 22.0ms\n",
            "video 1/1 (frame 17679/19159) /content/drive/MyDrive/punches/yolov10/test2.mp4: 384x640 1 jab, 18.7ms\n",
            "video 1/1 (frame 17680/19159) /content/drive/MyDrive/punches/yolov10/test2.mp4: 384x640 (no detections), 21.2ms\n",
            "video 1/1 (frame 17681/19159) /content/drive/MyDrive/punches/yolov10/test2.mp4: 384x640 (no detections), 20.7ms\n",
            "video 1/1 (frame 17682/19159) /content/drive/MyDrive/punches/yolov10/test2.mp4: 384x640 (no detections), 13.3ms\n",
            "video 1/1 (frame 17683/19159) /content/drive/MyDrive/punches/yolov10/test2.mp4: 384x640 (no detections), 10.4ms\n",
            "video 1/1 (frame 17684/19159) /content/drive/MyDrive/punches/yolov10/test2.mp4: 384x640 (no detections), 11.5ms\n",
            "video 1/1 (frame 17685/19159) /content/drive/MyDrive/punches/yolov10/test2.mp4: 384x640 (no detections), 12.2ms\n",
            "video 1/1 (frame 17686/19159) /content/drive/MyDrive/punches/yolov10/test2.mp4: 384x640 (no detections), 10.5ms\n",
            "video 1/1 (frame 17687/19159) /content/drive/MyDrive/punches/yolov10/test2.mp4: 384x640 (no detections), 10.1ms\n",
            "video 1/1 (frame 17688/19159) /content/drive/MyDrive/punches/yolov10/test2.mp4: 384x640 (no detections), 10.7ms\n",
            "video 1/1 (frame 17689/19159) /content/drive/MyDrive/punches/yolov10/test2.mp4: 384x640 (no detections), 15.7ms\n",
            "video 1/1 (frame 17690/19159) /content/drive/MyDrive/punches/yolov10/test2.mp4: 384x640 (no detections), 10.8ms\n",
            "video 1/1 (frame 17691/19159) /content/drive/MyDrive/punches/yolov10/test2.mp4: 384x640 (no detections), 10.6ms\n",
            "video 1/1 (frame 17692/19159) /content/drive/MyDrive/punches/yolov10/test2.mp4: 384x640 (no detections), 14.2ms\n",
            "video 1/1 (frame 17693/19159) /content/drive/MyDrive/punches/yolov10/test2.mp4: 384x640 1 jab, 10.6ms\n",
            "video 1/1 (frame 17694/19159) /content/drive/MyDrive/punches/yolov10/test2.mp4: 384x640 1 jab, 11.5ms\n",
            "video 1/1 (frame 17695/19159) /content/drive/MyDrive/punches/yolov10/test2.mp4: 384x640 1 jab, 11.0ms\n",
            "video 1/1 (frame 17696/19159) /content/drive/MyDrive/punches/yolov10/test2.mp4: 384x640 (no detections), 11.5ms\n",
            "video 1/1 (frame 17697/19159) /content/drive/MyDrive/punches/yolov10/test2.mp4: 384x640 1 jab, 10.7ms\n",
            "video 1/1 (frame 17698/19159) /content/drive/MyDrive/punches/yolov10/test2.mp4: 384x640 (no detections), 10.5ms\n",
            "video 1/1 (frame 17699/19159) /content/drive/MyDrive/punches/yolov10/test2.mp4: 384x640 1 jab, 11.7ms\n",
            "video 1/1 (frame 17700/19159) /content/drive/MyDrive/punches/yolov10/test2.mp4: 384x640 (no detections), 15.7ms\n",
            "video 1/1 (frame 17701/19159) /content/drive/MyDrive/punches/yolov10/test2.mp4: 384x640 (no detections), 15.6ms\n",
            "video 1/1 (frame 17702/19159) /content/drive/MyDrive/punches/yolov10/test2.mp4: 384x640 (no detections), 22.4ms\n",
            "video 1/1 (frame 17703/19159) /content/drive/MyDrive/punches/yolov10/test2.mp4: 384x640 (no detections), 11.7ms\n",
            "video 1/1 (frame 17704/19159) /content/drive/MyDrive/punches/yolov10/test2.mp4: 384x640 (no detections), 17.0ms\n",
            "video 1/1 (frame 17705/19159) /content/drive/MyDrive/punches/yolov10/test2.mp4: 384x640 1 jab, 11.1ms\n",
            "video 1/1 (frame 17706/19159) /content/drive/MyDrive/punches/yolov10/test2.mp4: 384x640 (no detections), 10.8ms\n",
            "video 1/1 (frame 17707/19159) /content/drive/MyDrive/punches/yolov10/test2.mp4: 384x640 (no detections), 10.2ms\n",
            "video 1/1 (frame 17708/19159) /content/drive/MyDrive/punches/yolov10/test2.mp4: 384x640 (no detections), 10.8ms\n",
            "video 1/1 (frame 17709/19159) /content/drive/MyDrive/punches/yolov10/test2.mp4: 384x640 1 jab, 11.3ms\n",
            "video 1/1 (frame 17710/19159) /content/drive/MyDrive/punches/yolov10/test2.mp4: 384x640 1 jab, 11.0ms\n",
            "video 1/1 (frame 17711/19159) /content/drive/MyDrive/punches/yolov10/test2.mp4: 384x640 1 jab, 10.2ms\n",
            "video 1/1 (frame 17712/19159) /content/drive/MyDrive/punches/yolov10/test2.mp4: 384x640 1 jab, 10.9ms\n",
            "video 1/1 (frame 17713/19159) /content/drive/MyDrive/punches/yolov10/test2.mp4: 384x640 1 jab, 10.3ms\n",
            "video 1/1 (frame 17714/19159) /content/drive/MyDrive/punches/yolov10/test2.mp4: 384x640 1 jab, 10.6ms\n",
            "video 1/1 (frame 17715/19159) /content/drive/MyDrive/punches/yolov10/test2.mp4: 384x640 2 jabs, 11.0ms\n",
            "video 1/1 (frame 17716/19159) /content/drive/MyDrive/punches/yolov10/test2.mp4: 384x640 1 jab, 10.4ms\n",
            "video 1/1 (frame 17717/19159) /content/drive/MyDrive/punches/yolov10/test2.mp4: 384x640 (no detections), 11.6ms\n",
            "video 1/1 (frame 17718/19159) /content/drive/MyDrive/punches/yolov10/test2.mp4: 384x640 1 jab, 12.5ms\n",
            "video 1/1 (frame 17719/19159) /content/drive/MyDrive/punches/yolov10/test2.mp4: 384x640 (no detections), 10.5ms\n",
            "video 1/1 (frame 17720/19159) /content/drive/MyDrive/punches/yolov10/test2.mp4: 384x640 1 jab, 10.8ms\n",
            "video 1/1 (frame 17721/19159) /content/drive/MyDrive/punches/yolov10/test2.mp4: 384x640 1 jab, 18.9ms\n",
            "video 1/1 (frame 17722/19159) /content/drive/MyDrive/punches/yolov10/test2.mp4: 384x640 1 jab, 11.8ms\n",
            "video 1/1 (frame 17723/19159) /content/drive/MyDrive/punches/yolov10/test2.mp4: 384x640 1 jab, 12.8ms\n",
            "video 1/1 (frame 17724/19159) /content/drive/MyDrive/punches/yolov10/test2.mp4: 384x640 1 jab, 17.4ms\n",
            "video 1/1 (frame 17725/19159) /content/drive/MyDrive/punches/yolov10/test2.mp4: 384x640 1 jab, 13.6ms\n",
            "video 1/1 (frame 17726/19159) /content/drive/MyDrive/punches/yolov10/test2.mp4: 384x640 (no detections), 11.0ms\n",
            "video 1/1 (frame 17727/19159) /content/drive/MyDrive/punches/yolov10/test2.mp4: 384x640 (no detections), 10.7ms\n",
            "video 1/1 (frame 17728/19159) /content/drive/MyDrive/punches/yolov10/test2.mp4: 384x640 2 jabs, 10.6ms\n",
            "video 1/1 (frame 17729/19159) /content/drive/MyDrive/punches/yolov10/test2.mp4: 384x640 (no detections), 10.3ms\n",
            "video 1/1 (frame 17730/19159) /content/drive/MyDrive/punches/yolov10/test2.mp4: 384x640 (no detections), 10.1ms\n",
            "video 1/1 (frame 17731/19159) /content/drive/MyDrive/punches/yolov10/test2.mp4: 384x640 (no detections), 11.0ms\n",
            "video 1/1 (frame 17732/19159) /content/drive/MyDrive/punches/yolov10/test2.mp4: 384x640 1 jab, 10.5ms\n",
            "video 1/1 (frame 17733/19159) /content/drive/MyDrive/punches/yolov10/test2.mp4: 384x640 (no detections), 10.5ms\n",
            "video 1/1 (frame 17734/19159) /content/drive/MyDrive/punches/yolov10/test2.mp4: 384x640 (no detections), 10.9ms\n",
            "video 1/1 (frame 17735/19159) /content/drive/MyDrive/punches/yolov10/test2.mp4: 384x640 (no detections), 10.7ms\n",
            "video 1/1 (frame 17736/19159) /content/drive/MyDrive/punches/yolov10/test2.mp4: 384x640 1 jab, 11.1ms\n",
            "video 1/1 (frame 17737/19159) /content/drive/MyDrive/punches/yolov10/test2.mp4: 384x640 1 jab, 13.8ms\n",
            "video 1/1 (frame 17738/19159) /content/drive/MyDrive/punches/yolov10/test2.mp4: 384x640 1 jab, 10.7ms\n",
            "video 1/1 (frame 17739/19159) /content/drive/MyDrive/punches/yolov10/test2.mp4: 384x640 (no detections), 12.0ms\n",
            "video 1/1 (frame 17740/19159) /content/drive/MyDrive/punches/yolov10/test2.mp4: 384x640 (no detections), 10.7ms\n",
            "video 1/1 (frame 17741/19159) /content/drive/MyDrive/punches/yolov10/test2.mp4: 384x640 (no detections), 10.3ms\n",
            "video 1/1 (frame 17742/19159) /content/drive/MyDrive/punches/yolov10/test2.mp4: 384x640 1 jab, 10.3ms\n",
            "video 1/1 (frame 17743/19159) /content/drive/MyDrive/punches/yolov10/test2.mp4: 384x640 (no detections), 10.5ms\n",
            "video 1/1 (frame 17744/19159) /content/drive/MyDrive/punches/yolov10/test2.mp4: 384x640 (no detections), 10.3ms\n",
            "video 1/1 (frame 17745/19159) /content/drive/MyDrive/punches/yolov10/test2.mp4: 384x640 (no detections), 26.8ms\n",
            "video 1/1 (frame 17746/19159) /content/drive/MyDrive/punches/yolov10/test2.mp4: 384x640 1 jab, 21.8ms\n",
            "video 1/1 (frame 17747/19159) /content/drive/MyDrive/punches/yolov10/test2.mp4: 384x640 1 jab, 27.9ms\n",
            "video 1/1 (frame 17748/19159) /content/drive/MyDrive/punches/yolov10/test2.mp4: 384x640 (no detections), 11.2ms\n",
            "video 1/1 (frame 17749/19159) /content/drive/MyDrive/punches/yolov10/test2.mp4: 384x640 (no detections), 10.8ms\n",
            "video 1/1 (frame 17750/19159) /content/drive/MyDrive/punches/yolov10/test2.mp4: 384x640 (no detections), 10.8ms\n",
            "video 1/1 (frame 17751/19159) /content/drive/MyDrive/punches/yolov10/test2.mp4: 384x640 (no detections), 15.7ms\n",
            "video 1/1 (frame 17752/19159) /content/drive/MyDrive/punches/yolov10/test2.mp4: 384x640 (no detections), 14.4ms\n",
            "video 1/1 (frame 17753/19159) /content/drive/MyDrive/punches/yolov10/test2.mp4: 384x640 (no detections), 10.9ms\n",
            "video 1/1 (frame 17754/19159) /content/drive/MyDrive/punches/yolov10/test2.mp4: 384x640 (no detections), 10.8ms\n",
            "video 1/1 (frame 17755/19159) /content/drive/MyDrive/punches/yolov10/test2.mp4: 384x640 (no detections), 10.7ms\n",
            "video 1/1 (frame 17756/19159) /content/drive/MyDrive/punches/yolov10/test2.mp4: 384x640 (no detections), 10.4ms\n",
            "video 1/1 (frame 17757/19159) /content/drive/MyDrive/punches/yolov10/test2.mp4: 384x640 (no detections), 11.1ms\n",
            "video 1/1 (frame 17758/19159) /content/drive/MyDrive/punches/yolov10/test2.mp4: 384x640 (no detections), 10.3ms\n",
            "video 1/1 (frame 17759/19159) /content/drive/MyDrive/punches/yolov10/test2.mp4: 384x640 (no detections), 10.6ms\n",
            "video 1/1 (frame 17760/19159) /content/drive/MyDrive/punches/yolov10/test2.mp4: 384x640 (no detections), 11.1ms\n",
            "video 1/1 (frame 17761/19159) /content/drive/MyDrive/punches/yolov10/test2.mp4: 384x640 (no detections), 10.4ms\n",
            "video 1/1 (frame 17762/19159) /content/drive/MyDrive/punches/yolov10/test2.mp4: 384x640 (no detections), 10.4ms\n",
            "video 1/1 (frame 17763/19159) /content/drive/MyDrive/punches/yolov10/test2.mp4: 384x640 (no detections), 15.2ms\n",
            "video 1/1 (frame 17764/19159) /content/drive/MyDrive/punches/yolov10/test2.mp4: 384x640 (no detections), 10.7ms\n",
            "video 1/1 (frame 17765/19159) /content/drive/MyDrive/punches/yolov10/test2.mp4: 384x640 (no detections), 10.9ms\n",
            "video 1/1 (frame 17766/19159) /content/drive/MyDrive/punches/yolov10/test2.mp4: 384x640 (no detections), 10.4ms\n",
            "video 1/1 (frame 17767/19159) /content/drive/MyDrive/punches/yolov10/test2.mp4: 384x640 (no detections), 10.2ms\n",
            "video 1/1 (frame 17768/19159) /content/drive/MyDrive/punches/yolov10/test2.mp4: 384x640 (no detections), 10.0ms\n",
            "video 1/1 (frame 17769/19159) /content/drive/MyDrive/punches/yolov10/test2.mp4: 384x640 (no detections), 10.8ms\n",
            "video 1/1 (frame 17770/19159) /content/drive/MyDrive/punches/yolov10/test2.mp4: 384x640 (no detections), 10.1ms\n",
            "video 1/1 (frame 17771/19159) /content/drive/MyDrive/punches/yolov10/test2.mp4: 384x640 (no detections), 12.8ms\n",
            "video 1/1 (frame 17772/19159) /content/drive/MyDrive/punches/yolov10/test2.mp4: 384x640 (no detections), 10.1ms\n",
            "video 1/1 (frame 17773/19159) /content/drive/MyDrive/punches/yolov10/test2.mp4: 384x640 (no detections), 10.3ms\n",
            "video 1/1 (frame 17774/19159) /content/drive/MyDrive/punches/yolov10/test2.mp4: 384x640 (no detections), 10.5ms\n",
            "video 1/1 (frame 17775/19159) /content/drive/MyDrive/punches/yolov10/test2.mp4: 384x640 (no detections), 10.8ms\n",
            "video 1/1 (frame 17776/19159) /content/drive/MyDrive/punches/yolov10/test2.mp4: 384x640 (no detections), 10.3ms\n",
            "video 1/1 (frame 17777/19159) /content/drive/MyDrive/punches/yolov10/test2.mp4: 384x640 (no detections), 11.0ms\n",
            "video 1/1 (frame 17778/19159) /content/drive/MyDrive/punches/yolov10/test2.mp4: 384x640 (no detections), 10.5ms\n",
            "video 1/1 (frame 17779/19159) /content/drive/MyDrive/punches/yolov10/test2.mp4: 384x640 (no detections), 10.7ms\n",
            "video 1/1 (frame 17780/19159) /content/drive/MyDrive/punches/yolov10/test2.mp4: 384x640 (no detections), 19.6ms\n",
            "video 1/1 (frame 17781/19159) /content/drive/MyDrive/punches/yolov10/test2.mp4: 384x640 (no detections), 13.4ms\n",
            "video 1/1 (frame 17782/19159) /content/drive/MyDrive/punches/yolov10/test2.mp4: 384x640 (no detections), 11.1ms\n",
            "video 1/1 (frame 17783/19159) /content/drive/MyDrive/punches/yolov10/test2.mp4: 384x640 1 jab, 10.2ms\n",
            "video 1/1 (frame 17784/19159) /content/drive/MyDrive/punches/yolov10/test2.mp4: 384x640 (no detections), 10.3ms\n",
            "video 1/1 (frame 17785/19159) /content/drive/MyDrive/punches/yolov10/test2.mp4: 384x640 (no detections), 10.7ms\n",
            "video 1/1 (frame 17786/19159) /content/drive/MyDrive/punches/yolov10/test2.mp4: 384x640 (no detections), 12.4ms\n",
            "video 1/1 (frame 17787/19159) /content/drive/MyDrive/punches/yolov10/test2.mp4: 384x640 1 jab, 11.2ms\n",
            "video 1/1 (frame 17788/19159) /content/drive/MyDrive/punches/yolov10/test2.mp4: 384x640 1 jab, 10.8ms\n",
            "video 1/1 (frame 17789/19159) /content/drive/MyDrive/punches/yolov10/test2.mp4: 384x640 (no detections), 10.9ms\n",
            "video 1/1 (frame 17790/19159) /content/drive/MyDrive/punches/yolov10/test2.mp4: 384x640 1 jab, 10.7ms\n",
            "video 1/1 (frame 17791/19159) /content/drive/MyDrive/punches/yolov10/test2.mp4: 384x640 1 jab, 11.8ms\n",
            "video 1/1 (frame 17792/19159) /content/drive/MyDrive/punches/yolov10/test2.mp4: 384x640 1 jab, 11.5ms\n",
            "video 1/1 (frame 17793/19159) /content/drive/MyDrive/punches/yolov10/test2.mp4: 384x640 2 jabs, 12.6ms\n",
            "video 1/1 (frame 17794/19159) /content/drive/MyDrive/punches/yolov10/test2.mp4: 384x640 1 jab, 10.4ms\n",
            "video 1/1 (frame 17795/19159) /content/drive/MyDrive/punches/yolov10/test2.mp4: 384x640 2 jabs, 10.7ms\n",
            "video 1/1 (frame 17796/19159) /content/drive/MyDrive/punches/yolov10/test2.mp4: 384x640 1 jab, 20.4ms\n",
            "video 1/1 (frame 17797/19159) /content/drive/MyDrive/punches/yolov10/test2.mp4: 384x640 1 jab, 15.9ms\n",
            "video 1/1 (frame 17798/19159) /content/drive/MyDrive/punches/yolov10/test2.mp4: 384x640 1 jab, 10.5ms\n",
            "video 1/1 (frame 17799/19159) /content/drive/MyDrive/punches/yolov10/test2.mp4: 384x640 1 jab, 10.7ms\n",
            "video 1/1 (frame 17800/19159) /content/drive/MyDrive/punches/yolov10/test2.mp4: 384x640 1 jab, 10.2ms\n",
            "video 1/1 (frame 17801/19159) /content/drive/MyDrive/punches/yolov10/test2.mp4: 384x640 (no detections), 10.1ms\n",
            "video 1/1 (frame 17802/19159) /content/drive/MyDrive/punches/yolov10/test2.mp4: 384x640 1 jab, 12.1ms\n",
            "video 1/1 (frame 17803/19159) /content/drive/MyDrive/punches/yolov10/test2.mp4: 384x640 1 jab, 11.0ms\n",
            "video 1/1 (frame 17804/19159) /content/drive/MyDrive/punches/yolov10/test2.mp4: 384x640 (no detections), 11.0ms\n",
            "video 1/1 (frame 17805/19159) /content/drive/MyDrive/punches/yolov10/test2.mp4: 384x640 (no detections), 13.9ms\n",
            "video 1/1 (frame 17806/19159) /content/drive/MyDrive/punches/yolov10/test2.mp4: 384x640 (no detections), 13.3ms\n",
            "video 1/1 (frame 17807/19159) /content/drive/MyDrive/punches/yolov10/test2.mp4: 384x640 (no detections), 12.7ms\n",
            "video 1/1 (frame 17808/19159) /content/drive/MyDrive/punches/yolov10/test2.mp4: 384x640 1 jab, 10.5ms\n",
            "video 1/1 (frame 17809/19159) /content/drive/MyDrive/punches/yolov10/test2.mp4: 384x640 1 jab, 10.7ms\n",
            "video 1/1 (frame 17810/19159) /content/drive/MyDrive/punches/yolov10/test2.mp4: 384x640 (no detections), 10.4ms\n",
            "video 1/1 (frame 17811/19159) /content/drive/MyDrive/punches/yolov10/test2.mp4: 384x640 (no detections), 10.2ms\n",
            "video 1/1 (frame 17812/19159) /content/drive/MyDrive/punches/yolov10/test2.mp4: 384x640 1 jab, 10.4ms\n",
            "video 1/1 (frame 17813/19159) /content/drive/MyDrive/punches/yolov10/test2.mp4: 384x640 1 jab, 10.8ms\n",
            "video 1/1 (frame 17814/19159) /content/drive/MyDrive/punches/yolov10/test2.mp4: 384x640 (no detections), 13.7ms\n",
            "video 1/1 (frame 17815/19159) /content/drive/MyDrive/punches/yolov10/test2.mp4: 384x640 (no detections), 10.5ms\n",
            "video 1/1 (frame 17816/19159) /content/drive/MyDrive/punches/yolov10/test2.mp4: 384x640 (no detections), 10.8ms\n",
            "video 1/1 (frame 17817/19159) /content/drive/MyDrive/punches/yolov10/test2.mp4: 384x640 (no detections), 10.1ms\n",
            "video 1/1 (frame 17818/19159) /content/drive/MyDrive/punches/yolov10/test2.mp4: 384x640 (no detections), 10.2ms\n",
            "video 1/1 (frame 17819/19159) /content/drive/MyDrive/punches/yolov10/test2.mp4: 384x640 (no detections), 10.3ms\n",
            "video 1/1 (frame 17820/19159) /content/drive/MyDrive/punches/yolov10/test2.mp4: 384x640 (no detections), 10.3ms\n",
            "video 1/1 (frame 17821/19159) /content/drive/MyDrive/punches/yolov10/test2.mp4: 384x640 (no detections), 10.5ms\n",
            "video 1/1 (frame 17822/19159) /content/drive/MyDrive/punches/yolov10/test2.mp4: 384x640 (no detections), 10.1ms\n",
            "video 1/1 (frame 17823/19159) /content/drive/MyDrive/punches/yolov10/test2.mp4: 384x640 (no detections), 10.6ms\n",
            "video 1/1 (frame 17824/19159) /content/drive/MyDrive/punches/yolov10/test2.mp4: 384x640 (no detections), 10.3ms\n",
            "video 1/1 (frame 17825/19159) /content/drive/MyDrive/punches/yolov10/test2.mp4: 384x640 (no detections), 9.9ms\n",
            "video 1/1 (frame 17826/19159) /content/drive/MyDrive/punches/yolov10/test2.mp4: 384x640 (no detections), 11.0ms\n",
            "video 1/1 (frame 17827/19159) /content/drive/MyDrive/punches/yolov10/test2.mp4: 384x640 (no detections), 10.3ms\n",
            "video 1/1 (frame 17828/19159) /content/drive/MyDrive/punches/yolov10/test2.mp4: 384x640 (no detections), 10.2ms\n",
            "video 1/1 (frame 17829/19159) /content/drive/MyDrive/punches/yolov10/test2.mp4: 384x640 (no detections), 10.2ms\n",
            "video 1/1 (frame 17830/19159) /content/drive/MyDrive/punches/yolov10/test2.mp4: 384x640 (no detections), 10.1ms\n",
            "video 1/1 (frame 17831/19159) /content/drive/MyDrive/punches/yolov10/test2.mp4: 384x640 (no detections), 11.2ms\n",
            "video 1/1 (frame 17832/19159) /content/drive/MyDrive/punches/yolov10/test2.mp4: 384x640 1 jab, 17.0ms\n",
            "video 1/1 (frame 17833/19159) /content/drive/MyDrive/punches/yolov10/test2.mp4: 384x640 1 jab, 12.5ms\n",
            "video 1/1 (frame 17834/19159) /content/drive/MyDrive/punches/yolov10/test2.mp4: 384x640 (no detections), 11.2ms\n",
            "video 1/1 (frame 17835/19159) /content/drive/MyDrive/punches/yolov10/test2.mp4: 384x640 (no detections), 10.6ms\n",
            "video 1/1 (frame 17836/19159) /content/drive/MyDrive/punches/yolov10/test2.mp4: 384x640 1 jab, 10.7ms\n",
            "video 1/1 (frame 17837/19159) /content/drive/MyDrive/punches/yolov10/test2.mp4: 384x640 1 jab, 10.9ms\n",
            "video 1/1 (frame 17838/19159) /content/drive/MyDrive/punches/yolov10/test2.mp4: 384x640 1 jab, 19.3ms\n",
            "video 1/1 (frame 17839/19159) /content/drive/MyDrive/punches/yolov10/test2.mp4: 384x640 1 jab, 10.5ms\n",
            "video 1/1 (frame 17840/19159) /content/drive/MyDrive/punches/yolov10/test2.mp4: 384x640 2 jabs, 10.4ms\n",
            "video 1/1 (frame 17841/19159) /content/drive/MyDrive/punches/yolov10/test2.mp4: 384x640 1 jab, 10.4ms\n",
            "video 1/1 (frame 17842/19159) /content/drive/MyDrive/punches/yolov10/test2.mp4: 384x640 1 jab, 11.0ms\n",
            "video 1/1 (frame 17843/19159) /content/drive/MyDrive/punches/yolov10/test2.mp4: 384x640 1 jab, 11.2ms\n",
            "video 1/1 (frame 17844/19159) /content/drive/MyDrive/punches/yolov10/test2.mp4: 384x640 (no detections), 11.2ms\n",
            "video 1/1 (frame 17845/19159) /content/drive/MyDrive/punches/yolov10/test2.mp4: 384x640 (no detections), 10.2ms\n",
            "video 1/1 (frame 17846/19159) /content/drive/MyDrive/punches/yolov10/test2.mp4: 384x640 1 jab, 10.1ms\n",
            "video 1/1 (frame 17847/19159) /content/drive/MyDrive/punches/yolov10/test2.mp4: 384x640 (no detections), 10.9ms\n",
            "video 1/1 (frame 17848/19159) /content/drive/MyDrive/punches/yolov10/test2.mp4: 384x640 2 jabs, 14.8ms\n",
            "video 1/1 (frame 17849/19159) /content/drive/MyDrive/punches/yolov10/test2.mp4: 384x640 (no detections), 13.0ms\n",
            "video 1/1 (frame 17850/19159) /content/drive/MyDrive/punches/yolov10/test2.mp4: 384x640 (no detections), 10.2ms\n",
            "video 1/1 (frame 17851/19159) /content/drive/MyDrive/punches/yolov10/test2.mp4: 384x640 1 jab, 10.0ms\n",
            "video 1/1 (frame 17852/19159) /content/drive/MyDrive/punches/yolov10/test2.mp4: 384x640 (no detections), 10.2ms\n",
            "video 1/1 (frame 17853/19159) /content/drive/MyDrive/punches/yolov10/test2.mp4: 384x640 (no detections), 10.0ms\n",
            "video 1/1 (frame 17854/19159) /content/drive/MyDrive/punches/yolov10/test2.mp4: 384x640 1 jab, 10.6ms\n",
            "video 1/1 (frame 17855/19159) /content/drive/MyDrive/punches/yolov10/test2.mp4: 384x640 1 jab, 10.3ms\n",
            "video 1/1 (frame 17856/19159) /content/drive/MyDrive/punches/yolov10/test2.mp4: 384x640 (no detections), 9.8ms\n",
            "video 1/1 (frame 17857/19159) /content/drive/MyDrive/punches/yolov10/test2.mp4: 384x640 (no detections), 10.6ms\n",
            "video 1/1 (frame 17858/19159) /content/drive/MyDrive/punches/yolov10/test2.mp4: 384x640 (no detections), 10.2ms\n",
            "video 1/1 (frame 17859/19159) /content/drive/MyDrive/punches/yolov10/test2.mp4: 384x640 (no detections), 10.3ms\n",
            "video 1/1 (frame 17860/19159) /content/drive/MyDrive/punches/yolov10/test2.mp4: 384x640 (no detections), 10.8ms\n",
            "video 1/1 (frame 17861/19159) /content/drive/MyDrive/punches/yolov10/test2.mp4: 384x640 (no detections), 11.2ms\n",
            "video 1/1 (frame 17862/19159) /content/drive/MyDrive/punches/yolov10/test2.mp4: 384x640 (no detections), 10.6ms\n",
            "video 1/1 (frame 17863/19159) /content/drive/MyDrive/punches/yolov10/test2.mp4: 384x640 (no detections), 10.6ms\n",
            "video 1/1 (frame 17864/19159) /content/drive/MyDrive/punches/yolov10/test2.mp4: 384x640 (no detections), 13.0ms\n",
            "video 1/1 (frame 17865/19159) /content/drive/MyDrive/punches/yolov10/test2.mp4: 384x640 (no detections), 13.8ms\n",
            "video 1/1 (frame 17866/19159) /content/drive/MyDrive/punches/yolov10/test2.mp4: 384x640 (no detections), 16.8ms\n",
            "video 1/1 (frame 17867/19159) /content/drive/MyDrive/punches/yolov10/test2.mp4: 384x640 (no detections), 10.7ms\n",
            "video 1/1 (frame 17868/19159) /content/drive/MyDrive/punches/yolov10/test2.mp4: 384x640 (no detections), 10.8ms\n",
            "video 1/1 (frame 17869/19159) /content/drive/MyDrive/punches/yolov10/test2.mp4: 384x640 (no detections), 10.1ms\n",
            "video 1/1 (frame 17870/19159) /content/drive/MyDrive/punches/yolov10/test2.mp4: 384x640 (no detections), 10.4ms\n",
            "video 1/1 (frame 17871/19159) /content/drive/MyDrive/punches/yolov10/test2.mp4: 384x640 1 jab, 11.6ms\n",
            "video 1/1 (frame 17872/19159) /content/drive/MyDrive/punches/yolov10/test2.mp4: 384x640 (no detections), 11.3ms\n",
            "video 1/1 (frame 17873/19159) /content/drive/MyDrive/punches/yolov10/test2.mp4: 384x640 (no detections), 10.9ms\n",
            "video 1/1 (frame 17874/19159) /content/drive/MyDrive/punches/yolov10/test2.mp4: 384x640 (no detections), 11.0ms\n",
            "video 1/1 (frame 17875/19159) /content/drive/MyDrive/punches/yolov10/test2.mp4: 384x640 (no detections), 10.7ms\n",
            "video 1/1 (frame 17876/19159) /content/drive/MyDrive/punches/yolov10/test2.mp4: 384x640 (no detections), 10.8ms\n",
            "video 1/1 (frame 17877/19159) /content/drive/MyDrive/punches/yolov10/test2.mp4: 384x640 (no detections), 11.4ms\n",
            "video 1/1 (frame 17878/19159) /content/drive/MyDrive/punches/yolov10/test2.mp4: 384x640 (no detections), 10.3ms\n",
            "video 1/1 (frame 17879/19159) /content/drive/MyDrive/punches/yolov10/test2.mp4: 384x640 (no detections), 10.4ms\n",
            "video 1/1 (frame 17880/19159) /content/drive/MyDrive/punches/yolov10/test2.mp4: 384x640 (no detections), 10.8ms\n",
            "video 1/1 (frame 17881/19159) /content/drive/MyDrive/punches/yolov10/test2.mp4: 384x640 (no detections), 10.3ms\n",
            "video 1/1 (frame 17882/19159) /content/drive/MyDrive/punches/yolov10/test2.mp4: 384x640 (no detections), 10.0ms\n",
            "video 1/1 (frame 17883/19159) /content/drive/MyDrive/punches/yolov10/test2.mp4: 384x640 (no detections), 11.7ms\n",
            "video 1/1 (frame 17884/19159) /content/drive/MyDrive/punches/yolov10/test2.mp4: 384x640 (no detections), 14.3ms\n",
            "video 1/1 (frame 17885/19159) /content/drive/MyDrive/punches/yolov10/test2.mp4: 384x640 (no detections), 10.6ms\n",
            "video 1/1 (frame 17886/19159) /content/drive/MyDrive/punches/yolov10/test2.mp4: 384x640 (no detections), 11.1ms\n",
            "video 1/1 (frame 17887/19159) /content/drive/MyDrive/punches/yolov10/test2.mp4: 384x640 (no detections), 10.5ms\n",
            "video 1/1 (frame 17888/19159) /content/drive/MyDrive/punches/yolov10/test2.mp4: 384x640 (no detections), 10.3ms\n",
            "video 1/1 (frame 17889/19159) /content/drive/MyDrive/punches/yolov10/test2.mp4: 384x640 (no detections), 11.6ms\n",
            "video 1/1 (frame 17890/19159) /content/drive/MyDrive/punches/yolov10/test2.mp4: 384x640 (no detections), 12.2ms\n",
            "video 1/1 (frame 17891/19159) /content/drive/MyDrive/punches/yolov10/test2.mp4: 384x640 (no detections), 13.0ms\n",
            "video 1/1 (frame 17892/19159) /content/drive/MyDrive/punches/yolov10/test2.mp4: 384x640 (no detections), 10.3ms\n",
            "video 1/1 (frame 17893/19159) /content/drive/MyDrive/punches/yolov10/test2.mp4: 384x640 (no detections), 10.6ms\n",
            "video 1/1 (frame 17894/19159) /content/drive/MyDrive/punches/yolov10/test2.mp4: 384x640 (no detections), 10.3ms\n",
            "video 1/1 (frame 17895/19159) /content/drive/MyDrive/punches/yolov10/test2.mp4: 384x640 (no detections), 11.1ms\n",
            "video 1/1 (frame 17896/19159) /content/drive/MyDrive/punches/yolov10/test2.mp4: 384x640 (no detections), 10.3ms\n",
            "video 1/1 (frame 17897/19159) /content/drive/MyDrive/punches/yolov10/test2.mp4: 384x640 (no detections), 17.5ms\n",
            "video 1/1 (frame 17898/19159) /content/drive/MyDrive/punches/yolov10/test2.mp4: 384x640 (no detections), 12.3ms\n",
            "video 1/1 (frame 17899/19159) /content/drive/MyDrive/punches/yolov10/test2.mp4: 384x640 (no detections), 10.6ms\n",
            "video 1/1 (frame 17900/19159) /content/drive/MyDrive/punches/yolov10/test2.mp4: 384x640 1 jab, 10.4ms\n",
            "video 1/1 (frame 17901/19159) /content/drive/MyDrive/punches/yolov10/test2.mp4: 384x640 1 jab, 16.5ms\n",
            "video 1/1 (frame 17902/19159) /content/drive/MyDrive/punches/yolov10/test2.mp4: 384x640 (no detections), 10.8ms\n",
            "video 1/1 (frame 17903/19159) /content/drive/MyDrive/punches/yolov10/test2.mp4: 384x640 1 jab, 11.3ms\n",
            "video 1/1 (frame 17904/19159) /content/drive/MyDrive/punches/yolov10/test2.mp4: 384x640 (no detections), 11.9ms\n",
            "video 1/1 (frame 17905/19159) /content/drive/MyDrive/punches/yolov10/test2.mp4: 384x640 (no detections), 12.4ms\n",
            "video 1/1 (frame 17906/19159) /content/drive/MyDrive/punches/yolov10/test2.mp4: 384x640 (no detections), 13.9ms\n",
            "video 1/1 (frame 17907/19159) /content/drive/MyDrive/punches/yolov10/test2.mp4: 384x640 (no detections), 10.5ms\n",
            "video 1/1 (frame 17908/19159) /content/drive/MyDrive/punches/yolov10/test2.mp4: 384x640 1 jab, 11.8ms\n",
            "video 1/1 (frame 17909/19159) /content/drive/MyDrive/punches/yolov10/test2.mp4: 384x640 1 jab, 10.3ms\n",
            "video 1/1 (frame 17910/19159) /content/drive/MyDrive/punches/yolov10/test2.mp4: 384x640 1 jab, 10.7ms\n",
            "video 1/1 (frame 17911/19159) /content/drive/MyDrive/punches/yolov10/test2.mp4: 384x640 1 jab, 13.2ms\n",
            "video 1/1 (frame 17912/19159) /content/drive/MyDrive/punches/yolov10/test2.mp4: 384x640 1 jab, 13.3ms\n",
            "video 1/1 (frame 17913/19159) /content/drive/MyDrive/punches/yolov10/test2.mp4: 384x640 1 jab, 10.4ms\n",
            "video 1/1 (frame 17914/19159) /content/drive/MyDrive/punches/yolov10/test2.mp4: 384x640 1 jab, 10.5ms\n",
            "video 1/1 (frame 17915/19159) /content/drive/MyDrive/punches/yolov10/test2.mp4: 384x640 1 jab, 11.1ms\n",
            "video 1/1 (frame 17916/19159) /content/drive/MyDrive/punches/yolov10/test2.mp4: 384x640 1 jab, 10.2ms\n",
            "video 1/1 (frame 17917/19159) /content/drive/MyDrive/punches/yolov10/test2.mp4: 384x640 1 jab, 15.6ms\n",
            "video 1/1 (frame 17918/19159) /content/drive/MyDrive/punches/yolov10/test2.mp4: 384x640 (no detections), 11.5ms\n",
            "video 1/1 (frame 17919/19159) /content/drive/MyDrive/punches/yolov10/test2.mp4: 384x640 (no detections), 15.6ms\n",
            "video 1/1 (frame 17920/19159) /content/drive/MyDrive/punches/yolov10/test2.mp4: 384x640 (no detections), 13.6ms\n",
            "video 1/1 (frame 17921/19159) /content/drive/MyDrive/punches/yolov10/test2.mp4: 384x640 (no detections), 11.9ms\n",
            "video 1/1 (frame 17922/19159) /content/drive/MyDrive/punches/yolov10/test2.mp4: 384x640 2 jabs, 10.3ms\n",
            "video 1/1 (frame 17923/19159) /content/drive/MyDrive/punches/yolov10/test2.mp4: 384x640 1 jab, 10.0ms\n",
            "video 1/1 (frame 17924/19159) /content/drive/MyDrive/punches/yolov10/test2.mp4: 384x640 1 jab, 10.6ms\n",
            "video 1/1 (frame 17925/19159) /content/drive/MyDrive/punches/yolov10/test2.mp4: 384x640 1 jab, 10.2ms\n",
            "video 1/1 (frame 17926/19159) /content/drive/MyDrive/punches/yolov10/test2.mp4: 384x640 1 jab, 10.4ms\n",
            "video 1/1 (frame 17927/19159) /content/drive/MyDrive/punches/yolov10/test2.mp4: 384x640 1 jab, 10.7ms\n",
            "video 1/1 (frame 17928/19159) /content/drive/MyDrive/punches/yolov10/test2.mp4: 384x640 1 jab, 10.9ms\n",
            "video 1/1 (frame 17929/19159) /content/drive/MyDrive/punches/yolov10/test2.mp4: 384x640 1 jab, 10.0ms\n",
            "video 1/1 (frame 17930/19159) /content/drive/MyDrive/punches/yolov10/test2.mp4: 384x640 1 jab, 10.5ms\n",
            "video 1/1 (frame 17931/19159) /content/drive/MyDrive/punches/yolov10/test2.mp4: 384x640 (no detections), 10.3ms\n",
            "video 1/1 (frame 17932/19159) /content/drive/MyDrive/punches/yolov10/test2.mp4: 384x640 (no detections), 11.0ms\n",
            "video 1/1 (frame 17933/19159) /content/drive/MyDrive/punches/yolov10/test2.mp4: 384x640 1 jab, 14.0ms\n",
            "video 1/1 (frame 17934/19159) /content/drive/MyDrive/punches/yolov10/test2.mp4: 384x640 (no detections), 10.7ms\n",
            "video 1/1 (frame 17935/19159) /content/drive/MyDrive/punches/yolov10/test2.mp4: 384x640 1 jab, 10.7ms\n",
            "video 1/1 (frame 17936/19159) /content/drive/MyDrive/punches/yolov10/test2.mp4: 384x640 1 jab, 10.9ms\n",
            "video 1/1 (frame 17937/19159) /content/drive/MyDrive/punches/yolov10/test2.mp4: 384x640 (no detections), 10.1ms\n",
            "video 1/1 (frame 17938/19159) /content/drive/MyDrive/punches/yolov10/test2.mp4: 384x640 1 jab, 10.3ms\n",
            "video 1/1 (frame 17939/19159) /content/drive/MyDrive/punches/yolov10/test2.mp4: 384x640 1 jab, 10.3ms\n",
            "video 1/1 (frame 17940/19159) /content/drive/MyDrive/punches/yolov10/test2.mp4: 384x640 1 jab, 11.2ms\n",
            "video 1/1 (frame 17941/19159) /content/drive/MyDrive/punches/yolov10/test2.mp4: 384x640 2 jabs, 11.3ms\n",
            "video 1/1 (frame 17942/19159) /content/drive/MyDrive/punches/yolov10/test2.mp4: 384x640 1 jab, 10.5ms\n",
            "video 1/1 (frame 17943/19159) /content/drive/MyDrive/punches/yolov10/test2.mp4: 384x640 1 jab, 10.5ms\n",
            "video 1/1 (frame 17944/19159) /content/drive/MyDrive/punches/yolov10/test2.mp4: 384x640 1 jab, 11.3ms\n",
            "video 1/1 (frame 17945/19159) /content/drive/MyDrive/punches/yolov10/test2.mp4: 384x640 (no detections), 11.9ms\n",
            "video 1/1 (frame 17946/19159) /content/drive/MyDrive/punches/yolov10/test2.mp4: 384x640 (no detections), 12.2ms\n",
            "video 1/1 (frame 17947/19159) /content/drive/MyDrive/punches/yolov10/test2.mp4: 384x640 (no detections), 10.9ms\n",
            "video 1/1 (frame 17948/19159) /content/drive/MyDrive/punches/yolov10/test2.mp4: 384x640 (no detections), 10.8ms\n",
            "video 1/1 (frame 17949/19159) /content/drive/MyDrive/punches/yolov10/test2.mp4: 384x640 1 jab, 10.1ms\n",
            "video 1/1 (frame 17950/19159) /content/drive/MyDrive/punches/yolov10/test2.mp4: 384x640 1 jab, 23.0ms\n",
            "video 1/1 (frame 17951/19159) /content/drive/MyDrive/punches/yolov10/test2.mp4: 384x640 1 jab, 12.3ms\n",
            "video 1/1 (frame 17952/19159) /content/drive/MyDrive/punches/yolov10/test2.mp4: 384x640 (no detections), 19.9ms\n",
            "video 1/1 (frame 17953/19159) /content/drive/MyDrive/punches/yolov10/test2.mp4: 384x640 (no detections), 10.9ms\n",
            "video 1/1 (frame 17954/19159) /content/drive/MyDrive/punches/yolov10/test2.mp4: 384x640 (no detections), 11.2ms\n",
            "video 1/1 (frame 17955/19159) /content/drive/MyDrive/punches/yolov10/test2.mp4: 384x640 (no detections), 10.2ms\n",
            "video 1/1 (frame 17956/19159) /content/drive/MyDrive/punches/yolov10/test2.mp4: 384x640 (no detections), 14.0ms\n",
            "video 1/1 (frame 17957/19159) /content/drive/MyDrive/punches/yolov10/test2.mp4: 384x640 (no detections), 10.4ms\n",
            "video 1/1 (frame 17958/19159) /content/drive/MyDrive/punches/yolov10/test2.mp4: 384x640 (no detections), 10.1ms\n",
            "video 1/1 (frame 17959/19159) /content/drive/MyDrive/punches/yolov10/test2.mp4: 384x640 (no detections), 10.5ms\n",
            "video 1/1 (frame 17960/19159) /content/drive/MyDrive/punches/yolov10/test2.mp4: 384x640 (no detections), 12.1ms\n",
            "video 1/1 (frame 17961/19159) /content/drive/MyDrive/punches/yolov10/test2.mp4: 384x640 (no detections), 11.1ms\n",
            "video 1/1 (frame 17962/19159) /content/drive/MyDrive/punches/yolov10/test2.mp4: 384x640 1 jab, 10.6ms\n",
            "video 1/1 (frame 17963/19159) /content/drive/MyDrive/punches/yolov10/test2.mp4: 384x640 1 jab, 10.6ms\n",
            "video 1/1 (frame 17964/19159) /content/drive/MyDrive/punches/yolov10/test2.mp4: 384x640 2 jabs, 10.9ms\n",
            "video 1/1 (frame 17965/19159) /content/drive/MyDrive/punches/yolov10/test2.mp4: 384x640 (no detections), 10.4ms\n",
            "video 1/1 (frame 17966/19159) /content/drive/MyDrive/punches/yolov10/test2.mp4: 384x640 1 jab, 16.4ms\n",
            "video 1/1 (frame 17967/19159) /content/drive/MyDrive/punches/yolov10/test2.mp4: 384x640 (no detections), 10.4ms\n",
            "video 1/1 (frame 17968/19159) /content/drive/MyDrive/punches/yolov10/test2.mp4: 384x640 1 jab, 10.8ms\n",
            "video 1/1 (frame 17969/19159) /content/drive/MyDrive/punches/yolov10/test2.mp4: 384x640 (no detections), 10.7ms\n",
            "video 1/1 (frame 17970/19159) /content/drive/MyDrive/punches/yolov10/test2.mp4: 384x640 (no detections), 10.3ms\n",
            "video 1/1 (frame 17971/19159) /content/drive/MyDrive/punches/yolov10/test2.mp4: 384x640 (no detections), 11.8ms\n",
            "video 1/1 (frame 17972/19159) /content/drive/MyDrive/punches/yolov10/test2.mp4: 384x640 (no detections), 10.5ms\n",
            "video 1/1 (frame 17973/19159) /content/drive/MyDrive/punches/yolov10/test2.mp4: 384x640 (no detections), 11.5ms\n",
            "video 1/1 (frame 17974/19159) /content/drive/MyDrive/punches/yolov10/test2.mp4: 384x640 (no detections), 11.0ms\n",
            "video 1/1 (frame 17975/19159) /content/drive/MyDrive/punches/yolov10/test2.mp4: 384x640 (no detections), 12.5ms\n",
            "video 1/1 (frame 17976/19159) /content/drive/MyDrive/punches/yolov10/test2.mp4: 384x640 (no detections), 9.9ms\n",
            "video 1/1 (frame 17977/19159) /content/drive/MyDrive/punches/yolov10/test2.mp4: 384x640 (no detections), 10.4ms\n",
            "video 1/1 (frame 17978/19159) /content/drive/MyDrive/punches/yolov10/test2.mp4: 384x640 (no detections), 10.2ms\n",
            "video 1/1 (frame 17979/19159) /content/drive/MyDrive/punches/yolov10/test2.mp4: 384x640 (no detections), 10.0ms\n",
            "video 1/1 (frame 17980/19159) /content/drive/MyDrive/punches/yolov10/test2.mp4: 384x640 (no detections), 10.0ms\n",
            "video 1/1 (frame 17981/19159) /content/drive/MyDrive/punches/yolov10/test2.mp4: 384x640 (no detections), 10.1ms\n",
            "video 1/1 (frame 17982/19159) /content/drive/MyDrive/punches/yolov10/test2.mp4: 384x640 (no detections), 10.3ms\n",
            "video 1/1 (frame 17983/19159) /content/drive/MyDrive/punches/yolov10/test2.mp4: 384x640 (no detections), 13.1ms\n",
            "video 1/1 (frame 17984/19159) /content/drive/MyDrive/punches/yolov10/test2.mp4: 384x640 (no detections), 15.0ms\n",
            "video 1/1 (frame 17985/19159) /content/drive/MyDrive/punches/yolov10/test2.mp4: 384x640 (no detections), 10.3ms\n",
            "video 1/1 (frame 17986/19159) /content/drive/MyDrive/punches/yolov10/test2.mp4: 384x640 (no detections), 10.4ms\n",
            "video 1/1 (frame 17987/19159) /content/drive/MyDrive/punches/yolov10/test2.mp4: 384x640 (no detections), 10.9ms\n",
            "video 1/1 (frame 17988/19159) /content/drive/MyDrive/punches/yolov10/test2.mp4: 384x640 (no detections), 10.6ms\n",
            "video 1/1 (frame 17989/19159) /content/drive/MyDrive/punches/yolov10/test2.mp4: 384x640 (no detections), 10.8ms\n",
            "video 1/1 (frame 17990/19159) /content/drive/MyDrive/punches/yolov10/test2.mp4: 384x640 (no detections), 10.4ms\n",
            "video 1/1 (frame 17991/19159) /content/drive/MyDrive/punches/yolov10/test2.mp4: 384x640 (no detections), 10.2ms\n",
            "video 1/1 (frame 17992/19159) /content/drive/MyDrive/punches/yolov10/test2.mp4: 384x640 (no detections), 11.0ms\n",
            "video 1/1 (frame 17993/19159) /content/drive/MyDrive/punches/yolov10/test2.mp4: 384x640 (no detections), 10.1ms\n",
            "video 1/1 (frame 17994/19159) /content/drive/MyDrive/punches/yolov10/test2.mp4: 384x640 (no detections), 11.2ms\n",
            "video 1/1 (frame 17995/19159) /content/drive/MyDrive/punches/yolov10/test2.mp4: 384x640 (no detections), 10.6ms\n",
            "video 1/1 (frame 17996/19159) /content/drive/MyDrive/punches/yolov10/test2.mp4: 384x640 (no detections), 11.0ms\n",
            "video 1/1 (frame 17997/19159) /content/drive/MyDrive/punches/yolov10/test2.mp4: 384x640 (no detections), 10.3ms\n",
            "video 1/1 (frame 17998/19159) /content/drive/MyDrive/punches/yolov10/test2.mp4: 384x640 (no detections), 10.3ms\n",
            "video 1/1 (frame 17999/19159) /content/drive/MyDrive/punches/yolov10/test2.mp4: 384x640 (no detections), 10.5ms\n",
            "video 1/1 (frame 18000/19159) /content/drive/MyDrive/punches/yolov10/test2.mp4: 384x640 (no detections), 11.2ms\n",
            "video 1/1 (frame 18001/19159) /content/drive/MyDrive/punches/yolov10/test2.mp4: 384x640 1 jab, 17.9ms\n",
            "video 1/1 (frame 18002/19159) /content/drive/MyDrive/punches/yolov10/test2.mp4: 384x640 1 jab, 13.1ms\n",
            "video 1/1 (frame 18003/19159) /content/drive/MyDrive/punches/yolov10/test2.mp4: 384x640 (no detections), 10.8ms\n",
            "video 1/1 (frame 18004/19159) /content/drive/MyDrive/punches/yolov10/test2.mp4: 384x640 2 jabs, 10.6ms\n",
            "video 1/1 (frame 18005/19159) /content/drive/MyDrive/punches/yolov10/test2.mp4: 384x640 1 jab, 10.7ms\n",
            "video 1/1 (frame 18006/19159) /content/drive/MyDrive/punches/yolov10/test2.mp4: 384x640 1 jab, 10.5ms\n",
            "video 1/1 (frame 18007/19159) /content/drive/MyDrive/punches/yolov10/test2.mp4: 384x640 (no detections), 10.3ms\n",
            "video 1/1 (frame 18008/19159) /content/drive/MyDrive/punches/yolov10/test2.mp4: 384x640 1 jab, 10.6ms\n",
            "video 1/1 (frame 18009/19159) /content/drive/MyDrive/punches/yolov10/test2.mp4: 384x640 1 jab, 10.2ms\n",
            "video 1/1 (frame 18010/19159) /content/drive/MyDrive/punches/yolov10/test2.mp4: 384x640 1 jab, 14.5ms\n",
            "video 1/1 (frame 18011/19159) /content/drive/MyDrive/punches/yolov10/test2.mp4: 384x640 (no detections), 16.6ms\n",
            "video 1/1 (frame 18012/19159) /content/drive/MyDrive/punches/yolov10/test2.mp4: 384x640 (no detections), 11.0ms\n",
            "video 1/1 (frame 18013/19159) /content/drive/MyDrive/punches/yolov10/test2.mp4: 384x640 (no detections), 10.7ms\n",
            "video 1/1 (frame 18014/19159) /content/drive/MyDrive/punches/yolov10/test2.mp4: 384x640 (no detections), 10.6ms\n",
            "video 1/1 (frame 18015/19159) /content/drive/MyDrive/punches/yolov10/test2.mp4: 384x640 (no detections), 10.5ms\n",
            "video 1/1 (frame 18016/19159) /content/drive/MyDrive/punches/yolov10/test2.mp4: 384x640 (no detections), 10.8ms\n",
            "video 1/1 (frame 18017/19159) /content/drive/MyDrive/punches/yolov10/test2.mp4: 384x640 (no detections), 21.7ms\n",
            "video 1/1 (frame 18018/19159) /content/drive/MyDrive/punches/yolov10/test2.mp4: 384x640 (no detections), 11.9ms\n",
            "video 1/1 (frame 18019/19159) /content/drive/MyDrive/punches/yolov10/test2.mp4: 384x640 (no detections), 10.5ms\n",
            "video 1/1 (frame 18020/19159) /content/drive/MyDrive/punches/yolov10/test2.mp4: 384x640 (no detections), 11.8ms\n",
            "video 1/1 (frame 18021/19159) /content/drive/MyDrive/punches/yolov10/test2.mp4: 384x640 (no detections), 11.3ms\n",
            "video 1/1 (frame 18022/19159) /content/drive/MyDrive/punches/yolov10/test2.mp4: 384x640 (no detections), 10.9ms\n",
            "video 1/1 (frame 18023/19159) /content/drive/MyDrive/punches/yolov10/test2.mp4: 384x640 (no detections), 11.4ms\n",
            "video 1/1 (frame 18024/19159) /content/drive/MyDrive/punches/yolov10/test2.mp4: 384x640 (no detections), 10.9ms\n",
            "video 1/1 (frame 18025/19159) /content/drive/MyDrive/punches/yolov10/test2.mp4: 384x640 (no detections), 10.5ms\n",
            "video 1/1 (frame 18026/19159) /content/drive/MyDrive/punches/yolov10/test2.mp4: 384x640 (no detections), 10.5ms\n",
            "video 1/1 (frame 18027/19159) /content/drive/MyDrive/punches/yolov10/test2.mp4: 384x640 (no detections), 10.7ms\n",
            "video 1/1 (frame 18028/19159) /content/drive/MyDrive/punches/yolov10/test2.mp4: 384x640 (no detections), 15.9ms\n",
            "video 1/1 (frame 18029/19159) /content/drive/MyDrive/punches/yolov10/test2.mp4: 384x640 (no detections), 11.8ms\n",
            "video 1/1 (frame 18030/19159) /content/drive/MyDrive/punches/yolov10/test2.mp4: 384x640 (no detections), 14.3ms\n",
            "video 1/1 (frame 18031/19159) /content/drive/MyDrive/punches/yolov10/test2.mp4: 384x640 (no detections), 14.9ms\n",
            "video 1/1 (frame 18032/19159) /content/drive/MyDrive/punches/yolov10/test2.mp4: 384x640 (no detections), 11.2ms\n",
            "video 1/1 (frame 18033/19159) /content/drive/MyDrive/punches/yolov10/test2.mp4: 384x640 (no detections), 10.3ms\n",
            "video 1/1 (frame 18034/19159) /content/drive/MyDrive/punches/yolov10/test2.mp4: 384x640 1 jab, 10.4ms\n",
            "video 1/1 (frame 18035/19159) /content/drive/MyDrive/punches/yolov10/test2.mp4: 384x640 1 jab, 10.3ms\n",
            "video 1/1 (frame 18036/19159) /content/drive/MyDrive/punches/yolov10/test2.mp4: 384x640 1 jab, 10.3ms\n",
            "video 1/1 (frame 18037/19159) /content/drive/MyDrive/punches/yolov10/test2.mp4: 384x640 (no detections), 10.2ms\n",
            "video 1/1 (frame 18038/19159) /content/drive/MyDrive/punches/yolov10/test2.mp4: 384x640 (no detections), 10.5ms\n",
            "video 1/1 (frame 18039/19159) /content/drive/MyDrive/punches/yolov10/test2.mp4: 384x640 (no detections), 11.2ms\n",
            "video 1/1 (frame 18040/19159) /content/drive/MyDrive/punches/yolov10/test2.mp4: 384x640 (no detections), 11.1ms\n",
            "video 1/1 (frame 18041/19159) /content/drive/MyDrive/punches/yolov10/test2.mp4: 384x640 (no detections), 13.5ms\n",
            "video 1/1 (frame 18042/19159) /content/drive/MyDrive/punches/yolov10/test2.mp4: 384x640 (no detections), 10.1ms\n",
            "video 1/1 (frame 18043/19159) /content/drive/MyDrive/punches/yolov10/test2.mp4: 384x640 (no detections), 10.4ms\n",
            "video 1/1 (frame 18044/19159) /content/drive/MyDrive/punches/yolov10/test2.mp4: 384x640 (no detections), 13.4ms\n",
            "video 1/1 (frame 18045/19159) /content/drive/MyDrive/punches/yolov10/test2.mp4: 384x640 (no detections), 12.8ms\n",
            "video 1/1 (frame 18046/19159) /content/drive/MyDrive/punches/yolov10/test2.mp4: 384x640 (no detections), 10.8ms\n",
            "video 1/1 (frame 18047/19159) /content/drive/MyDrive/punches/yolov10/test2.mp4: 384x640 (no detections), 11.4ms\n",
            "video 1/1 (frame 18048/19159) /content/drive/MyDrive/punches/yolov10/test2.mp4: 384x640 1 jab, 10.1ms\n",
            "video 1/1 (frame 18049/19159) /content/drive/MyDrive/punches/yolov10/test2.mp4: 384x640 1 jab, 10.5ms\n",
            "video 1/1 (frame 18050/19159) /content/drive/MyDrive/punches/yolov10/test2.mp4: 384x640 1 jab, 11.8ms\n",
            "video 1/1 (frame 18051/19159) /content/drive/MyDrive/punches/yolov10/test2.mp4: 384x640 1 jab, 10.5ms\n",
            "video 1/1 (frame 18052/19159) /content/drive/MyDrive/punches/yolov10/test2.mp4: 384x640 1 jab, 11.1ms\n",
            "video 1/1 (frame 18053/19159) /content/drive/MyDrive/punches/yolov10/test2.mp4: 384x640 1 jab, 10.5ms\n",
            "video 1/1 (frame 18054/19159) /content/drive/MyDrive/punches/yolov10/test2.mp4: 384x640 1 jab, 10.6ms\n",
            "video 1/1 (frame 18055/19159) /content/drive/MyDrive/punches/yolov10/test2.mp4: 384x640 1 jab, 10.7ms\n",
            "video 1/1 (frame 18056/19159) /content/drive/MyDrive/punches/yolov10/test2.mp4: 384x640 1 jab, 14.0ms\n",
            "video 1/1 (frame 18057/19159) /content/drive/MyDrive/punches/yolov10/test2.mp4: 384x640 1 jab, 11.8ms\n",
            "video 1/1 (frame 18058/19159) /content/drive/MyDrive/punches/yolov10/test2.mp4: 384x640 (no detections), 10.4ms\n",
            "video 1/1 (frame 18059/19159) /content/drive/MyDrive/punches/yolov10/test2.mp4: 384x640 (no detections), 10.5ms\n",
            "video 1/1 (frame 18060/19159) /content/drive/MyDrive/punches/yolov10/test2.mp4: 384x640 1 jab, 10.6ms\n",
            "video 1/1 (frame 18061/19159) /content/drive/MyDrive/punches/yolov10/test2.mp4: 384x640 1 jab, 15.8ms\n",
            "video 1/1 (frame 18062/19159) /content/drive/MyDrive/punches/yolov10/test2.mp4: 384x640 1 jab, 10.8ms\n",
            "video 1/1 (frame 18063/19159) /content/drive/MyDrive/punches/yolov10/test2.mp4: 384x640 1 jab, 11.0ms\n",
            "video 1/1 (frame 18064/19159) /content/drive/MyDrive/punches/yolov10/test2.mp4: 384x640 1 jab, 10.9ms\n",
            "video 1/1 (frame 18065/19159) /content/drive/MyDrive/punches/yolov10/test2.mp4: 384x640 1 jab, 10.8ms\n",
            "video 1/1 (frame 18066/19159) /content/drive/MyDrive/punches/yolov10/test2.mp4: 384x640 1 jab, 20.0ms\n",
            "video 1/1 (frame 18067/19159) /content/drive/MyDrive/punches/yolov10/test2.mp4: 384x640 2 jabs, 10.7ms\n",
            "video 1/1 (frame 18068/19159) /content/drive/MyDrive/punches/yolov10/test2.mp4: 384x640 2 jabs, 11.0ms\n",
            "video 1/1 (frame 18069/19159) /content/drive/MyDrive/punches/yolov10/test2.mp4: 384x640 1 jab, 11.3ms\n",
            "video 1/1 (frame 18070/19159) /content/drive/MyDrive/punches/yolov10/test2.mp4: 384x640 (no detections), 11.4ms\n",
            "video 1/1 (frame 18071/19159) /content/drive/MyDrive/punches/yolov10/test2.mp4: 384x640 (no detections), 11.5ms\n",
            "video 1/1 (frame 18072/19159) /content/drive/MyDrive/punches/yolov10/test2.mp4: 384x640 (no detections), 11.4ms\n",
            "video 1/1 (frame 18073/19159) /content/drive/MyDrive/punches/yolov10/test2.mp4: 384x640 (no detections), 10.9ms\n",
            "video 1/1 (frame 18074/19159) /content/drive/MyDrive/punches/yolov10/test2.mp4: 384x640 (no detections), 10.6ms\n",
            "video 1/1 (frame 18075/19159) /content/drive/MyDrive/punches/yolov10/test2.mp4: 384x640 (no detections), 15.2ms\n",
            "video 1/1 (frame 18076/19159) /content/drive/MyDrive/punches/yolov10/test2.mp4: 384x640 (no detections), 15.3ms\n",
            "video 1/1 (frame 18077/19159) /content/drive/MyDrive/punches/yolov10/test2.mp4: 384x640 1 jab, 11.2ms\n",
            "video 1/1 (frame 18078/19159) /content/drive/MyDrive/punches/yolov10/test2.mp4: 384x640 1 jab, 10.7ms\n",
            "video 1/1 (frame 18079/19159) /content/drive/MyDrive/punches/yolov10/test2.mp4: 384x640 1 jab, 10.7ms\n",
            "video 1/1 (frame 18080/19159) /content/drive/MyDrive/punches/yolov10/test2.mp4: 384x640 1 jab, 10.5ms\n",
            "video 1/1 (frame 18081/19159) /content/drive/MyDrive/punches/yolov10/test2.mp4: 384x640 1 jab, 11.3ms\n",
            "video 1/1 (frame 18082/19159) /content/drive/MyDrive/punches/yolov10/test2.mp4: 384x640 1 jab, 10.5ms\n",
            "video 1/1 (frame 18083/19159) /content/drive/MyDrive/punches/yolov10/test2.mp4: 384x640 1 jab, 10.5ms\n",
            "video 1/1 (frame 18084/19159) /content/drive/MyDrive/punches/yolov10/test2.mp4: 384x640 1 jab, 14.2ms\n",
            "video 1/1 (frame 18085/19159) /content/drive/MyDrive/punches/yolov10/test2.mp4: 384x640 (no detections), 15.3ms\n",
            "video 1/1 (frame 18086/19159) /content/drive/MyDrive/punches/yolov10/test2.mp4: 384x640 (no detections), 10.2ms\n",
            "video 1/1 (frame 18087/19159) /content/drive/MyDrive/punches/yolov10/test2.mp4: 384x640 (no detections), 10.2ms\n",
            "video 1/1 (frame 18088/19159) /content/drive/MyDrive/punches/yolov10/test2.mp4: 384x640 (no detections), 11.2ms\n",
            "video 1/1 (frame 18089/19159) /content/drive/MyDrive/punches/yolov10/test2.mp4: 384x640 (no detections), 10.7ms\n",
            "video 1/1 (frame 18090/19159) /content/drive/MyDrive/punches/yolov10/test2.mp4: 384x640 (no detections), 10.3ms\n",
            "video 1/1 (frame 18091/19159) /content/drive/MyDrive/punches/yolov10/test2.mp4: 384x640 (no detections), 10.3ms\n",
            "video 1/1 (frame 18092/19159) /content/drive/MyDrive/punches/yolov10/test2.mp4: 384x640 (no detections), 10.3ms\n",
            "video 1/1 (frame 18093/19159) /content/drive/MyDrive/punches/yolov10/test2.mp4: 384x640 (no detections), 16.4ms\n",
            "video 1/1 (frame 18094/19159) /content/drive/MyDrive/punches/yolov10/test2.mp4: 384x640 (no detections), 10.5ms\n",
            "video 1/1 (frame 18095/19159) /content/drive/MyDrive/punches/yolov10/test2.mp4: 384x640 (no detections), 10.4ms\n",
            "video 1/1 (frame 18096/19159) /content/drive/MyDrive/punches/yolov10/test2.mp4: 384x640 (no detections), 10.6ms\n",
            "video 1/1 (frame 18097/19159) /content/drive/MyDrive/punches/yolov10/test2.mp4: 384x640 1 jab, 10.4ms\n",
            "video 1/1 (frame 18098/19159) /content/drive/MyDrive/punches/yolov10/test2.mp4: 384x640 1 jab, 11.0ms\n",
            "video 1/1 (frame 18099/19159) /content/drive/MyDrive/punches/yolov10/test2.mp4: 384x640 1 jab, 10.3ms\n",
            "video 1/1 (frame 18100/19159) /content/drive/MyDrive/punches/yolov10/test2.mp4: 384x640 (no detections), 10.5ms\n",
            "video 1/1 (frame 18101/19159) /content/drive/MyDrive/punches/yolov10/test2.mp4: 384x640 1 jab, 13.8ms\n",
            "video 1/1 (frame 18102/19159) /content/drive/MyDrive/punches/yolov10/test2.mp4: 384x640 (no detections), 11.0ms\n",
            "video 1/1 (frame 18103/19159) /content/drive/MyDrive/punches/yolov10/test2.mp4: 384x640 (no detections), 11.4ms\n",
            "video 1/1 (frame 18104/19159) /content/drive/MyDrive/punches/yolov10/test2.mp4: 384x640 (no detections), 13.1ms\n",
            "video 1/1 (frame 18105/19159) /content/drive/MyDrive/punches/yolov10/test2.mp4: 384x640 1 jab, 10.7ms\n",
            "video 1/1 (frame 18106/19159) /content/drive/MyDrive/punches/yolov10/test2.mp4: 384x640 (no detections), 10.3ms\n",
            "video 1/1 (frame 18107/19159) /content/drive/MyDrive/punches/yolov10/test2.mp4: 384x640 1 jab, 10.4ms\n",
            "video 1/1 (frame 18108/19159) /content/drive/MyDrive/punches/yolov10/test2.mp4: 384x640 1 jab, 10.8ms\n",
            "video 1/1 (frame 18109/19159) /content/drive/MyDrive/punches/yolov10/test2.mp4: 384x640 1 jab, 11.5ms\n",
            "video 1/1 (frame 18110/19159) /content/drive/MyDrive/punches/yolov10/test2.mp4: 384x640 1 jab, 17.7ms\n",
            "video 1/1 (frame 18111/19159) /content/drive/MyDrive/punches/yolov10/test2.mp4: 384x640 1 jab, 14.0ms\n",
            "video 1/1 (frame 18112/19159) /content/drive/MyDrive/punches/yolov10/test2.mp4: 384x640 (no detections), 10.5ms\n",
            "video 1/1 (frame 18113/19159) /content/drive/MyDrive/punches/yolov10/test2.mp4: 384x640 (no detections), 10.4ms\n",
            "video 1/1 (frame 18114/19159) /content/drive/MyDrive/punches/yolov10/test2.mp4: 384x640 1 jab, 10.0ms\n",
            "video 1/1 (frame 18115/19159) /content/drive/MyDrive/punches/yolov10/test2.mp4: 384x640 (no detections), 10.8ms\n",
            "video 1/1 (frame 18116/19159) /content/drive/MyDrive/punches/yolov10/test2.mp4: 384x640 (no detections), 11.0ms\n",
            "video 1/1 (frame 18117/19159) /content/drive/MyDrive/punches/yolov10/test2.mp4: 384x640 (no detections), 10.7ms\n",
            "video 1/1 (frame 18118/19159) /content/drive/MyDrive/punches/yolov10/test2.mp4: 384x640 (no detections), 10.5ms\n",
            "video 1/1 (frame 18119/19159) /content/drive/MyDrive/punches/yolov10/test2.mp4: 384x640 (no detections), 10.4ms\n",
            "video 1/1 (frame 18120/19159) /content/drive/MyDrive/punches/yolov10/test2.mp4: 384x640 (no detections), 10.9ms\n",
            "video 1/1 (frame 18121/19159) /content/drive/MyDrive/punches/yolov10/test2.mp4: 384x640 (no detections), 11.4ms\n",
            "video 1/1 (frame 18122/19159) /content/drive/MyDrive/punches/yolov10/test2.mp4: 384x640 1 jab, 10.3ms\n",
            "video 1/1 (frame 18123/19159) /content/drive/MyDrive/punches/yolov10/test2.mp4: 384x640 1 jab, 17.5ms\n",
            "video 1/1 (frame 18124/19159) /content/drive/MyDrive/punches/yolov10/test2.mp4: 384x640 1 jab, 10.7ms\n",
            "video 1/1 (frame 18125/19159) /content/drive/MyDrive/punches/yolov10/test2.mp4: 384x640 1 jab, 10.4ms\n",
            "video 1/1 (frame 18126/19159) /content/drive/MyDrive/punches/yolov10/test2.mp4: 384x640 1 jab, 11.7ms\n",
            "video 1/1 (frame 18127/19159) /content/drive/MyDrive/punches/yolov10/test2.mp4: 384x640 1 jab, 18.3ms\n",
            "video 1/1 (frame 18128/19159) /content/drive/MyDrive/punches/yolov10/test2.mp4: 384x640 1 jab, 13.5ms\n",
            "video 1/1 (frame 18129/19159) /content/drive/MyDrive/punches/yolov10/test2.mp4: 384x640 (no detections), 10.6ms\n",
            "video 1/1 (frame 18130/19159) /content/drive/MyDrive/punches/yolov10/test2.mp4: 384x640 1 jab, 10.8ms\n",
            "video 1/1 (frame 18131/19159) /content/drive/MyDrive/punches/yolov10/test2.mp4: 384x640 1 jab, 11.7ms\n",
            "video 1/1 (frame 18132/19159) /content/drive/MyDrive/punches/yolov10/test2.mp4: 384x640 1 jab, 10.7ms\n",
            "video 1/1 (frame 18133/19159) /content/drive/MyDrive/punches/yolov10/test2.mp4: 384x640 1 jab, 10.3ms\n",
            "video 1/1 (frame 18134/19159) /content/drive/MyDrive/punches/yolov10/test2.mp4: 384x640 1 jab, 11.4ms\n",
            "video 1/1 (frame 18135/19159) /content/drive/MyDrive/punches/yolov10/test2.mp4: 384x640 1 jab, 11.1ms\n",
            "video 1/1 (frame 18136/19159) /content/drive/MyDrive/punches/yolov10/test2.mp4: 384x640 1 jab, 12.8ms\n",
            "video 1/1 (frame 18137/19159) /content/drive/MyDrive/punches/yolov10/test2.mp4: 384x640 1 jab, 11.0ms\n",
            "video 1/1 (frame 18138/19159) /content/drive/MyDrive/punches/yolov10/test2.mp4: 384x640 1 jab, 12.0ms\n",
            "video 1/1 (frame 18139/19159) /content/drive/MyDrive/punches/yolov10/test2.mp4: 384x640 (no detections), 14.7ms\n",
            "video 1/1 (frame 18140/19159) /content/drive/MyDrive/punches/yolov10/test2.mp4: 384x640 (no detections), 14.2ms\n",
            "video 1/1 (frame 18141/19159) /content/drive/MyDrive/punches/yolov10/test2.mp4: 384x640 (no detections), 10.8ms\n",
            "video 1/1 (frame 18142/19159) /content/drive/MyDrive/punches/yolov10/test2.mp4: 384x640 (no detections), 13.1ms\n",
            "video 1/1 (frame 18143/19159) /content/drive/MyDrive/punches/yolov10/test2.mp4: 384x640 1 jab, 12.6ms\n",
            "video 1/1 (frame 18144/19159) /content/drive/MyDrive/punches/yolov10/test2.mp4: 384x640 1 jab, 10.3ms\n",
            "video 1/1 (frame 18145/19159) /content/drive/MyDrive/punches/yolov10/test2.mp4: 384x640 1 jab, 10.5ms\n",
            "video 1/1 (frame 18146/19159) /content/drive/MyDrive/punches/yolov10/test2.mp4: 384x640 1 jab, 12.2ms\n",
            "video 1/1 (frame 18147/19159) /content/drive/MyDrive/punches/yolov10/test2.mp4: 384x640 1 jab, 10.3ms\n",
            "video 1/1 (frame 18148/19159) /content/drive/MyDrive/punches/yolov10/test2.mp4: 384x640 1 jab, 10.4ms\n",
            "video 1/1 (frame 18149/19159) /content/drive/MyDrive/punches/yolov10/test2.mp4: 384x640 1 jab, 10.4ms\n",
            "video 1/1 (frame 18150/19159) /content/drive/MyDrive/punches/yolov10/test2.mp4: 384x640 1 jab, 11.0ms\n",
            "video 1/1 (frame 18151/19159) /content/drive/MyDrive/punches/yolov10/test2.mp4: 384x640 1 jab, 10.2ms\n",
            "video 1/1 (frame 18152/19159) /content/drive/MyDrive/punches/yolov10/test2.mp4: 384x640 1 jab, 10.4ms\n",
            "video 1/1 (frame 18153/19159) /content/drive/MyDrive/punches/yolov10/test2.mp4: 384x640 (no detections), 10.6ms\n",
            "video 1/1 (frame 18154/19159) /content/drive/MyDrive/punches/yolov10/test2.mp4: 384x640 1 jab, 12.4ms\n",
            "video 1/1 (frame 18155/19159) /content/drive/MyDrive/punches/yolov10/test2.mp4: 384x640 1 jab, 10.9ms\n",
            "video 1/1 (frame 18156/19159) /content/drive/MyDrive/punches/yolov10/test2.mp4: 384x640 1 jab, 10.3ms\n",
            "video 1/1 (frame 18157/19159) /content/drive/MyDrive/punches/yolov10/test2.mp4: 384x640 1 jab, 11.1ms\n",
            "video 1/1 (frame 18158/19159) /content/drive/MyDrive/punches/yolov10/test2.mp4: 384x640 (no detections), 10.7ms\n",
            "video 1/1 (frame 18159/19159) /content/drive/MyDrive/punches/yolov10/test2.mp4: 384x640 (no detections), 16.3ms\n",
            "video 1/1 (frame 18160/19159) /content/drive/MyDrive/punches/yolov10/test2.mp4: 384x640 (no detections), 11.2ms\n",
            "video 1/1 (frame 18161/19159) /content/drive/MyDrive/punches/yolov10/test2.mp4: 384x640 (no detections), 10.4ms\n",
            "video 1/1 (frame 18162/19159) /content/drive/MyDrive/punches/yolov10/test2.mp4: 384x640 (no detections), 10.5ms\n",
            "video 1/1 (frame 18163/19159) /content/drive/MyDrive/punches/yolov10/test2.mp4: 384x640 (no detections), 10.4ms\n",
            "video 1/1 (frame 18164/19159) /content/drive/MyDrive/punches/yolov10/test2.mp4: 384x640 (no detections), 10.2ms\n",
            "video 1/1 (frame 18165/19159) /content/drive/MyDrive/punches/yolov10/test2.mp4: 384x640 (no detections), 11.0ms\n",
            "video 1/1 (frame 18166/19159) /content/drive/MyDrive/punches/yolov10/test2.mp4: 384x640 (no detections), 12.7ms\n",
            "video 1/1 (frame 18167/19159) /content/drive/MyDrive/punches/yolov10/test2.mp4: 384x640 (no detections), 10.3ms\n",
            "video 1/1 (frame 18168/19159) /content/drive/MyDrive/punches/yolov10/test2.mp4: 384x640 (no detections), 10.7ms\n",
            "video 1/1 (frame 18169/19159) /content/drive/MyDrive/punches/yolov10/test2.mp4: 384x640 (no detections), 10.6ms\n",
            "video 1/1 (frame 18170/19159) /content/drive/MyDrive/punches/yolov10/test2.mp4: 384x640 1 jab, 10.8ms\n",
            "video 1/1 (frame 18171/19159) /content/drive/MyDrive/punches/yolov10/test2.mp4: 384x640 1 jab, 10.7ms\n",
            "video 1/1 (frame 18172/19159) /content/drive/MyDrive/punches/yolov10/test2.mp4: 384x640 1 jab, 10.4ms\n",
            "video 1/1 (frame 18173/19159) /content/drive/MyDrive/punches/yolov10/test2.mp4: 384x640 1 jab, 10.3ms\n",
            "video 1/1 (frame 18174/19159) /content/drive/MyDrive/punches/yolov10/test2.mp4: 384x640 1 jab, 11.1ms\n",
            "video 1/1 (frame 18175/19159) /content/drive/MyDrive/punches/yolov10/test2.mp4: 384x640 1 jab, 15.2ms\n",
            "video 1/1 (frame 18176/19159) /content/drive/MyDrive/punches/yolov10/test2.mp4: 384x640 1 jab, 12.1ms\n",
            "video 1/1 (frame 18177/19159) /content/drive/MyDrive/punches/yolov10/test2.mp4: 384x640 1 jab, 10.5ms\n",
            "video 1/1 (frame 18178/19159) /content/drive/MyDrive/punches/yolov10/test2.mp4: 384x640 1 jab, 21.0ms\n",
            "video 1/1 (frame 18179/19159) /content/drive/MyDrive/punches/yolov10/test2.mp4: 384x640 (no detections), 12.1ms\n",
            "video 1/1 (frame 18180/19159) /content/drive/MyDrive/punches/yolov10/test2.mp4: 384x640 (no detections), 14.2ms\n",
            "video 1/1 (frame 18181/19159) /content/drive/MyDrive/punches/yolov10/test2.mp4: 384x640 (no detections), 10.6ms\n",
            "video 1/1 (frame 18182/19159) /content/drive/MyDrive/punches/yolov10/test2.mp4: 384x640 (no detections), 10.1ms\n",
            "video 1/1 (frame 18183/19159) /content/drive/MyDrive/punches/yolov10/test2.mp4: 384x640 (no detections), 10.8ms\n",
            "video 1/1 (frame 18184/19159) /content/drive/MyDrive/punches/yolov10/test2.mp4: 384x640 (no detections), 10.9ms\n",
            "video 1/1 (frame 18185/19159) /content/drive/MyDrive/punches/yolov10/test2.mp4: 384x640 (no detections), 11.2ms\n",
            "video 1/1 (frame 18186/19159) /content/drive/MyDrive/punches/yolov10/test2.mp4: 384x640 (no detections), 11.9ms\n",
            "video 1/1 (frame 18187/19159) /content/drive/MyDrive/punches/yolov10/test2.mp4: 384x640 (no detections), 11.3ms\n",
            "video 1/1 (frame 18188/19159) /content/drive/MyDrive/punches/yolov10/test2.mp4: 384x640 (no detections), 11.5ms\n",
            "video 1/1 (frame 18189/19159) /content/drive/MyDrive/punches/yolov10/test2.mp4: 384x640 1 jab, 10.5ms\n",
            "video 1/1 (frame 18190/19159) /content/drive/MyDrive/punches/yolov10/test2.mp4: 384x640 1 jab, 10.9ms\n",
            "video 1/1 (frame 18191/19159) /content/drive/MyDrive/punches/yolov10/test2.mp4: 384x640 1 jab, 17.3ms\n",
            "video 1/1 (frame 18192/19159) /content/drive/MyDrive/punches/yolov10/test2.mp4: 384x640 1 jab, 11.9ms\n",
            "video 1/1 (frame 18193/19159) /content/drive/MyDrive/punches/yolov10/test2.mp4: 384x640 (no detections), 15.4ms\n",
            "video 1/1 (frame 18194/19159) /content/drive/MyDrive/punches/yolov10/test2.mp4: 384x640 1 jab, 10.5ms\n",
            "video 1/1 (frame 18195/19159) /content/drive/MyDrive/punches/yolov10/test2.mp4: 384x640 1 jab, 10.7ms\n",
            "video 1/1 (frame 18196/19159) /content/drive/MyDrive/punches/yolov10/test2.mp4: 384x640 1 jab, 23.1ms\n",
            "video 1/1 (frame 18197/19159) /content/drive/MyDrive/punches/yolov10/test2.mp4: 384x640 1 jab, 17.5ms\n",
            "video 1/1 (frame 18198/19159) /content/drive/MyDrive/punches/yolov10/test2.mp4: 384x640 (no detections), 17.7ms\n",
            "video 1/1 (frame 18199/19159) /content/drive/MyDrive/punches/yolov10/test2.mp4: 384x640 (no detections), 17.4ms\n",
            "video 1/1 (frame 18200/19159) /content/drive/MyDrive/punches/yolov10/test2.mp4: 384x640 (no detections), 18.3ms\n",
            "video 1/1 (frame 18201/19159) /content/drive/MyDrive/punches/yolov10/test2.mp4: 384x640 (no detections), 14.6ms\n",
            "video 1/1 (frame 18202/19159) /content/drive/MyDrive/punches/yolov10/test2.mp4: 384x640 (no detections), 16.2ms\n",
            "video 1/1 (frame 18203/19159) /content/drive/MyDrive/punches/yolov10/test2.mp4: 384x640 1 jab, 21.7ms\n",
            "video 1/1 (frame 18204/19159) /content/drive/MyDrive/punches/yolov10/test2.mp4: 384x640 1 jab, 14.8ms\n",
            "video 1/1 (frame 18205/19159) /content/drive/MyDrive/punches/yolov10/test2.mp4: 384x640 1 jab, 13.6ms\n",
            "video 1/1 (frame 18206/19159) /content/drive/MyDrive/punches/yolov10/test2.mp4: 384x640 (no detections), 13.8ms\n",
            "video 1/1 (frame 18207/19159) /content/drive/MyDrive/punches/yolov10/test2.mp4: 384x640 (no detections), 13.9ms\n",
            "video 1/1 (frame 18208/19159) /content/drive/MyDrive/punches/yolov10/test2.mp4: 384x640 (no detections), 13.9ms\n",
            "video 1/1 (frame 18209/19159) /content/drive/MyDrive/punches/yolov10/test2.mp4: 384x640 (no detections), 13.6ms\n",
            "video 1/1 (frame 18210/19159) /content/drive/MyDrive/punches/yolov10/test2.mp4: 384x640 (no detections), 14.7ms\n",
            "video 1/1 (frame 18211/19159) /content/drive/MyDrive/punches/yolov10/test2.mp4: 384x640 (no detections), 15.4ms\n",
            "video 1/1 (frame 18212/19159) /content/drive/MyDrive/punches/yolov10/test2.mp4: 384x640 1 jab, 16.1ms\n",
            "video 1/1 (frame 18213/19159) /content/drive/MyDrive/punches/yolov10/test2.mp4: 384x640 1 jab, 14.0ms\n",
            "video 1/1 (frame 18214/19159) /content/drive/MyDrive/punches/yolov10/test2.mp4: 384x640 (no detections), 14.0ms\n",
            "video 1/1 (frame 18215/19159) /content/drive/MyDrive/punches/yolov10/test2.mp4: 384x640 (no detections), 15.5ms\n",
            "video 1/1 (frame 18216/19159) /content/drive/MyDrive/punches/yolov10/test2.mp4: 384x640 (no detections), 13.8ms\n",
            "video 1/1 (frame 18217/19159) /content/drive/MyDrive/punches/yolov10/test2.mp4: 384x640 1 jab, 16.9ms\n",
            "video 1/1 (frame 18218/19159) /content/drive/MyDrive/punches/yolov10/test2.mp4: 384x640 1 jab, 20.0ms\n",
            "video 1/1 (frame 18219/19159) /content/drive/MyDrive/punches/yolov10/test2.mp4: 384x640 (no detections), 14.1ms\n",
            "video 1/1 (frame 18220/19159) /content/drive/MyDrive/punches/yolov10/test2.mp4: 384x640 (no detections), 12.9ms\n",
            "video 1/1 (frame 18221/19159) /content/drive/MyDrive/punches/yolov10/test2.mp4: 384x640 (no detections), 12.7ms\n",
            "video 1/1 (frame 18222/19159) /content/drive/MyDrive/punches/yolov10/test2.mp4: 384x640 (no detections), 20.6ms\n",
            "video 1/1 (frame 18223/19159) /content/drive/MyDrive/punches/yolov10/test2.mp4: 384x640 (no detections), 16.5ms\n",
            "video 1/1 (frame 18224/19159) /content/drive/MyDrive/punches/yolov10/test2.mp4: 384x640 (no detections), 13.2ms\n",
            "video 1/1 (frame 18225/19159) /content/drive/MyDrive/punches/yolov10/test2.mp4: 384x640 1 jab, 12.7ms\n",
            "video 1/1 (frame 18226/19159) /content/drive/MyDrive/punches/yolov10/test2.mp4: 384x640 1 jab, 13.1ms\n",
            "video 1/1 (frame 18227/19159) /content/drive/MyDrive/punches/yolov10/test2.mp4: 384x640 1 jab, 17.9ms\n",
            "video 1/1 (frame 18228/19159) /content/drive/MyDrive/punches/yolov10/test2.mp4: 384x640 1 jab, 17.4ms\n",
            "video 1/1 (frame 18229/19159) /content/drive/MyDrive/punches/yolov10/test2.mp4: 384x640 1 jab, 13.2ms\n",
            "video 1/1 (frame 18230/19159) /content/drive/MyDrive/punches/yolov10/test2.mp4: 384x640 1 jab, 13.1ms\n",
            "video 1/1 (frame 18231/19159) /content/drive/MyDrive/punches/yolov10/test2.mp4: 384x640 1 jab, 13.7ms\n",
            "video 1/1 (frame 18232/19159) /content/drive/MyDrive/punches/yolov10/test2.mp4: 384x640 1 jab, 21.4ms\n",
            "video 1/1 (frame 18233/19159) /content/drive/MyDrive/punches/yolov10/test2.mp4: 384x640 1 jab, 17.1ms\n",
            "video 1/1 (frame 18234/19159) /content/drive/MyDrive/punches/yolov10/test2.mp4: 384x640 (no detections), 15.2ms\n",
            "video 1/1 (frame 18235/19159) /content/drive/MyDrive/punches/yolov10/test2.mp4: 384x640 (no detections), 26.3ms\n",
            "video 1/1 (frame 18236/19159) /content/drive/MyDrive/punches/yolov10/test2.mp4: 384x640 (no detections), 30.1ms\n",
            "video 1/1 (frame 18237/19159) /content/drive/MyDrive/punches/yolov10/test2.mp4: 384x640 (no detections), 23.8ms\n",
            "video 1/1 (frame 18238/19159) /content/drive/MyDrive/punches/yolov10/test2.mp4: 384x640 (no detections), 22.5ms\n",
            "video 1/1 (frame 18239/19159) /content/drive/MyDrive/punches/yolov10/test2.mp4: 384x640 (no detections), 16.1ms\n",
            "video 1/1 (frame 18240/19159) /content/drive/MyDrive/punches/yolov10/test2.mp4: 384x640 (no detections), 16.4ms\n",
            "video 1/1 (frame 18241/19159) /content/drive/MyDrive/punches/yolov10/test2.mp4: 384x640 (no detections), 17.5ms\n",
            "video 1/1 (frame 18242/19159) /content/drive/MyDrive/punches/yolov10/test2.mp4: 384x640 (no detections), 18.3ms\n",
            "video 1/1 (frame 18243/19159) /content/drive/MyDrive/punches/yolov10/test2.mp4: 384x640 (no detections), 21.3ms\n",
            "video 1/1 (frame 18244/19159) /content/drive/MyDrive/punches/yolov10/test2.mp4: 384x640 (no detections), 14.9ms\n",
            "video 1/1 (frame 18245/19159) /content/drive/MyDrive/punches/yolov10/test2.mp4: 384x640 (no detections), 15.7ms\n",
            "video 1/1 (frame 18246/19159) /content/drive/MyDrive/punches/yolov10/test2.mp4: 384x640 (no detections), 14.2ms\n",
            "video 1/1 (frame 18247/19159) /content/drive/MyDrive/punches/yolov10/test2.mp4: 384x640 (no detections), 20.5ms\n",
            "video 1/1 (frame 18248/19159) /content/drive/MyDrive/punches/yolov10/test2.mp4: 384x640 (no detections), 19.9ms\n",
            "video 1/1 (frame 18249/19159) /content/drive/MyDrive/punches/yolov10/test2.mp4: 384x640 (no detections), 20.6ms\n",
            "video 1/1 (frame 18250/19159) /content/drive/MyDrive/punches/yolov10/test2.mp4: 384x640 (no detections), 14.2ms\n",
            "video 1/1 (frame 18251/19159) /content/drive/MyDrive/punches/yolov10/test2.mp4: 384x640 1 jab, 14.6ms\n",
            "video 1/1 (frame 18252/19159) /content/drive/MyDrive/punches/yolov10/test2.mp4: 384x640 1 jab, 18.3ms\n",
            "video 1/1 (frame 18253/19159) /content/drive/MyDrive/punches/yolov10/test2.mp4: 384x640 1 jab, 13.0ms\n",
            "video 1/1 (frame 18254/19159) /content/drive/MyDrive/punches/yolov10/test2.mp4: 384x640 1 jab, 13.4ms\n",
            "video 1/1 (frame 18255/19159) /content/drive/MyDrive/punches/yolov10/test2.mp4: 384x640 1 jab, 15.7ms\n",
            "video 1/1 (frame 18256/19159) /content/drive/MyDrive/punches/yolov10/test2.mp4: 384x640 (no detections), 15.4ms\n",
            "video 1/1 (frame 18257/19159) /content/drive/MyDrive/punches/yolov10/test2.mp4: 384x640 1 jab, 14.0ms\n",
            "video 1/1 (frame 18258/19159) /content/drive/MyDrive/punches/yolov10/test2.mp4: 384x640 (no detections), 15.3ms\n",
            "video 1/1 (frame 18259/19159) /content/drive/MyDrive/punches/yolov10/test2.mp4: 384x640 1 jab, 18.2ms\n",
            "video 1/1 (frame 18260/19159) /content/drive/MyDrive/punches/yolov10/test2.mp4: 384x640 1 jab, 18.4ms\n",
            "video 1/1 (frame 18261/19159) /content/drive/MyDrive/punches/yolov10/test2.mp4: 384x640 1 jab, 22.3ms\n",
            "video 1/1 (frame 18262/19159) /content/drive/MyDrive/punches/yolov10/test2.mp4: 384x640 1 jab, 16.8ms\n",
            "video 1/1 (frame 18263/19159) /content/drive/MyDrive/punches/yolov10/test2.mp4: 384x640 1 jab, 14.4ms\n",
            "video 1/1 (frame 18264/19159) /content/drive/MyDrive/punches/yolov10/test2.mp4: 384x640 1 jab, 14.5ms\n",
            "video 1/1 (frame 18265/19159) /content/drive/MyDrive/punches/yolov10/test2.mp4: 384x640 2 jabs, 14.4ms\n",
            "video 1/1 (frame 18266/19159) /content/drive/MyDrive/punches/yolov10/test2.mp4: 384x640 1 jab, 18.7ms\n",
            "video 1/1 (frame 18267/19159) /content/drive/MyDrive/punches/yolov10/test2.mp4: 384x640 1 jab, 19.1ms\n",
            "video 1/1 (frame 18268/19159) /content/drive/MyDrive/punches/yolov10/test2.mp4: 384x640 1 jab, 15.4ms\n",
            "video 1/1 (frame 18269/19159) /content/drive/MyDrive/punches/yolov10/test2.mp4: 384x640 (no detections), 16.3ms\n",
            "video 1/1 (frame 18270/19159) /content/drive/MyDrive/punches/yolov10/test2.mp4: 384x640 1 jab, 18.0ms\n",
            "video 1/1 (frame 18271/19159) /content/drive/MyDrive/punches/yolov10/test2.mp4: 384x640 1 jab, 33.8ms\n",
            "video 1/1 (frame 18272/19159) /content/drive/MyDrive/punches/yolov10/test2.mp4: 384x640 1 jab, 13.2ms\n",
            "video 1/1 (frame 18273/19159) /content/drive/MyDrive/punches/yolov10/test2.mp4: 384x640 1 jab, 15.8ms\n",
            "video 1/1 (frame 18274/19159) /content/drive/MyDrive/punches/yolov10/test2.mp4: 384x640 1 jab, 13.4ms\n",
            "video 1/1 (frame 18275/19159) /content/drive/MyDrive/punches/yolov10/test2.mp4: 384x640 1 jab, 14.3ms\n",
            "video 1/1 (frame 18276/19159) /content/drive/MyDrive/punches/yolov10/test2.mp4: 384x640 1 jab, 13.1ms\n",
            "video 1/1 (frame 18277/19159) /content/drive/MyDrive/punches/yolov10/test2.mp4: 384x640 1 jab, 13.1ms\n",
            "video 1/1 (frame 18278/19159) /content/drive/MyDrive/punches/yolov10/test2.mp4: 384x640 1 jab, 14.1ms\n",
            "video 1/1 (frame 18279/19159) /content/drive/MyDrive/punches/yolov10/test2.mp4: 384x640 1 jab, 16.8ms\n",
            "video 1/1 (frame 18280/19159) /content/drive/MyDrive/punches/yolov10/test2.mp4: 384x640 1 jab, 15.8ms\n",
            "video 1/1 (frame 18281/19159) /content/drive/MyDrive/punches/yolov10/test2.mp4: 384x640 1 jab, 13.6ms\n",
            "video 1/1 (frame 18282/19159) /content/drive/MyDrive/punches/yolov10/test2.mp4: 384x640 1 jab, 13.4ms\n",
            "video 1/1 (frame 18283/19159) /content/drive/MyDrive/punches/yolov10/test2.mp4: 384x640 1 jab, 13.5ms\n",
            "video 1/1 (frame 18284/19159) /content/drive/MyDrive/punches/yolov10/test2.mp4: 384x640 1 jab, 14.5ms\n",
            "video 1/1 (frame 18285/19159) /content/drive/MyDrive/punches/yolov10/test2.mp4: 384x640 1 jab, 17.3ms\n",
            "video 1/1 (frame 18286/19159) /content/drive/MyDrive/punches/yolov10/test2.mp4: 384x640 1 jab, 14.0ms\n",
            "video 1/1 (frame 18287/19159) /content/drive/MyDrive/punches/yolov10/test2.mp4: 384x640 (no detections), 13.8ms\n",
            "video 1/1 (frame 18288/19159) /content/drive/MyDrive/punches/yolov10/test2.mp4: 384x640 1 jab, 13.2ms\n",
            "video 1/1 (frame 18289/19159) /content/drive/MyDrive/punches/yolov10/test2.mp4: 384x640 1 jab, 21.4ms\n",
            "video 1/1 (frame 18290/19159) /content/drive/MyDrive/punches/yolov10/test2.mp4: 384x640 1 jab, 19.0ms\n",
            "video 1/1 (frame 18291/19159) /content/drive/MyDrive/punches/yolov10/test2.mp4: 384x640 (no detections), 17.4ms\n",
            "video 1/1 (frame 18292/19159) /content/drive/MyDrive/punches/yolov10/test2.mp4: 384x640 (no detections), 22.1ms\n",
            "video 1/1 (frame 18293/19159) /content/drive/MyDrive/punches/yolov10/test2.mp4: 384x640 (no detections), 22.0ms\n",
            "video 1/1 (frame 18294/19159) /content/drive/MyDrive/punches/yolov10/test2.mp4: 384x640 (no detections), 18.4ms\n",
            "video 1/1 (frame 18295/19159) /content/drive/MyDrive/punches/yolov10/test2.mp4: 384x640 (no detections), 15.3ms\n",
            "video 1/1 (frame 18296/19159) /content/drive/MyDrive/punches/yolov10/test2.mp4: 384x640 (no detections), 17.5ms\n",
            "video 1/1 (frame 18297/19159) /content/drive/MyDrive/punches/yolov10/test2.mp4: 384x640 (no detections), 15.7ms\n",
            "video 1/1 (frame 18298/19159) /content/drive/MyDrive/punches/yolov10/test2.mp4: 384x640 (no detections), 14.2ms\n",
            "video 1/1 (frame 18299/19159) /content/drive/MyDrive/punches/yolov10/test2.mp4: 384x640 (no detections), 17.2ms\n",
            "video 1/1 (frame 18300/19159) /content/drive/MyDrive/punches/yolov10/test2.mp4: 384x640 (no detections), 20.1ms\n",
            "video 1/1 (frame 18301/19159) /content/drive/MyDrive/punches/yolov10/test2.mp4: 384x640 (no detections), 22.2ms\n",
            "video 1/1 (frame 18302/19159) /content/drive/MyDrive/punches/yolov10/test2.mp4: 384x640 (no detections), 23.2ms\n",
            "video 1/1 (frame 18303/19159) /content/drive/MyDrive/punches/yolov10/test2.mp4: 384x640 (no detections), 28.1ms\n",
            "video 1/1 (frame 18304/19159) /content/drive/MyDrive/punches/yolov10/test2.mp4: 384x640 (no detections), 19.2ms\n",
            "video 1/1 (frame 18305/19159) /content/drive/MyDrive/punches/yolov10/test2.mp4: 384x640 (no detections), 15.3ms\n",
            "video 1/1 (frame 18306/19159) /content/drive/MyDrive/punches/yolov10/test2.mp4: 384x640 1 jab, 19.1ms\n",
            "video 1/1 (frame 18307/19159) /content/drive/MyDrive/punches/yolov10/test2.mp4: 384x640 (no detections), 17.0ms\n",
            "video 1/1 (frame 18308/19159) /content/drive/MyDrive/punches/yolov10/test2.mp4: 384x640 (no detections), 19.4ms\n",
            "video 1/1 (frame 18309/19159) /content/drive/MyDrive/punches/yolov10/test2.mp4: 384x640 (no detections), 29.4ms\n",
            "video 1/1 (frame 18310/19159) /content/drive/MyDrive/punches/yolov10/test2.mp4: 384x640 (no detections), 20.5ms\n",
            "video 1/1 (frame 18311/19159) /content/drive/MyDrive/punches/yolov10/test2.mp4: 384x640 (no detections), 35.9ms\n",
            "video 1/1 (frame 18312/19159) /content/drive/MyDrive/punches/yolov10/test2.mp4: 384x640 (no detections), 17.3ms\n",
            "video 1/1 (frame 18313/19159) /content/drive/MyDrive/punches/yolov10/test2.mp4: 384x640 (no detections), 17.6ms\n",
            "video 1/1 (frame 18314/19159) /content/drive/MyDrive/punches/yolov10/test2.mp4: 384x640 (no detections), 18.6ms\n",
            "video 1/1 (frame 18315/19159) /content/drive/MyDrive/punches/yolov10/test2.mp4: 384x640 (no detections), 17.0ms\n",
            "video 1/1 (frame 18316/19159) /content/drive/MyDrive/punches/yolov10/test2.mp4: 384x640 (no detections), 17.3ms\n",
            "video 1/1 (frame 18317/19159) /content/drive/MyDrive/punches/yolov10/test2.mp4: 384x640 (no detections), 17.5ms\n",
            "video 1/1 (frame 18318/19159) /content/drive/MyDrive/punches/yolov10/test2.mp4: 384x640 (no detections), 21.3ms\n",
            "video 1/1 (frame 18319/19159) /content/drive/MyDrive/punches/yolov10/test2.mp4: 384x640 (no detections), 17.3ms\n",
            "video 1/1 (frame 18320/19159) /content/drive/MyDrive/punches/yolov10/test2.mp4: 384x640 (no detections), 15.6ms\n",
            "video 1/1 (frame 18321/19159) /content/drive/MyDrive/punches/yolov10/test2.mp4: 384x640 (no detections), 16.5ms\n",
            "video 1/1 (frame 18322/19159) /content/drive/MyDrive/punches/yolov10/test2.mp4: 384x640 (no detections), 18.6ms\n",
            "video 1/1 (frame 18323/19159) /content/drive/MyDrive/punches/yolov10/test2.mp4: 384x640 (no detections), 45.4ms\n",
            "video 1/1 (frame 18324/19159) /content/drive/MyDrive/punches/yolov10/test2.mp4: 384x640 (no detections), 33.7ms\n",
            "video 1/1 (frame 18325/19159) /content/drive/MyDrive/punches/yolov10/test2.mp4: 384x640 (no detections), 23.4ms\n",
            "video 1/1 (frame 18326/19159) /content/drive/MyDrive/punches/yolov10/test2.mp4: 384x640 (no detections), 20.6ms\n",
            "video 1/1 (frame 18327/19159) /content/drive/MyDrive/punches/yolov10/test2.mp4: 384x640 (no detections), 19.0ms\n",
            "video 1/1 (frame 18328/19159) /content/drive/MyDrive/punches/yolov10/test2.mp4: 384x640 2 jabs, 19.7ms\n",
            "video 1/1 (frame 18329/19159) /content/drive/MyDrive/punches/yolov10/test2.mp4: 384x640 (no detections), 28.9ms\n",
            "video 1/1 (frame 18330/19159) /content/drive/MyDrive/punches/yolov10/test2.mp4: 384x640 (no detections), 27.1ms\n",
            "video 1/1 (frame 18331/19159) /content/drive/MyDrive/punches/yolov10/test2.mp4: 384x640 (no detections), 21.9ms\n",
            "video 1/1 (frame 18332/19159) /content/drive/MyDrive/punches/yolov10/test2.mp4: 384x640 (no detections), 21.1ms\n",
            "video 1/1 (frame 18333/19159) /content/drive/MyDrive/punches/yolov10/test2.mp4: 384x640 (no detections), 24.8ms\n",
            "video 1/1 (frame 18334/19159) /content/drive/MyDrive/punches/yolov10/test2.mp4: 384x640 (no detections), 19.1ms\n",
            "video 1/1 (frame 18335/19159) /content/drive/MyDrive/punches/yolov10/test2.mp4: 384x640 (no detections), 20.3ms\n",
            "video 1/1 (frame 18336/19159) /content/drive/MyDrive/punches/yolov10/test2.mp4: 384x640 (no detections), 12.0ms\n",
            "video 1/1 (frame 18337/19159) /content/drive/MyDrive/punches/yolov10/test2.mp4: 384x640 1 jab, 10.4ms\n",
            "video 1/1 (frame 18338/19159) /content/drive/MyDrive/punches/yolov10/test2.mp4: 384x640 (no detections), 10.3ms\n",
            "video 1/1 (frame 18339/19159) /content/drive/MyDrive/punches/yolov10/test2.mp4: 384x640 (no detections), 11.6ms\n",
            "video 1/1 (frame 18340/19159) /content/drive/MyDrive/punches/yolov10/test2.mp4: 384x640 (no detections), 18.2ms\n",
            "video 1/1 (frame 18341/19159) /content/drive/MyDrive/punches/yolov10/test2.mp4: 384x640 (no detections), 11.2ms\n",
            "video 1/1 (frame 18342/19159) /content/drive/MyDrive/punches/yolov10/test2.mp4: 384x640 (no detections), 10.4ms\n",
            "video 1/1 (frame 18343/19159) /content/drive/MyDrive/punches/yolov10/test2.mp4: 384x640 (no detections), 10.6ms\n",
            "video 1/1 (frame 18344/19159) /content/drive/MyDrive/punches/yolov10/test2.mp4: 384x640 (no detections), 10.6ms\n",
            "video 1/1 (frame 18345/19159) /content/drive/MyDrive/punches/yolov10/test2.mp4: 384x640 (no detections), 10.7ms\n",
            "video 1/1 (frame 18346/19159) /content/drive/MyDrive/punches/yolov10/test2.mp4: 384x640 (no detections), 10.2ms\n",
            "video 1/1 (frame 18347/19159) /content/drive/MyDrive/punches/yolov10/test2.mp4: 384x640 (no detections), 10.0ms\n",
            "video 1/1 (frame 18348/19159) /content/drive/MyDrive/punches/yolov10/test2.mp4: 384x640 (no detections), 10.1ms\n",
            "video 1/1 (frame 18349/19159) /content/drive/MyDrive/punches/yolov10/test2.mp4: 384x640 (no detections), 13.0ms\n",
            "video 1/1 (frame 18350/19159) /content/drive/MyDrive/punches/yolov10/test2.mp4: 384x640 (no detections), 10.5ms\n",
            "video 1/1 (frame 18351/19159) /content/drive/MyDrive/punches/yolov10/test2.mp4: 384x640 (no detections), 11.2ms\n",
            "video 1/1 (frame 18352/19159) /content/drive/MyDrive/punches/yolov10/test2.mp4: 384x640 (no detections), 10.5ms\n",
            "video 1/1 (frame 18353/19159) /content/drive/MyDrive/punches/yolov10/test2.mp4: 384x640 (no detections), 10.8ms\n",
            "video 1/1 (frame 18354/19159) /content/drive/MyDrive/punches/yolov10/test2.mp4: 384x640 (no detections), 10.2ms\n",
            "video 1/1 (frame 18355/19159) /content/drive/MyDrive/punches/yolov10/test2.mp4: 384x640 (no detections), 10.1ms\n",
            "video 1/1 (frame 18356/19159) /content/drive/MyDrive/punches/yolov10/test2.mp4: 384x640 (no detections), 10.3ms\n",
            "video 1/1 (frame 18357/19159) /content/drive/MyDrive/punches/yolov10/test2.mp4: 384x640 1 jab, 17.7ms\n",
            "video 1/1 (frame 18358/19159) /content/drive/MyDrive/punches/yolov10/test2.mp4: 384x640 2 jabs, 12.9ms\n",
            "video 1/1 (frame 18359/19159) /content/drive/MyDrive/punches/yolov10/test2.mp4: 384x640 1 jab, 21.1ms\n",
            "video 1/1 (frame 18360/19159) /content/drive/MyDrive/punches/yolov10/test2.mp4: 384x640 (no detections), 10.3ms\n",
            "video 1/1 (frame 18361/19159) /content/drive/MyDrive/punches/yolov10/test2.mp4: 384x640 (no detections), 10.5ms\n",
            "video 1/1 (frame 18362/19159) /content/drive/MyDrive/punches/yolov10/test2.mp4: 384x640 1 jab, 10.7ms\n",
            "video 1/1 (frame 18363/19159) /content/drive/MyDrive/punches/yolov10/test2.mp4: 384x640 1 jab, 10.1ms\n",
            "video 1/1 (frame 18364/19159) /content/drive/MyDrive/punches/yolov10/test2.mp4: 384x640 1 jab, 10.0ms\n",
            "video 1/1 (frame 18365/19159) /content/drive/MyDrive/punches/yolov10/test2.mp4: 384x640 1 jab, 10.5ms\n",
            "video 1/1 (frame 18366/19159) /content/drive/MyDrive/punches/yolov10/test2.mp4: 384x640 1 jab, 11.5ms\n",
            "video 1/1 (frame 18367/19159) /content/drive/MyDrive/punches/yolov10/test2.mp4: 384x640 1 jab, 10.2ms\n",
            "video 1/1 (frame 18368/19159) /content/drive/MyDrive/punches/yolov10/test2.mp4: 384x640 1 jab, 14.6ms\n",
            "video 1/1 (frame 18369/19159) /content/drive/MyDrive/punches/yolov10/test2.mp4: 384x640 (no detections), 10.9ms\n",
            "video 1/1 (frame 18370/19159) /content/drive/MyDrive/punches/yolov10/test2.mp4: 384x640 1 jab, 11.8ms\n",
            "video 1/1 (frame 18371/19159) /content/drive/MyDrive/punches/yolov10/test2.mp4: 384x640 2 jabs, 10.3ms\n",
            "video 1/1 (frame 18372/19159) /content/drive/MyDrive/punches/yolov10/test2.mp4: 384x640 (no detections), 10.1ms\n",
            "video 1/1 (frame 18373/19159) /content/drive/MyDrive/punches/yolov10/test2.mp4: 384x640 (no detections), 10.6ms\n",
            "video 1/1 (frame 18374/19159) /content/drive/MyDrive/punches/yolov10/test2.mp4: 384x640 (no detections), 10.4ms\n",
            "video 1/1 (frame 18375/19159) /content/drive/MyDrive/punches/yolov10/test2.mp4: 384x640 (no detections), 10.2ms\n",
            "video 1/1 (frame 18376/19159) /content/drive/MyDrive/punches/yolov10/test2.mp4: 384x640 (no detections), 9.9ms\n",
            "video 1/1 (frame 18377/19159) /content/drive/MyDrive/punches/yolov10/test2.mp4: 384x640 (no detections), 10.2ms\n",
            "video 1/1 (frame 18378/19159) /content/drive/MyDrive/punches/yolov10/test2.mp4: 384x640 (no detections), 10.2ms\n",
            "video 1/1 (frame 18379/19159) /content/drive/MyDrive/punches/yolov10/test2.mp4: 384x640 3 jabs, 11.1ms\n",
            "video 1/1 (frame 18380/19159) /content/drive/MyDrive/punches/yolov10/test2.mp4: 384x640 1 jab, 10.7ms\n",
            "video 1/1 (frame 18381/19159) /content/drive/MyDrive/punches/yolov10/test2.mp4: 384x640 1 jab, 10.5ms\n",
            "video 1/1 (frame 18382/19159) /content/drive/MyDrive/punches/yolov10/test2.mp4: 384x640 1 jab, 12.5ms\n",
            "video 1/1 (frame 18383/19159) /content/drive/MyDrive/punches/yolov10/test2.mp4: 384x640 1 jab, 11.3ms\n",
            "video 1/1 (frame 18384/19159) /content/drive/MyDrive/punches/yolov10/test2.mp4: 384x640 1 jab, 17.6ms\n",
            "video 1/1 (frame 18385/19159) /content/drive/MyDrive/punches/yolov10/test2.mp4: 384x640 (no detections), 17.3ms\n",
            "video 1/1 (frame 18386/19159) /content/drive/MyDrive/punches/yolov10/test2.mp4: 384x640 2 jabs, 10.7ms\n",
            "video 1/1 (frame 18387/19159) /content/drive/MyDrive/punches/yolov10/test2.mp4: 384x640 1 jab, 10.5ms\n",
            "video 1/1 (frame 18388/19159) /content/drive/MyDrive/punches/yolov10/test2.mp4: 384x640 1 jab, 10.3ms\n",
            "video 1/1 (frame 18389/19159) /content/drive/MyDrive/punches/yolov10/test2.mp4: 384x640 1 jab, 11.0ms\n",
            "video 1/1 (frame 18390/19159) /content/drive/MyDrive/punches/yolov10/test2.mp4: 384x640 1 jab, 13.1ms\n",
            "video 1/1 (frame 18391/19159) /content/drive/MyDrive/punches/yolov10/test2.mp4: 384x640 1 jab, 11.8ms\n",
            "video 1/1 (frame 18392/19159) /content/drive/MyDrive/punches/yolov10/test2.mp4: 384x640 1 jab, 9.9ms\n",
            "video 1/1 (frame 18393/19159) /content/drive/MyDrive/punches/yolov10/test2.mp4: 384x640 1 jab, 9.9ms\n",
            "video 1/1 (frame 18394/19159) /content/drive/MyDrive/punches/yolov10/test2.mp4: 384x640 1 jab, 10.0ms\n",
            "video 1/1 (frame 18395/19159) /content/drive/MyDrive/punches/yolov10/test2.mp4: 384x640 1 jab, 10.1ms\n",
            "video 1/1 (frame 18396/19159) /content/drive/MyDrive/punches/yolov10/test2.mp4: 384x640 1 jab, 10.3ms\n",
            "video 1/1 (frame 18397/19159) /content/drive/MyDrive/punches/yolov10/test2.mp4: 384x640 1 jab, 10.0ms\n",
            "video 1/1 (frame 18398/19159) /content/drive/MyDrive/punches/yolov10/test2.mp4: 384x640 (no detections), 10.3ms\n",
            "video 1/1 (frame 18399/19159) /content/drive/MyDrive/punches/yolov10/test2.mp4: 384x640 (no detections), 10.0ms\n",
            "video 1/1 (frame 18400/19159) /content/drive/MyDrive/punches/yolov10/test2.mp4: 384x640 (no detections), 10.1ms\n",
            "video 1/1 (frame 18401/19159) /content/drive/MyDrive/punches/yolov10/test2.mp4: 384x640 (no detections), 15.6ms\n",
            "video 1/1 (frame 18402/19159) /content/drive/MyDrive/punches/yolov10/test2.mp4: 384x640 (no detections), 12.1ms\n",
            "video 1/1 (frame 18403/19159) /content/drive/MyDrive/punches/yolov10/test2.mp4: 384x640 (no detections), 12.5ms\n",
            "video 1/1 (frame 18404/19159) /content/drive/MyDrive/punches/yolov10/test2.mp4: 384x640 (no detections), 10.7ms\n",
            "video 1/1 (frame 18405/19159) /content/drive/MyDrive/punches/yolov10/test2.mp4: 384x640 (no detections), 10.5ms\n",
            "video 1/1 (frame 18406/19159) /content/drive/MyDrive/punches/yolov10/test2.mp4: 384x640 (no detections), 11.1ms\n",
            "video 1/1 (frame 18407/19159) /content/drive/MyDrive/punches/yolov10/test2.mp4: 384x640 1 jab, 10.1ms\n",
            "video 1/1 (frame 18408/19159) /content/drive/MyDrive/punches/yolov10/test2.mp4: 384x640 2 jabs, 10.5ms\n",
            "video 1/1 (frame 18409/19159) /content/drive/MyDrive/punches/yolov10/test2.mp4: 384x640 1 jab, 10.6ms\n",
            "video 1/1 (frame 18410/19159) /content/drive/MyDrive/punches/yolov10/test2.mp4: 384x640 (no detections), 10.3ms\n",
            "video 1/1 (frame 18411/19159) /content/drive/MyDrive/punches/yolov10/test2.mp4: 384x640 (no detections), 11.9ms\n",
            "video 1/1 (frame 18412/19159) /content/drive/MyDrive/punches/yolov10/test2.mp4: 384x640 (no detections), 11.1ms\n",
            "video 1/1 (frame 18413/19159) /content/drive/MyDrive/punches/yolov10/test2.mp4: 384x640 (no detections), 11.5ms\n",
            "video 1/1 (frame 18414/19159) /content/drive/MyDrive/punches/yolov10/test2.mp4: 384x640 (no detections), 10.4ms\n",
            "video 1/1 (frame 18415/19159) /content/drive/MyDrive/punches/yolov10/test2.mp4: 384x640 (no detections), 10.6ms\n",
            "video 1/1 (frame 18416/19159) /content/drive/MyDrive/punches/yolov10/test2.mp4: 384x640 (no detections), 10.1ms\n",
            "video 1/1 (frame 18417/19159) /content/drive/MyDrive/punches/yolov10/test2.mp4: 384x640 1 jab, 10.4ms\n",
            "video 1/1 (frame 18418/19159) /content/drive/MyDrive/punches/yolov10/test2.mp4: 384x640 2 jabs, 15.0ms\n",
            "video 1/1 (frame 18419/19159) /content/drive/MyDrive/punches/yolov10/test2.mp4: 384x640 (no detections), 14.0ms\n",
            "video 1/1 (frame 18420/19159) /content/drive/MyDrive/punches/yolov10/test2.mp4: 384x640 (no detections), 10.6ms\n",
            "video 1/1 (frame 18421/19159) /content/drive/MyDrive/punches/yolov10/test2.mp4: 384x640 (no detections), 10.4ms\n",
            "video 1/1 (frame 18422/19159) /content/drive/MyDrive/punches/yolov10/test2.mp4: 384x640 1 jab, 10.5ms\n",
            "video 1/1 (frame 18423/19159) /content/drive/MyDrive/punches/yolov10/test2.mp4: 384x640 (no detections), 10.9ms\n",
            "video 1/1 (frame 18424/19159) /content/drive/MyDrive/punches/yolov10/test2.mp4: 384x640 (no detections), 10.0ms\n",
            "video 1/1 (frame 18425/19159) /content/drive/MyDrive/punches/yolov10/test2.mp4: 384x640 (no detections), 10.8ms\n",
            "video 1/1 (frame 18426/19159) /content/drive/MyDrive/punches/yolov10/test2.mp4: 384x640 (no detections), 11.4ms\n",
            "video 1/1 (frame 18427/19159) /content/drive/MyDrive/punches/yolov10/test2.mp4: 384x640 (no detections), 10.2ms\n",
            "video 1/1 (frame 18428/19159) /content/drive/MyDrive/punches/yolov10/test2.mp4: 384x640 (no detections), 10.4ms\n",
            "video 1/1 (frame 18429/19159) /content/drive/MyDrive/punches/yolov10/test2.mp4: 384x640 (no detections), 10.1ms\n",
            "video 1/1 (frame 18430/19159) /content/drive/MyDrive/punches/yolov10/test2.mp4: 384x640 (no detections), 15.3ms\n",
            "video 1/1 (frame 18431/19159) /content/drive/MyDrive/punches/yolov10/test2.mp4: 384x640 (no detections), 10.9ms\n",
            "video 1/1 (frame 18432/19159) /content/drive/MyDrive/punches/yolov10/test2.mp4: 384x640 (no detections), 11.1ms\n",
            "video 1/1 (frame 18433/19159) /content/drive/MyDrive/punches/yolov10/test2.mp4: 384x640 (no detections), 10.9ms\n",
            "video 1/1 (frame 18434/19159) /content/drive/MyDrive/punches/yolov10/test2.mp4: 384x640 (no detections), 10.9ms\n",
            "video 1/1 (frame 18435/19159) /content/drive/MyDrive/punches/yolov10/test2.mp4: 384x640 (no detections), 10.6ms\n",
            "video 1/1 (frame 18436/19159) /content/drive/MyDrive/punches/yolov10/test2.mp4: 384x640 (no detections), 11.6ms\n",
            "video 1/1 (frame 18437/19159) /content/drive/MyDrive/punches/yolov10/test2.mp4: 384x640 (no detections), 10.8ms\n",
            "video 1/1 (frame 18438/19159) /content/drive/MyDrive/punches/yolov10/test2.mp4: 384x640 (no detections), 10.9ms\n",
            "video 1/1 (frame 18439/19159) /content/drive/MyDrive/punches/yolov10/test2.mp4: 384x640 (no detections), 11.8ms\n",
            "video 1/1 (frame 18440/19159) /content/drive/MyDrive/punches/yolov10/test2.mp4: 384x640 (no detections), 11.2ms\n",
            "video 1/1 (frame 18441/19159) /content/drive/MyDrive/punches/yolov10/test2.mp4: 384x640 (no detections), 13.9ms\n",
            "video 1/1 (frame 18442/19159) /content/drive/MyDrive/punches/yolov10/test2.mp4: 384x640 (no detections), 10.2ms\n",
            "video 1/1 (frame 18443/19159) /content/drive/MyDrive/punches/yolov10/test2.mp4: 384x640 (no detections), 17.4ms\n",
            "video 1/1 (frame 18444/19159) /content/drive/MyDrive/punches/yolov10/test2.mp4: 384x640 (no detections), 11.3ms\n",
            "video 1/1 (frame 18445/19159) /content/drive/MyDrive/punches/yolov10/test2.mp4: 384x640 (no detections), 10.2ms\n",
            "video 1/1 (frame 18446/19159) /content/drive/MyDrive/punches/yolov10/test2.mp4: 384x640 (no detections), 10.6ms\n",
            "video 1/1 (frame 18447/19159) /content/drive/MyDrive/punches/yolov10/test2.mp4: 384x640 (no detections), 16.6ms\n",
            "video 1/1 (frame 18448/19159) /content/drive/MyDrive/punches/yolov10/test2.mp4: 384x640 1 jab, 12.1ms\n",
            "video 1/1 (frame 18449/19159) /content/drive/MyDrive/punches/yolov10/test2.mp4: 384x640 2 jabs, 11.9ms\n",
            "video 1/1 (frame 18450/19159) /content/drive/MyDrive/punches/yolov10/test2.mp4: 384x640 2 jabs, 10.2ms\n",
            "video 1/1 (frame 18451/19159) /content/drive/MyDrive/punches/yolov10/test2.mp4: 384x640 1 jab, 11.0ms\n",
            "video 1/1 (frame 18452/19159) /content/drive/MyDrive/punches/yolov10/test2.mp4: 384x640 (no detections), 11.1ms\n",
            "video 1/1 (frame 18453/19159) /content/drive/MyDrive/punches/yolov10/test2.mp4: 384x640 (no detections), 10.3ms\n",
            "video 1/1 (frame 18454/19159) /content/drive/MyDrive/punches/yolov10/test2.mp4: 384x640 (no detections), 10.0ms\n",
            "video 1/1 (frame 18455/19159) /content/drive/MyDrive/punches/yolov10/test2.mp4: 384x640 (no detections), 10.7ms\n",
            "video 1/1 (frame 18456/19159) /content/drive/MyDrive/punches/yolov10/test2.mp4: 384x640 (no detections), 10.1ms\n",
            "video 1/1 (frame 18457/19159) /content/drive/MyDrive/punches/yolov10/test2.mp4: 384x640 (no detections), 10.1ms\n",
            "video 1/1 (frame 18458/19159) /content/drive/MyDrive/punches/yolov10/test2.mp4: 384x640 (no detections), 11.0ms\n",
            "video 1/1 (frame 18459/19159) /content/drive/MyDrive/punches/yolov10/test2.mp4: 384x640 (no detections), 10.4ms\n",
            "video 1/1 (frame 18460/19159) /content/drive/MyDrive/punches/yolov10/test2.mp4: 384x640 (no detections), 10.4ms\n",
            "video 1/1 (frame 18461/19159) /content/drive/MyDrive/punches/yolov10/test2.mp4: 384x640 (no detections), 11.5ms\n",
            "video 1/1 (frame 18462/19159) /content/drive/MyDrive/punches/yolov10/test2.mp4: 384x640 1 jab, 10.1ms\n",
            "video 1/1 (frame 18463/19159) /content/drive/MyDrive/punches/yolov10/test2.mp4: 384x640 (no detections), 11.4ms\n",
            "video 1/1 (frame 18464/19159) /content/drive/MyDrive/punches/yolov10/test2.mp4: 384x640 1 jab, 11.2ms\n",
            "video 1/1 (frame 18465/19159) /content/drive/MyDrive/punches/yolov10/test2.mp4: 384x640 (no detections), 13.4ms\n",
            "video 1/1 (frame 18466/19159) /content/drive/MyDrive/punches/yolov10/test2.mp4: 384x640 (no detections), 10.6ms\n",
            "video 1/1 (frame 18467/19159) /content/drive/MyDrive/punches/yolov10/test2.mp4: 384x640 (no detections), 10.7ms\n",
            "video 1/1 (frame 18468/19159) /content/drive/MyDrive/punches/yolov10/test2.mp4: 384x640 1 jab, 10.4ms\n",
            "video 1/1 (frame 18469/19159) /content/drive/MyDrive/punches/yolov10/test2.mp4: 384x640 (no detections), 11.4ms\n",
            "video 1/1 (frame 18470/19159) /content/drive/MyDrive/punches/yolov10/test2.mp4: 384x640 1 jab, 11.1ms\n",
            "video 1/1 (frame 18471/19159) /content/drive/MyDrive/punches/yolov10/test2.mp4: 384x640 (no detections), 13.0ms\n",
            "video 1/1 (frame 18472/19159) /content/drive/MyDrive/punches/yolov10/test2.mp4: 384x640 (no detections), 10.7ms\n",
            "video 1/1 (frame 18473/19159) /content/drive/MyDrive/punches/yolov10/test2.mp4: 384x640 1 jab, 10.2ms\n",
            "video 1/1 (frame 18474/19159) /content/drive/MyDrive/punches/yolov10/test2.mp4: 384x640 1 jab, 9.9ms\n",
            "video 1/1 (frame 18475/19159) /content/drive/MyDrive/punches/yolov10/test2.mp4: 384x640 (no detections), 10.3ms\n",
            "video 1/1 (frame 18476/19159) /content/drive/MyDrive/punches/yolov10/test2.mp4: 384x640 (no detections), 14.3ms\n",
            "video 1/1 (frame 18477/19159) /content/drive/MyDrive/punches/yolov10/test2.mp4: 384x640 1 jab, 10.2ms\n",
            "video 1/1 (frame 18478/19159) /content/drive/MyDrive/punches/yolov10/test2.mp4: 384x640 2 jabs, 10.2ms\n",
            "video 1/1 (frame 18479/19159) /content/drive/MyDrive/punches/yolov10/test2.mp4: 384x640 (no detections), 10.3ms\n",
            "video 1/1 (frame 18480/19159) /content/drive/MyDrive/punches/yolov10/test2.mp4: 384x640 (no detections), 10.7ms\n",
            "video 1/1 (frame 18481/19159) /content/drive/MyDrive/punches/yolov10/test2.mp4: 384x640 1 jab, 10.5ms\n",
            "video 1/1 (frame 18482/19159) /content/drive/MyDrive/punches/yolov10/test2.mp4: 384x640 (no detections), 18.0ms\n",
            "video 1/1 (frame 18483/19159) /content/drive/MyDrive/punches/yolov10/test2.mp4: 384x640 1 jab, 11.8ms\n",
            "video 1/1 (frame 18484/19159) /content/drive/MyDrive/punches/yolov10/test2.mp4: 384x640 1 jab, 10.6ms\n",
            "video 1/1 (frame 18485/19159) /content/drive/MyDrive/punches/yolov10/test2.mp4: 384x640 1 jab, 10.7ms\n",
            "video 1/1 (frame 18486/19159) /content/drive/MyDrive/punches/yolov10/test2.mp4: 384x640 (no detections), 10.7ms\n",
            "video 1/1 (frame 18487/19159) /content/drive/MyDrive/punches/yolov10/test2.mp4: 384x640 (no detections), 10.9ms\n",
            "video 1/1 (frame 18488/19159) /content/drive/MyDrive/punches/yolov10/test2.mp4: 384x640 (no detections), 10.4ms\n",
            "video 1/1 (frame 18489/19159) /content/drive/MyDrive/punches/yolov10/test2.mp4: 384x640 (no detections), 10.3ms\n",
            "video 1/1 (frame 18490/19159) /content/drive/MyDrive/punches/yolov10/test2.mp4: 384x640 (no detections), 10.8ms\n",
            "video 1/1 (frame 18491/19159) /content/drive/MyDrive/punches/yolov10/test2.mp4: 384x640 (no detections), 10.8ms\n",
            "video 1/1 (frame 18492/19159) /content/drive/MyDrive/punches/yolov10/test2.mp4: 384x640 (no detections), 10.1ms\n",
            "video 1/1 (frame 18493/19159) /content/drive/MyDrive/punches/yolov10/test2.mp4: 384x640 (no detections), 10.5ms\n",
            "video 1/1 (frame 18494/19159) /content/drive/MyDrive/punches/yolov10/test2.mp4: 384x640 (no detections), 11.2ms\n",
            "video 1/1 (frame 18495/19159) /content/drive/MyDrive/punches/yolov10/test2.mp4: 384x640 1 jab, 11.1ms\n",
            "video 1/1 (frame 18496/19159) /content/drive/MyDrive/punches/yolov10/test2.mp4: 384x640 (no detections), 10.7ms\n",
            "video 1/1 (frame 18497/19159) /content/drive/MyDrive/punches/yolov10/test2.mp4: 384x640 (no detections), 10.5ms\n",
            "video 1/1 (frame 18498/19159) /content/drive/MyDrive/punches/yolov10/test2.mp4: 384x640 (no detections), 12.4ms\n",
            "video 1/1 (frame 18499/19159) /content/drive/MyDrive/punches/yolov10/test2.mp4: 384x640 1 jab, 13.7ms\n",
            "video 1/1 (frame 18500/19159) /content/drive/MyDrive/punches/yolov10/test2.mp4: 384x640 (no detections), 12.5ms\n",
            "video 1/1 (frame 18501/19159) /content/drive/MyDrive/punches/yolov10/test2.mp4: 384x640 (no detections), 11.2ms\n",
            "video 1/1 (frame 18502/19159) /content/drive/MyDrive/punches/yolov10/test2.mp4: 384x640 (no detections), 18.0ms\n",
            "video 1/1 (frame 18503/19159) /content/drive/MyDrive/punches/yolov10/test2.mp4: 384x640 (no detections), 11.4ms\n",
            "video 1/1 (frame 18504/19159) /content/drive/MyDrive/punches/yolov10/test2.mp4: 384x640 (no detections), 11.1ms\n",
            "video 1/1 (frame 18505/19159) /content/drive/MyDrive/punches/yolov10/test2.mp4: 384x640 (no detections), 10.8ms\n",
            "video 1/1 (frame 18506/19159) /content/drive/MyDrive/punches/yolov10/test2.mp4: 384x640 (no detections), 10.6ms\n",
            "video 1/1 (frame 18507/19159) /content/drive/MyDrive/punches/yolov10/test2.mp4: 384x640 (no detections), 10.3ms\n",
            "video 1/1 (frame 18508/19159) /content/drive/MyDrive/punches/yolov10/test2.mp4: 384x640 1 jab, 10.0ms\n",
            "video 1/1 (frame 18509/19159) /content/drive/MyDrive/punches/yolov10/test2.mp4: 384x640 (no detections), 10.1ms\n",
            "video 1/1 (frame 18510/19159) /content/drive/MyDrive/punches/yolov10/test2.mp4: 384x640 2 jabs, 10.6ms\n",
            "video 1/1 (frame 18511/19159) /content/drive/MyDrive/punches/yolov10/test2.mp4: 384x640 1 jab, 10.2ms\n",
            "video 1/1 (frame 18512/19159) /content/drive/MyDrive/punches/yolov10/test2.mp4: 384x640 1 jab, 10.8ms\n",
            "video 1/1 (frame 18513/19159) /content/drive/MyDrive/punches/yolov10/test2.mp4: 384x640 2 jabs, 10.2ms\n",
            "video 1/1 (frame 18514/19159) /content/drive/MyDrive/punches/yolov10/test2.mp4: 384x640 2 jabs, 10.1ms\n",
            "video 1/1 (frame 18515/19159) /content/drive/MyDrive/punches/yolov10/test2.mp4: 384x640 1 jab, 10.6ms\n",
            "video 1/1 (frame 18516/19159) /content/drive/MyDrive/punches/yolov10/test2.mp4: 384x640 1 jab, 15.5ms\n",
            "video 1/1 (frame 18517/19159) /content/drive/MyDrive/punches/yolov10/test2.mp4: 384x640 1 jab, 11.5ms\n",
            "video 1/1 (frame 18518/19159) /content/drive/MyDrive/punches/yolov10/test2.mp4: 384x640 1 jab, 12.9ms\n",
            "video 1/1 (frame 18519/19159) /content/drive/MyDrive/punches/yolov10/test2.mp4: 384x640 1 jab, 11.3ms\n",
            "video 1/1 (frame 18520/19159) /content/drive/MyDrive/punches/yolov10/test2.mp4: 384x640 1 jab, 11.5ms\n",
            "video 1/1 (frame 18521/19159) /content/drive/MyDrive/punches/yolov10/test2.mp4: 384x640 1 jab, 11.5ms\n",
            "video 1/1 (frame 18522/19159) /content/drive/MyDrive/punches/yolov10/test2.mp4: 384x640 (no detections), 11.2ms\n",
            "video 1/1 (frame 18523/19159) /content/drive/MyDrive/punches/yolov10/test2.mp4: 384x640 (no detections), 10.6ms\n",
            "video 1/1 (frame 18524/19159) /content/drive/MyDrive/punches/yolov10/test2.mp4: 384x640 (no detections), 11.3ms\n",
            "video 1/1 (frame 18525/19159) /content/drive/MyDrive/punches/yolov10/test2.mp4: 384x640 (no detections), 12.7ms\n",
            "video 1/1 (frame 18526/19159) /content/drive/MyDrive/punches/yolov10/test2.mp4: 384x640 (no detections), 10.4ms\n",
            "video 1/1 (frame 18527/19159) /content/drive/MyDrive/punches/yolov10/test2.mp4: 384x640 1 jab, 10.9ms\n",
            "video 1/1 (frame 18528/19159) /content/drive/MyDrive/punches/yolov10/test2.mp4: 384x640 1 jab, 12.2ms\n",
            "video 1/1 (frame 18529/19159) /content/drive/MyDrive/punches/yolov10/test2.mp4: 384x640 1 jab, 10.1ms\n",
            "video 1/1 (frame 18530/19159) /content/drive/MyDrive/punches/yolov10/test2.mp4: 384x640 1 jab, 10.9ms\n",
            "video 1/1 (frame 18531/19159) /content/drive/MyDrive/punches/yolov10/test2.mp4: 384x640 1 jab, 10.0ms\n",
            "video 1/1 (frame 18532/19159) /content/drive/MyDrive/punches/yolov10/test2.mp4: 384x640 1 jab, 9.9ms\n",
            "video 1/1 (frame 18533/19159) /content/drive/MyDrive/punches/yolov10/test2.mp4: 384x640 1 jab, 17.7ms\n",
            "video 1/1 (frame 18534/19159) /content/drive/MyDrive/punches/yolov10/test2.mp4: 384x640 1 jab, 10.8ms\n",
            "video 1/1 (frame 18535/19159) /content/drive/MyDrive/punches/yolov10/test2.mp4: 384x640 1 jab, 11.0ms\n",
            "video 1/1 (frame 18536/19159) /content/drive/MyDrive/punches/yolov10/test2.mp4: 384x640 1 jab, 10.3ms\n",
            "video 1/1 (frame 18537/19159) /content/drive/MyDrive/punches/yolov10/test2.mp4: 384x640 (no detections), 10.7ms\n",
            "video 1/1 (frame 18538/19159) /content/drive/MyDrive/punches/yolov10/test2.mp4: 384x640 (no detections), 11.2ms\n",
            "video 1/1 (frame 18539/19159) /content/drive/MyDrive/punches/yolov10/test2.mp4: 384x640 1 jab, 11.3ms\n",
            "video 1/1 (frame 18540/19159) /content/drive/MyDrive/punches/yolov10/test2.mp4: 384x640 (no detections), 10.7ms\n",
            "video 1/1 (frame 18541/19159) /content/drive/MyDrive/punches/yolov10/test2.mp4: 384x640 1 jab, 10.4ms\n",
            "video 1/1 (frame 18542/19159) /content/drive/MyDrive/punches/yolov10/test2.mp4: 384x640 (no detections), 10.6ms\n",
            "video 1/1 (frame 18543/19159) /content/drive/MyDrive/punches/yolov10/test2.mp4: 384x640 (no detections), 10.2ms\n",
            "video 1/1 (frame 18544/19159) /content/drive/MyDrive/punches/yolov10/test2.mp4: 384x640 (no detections), 10.6ms\n",
            "video 1/1 (frame 18545/19159) /content/drive/MyDrive/punches/yolov10/test2.mp4: 384x640 (no detections), 11.5ms\n",
            "video 1/1 (frame 18546/19159) /content/drive/MyDrive/punches/yolov10/test2.mp4: 384x640 (no detections), 12.9ms\n",
            "video 1/1 (frame 18547/19159) /content/drive/MyDrive/punches/yolov10/test2.mp4: 384x640 (no detections), 12.6ms\n",
            "video 1/1 (frame 18548/19159) /content/drive/MyDrive/punches/yolov10/test2.mp4: 384x640 (no detections), 12.1ms\n",
            "video 1/1 (frame 18549/19159) /content/drive/MyDrive/punches/yolov10/test2.mp4: 384x640 (no detections), 14.7ms\n",
            "video 1/1 (frame 18550/19159) /content/drive/MyDrive/punches/yolov10/test2.mp4: 384x640 (no detections), 15.3ms\n",
            "video 1/1 (frame 18551/19159) /content/drive/MyDrive/punches/yolov10/test2.mp4: 384x640 (no detections), 12.1ms\n",
            "video 1/1 (frame 18552/19159) /content/drive/MyDrive/punches/yolov10/test2.mp4: 384x640 (no detections), 11.0ms\n",
            "video 1/1 (frame 18553/19159) /content/drive/MyDrive/punches/yolov10/test2.mp4: 384x640 (no detections), 17.1ms\n",
            "video 1/1 (frame 18554/19159) /content/drive/MyDrive/punches/yolov10/test2.mp4: 384x640 (no detections), 11.7ms\n",
            "video 1/1 (frame 18555/19159) /content/drive/MyDrive/punches/yolov10/test2.mp4: 384x640 (no detections), 10.3ms\n",
            "video 1/1 (frame 18556/19159) /content/drive/MyDrive/punches/yolov10/test2.mp4: 384x640 (no detections), 10.4ms\n",
            "video 1/1 (frame 18557/19159) /content/drive/MyDrive/punches/yolov10/test2.mp4: 384x640 (no detections), 10.5ms\n",
            "video 1/1 (frame 18558/19159) /content/drive/MyDrive/punches/yolov10/test2.mp4: 384x640 (no detections), 11.1ms\n",
            "video 1/1 (frame 18559/19159) /content/drive/MyDrive/punches/yolov10/test2.mp4: 384x640 (no detections), 17.4ms\n",
            "video 1/1 (frame 18560/19159) /content/drive/MyDrive/punches/yolov10/test2.mp4: 384x640 1 jab, 10.5ms\n",
            "video 1/1 (frame 18561/19159) /content/drive/MyDrive/punches/yolov10/test2.mp4: 384x640 1 jab, 14.0ms\n",
            "video 1/1 (frame 18562/19159) /content/drive/MyDrive/punches/yolov10/test2.mp4: 384x640 1 jab, 10.1ms\n",
            "video 1/1 (frame 18563/19159) /content/drive/MyDrive/punches/yolov10/test2.mp4: 384x640 1 jab, 10.9ms\n",
            "video 1/1 (frame 18564/19159) /content/drive/MyDrive/punches/yolov10/test2.mp4: 384x640 1 jab, 11.1ms\n",
            "video 1/1 (frame 18565/19159) /content/drive/MyDrive/punches/yolov10/test2.mp4: 384x640 1 jab, 16.0ms\n",
            "video 1/1 (frame 18566/19159) /content/drive/MyDrive/punches/yolov10/test2.mp4: 384x640 1 jab, 12.2ms\n",
            "video 1/1 (frame 18567/19159) /content/drive/MyDrive/punches/yolov10/test2.mp4: 384x640 1 jab, 10.6ms\n",
            "video 1/1 (frame 18568/19159) /content/drive/MyDrive/punches/yolov10/test2.mp4: 384x640 1 jab, 10.3ms\n",
            "video 1/1 (frame 18569/19159) /content/drive/MyDrive/punches/yolov10/test2.mp4: 384x640 1 jab, 10.6ms\n",
            "video 1/1 (frame 18570/19159) /content/drive/MyDrive/punches/yolov10/test2.mp4: 384x640 2 jabs, 11.4ms\n",
            "video 1/1 (frame 18571/19159) /content/drive/MyDrive/punches/yolov10/test2.mp4: 384x640 2 jabs, 11.1ms\n",
            "video 1/1 (frame 18572/19159) /content/drive/MyDrive/punches/yolov10/test2.mp4: 384x640 2 jabs, 13.2ms\n",
            "video 1/1 (frame 18573/19159) /content/drive/MyDrive/punches/yolov10/test2.mp4: 384x640 1 jab, 10.3ms\n",
            "video 1/1 (frame 18574/19159) /content/drive/MyDrive/punches/yolov10/test2.mp4: 384x640 (no detections), 10.5ms\n",
            "video 1/1 (frame 18575/19159) /content/drive/MyDrive/punches/yolov10/test2.mp4: 384x640 1 jab, 10.5ms\n",
            "video 1/1 (frame 18576/19159) /content/drive/MyDrive/punches/yolov10/test2.mp4: 384x640 1 jab, 10.7ms\n",
            "video 1/1 (frame 18577/19159) /content/drive/MyDrive/punches/yolov10/test2.mp4: 384x640 3 jabs, 10.6ms\n",
            "video 1/1 (frame 18578/19159) /content/drive/MyDrive/punches/yolov10/test2.mp4: 384x640 1 jab, 10.3ms\n",
            "video 1/1 (frame 18579/19159) /content/drive/MyDrive/punches/yolov10/test2.mp4: 384x640 1 jab, 10.4ms\n",
            "video 1/1 (frame 18580/19159) /content/drive/MyDrive/punches/yolov10/test2.mp4: 384x640 1 jab, 12.3ms\n",
            "video 1/1 (frame 18581/19159) /content/drive/MyDrive/punches/yolov10/test2.mp4: 384x640 1 jab, 10.4ms\n",
            "video 1/1 (frame 18582/19159) /content/drive/MyDrive/punches/yolov10/test2.mp4: 384x640 1 jab, 19.0ms\n",
            "video 1/1 (frame 18583/19159) /content/drive/MyDrive/punches/yolov10/test2.mp4: 384x640 (no detections), 10.9ms\n",
            "video 1/1 (frame 18584/19159) /content/drive/MyDrive/punches/yolov10/test2.mp4: 384x640 (no detections), 10.7ms\n",
            "video 1/1 (frame 18585/19159) /content/drive/MyDrive/punches/yolov10/test2.mp4: 384x640 1 jab, 10.4ms\n",
            "video 1/1 (frame 18586/19159) /content/drive/MyDrive/punches/yolov10/test2.mp4: 384x640 1 jab, 10.1ms\n",
            "video 1/1 (frame 18587/19159) /content/drive/MyDrive/punches/yolov10/test2.mp4: 384x640 1 jab, 10.6ms\n",
            "video 1/1 (frame 18588/19159) /content/drive/MyDrive/punches/yolov10/test2.mp4: 384x640 (no detections), 10.3ms\n",
            "video 1/1 (frame 18589/19159) /content/drive/MyDrive/punches/yolov10/test2.mp4: 384x640 (no detections), 10.8ms\n",
            "video 1/1 (frame 18590/19159) /content/drive/MyDrive/punches/yolov10/test2.mp4: 384x640 (no detections), 9.9ms\n",
            "video 1/1 (frame 18591/19159) /content/drive/MyDrive/punches/yolov10/test2.mp4: 384x640 (no detections), 9.9ms\n",
            "video 1/1 (frame 18592/19159) /content/drive/MyDrive/punches/yolov10/test2.mp4: 384x640 (no detections), 10.5ms\n",
            "video 1/1 (frame 18593/19159) /content/drive/MyDrive/punches/yolov10/test2.mp4: 384x640 1 jab, 10.8ms\n",
            "video 1/1 (frame 18594/19159) /content/drive/MyDrive/punches/yolov10/test2.mp4: 384x640 (no detections), 10.9ms\n",
            "video 1/1 (frame 18595/19159) /content/drive/MyDrive/punches/yolov10/test2.mp4: 384x640 1 jab, 12.2ms\n",
            "video 1/1 (frame 18596/19159) /content/drive/MyDrive/punches/yolov10/test2.mp4: 384x640 (no detections), 10.2ms\n",
            "video 1/1 (frame 18597/19159) /content/drive/MyDrive/punches/yolov10/test2.mp4: 384x640 (no detections), 10.0ms\n",
            "video 1/1 (frame 18598/19159) /content/drive/MyDrive/punches/yolov10/test2.mp4: 384x640 (no detections), 10.3ms\n",
            "video 1/1 (frame 18599/19159) /content/drive/MyDrive/punches/yolov10/test2.mp4: 384x640 (no detections), 11.9ms\n",
            "video 1/1 (frame 18600/19159) /content/drive/MyDrive/punches/yolov10/test2.mp4: 384x640 (no detections), 13.1ms\n",
            "video 1/1 (frame 18601/19159) /content/drive/MyDrive/punches/yolov10/test2.mp4: 384x640 (no detections), 11.6ms\n",
            "video 1/1 (frame 18602/19159) /content/drive/MyDrive/punches/yolov10/test2.mp4: 384x640 1 jab, 10.8ms\n",
            "video 1/1 (frame 18603/19159) /content/drive/MyDrive/punches/yolov10/test2.mp4: 384x640 1 jab, 10.3ms\n",
            "video 1/1 (frame 18604/19159) /content/drive/MyDrive/punches/yolov10/test2.mp4: 384x640 2 jabs, 11.4ms\n",
            "video 1/1 (frame 18605/19159) /content/drive/MyDrive/punches/yolov10/test2.mp4: 384x640 1 jab, 11.6ms\n",
            "video 1/1 (frame 18606/19159) /content/drive/MyDrive/punches/yolov10/test2.mp4: 384x640 (no detections), 11.9ms\n",
            "video 1/1 (frame 18607/19159) /content/drive/MyDrive/punches/yolov10/test2.mp4: 384x640 (no detections), 10.7ms\n",
            "video 1/1 (frame 18608/19159) /content/drive/MyDrive/punches/yolov10/test2.mp4: 384x640 (no detections), 10.7ms\n",
            "video 1/1 (frame 18609/19159) /content/drive/MyDrive/punches/yolov10/test2.mp4: 384x640 (no detections), 14.3ms\n",
            "video 1/1 (frame 18610/19159) /content/drive/MyDrive/punches/yolov10/test2.mp4: 384x640 (no detections), 10.5ms\n",
            "video 1/1 (frame 18611/19159) /content/drive/MyDrive/punches/yolov10/test2.mp4: 384x640 (no detections), 10.7ms\n",
            "video 1/1 (frame 18612/19159) /content/drive/MyDrive/punches/yolov10/test2.mp4: 384x640 (no detections), 10.6ms\n",
            "video 1/1 (frame 18613/19159) /content/drive/MyDrive/punches/yolov10/test2.mp4: 384x640 (no detections), 10.1ms\n",
            "video 1/1 (frame 18614/19159) /content/drive/MyDrive/punches/yolov10/test2.mp4: 384x640 (no detections), 10.8ms\n",
            "video 1/1 (frame 18615/19159) /content/drive/MyDrive/punches/yolov10/test2.mp4: 384x640 (no detections), 10.5ms\n",
            "video 1/1 (frame 18616/19159) /content/drive/MyDrive/punches/yolov10/test2.mp4: 384x640 1 jab, 10.8ms\n",
            "video 1/1 (frame 18617/19159) /content/drive/MyDrive/punches/yolov10/test2.mp4: 384x640 (no detections), 21.8ms\n",
            "video 1/1 (frame 18618/19159) /content/drive/MyDrive/punches/yolov10/test2.mp4: 384x640 (no detections), 10.8ms\n",
            "video 1/1 (frame 18619/19159) /content/drive/MyDrive/punches/yolov10/test2.mp4: 384x640 (no detections), 11.5ms\n",
            "video 1/1 (frame 18620/19159) /content/drive/MyDrive/punches/yolov10/test2.mp4: 384x640 (no detections), 10.5ms\n",
            "video 1/1 (frame 18621/19159) /content/drive/MyDrive/punches/yolov10/test2.mp4: 384x640 (no detections), 10.5ms\n",
            "video 1/1 (frame 18622/19159) /content/drive/MyDrive/punches/yolov10/test2.mp4: 384x640 (no detections), 10.5ms\n",
            "video 1/1 (frame 18623/19159) /content/drive/MyDrive/punches/yolov10/test2.mp4: 384x640 (no detections), 10.3ms\n",
            "video 1/1 (frame 18624/19159) /content/drive/MyDrive/punches/yolov10/test2.mp4: 384x640 (no detections), 10.4ms\n",
            "video 1/1 (frame 18625/19159) /content/drive/MyDrive/punches/yolov10/test2.mp4: 384x640 (no detections), 10.6ms\n",
            "video 1/1 (frame 18626/19159) /content/drive/MyDrive/punches/yolov10/test2.mp4: 384x640 (no detections), 10.3ms\n",
            "video 1/1 (frame 18627/19159) /content/drive/MyDrive/punches/yolov10/test2.mp4: 384x640 (no detections), 10.8ms\n",
            "video 1/1 (frame 18628/19159) /content/drive/MyDrive/punches/yolov10/test2.mp4: 384x640 1 jab, 16.5ms\n",
            "video 1/1 (frame 18629/19159) /content/drive/MyDrive/punches/yolov10/test2.mp4: 384x640 1 jab, 11.3ms\n",
            "video 1/1 (frame 18630/19159) /content/drive/MyDrive/punches/yolov10/test2.mp4: 384x640 1 jab, 10.1ms\n",
            "video 1/1 (frame 18631/19159) /content/drive/MyDrive/punches/yolov10/test2.mp4: 384x640 1 jab, 10.5ms\n",
            "video 1/1 (frame 18632/19159) /content/drive/MyDrive/punches/yolov10/test2.mp4: 384x640 1 jab, 10.5ms\n",
            "video 1/1 (frame 18633/19159) /content/drive/MyDrive/punches/yolov10/test2.mp4: 384x640 1 jab, 10.9ms\n",
            "video 1/1 (frame 18634/19159) /content/drive/MyDrive/punches/yolov10/test2.mp4: 384x640 (no detections), 11.8ms\n",
            "video 1/1 (frame 18635/19159) /content/drive/MyDrive/punches/yolov10/test2.mp4: 384x640 (no detections), 11.1ms\n",
            "video 1/1 (frame 18636/19159) /content/drive/MyDrive/punches/yolov10/test2.mp4: 384x640 (no detections), 10.1ms\n",
            "video 1/1 (frame 18637/19159) /content/drive/MyDrive/punches/yolov10/test2.mp4: 384x640 (no detections), 12.0ms\n",
            "video 1/1 (frame 18638/19159) /content/drive/MyDrive/punches/yolov10/test2.mp4: 384x640 (no detections), 10.1ms\n",
            "video 1/1 (frame 18639/19159) /content/drive/MyDrive/punches/yolov10/test2.mp4: 384x640 (no detections), 10.3ms\n",
            "video 1/1 (frame 18640/19159) /content/drive/MyDrive/punches/yolov10/test2.mp4: 384x640 (no detections), 10.4ms\n",
            "video 1/1 (frame 18641/19159) /content/drive/MyDrive/punches/yolov10/test2.mp4: 384x640 (no detections), 9.8ms\n",
            "video 1/1 (frame 18642/19159) /content/drive/MyDrive/punches/yolov10/test2.mp4: 384x640 (no detections), 10.1ms\n",
            "video 1/1 (frame 18643/19159) /content/drive/MyDrive/punches/yolov10/test2.mp4: 384x640 (no detections), 10.0ms\n",
            "video 1/1 (frame 18644/19159) /content/drive/MyDrive/punches/yolov10/test2.mp4: 384x640 (no detections), 10.4ms\n",
            "video 1/1 (frame 18645/19159) /content/drive/MyDrive/punches/yolov10/test2.mp4: 384x640 (no detections), 12.6ms\n",
            "video 1/1 (frame 18646/19159) /content/drive/MyDrive/punches/yolov10/test2.mp4: 384x640 (no detections), 11.0ms\n",
            "video 1/1 (frame 18647/19159) /content/drive/MyDrive/punches/yolov10/test2.mp4: 384x640 (no detections), 10.5ms\n",
            "video 1/1 (frame 18648/19159) /content/drive/MyDrive/punches/yolov10/test2.mp4: 384x640 (no detections), 10.0ms\n",
            "video 1/1 (frame 18649/19159) /content/drive/MyDrive/punches/yolov10/test2.mp4: 384x640 (no detections), 10.1ms\n",
            "video 1/1 (frame 18650/19159) /content/drive/MyDrive/punches/yolov10/test2.mp4: 384x640 (no detections), 10.4ms\n",
            "video 1/1 (frame 18651/19159) /content/drive/MyDrive/punches/yolov10/test2.mp4: 384x640 (no detections), 10.9ms\n",
            "video 1/1 (frame 18652/19159) /content/drive/MyDrive/punches/yolov10/test2.mp4: 384x640 (no detections), 11.1ms\n",
            "video 1/1 (frame 18653/19159) /content/drive/MyDrive/punches/yolov10/test2.mp4: 384x640 (no detections), 10.6ms\n",
            "video 1/1 (frame 18654/19159) /content/drive/MyDrive/punches/yolov10/test2.mp4: 384x640 (no detections), 10.4ms\n",
            "video 1/1 (frame 18655/19159) /content/drive/MyDrive/punches/yolov10/test2.mp4: 384x640 (no detections), 10.1ms\n",
            "video 1/1 (frame 18656/19159) /content/drive/MyDrive/punches/yolov10/test2.mp4: 384x640 (no detections), 10.6ms\n",
            "video 1/1 (frame 18657/19159) /content/drive/MyDrive/punches/yolov10/test2.mp4: 384x640 (no detections), 10.6ms\n",
            "video 1/1 (frame 18658/19159) /content/drive/MyDrive/punches/yolov10/test2.mp4: 384x640 (no detections), 10.6ms\n",
            "video 1/1 (frame 18659/19159) /content/drive/MyDrive/punches/yolov10/test2.mp4: 384x640 (no detections), 10.1ms\n",
            "video 1/1 (frame 18660/19159) /content/drive/MyDrive/punches/yolov10/test2.mp4: 384x640 (no detections), 10.2ms\n",
            "video 1/1 (frame 18661/19159) /content/drive/MyDrive/punches/yolov10/test2.mp4: 384x640 (no detections), 10.1ms\n",
            "video 1/1 (frame 18662/19159) /content/drive/MyDrive/punches/yolov10/test2.mp4: 384x640 1 jab, 10.1ms\n",
            "video 1/1 (frame 18663/19159) /content/drive/MyDrive/punches/yolov10/test2.mp4: 384x640 1 jab, 10.3ms\n",
            "video 1/1 (frame 18664/19159) /content/drive/MyDrive/punches/yolov10/test2.mp4: 384x640 1 jab, 13.7ms\n",
            "video 1/1 (frame 18665/19159) /content/drive/MyDrive/punches/yolov10/test2.mp4: 384x640 1 jab, 11.3ms\n",
            "video 1/1 (frame 18666/19159) /content/drive/MyDrive/punches/yolov10/test2.mp4: 384x640 1 jab, 13.3ms\n",
            "video 1/1 (frame 18667/19159) /content/drive/MyDrive/punches/yolov10/test2.mp4: 384x640 1 jab, 14.3ms\n",
            "video 1/1 (frame 18668/19159) /content/drive/MyDrive/punches/yolov10/test2.mp4: 384x640 1 jab, 11.4ms\n",
            "video 1/1 (frame 18669/19159) /content/drive/MyDrive/punches/yolov10/test2.mp4: 384x640 1 jab, 10.8ms\n",
            "video 1/1 (frame 18670/19159) /content/drive/MyDrive/punches/yolov10/test2.mp4: 384x640 1 jab, 10.8ms\n",
            "video 1/1 (frame 18671/19159) /content/drive/MyDrive/punches/yolov10/test2.mp4: 384x640 1 jab, 14.2ms\n",
            "video 1/1 (frame 18672/19159) /content/drive/MyDrive/punches/yolov10/test2.mp4: 384x640 1 jab, 11.6ms\n",
            "video 1/1 (frame 18673/19159) /content/drive/MyDrive/punches/yolov10/test2.mp4: 384x640 1 jab, 11.3ms\n",
            "video 1/1 (frame 18674/19159) /content/drive/MyDrive/punches/yolov10/test2.mp4: 384x640 1 jab, 11.2ms\n",
            "video 1/1 (frame 18675/19159) /content/drive/MyDrive/punches/yolov10/test2.mp4: 384x640 1 jab, 18.7ms\n",
            "video 1/1 (frame 18676/19159) /content/drive/MyDrive/punches/yolov10/test2.mp4: 384x640 1 jab, 16.4ms\n",
            "video 1/1 (frame 18677/19159) /content/drive/MyDrive/punches/yolov10/test2.mp4: 384x640 1 jab, 16.9ms\n",
            "video 1/1 (frame 18678/19159) /content/drive/MyDrive/punches/yolov10/test2.mp4: 384x640 1 jab, 14.2ms\n",
            "video 1/1 (frame 18679/19159) /content/drive/MyDrive/punches/yolov10/test2.mp4: 384x640 1 jab, 10.9ms\n",
            "video 1/1 (frame 18680/19159) /content/drive/MyDrive/punches/yolov10/test2.mp4: 384x640 1 jab, 10.6ms\n",
            "video 1/1 (frame 18681/19159) /content/drive/MyDrive/punches/yolov10/test2.mp4: 384x640 1 jab, 10.3ms\n",
            "video 1/1 (frame 18682/19159) /content/drive/MyDrive/punches/yolov10/test2.mp4: 384x640 1 jab, 10.4ms\n",
            "video 1/1 (frame 18683/19159) /content/drive/MyDrive/punches/yolov10/test2.mp4: 384x640 1 jab, 11.2ms\n",
            "video 1/1 (frame 18684/19159) /content/drive/MyDrive/punches/yolov10/test2.mp4: 384x640 1 jab, 12.4ms\n",
            "video 1/1 (frame 18685/19159) /content/drive/MyDrive/punches/yolov10/test2.mp4: 384x640 1 jab, 11.4ms\n",
            "video 1/1 (frame 18686/19159) /content/drive/MyDrive/punches/yolov10/test2.mp4: 384x640 1 jab, 11.3ms\n",
            "video 1/1 (frame 18687/19159) /content/drive/MyDrive/punches/yolov10/test2.mp4: 384x640 1 jab, 11.0ms\n",
            "video 1/1 (frame 18688/19159) /content/drive/MyDrive/punches/yolov10/test2.mp4: 384x640 1 jab, 10.9ms\n",
            "video 1/1 (frame 18689/19159) /content/drive/MyDrive/punches/yolov10/test2.mp4: 384x640 2 jabs, 11.3ms\n",
            "video 1/1 (frame 18690/19159) /content/drive/MyDrive/punches/yolov10/test2.mp4: 384x640 (no detections), 10.7ms\n",
            "video 1/1 (frame 18691/19159) /content/drive/MyDrive/punches/yolov10/test2.mp4: 384x640 (no detections), 10.7ms\n",
            "video 1/1 (frame 18692/19159) /content/drive/MyDrive/punches/yolov10/test2.mp4: 384x640 (no detections), 12.2ms\n",
            "video 1/1 (frame 18693/19159) /content/drive/MyDrive/punches/yolov10/test2.mp4: 384x640 (no detections), 11.0ms\n",
            "video 1/1 (frame 18694/19159) /content/drive/MyDrive/punches/yolov10/test2.mp4: 384x640 (no detections), 14.3ms\n",
            "video 1/1 (frame 18695/19159) /content/drive/MyDrive/punches/yolov10/test2.mp4: 384x640 1 jab, 14.3ms\n",
            "video 1/1 (frame 18696/19159) /content/drive/MyDrive/punches/yolov10/test2.mp4: 384x640 1 jab, 11.1ms\n",
            "video 1/1 (frame 18697/19159) /content/drive/MyDrive/punches/yolov10/test2.mp4: 384x640 1 jab, 10.4ms\n",
            "video 1/1 (frame 18698/19159) /content/drive/MyDrive/punches/yolov10/test2.mp4: 384x640 1 jab, 10.3ms\n",
            "video 1/1 (frame 18699/19159) /content/drive/MyDrive/punches/yolov10/test2.mp4: 384x640 1 jab, 10.3ms\n",
            "video 1/1 (frame 18700/19159) /content/drive/MyDrive/punches/yolov10/test2.mp4: 384x640 1 jab, 10.3ms\n",
            "video 1/1 (frame 18701/19159) /content/drive/MyDrive/punches/yolov10/test2.mp4: 384x640 1 jab, 10.8ms\n",
            "video 1/1 (frame 18702/19159) /content/drive/MyDrive/punches/yolov10/test2.mp4: 384x640 1 jab, 10.3ms\n",
            "video 1/1 (frame 18703/19159) /content/drive/MyDrive/punches/yolov10/test2.mp4: 384x640 1 jab, 10.8ms\n",
            "video 1/1 (frame 18704/19159) /content/drive/MyDrive/punches/yolov10/test2.mp4: 384x640 1 jab, 10.3ms\n",
            "video 1/1 (frame 18705/19159) /content/drive/MyDrive/punches/yolov10/test2.mp4: 384x640 1 jab, 10.3ms\n",
            "video 1/1 (frame 18706/19159) /content/drive/MyDrive/punches/yolov10/test2.mp4: 384x640 1 jab, 10.9ms\n",
            "video 1/1 (frame 18707/19159) /content/drive/MyDrive/punches/yolov10/test2.mp4: 384x640 1 jab, 10.1ms\n",
            "video 1/1 (frame 18708/19159) /content/drive/MyDrive/punches/yolov10/test2.mp4: 384x640 1 jab, 12.0ms\n",
            "video 1/1 (frame 18709/19159) /content/drive/MyDrive/punches/yolov10/test2.mp4: 384x640 1 jab, 10.5ms\n",
            "video 1/1 (frame 18710/19159) /content/drive/MyDrive/punches/yolov10/test2.mp4: 384x640 1 jab, 9.9ms\n",
            "video 1/1 (frame 18711/19159) /content/drive/MyDrive/punches/yolov10/test2.mp4: 384x640 1 jab, 13.5ms\n",
            "video 1/1 (frame 18712/19159) /content/drive/MyDrive/punches/yolov10/test2.mp4: 384x640 1 jab, 14.2ms\n",
            "video 1/1 (frame 18713/19159) /content/drive/MyDrive/punches/yolov10/test2.mp4: 384x640 1 jab, 10.3ms\n",
            "video 1/1 (frame 18714/19159) /content/drive/MyDrive/punches/yolov10/test2.mp4: 384x640 1 jab, 10.1ms\n",
            "video 1/1 (frame 18715/19159) /content/drive/MyDrive/punches/yolov10/test2.mp4: 384x640 1 jab, 10.6ms\n",
            "video 1/1 (frame 18716/19159) /content/drive/MyDrive/punches/yolov10/test2.mp4: 384x640 1 jab, 10.4ms\n",
            "video 1/1 (frame 18717/19159) /content/drive/MyDrive/punches/yolov10/test2.mp4: 384x640 1 jab, 11.1ms\n",
            "video 1/1 (frame 18718/19159) /content/drive/MyDrive/punches/yolov10/test2.mp4: 384x640 1 jab, 11.8ms\n",
            "video 1/1 (frame 18719/19159) /content/drive/MyDrive/punches/yolov10/test2.mp4: 384x640 1 jab, 10.6ms\n",
            "video 1/1 (frame 18720/19159) /content/drive/MyDrive/punches/yolov10/test2.mp4: 384x640 1 jab, 14.3ms\n",
            "video 1/1 (frame 18721/19159) /content/drive/MyDrive/punches/yolov10/test2.mp4: 384x640 1 jab, 10.4ms\n",
            "video 1/1 (frame 18722/19159) /content/drive/MyDrive/punches/yolov10/test2.mp4: 384x640 1 jab, 11.0ms\n",
            "video 1/1 (frame 18723/19159) /content/drive/MyDrive/punches/yolov10/test2.mp4: 384x640 (no detections), 10.6ms\n",
            "video 1/1 (frame 18724/19159) /content/drive/MyDrive/punches/yolov10/test2.mp4: 384x640 (no detections), 10.4ms\n",
            "video 1/1 (frame 18725/19159) /content/drive/MyDrive/punches/yolov10/test2.mp4: 384x640 1 jab, 10.1ms\n",
            "video 1/1 (frame 18726/19159) /content/drive/MyDrive/punches/yolov10/test2.mp4: 384x640 1 jab, 9.9ms\n",
            "video 1/1 (frame 18727/19159) /content/drive/MyDrive/punches/yolov10/test2.mp4: 384x640 1 jab, 12.2ms\n",
            "video 1/1 (frame 18728/19159) /content/drive/MyDrive/punches/yolov10/test2.mp4: 384x640 (no detections), 15.9ms\n",
            "video 1/1 (frame 18729/19159) /content/drive/MyDrive/punches/yolov10/test2.mp4: 384x640 (no detections), 11.0ms\n",
            "video 1/1 (frame 18730/19159) /content/drive/MyDrive/punches/yolov10/test2.mp4: 384x640 (no detections), 11.7ms\n",
            "video 1/1 (frame 18731/19159) /content/drive/MyDrive/punches/yolov10/test2.mp4: 384x640 (no detections), 18.5ms\n",
            "video 1/1 (frame 18732/19159) /content/drive/MyDrive/punches/yolov10/test2.mp4: 384x640 (no detections), 10.2ms\n",
            "video 1/1 (frame 18733/19159) /content/drive/MyDrive/punches/yolov10/test2.mp4: 384x640 (no detections), 12.8ms\n",
            "video 1/1 (frame 18734/19159) /content/drive/MyDrive/punches/yolov10/test2.mp4: 384x640 (no detections), 10.4ms\n",
            "video 1/1 (frame 18735/19159) /content/drive/MyDrive/punches/yolov10/test2.mp4: 384x640 (no detections), 12.3ms\n",
            "video 1/1 (frame 18736/19159) /content/drive/MyDrive/punches/yolov10/test2.mp4: 384x640 (no detections), 11.1ms\n",
            "video 1/1 (frame 18737/19159) /content/drive/MyDrive/punches/yolov10/test2.mp4: 384x640 (no detections), 10.5ms\n",
            "video 1/1 (frame 18738/19159) /content/drive/MyDrive/punches/yolov10/test2.mp4: 384x640 (no detections), 10.6ms\n",
            "video 1/1 (frame 18739/19159) /content/drive/MyDrive/punches/yolov10/test2.mp4: 384x640 (no detections), 12.7ms\n",
            "video 1/1 (frame 18740/19159) /content/drive/MyDrive/punches/yolov10/test2.mp4: 384x640 (no detections), 12.2ms\n",
            "video 1/1 (frame 18741/19159) /content/drive/MyDrive/punches/yolov10/test2.mp4: 384x640 (no detections), 10.8ms\n",
            "video 1/1 (frame 18742/19159) /content/drive/MyDrive/punches/yolov10/test2.mp4: 384x640 (no detections), 10.7ms\n",
            "video 1/1 (frame 18743/19159) /content/drive/MyDrive/punches/yolov10/test2.mp4: 384x640 (no detections), 11.3ms\n",
            "video 1/1 (frame 18744/19159) /content/drive/MyDrive/punches/yolov10/test2.mp4: 384x640 (no detections), 18.9ms\n",
            "video 1/1 (frame 18745/19159) /content/drive/MyDrive/punches/yolov10/test2.mp4: 384x640 (no detections), 12.9ms\n",
            "video 1/1 (frame 18746/19159) /content/drive/MyDrive/punches/yolov10/test2.mp4: 384x640 (no detections), 11.2ms\n",
            "video 1/1 (frame 18747/19159) /content/drive/MyDrive/punches/yolov10/test2.mp4: 384x640 (no detections), 12.1ms\n",
            "video 1/1 (frame 18748/19159) /content/drive/MyDrive/punches/yolov10/test2.mp4: 384x640 (no detections), 10.4ms\n",
            "video 1/1 (frame 18749/19159) /content/drive/MyDrive/punches/yolov10/test2.mp4: 384x640 (no detections), 10.9ms\n",
            "video 1/1 (frame 18750/19159) /content/drive/MyDrive/punches/yolov10/test2.mp4: 384x640 1 jab, 10.8ms\n",
            "video 1/1 (frame 18751/19159) /content/drive/MyDrive/punches/yolov10/test2.mp4: 384x640 1 jab, 12.6ms\n",
            "video 1/1 (frame 18752/19159) /content/drive/MyDrive/punches/yolov10/test2.mp4: 384x640 1 jab, 10.2ms\n",
            "video 1/1 (frame 18753/19159) /content/drive/MyDrive/punches/yolov10/test2.mp4: 384x640 1 jab, 10.0ms\n",
            "video 1/1 (frame 18754/19159) /content/drive/MyDrive/punches/yolov10/test2.mp4: 384x640 1 jab, 10.2ms\n",
            "video 1/1 (frame 18755/19159) /content/drive/MyDrive/punches/yolov10/test2.mp4: 384x640 1 jab, 10.1ms\n",
            "video 1/1 (frame 18756/19159) /content/drive/MyDrive/punches/yolov10/test2.mp4: 384x640 1 jab, 15.4ms\n",
            "video 1/1 (frame 18757/19159) /content/drive/MyDrive/punches/yolov10/test2.mp4: 384x640 (no detections), 10.5ms\n",
            "video 1/1 (frame 18758/19159) /content/drive/MyDrive/punches/yolov10/test2.mp4: 384x640 1 jab, 10.8ms\n",
            "video 1/1 (frame 18759/19159) /content/drive/MyDrive/punches/yolov10/test2.mp4: 384x640 1 jab, 10.6ms\n",
            "video 1/1 (frame 18760/19159) /content/drive/MyDrive/punches/yolov10/test2.mp4: 384x640 1 jab, 15.1ms\n",
            "video 1/1 (frame 18761/19159) /content/drive/MyDrive/punches/yolov10/test2.mp4: 384x640 1 jab, 11.4ms\n",
            "video 1/1 (frame 18762/19159) /content/drive/MyDrive/punches/yolov10/test2.mp4: 384x640 (no detections), 11.3ms\n",
            "video 1/1 (frame 18763/19159) /content/drive/MyDrive/punches/yolov10/test2.mp4: 384x640 (no detections), 11.0ms\n",
            "video 1/1 (frame 18764/19159) /content/drive/MyDrive/punches/yolov10/test2.mp4: 384x640 (no detections), 10.4ms\n",
            "video 1/1 (frame 18765/19159) /content/drive/MyDrive/punches/yolov10/test2.mp4: 384x640 (no detections), 10.0ms\n",
            "video 1/1 (frame 18766/19159) /content/drive/MyDrive/punches/yolov10/test2.mp4: 384x640 (no detections), 9.9ms\n",
            "video 1/1 (frame 18767/19159) /content/drive/MyDrive/punches/yolov10/test2.mp4: 384x640 (no detections), 10.7ms\n",
            "video 1/1 (frame 18768/19159) /content/drive/MyDrive/punches/yolov10/test2.mp4: 384x640 (no detections), 13.2ms\n",
            "video 1/1 (frame 18769/19159) /content/drive/MyDrive/punches/yolov10/test2.mp4: 384x640 (no detections), 11.9ms\n",
            "video 1/1 (frame 18770/19159) /content/drive/MyDrive/punches/yolov10/test2.mp4: 384x640 (no detections), 11.3ms\n",
            "video 1/1 (frame 18771/19159) /content/drive/MyDrive/punches/yolov10/test2.mp4: 384x640 (no detections), 10.3ms\n",
            "video 1/1 (frame 18772/19159) /content/drive/MyDrive/punches/yolov10/test2.mp4: 384x640 (no detections), 10.4ms\n",
            "video 1/1 (frame 18773/19159) /content/drive/MyDrive/punches/yolov10/test2.mp4: 384x640 (no detections), 18.7ms\n",
            "video 1/1 (frame 18774/19159) /content/drive/MyDrive/punches/yolov10/test2.mp4: 384x640 (no detections), 12.4ms\n",
            "video 1/1 (frame 18775/19159) /content/drive/MyDrive/punches/yolov10/test2.mp4: 384x640 (no detections), 15.1ms\n",
            "video 1/1 (frame 18776/19159) /content/drive/MyDrive/punches/yolov10/test2.mp4: 384x640 (no detections), 14.9ms\n",
            "video 1/1 (frame 18777/19159) /content/drive/MyDrive/punches/yolov10/test2.mp4: 384x640 (no detections), 10.6ms\n",
            "video 1/1 (frame 18778/19159) /content/drive/MyDrive/punches/yolov10/test2.mp4: 384x640 (no detections), 10.6ms\n",
            "video 1/1 (frame 18779/19159) /content/drive/MyDrive/punches/yolov10/test2.mp4: 384x640 (no detections), 10.5ms\n",
            "video 1/1 (frame 18780/19159) /content/drive/MyDrive/punches/yolov10/test2.mp4: 384x640 (no detections), 10.1ms\n",
            "video 1/1 (frame 18781/19159) /content/drive/MyDrive/punches/yolov10/test2.mp4: 384x640 (no detections), 9.8ms\n",
            "video 1/1 (frame 18782/19159) /content/drive/MyDrive/punches/yolov10/test2.mp4: 384x640 (no detections), 10.4ms\n",
            "video 1/1 (frame 18783/19159) /content/drive/MyDrive/punches/yolov10/test2.mp4: 384x640 (no detections), 10.2ms\n",
            "video 1/1 (frame 18784/19159) /content/drive/MyDrive/punches/yolov10/test2.mp4: 384x640 (no detections), 10.9ms\n",
            "video 1/1 (frame 18785/19159) /content/drive/MyDrive/punches/yolov10/test2.mp4: 384x640 1 jab, 10.9ms\n",
            "video 1/1 (frame 18786/19159) /content/drive/MyDrive/punches/yolov10/test2.mp4: 384x640 1 jab, 10.3ms\n",
            "video 1/1 (frame 18787/19159) /content/drive/MyDrive/punches/yolov10/test2.mp4: 384x640 (no detections), 10.4ms\n",
            "video 1/1 (frame 18788/19159) /content/drive/MyDrive/punches/yolov10/test2.mp4: 384x640 (no detections), 18.6ms\n",
            "video 1/1 (frame 18789/19159) /content/drive/MyDrive/punches/yolov10/test2.mp4: 384x640 (no detections), 13.4ms\n",
            "video 1/1 (frame 18790/19159) /content/drive/MyDrive/punches/yolov10/test2.mp4: 384x640 (no detections), 11.9ms\n",
            "video 1/1 (frame 18791/19159) /content/drive/MyDrive/punches/yolov10/test2.mp4: 384x640 (no detections), 11.0ms\n",
            "video 1/1 (frame 18792/19159) /content/drive/MyDrive/punches/yolov10/test2.mp4: 384x640 (no detections), 10.8ms\n",
            "video 1/1 (frame 18793/19159) /content/drive/MyDrive/punches/yolov10/test2.mp4: 384x640 (no detections), 14.2ms\n",
            "video 1/1 (frame 18794/19159) /content/drive/MyDrive/punches/yolov10/test2.mp4: 384x640 (no detections), 11.2ms\n",
            "video 1/1 (frame 18795/19159) /content/drive/MyDrive/punches/yolov10/test2.mp4: 384x640 (no detections), 11.4ms\n",
            "video 1/1 (frame 18796/19159) /content/drive/MyDrive/punches/yolov10/test2.mp4: 384x640 (no detections), 11.8ms\n",
            "video 1/1 (frame 18797/19159) /content/drive/MyDrive/punches/yolov10/test2.mp4: 384x640 (no detections), 11.5ms\n",
            "video 1/1 (frame 18798/19159) /content/drive/MyDrive/punches/yolov10/test2.mp4: 384x640 (no detections), 11.2ms\n",
            "video 1/1 (frame 18799/19159) /content/drive/MyDrive/punches/yolov10/test2.mp4: 384x640 (no detections), 11.7ms\n",
            "video 1/1 (frame 18800/19159) /content/drive/MyDrive/punches/yolov10/test2.mp4: 384x640 (no detections), 11.1ms\n",
            "video 1/1 (frame 18801/19159) /content/drive/MyDrive/punches/yolov10/test2.mp4: 384x640 (no detections), 11.3ms\n",
            "video 1/1 (frame 18802/19159) /content/drive/MyDrive/punches/yolov10/test2.mp4: 384x640 (no detections), 11.1ms\n",
            "video 1/1 (frame 18803/19159) /content/drive/MyDrive/punches/yolov10/test2.mp4: 384x640 (no detections), 10.5ms\n",
            "video 1/1 (frame 18804/19159) /content/drive/MyDrive/punches/yolov10/test2.mp4: 384x640 (no detections), 11.6ms\n",
            "video 1/1 (frame 18805/19159) /content/drive/MyDrive/punches/yolov10/test2.mp4: 384x640 (no detections), 10.4ms\n",
            "video 1/1 (frame 18806/19159) /content/drive/MyDrive/punches/yolov10/test2.mp4: 384x640 (no detections), 10.2ms\n",
            "video 1/1 (frame 18807/19159) /content/drive/MyDrive/punches/yolov10/test2.mp4: 384x640 (no detections), 13.6ms\n",
            "video 1/1 (frame 18808/19159) /content/drive/MyDrive/punches/yolov10/test2.mp4: 384x640 (no detections), 14.3ms\n",
            "video 1/1 (frame 18809/19159) /content/drive/MyDrive/punches/yolov10/test2.mp4: 384x640 (no detections), 10.3ms\n",
            "video 1/1 (frame 18810/19159) /content/drive/MyDrive/punches/yolov10/test2.mp4: 384x640 (no detections), 10.4ms\n",
            "video 1/1 (frame 18811/19159) /content/drive/MyDrive/punches/yolov10/test2.mp4: 384x640 (no detections), 10.2ms\n",
            "video 1/1 (frame 18812/19159) /content/drive/MyDrive/punches/yolov10/test2.mp4: 384x640 (no detections), 10.7ms\n",
            "video 1/1 (frame 18813/19159) /content/drive/MyDrive/punches/yolov10/test2.mp4: 384x640 (no detections), 10.3ms\n",
            "video 1/1 (frame 18814/19159) /content/drive/MyDrive/punches/yolov10/test2.mp4: 384x640 (no detections), 10.2ms\n",
            "video 1/1 (frame 18815/19159) /content/drive/MyDrive/punches/yolov10/test2.mp4: 384x640 (no detections), 10.3ms\n",
            "video 1/1 (frame 18816/19159) /content/drive/MyDrive/punches/yolov10/test2.mp4: 384x640 (no detections), 10.0ms\n",
            "video 1/1 (frame 18817/19159) /content/drive/MyDrive/punches/yolov10/test2.mp4: 384x640 (no detections), 10.3ms\n",
            "video 1/1 (frame 18818/19159) /content/drive/MyDrive/punches/yolov10/test2.mp4: 384x640 (no detections), 10.5ms\n",
            "video 1/1 (frame 18819/19159) /content/drive/MyDrive/punches/yolov10/test2.mp4: 384x640 (no detections), 11.4ms\n",
            "video 1/1 (frame 18820/19159) /content/drive/MyDrive/punches/yolov10/test2.mp4: 384x640 (no detections), 13.9ms\n",
            "video 1/1 (frame 18821/19159) /content/drive/MyDrive/punches/yolov10/test2.mp4: 384x640 (no detections), 11.3ms\n",
            "video 1/1 (frame 18822/19159) /content/drive/MyDrive/punches/yolov10/test2.mp4: 384x640 (no detections), 10.3ms\n",
            "video 1/1 (frame 18823/19159) /content/drive/MyDrive/punches/yolov10/test2.mp4: 384x640 (no detections), 10.8ms\n",
            "video 1/1 (frame 18824/19159) /content/drive/MyDrive/punches/yolov10/test2.mp4: 384x640 (no detections), 10.3ms\n",
            "video 1/1 (frame 18825/19159) /content/drive/MyDrive/punches/yolov10/test2.mp4: 384x640 (no detections), 10.0ms\n",
            "video 1/1 (frame 18826/19159) /content/drive/MyDrive/punches/yolov10/test2.mp4: 384x640 (no detections), 10.3ms\n",
            "video 1/1 (frame 18827/19159) /content/drive/MyDrive/punches/yolov10/test2.mp4: 384x640 (no detections), 10.4ms\n",
            "video 1/1 (frame 18828/19159) /content/drive/MyDrive/punches/yolov10/test2.mp4: 384x640 (no detections), 10.2ms\n",
            "video 1/1 (frame 18829/19159) /content/drive/MyDrive/punches/yolov10/test2.mp4: 384x640 (no detections), 10.1ms\n",
            "video 1/1 (frame 18830/19159) /content/drive/MyDrive/punches/yolov10/test2.mp4: 384x640 (no detections), 17.0ms\n",
            "video 1/1 (frame 18831/19159) /content/drive/MyDrive/punches/yolov10/test2.mp4: 384x640 (no detections), 15.1ms\n",
            "video 1/1 (frame 18832/19159) /content/drive/MyDrive/punches/yolov10/test2.mp4: 384x640 (no detections), 11.3ms\n",
            "video 1/1 (frame 18833/19159) /content/drive/MyDrive/punches/yolov10/test2.mp4: 384x640 (no detections), 11.4ms\n",
            "video 1/1 (frame 18834/19159) /content/drive/MyDrive/punches/yolov10/test2.mp4: 384x640 (no detections), 11.7ms\n",
            "video 1/1 (frame 18835/19159) /content/drive/MyDrive/punches/yolov10/test2.mp4: 384x640 (no detections), 15.6ms\n",
            "video 1/1 (frame 18836/19159) /content/drive/MyDrive/punches/yolov10/test2.mp4: 384x640 (no detections), 13.5ms\n",
            "video 1/1 (frame 18837/19159) /content/drive/MyDrive/punches/yolov10/test2.mp4: 384x640 (no detections), 10.8ms\n",
            "video 1/1 (frame 18838/19159) /content/drive/MyDrive/punches/yolov10/test2.mp4: 384x640 (no detections), 18.0ms\n",
            "video 1/1 (frame 18839/19159) /content/drive/MyDrive/punches/yolov10/test2.mp4: 384x640 (no detections), 12.2ms\n",
            "video 1/1 (frame 18840/19159) /content/drive/MyDrive/punches/yolov10/test2.mp4: 384x640 (no detections), 10.5ms\n",
            "video 1/1 (frame 18841/19159) /content/drive/MyDrive/punches/yolov10/test2.mp4: 384x640 (no detections), 11.3ms\n",
            "video 1/1 (frame 18842/19159) /content/drive/MyDrive/punches/yolov10/test2.mp4: 384x640 (no detections), 10.0ms\n",
            "video 1/1 (frame 18843/19159) /content/drive/MyDrive/punches/yolov10/test2.mp4: 384x640 (no detections), 10.2ms\n",
            "video 1/1 (frame 18844/19159) /content/drive/MyDrive/punches/yolov10/test2.mp4: 384x640 (no detections), 10.6ms\n",
            "video 1/1 (frame 18845/19159) /content/drive/MyDrive/punches/yolov10/test2.mp4: 384x640 (no detections), 10.1ms\n",
            "video 1/1 (frame 18846/19159) /content/drive/MyDrive/punches/yolov10/test2.mp4: 384x640 (no detections), 10.2ms\n",
            "video 1/1 (frame 18847/19159) /content/drive/MyDrive/punches/yolov10/test2.mp4: 384x640 (no detections), 10.2ms\n",
            "video 1/1 (frame 18848/19159) /content/drive/MyDrive/punches/yolov10/test2.mp4: 384x640 (no detections), 10.0ms\n",
            "video 1/1 (frame 18849/19159) /content/drive/MyDrive/punches/yolov10/test2.mp4: 384x640 (no detections), 10.0ms\n",
            "video 1/1 (frame 18850/19159) /content/drive/MyDrive/punches/yolov10/test2.mp4: 384x640 (no detections), 17.8ms\n",
            "video 1/1 (frame 18851/19159) /content/drive/MyDrive/punches/yolov10/test2.mp4: 384x640 (no detections), 12.4ms\n",
            "video 1/1 (frame 18852/19159) /content/drive/MyDrive/punches/yolov10/test2.mp4: 384x640 (no detections), 10.0ms\n",
            "video 1/1 (frame 18853/19159) /content/drive/MyDrive/punches/yolov10/test2.mp4: 384x640 (no detections), 10.2ms\n",
            "video 1/1 (frame 18854/19159) /content/drive/MyDrive/punches/yolov10/test2.mp4: 384x640 (no detections), 10.4ms\n",
            "video 1/1 (frame 18855/19159) /content/drive/MyDrive/punches/yolov10/test2.mp4: 384x640 (no detections), 10.3ms\n",
            "video 1/1 (frame 18856/19159) /content/drive/MyDrive/punches/yolov10/test2.mp4: 384x640 (no detections), 12.1ms\n",
            "video 1/1 (frame 18857/19159) /content/drive/MyDrive/punches/yolov10/test2.mp4: 384x640 (no detections), 18.1ms\n",
            "video 1/1 (frame 18858/19159) /content/drive/MyDrive/punches/yolov10/test2.mp4: 384x640 (no detections), 11.0ms\n",
            "video 1/1 (frame 18859/19159) /content/drive/MyDrive/punches/yolov10/test2.mp4: 384x640 (no detections), 10.5ms\n",
            "video 1/1 (frame 18860/19159) /content/drive/MyDrive/punches/yolov10/test2.mp4: 384x640 (no detections), 10.3ms\n",
            "video 1/1 (frame 18861/19159) /content/drive/MyDrive/punches/yolov10/test2.mp4: 384x640 (no detections), 10.3ms\n",
            "video 1/1 (frame 18862/19159) /content/drive/MyDrive/punches/yolov10/test2.mp4: 384x640 (no detections), 10.7ms\n",
            "video 1/1 (frame 18863/19159) /content/drive/MyDrive/punches/yolov10/test2.mp4: 384x640 (no detections), 10.6ms\n",
            "video 1/1 (frame 18864/19159) /content/drive/MyDrive/punches/yolov10/test2.mp4: 384x640 (no detections), 11.4ms\n",
            "video 1/1 (frame 18865/19159) /content/drive/MyDrive/punches/yolov10/test2.mp4: 384x640 (no detections), 16.2ms\n",
            "video 1/1 (frame 18866/19159) /content/drive/MyDrive/punches/yolov10/test2.mp4: 384x640 (no detections), 11.1ms\n",
            "video 1/1 (frame 18867/19159) /content/drive/MyDrive/punches/yolov10/test2.mp4: 384x640 (no detections), 11.1ms\n",
            "video 1/1 (frame 18868/19159) /content/drive/MyDrive/punches/yolov10/test2.mp4: 384x640 (no detections), 11.6ms\n",
            "video 1/1 (frame 18869/19159) /content/drive/MyDrive/punches/yolov10/test2.mp4: 384x640 (no detections), 12.8ms\n",
            "video 1/1 (frame 18870/19159) /content/drive/MyDrive/punches/yolov10/test2.mp4: 384x640 (no detections), 10.9ms\n",
            "video 1/1 (frame 18871/19159) /content/drive/MyDrive/punches/yolov10/test2.mp4: 384x640 (no detections), 10.4ms\n",
            "video 1/1 (frame 18872/19159) /content/drive/MyDrive/punches/yolov10/test2.mp4: 384x640 (no detections), 10.2ms\n",
            "video 1/1 (frame 18873/19159) /content/drive/MyDrive/punches/yolov10/test2.mp4: 384x640 (no detections), 12.3ms\n",
            "video 1/1 (frame 18874/19159) /content/drive/MyDrive/punches/yolov10/test2.mp4: 384x640 (no detections), 11.5ms\n",
            "video 1/1 (frame 18875/19159) /content/drive/MyDrive/punches/yolov10/test2.mp4: 384x640 (no detections), 16.8ms\n",
            "video 1/1 (frame 18876/19159) /content/drive/MyDrive/punches/yolov10/test2.mp4: 384x640 (no detections), 10.6ms\n",
            "video 1/1 (frame 18877/19159) /content/drive/MyDrive/punches/yolov10/test2.mp4: 384x640 (no detections), 10.3ms\n",
            "video 1/1 (frame 18878/19159) /content/drive/MyDrive/punches/yolov10/test2.mp4: 384x640 (no detections), 11.1ms\n",
            "video 1/1 (frame 18879/19159) /content/drive/MyDrive/punches/yolov10/test2.mp4: 384x640 (no detections), 11.4ms\n",
            "video 1/1 (frame 18880/19159) /content/drive/MyDrive/punches/yolov10/test2.mp4: 384x640 (no detections), 10.7ms\n",
            "video 1/1 (frame 18881/19159) /content/drive/MyDrive/punches/yolov10/test2.mp4: 384x640 (no detections), 10.2ms\n",
            "video 1/1 (frame 18882/19159) /content/drive/MyDrive/punches/yolov10/test2.mp4: 384x640 (no detections), 10.1ms\n",
            "video 1/1 (frame 18883/19159) /content/drive/MyDrive/punches/yolov10/test2.mp4: 384x640 (no detections), 10.2ms\n",
            "video 1/1 (frame 18884/19159) /content/drive/MyDrive/punches/yolov10/test2.mp4: 384x640 (no detections), 10.2ms\n",
            "video 1/1 (frame 18885/19159) /content/drive/MyDrive/punches/yolov10/test2.mp4: 384x640 (no detections), 10.0ms\n",
            "video 1/1 (frame 18886/19159) /content/drive/MyDrive/punches/yolov10/test2.mp4: 384x640 (no detections), 10.0ms\n",
            "video 1/1 (frame 18887/19159) /content/drive/MyDrive/punches/yolov10/test2.mp4: 384x640 (no detections), 10.6ms\n",
            "video 1/1 (frame 18888/19159) /content/drive/MyDrive/punches/yolov10/test2.mp4: 384x640 (no detections), 10.5ms\n",
            "video 1/1 (frame 18889/19159) /content/drive/MyDrive/punches/yolov10/test2.mp4: 384x640 (no detections), 10.1ms\n",
            "video 1/1 (frame 18890/19159) /content/drive/MyDrive/punches/yolov10/test2.mp4: 384x640 (no detections), 9.8ms\n",
            "video 1/1 (frame 18891/19159) /content/drive/MyDrive/punches/yolov10/test2.mp4: 384x640 (no detections), 11.0ms\n",
            "video 1/1 (frame 18892/19159) /content/drive/MyDrive/punches/yolov10/test2.mp4: 384x640 (no detections), 10.6ms\n",
            "video 1/1 (frame 18893/19159) /content/drive/MyDrive/punches/yolov10/test2.mp4: 384x640 (no detections), 11.6ms\n",
            "video 1/1 (frame 18894/19159) /content/drive/MyDrive/punches/yolov10/test2.mp4: 384x640 (no detections), 10.9ms\n",
            "video 1/1 (frame 18895/19159) /content/drive/MyDrive/punches/yolov10/test2.mp4: 384x640 (no detections), 17.2ms\n",
            "video 1/1 (frame 18896/19159) /content/drive/MyDrive/punches/yolov10/test2.mp4: 384x640 (no detections), 15.1ms\n",
            "video 1/1 (frame 18897/19159) /content/drive/MyDrive/punches/yolov10/test2.mp4: 384x640 (no detections), 14.3ms\n",
            "video 1/1 (frame 18898/19159) /content/drive/MyDrive/punches/yolov10/test2.mp4: 384x640 (no detections), 10.3ms\n",
            "video 1/1 (frame 18899/19159) /content/drive/MyDrive/punches/yolov10/test2.mp4: 384x640 (no detections), 10.2ms\n",
            "video 1/1 (frame 18900/19159) /content/drive/MyDrive/punches/yolov10/test2.mp4: 384x640 (no detections), 10.6ms\n",
            "video 1/1 (frame 18901/19159) /content/drive/MyDrive/punches/yolov10/test2.mp4: 384x640 (no detections), 10.3ms\n",
            "video 1/1 (frame 18902/19159) /content/drive/MyDrive/punches/yolov10/test2.mp4: 384x640 (no detections), 10.7ms\n",
            "video 1/1 (frame 18903/19159) /content/drive/MyDrive/punches/yolov10/test2.mp4: 384x640 (no detections), 10.5ms\n",
            "video 1/1 (frame 18904/19159) /content/drive/MyDrive/punches/yolov10/test2.mp4: 384x640 (no detections), 20.2ms\n",
            "video 1/1 (frame 18905/19159) /content/drive/MyDrive/punches/yolov10/test2.mp4: 384x640 (no detections), 18.9ms\n",
            "video 1/1 (frame 18906/19159) /content/drive/MyDrive/punches/yolov10/test2.mp4: 384x640 (no detections), 18.7ms\n",
            "video 1/1 (frame 18907/19159) /content/drive/MyDrive/punches/yolov10/test2.mp4: 384x640 (no detections), 19.0ms\n",
            "video 1/1 (frame 18908/19159) /content/drive/MyDrive/punches/yolov10/test2.mp4: 384x640 (no detections), 19.7ms\n",
            "video 1/1 (frame 18909/19159) /content/drive/MyDrive/punches/yolov10/test2.mp4: 384x640 (no detections), 23.5ms\n",
            "video 1/1 (frame 18910/19159) /content/drive/MyDrive/punches/yolov10/test2.mp4: 384x640 (no detections), 16.5ms\n",
            "video 1/1 (frame 18911/19159) /content/drive/MyDrive/punches/yolov10/test2.mp4: 384x640 (no detections), 27.3ms\n",
            "video 1/1 (frame 18912/19159) /content/drive/MyDrive/punches/yolov10/test2.mp4: 384x640 (no detections), 19.5ms\n",
            "video 1/1 (frame 18913/19159) /content/drive/MyDrive/punches/yolov10/test2.mp4: 384x640 (no detections), 14.6ms\n",
            "video 1/1 (frame 18914/19159) /content/drive/MyDrive/punches/yolov10/test2.mp4: 384x640 (no detections), 14.3ms\n",
            "video 1/1 (frame 18915/19159) /content/drive/MyDrive/punches/yolov10/test2.mp4: 384x640 (no detections), 14.4ms\n",
            "video 1/1 (frame 18916/19159) /content/drive/MyDrive/punches/yolov10/test2.mp4: 384x640 (no detections), 14.0ms\n",
            "video 1/1 (frame 18917/19159) /content/drive/MyDrive/punches/yolov10/test2.mp4: 384x640 (no detections), 13.9ms\n",
            "video 1/1 (frame 18918/19159) /content/drive/MyDrive/punches/yolov10/test2.mp4: 384x640 (no detections), 13.6ms\n",
            "video 1/1 (frame 18919/19159) /content/drive/MyDrive/punches/yolov10/test2.mp4: 384x640 (no detections), 14.2ms\n",
            "video 1/1 (frame 18920/19159) /content/drive/MyDrive/punches/yolov10/test2.mp4: 384x640 (no detections), 15.1ms\n",
            "video 1/1 (frame 18921/19159) /content/drive/MyDrive/punches/yolov10/test2.mp4: 384x640 (no detections), 13.9ms\n",
            "video 1/1 (frame 18922/19159) /content/drive/MyDrive/punches/yolov10/test2.mp4: 384x640 (no detections), 14.6ms\n",
            "video 1/1 (frame 18923/19159) /content/drive/MyDrive/punches/yolov10/test2.mp4: 384x640 (no detections), 16.4ms\n",
            "video 1/1 (frame 18924/19159) /content/drive/MyDrive/punches/yolov10/test2.mp4: 384x640 (no detections), 16.9ms\n",
            "video 1/1 (frame 18925/19159) /content/drive/MyDrive/punches/yolov10/test2.mp4: 384x640 (no detections), 14.6ms\n",
            "video 1/1 (frame 18926/19159) /content/drive/MyDrive/punches/yolov10/test2.mp4: 384x640 (no detections), 14.3ms\n",
            "video 1/1 (frame 18927/19159) /content/drive/MyDrive/punches/yolov10/test2.mp4: 384x640 (no detections), 14.2ms\n",
            "video 1/1 (frame 18928/19159) /content/drive/MyDrive/punches/yolov10/test2.mp4: 384x640 (no detections), 14.2ms\n",
            "video 1/1 (frame 18929/19159) /content/drive/MyDrive/punches/yolov10/test2.mp4: 384x640 (no detections), 14.7ms\n",
            "video 1/1 (frame 18930/19159) /content/drive/MyDrive/punches/yolov10/test2.mp4: 384x640 (no detections), 13.8ms\n",
            "video 1/1 (frame 18931/19159) /content/drive/MyDrive/punches/yolov10/test2.mp4: 384x640 (no detections), 13.1ms\n",
            "video 1/1 (frame 18932/19159) /content/drive/MyDrive/punches/yolov10/test2.mp4: 384x640 (no detections), 13.2ms\n",
            "video 1/1 (frame 18933/19159) /content/drive/MyDrive/punches/yolov10/test2.mp4: 384x640 (no detections), 12.7ms\n",
            "video 1/1 (frame 18934/19159) /content/drive/MyDrive/punches/yolov10/test2.mp4: 384x640 (no detections), 12.9ms\n",
            "video 1/1 (frame 18935/19159) /content/drive/MyDrive/punches/yolov10/test2.mp4: 384x640 (no detections), 12.7ms\n",
            "video 1/1 (frame 18936/19159) /content/drive/MyDrive/punches/yolov10/test2.mp4: 384x640 (no detections), 14.1ms\n",
            "video 1/1 (frame 18937/19159) /content/drive/MyDrive/punches/yolov10/test2.mp4: 384x640 (no detections), 19.1ms\n",
            "video 1/1 (frame 18938/19159) /content/drive/MyDrive/punches/yolov10/test2.mp4: 384x640 (no detections), 13.6ms\n",
            "video 1/1 (frame 18939/19159) /content/drive/MyDrive/punches/yolov10/test2.mp4: 384x640 (no detections), 16.0ms\n",
            "video 1/1 (frame 18940/19159) /content/drive/MyDrive/punches/yolov10/test2.mp4: 384x640 (no detections), 16.7ms\n",
            "video 1/1 (frame 18941/19159) /content/drive/MyDrive/punches/yolov10/test2.mp4: 384x640 (no detections), 14.7ms\n",
            "video 1/1 (frame 18942/19159) /content/drive/MyDrive/punches/yolov10/test2.mp4: 384x640 (no detections), 18.7ms\n",
            "video 1/1 (frame 18943/19159) /content/drive/MyDrive/punches/yolov10/test2.mp4: 384x640 (no detections), 13.9ms\n",
            "video 1/1 (frame 18944/19159) /content/drive/MyDrive/punches/yolov10/test2.mp4: 384x640 (no detections), 14.1ms\n",
            "video 1/1 (frame 18945/19159) /content/drive/MyDrive/punches/yolov10/test2.mp4: 384x640 (no detections), 14.0ms\n",
            "video 1/1 (frame 18946/19159) /content/drive/MyDrive/punches/yolov10/test2.mp4: 384x640 (no detections), 14.1ms\n",
            "video 1/1 (frame 18947/19159) /content/drive/MyDrive/punches/yolov10/test2.mp4: 384x640 (no detections), 19.0ms\n",
            "video 1/1 (frame 18948/19159) /content/drive/MyDrive/punches/yolov10/test2.mp4: 384x640 (no detections), 15.6ms\n",
            "video 1/1 (frame 18949/19159) /content/drive/MyDrive/punches/yolov10/test2.mp4: 384x640 (no detections), 19.8ms\n",
            "video 1/1 (frame 18950/19159) /content/drive/MyDrive/punches/yolov10/test2.mp4: 384x640 (no detections), 21.6ms\n",
            "video 1/1 (frame 18951/19159) /content/drive/MyDrive/punches/yolov10/test2.mp4: 384x640 (no detections), 19.4ms\n",
            "video 1/1 (frame 18952/19159) /content/drive/MyDrive/punches/yolov10/test2.mp4: 384x640 (no detections), 15.6ms\n",
            "video 1/1 (frame 18953/19159) /content/drive/MyDrive/punches/yolov10/test2.mp4: 384x640 (no detections), 15.7ms\n",
            "video 1/1 (frame 18954/19159) /content/drive/MyDrive/punches/yolov10/test2.mp4: 384x640 (no detections), 16.6ms\n",
            "video 1/1 (frame 18955/19159) /content/drive/MyDrive/punches/yolov10/test2.mp4: 384x640 (no detections), 19.1ms\n",
            "video 1/1 (frame 18956/19159) /content/drive/MyDrive/punches/yolov10/test2.mp4: 384x640 (no detections), 18.1ms\n",
            "video 1/1 (frame 18957/19159) /content/drive/MyDrive/punches/yolov10/test2.mp4: 384x640 (no detections), 28.5ms\n",
            "video 1/1 (frame 18958/19159) /content/drive/MyDrive/punches/yolov10/test2.mp4: 384x640 (no detections), 18.5ms\n",
            "video 1/1 (frame 18959/19159) /content/drive/MyDrive/punches/yolov10/test2.mp4: 384x640 (no detections), 19.0ms\n",
            "video 1/1 (frame 18960/19159) /content/drive/MyDrive/punches/yolov10/test2.mp4: 384x640 (no detections), 20.1ms\n",
            "video 1/1 (frame 18961/19159) /content/drive/MyDrive/punches/yolov10/test2.mp4: 384x640 (no detections), 24.4ms\n",
            "video 1/1 (frame 18962/19159) /content/drive/MyDrive/punches/yolov10/test2.mp4: 384x640 (no detections), 22.3ms\n",
            "video 1/1 (frame 18963/19159) /content/drive/MyDrive/punches/yolov10/test2.mp4: 384x640 (no detections), 22.8ms\n",
            "video 1/1 (frame 18964/19159) /content/drive/MyDrive/punches/yolov10/test2.mp4: 384x640 (no detections), 18.2ms\n",
            "video 1/1 (frame 18965/19159) /content/drive/MyDrive/punches/yolov10/test2.mp4: 384x640 (no detections), 15.1ms\n",
            "video 1/1 (frame 18966/19159) /content/drive/MyDrive/punches/yolov10/test2.mp4: 384x640 (no detections), 17.6ms\n",
            "video 1/1 (frame 18967/19159) /content/drive/MyDrive/punches/yolov10/test2.mp4: 384x640 (no detections), 19.3ms\n",
            "video 1/1 (frame 18968/19159) /content/drive/MyDrive/punches/yolov10/test2.mp4: 384x640 (no detections), 15.1ms\n",
            "video 1/1 (frame 18969/19159) /content/drive/MyDrive/punches/yolov10/test2.mp4: 384x640 (no detections), 22.1ms\n",
            "video 1/1 (frame 18970/19159) /content/drive/MyDrive/punches/yolov10/test2.mp4: 384x640 (no detections), 16.6ms\n",
            "video 1/1 (frame 18971/19159) /content/drive/MyDrive/punches/yolov10/test2.mp4: 384x640 (no detections), 17.6ms\n",
            "video 1/1 (frame 18972/19159) /content/drive/MyDrive/punches/yolov10/test2.mp4: 384x640 (no detections), 16.1ms\n",
            "video 1/1 (frame 18973/19159) /content/drive/MyDrive/punches/yolov10/test2.mp4: 384x640 (no detections), 14.4ms\n",
            "video 1/1 (frame 18974/19159) /content/drive/MyDrive/punches/yolov10/test2.mp4: 384x640 (no detections), 14.4ms\n",
            "video 1/1 (frame 18975/19159) /content/drive/MyDrive/punches/yolov10/test2.mp4: 384x640 (no detections), 14.4ms\n",
            "video 1/1 (frame 18976/19159) /content/drive/MyDrive/punches/yolov10/test2.mp4: 384x640 (no detections), 14.2ms\n",
            "video 1/1 (frame 18977/19159) /content/drive/MyDrive/punches/yolov10/test2.mp4: 384x640 (no detections), 14.7ms\n",
            "video 1/1 (frame 18978/19159) /content/drive/MyDrive/punches/yolov10/test2.mp4: 384x640 (no detections), 13.9ms\n",
            "video 1/1 (frame 18979/19159) /content/drive/MyDrive/punches/yolov10/test2.mp4: 384x640 (no detections), 13.5ms\n",
            "video 1/1 (frame 18980/19159) /content/drive/MyDrive/punches/yolov10/test2.mp4: 384x640 (no detections), 14.8ms\n",
            "video 1/1 (frame 18981/19159) /content/drive/MyDrive/punches/yolov10/test2.mp4: 384x640 (no detections), 15.0ms\n",
            "video 1/1 (frame 18982/19159) /content/drive/MyDrive/punches/yolov10/test2.mp4: 384x640 (no detections), 27.0ms\n",
            "video 1/1 (frame 18983/19159) /content/drive/MyDrive/punches/yolov10/test2.mp4: 384x640 (no detections), 18.0ms\n",
            "video 1/1 (frame 18984/19159) /content/drive/MyDrive/punches/yolov10/test2.mp4: 384x640 (no detections), 15.0ms\n",
            "video 1/1 (frame 18985/19159) /content/drive/MyDrive/punches/yolov10/test2.mp4: 384x640 (no detections), 14.6ms\n",
            "video 1/1 (frame 18986/19159) /content/drive/MyDrive/punches/yolov10/test2.mp4: 384x640 (no detections), 14.5ms\n",
            "video 1/1 (frame 18987/19159) /content/drive/MyDrive/punches/yolov10/test2.mp4: 384x640 (no detections), 19.7ms\n",
            "video 1/1 (frame 18988/19159) /content/drive/MyDrive/punches/yolov10/test2.mp4: 384x640 (no detections), 15.5ms\n",
            "video 1/1 (frame 18989/19159) /content/drive/MyDrive/punches/yolov10/test2.mp4: 384x640 (no detections), 13.6ms\n",
            "video 1/1 (frame 18990/19159) /content/drive/MyDrive/punches/yolov10/test2.mp4: 384x640 (no detections), 13.3ms\n",
            "video 1/1 (frame 18991/19159) /content/drive/MyDrive/punches/yolov10/test2.mp4: 384x640 (no detections), 14.9ms\n",
            "video 1/1 (frame 18992/19159) /content/drive/MyDrive/punches/yolov10/test2.mp4: 384x640 (no detections), 17.0ms\n",
            "video 1/1 (frame 18993/19159) /content/drive/MyDrive/punches/yolov10/test2.mp4: 384x640 (no detections), 13.7ms\n",
            "video 1/1 (frame 18994/19159) /content/drive/MyDrive/punches/yolov10/test2.mp4: 384x640 (no detections), 13.6ms\n",
            "video 1/1 (frame 18995/19159) /content/drive/MyDrive/punches/yolov10/test2.mp4: 384x640 (no detections), 22.9ms\n",
            "video 1/1 (frame 18996/19159) /content/drive/MyDrive/punches/yolov10/test2.mp4: 384x640 (no detections), 14.9ms\n",
            "video 1/1 (frame 18997/19159) /content/drive/MyDrive/punches/yolov10/test2.mp4: 384x640 (no detections), 14.5ms\n",
            "video 1/1 (frame 18998/19159) /content/drive/MyDrive/punches/yolov10/test2.mp4: 384x640 (no detections), 13.7ms\n",
            "video 1/1 (frame 18999/19159) /content/drive/MyDrive/punches/yolov10/test2.mp4: 384x640 (no detections), 13.8ms\n",
            "video 1/1 (frame 19000/19159) /content/drive/MyDrive/punches/yolov10/test2.mp4: 384x640 (no detections), 17.1ms\n",
            "video 1/1 (frame 19001/19159) /content/drive/MyDrive/punches/yolov10/test2.mp4: 384x640 (no detections), 15.0ms\n",
            "video 1/1 (frame 19002/19159) /content/drive/MyDrive/punches/yolov10/test2.mp4: 384x640 (no detections), 14.1ms\n",
            "video 1/1 (frame 19003/19159) /content/drive/MyDrive/punches/yolov10/test2.mp4: 384x640 (no detections), 14.2ms\n",
            "video 1/1 (frame 19004/19159) /content/drive/MyDrive/punches/yolov10/test2.mp4: 384x640 (no detections), 12.7ms\n",
            "video 1/1 (frame 19005/19159) /content/drive/MyDrive/punches/yolov10/test2.mp4: 384x640 (no detections), 13.8ms\n",
            "video 1/1 (frame 19006/19159) /content/drive/MyDrive/punches/yolov10/test2.mp4: 384x640 (no detections), 12.8ms\n",
            "video 1/1 (frame 19007/19159) /content/drive/MyDrive/punches/yolov10/test2.mp4: 384x640 (no detections), 12.7ms\n",
            "video 1/1 (frame 19008/19159) /content/drive/MyDrive/punches/yolov10/test2.mp4: 384x640 (no detections), 12.9ms\n",
            "video 1/1 (frame 19009/19159) /content/drive/MyDrive/punches/yolov10/test2.mp4: 384x640 (no detections), 22.4ms\n",
            "video 1/1 (frame 19010/19159) /content/drive/MyDrive/punches/yolov10/test2.mp4: 384x640 (no detections), 26.0ms\n",
            "video 1/1 (frame 19011/19159) /content/drive/MyDrive/punches/yolov10/test2.mp4: 384x640 (no detections), 18.7ms\n",
            "video 1/1 (frame 19012/19159) /content/drive/MyDrive/punches/yolov10/test2.mp4: 384x640 (no detections), 17.0ms\n",
            "video 1/1 (frame 19013/19159) /content/drive/MyDrive/punches/yolov10/test2.mp4: 384x640 (no detections), 21.1ms\n",
            "video 1/1 (frame 19014/19159) /content/drive/MyDrive/punches/yolov10/test2.mp4: 384x640 (no detections), 20.2ms\n",
            "video 1/1 (frame 19015/19159) /content/drive/MyDrive/punches/yolov10/test2.mp4: 384x640 (no detections), 18.8ms\n",
            "video 1/1 (frame 19016/19159) /content/drive/MyDrive/punches/yolov10/test2.mp4: 384x640 (no detections), 15.0ms\n",
            "video 1/1 (frame 19017/19159) /content/drive/MyDrive/punches/yolov10/test2.mp4: 384x640 (no detections), 13.8ms\n",
            "video 1/1 (frame 19018/19159) /content/drive/MyDrive/punches/yolov10/test2.mp4: 384x640 (no detections), 17.8ms\n",
            "video 1/1 (frame 19019/19159) /content/drive/MyDrive/punches/yolov10/test2.mp4: 384x640 (no detections), 15.3ms\n",
            "video 1/1 (frame 19020/19159) /content/drive/MyDrive/punches/yolov10/test2.mp4: 384x640 (no detections), 20.2ms\n",
            "video 1/1 (frame 19021/19159) /content/drive/MyDrive/punches/yolov10/test2.mp4: 384x640 (no detections), 22.3ms\n",
            "video 1/1 (frame 19022/19159) /content/drive/MyDrive/punches/yolov10/test2.mp4: 384x640 (no detections), 21.2ms\n",
            "video 1/1 (frame 19023/19159) /content/drive/MyDrive/punches/yolov10/test2.mp4: 384x640 (no detections), 24.7ms\n",
            "video 1/1 (frame 19024/19159) /content/drive/MyDrive/punches/yolov10/test2.mp4: 384x640 (no detections), 19.3ms\n",
            "video 1/1 (frame 19025/19159) /content/drive/MyDrive/punches/yolov10/test2.mp4: 384x640 (no detections), 18.9ms\n",
            "video 1/1 (frame 19026/19159) /content/drive/MyDrive/punches/yolov10/test2.mp4: 384x640 (no detections), 14.4ms\n",
            "video 1/1 (frame 19027/19159) /content/drive/MyDrive/punches/yolov10/test2.mp4: 384x640 (no detections), 15.5ms\n",
            "video 1/1 (frame 19028/19159) /content/drive/MyDrive/punches/yolov10/test2.mp4: 384x640 (no detections), 17.6ms\n",
            "video 1/1 (frame 19029/19159) /content/drive/MyDrive/punches/yolov10/test2.mp4: 384x640 (no detections), 16.2ms\n",
            "video 1/1 (frame 19030/19159) /content/drive/MyDrive/punches/yolov10/test2.mp4: 384x640 (no detections), 16.2ms\n",
            "video 1/1 (frame 19031/19159) /content/drive/MyDrive/punches/yolov10/test2.mp4: 384x640 (no detections), 17.3ms\n",
            "video 1/1 (frame 19032/19159) /content/drive/MyDrive/punches/yolov10/test2.mp4: 384x640 (no detections), 22.1ms\n",
            "video 1/1 (frame 19033/19159) /content/drive/MyDrive/punches/yolov10/test2.mp4: 384x640 (no detections), 17.1ms\n",
            "video 1/1 (frame 19034/19159) /content/drive/MyDrive/punches/yolov10/test2.mp4: 384x640 (no detections), 18.2ms\n",
            "video 1/1 (frame 19035/19159) /content/drive/MyDrive/punches/yolov10/test2.mp4: 384x640 (no detections), 18.9ms\n",
            "video 1/1 (frame 19036/19159) /content/drive/MyDrive/punches/yolov10/test2.mp4: 384x640 (no detections), 16.4ms\n",
            "video 1/1 (frame 19037/19159) /content/drive/MyDrive/punches/yolov10/test2.mp4: 384x640 (no detections), 16.3ms\n",
            "video 1/1 (frame 19038/19159) /content/drive/MyDrive/punches/yolov10/test2.mp4: 384x640 (no detections), 20.2ms\n",
            "video 1/1 (frame 19039/19159) /content/drive/MyDrive/punches/yolov10/test2.mp4: 384x640 (no detections), 16.4ms\n",
            "video 1/1 (frame 19040/19159) /content/drive/MyDrive/punches/yolov10/test2.mp4: 384x640 (no detections), 17.2ms\n",
            "video 1/1 (frame 19041/19159) /content/drive/MyDrive/punches/yolov10/test2.mp4: 384x640 (no detections), 16.5ms\n",
            "video 1/1 (frame 19042/19159) /content/drive/MyDrive/punches/yolov10/test2.mp4: 384x640 (no detections), 16.5ms\n",
            "video 1/1 (frame 19043/19159) /content/drive/MyDrive/punches/yolov10/test2.mp4: 384x640 (no detections), 16.5ms\n",
            "video 1/1 (frame 19044/19159) /content/drive/MyDrive/punches/yolov10/test2.mp4: 384x640 (no detections), 17.2ms\n",
            "video 1/1 (frame 19045/19159) /content/drive/MyDrive/punches/yolov10/test2.mp4: 384x640 (no detections), 27.8ms\n",
            "video 1/1 (frame 19046/19159) /content/drive/MyDrive/punches/yolov10/test2.mp4: 384x640 (no detections), 15.9ms\n",
            "video 1/1 (frame 19047/19159) /content/drive/MyDrive/punches/yolov10/test2.mp4: 384x640 (no detections), 16.4ms\n",
            "video 1/1 (frame 19048/19159) /content/drive/MyDrive/punches/yolov10/test2.mp4: 384x640 (no detections), 16.9ms\n",
            "video 1/1 (frame 19049/19159) /content/drive/MyDrive/punches/yolov10/test2.mp4: 384x640 (no detections), 21.0ms\n",
            "video 1/1 (frame 19050/19159) /content/drive/MyDrive/punches/yolov10/test2.mp4: 384x640 (no detections), 19.7ms\n",
            "video 1/1 (frame 19051/19159) /content/drive/MyDrive/punches/yolov10/test2.mp4: 384x640 (no detections), 18.8ms\n",
            "video 1/1 (frame 19052/19159) /content/drive/MyDrive/punches/yolov10/test2.mp4: 384x640 (no detections), 26.7ms\n",
            "video 1/1 (frame 19053/19159) /content/drive/MyDrive/punches/yolov10/test2.mp4: 384x640 (no detections), 21.6ms\n",
            "video 1/1 (frame 19054/19159) /content/drive/MyDrive/punches/yolov10/test2.mp4: 384x640 (no detections), 18.2ms\n",
            "video 1/1 (frame 19055/19159) /content/drive/MyDrive/punches/yolov10/test2.mp4: 384x640 (no detections), 18.8ms\n",
            "video 1/1 (frame 19056/19159) /content/drive/MyDrive/punches/yolov10/test2.mp4: 384x640 (no detections), 20.4ms\n",
            "video 1/1 (frame 19057/19159) /content/drive/MyDrive/punches/yolov10/test2.mp4: 384x640 (no detections), 18.4ms\n",
            "video 1/1 (frame 19058/19159) /content/drive/MyDrive/punches/yolov10/test2.mp4: 384x640 (no detections), 18.2ms\n",
            "video 1/1 (frame 19059/19159) /content/drive/MyDrive/punches/yolov10/test2.mp4: 384x640 (no detections), 18.7ms\n",
            "video 1/1 (frame 19060/19159) /content/drive/MyDrive/punches/yolov10/test2.mp4: 384x640 (no detections), 20.5ms\n",
            "video 1/1 (frame 19061/19159) /content/drive/MyDrive/punches/yolov10/test2.mp4: 384x640 (no detections), 18.1ms\n",
            "video 1/1 (frame 19062/19159) /content/drive/MyDrive/punches/yolov10/test2.mp4: 384x640 (no detections), 19.7ms\n",
            "video 1/1 (frame 19063/19159) /content/drive/MyDrive/punches/yolov10/test2.mp4: 384x640 (no detections), 21.9ms\n",
            "video 1/1 (frame 19064/19159) /content/drive/MyDrive/punches/yolov10/test2.mp4: 384x640 (no detections), 10.3ms\n",
            "video 1/1 (frame 19065/19159) /content/drive/MyDrive/punches/yolov10/test2.mp4: 384x640 (no detections), 10.0ms\n",
            "video 1/1 (frame 19066/19159) /content/drive/MyDrive/punches/yolov10/test2.mp4: 384x640 (no detections), 10.1ms\n",
            "video 1/1 (frame 19067/19159) /content/drive/MyDrive/punches/yolov10/test2.mp4: 384x640 (no detections), 11.0ms\n",
            "video 1/1 (frame 19068/19159) /content/drive/MyDrive/punches/yolov10/test2.mp4: 384x640 (no detections), 10.7ms\n",
            "video 1/1 (frame 19069/19159) /content/drive/MyDrive/punches/yolov10/test2.mp4: 384x640 (no detections), 11.0ms\n",
            "video 1/1 (frame 19070/19159) /content/drive/MyDrive/punches/yolov10/test2.mp4: 384x640 (no detections), 11.4ms\n",
            "video 1/1 (frame 19071/19159) /content/drive/MyDrive/punches/yolov10/test2.mp4: 384x640 (no detections), 10.6ms\n",
            "video 1/1 (frame 19072/19159) /content/drive/MyDrive/punches/yolov10/test2.mp4: 384x640 (no detections), 10.8ms\n",
            "video 1/1 (frame 19073/19159) /content/drive/MyDrive/punches/yolov10/test2.mp4: 384x640 (no detections), 10.8ms\n",
            "video 1/1 (frame 19074/19159) /content/drive/MyDrive/punches/yolov10/test2.mp4: 384x640 (no detections), 10.7ms\n",
            "video 1/1 (frame 19075/19159) /content/drive/MyDrive/punches/yolov10/test2.mp4: 384x640 (no detections), 10.9ms\n",
            "video 1/1 (frame 19076/19159) /content/drive/MyDrive/punches/yolov10/test2.mp4: 384x640 (no detections), 10.5ms\n",
            "video 1/1 (frame 19077/19159) /content/drive/MyDrive/punches/yolov10/test2.mp4: 384x640 (no detections), 10.1ms\n",
            "video 1/1 (frame 19078/19159) /content/drive/MyDrive/punches/yolov10/test2.mp4: 384x640 (no detections), 10.0ms\n",
            "video 1/1 (frame 19079/19159) /content/drive/MyDrive/punches/yolov10/test2.mp4: 384x640 (no detections), 10.7ms\n",
            "video 1/1 (frame 19080/19159) /content/drive/MyDrive/punches/yolov10/test2.mp4: 384x640 (no detections), 9.9ms\n",
            "video 1/1 (frame 19081/19159) /content/drive/MyDrive/punches/yolov10/test2.mp4: 384x640 (no detections), 10.8ms\n",
            "video 1/1 (frame 19082/19159) /content/drive/MyDrive/punches/yolov10/test2.mp4: 384x640 (no detections), 18.9ms\n",
            "video 1/1 (frame 19083/19159) /content/drive/MyDrive/punches/yolov10/test2.mp4: 384x640 (no detections), 10.3ms\n",
            "video 1/1 (frame 19084/19159) /content/drive/MyDrive/punches/yolov10/test2.mp4: 384x640 (no detections), 15.4ms\n",
            "video 1/1 (frame 19085/19159) /content/drive/MyDrive/punches/yolov10/test2.mp4: 384x640 (no detections), 11.1ms\n",
            "video 1/1 (frame 19086/19159) /content/drive/MyDrive/punches/yolov10/test2.mp4: 384x640 (no detections), 11.5ms\n",
            "video 1/1 (frame 19087/19159) /content/drive/MyDrive/punches/yolov10/test2.mp4: 384x640 (no detections), 11.7ms\n",
            "video 1/1 (frame 19088/19159) /content/drive/MyDrive/punches/yolov10/test2.mp4: 384x640 (no detections), 10.4ms\n",
            "video 1/1 (frame 19089/19159) /content/drive/MyDrive/punches/yolov10/test2.mp4: 384x640 (no detections), 10.1ms\n",
            "video 1/1 (frame 19090/19159) /content/drive/MyDrive/punches/yolov10/test2.mp4: 384x640 (no detections), 10.4ms\n",
            "video 1/1 (frame 19091/19159) /content/drive/MyDrive/punches/yolov10/test2.mp4: 384x640 (no detections), 10.1ms\n",
            "video 1/1 (frame 19092/19159) /content/drive/MyDrive/punches/yolov10/test2.mp4: 384x640 (no detections), 10.2ms\n",
            "video 1/1 (frame 19093/19159) /content/drive/MyDrive/punches/yolov10/test2.mp4: 384x640 (no detections), 10.2ms\n",
            "video 1/1 (frame 19094/19159) /content/drive/MyDrive/punches/yolov10/test2.mp4: 384x640 (no detections), 10.3ms\n",
            "video 1/1 (frame 19095/19159) /content/drive/MyDrive/punches/yolov10/test2.mp4: 384x640 (no detections), 14.1ms\n",
            "video 1/1 (frame 19096/19159) /content/drive/MyDrive/punches/yolov10/test2.mp4: 384x640 (no detections), 14.3ms\n",
            "video 1/1 (frame 19097/19159) /content/drive/MyDrive/punches/yolov10/test2.mp4: 384x640 (no detections), 16.9ms\n",
            "video 1/1 (frame 19098/19159) /content/drive/MyDrive/punches/yolov10/test2.mp4: 384x640 (no detections), 10.0ms\n",
            "video 1/1 (frame 19099/19159) /content/drive/MyDrive/punches/yolov10/test2.mp4: 384x640 (no detections), 10.2ms\n",
            "video 1/1 (frame 19100/19159) /content/drive/MyDrive/punches/yolov10/test2.mp4: 384x640 (no detections), 10.3ms\n",
            "video 1/1 (frame 19101/19159) /content/drive/MyDrive/punches/yolov10/test2.mp4: 384x640 (no detections), 9.8ms\n",
            "video 1/1 (frame 19102/19159) /content/drive/MyDrive/punches/yolov10/test2.mp4: 384x640 (no detections), 12.3ms\n",
            "video 1/1 (frame 19103/19159) /content/drive/MyDrive/punches/yolov10/test2.mp4: 384x640 (no detections), 10.3ms\n",
            "video 1/1 (frame 19104/19159) /content/drive/MyDrive/punches/yolov10/test2.mp4: 384x640 (no detections), 11.0ms\n",
            "video 1/1 (frame 19105/19159) /content/drive/MyDrive/punches/yolov10/test2.mp4: 384x640 (no detections), 10.0ms\n",
            "video 1/1 (frame 19106/19159) /content/drive/MyDrive/punches/yolov10/test2.mp4: 384x640 (no detections), 10.0ms\n",
            "video 1/1 (frame 19107/19159) /content/drive/MyDrive/punches/yolov10/test2.mp4: 384x640 (no detections), 10.5ms\n",
            "video 1/1 (frame 19108/19159) /content/drive/MyDrive/punches/yolov10/test2.mp4: 384x640 (no detections), 11.1ms\n",
            "video 1/1 (frame 19109/19159) /content/drive/MyDrive/punches/yolov10/test2.mp4: 384x640 (no detections), 11.2ms\n",
            "video 1/1 (frame 19110/19159) /content/drive/MyDrive/punches/yolov10/test2.mp4: 384x640 (no detections), 10.4ms\n",
            "video 1/1 (frame 19111/19159) /content/drive/MyDrive/punches/yolov10/test2.mp4: 384x640 (no detections), 9.9ms\n",
            "video 1/1 (frame 19112/19159) /content/drive/MyDrive/punches/yolov10/test2.mp4: 384x640 (no detections), 10.0ms\n",
            "video 1/1 (frame 19113/19159) /content/drive/MyDrive/punches/yolov10/test2.mp4: 384x640 (no detections), 14.1ms\n",
            "video 1/1 (frame 19114/19159) /content/drive/MyDrive/punches/yolov10/test2.mp4: 384x640 (no detections), 11.6ms\n",
            "video 1/1 (frame 19115/19159) /content/drive/MyDrive/punches/yolov10/test2.mp4: 384x640 (no detections), 11.0ms\n",
            "video 1/1 (frame 19116/19159) /content/drive/MyDrive/punches/yolov10/test2.mp4: 384x640 (no detections), 12.9ms\n",
            "video 1/1 (frame 19117/19159) /content/drive/MyDrive/punches/yolov10/test2.mp4: 384x640 (no detections), 10.9ms\n",
            "video 1/1 (frame 19118/19159) /content/drive/MyDrive/punches/yolov10/test2.mp4: 384x640 (no detections), 10.3ms\n",
            "video 1/1 (frame 19119/19159) /content/drive/MyDrive/punches/yolov10/test2.mp4: 384x640 (no detections), 10.9ms\n",
            "video 1/1 (frame 19120/19159) /content/drive/MyDrive/punches/yolov10/test2.mp4: 384x640 (no detections), 10.1ms\n",
            "video 1/1 (frame 19121/19159) /content/drive/MyDrive/punches/yolov10/test2.mp4: 384x640 (no detections), 10.0ms\n",
            "video 1/1 (frame 19122/19159) /content/drive/MyDrive/punches/yolov10/test2.mp4: 384x640 (no detections), 10.6ms\n",
            "video 1/1 (frame 19123/19159) /content/drive/MyDrive/punches/yolov10/test2.mp4: 384x640 (no detections), 10.2ms\n",
            "video 1/1 (frame 19124/19159) /content/drive/MyDrive/punches/yolov10/test2.mp4: 384x640 (no detections), 10.6ms\n",
            "video 1/1 (frame 19125/19159) /content/drive/MyDrive/punches/yolov10/test2.mp4: 384x640 (no detections), 11.1ms\n",
            "video 1/1 (frame 19126/19159) /content/drive/MyDrive/punches/yolov10/test2.mp4: 384x640 (no detections), 14.5ms\n",
            "video 1/1 (frame 19127/19159) /content/drive/MyDrive/punches/yolov10/test2.mp4: 384x640 (no detections), 10.8ms\n",
            "video 1/1 (frame 19128/19159) /content/drive/MyDrive/punches/yolov10/test2.mp4: 384x640 (no detections), 13.1ms\n",
            "video 1/1 (frame 19129/19159) /content/drive/MyDrive/punches/yolov10/test2.mp4: 384x640 (no detections), 10.6ms\n",
            "video 1/1 (frame 19130/19159) /content/drive/MyDrive/punches/yolov10/test2.mp4: 384x640 (no detections), 10.6ms\n",
            "video 1/1 (frame 19131/19159) /content/drive/MyDrive/punches/yolov10/test2.mp4: 384x640 (no detections), 12.4ms\n",
            "video 1/1 (frame 19132/19159) /content/drive/MyDrive/punches/yolov10/test2.mp4: 384x640 (no detections), 18.7ms\n",
            "video 1/1 (frame 19133/19159) /content/drive/MyDrive/punches/yolov10/test2.mp4: 384x640 (no detections), 11.5ms\n",
            "video 1/1 (frame 19134/19159) /content/drive/MyDrive/punches/yolov10/test2.mp4: 384x640 (no detections), 10.4ms\n",
            "video 1/1 (frame 19135/19159) /content/drive/MyDrive/punches/yolov10/test2.mp4: 384x640 (no detections), 10.2ms\n",
            "video 1/1 (frame 19136/19159) /content/drive/MyDrive/punches/yolov10/test2.mp4: 384x640 (no detections), 10.2ms\n",
            "video 1/1 (frame 19137/19159) /content/drive/MyDrive/punches/yolov10/test2.mp4: 384x640 (no detections), 10.4ms\n",
            "video 1/1 (frame 19138/19159) /content/drive/MyDrive/punches/yolov10/test2.mp4: 384x640 (no detections), 10.3ms\n",
            "video 1/1 (frame 19139/19159) /content/drive/MyDrive/punches/yolov10/test2.mp4: 384x640 (no detections), 10.0ms\n",
            "video 1/1 (frame 19140/19159) /content/drive/MyDrive/punches/yolov10/test2.mp4: 384x640 (no detections), 10.0ms\n",
            "video 1/1 (frame 19141/19159) /content/drive/MyDrive/punches/yolov10/test2.mp4: 384x640 (no detections), 10.3ms\n",
            "video 1/1 (frame 19142/19159) /content/drive/MyDrive/punches/yolov10/test2.mp4: 384x640 (no detections), 9.7ms\n",
            "video 1/1 (frame 19143/19159) /content/drive/MyDrive/punches/yolov10/test2.mp4: 384x640 (no detections), 9.9ms\n",
            "video 1/1 (frame 19144/19159) /content/drive/MyDrive/punches/yolov10/test2.mp4: 384x640 (no detections), 10.0ms\n",
            "video 1/1 (frame 19145/19159) /content/drive/MyDrive/punches/yolov10/test2.mp4: 384x640 (no detections), 11.0ms\n",
            "video 1/1 (frame 19146/19159) /content/drive/MyDrive/punches/yolov10/test2.mp4: 384x640 (no detections), 14.2ms\n",
            "video 1/1 (frame 19147/19159) /content/drive/MyDrive/punches/yolov10/test2.mp4: 384x640 (no detections), 10.0ms\n",
            "video 1/1 (frame 19148/19159) /content/drive/MyDrive/punches/yolov10/test2.mp4: 384x640 (no detections), 11.5ms\n",
            "video 1/1 (frame 19149/19159) /content/drive/MyDrive/punches/yolov10/test2.mp4: 384x640 (no detections), 9.7ms\n",
            "video 1/1 (frame 19150/19159) /content/drive/MyDrive/punches/yolov10/test2.mp4: 384x640 (no detections), 9.8ms\n",
            "video 1/1 (frame 19151/19159) /content/drive/MyDrive/punches/yolov10/test2.mp4: 384x640 (no detections), 10.1ms\n",
            "video 1/1 (frame 19152/19159) /content/drive/MyDrive/punches/yolov10/test2.mp4: 384x640 (no detections), 10.4ms\n",
            "video 1/1 (frame 19153/19159) /content/drive/MyDrive/punches/yolov10/test2.mp4: 384x640 (no detections), 10.1ms\n",
            "video 1/1 (frame 19154/19159) /content/drive/MyDrive/punches/yolov10/test2.mp4: 384x640 (no detections), 10.4ms\n",
            "video 1/1 (frame 19155/19159) /content/drive/MyDrive/punches/yolov10/test2.mp4: 384x640 (no detections), 10.2ms\n",
            "video 1/1 (frame 19156/19159) /content/drive/MyDrive/punches/yolov10/test2.mp4: 384x640 (no detections), 9.7ms\n",
            "video 1/1 (frame 19157/19159) /content/drive/MyDrive/punches/yolov10/test2.mp4: 384x640 (no detections), 10.4ms\n",
            "video 1/1 (frame 19158/19159) /content/drive/MyDrive/punches/yolov10/test2.mp4: 384x640 (no detections), 10.1ms\n",
            "video 1/1 (frame 19159/19159) /content/drive/MyDrive/punches/yolov10/test2.mp4: 384x640 (no detections), 10.9ms\n",
            "Speed: 1.3ms preprocess, 12.9ms inference, 0.4ms postprocess per image at shape (1, 3, 384, 640)\n",
            "Results saved to \u001b[1mruns/detect/predict2\u001b[0m\n",
            "💡 Learn more at https://docs.ultralytics.com/modes/predict\n"
          ]
        }
      ]
    },
    {
      "cell_type": "code",
      "source": [],
      "metadata": {
        "id": "9Dv9jyHBEbVh"
      },
      "execution_count": null,
      "outputs": []
    }
  ]
}