{
 "cells": [
  {
   "cell_type": "code",
   "execution_count": 9,
   "id": "9cc6c909-5678-4f49-b2e3-433a6c56354e",
   "metadata": {},
   "outputs": [],
   "source": [
    "import cv2\n",
    "import albumentations as A\n",
    "import os\n",
    "import numpy as np\n",
    "\n",
    "# Define augmentation pipeline\n",
    "augmentation_pipeline = A.Compose([\n",
    "    A.HorizontalFlip(p=0.5),\n",
    "    A.VerticalFlip(p=0.1),\n",
    "    A.Rotate(limit=20, p=0.5),\n",
    "    A.RandomBrightnessContrast(p=0.5),\n",
    "    A.HueSaturationValue(p=0.5),\n",
    "    A.RandomScale(scale_limit=0.2, p=0.5),\n",
    "    #A.RandomCrop(width=416, height=416, p=0.5)\n",
    "], bbox_params=A.BboxParams(format='yolo', label_fields=['class_labels']))\n"
   ]
  },
  {
   "cell_type": "code",
   "execution_count": 15,
   "id": "3083581d-2b2f-4e35-926a-70496328075f",
   "metadata": {},
   "outputs": [],
   "source": [
    "import shutil\n",
    "\n",
    "def augment_data(image_dir, label_dir, output_img_dir, output_label_dir, num_augmentations=6):\n",
    "    # Ensure output directories exist\n",
    "    os.makedirs(output_img_dir, exist_ok=True)\n",
    "    os.makedirs(output_label_dir, exist_ok=True)\n",
    "\n",
    "    # Loop through each image and label file\n",
    "    for image_filename in os.listdir(image_dir):\n",
    "        # Load image\n",
    "        image_path = os.path.join(image_dir, image_filename)\n",
    "        image = cv2.imread(image_path)\n",
    "\n",
    "        # Load corresponding label file\n",
    "        label_path = os.path.join(label_dir, image_filename.replace('.jpg', '.txt'))\n",
    "        with open(label_path, 'r') as f:\n",
    "            boxes = []\n",
    "            class_labels = []\n",
    "            for line in f.readlines():\n",
    "                values = line.strip().split()\n",
    "                class_id = int(values[0])\n",
    "                bbox = list(map(float, values[1:]))\n",
    "                boxes.append(bbox)\n",
    "                class_labels.append(class_id)\n",
    "\n",
    "        # Repeat augmentation `num_augmentations` times for each image\n",
    "        for i in range(num_augmentations):\n",
    "            augmented = augmentation_pipeline(image=image, bboxes=boxes, class_labels=class_labels)\n",
    "            aug_image = augmented['image']\n",
    "            aug_bboxes = augmented['bboxes']\n",
    "            aug_class_labels = augmented['class_labels']\n",
    "\n",
    "            # Save the augmented image\n",
    "            aug_image_filename = f\"{image_filename.split('.')[0]}_aug_{i}.jpg\"\n",
    "            aug_image_path = os.path.join(output_img_dir, aug_image_filename)\n",
    "            cv2.imwrite(aug_image_path, aug_image)\n",
    "\n",
    "            # Save the augmented label\n",
    "            aug_label_filename = aug_image_filename.replace('.jpg', '.txt')\n",
    "            aug_label_path = os.path.join(output_label_dir, aug_label_filename)\n",
    "            with open(aug_label_path, 'w') as label_file:\n",
    "                for label, bbox in zip(aug_class_labels, aug_bboxes):\n",
    "                    label_file.write(f\"{label} {' '.join(map(str, bbox))}\\n\")\n",
    "\n",
    "\n"
   ]
  },
  {
   "cell_type": "code",
   "execution_count": 17,
   "id": "349845c9-2a6b-45a7-9dc1-46d4d6a4ac23",
   "metadata": {},
   "outputs": [],
   "source": [
    "# Define paths\n",
    "augment_data(\n",
    "    image_dir='D:/Boxing dataset/frames',\n",
    "    label_dir='D:/Boxing dataset/labels',\n",
    "    output_img_dir='D:/Boxing dataset/augmented_frames',\n",
    "    output_label_dir='D:/Boxing dataset/augmented_labels',\n",
    "    num_augmentations=6\n",
    ")"
   ]
  },
  {
   "cell_type": "code",
   "execution_count": null,
   "id": "91df00ed-b61b-41db-b987-cb256455a823",
   "metadata": {},
   "outputs": [],
   "source": []
  }
 ],
 "metadata": {
  "kernelspec": {
   "display_name": "Python 3 (ipykernel)",
   "language": "python",
   "name": "python3"
  },
  "language_info": {
   "codemirror_mode": {
    "name": "ipython",
    "version": 3
   },
   "file_extension": ".py",
   "mimetype": "text/x-python",
   "name": "python",
   "nbconvert_exporter": "python",
   "pygments_lexer": "ipython3",
   "version": "3.12.4"
  }
 },
 "nbformat": 4,
 "nbformat_minor": 5
}
